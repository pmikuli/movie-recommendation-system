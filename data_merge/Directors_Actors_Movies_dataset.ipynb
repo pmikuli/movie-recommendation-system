{
 "cells": [
  {
   "cell_type": "code",
   "execution_count": 1,
   "id": "initial_id",
   "metadata": {
    "collapsed": true,
    "ExecuteTime": {
     "end_time": "2025-03-29T13:04:03.303812Z",
     "start_time": "2025-03-29T13:04:02.731059Z"
    }
   },
   "outputs": [],
   "source": [
    "import pandas as pd"
   ]
  },
  {
   "cell_type": "code",
   "outputs": [
    {
     "name": "stdout",
     "output_type": "stream",
     "text": [
      "<class 'pandas.core.frame.DataFrame'>\n",
      "RangeIndex: 86493 entries, 0 to 86492\n",
      "Data columns (total 25 columns):\n",
      " #   Column                Non-Null Count  Dtype  \n",
      "---  ------                --------------  -----  \n",
      " 0   id                    86493 non-null  int64  \n",
      " 1   title                 86493 non-null  object \n",
      " 2   vote_average          86493 non-null  float64\n",
      " 3   vote_count            86493 non-null  int64  \n",
      " 4   status                86493 non-null  object \n",
      " 5   release_date          86427 non-null  object \n",
      " 6   revenue               86493 non-null  int64  \n",
      " 7   runtime               86493 non-null  int64  \n",
      " 8   adult                 86493 non-null  bool   \n",
      " 9   backdrop_path         70442 non-null  object \n",
      " 10  budget                86493 non-null  int64  \n",
      " 11  homepage              17774 non-null  object \n",
      " 12  imdb_id               86467 non-null  object \n",
      " 13  original_language     86493 non-null  object \n",
      " 14  original_title        86493 non-null  object \n",
      " 15  overview              85667 non-null  object \n",
      " 16  popularity            86493 non-null  float64\n",
      " 17  poster_path           84365 non-null  object \n",
      " 18  tagline               39734 non-null  object \n",
      " 19  genres                84921 non-null  object \n",
      " 20  production_companies  72731 non-null  object \n",
      " 21  production_countries  79796 non-null  object \n",
      " 22  spoken_languages      82403 non-null  object \n",
      " 23  keywords              60235 non-null  object \n",
      " 24  movieId               86493 non-null  int64  \n",
      "dtypes: bool(1), float64(2), int64(6), object(16)\n",
      "memory usage: 15.9+ MB\n"
     ]
    }
   ],
   "source": [
    "df_movies = pd.read_csv(\"Movies_all.csv\")\n",
    "df_movies.info()"
   ],
   "metadata": {
    "collapsed": false,
    "ExecuteTime": {
     "end_time": "2025-03-29T14:19:29.579331Z",
     "start_time": "2025-03-29T14:19:28.017462Z"
    }
   },
   "id": "58860f3536d8bb79",
   "execution_count": 16
  },
  {
   "cell_type": "code",
   "outputs": [],
   "source": [
    "df_crew = pd.read_csv(\n",
    "    \"Crew_dataset.gz\",\n",
    "    sep=\"\\t\",\n",
    "    na_values=\"\\\\N\",\n",
    "    usecols=[\"tconst\", \"directors\"]\n",
    ")"
   ],
   "metadata": {
    "collapsed": false,
    "ExecuteTime": {
     "end_time": "2025-03-29T13:04:13.390571Z",
     "start_time": "2025-03-29T13:04:04.546402Z"
    }
   },
   "id": "3cf22f264c9fba39",
   "execution_count": 3
  },
  {
   "cell_type": "code",
   "outputs": [],
   "source": [
    "df_name = pd.read_csv(\n",
    "    \"Basic_names_crew_dataset.gz\",\n",
    "    sep=\"\\t\",\n",
    "    na_values=\"\\\\N\",\n",
    "    usecols=[\"nconst\", \"primaryName\"]\n",
    ")"
   ],
   "metadata": {
    "collapsed": false,
    "ExecuteTime": {
     "end_time": "2025-03-29T13:04:34.583750Z",
     "start_time": "2025-03-29T13:04:13.391571Z"
    }
   },
   "id": "8f700e3cdd0ba405",
   "execution_count": 4
  },
  {
   "cell_type": "code",
   "outputs": [],
   "source": [
    "df_principals = pd.read_csv(\n",
    "    \"title.principals.tsv.gz\",\n",
    "    sep=\"\\t\",\n",
    "    na_values=\"\\\\N\",\n",
    "    usecols=[\"tconst\", \"ordering\", \"nconst\", \"category\"]\n",
    ")"
   ],
   "metadata": {
    "collapsed": false,
    "ExecuteTime": {
     "end_time": "2025-03-29T13:05:44.538041Z",
     "start_time": "2025-03-29T13:04:34.586714Z"
    }
   },
   "id": "ba9e76e72a9972c0",
   "execution_count": 5
  },
  {
   "cell_type": "code",
   "outputs": [],
   "source": [
    "df_crew = df_crew.dropna(subset=[\"directors\"]).copy()\n",
    "df_crew[\"directors\"] = df_crew[\"directors\"].str.split(\",\")\n",
    "\n",
    "# Exploding records\n",
    "df_directors = df_crew.explode(\"directors\").rename(columns={\"directors\": \"nconst\"})\n",
    "\n",
    "# Merge\n",
    "df_directors = df_directors.merge(df_name, on=\"nconst\", how=\"inner\")\n",
    "\n",
    "# Combing, as multiple outputs\n",
    "df_directors_grouped = (\n",
    "    df_directors\n",
    "    .groupby(\"tconst\", as_index=False)\n",
    "    .agg({\"primaryName\": lambda x: \", \".join(x.dropna().unique())})\n",
    "    .rename(columns={\"primaryName\": \"Directors\"})\n",
    ")"
   ],
   "metadata": {
    "collapsed": false,
    "ExecuteTime": {
     "end_time": "2025-03-29T13:19:30.923503Z",
     "start_time": "2025-03-29T13:05:44.540015Z"
    }
   },
   "id": "7e2f6eae368df105",
   "execution_count": 6
  },
  {
   "cell_type": "code",
   "outputs": [],
   "source": [
    "# Filter title.principals for rows where category is \"actor\" or \"actress\"\n",
    "df_cast = df_principals[\n",
    "    df_principals[\"category\"].isin([\"actor\", \"actress\"])\n",
    "].copy()\n",
    "\n",
    "df_cast = df_cast.merge(df_name, on=\"nconst\", how=\"inner\")\n",
    "\n",
    "df_cast_grouped = (\n",
    "    df_cast\n",
    "    .groupby(\"tconst\", as_index=False)\n",
    "    .agg({\"primaryName\": lambda x: \", \".join(x.dropna().unique())})\n",
    "    .rename(columns={\"primaryName\": \"Cast\"})\n",
    ")"
   ],
   "metadata": {
    "collapsed": false,
    "ExecuteTime": {
     "end_time": "2025-03-29T13:32:38.930926Z",
     "start_time": "2025-03-29T13:19:30.924505Z"
    }
   },
   "id": "54f9a9965f884b5d",
   "execution_count": 7
  },
  {
   "cell_type": "code",
   "outputs": [],
   "source": [
    "df_cast[\"ordering\"] = pd.to_numeric(df_cast[\"ordering\"], errors=\"coerce\")\n",
    "df_cast.sort_values([\"tconst\", \"ordering\"], inplace=True)\n",
    "\n",
    "# First 3 members matter, validation of a star (who is mentioned first) of the movie\n",
    "df_top3 = df_cast.groupby(\"tconst\").head(3).copy()\n",
    "\n",
    "df_star_grouped = (\n",
    "    df_top3\n",
    "    .groupby(\"tconst\", as_index=False)\n",
    "    .agg({\"primaryName\": lambda x: \", \".join(x.dropna().unique())})\n",
    "    .rename(columns={\"primaryName\": \"StarActors\"})\n",
    ")"
   ],
   "metadata": {
    "collapsed": false,
    "ExecuteTime": {
     "end_time": "2025-03-29T13:45:23.570595Z",
     "start_time": "2025-03-29T13:32:38.932914Z"
    }
   },
   "id": "ba2fd8c2c5d4a7f6",
   "execution_count": 8
  },
  {
   "cell_type": "code",
   "outputs": [],
   "source": [
    "df_dir_cast = df_directors_grouped.merge(df_cast_grouped, on=\"tconst\", how=\"inner\")\n",
    "df_dir_cast_star = df_dir_cast.merge(df_star_grouped, on=\"tconst\", how=\"inner\")"
   ],
   "metadata": {
    "collapsed": false,
    "ExecuteTime": {
     "end_time": "2025-03-29T13:45:28.760865Z",
     "start_time": "2025-03-29T13:45:23.571594Z"
    }
   },
   "id": "ec3cffff3c4ac641",
   "execution_count": 9
  },
  {
   "cell_type": "code",
   "outputs": [],
   "source": [
    "df_final = df_movies.merge(\n",
    "    df_dir_cast_star,\n",
    "    left_on=\"imdb_id\",\n",
    "    right_on=\"tconst\",\n",
    "    how=\"inner\"\n",
    ")"
   ],
   "metadata": {
    "collapsed": false,
    "ExecuteTime": {
     "end_time": "2025-03-29T13:45:32.106893Z",
     "start_time": "2025-03-29T13:45:28.762826Z"
    }
   },
   "id": "315d109441a5ae4",
   "execution_count": 10
  },
  {
   "cell_type": "code",
   "outputs": [],
   "source": [
    "columns_to_drop = [\"tconst\", \"nconst\", \"category\", \"ordering\"]\n",
    "for col in columns_to_drop:\n",
    "    if col in df_final.columns:\n",
    "        df_final.drop(columns=[col], inplace=True)"
   ],
   "metadata": {
    "collapsed": false,
    "ExecuteTime": {
     "end_time": "2025-03-29T13:45:32.156897Z",
     "start_time": "2025-03-29T13:45:32.107913Z"
    }
   },
   "id": "83de789b033d07d0",
   "execution_count": 11
  },
  {
   "cell_type": "code",
   "outputs": [
    {
     "data": {
      "text/plain": "       id            title  vote_average  vote_count    status release_date  \\\n0   27205        Inception         8.364       34495  Released   2010-07-15   \n1  157336     Interstellar         8.417       32571  Released   2014-11-05   \n2     155  The Dark Knight         8.512       30619  Released   2008-07-16   \n3   19995           Avatar         7.573       29815  Released   2009-12-15   \n4   24428     The Avengers         7.710       29166  Released   2012-04-25   \n\n      revenue  runtime  adult                     backdrop_path  ...  \\\n0   825532764      148  False  /8ZTVqvKDQ8emSGUEMjsS4yHAwrp.jpg  ...   \n1   701729206      169  False  /pbrkL804c8yAv3zBZR4QPEafpAR.jpg  ...   \n2  1004558444      152  False  /nMKdUUepR0i5zn0y1T4CsSB5chy.jpg  ...   \n3  2923706026      162  False  /vL5LR6WdxWPjLPFRLe133jXWsh5.jpg  ...   \n4  1518815515      143  False  /9BBTo63ANSmhC4e6r62OJFuK2GL.jpg  ...   \n\n                                             tagline  \\\n0               Your mind is the scene of the crime.   \n1  Mankind was born on Earth. It was never meant ...   \n2                  Welcome to a world without rules.   \n3                        Enter the world of Pandora.   \n4                            Some assembly required.   \n\n                                        genres  \\\n0           Action, Science Fiction, Adventure   \n1            Adventure, Drama, Science Fiction   \n2               Drama, Action, Crime, Thriller   \n3  Action, Adventure, Fantasy, Science Fiction   \n4           Science Fiction, Action, Adventure   \n\n                                production_companies  \\\n0  Legendary Pictures, Syncopy, Warner Bros. Pict...   \n1  Legendary Pictures, Syncopy, Lynda Obst Produc...   \n2  DC Comics, Legendary Pictures, Syncopy, Isobel...   \n3  Dune Entertainment, Lightstorm Entertainment, ...   \n4                                     Marvel Studios   \n\n                       production_countries  \\\n0  United Kingdom, United States of America   \n1  United Kingdom, United States of America   \n2  United Kingdom, United States of America   \n3  United States of America, United Kingdom   \n4                  United States of America   \n\n                     spoken_languages  \\\n0  English, French, Japanese, Swahili   \n1                             English   \n2                   English, Mandarin   \n3                    English, Spanish   \n4             English, Hindi, Russian   \n\n                                            keywords  movieId  \\\n0  rescue, mission, dream, airplane, paris, franc...    79132   \n1  rescue, future, spacecraft, race against time,...   109487   \n2  joker, sadism, chaos, secret identity, crime f...    58559   \n3  future, society, culture clash, space travel, ...    72998   \n4  new york city, superhero, shield, based on com...    89745   \n\n           Directors                                               Cast  \\\n0  Christopher Nolan  Leonardo DiCaprio, Joseph Gordon-Levitt, Ellio...   \n1  Christopher Nolan  Matthew McConaughey, Anne Hathaway, Jessica Ch...   \n2  Christopher Nolan  Christian Bale, Heath Ledger, Aaron Eckhart, M...   \n3      James Cameron  Sam Worthington, Zoe Saldaña, Sigourney Weaver...   \n4        Joss Whedon  Robert Downey Jr., Chris Evans, Scarlett Johan...   \n\n                                          StarActors  \n0  Leonardo DiCaprio, Joseph Gordon-Levitt, Ellio...  \n1  Matthew McConaughey, Anne Hathaway, Jessica Ch...  \n2        Christian Bale, Heath Ledger, Aaron Eckhart  \n3     Sam Worthington, Zoe Saldaña, Sigourney Weaver  \n4                     Robert Downey Jr., Chris Evans  \n\n[5 rows x 28 columns]",
      "text/html": "<div>\n<style scoped>\n    .dataframe tbody tr th:only-of-type {\n        vertical-align: middle;\n    }\n\n    .dataframe tbody tr th {\n        vertical-align: top;\n    }\n\n    .dataframe thead th {\n        text-align: right;\n    }\n</style>\n<table border=\"1\" class=\"dataframe\">\n  <thead>\n    <tr style=\"text-align: right;\">\n      <th></th>\n      <th>id</th>\n      <th>title</th>\n      <th>vote_average</th>\n      <th>vote_count</th>\n      <th>status</th>\n      <th>release_date</th>\n      <th>revenue</th>\n      <th>runtime</th>\n      <th>adult</th>\n      <th>backdrop_path</th>\n      <th>...</th>\n      <th>tagline</th>\n      <th>genres</th>\n      <th>production_companies</th>\n      <th>production_countries</th>\n      <th>spoken_languages</th>\n      <th>keywords</th>\n      <th>movieId</th>\n      <th>Directors</th>\n      <th>Cast</th>\n      <th>StarActors</th>\n    </tr>\n  </thead>\n  <tbody>\n    <tr>\n      <th>0</th>\n      <td>27205</td>\n      <td>Inception</td>\n      <td>8.364</td>\n      <td>34495</td>\n      <td>Released</td>\n      <td>2010-07-15</td>\n      <td>825532764</td>\n      <td>148</td>\n      <td>False</td>\n      <td>/8ZTVqvKDQ8emSGUEMjsS4yHAwrp.jpg</td>\n      <td>...</td>\n      <td>Your mind is the scene of the crime.</td>\n      <td>Action, Science Fiction, Adventure</td>\n      <td>Legendary Pictures, Syncopy, Warner Bros. Pict...</td>\n      <td>United Kingdom, United States of America</td>\n      <td>English, French, Japanese, Swahili</td>\n      <td>rescue, mission, dream, airplane, paris, franc...</td>\n      <td>79132</td>\n      <td>Christopher Nolan</td>\n      <td>Leonardo DiCaprio, Joseph Gordon-Levitt, Ellio...</td>\n      <td>Leonardo DiCaprio, Joseph Gordon-Levitt, Ellio...</td>\n    </tr>\n    <tr>\n      <th>1</th>\n      <td>157336</td>\n      <td>Interstellar</td>\n      <td>8.417</td>\n      <td>32571</td>\n      <td>Released</td>\n      <td>2014-11-05</td>\n      <td>701729206</td>\n      <td>169</td>\n      <td>False</td>\n      <td>/pbrkL804c8yAv3zBZR4QPEafpAR.jpg</td>\n      <td>...</td>\n      <td>Mankind was born on Earth. It was never meant ...</td>\n      <td>Adventure, Drama, Science Fiction</td>\n      <td>Legendary Pictures, Syncopy, Lynda Obst Produc...</td>\n      <td>United Kingdom, United States of America</td>\n      <td>English</td>\n      <td>rescue, future, spacecraft, race against time,...</td>\n      <td>109487</td>\n      <td>Christopher Nolan</td>\n      <td>Matthew McConaughey, Anne Hathaway, Jessica Ch...</td>\n      <td>Matthew McConaughey, Anne Hathaway, Jessica Ch...</td>\n    </tr>\n    <tr>\n      <th>2</th>\n      <td>155</td>\n      <td>The Dark Knight</td>\n      <td>8.512</td>\n      <td>30619</td>\n      <td>Released</td>\n      <td>2008-07-16</td>\n      <td>1004558444</td>\n      <td>152</td>\n      <td>False</td>\n      <td>/nMKdUUepR0i5zn0y1T4CsSB5chy.jpg</td>\n      <td>...</td>\n      <td>Welcome to a world without rules.</td>\n      <td>Drama, Action, Crime, Thriller</td>\n      <td>DC Comics, Legendary Pictures, Syncopy, Isobel...</td>\n      <td>United Kingdom, United States of America</td>\n      <td>English, Mandarin</td>\n      <td>joker, sadism, chaos, secret identity, crime f...</td>\n      <td>58559</td>\n      <td>Christopher Nolan</td>\n      <td>Christian Bale, Heath Ledger, Aaron Eckhart, M...</td>\n      <td>Christian Bale, Heath Ledger, Aaron Eckhart</td>\n    </tr>\n    <tr>\n      <th>3</th>\n      <td>19995</td>\n      <td>Avatar</td>\n      <td>7.573</td>\n      <td>29815</td>\n      <td>Released</td>\n      <td>2009-12-15</td>\n      <td>2923706026</td>\n      <td>162</td>\n      <td>False</td>\n      <td>/vL5LR6WdxWPjLPFRLe133jXWsh5.jpg</td>\n      <td>...</td>\n      <td>Enter the world of Pandora.</td>\n      <td>Action, Adventure, Fantasy, Science Fiction</td>\n      <td>Dune Entertainment, Lightstorm Entertainment, ...</td>\n      <td>United States of America, United Kingdom</td>\n      <td>English, Spanish</td>\n      <td>future, society, culture clash, space travel, ...</td>\n      <td>72998</td>\n      <td>James Cameron</td>\n      <td>Sam Worthington, Zoe Saldaña, Sigourney Weaver...</td>\n      <td>Sam Worthington, Zoe Saldaña, Sigourney Weaver</td>\n    </tr>\n    <tr>\n      <th>4</th>\n      <td>24428</td>\n      <td>The Avengers</td>\n      <td>7.710</td>\n      <td>29166</td>\n      <td>Released</td>\n      <td>2012-04-25</td>\n      <td>1518815515</td>\n      <td>143</td>\n      <td>False</td>\n      <td>/9BBTo63ANSmhC4e6r62OJFuK2GL.jpg</td>\n      <td>...</td>\n      <td>Some assembly required.</td>\n      <td>Science Fiction, Action, Adventure</td>\n      <td>Marvel Studios</td>\n      <td>United States of America</td>\n      <td>English, Hindi, Russian</td>\n      <td>new york city, superhero, shield, based on com...</td>\n      <td>89745</td>\n      <td>Joss Whedon</td>\n      <td>Robert Downey Jr., Chris Evans, Scarlett Johan...</td>\n      <td>Robert Downey Jr., Chris Evans</td>\n    </tr>\n  </tbody>\n</table>\n<p>5 rows × 28 columns</p>\n</div>"
     },
     "execution_count": 15,
     "metadata": {},
     "output_type": "execute_result"
    }
   ],
   "source": [
    "df_final.head()\n",
    "df_final.to_csv(\"Movies_with_cast.csv\", index=False)\n"
   ],
   "metadata": {
    "collapsed": false,
    "ExecuteTime": {
     "end_time": "2025-03-29T14:18:57.145558Z",
     "start_time": "2025-03-29T14:18:57.126406Z"
    }
   },
   "id": "4366d68da1441ad0",
   "execution_count": 15
  },
  {
   "cell_type": "code",
   "outputs": [],
   "source": [],
   "metadata": {
    "collapsed": false
   },
   "id": "bfa3099b0b0847b1"
  }
 ],
 "metadata": {
  "kernelspec": {
   "display_name": "Python 3",
   "language": "python",
   "name": "python3"
  },
  "language_info": {
   "codemirror_mode": {
    "name": "ipython",
    "version": 2
   },
   "file_extension": ".py",
   "mimetype": "text/x-python",
   "name": "python",
   "nbconvert_exporter": "python",
   "pygments_lexer": "ipython2",
   "version": "2.7.6"
  }
 },
 "nbformat": 4,
 "nbformat_minor": 5
}
