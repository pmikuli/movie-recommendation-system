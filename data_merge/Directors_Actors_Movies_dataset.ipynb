{
 "cells": [
  {
   "cell_type": "code",
   "execution_count": 2,
   "id": "initial_id",
   "metadata": {
    "collapsed": true,
    "ExecuteTime": {
     "end_time": "2025-03-30T20:58:45.512301Z",
     "start_time": "2025-03-30T20:58:43.919656Z"
    }
   },
   "outputs": [],
   "source": [
    "import pandas as pd"
   ]
  },
  {
   "cell_type": "code",
   "outputs": [
    {
     "name": "stdout",
     "output_type": "stream",
     "text": [
      "<class 'pandas.core.frame.DataFrame'>\n",
      "RangeIndex: 86493 entries, 0 to 86492\n",
      "Data columns (total 25 columns):\n",
      " #   Column                Non-Null Count  Dtype  \n",
      "---  ------                --------------  -----  \n",
      " 0   id                    86493 non-null  int64  \n",
      " 1   title                 86493 non-null  object \n",
      " 2   vote_average          86493 non-null  float64\n",
      " 3   vote_count            86493 non-null  int64  \n",
      " 4   status                86493 non-null  object \n",
      " 5   release_date          86427 non-null  object \n",
      " 6   revenue               86493 non-null  int64  \n",
      " 7   runtime               86493 non-null  int64  \n",
      " 8   adult                 86493 non-null  bool   \n",
      " 9   backdrop_path         70442 non-null  object \n",
      " 10  budget                86493 non-null  int64  \n",
      " 11  homepage              17774 non-null  object \n",
      " 12  imdb_id               86467 non-null  object \n",
      " 13  original_language     86493 non-null  object \n",
      " 14  original_title        86493 non-null  object \n",
      " 15  overview              85667 non-null  object \n",
      " 16  popularity            86493 non-null  float64\n",
      " 17  poster_path           84365 non-null  object \n",
      " 18  tagline               39734 non-null  object \n",
      " 19  genres                84921 non-null  object \n",
      " 20  production_companies  72731 non-null  object \n",
      " 21  production_countries  79796 non-null  object \n",
      " 22  spoken_languages      82403 non-null  object \n",
      " 23  keywords              60235 non-null  object \n",
      " 24  movieId               86493 non-null  int64  \n",
      "dtypes: bool(1), float64(2), int64(6), object(16)\n",
      "memory usage: 15.9+ MB\n"
     ]
    }
   ],
   "source": [
    "df_movies = pd.read_csv(\"Movies_all.csv\")\n",
    "df_movies.info()"
   ],
   "metadata": {
    "collapsed": false,
    "ExecuteTime": {
     "end_time": "2025-03-30T20:58:46.990041Z",
     "start_time": "2025-03-30T20:58:45.514263Z"
    }
   },
   "id": "58860f3536d8bb79",
   "execution_count": 3
  },
  {
   "cell_type": "code",
   "outputs": [],
   "source": [
    "df_crew = pd.read_csv(\n",
    "    \"Crew_dataset.gz\",\n",
    "    sep=\"\\t\",\n",
    "    na_values=\"\\\\N\",\n",
    "    usecols=[\"tconst\", \"directors\"]\n",
    ")"
   ],
   "metadata": {
    "collapsed": false,
    "ExecuteTime": {
     "end_time": "2025-03-30T20:58:56.840085Z",
     "start_time": "2025-03-30T20:58:46.992004Z"
    }
   },
   "id": "3cf22f264c9fba39",
   "execution_count": 4
  },
  {
   "cell_type": "code",
   "outputs": [],
   "source": [
    "df_name = pd.read_csv(\n",
    "    \"Basic_names_crew_dataset.gz\",\n",
    "    sep=\"\\t\",\n",
    "    na_values=\"\\\\N\",\n",
    "    usecols=[\"nconst\", \"primaryName\"]\n",
    ")"
   ],
   "metadata": {
    "collapsed": false,
    "ExecuteTime": {
     "end_time": "2025-03-30T20:59:17.426665Z",
     "start_time": "2025-03-30T20:58:56.842044Z"
    }
   },
   "id": "8f700e3cdd0ba405",
   "execution_count": 5
  },
  {
   "cell_type": "code",
   "outputs": [],
   "source": [
    "df_principals = pd.read_csv(\n",
    "    \"title.principals.tsv.gz\",\n",
    "    sep=\"\\t\",\n",
    "    na_values=\"\\\\N\",\n",
    "    usecols=[\"tconst\", \"ordering\", \"nconst\", \"category\"]\n",
    ")"
   ],
   "metadata": {
    "collapsed": false,
    "ExecuteTime": {
     "end_time": "2025-03-30T21:00:33.448817Z",
     "start_time": "2025-03-30T20:59:17.427651Z"
    }
   },
   "id": "ba9e76e72a9972c0",
   "execution_count": 6
  },
  {
   "cell_type": "code",
   "outputs": [],
   "source": [
    "df_crew = df_crew.dropna(subset=[\"directors\"]).copy()\n",
    "df_crew[\"directors\"] = df_crew[\"directors\"].str.split(\",\")\n",
    "\n",
    "# Exploding records\n",
    "df_directors = df_crew.explode(\"directors\").rename(columns={\"directors\": \"nconst\"})\n",
    "\n",
    "# Merge\n",
    "df_directors = df_directors.merge(df_name, on=\"nconst\", how=\"inner\")\n",
    "\n",
    "# Combing, as multiple outputs\n",
    "df_directors_grouped = (\n",
    "    df_directors\n",
    "    .groupby(\"tconst\", as_index=False)\n",
    "    .agg({\"primaryName\": lambda x: \", \".join(x.dropna().unique())})\n",
    "    .rename(columns={\"primaryName\": \"Directors\"})\n",
    ")"
   ],
   "metadata": {
    "collapsed": false,
    "ExecuteTime": {
     "end_time": "2025-03-30T21:15:43.644543Z",
     "start_time": "2025-03-30T21:00:33.450779Z"
    }
   },
   "id": "7e2f6eae368df105",
   "execution_count": 7
  },
  {
   "cell_type": "code",
   "outputs": [],
   "source": [
    "# Filter title.principals for rows where category is \"actor\" or \"actress\"\n",
    "df_cast = df_principals[\n",
    "    df_principals[\"category\"].isin([\"actor\", \"actress\"])\n",
    "].copy()\n",
    "\n",
    "df_cast = df_cast.merge(df_name, on=\"nconst\", how=\"inner\")\n",
    "\n",
    "df_cast_grouped = (\n",
    "    df_cast\n",
    "    .groupby(\"tconst\", as_index=False)\n",
    "    .agg({\"primaryName\": lambda x: \", \".join(x.dropna().unique())})\n",
    "    .rename(columns={\"primaryName\": \"Cast\"})\n",
    ")"
   ],
   "metadata": {
    "collapsed": false,
    "ExecuteTime": {
     "end_time": "2025-03-30T21:30:41.474329Z",
     "start_time": "2025-03-30T21:15:43.647474Z"
    }
   },
   "id": "54f9a9965f884b5d",
   "execution_count": 8
  },
  {
   "cell_type": "code",
   "outputs": [],
   "source": [
    "df_cast[\"ordering\"] = pd.to_numeric(df_cast[\"ordering\"], errors=\"coerce\")\n",
    "df_cast.sort_values([\"tconst\", \"ordering\"], inplace=True)\n",
    "\n",
    "# First 3 members matter, validation of a star (who is mentioned first) of the movie\n",
    "df_top3 = df_cast.groupby(\"tconst\").head(3).copy()\n",
    "\n",
    "df_star_grouped = (\n",
    "    df_top3\n",
    "    .groupby(\"tconst\", as_index=False)\n",
    "    .agg({\"primaryName\": lambda x: \", \".join(x.dropna().unique())})\n",
    "    .rename(columns={\"primaryName\": \"StarActors\"})\n",
    ")"
   ],
   "metadata": {
    "collapsed": false,
    "ExecuteTime": {
     "end_time": "2025-03-30T21:43:52.972675Z",
     "start_time": "2025-03-30T21:30:41.475285Z"
    }
   },
   "id": "ba2fd8c2c5d4a7f6",
   "execution_count": 9
  },
  {
   "cell_type": "code",
   "outputs": [],
   "source": [
    "df_dir_cast = df_directors_grouped.merge(df_cast_grouped, on=\"tconst\", how=\"inner\")\n",
    "df_dir_cast_star = df_dir_cast.merge(df_star_grouped, on=\"tconst\", how=\"inner\")"
   ],
   "metadata": {
    "collapsed": false,
    "ExecuteTime": {
     "end_time": "2025-03-30T21:43:58.720948Z",
     "start_time": "2025-03-30T21:43:52.973653Z"
    }
   },
   "id": "ec3cffff3c4ac641",
   "execution_count": 10
  },
  {
   "cell_type": "code",
   "outputs": [],
   "source": [
    "df_final = df_movies.merge(\n",
    "    df_dir_cast_star,\n",
    "    left_on=\"imdb_id\",\n",
    "    right_on=\"tconst\",\n",
    "    how=\"left\"\n",
    ")"
   ],
   "metadata": {
    "collapsed": false,
    "ExecuteTime": {
     "end_time": "2025-03-30T21:44:02.358914Z",
     "start_time": "2025-03-30T21:43:58.724839Z"
    }
   },
   "id": "315d109441a5ae4",
   "execution_count": 11
  },
  {
   "cell_type": "code",
   "outputs": [],
   "source": [
    "columns_to_drop = [\"tconst\", \"nconst\", \"category\", \"ordering\"]\n",
    "for col in columns_to_drop:\n",
    "    if col in df_final.columns:\n",
    "        df_final.drop(columns=[col], inplace=True)"
   ],
   "metadata": {
    "collapsed": false,
    "ExecuteTime": {
     "end_time": "2025-03-30T21:44:02.417866Z",
     "start_time": "2025-03-30T21:44:02.359904Z"
    }
   },
   "id": "83de789b033d07d0",
   "execution_count": 12
  },
  {
   "cell_type": "code",
   "outputs": [],
   "source": [
    "df_final.head()\n",
    "df_final.to_csv(\"Movies_final.csv\", index=False)\n"
   ],
   "metadata": {
    "collapsed": false,
    "ExecuteTime": {
     "end_time": "2025-03-30T21:44:04.529499Z",
     "start_time": "2025-03-30T21:44:02.418794Z"
    }
   },
   "id": "4366d68da1441ad0",
   "execution_count": 13
  },
  {
   "cell_type": "code",
   "outputs": [],
   "source": [],
   "metadata": {
    "collapsed": false,
    "ExecuteTime": {
     "end_time": "2025-03-30T21:44:04.533996Z",
     "start_time": "2025-03-30T21:44:04.530991Z"
    }
   },
   "id": "bfa3099b0b0847b1",
   "execution_count": 13
  }
 ],
 "metadata": {
  "kernelspec": {
   "display_name": "Python 3",
   "language": "python",
   "name": "python3"
  },
  "language_info": {
   "codemirror_mode": {
    "name": "ipython",
    "version": 2
   },
   "file_extension": ".py",
   "mimetype": "text/x-python",
   "name": "python",
   "nbconvert_exporter": "python",
   "pygments_lexer": "ipython2",
   "version": "2.7.6"
  }
 },
 "nbformat": 4,
 "nbformat_minor": 5
}
