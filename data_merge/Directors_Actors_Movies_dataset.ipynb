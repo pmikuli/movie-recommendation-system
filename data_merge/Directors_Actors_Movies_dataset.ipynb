{
 "cells": [
  {
   "cell_type": "code",
   "id": "initial_id",
   "metadata": {
    "collapsed": true,
    "ExecuteTime": {
     "end_time": "2025-07-21T15:40:36.239572Z",
     "start_time": "2025-07-21T15:40:36.223899Z"
    }
   },
   "source": [
    "import pandas as pd"
   ],
   "outputs": [],
   "execution_count": 4
  },
  {
   "cell_type": "code",
   "source": [
    "df_movies = pd.read_csv(\"Movies_all_ML.csv\")\n",
    "df_movies.info()"
   ],
   "metadata": {
    "collapsed": false,
    "ExecuteTime": {
     "end_time": "2025-07-21T15:40:36.888416Z",
     "start_time": "2025-07-21T15:40:36.266001Z"
    }
   },
   "id": "58860f3536d8bb79",
   "outputs": [
    {
     "name": "stdout",
     "output_type": "stream",
     "text": [
      "<class 'pandas.core.frame.DataFrame'>\n",
      "RangeIndex: 87585 entries, 0 to 87584\n",
      "Data columns (total 24 columns):\n",
      " #   Column                Non-Null Count  Dtype  \n",
      "---  ------                --------------  -----  \n",
      " 0   movieId               87585 non-null  int64  \n",
      " 1   imdbId                87585 non-null  object \n",
      " 2   vote_average          86493 non-null  float64\n",
      " 3   vote_count            86493 non-null  float64\n",
      " 4   status                86493 non-null  object \n",
      " 5   release_date          87455 non-null  object \n",
      " 6   revenue               86493 non-null  float64\n",
      " 7   runtime               86493 non-null  float64\n",
      " 8   adult                 86493 non-null  object \n",
      " 9   backdrop_path         70442 non-null  object \n",
      " 10  budget                86493 non-null  float64\n",
      " 11  homepage              17774 non-null  object \n",
      " 12  original_language     86493 non-null  object \n",
      " 13  original_title        86493 non-null  object \n",
      " 14  overview              85667 non-null  object \n",
      " 15  popularity            86493 non-null  float64\n",
      " 16  poster_path           84365 non-null  object \n",
      " 17  tagline               39734 non-null  object \n",
      " 18  production_companies  72731 non-null  object \n",
      " 19  production_countries  79796 non-null  object \n",
      " 20  spoken_languages      82403 non-null  object \n",
      " 21  keywords              60235 non-null  object \n",
      " 22  title                 87585 non-null  object \n",
      " 23  genres                85974 non-null  object \n",
      "dtypes: float64(6), int64(1), object(17)\n",
      "memory usage: 16.0+ MB\n"
     ]
    }
   ],
   "execution_count": 5
  },
  {
   "metadata": {
    "ExecuteTime": {
     "end_time": "2025-07-21T15:40:36.931260Z",
     "start_time": "2025-07-21T15:40:36.912342Z"
    }
   },
   "cell_type": "code",
   "source": "df_movies.head()",
   "id": "1935fe1dc595bac",
   "outputs": [
    {
     "data": {
      "text/plain": [
       "   movieId     imdbId  vote_average  vote_count    status release_date  \\\n",
       "0        1  tt0114709         7.971     17152.0  Released   1995-10-30   \n",
       "1        2  tt0113497         7.239      9833.0  Released   1995-12-15   \n",
       "2        3  tt0113228         6.476       347.0  Released   1995-12-22   \n",
       "3        4  tt0114885         6.183       142.0  Released   1995-12-22   \n",
       "4        5  tt0113041         6.228       659.0  Released   1995-12-08   \n",
       "\n",
       "       revenue  runtime  adult                     backdrop_path  ...  \\\n",
       "0  394400000.0     81.0  False  /3Rfvhy1Nl6sSGJwyjb0QiZzZYlB.jpg  ...   \n",
       "1  262821940.0    104.0  False  /pYw10zrqfkdm3yD9JTO6vEGQhKy.jpg  ...   \n",
       "2   71500000.0    101.0  False  /1J4Z7VhdAgtdd97nCxY7dcBpjGT.jpg  ...   \n",
       "3   81452156.0    127.0  False  /jZjoEKXMTDoZAGdkjhAdJaKtXSN.jpg  ...   \n",
       "4   76594107.0    106.0  False  /lEsjVrGU21BeJjF5AF9EWsihDpw.jpg  ...   \n",
       "\n",
       "                                            overview popularity  \\\n",
       "0  Led by Woody, Andy's toys live happily in his ...     78.404   \n",
       "1  When siblings Judy and Peter discover an encha...     13.444   \n",
       "2  A family wedding reignites the ancient feud be...     14.815   \n",
       "3  Cheated on, mistreated and stepped on, the wom...     14.451   \n",
       "4  Just when George Banks has recovered from his ...     14.537   \n",
       "\n",
       "                        poster_path  \\\n",
       "0  /uXDfjJbdP4ijW5hWSBrPrlKpxab.jpg   \n",
       "1  /vgpXmVaVyUL7GGiDeiK1mKEKzcX.jpg   \n",
       "2  /1FSXpj5e8l4KH6nVFO5SPUeraOt.jpg   \n",
       "3  /4wjGMwPsdlvi025ZqR4rXnFDvBz.jpg   \n",
       "4  /rj4LBtwQ0uGrpBnCELr716Qo3mw.jpg   \n",
       "\n",
       "                                             tagline  \\\n",
       "0  Hang on for the comedy that goes to infinity a...   \n",
       "1          Roll the dice and unleash the excitement!   \n",
       "2  Still Yelling. Still Fighting. Still Ready for...   \n",
       "3  Friends are the people who let you be yourself...   \n",
       "4  Just when his world is back to normal... he's ...   \n",
       "\n",
       "                                production_companies  \\\n",
       "0                                              Pixar   \n",
       "1  TriStar Pictures, Interscope Communications, T...   \n",
       "2              Lancaster Gate, Warner Bros. Pictures   \n",
       "3                                   20th Century Fox   \n",
       "4         Touchstone Pictures, Sandollar Productions   \n",
       "\n",
       "       production_countries spoken_languages  \\\n",
       "0  United States of America          English   \n",
       "1  United States of America  English, French   \n",
       "2  United States of America          English   \n",
       "3  United States of America          English   \n",
       "4  United States of America          English   \n",
       "\n",
       "                                            keywords  \\\n",
       "0  rescue, friendship, mission, martial arts, jea...   \n",
       "1  giant insect, board game, disappearance, jungl...   \n",
       "2  fishing, sequel, old man, best friend, wedding...   \n",
       "3  based on novel or book, interracial relationsh...   \n",
       "4  daughter, baby, parent child relationship, mid...   \n",
       "\n",
       "                         title                                genres  \n",
       "0                    Toy Story  Animation, Adventure, Family, Comedy  \n",
       "1                      Jumanji            Adventure, Fantasy, Family  \n",
       "2             Grumpier Old Men                       Romance, Comedy  \n",
       "3            Waiting to Exhale                Comedy, Drama, Romance  \n",
       "4  Father of the Bride Part II                        Comedy, Family  \n",
       "\n",
       "[5 rows x 24 columns]"
      ],
      "text/html": [
       "<div>\n",
       "<style scoped>\n",
       "    .dataframe tbody tr th:only-of-type {\n",
       "        vertical-align: middle;\n",
       "    }\n",
       "\n",
       "    .dataframe tbody tr th {\n",
       "        vertical-align: top;\n",
       "    }\n",
       "\n",
       "    .dataframe thead th {\n",
       "        text-align: right;\n",
       "    }\n",
       "</style>\n",
       "<table border=\"1\" class=\"dataframe\">\n",
       "  <thead>\n",
       "    <tr style=\"text-align: right;\">\n",
       "      <th></th>\n",
       "      <th>movieId</th>\n",
       "      <th>imdbId</th>\n",
       "      <th>vote_average</th>\n",
       "      <th>vote_count</th>\n",
       "      <th>status</th>\n",
       "      <th>release_date</th>\n",
       "      <th>revenue</th>\n",
       "      <th>runtime</th>\n",
       "      <th>adult</th>\n",
       "      <th>backdrop_path</th>\n",
       "      <th>...</th>\n",
       "      <th>overview</th>\n",
       "      <th>popularity</th>\n",
       "      <th>poster_path</th>\n",
       "      <th>tagline</th>\n",
       "      <th>production_companies</th>\n",
       "      <th>production_countries</th>\n",
       "      <th>spoken_languages</th>\n",
       "      <th>keywords</th>\n",
       "      <th>title</th>\n",
       "      <th>genres</th>\n",
       "    </tr>\n",
       "  </thead>\n",
       "  <tbody>\n",
       "    <tr>\n",
       "      <th>0</th>\n",
       "      <td>1</td>\n",
       "      <td>tt0114709</td>\n",
       "      <td>7.971</td>\n",
       "      <td>17152.0</td>\n",
       "      <td>Released</td>\n",
       "      <td>1995-10-30</td>\n",
       "      <td>394400000.0</td>\n",
       "      <td>81.0</td>\n",
       "      <td>False</td>\n",
       "      <td>/3Rfvhy1Nl6sSGJwyjb0QiZzZYlB.jpg</td>\n",
       "      <td>...</td>\n",
       "      <td>Led by Woody, Andy's toys live happily in his ...</td>\n",
       "      <td>78.404</td>\n",
       "      <td>/uXDfjJbdP4ijW5hWSBrPrlKpxab.jpg</td>\n",
       "      <td>Hang on for the comedy that goes to infinity a...</td>\n",
       "      <td>Pixar</td>\n",
       "      <td>United States of America</td>\n",
       "      <td>English</td>\n",
       "      <td>rescue, friendship, mission, martial arts, jea...</td>\n",
       "      <td>Toy Story</td>\n",
       "      <td>Animation, Adventure, Family, Comedy</td>\n",
       "    </tr>\n",
       "    <tr>\n",
       "      <th>1</th>\n",
       "      <td>2</td>\n",
       "      <td>tt0113497</td>\n",
       "      <td>7.239</td>\n",
       "      <td>9833.0</td>\n",
       "      <td>Released</td>\n",
       "      <td>1995-12-15</td>\n",
       "      <td>262821940.0</td>\n",
       "      <td>104.0</td>\n",
       "      <td>False</td>\n",
       "      <td>/pYw10zrqfkdm3yD9JTO6vEGQhKy.jpg</td>\n",
       "      <td>...</td>\n",
       "      <td>When siblings Judy and Peter discover an encha...</td>\n",
       "      <td>13.444</td>\n",
       "      <td>/vgpXmVaVyUL7GGiDeiK1mKEKzcX.jpg</td>\n",
       "      <td>Roll the dice and unleash the excitement!</td>\n",
       "      <td>TriStar Pictures, Interscope Communications, T...</td>\n",
       "      <td>United States of America</td>\n",
       "      <td>English, French</td>\n",
       "      <td>giant insect, board game, disappearance, jungl...</td>\n",
       "      <td>Jumanji</td>\n",
       "      <td>Adventure, Fantasy, Family</td>\n",
       "    </tr>\n",
       "    <tr>\n",
       "      <th>2</th>\n",
       "      <td>3</td>\n",
       "      <td>tt0113228</td>\n",
       "      <td>6.476</td>\n",
       "      <td>347.0</td>\n",
       "      <td>Released</td>\n",
       "      <td>1995-12-22</td>\n",
       "      <td>71500000.0</td>\n",
       "      <td>101.0</td>\n",
       "      <td>False</td>\n",
       "      <td>/1J4Z7VhdAgtdd97nCxY7dcBpjGT.jpg</td>\n",
       "      <td>...</td>\n",
       "      <td>A family wedding reignites the ancient feud be...</td>\n",
       "      <td>14.815</td>\n",
       "      <td>/1FSXpj5e8l4KH6nVFO5SPUeraOt.jpg</td>\n",
       "      <td>Still Yelling. Still Fighting. Still Ready for...</td>\n",
       "      <td>Lancaster Gate, Warner Bros. Pictures</td>\n",
       "      <td>United States of America</td>\n",
       "      <td>English</td>\n",
       "      <td>fishing, sequel, old man, best friend, wedding...</td>\n",
       "      <td>Grumpier Old Men</td>\n",
       "      <td>Romance, Comedy</td>\n",
       "    </tr>\n",
       "    <tr>\n",
       "      <th>3</th>\n",
       "      <td>4</td>\n",
       "      <td>tt0114885</td>\n",
       "      <td>6.183</td>\n",
       "      <td>142.0</td>\n",
       "      <td>Released</td>\n",
       "      <td>1995-12-22</td>\n",
       "      <td>81452156.0</td>\n",
       "      <td>127.0</td>\n",
       "      <td>False</td>\n",
       "      <td>/jZjoEKXMTDoZAGdkjhAdJaKtXSN.jpg</td>\n",
       "      <td>...</td>\n",
       "      <td>Cheated on, mistreated and stepped on, the wom...</td>\n",
       "      <td>14.451</td>\n",
       "      <td>/4wjGMwPsdlvi025ZqR4rXnFDvBz.jpg</td>\n",
       "      <td>Friends are the people who let you be yourself...</td>\n",
       "      <td>20th Century Fox</td>\n",
       "      <td>United States of America</td>\n",
       "      <td>English</td>\n",
       "      <td>based on novel or book, interracial relationsh...</td>\n",
       "      <td>Waiting to Exhale</td>\n",
       "      <td>Comedy, Drama, Romance</td>\n",
       "    </tr>\n",
       "    <tr>\n",
       "      <th>4</th>\n",
       "      <td>5</td>\n",
       "      <td>tt0113041</td>\n",
       "      <td>6.228</td>\n",
       "      <td>659.0</td>\n",
       "      <td>Released</td>\n",
       "      <td>1995-12-08</td>\n",
       "      <td>76594107.0</td>\n",
       "      <td>106.0</td>\n",
       "      <td>False</td>\n",
       "      <td>/lEsjVrGU21BeJjF5AF9EWsihDpw.jpg</td>\n",
       "      <td>...</td>\n",
       "      <td>Just when George Banks has recovered from his ...</td>\n",
       "      <td>14.537</td>\n",
       "      <td>/rj4LBtwQ0uGrpBnCELr716Qo3mw.jpg</td>\n",
       "      <td>Just when his world is back to normal... he's ...</td>\n",
       "      <td>Touchstone Pictures, Sandollar Productions</td>\n",
       "      <td>United States of America</td>\n",
       "      <td>English</td>\n",
       "      <td>daughter, baby, parent child relationship, mid...</td>\n",
       "      <td>Father of the Bride Part II</td>\n",
       "      <td>Comedy, Family</td>\n",
       "    </tr>\n",
       "  </tbody>\n",
       "</table>\n",
       "<p>5 rows × 24 columns</p>\n",
       "</div>"
      ]
     },
     "execution_count": 6,
     "metadata": {},
     "output_type": "execute_result"
    }
   ],
   "execution_count": 6
  },
  {
   "cell_type": "code",
   "source": [
    "df_crew = pd.read_csv(\n",
    "    \"Crew_dataset.gz\",\n",
    "    sep=\"\\t\",\n",
    "    na_values=\"\\\\N\",\n",
    "    usecols=[\"tconst\", \"directors\"]\n",
    ")"
   ],
   "metadata": {
    "collapsed": false,
    "ExecuteTime": {
     "end_time": "2025-07-21T15:40:41.383309Z",
     "start_time": "2025-07-21T15:40:36.970099Z"
    }
   },
   "id": "3cf22f264c9fba39",
   "outputs": [],
   "execution_count": 7
  },
  {
   "cell_type": "code",
   "source": [
    "df_name = pd.read_csv(\n",
    "    \"Basic_names_crew_dataset.gz\",\n",
    "    sep=\"\\t\",\n",
    "    na_values=\"\\\\N\",\n",
    "    usecols=[\"nconst\", \"primaryName\"]\n",
    ")"
   ],
   "metadata": {
    "collapsed": false,
    "ExecuteTime": {
     "end_time": "2025-07-21T15:40:51.607086Z",
     "start_time": "2025-07-21T15:40:41.435164Z"
    }
   },
   "id": "8f700e3cdd0ba405",
   "outputs": [],
   "execution_count": 8
  },
  {
   "cell_type": "code",
   "source": [
    "df_principals = pd.read_csv(\n",
    "    \"title.principals.tsv.gz\",\n",
    "    sep=\"\\t\",\n",
    "    na_values=\"\\\\N\",\n",
    "    usecols=[\"tconst\", \"ordering\", \"nconst\", \"category\"]\n",
    ")"
   ],
   "metadata": {
    "collapsed": false,
    "ExecuteTime": {
     "end_time": "2025-07-21T15:41:28.002800Z",
     "start_time": "2025-07-21T15:40:51.644487Z"
    }
   },
   "id": "ba9e76e72a9972c0",
   "outputs": [],
   "execution_count": 9
  },
  {
   "cell_type": "code",
   "source": [
    "df_crew = df_crew.dropna(subset=[\"directors\"]).copy()\n",
    "df_crew[\"directors\"] = df_crew[\"directors\"].str.split(\",\")\n",
    "\n",
    "df_directors = df_crew.explode(\"directors\").rename(columns={\"directors\": \"nconst\"})\n",
    "df_directors = df_directors.merge(df_name, on=\"nconst\", how=\"inner\")\n",
    "\n",
    "df_directors_grouped = (\n",
    "    df_directors\n",
    "    .groupby(\"tconst\", as_index=False)\n",
    "    .agg({\"primaryName\": lambda x: \", \".join(x.dropna().unique())})\n",
    "    .rename(columns={\"primaryName\": \"Directors\"})\n",
    ")"
   ],
   "metadata": {
    "collapsed": false,
    "ExecuteTime": {
     "end_time": "2025-07-21T15:45:24.897866Z",
     "start_time": "2025-07-21T15:41:28.022798Z"
    }
   },
   "id": "7e2f6eae368df105",
   "outputs": [],
   "execution_count": 10
  },
  {
   "cell_type": "code",
   "source": [
    "# Szukamy aktorów i aktorek\n",
    "df_cast = df_principals[\n",
    "    df_principals[\"category\"].isin([\"actor\", \"actress\"])\n",
    "].copy()\n",
    "\n",
    "df_cast = df_cast.merge(df_name, on=\"nconst\", how=\"inner\")\n",
    "\n",
    "df_cast_grouped = (\n",
    "    df_cast\n",
    "    .groupby(\"tconst\", as_index=False)\n",
    "    .agg({\"primaryName\": lambda x: \", \".join(x.dropna().unique())})\n",
    "    .rename(columns={\"primaryName\": \"Cast\"})\n",
    ")"
   ],
   "metadata": {
    "collapsed": false,
    "ExecuteTime": {
     "end_time": "2025-07-21T15:49:22.711376Z",
     "start_time": "2025-07-21T15:45:24.930653Z"
    }
   },
   "id": "54f9a9965f884b5d",
   "outputs": [],
   "execution_count": 11
  },
  {
   "cell_type": "code",
   "source": [
    "df_cast[\"ordering\"] = pd.to_numeric(df_cast[\"ordering\"], errors=\"coerce\")\n",
    "df_cast.sort_values([\"tconst\", \"ordering\"], inplace=True)\n",
    "\n",
    "# TOP 3 aktorów lub aktorek\n",
    "df_top3 = df_cast.groupby(\"tconst\").head(3).copy()\n",
    "\n",
    "df_star_grouped = (\n",
    "    df_top3\n",
    "    .groupby(\"tconst\", as_index=False)\n",
    "    .agg({\"primaryName\": lambda x: \", \".join(x.dropna().unique())})\n",
    "    .rename(columns={\"primaryName\": \"StarActors\"})\n",
    ")"
   ],
   "metadata": {
    "collapsed": false,
    "ExecuteTime": {
     "end_time": "2025-07-21T15:53:13.486819Z",
     "start_time": "2025-07-21T15:49:22.738711Z"
    }
   },
   "id": "ba2fd8c2c5d4a7f6",
   "outputs": [],
   "execution_count": 12
  },
  {
   "cell_type": "code",
   "source": [
    "df_dir_cast = df_directors_grouped.merge(df_cast_grouped, on=\"tconst\", how=\"inner\")\n",
    "df_dir_cast_star = df_dir_cast.merge(df_star_grouped, on=\"tconst\", how=\"inner\")"
   ],
   "metadata": {
    "collapsed": false,
    "ExecuteTime": {
     "end_time": "2025-07-21T15:53:16.555062Z",
     "start_time": "2025-07-21T15:53:13.616897Z"
    }
   },
   "id": "ec3cffff3c4ac641",
   "outputs": [],
   "execution_count": 13
  },
  {
   "cell_type": "code",
   "source": [
    "df_final = df_movies.merge(\n",
    "    df_dir_cast_star,\n",
    "    left_on=\"imdbId\",\n",
    "    right_on=\"tconst\",\n",
    "    how=\"left\"\n",
    ")"
   ],
   "metadata": {
    "collapsed": false,
    "ExecuteTime": {
     "end_time": "2025-07-21T15:53:18.310606Z",
     "start_time": "2025-07-21T15:53:16.574567Z"
    }
   },
   "id": "315d109441a5ae4",
   "outputs": [],
   "execution_count": 14
  },
  {
   "cell_type": "code",
   "source": [
    "columns_to_drop = [\"tconst\", \"nconst\", \"category\", \"ordering\"]\n",
    "for col in columns_to_drop:\n",
    "    if col in df_final.columns:\n",
    "        df_final.drop(columns=[col], inplace=True)"
   ],
   "metadata": {
    "collapsed": false,
    "ExecuteTime": {
     "end_time": "2025-07-21T15:53:18.365964Z",
     "start_time": "2025-07-21T15:53:18.329347Z"
    }
   },
   "id": "83de789b033d07d0",
   "outputs": [],
   "execution_count": 15
  },
  {
   "cell_type": "code",
   "source": [
    "df_final.head()\n",
    "df_final.to_csv(\"Movies_final_ML.csv\", index=False)\n"
   ],
   "metadata": {
    "collapsed": false,
    "ExecuteTime": {
     "end_time": "2025-07-21T15:53:19.468810Z",
     "start_time": "2025-07-21T15:53:18.385651Z"
    }
   },
   "id": "4366d68da1441ad0",
   "outputs": [],
   "execution_count": 16
  },
  {
   "cell_type": "code",
   "source": "df_final.info()",
   "metadata": {
    "collapsed": false,
    "ExecuteTime": {
     "end_time": "2025-07-21T15:53:19.580870Z",
     "start_time": "2025-07-21T15:53:19.500739Z"
    }
   },
   "id": "bfa3099b0b0847b1",
   "outputs": [
    {
     "name": "stdout",
     "output_type": "stream",
     "text": [
      "<class 'pandas.core.frame.DataFrame'>\n",
      "RangeIndex: 87585 entries, 0 to 87584\n",
      "Data columns (total 27 columns):\n",
      " #   Column                Non-Null Count  Dtype  \n",
      "---  ------                --------------  -----  \n",
      " 0   movieId               87585 non-null  int64  \n",
      " 1   imdbId                87585 non-null  object \n",
      " 2   vote_average          86493 non-null  float64\n",
      " 3   vote_count            86493 non-null  float64\n",
      " 4   status                86493 non-null  object \n",
      " 5   release_date          87455 non-null  object \n",
      " 6   revenue               86493 non-null  float64\n",
      " 7   runtime               86493 non-null  float64\n",
      " 8   adult                 86493 non-null  object \n",
      " 9   backdrop_path         70442 non-null  object \n",
      " 10  budget                86493 non-null  float64\n",
      " 11  homepage              17774 non-null  object \n",
      " 12  original_language     86493 non-null  object \n",
      " 13  original_title        86493 non-null  object \n",
      " 14  overview              85667 non-null  object \n",
      " 15  popularity            86493 non-null  float64\n",
      " 16  poster_path           84365 non-null  object \n",
      " 17  tagline               39734 non-null  object \n",
      " 18  production_companies  72731 non-null  object \n",
      " 19  production_countries  79796 non-null  object \n",
      " 20  spoken_languages      82403 non-null  object \n",
      " 21  keywords              60235 non-null  object \n",
      " 22  title                 87585 non-null  object \n",
      " 23  genres                85974 non-null  object \n",
      " 24  Directors             78562 non-null  object \n",
      " 25  Cast                  78562 non-null  object \n",
      " 26  StarActors            78562 non-null  object \n",
      "dtypes: float64(6), int64(1), object(20)\n",
      "memory usage: 18.0+ MB\n"
     ]
    }
   ],
   "execution_count": 17
  }
 ],
 "metadata": {
  "kernelspec": {
   "display_name": "Python 3",
   "language": "python",
   "name": "python3"
  },
  "language_info": {
   "codemirror_mode": {
    "name": "ipython",
    "version": 2
   },
   "file_extension": ".py",
   "mimetype": "text/x-python",
   "name": "python",
   "nbconvert_exporter": "python",
   "pygments_lexer": "ipython2",
   "version": "2.7.6"
  }
 },
 "nbformat": 4,
 "nbformat_minor": 5
}
