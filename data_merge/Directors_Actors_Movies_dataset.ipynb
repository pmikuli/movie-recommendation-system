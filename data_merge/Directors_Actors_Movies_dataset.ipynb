{
 "cells": [
  {
   "cell_type": "code",
   "id": "initial_id",
   "metadata": {
    "collapsed": true,
    "ExecuteTime": {
     "end_time": "2025-07-12T12:28:58.905169Z",
     "start_time": "2025-07-12T12:28:58.897313Z"
    }
   },
   "source": [
    "import pandas as pd"
   ],
   "outputs": [],
   "execution_count": 21
  },
  {
   "cell_type": "code",
   "source": [
    "df_movies = pd.read_csv(\"Movies_all_ML.csv\")\n",
    "df_movies.info()"
   ],
   "metadata": {
    "collapsed": false,
    "ExecuteTime": {
     "end_time": "2025-07-12T12:28:59.481240Z",
     "start_time": "2025-07-12T12:28:58.908625Z"
    }
   },
   "id": "58860f3536d8bb79",
   "outputs": [
    {
     "name": "stdout",
     "output_type": "stream",
     "text": [
      "<class 'pandas.core.frame.DataFrame'>\n",
      "RangeIndex: 87585 entries, 0 to 87584\n",
      "Data columns (total 24 columns):\n",
      " #   Column                Non-Null Count  Dtype  \n",
      "---  ------                --------------  -----  \n",
      " 0   movieId               87585 non-null  int64  \n",
      " 1   imdbId                87585 non-null  object \n",
      " 2   vote_average          86493 non-null  float64\n",
      " 3   vote_count            86493 non-null  float64\n",
      " 4   status                86493 non-null  object \n",
      " 5   release_date          87455 non-null  object \n",
      " 6   revenue               86493 non-null  float64\n",
      " 7   runtime               86493 non-null  float64\n",
      " 8   adult                 86493 non-null  object \n",
      " 9   backdrop_path         70442 non-null  object \n",
      " 10  budget                86493 non-null  float64\n",
      " 11  homepage              17774 non-null  object \n",
      " 12  original_language     86493 non-null  object \n",
      " 13  original_title        86493 non-null  object \n",
      " 14  overview              85667 non-null  object \n",
      " 15  popularity            86493 non-null  float64\n",
      " 16  poster_path           84365 non-null  object \n",
      " 17  tagline               39734 non-null  object \n",
      " 18  production_companies  72731 non-null  object \n",
      " 19  production_countries  79796 non-null  object \n",
      " 20  spoken_languages      82403 non-null  object \n",
      " 21  keywords              60235 non-null  object \n",
      " 22  title                 87585 non-null  object \n",
      " 23  genres                87585 non-null  object \n",
      "dtypes: float64(6), int64(1), object(17)\n",
      "memory usage: 16.0+ MB\n"
     ]
    }
   ],
   "execution_count": 22
  },
  {
   "cell_type": "code",
   "source": [
    "df_crew = pd.read_csv(\n",
    "    \"Crew_dataset.gz\",\n",
    "    sep=\"\\t\",\n",
    "    na_values=\"\\\\N\",\n",
    "    usecols=[\"tconst\", \"directors\"]\n",
    ")"
   ],
   "metadata": {
    "collapsed": false,
    "ExecuteTime": {
     "end_time": "2025-07-12T12:29:04.104799Z",
     "start_time": "2025-07-12T12:28:59.517674Z"
    }
   },
   "id": "3cf22f264c9fba39",
   "outputs": [],
   "execution_count": 23
  },
  {
   "cell_type": "code",
   "source": [
    "df_name = pd.read_csv(\n",
    "    \"Basic_names_crew_dataset.gz\",\n",
    "    sep=\"\\t\",\n",
    "    na_values=\"\\\\N\",\n",
    "    usecols=[\"nconst\", \"primaryName\"]\n",
    ")"
   ],
   "metadata": {
    "collapsed": false,
    "ExecuteTime": {
     "end_time": "2025-07-12T12:29:14.631812Z",
     "start_time": "2025-07-12T12:29:04.123515Z"
    }
   },
   "id": "8f700e3cdd0ba405",
   "outputs": [],
   "execution_count": 24
  },
  {
   "cell_type": "code",
   "source": [
    "df_principals = pd.read_csv(\n",
    "    \"title.principals.tsv.gz\",\n",
    "    sep=\"\\t\",\n",
    "    na_values=\"\\\\N\",\n",
    "    usecols=[\"tconst\", \"ordering\", \"nconst\", \"category\"]\n",
    ")"
   ],
   "metadata": {
    "collapsed": false,
    "ExecuteTime": {
     "end_time": "2025-07-12T12:29:57.811894Z",
     "start_time": "2025-07-12T12:29:14.651457Z"
    }
   },
   "id": "ba9e76e72a9972c0",
   "outputs": [],
   "execution_count": 25
  },
  {
   "cell_type": "code",
   "source": [
    "df_crew = df_crew.dropna(subset=[\"directors\"]).copy()\n",
    "df_crew[\"directors\"] = df_crew[\"directors\"].str.split(\",\")\n",
    "\n",
    "df_directors = df_crew.explode(\"directors\").rename(columns={\"directors\": \"nconst\"})\n",
    "df_directors = df_directors.merge(df_name, on=\"nconst\", how=\"inner\")\n",
    "\n",
    "df_directors_grouped = (\n",
    "    df_directors\n",
    "    .groupby(\"tconst\", as_index=False)\n",
    "    .agg({\"primaryName\": lambda x: \", \".join(x.dropna().unique())})\n",
    "    .rename(columns={\"primaryName\": \"Directors\"})\n",
    ")"
   ],
   "metadata": {
    "collapsed": false,
    "ExecuteTime": {
     "end_time": "2025-07-12T12:34:03.444310Z",
     "start_time": "2025-07-12T12:29:57.843534Z"
    }
   },
   "id": "7e2f6eae368df105",
   "outputs": [],
   "execution_count": 26
  },
  {
   "cell_type": "code",
   "source": [
    "# Szukamy aktorów i aktorek\n",
    "df_cast = df_principals[\n",
    "    df_principals[\"category\"].isin([\"actor\", \"actress\"])\n",
    "].copy()\n",
    "\n",
    "df_cast = df_cast.merge(df_name, on=\"nconst\", how=\"inner\")\n",
    "\n",
    "df_cast_grouped = (\n",
    "    df_cast\n",
    "    .groupby(\"tconst\", as_index=False)\n",
    "    .agg({\"primaryName\": lambda x: \", \".join(x.dropna().unique())})\n",
    "    .rename(columns={\"primaryName\": \"Cast\"})\n",
    ")"
   ],
   "metadata": {
    "collapsed": false,
    "ExecuteTime": {
     "end_time": "2025-07-12T12:38:26.100139Z",
     "start_time": "2025-07-12T12:34:03.476196Z"
    }
   },
   "id": "54f9a9965f884b5d",
   "outputs": [],
   "execution_count": 27
  },
  {
   "cell_type": "code",
   "source": [
    "df_cast[\"ordering\"] = pd.to_numeric(df_cast[\"ordering\"], errors=\"coerce\")\n",
    "df_cast.sort_values([\"tconst\", \"ordering\"], inplace=True)\n",
    "\n",
    "# TOP 3 aktorów lub aktorek\n",
    "df_top3 = df_cast.groupby(\"tconst\").head(3).copy()\n",
    "\n",
    "df_star_grouped = (\n",
    "    df_top3\n",
    "    .groupby(\"tconst\", as_index=False)\n",
    "    .agg({\"primaryName\": lambda x: \", \".join(x.dropna().unique())})\n",
    "    .rename(columns={\"primaryName\": \"StarActors\"})\n",
    ")"
   ],
   "metadata": {
    "collapsed": false,
    "ExecuteTime": {
     "end_time": "2025-07-12T12:42:36.174983Z",
     "start_time": "2025-07-12T12:38:26.126090Z"
    }
   },
   "id": "ba2fd8c2c5d4a7f6",
   "outputs": [],
   "execution_count": 28
  },
  {
   "cell_type": "code",
   "source": [
    "df_dir_cast = df_directors_grouped.merge(df_cast_grouped, on=\"tconst\", how=\"inner\")\n",
    "df_dir_cast_star = df_dir_cast.merge(df_star_grouped, on=\"tconst\", how=\"inner\")"
   ],
   "metadata": {
    "collapsed": false,
    "ExecuteTime": {
     "end_time": "2025-07-12T12:42:39.647414Z",
     "start_time": "2025-07-12T12:42:36.200572Z"
    }
   },
   "id": "ec3cffff3c4ac641",
   "outputs": [],
   "execution_count": 29
  },
  {
   "cell_type": "code",
   "source": [
    "df_final = df_movies.merge(\n",
    "    df_dir_cast_star,\n",
    "    left_on=\"imdbId\",\n",
    "    right_on=\"tconst\",\n",
    "    how=\"left\"\n",
    ")"
   ],
   "metadata": {
    "collapsed": false,
    "ExecuteTime": {
     "end_time": "2025-07-12T12:42:41.604910Z",
     "start_time": "2025-07-12T12:42:39.666977Z"
    }
   },
   "id": "315d109441a5ae4",
   "outputs": [],
   "execution_count": 30
  },
  {
   "cell_type": "code",
   "source": [
    "columns_to_drop = [\"tconst\", \"nconst\", \"category\", \"ordering\"]\n",
    "for col in columns_to_drop:\n",
    "    if col in df_final.columns:\n",
    "        df_final.drop(columns=[col], inplace=True)"
   ],
   "metadata": {
    "collapsed": false,
    "ExecuteTime": {
     "end_time": "2025-07-12T12:42:41.659611Z",
     "start_time": "2025-07-12T12:42:41.630763Z"
    }
   },
   "id": "83de789b033d07d0",
   "outputs": [],
   "execution_count": 31
  },
  {
   "cell_type": "code",
   "source": [
    "df_final.head()\n",
    "df_final.to_csv(\"Movies_final_ML.csv\", index=False)\n"
   ],
   "metadata": {
    "collapsed": false,
    "ExecuteTime": {
     "end_time": "2025-07-12T12:42:42.774770Z",
     "start_time": "2025-07-12T12:42:41.679184Z"
    }
   },
   "id": "4366d68da1441ad0",
   "outputs": [],
   "execution_count": 32
  },
  {
   "cell_type": "code",
   "source": "df_final.info()",
   "metadata": {
    "collapsed": false,
    "ExecuteTime": {
     "end_time": "2025-07-12T12:42:42.859595Z",
     "start_time": "2025-07-12T12:42:42.793900Z"
    }
   },
   "id": "bfa3099b0b0847b1",
   "outputs": [
    {
     "name": "stdout",
     "output_type": "stream",
     "text": [
      "<class 'pandas.core.frame.DataFrame'>\n",
      "RangeIndex: 87585 entries, 0 to 87584\n",
      "Data columns (total 27 columns):\n",
      " #   Column                Non-Null Count  Dtype  \n",
      "---  ------                --------------  -----  \n",
      " 0   movieId               87585 non-null  int64  \n",
      " 1   imdbId                87585 non-null  object \n",
      " 2   vote_average          86493 non-null  float64\n",
      " 3   vote_count            86493 non-null  float64\n",
      " 4   status                86493 non-null  object \n",
      " 5   release_date          87455 non-null  object \n",
      " 6   revenue               86493 non-null  float64\n",
      " 7   runtime               86493 non-null  float64\n",
      " 8   adult                 86493 non-null  object \n",
      " 9   backdrop_path         70442 non-null  object \n",
      " 10  budget                86493 non-null  float64\n",
      " 11  homepage              17774 non-null  object \n",
      " 12  original_language     86493 non-null  object \n",
      " 13  original_title        86493 non-null  object \n",
      " 14  overview              85667 non-null  object \n",
      " 15  popularity            86493 non-null  float64\n",
      " 16  poster_path           84365 non-null  object \n",
      " 17  tagline               39734 non-null  object \n",
      " 18  production_companies  72731 non-null  object \n",
      " 19  production_countries  79796 non-null  object \n",
      " 20  spoken_languages      82403 non-null  object \n",
      " 21  keywords              60235 non-null  object \n",
      " 22  title                 87585 non-null  object \n",
      " 23  genres                87585 non-null  object \n",
      " 24  Directors             78562 non-null  object \n",
      " 25  Cast                  78562 non-null  object \n",
      " 26  StarActors            78562 non-null  object \n",
      "dtypes: float64(6), int64(1), object(20)\n",
      "memory usage: 18.0+ MB\n"
     ]
    }
   ],
   "execution_count": 33
  }
 ],
 "metadata": {
  "kernelspec": {
   "display_name": "Python 3",
   "language": "python",
   "name": "python3"
  },
  "language_info": {
   "codemirror_mode": {
    "name": "ipython",
    "version": 2
   },
   "file_extension": ".py",
   "mimetype": "text/x-python",
   "name": "python",
   "nbconvert_exporter": "python",
   "pygments_lexer": "ipython2",
   "version": "2.7.6"
  }
 },
 "nbformat": 4,
 "nbformat_minor": 5
}
