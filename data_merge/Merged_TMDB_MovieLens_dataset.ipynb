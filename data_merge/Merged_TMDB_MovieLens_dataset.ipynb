{
 "cells": [
  {
   "cell_type": "code",
   "execution_count": 57,
   "id": "initial_id",
   "metadata": {
    "collapsed": true,
    "ExecuteTime": {
     "end_time": "2025-03-29T12:58:46.346149Z",
     "start_time": "2025-03-29T12:58:46.340319Z"
    }
   },
   "outputs": [],
   "source": [
    "import pandas as pd"
   ]
  },
  {
   "cell_type": "code",
   "outputs": [],
   "source": [
    "df_tmdb = pd.read_csv(\"TMDB_dataset.zip\")"
   ],
   "metadata": {
    "collapsed": false,
    "ExecuteTime": {
     "end_time": "2025-03-29T12:58:59.869496Z",
     "start_time": "2025-03-29T12:58:46.360805Z"
    }
   },
   "id": "256049f46c1a8d3e",
   "execution_count": 58
  },
  {
   "cell_type": "code",
   "outputs": [
    {
     "name": "stdout",
     "output_type": "stream",
     "text": [
      "<class 'pandas.core.frame.DataFrame'>\n",
      "RangeIndex: 1198834 entries, 0 to 1198833\n",
      "Data columns (total 24 columns):\n",
      " #   Column                Non-Null Count    Dtype  \n",
      "---  ------                --------------    -----  \n",
      " 0   id                    1198834 non-null  int64  \n",
      " 1   title                 1198821 non-null  object \n",
      " 2   vote_average          1198834 non-null  float64\n",
      " 3   vote_count            1198834 non-null  int64  \n",
      " 4   status                1198834 non-null  object \n",
      " 5   release_date          984966 non-null   object \n",
      " 6   revenue               1198834 non-null  int64  \n",
      " 7   runtime               1198834 non-null  int64  \n",
      " 8   adult                 1198834 non-null  bool   \n",
      " 9   backdrop_path         313530 non-null   object \n",
      " 10  budget                1198834 non-null  int64  \n",
      " 11  homepage              126161 non-null   object \n",
      " 12  imdb_id               617327 non-null   object \n",
      " 13  original_language     1198834 non-null  object \n",
      " 14  original_title        1198821 non-null  object \n",
      " 15  overview              947498 non-null   object \n",
      " 16  popularity            1198834 non-null  float64\n",
      " 17  poster_path           808694 non-null   object \n",
      " 18  tagline               167947 non-null   object \n",
      " 19  genres                706839 non-null   object \n",
      " 20  production_companies  534236 non-null   object \n",
      " 21  production_countries  655147 non-null   object \n",
      " 22  spoken_languages      675831 non-null   object \n",
      " 23  keywords              317343 non-null   object \n",
      "dtypes: bool(1), float64(2), int64(5), object(16)\n",
      "memory usage: 211.5+ MB\n"
     ]
    }
   ],
   "source": [
    "df_tmdb.info()"
   ],
   "metadata": {
    "collapsed": false,
    "ExecuteTime": {
     "end_time": "2025-03-29T12:59:00.512870Z",
     "start_time": "2025-03-29T12:58:59.871470Z"
    }
   },
   "id": "91d89c5bf2619c9a",
   "execution_count": 59
  },
  {
   "cell_type": "code",
   "outputs": [],
   "source": [
    "df_links = pd.read_csv(\n",
    "    \"links.csv\", \n",
    "    usecols=[\"movieId\", \"tmdbId\"] #as imdbID exists in TMDB dataset (no need for duplicate)\n",
    ")"
   ],
   "metadata": {
    "collapsed": false,
    "ExecuteTime": {
     "end_time": "2025-03-29T12:59:00.549424Z",
     "start_time": "2025-03-29T12:59:00.514836Z"
    }
   },
   "id": "cd3aec7d89eb1333",
   "execution_count": 60
  },
  {
   "cell_type": "code",
   "outputs": [
    {
     "name": "stdout",
     "output_type": "stream",
     "text": [
      "<class 'pandas.core.frame.DataFrame'>\n",
      "RangeIndex: 87585 entries, 0 to 87584\n",
      "Data columns (total 2 columns):\n",
      " #   Column   Non-Null Count  Dtype  \n",
      "---  ------   --------------  -----  \n",
      " 0   movieId  87585 non-null  int64  \n",
      " 1   tmdbId   87461 non-null  float64\n",
      "dtypes: float64(1), int64(1)\n",
      "memory usage: 1.3 MB\n"
     ]
    }
   ],
   "source": [
    "df_links.info()"
   ],
   "metadata": {
    "collapsed": false,
    "ExecuteTime": {
     "end_time": "2025-03-29T12:59:00.563648Z",
     "start_time": "2025-03-29T12:59:00.552365Z"
    }
   },
   "id": "3049695f3663ea03",
   "execution_count": 61
  },
  {
   "cell_type": "code",
   "outputs": [],
   "source": [
    "df_links = df_links.dropna(subset=[\"tmdbId\"]) \n",
    "df_links = df_links[df_links[\"tmdbId\"] != \"\"] "
   ],
   "metadata": {
    "collapsed": false,
    "ExecuteTime": {
     "end_time": "2025-03-29T12:59:00.573875Z",
     "start_time": "2025-03-29T12:59:00.565609Z"
    }
   },
   "id": "3d0650d1e77e5e5",
   "execution_count": 62
  },
  {
   "cell_type": "code",
   "outputs": [],
   "source": [
    "df_merged = df_tmdb.merge(\n",
    "    df_links,\n",
    "    how=\"inner\",\n",
    "    left_on=\"id\",\n",
    "    right_on=\"tmdbId\"\n",
    ")"
   ],
   "metadata": {
    "collapsed": false,
    "ExecuteTime": {
     "end_time": "2025-03-29T12:59:00.869846Z",
     "start_time": "2025-03-29T12:59:00.575836Z"
    }
   },
   "id": "49e3a7104622a7d9",
   "execution_count": 63
  },
  {
   "cell_type": "code",
   "outputs": [],
   "source": [
    "df_merged.head()\n",
    "\n",
    "#Drop duplicates\n",
    "df_merged.drop(columns=[\"tmdbId\"], inplace=True)"
   ],
   "metadata": {
    "collapsed": false,
    "ExecuteTime": {
     "end_time": "2025-03-29T12:59:00.912043Z",
     "start_time": "2025-03-29T12:59:00.870842Z"
    }
   },
   "id": "e03767aba1b8cf52",
   "execution_count": 64
  },
  {
   "cell_type": "code",
   "outputs": [],
   "source": [
    "df_merged.to_csv(\"Movies_all.csv\", index=False)"
   ],
   "metadata": {
    "collapsed": false,
    "ExecuteTime": {
     "end_time": "2025-03-29T12:59:02.486702Z",
     "start_time": "2025-03-29T12:59:00.912964Z"
    }
   },
   "id": "fd6d68fd8e7f019f",
   "execution_count": 65
  }
 ],
 "metadata": {
  "kernelspec": {
   "display_name": "Python 3",
   "language": "python",
   "name": "python3"
  },
  "language_info": {
   "codemirror_mode": {
    "name": "ipython",
    "version": 2
   },
   "file_extension": ".py",
   "mimetype": "text/x-python",
   "name": "python",
   "nbconvert_exporter": "python",
   "pygments_lexer": "ipython2",
   "version": "2.7.6"
  }
 },
 "nbformat": 4,
 "nbformat_minor": 5
}
