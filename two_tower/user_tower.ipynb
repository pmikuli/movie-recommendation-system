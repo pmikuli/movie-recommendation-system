{
 "cells": [
  {
   "cell_type": "code",
   "execution_count": 1,
   "id": "16f202cd",
   "metadata": {},
   "outputs": [],
   "source": [
    "import torch.nn as nn\n",
    "import torch\n",
    "import torch.nn.functional as F\n",
    "\n",
    "from torch.utils.data import Dataset, DataLoader\n",
    "\n",
    "import pandas as pd\n",
    "\n",
    "from datetime import datetime\n",
    "from tqdm import tqdm\n",
    "\n",
    "import random"
   ]
  },
  {
   "cell_type": "code",
   "execution_count": 2,
   "id": "29fa3c48",
   "metadata": {},
   "outputs": [],
   "source": [
    "# torch.autograd.set_detect_anomaly(True)\n",
    "\n",
    "user_features = pd.read_parquet('../datasets/user_features_clean.parquet')\n",
    "ratings_groupped_ids = pd.read_parquet('../datasets/ratings_groupped_ids.parquet')"
   ]
  },
  {
   "cell_type": "code",
   "execution_count": 3,
   "id": "1985fdf3",
   "metadata": {},
   "outputs": [
    {
     "name": "stdout",
     "output_type": "stream",
     "text": [
      "<class 'pandas.core.frame.DataFrame'>\n",
      "RangeIndex: 198832 entries, 0 to 198831\n",
      "Data columns (total 29 columns):\n",
      " #   Column                   Non-Null Count   Dtype  \n",
      "---  ------                   --------------   -----  \n",
      " 0   userId                   198832 non-null  int64  \n",
      " 1   num_rating               198832 non-null  float64\n",
      " 2   avg_rating               198832 non-null  float64\n",
      " 3   weekend_watcher          198832 non-null  float64\n",
      " 4   genre_Action             198832 non-null  float64\n",
      " 5   genre_Adventure          198832 non-null  float64\n",
      " 6   genre_Animation          198832 non-null  float64\n",
      " 7   genre_Comedy             198832 non-null  float64\n",
      " 8   genre_Crime              198832 non-null  float64\n",
      " 9   genre_Documentary        198832 non-null  float64\n",
      " 10  genre_Drama              198832 non-null  float64\n",
      " 11  genre_Family             198832 non-null  float64\n",
      " 12  genre_Fantasy            198832 non-null  float64\n",
      " 13  genre_History            198832 non-null  float64\n",
      " 14  genre_Horror             198832 non-null  float64\n",
      " 15  genre_Music              198832 non-null  float64\n",
      " 16  genre_Mystery            198832 non-null  float64\n",
      " 17  genre_Romance            198832 non-null  float64\n",
      " 18  genre_Science Fiction    198832 non-null  float64\n",
      " 19  genre_TV Movie           198832 non-null  float64\n",
      " 20  genre_Thriller           198832 non-null  float64\n",
      " 21  genre_War                198832 non-null  float64\n",
      " 22  genre_Western            198832 non-null  float64\n",
      " 23  type_of_viewer_negative  198832 non-null  float64\n",
      " 24  type_of_viewer_neutral   198832 non-null  float64\n",
      " 25  type_of_viewer_positive  198832 non-null  float64\n",
      " 26  movies_seq               198832 non-null  object \n",
      " 27  ratings_seq              198832 non-null  object \n",
      " 28  ts_seq                   198832 non-null  object \n",
      "dtypes: float64(25), int64(1), object(3)\n",
      "memory usage: 44.0+ MB\n",
      "None\n",
      "<class 'pandas.core.frame.DataFrame'>\n",
      "RangeIndex: 198921 entries, 0 to 198920\n",
      "Data columns (total 3 columns):\n",
      " #   Column  Non-Null Count   Dtype \n",
      "---  ------  --------------   ----- \n",
      " 0   userId  198921 non-null  int64 \n",
      " 1   pos     198921 non-null  object\n",
      " 2   neg     198921 non-null  object\n",
      "dtypes: int64(1), object(2)\n",
      "memory usage: 4.6+ MB\n",
      "None\n"
     ]
    }
   ],
   "source": [
    "print(user_features.info())\n",
    "print(ratings_groupped_ids.info())\n",
    "\n",
    "empty_pos_ratings = ratings_groupped_ids['pos'].apply(lambda x: len(x) == 0).sum()\n",
    "empty_neg_ratings = ratings_groupped_ids['neg'].apply(lambda x: len(x) == 0).sum()\n",
    "\n",
    "if empty_pos_ratings != 0 or empty_neg_ratings != 0:\n",
    "    print(f'Empty ratings: pos: {empty_pos_ratings}, neg: {empty_neg_ratings}')\n",
    "    raise Exception(\"Users without a single pos/neg rating exist in the ratings_groupped_ids dataset\")"
   ]
  },
  {
   "cell_type": "markdown",
   "id": "d8e08acf",
   "metadata": {},
   "source": [
    "# Mapowanie movieId do ciągłego przedziału liczb naturalnych, aby umożliwić użycie nn.Embedding"
   ]
  },
  {
   "cell_type": "code",
   "execution_count": 4,
   "id": "8fe9e836",
   "metadata": {},
   "outputs": [
    {
     "name": "stdout",
     "output_type": "stream",
     "text": [
      "Unique movieIds: 82932\n",
      "min idx: 0\n",
      "max idx: 82931\n"
     ]
    }
   ],
   "source": [
    "unique_ids = set(\n",
    "        user_features['movies_seq'].explode().tolist()\n",
    "        + ratings_groupped_ids['pos'].explode().tolist() \n",
    "        + ratings_groupped_ids['neg'].explode().tolist()\n",
    "    )\n",
    "\n",
    "print('Unique movieIds:', len(unique_ids))\n",
    "unique_ids = sorted(unique_ids)\n",
    "\n",
    "movieId_to_idx = {id_: idx for idx, id_ in enumerate(unique_ids)}\n",
    "print('min idx:', min(movieId_to_idx.values()))\n",
    "print('max idx:', max(movieId_to_idx.values()))\n",
    "\n",
    "n_items = len(unique_ids)\n",
    "\n",
    "assert min(movieId_to_idx.values()) == 0\n",
    "assert max(movieId_to_idx.values()) == n_items - 1"
   ]
  },
  {
   "cell_type": "code",
   "execution_count": 5,
   "id": "81c924d9",
   "metadata": {},
   "outputs": [],
   "source": [
    "# Convert movieIds in ratings_groupped_ids to the ones accepted by nn.Embedding\n",
    "def map_list(col):\n",
    "    return [movieId_to_idx[m] for m in col]\n",
    "\n",
    "for df, col in [\n",
    "    (user_features, 'movies_seq'),\n",
    "    (ratings_groupped_ids, 'pos'),\n",
    "    (ratings_groupped_ids, 'neg')]:\n",
    "    df[col] = df[col].apply(map_list)\n",
    "\n",
    "\n",
    "max_idx = max(movieId_to_idx.values())\n",
    "assert all(0 <= id_ <= max_idx for l in ratings_groupped_ids['pos'] for id_ in l)\n",
    "assert all(0 <= id_ <= max_idx for l in ratings_groupped_ids['neg'] for id_ in l)"
   ]
  },
  {
   "cell_type": "code",
   "execution_count": 6,
   "id": "06da5899",
   "metadata": {},
   "outputs": [],
   "source": [
    "class UserDataset(Dataset):\n",
    "    def __init__(self, user_features):\n",
    "        self.data = user_features\n",
    "    \n",
    "    def __len__(self):\n",
    "        return len(self.data)\n",
    "\n",
    "    def __getitem__(self, idx):\n",
    "        return self.data.iloc[idx]\n",
    "\n"
   ]
  },
  {
   "cell_type": "code",
   "execution_count": 7,
   "id": "2a857b33",
   "metadata": {},
   "outputs": [],
   "source": [
    "EMB_DIM = 64\n",
    "\n",
    "class UserTower(nn.Module):\n",
    "    def __init__(self, input_dim, n_items, embedding_dim=EMB_DIM):\n",
    "        '''\n",
    "        input_dim - the number of columns in user features, without sequence columns\n",
    "        '''\n",
    "        super().__init__()\n",
    "\n",
    "        self.item_emb = nn.Embedding(n_items, embedding_dim)\n",
    "\n",
    "        # A layer to project rating and timestamp into a scalar weight\n",
    "        self.rating_proj = nn.Linear(2, 1)\n",
    "\n",
    "        self.mlp = nn.Sequential(\n",
    "            nn.Linear(input_dim + embedding_dim, 512),\n",
    "            nn.ReLU(),\n",
    "            nn.Dropout(0.2),\n",
    "            nn.Linear(512, 384),\n",
    "            nn.ReLU(),\n",
    "            nn.Dropout(0.2),\n",
    "            nn.Linear(384, 256),\n",
    "            nn.ReLU(),\n",
    "            nn.Dropout(0.2),\n",
    "            nn.Linear(256, embedding_dim)\n",
    "        )\n",
    "    \n",
    "    def forward(self, batch):\n",
    "        # Embed movieIds liked by user\n",
    "        m = self.item_emb(batch['movies'])\n",
    "\n",
    "        # Get weights \n",
    "        x = torch.stack([batch['ratings'], batch['timestamps']], dim=-1)\n",
    "        w = torch.sigmoid(self.rating_proj(x))\n",
    "\n",
    "        # weighted mean-pool\n",
    "        pooled = (m * w).sum(1) / (w.sum(1).clamp_min(1e-6))\n",
    "\n",
    "        input = torch.cat([batch['user_features'], pooled], dim=-1)\n",
    "        output = self.mlp(input)\n",
    "        u = F.normalize(output, dim = 1)\n",
    "        return u\n"
   ]
  },
  {
   "cell_type": "code",
   "execution_count": 8,
   "id": "41ff0838",
   "metadata": {},
   "outputs": [],
   "source": [
    "n_items = len(unique_ids)\n",
    "\n",
    "def collate(batch):\n",
    "    user_features, movies, ratings, timestamps, pos, neg = [], [], [], [], [], []\n",
    "\n",
    "    for row in batch:\n",
    "        movies.append(torch.tensor(row['movies_seq'], dtype=torch.long))\n",
    "        ratings.append(torch.tensor(row['ratings_seq'], dtype=torch.float32))\n",
    "        timestamps.append(torch.tensor(row['ts_seq'], dtype=torch.float32))\n",
    "\n",
    "        userId = row['userId']\n",
    "\n",
    "        r = row[['num_rating', 'avg_rating', 'weekend_watcher', 'genre_Action', 'genre_Adventure', 'genre_Animation', 'genre_Comedy', 'genre_Crime', 'genre_Documentary', 'genre_Drama', 'genre_Family', 'genre_Fantasy', 'genre_History', 'genre_Horror', 'genre_Music', 'genre_Mystery', 'genre_Romance', 'genre_Science Fiction', 'genre_TV Movie', 'genre_Thriller', 'genre_War', 'genre_Western', 'type_of_viewer_negative', 'type_of_viewer_neutral', 'type_of_viewer_positive']]\n",
    "        r = r.astype('float32').values\n",
    "        user_features.append(torch.tensor(r, dtype=torch.float32))\n",
    "        \n",
    "        # Get a random movieId that was rated positively and one that was rated negatively. \n",
    "        # Used during training to calculate BPR loss. \n",
    "        posAndNegRow = ratings_groupped_ids[ratings_groupped_ids['userId'] == userId].iloc[0]\n",
    "        pos.append(torch.tensor(random.choice(posAndNegRow['pos']), dtype=torch.long))\n",
    "        neg.append(torch.tensor(random.choice(posAndNegRow['neg']), dtype=torch.long))\n",
    "\n",
    "    return {\n",
    "        \"input\": {\n",
    "            \"user_features\": torch.stack(user_features),\n",
    "            \"movies\": torch.stack(movies),\n",
    "            \"ratings\": torch.stack(ratings),\n",
    "            \"timestamps\": torch.stack(timestamps),\n",
    "        },\n",
    "        \"pos\": torch.as_tensor(pos, dtype=torch.long),\n",
    "        \"neg\": torch.as_tensor(neg, dtype=torch.long)\n",
    "    }"
   ]
  },
  {
   "cell_type": "code",
   "execution_count": 9,
   "id": "b57a8e33",
   "metadata": {},
   "outputs": [
    {
     "name": "stdout",
     "output_type": "stream",
     "text": [
      "Device: mps\n"
     ]
    }
   ],
   "source": [
    "BATCH_SIZE = 4096\n",
    "\n",
    "from sklearn.model_selection import train_test_split\n",
    "\n",
    "train, test = train_test_split(user_features, test_size=0.2)\n",
    "\n",
    "trainDataset = UserDataset(train)\n",
    "trainDataLoader = DataLoader(trainDataset, batch_size=BATCH_SIZE, shuffle=True, collate_fn=collate)\n",
    "\n",
    "testDataset = UserDataset(test)\n",
    "testDataLoader = DataLoader(testDataset, batch_size=BATCH_SIZE, shuffle=True, collate_fn=collate)\n",
    "\n",
    "device = torch.device('cpu')\n",
    "if torch.cuda.is_available():\n",
    "    device = torch.device('cuda')\n",
    "elif torch.mps.is_available():\n",
    "    device = torch.device('mps')\n",
    "print('Device:', device)"
   ]
  },
  {
   "cell_type": "code",
   "execution_count": 10,
   "id": "1b0a3acf",
   "metadata": {},
   "outputs": [],
   "source": [
    "# Commented out because lasts ~3 minutes and passes\n",
    "\n",
    "# # Verify the data \n",
    "# def check_ids(tensor, column):\n",
    "#     if (tensor < 0).any() or (tensor >= n_items).any():\n",
    "#         raise ValueError(f\"Out of range index in column {column}. Value: {tensor[(tensor<0) | (tensor >= n_items)]}\")\n",
    "\n",
    "\n",
    "# for row in tqdm(dataloader):\n",
    "#     check_ids(row['input']['movies'], 'input.movies')\n",
    "#     check_ids(row['pos'], 'pos')\n",
    "#     check_ids(row['neg'], 'neg')"
   ]
  },
  {
   "cell_type": "code",
   "execution_count": 11,
   "id": "b238fe39",
   "metadata": {},
   "outputs": [],
   "source": [
    "import torch.optim as optim\n",
    "\n",
    "model = UserTower(input_dim=25, n_items=len(unique_ids)).to(device)\n",
    "optimizer = optim.Adam(model.parameters(), lr=1e-3)\n",
    "loss_fn = F.mse_loss"
   ]
  },
  {
   "cell_type": "code",
   "execution_count": 12,
   "id": "7c2aad12",
   "metadata": {},
   "outputs": [],
   "source": [
    "def to_device(data, device):\n",
    "    if isinstance(data, dict):\n",
    "        return {k: to_device(v, device) for k, v in data.items()}\n",
    "    elif torch.is_tensor(data):\n",
    "        return data.to(device)\n",
    "    else:\n",
    "        return data\n",
    "\n",
    "number_of_batches = len(trainDataLoader)\n",
    "\n",
    "def train_one_epoch():\n",
    "    running_loss = 0.0\n",
    "    total = 0\n",
    "\n",
    "    for i, data in enumerate(trainDataLoader):\n",
    "        data = to_device(data, device)\n",
    "        optimizer.zero_grad()\n",
    "\n",
    "        u = model(data['input'])\n",
    "        pos_vec = model.item_emb(data['pos'])\n",
    "        neg_vec = model.item_emb(data['neg'])\n",
    "\n",
    "        pos_score = (u * pos_vec).sum(dim=-1)\n",
    "        neg_score = (u * neg_vec).sum(dim=-1)\n",
    "        # BPR Loss\n",
    "        loss = -F.logsigmoid(pos_score - neg_score).mean()\n",
    "\n",
    "        loss.backward()\n",
    "        optimizer.step()\n",
    "\n",
    "        running_loss += loss.item()\n",
    "        total += 1\n",
    "\n",
    "        # if i % int(number_of_batches * 0.1) == 0:\n",
    "        #     print(f'Loss for batch {i}/{number_of_batches}: {running_loss / total:.4f}')\n",
    "    \n",
    "    epoch_loss = running_loss / total\n",
    "    return epoch_loss\n"
   ]
  },
  {
   "cell_type": "code",
   "execution_count": null,
   "id": "86114ae6",
   "metadata": {},
   "outputs": [
    {
     "name": "stderr",
     "output_type": "stream",
     "text": [
      "  0%|          | 0/50 [00:00<?, ?it/s]"
     ]
    },
    {
     "name": "stdout",
     "output_type": "stream",
     "text": [
      "Epoch 1 loss: 0.8018107276696426\n"
     ]
    },
    {
     "name": "stderr",
     "output_type": "stream",
     "text": [
      "  2%|▏         | 1/50 [01:14<1:01:14, 74.98s/it]"
     ]
    },
    {
     "name": "stdout",
     "output_type": "stream",
     "text": [
      "Epoch 1 ROC AUC: 0.5577064058859318\n"
     ]
    },
    {
     "name": "stderr",
     "output_type": "stream",
     "text": [
      "  4%|▍         | 2/50 [02:12<51:48, 64.75s/it]  "
     ]
    },
    {
     "name": "stdout",
     "output_type": "stream",
     "text": [
      "Epoch 2 loss: 0.7500845117446704\n"
     ]
    },
    {
     "name": "stderr",
     "output_type": "stream",
     "text": [
      "  6%|▌         | 3/50 [03:10<48:12, 61.54s/it]"
     ]
    },
    {
     "name": "stdout",
     "output_type": "stream",
     "text": [
      "Epoch 3 loss: 0.7103847861289978\n"
     ]
    },
    {
     "name": "stderr",
     "output_type": "stream",
     "text": [
      "  8%|▊         | 4/50 [04:06<45:33, 59.43s/it]"
     ]
    },
    {
     "name": "stdout",
     "output_type": "stream",
     "text": [
      "Epoch 4 loss: 0.682935757514758\n"
     ]
    },
    {
     "name": "stderr",
     "output_type": "stream",
     "text": [
      " 10%|█         | 5/50 [05:02<43:36, 58.15s/it]"
     ]
    },
    {
     "name": "stdout",
     "output_type": "stream",
     "text": [
      "Epoch 5 loss: 0.6602280353888487\n"
     ]
    },
    {
     "name": "stderr",
     "output_type": "stream",
     "text": [
      " 12%|█▏        | 6/50 [05:58<42:04, 57.38s/it]"
     ]
    },
    {
     "name": "stdout",
     "output_type": "stream",
     "text": [
      "Epoch 6 loss: 0.6414574201290424\n"
     ]
    },
    {
     "name": "stderr",
     "output_type": "stream",
     "text": [
      " 14%|█▍        | 7/50 [06:54<40:48, 56.95s/it]"
     ]
    },
    {
     "name": "stdout",
     "output_type": "stream",
     "text": [
      "Epoch 7 loss: 0.6279569910122798\n"
     ]
    },
    {
     "name": "stderr",
     "output_type": "stream",
     "text": [
      " 16%|█▌        | 8/50 [07:55<40:48, 58.31s/it]"
     ]
    },
    {
     "name": "stdout",
     "output_type": "stream",
     "text": [
      "Epoch 8 loss: 0.6158155890611502\n"
     ]
    },
    {
     "name": "stderr",
     "output_type": "stream",
     "text": [
      " 18%|█▊        | 9/50 [08:49<38:58, 57.03s/it]"
     ]
    },
    {
     "name": "stdout",
     "output_type": "stream",
     "text": [
      "Epoch 9 loss: 0.6074109918031937\n"
     ]
    },
    {
     "name": "stderr",
     "output_type": "stream",
     "text": [
      " 20%|██        | 10/50 [09:44<37:27, 56.19s/it]"
     ]
    },
    {
     "name": "stdout",
     "output_type": "stream",
     "text": [
      "Epoch 10 loss: 0.5977927782596686\n",
      "Epoch 11 loss: 0.5914914852533585\n"
     ]
    },
    {
     "name": "stderr",
     "output_type": "stream",
     "text": [
      " 22%|██▏       | 11/50 [10:51<38:48, 59.71s/it]"
     ]
    },
    {
     "name": "stdout",
     "output_type": "stream",
     "text": [
      "Epoch 11 ROC AUC: 0.6768392874204945\n"
     ]
    },
    {
     "name": "stderr",
     "output_type": "stream",
     "text": [
      " 24%|██▍       | 12/50 [11:46<36:47, 58.10s/it]"
     ]
    },
    {
     "name": "stdout",
     "output_type": "stream",
     "text": [
      "Epoch 12 loss: 0.5856108298668494\n"
     ]
    },
    {
     "name": "stderr",
     "output_type": "stream",
     "text": [
      " 26%|██▌       | 13/50 [12:40<35:04, 56.87s/it]"
     ]
    },
    {
     "name": "stdout",
     "output_type": "stream",
     "text": [
      "Epoch 13 loss: 0.5821403891612322\n"
     ]
    },
    {
     "name": "stderr",
     "output_type": "stream",
     "text": [
      " 28%|██▊       | 14/50 [13:34<33:38, 56.07s/it]"
     ]
    },
    {
     "name": "stdout",
     "output_type": "stream",
     "text": [
      "Epoch 14 loss: 0.5777470500041277\n"
     ]
    },
    {
     "name": "stderr",
     "output_type": "stream",
     "text": [
      " 30%|███       | 15/50 [14:28<32:21, 55.47s/it]"
     ]
    },
    {
     "name": "stdout",
     "output_type": "stream",
     "text": [
      "Epoch 15 loss: 0.5731931695571313\n"
     ]
    },
    {
     "name": "stderr",
     "output_type": "stream",
     "text": [
      " 32%|███▏      | 16/50 [15:22<31:13, 55.12s/it]"
     ]
    },
    {
     "name": "stdout",
     "output_type": "stream",
     "text": [
      "Epoch 16 loss: 0.5688190597754258\n"
     ]
    },
    {
     "name": "stderr",
     "output_type": "stream",
     "text": [
      " 34%|███▍      | 17/50 [16:16<30:09, 54.83s/it]"
     ]
    },
    {
     "name": "stdout",
     "output_type": "stream",
     "text": [
      "Epoch 17 loss: 0.5643275899764819\n"
     ]
    },
    {
     "name": "stderr",
     "output_type": "stream",
     "text": [
      " 36%|███▌      | 18/50 [17:11<29:08, 54.64s/it]"
     ]
    },
    {
     "name": "stdout",
     "output_type": "stream",
     "text": [
      "Epoch 18 loss: 0.560099551310906\n"
     ]
    },
    {
     "name": "stderr",
     "output_type": "stream",
     "text": [
      " 38%|███▊      | 19/50 [18:05<28:09, 54.48s/it]"
     ]
    },
    {
     "name": "stdout",
     "output_type": "stream",
     "text": [
      "Epoch 19 loss: 0.5602431129186581\n"
     ]
    },
    {
     "name": "stderr",
     "output_type": "stream",
     "text": [
      " 40%|████      | 20/50 [18:59<27:10, 54.36s/it]"
     ]
    },
    {
     "name": "stdout",
     "output_type": "stream",
     "text": [
      "Epoch 20 loss: 0.5564005543024112\n",
      "Epoch 21 loss: 0.551607825817206\n"
     ]
    },
    {
     "name": "stderr",
     "output_type": "stream",
     "text": [
      " 42%|████▏     | 21/50 [20:07<28:13, 58.40s/it]"
     ]
    },
    {
     "name": "stdout",
     "output_type": "stream",
     "text": [
      "Epoch 21 ROC AUC: 0.7006610319519238\n"
     ]
    },
    {
     "name": "stderr",
     "output_type": "stream",
     "text": [
      " 44%|████▍     | 22/50 [21:01<26:39, 57.11s/it]"
     ]
    },
    {
     "name": "stdout",
     "output_type": "stream",
     "text": [
      "Epoch 22 loss: 0.5491172793583993\n"
     ]
    },
    {
     "name": "stderr",
     "output_type": "stream",
     "text": [
      " 46%|████▌     | 23/50 [21:55<25:16, 56.16s/it]"
     ]
    },
    {
     "name": "stdout",
     "output_type": "stream",
     "text": [
      "Epoch 23 loss: 0.5472998313414745\n"
     ]
    },
    {
     "name": "stderr",
     "output_type": "stream",
     "text": [
      " 48%|████▊     | 24/50 [22:49<24:04, 55.54s/it]"
     ]
    },
    {
     "name": "stdout",
     "output_type": "stream",
     "text": [
      "Epoch 24 loss: 0.5453726099087641\n"
     ]
    },
    {
     "name": "stderr",
     "output_type": "stream",
     "text": [
      " 50%|█████     | 25/50 [23:43<22:57, 55.10s/it]"
     ]
    },
    {
     "name": "stdout",
     "output_type": "stream",
     "text": [
      "Epoch 25 loss: 0.5400536106182978\n"
     ]
    },
    {
     "name": "stderr",
     "output_type": "stream",
     "text": [
      " 52%|█████▏    | 26/50 [24:37<21:54, 54.77s/it]"
     ]
    },
    {
     "name": "stdout",
     "output_type": "stream",
     "text": [
      "Epoch 26 loss: 0.5386487535941296\n"
     ]
    },
    {
     "name": "stderr",
     "output_type": "stream",
     "text": [
      " 54%|█████▍    | 27/50 [25:31<20:56, 54.64s/it]"
     ]
    },
    {
     "name": "stdout",
     "output_type": "stream",
     "text": [
      "Epoch 27 loss: 0.5366421387745783\n"
     ]
    },
    {
     "name": "stderr",
     "output_type": "stream",
     "text": [
      " 56%|█████▌    | 28/50 [26:25<19:58, 54.48s/it]"
     ]
    },
    {
     "name": "stdout",
     "output_type": "stream",
     "text": [
      "Epoch 28 loss: 0.5323177851163424\n"
     ]
    },
    {
     "name": "stderr",
     "output_type": "stream",
     "text": [
      " 58%|█████▊    | 29/50 [27:19<19:01, 54.35s/it]"
     ]
    },
    {
     "name": "stdout",
     "output_type": "stream",
     "text": [
      "Epoch 29 loss: 0.5310478791212424\n"
     ]
    },
    {
     "name": "stderr",
     "output_type": "stream",
     "text": [
      " 60%|██████    | 30/50 [28:14<18:06, 54.31s/it]"
     ]
    },
    {
     "name": "stdout",
     "output_type": "stream",
     "text": [
      "Epoch 30 loss: 0.5269046945449634\n",
      "Epoch 31 loss: 0.5263647865026425\n"
     ]
    },
    {
     "name": "stderr",
     "output_type": "stream",
     "text": [
      " 62%|██████▏   | 31/50 [29:21<18:28, 58.32s/it]"
     ]
    },
    {
     "name": "stdout",
     "output_type": "stream",
     "text": [
      "Epoch 31 ROC AUC: 0.7241083374263156\n"
     ]
    },
    {
     "name": "stderr",
     "output_type": "stream",
     "text": [
      " 64%|██████▍   | 32/50 [30:16<17:07, 57.10s/it]"
     ]
    },
    {
     "name": "stdout",
     "output_type": "stream",
     "text": [
      "Epoch 32 loss: 0.5245819382178478\n"
     ]
    },
    {
     "name": "stderr",
     "output_type": "stream",
     "text": [
      " 66%|██████▌   | 33/50 [31:10<15:55, 56.20s/it]"
     ]
    },
    {
     "name": "stdout",
     "output_type": "stream",
     "text": [
      "Epoch 33 loss: 0.5215428884212787\n"
     ]
    },
    {
     "name": "stderr",
     "output_type": "stream",
     "text": [
      " 68%|██████▊   | 34/50 [32:04<14:49, 55.59s/it]"
     ]
    },
    {
     "name": "stdout",
     "output_type": "stream",
     "text": [
      "Epoch 34 loss: 0.5213764890646323\n"
     ]
    },
    {
     "name": "stderr",
     "output_type": "stream",
     "text": [
      " 70%|███████   | 35/50 [32:58<13:48, 55.24s/it]"
     ]
    },
    {
     "name": "stdout",
     "output_type": "stream",
     "text": [
      "Epoch 35 loss: 0.5189568385099753\n"
     ]
    },
    {
     "name": "stderr",
     "output_type": "stream",
     "text": [
      " 72%|███████▏  | 36/50 [33:52<12:48, 54.92s/it]"
     ]
    },
    {
     "name": "stdout",
     "output_type": "stream",
     "text": [
      "Epoch 36 loss: 0.5165863396265568\n"
     ]
    },
    {
     "name": "stderr",
     "output_type": "stream",
     "text": [
      " 74%|███████▍  | 37/50 [34:47<11:51, 54.71s/it]"
     ]
    },
    {
     "name": "stdout",
     "output_type": "stream",
     "text": [
      "Epoch 37 loss: 0.5143485604188381\n"
     ]
    },
    {
     "name": "stderr",
     "output_type": "stream",
     "text": [
      " 76%|███████▌  | 38/50 [35:41<10:54, 54.53s/it]"
     ]
    },
    {
     "name": "stdout",
     "output_type": "stream",
     "text": [
      "Epoch 38 loss: 0.5117840392467303\n"
     ]
    },
    {
     "name": "stderr",
     "output_type": "stream",
     "text": [
      " 78%|███████▊  | 39/50 [36:35<09:58, 54.41s/it]"
     ]
    },
    {
     "name": "stdout",
     "output_type": "stream",
     "text": [
      "Epoch 39 loss: 0.5091085709058322\n"
     ]
    },
    {
     "name": "stderr",
     "output_type": "stream",
     "text": [
      " 80%|████████  | 40/50 [37:29<09:03, 54.38s/it]"
     ]
    },
    {
     "name": "stdout",
     "output_type": "stream",
     "text": [
      "Epoch 40 loss: 0.5085443013753647\n",
      "Epoch 41 loss: 0.5073813062447768\n"
     ]
    },
    {
     "name": "stderr",
     "output_type": "stream",
     "text": [
      " 82%|████████▏ | 41/50 [38:37<08:44, 58.29s/it]"
     ]
    },
    {
     "name": "stdout",
     "output_type": "stream",
     "text": [
      "Epoch 41 ROC AUC: 0.7390895309390586\n"
     ]
    },
    {
     "name": "stderr",
     "output_type": "stream",
     "text": [
      " 84%|████████▍ | 42/50 [39:31<07:36, 57.02s/it]"
     ]
    },
    {
     "name": "stdout",
     "output_type": "stream",
     "text": [
      "Epoch 42 loss: 0.5051175699784205\n"
     ]
    },
    {
     "name": "stderr",
     "output_type": "stream",
     "text": [
      " 86%|████████▌ | 43/50 [40:25<06:32, 56.14s/it]"
     ]
    },
    {
     "name": "stdout",
     "output_type": "stream",
     "text": [
      "Epoch 43 loss: 0.5052691934964596\n"
     ]
    },
    {
     "name": "stderr",
     "output_type": "stream",
     "text": [
      " 88%|████████▊ | 44/50 [41:19<05:33, 55.61s/it]"
     ]
    },
    {
     "name": "stdout",
     "output_type": "stream",
     "text": [
      "Epoch 44 loss: 0.5018550631327506\n"
     ]
    },
    {
     "name": "stderr",
     "output_type": "stream",
     "text": [
      " 90%|█████████ | 45/50 [42:13<04:35, 55.16s/it]"
     ]
    },
    {
     "name": "stdout",
     "output_type": "stream",
     "text": [
      "Epoch 45 loss: 0.49971548104897523\n"
     ]
    },
    {
     "name": "stderr",
     "output_type": "stream",
     "text": [
      " 92%|█████████▏| 46/50 [43:07<03:39, 54.86s/it]"
     ]
    },
    {
     "name": "stdout",
     "output_type": "stream",
     "text": [
      "Epoch 46 loss: 0.4990856892023331\n"
     ]
    },
    {
     "name": "stderr",
     "output_type": "stream",
     "text": [
      " 94%|█████████▍| 47/50 [44:02<02:43, 54.67s/it]"
     ]
    },
    {
     "name": "stdout",
     "output_type": "stream",
     "text": [
      "Epoch 47 loss: 0.4995819681730026\n"
     ]
    },
    {
     "name": "stderr",
     "output_type": "stream",
     "text": [
      " 96%|█████████▌| 48/50 [44:56<01:49, 54.57s/it]"
     ]
    },
    {
     "name": "stdout",
     "output_type": "stream",
     "text": [
      "Epoch 48 loss: 0.4930452673863142\n"
     ]
    },
    {
     "name": "stderr",
     "output_type": "stream",
     "text": [
      " 98%|█████████▊| 49/50 [45:50<00:54, 54.46s/it]"
     ]
    },
    {
     "name": "stdout",
     "output_type": "stream",
     "text": [
      "Epoch 49 loss: 0.492585749962391\n"
     ]
    },
    {
     "name": "stderr",
     "output_type": "stream",
     "text": [
      "100%|██████████| 50/50 [46:44<00:00, 56.09s/it]"
     ]
    },
    {
     "name": "stdout",
     "output_type": "stream",
     "text": [
      "Epoch 50 loss: 0.4944544931252797\n"
     ]
    },
    {
     "name": "stderr",
     "output_type": "stream",
     "text": [
      "\n"
     ]
    }
   ],
   "source": [
    "from sklearn.metrics import roc_auc_score\n",
    "import numpy as np\n",
    "\n",
    "timestamp = datetime.now().strftime('%Y%m%d_%H%M%S')\n",
    "EPOCHS = 50\n",
    "\n",
    "for epoch in tqdm(range(EPOCHS)):\n",
    "    model.train(True)\n",
    "    avg_loss = train_one_epoch()\n",
    "\n",
    "    print(f\"Epoch {epoch + 1} loss: {avg_loss}\")\n",
    "\n",
    "    # Evaluation\n",
    "\n",
    "    if epoch % 5 == 4:\n",
    "        aucs = []\n",
    "        pair_acc = []\n",
    "\n",
    "        model.eval()\n",
    "        with torch.no_grad():\n",
    "            for batch in testDataLoader:\n",
    "                batch = to_device(batch, device)\n",
    "\n",
    "                u = model(batch['input'])\n",
    "                pos_vec = model.item_emb(batch['pos'])\n",
    "                neg_vec = model.item_emb(batch['neg'])\n",
    "\n",
    "                pos_score = (u * pos_vec).sum(dim = -1)\n",
    "                neg_score = (u * neg_vec).sum(dim = -1)\n",
    "\n",
    "                # ROC AUC\n",
    "                labels = torch.cat([torch.ones_like(pos_score), torch.zeros_like(neg_score)])\n",
    "                scores = torch.cat([pos_score, neg_score])\n",
    "                aucs.append(roc_auc_score(labels.cpu(), scores.cpu()))\n",
    "\n",
    "                # Pair-wise accuarcy\n",
    "                acc = (pos_score > neg_score).float().mean().item()\n",
    "\n",
    "        print(f'Epoch {epoch + 1}. ROC AUC: {float(np.mean(aucs))}, Pair-wise accuaracy: {float(np.mean(pair_acc))}')\n",
    "\n",
    "\n",
    "            "
   ]
  },
  {
   "cell_type": "code",
   "execution_count": 14,
   "id": "9ccb8849",
   "metadata": {},
   "outputs": [],
   "source": [
    "torch.save(model.state_dict(), f'user_tower_{timestamp}.model')"
   ]
  }
 ],
 "metadata": {
  "kernelspec": {
   "display_name": "Python 3",
   "language": "python",
   "name": "python3"
  },
  "language_info": {
   "codemirror_mode": {
    "name": "ipython",
    "version": 3
   },
   "file_extension": ".py",
   "mimetype": "text/x-python",
   "name": "python",
   "nbconvert_exporter": "python",
   "pygments_lexer": "ipython3",
   "version": "3.13.3"
  }
 },
 "nbformat": 4,
 "nbformat_minor": 5
}
