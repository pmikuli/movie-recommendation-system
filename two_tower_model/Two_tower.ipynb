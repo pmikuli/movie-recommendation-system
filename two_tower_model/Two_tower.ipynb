{
 "cells": [
  {
   "cell_type": "code",
   "id": "a2f637b3",
   "metadata": {
    "ExecuteTime": {
     "end_time": "2025-07-07T17:56:40.055889Z",
     "start_time": "2025-07-07T17:56:40.047359Z"
    }
   },
   "source": [
    "import torch.nn as nn\n",
    "import torch\n",
    "import torch.nn.functional as F\n",
    "import torch.optim as optim\n",
    "from torch.optim.lr_scheduler import CosineAnnealingLR\n",
    "from torch.utils.data import TensorDataset\n",
    "\n",
    "from torch.utils.data import Dataset, DataLoader\n",
    "\n",
    "import pandas as pd\n",
    "import numpy as np\n",
    "\n",
    "from datetime import datetime\n",
    "from tqdm import tqdm\n",
    "\n",
    "import random\n",
    "from pathlib import Path\n",
    "\n",
    "from sklearn.model_selection import train_test_split\n",
    "from itertools import chain\n",
    "\n",
    "from sklearn.metrics import roc_auc_score\n",
    "from tqdm.auto import tqdm, trange"
   ],
   "outputs": [],
   "execution_count": 839
  },
  {
   "cell_type": "code",
   "id": "d42b9ecd",
   "metadata": {
    "ExecuteTime": {
     "end_time": "2025-07-07T17:56:40.068004Z",
     "start_time": "2025-07-07T17:56:40.062298Z"
    }
   },
   "source": [
    "import os\n",
    "os.environ['CUDA_LAUNCH_BLOCKING'] = '1' # Tylko do debugging\n",
    "\n",
    "print(\"CUDA available:\", torch.cuda.is_available())\n",
    "print(\"Number of GPUs:\", torch.cuda.device_count())\n",
    "print(\"Current device:\", torch.cuda.current_device(), torch.cuda.get_device_name(0))"
   ],
   "outputs": [
    {
     "name": "stdout",
     "output_type": "stream",
     "text": [
      "CUDA available: True\n",
      "Number of GPUs: 1\n",
      "Current device: 0 NVIDIA GeForce RTX 3060 Ti\n"
     ]
    }
   ],
   "execution_count": 840
  },
  {
   "cell_type": "code",
   "id": "3a13e1d5",
   "metadata": {
    "ExecuteTime": {
     "end_time": "2025-07-07T17:56:41.631244Z",
     "start_time": "2025-07-07T17:56:40.268671Z"
    }
   },
   "source": [
    "BASE_DIR = Path(os.getcwd()).parent\n",
    "DATA_DIR = BASE_DIR / \"data\"\n",
    "df_users = pd.read_parquet(DATA_DIR / 'user_features_clean.parquet')\n",
    "df_movies = pd.read_parquet(DATA_DIR / 'Movies_clean_Vec_v4_25keywords.parquet')\n",
    "df_ratings = pd.read_parquet(DATA_DIR / 'ratings_groupped_ids.parquet')"
   ],
   "outputs": [],
   "execution_count": 841
  },
  {
   "metadata": {
    "ExecuteTime": {
     "end_time": "2025-07-07T17:56:41.874919Z",
     "start_time": "2025-07-07T17:56:41.826635Z"
    }
   },
   "cell_type": "code",
   "source": [
    "df_movies.info()\n",
    "df_ratings.info()\n",
    "df_users.info()"
   ],
   "id": "ed8687c1986623ba",
   "outputs": [
    {
     "name": "stdout",
     "output_type": "stream",
     "text": [
      "<class 'pandas.core.frame.DataFrame'>\n",
      "RangeIndex: 82918 entries, 0 to 82917\n",
      "Data columns (total 29 columns):\n",
      " #   Column               Non-Null Count  Dtype  \n",
      "---  ------               --------------  -----  \n",
      " 0   movieId              82918 non-null  int64  \n",
      " 1   runtime              82918 non-null  float64\n",
      " 2   if_blockbuster       82918 non-null  int32  \n",
      " 3   highly_watched       82918 non-null  int32  \n",
      " 4   highly_rated         82918 non-null  int64  \n",
      " 5   engagement_score     82918 non-null  float64\n",
      " 6   cast_importance      82918 non-null  float64\n",
      " 7   director_score       82918 non-null  float64\n",
      " 8   has_keywords         82918 non-null  int64  \n",
      " 9   has_cast             82918 non-null  int64  \n",
      " 10  has_director         82918 non-null  int64  \n",
      " 11  genre_ids            82918 non-null  object \n",
      " 12  decade_[1890, 1900)  82918 non-null  bool   \n",
      " 13  decade_[1900, 1910)  82918 non-null  bool   \n",
      " 14  decade_[1910, 1920)  82918 non-null  bool   \n",
      " 15  decade_[1920, 1930)  82918 non-null  bool   \n",
      " 16  decade_[1930, 1940)  82918 non-null  bool   \n",
      " 17  decade_[1940, 1950)  82918 non-null  bool   \n",
      " 18  decade_[1950, 1960)  82918 non-null  bool   \n",
      " 19  decade_[1960, 1970)  82918 non-null  bool   \n",
      " 20  decade_[1970, 1980)  82918 non-null  bool   \n",
      " 21  decade_[1980, 1990)  82918 non-null  bool   \n",
      " 22  decade_[1990, 2000)  82918 non-null  bool   \n",
      " 23  decade_[2000, 2010)  82918 non-null  bool   \n",
      " 24  decade_[2010, 2020)  82918 non-null  bool   \n",
      " 25  decade_[2020, 2030)  82918 non-null  bool   \n",
      " 26  text_embedded        82918 non-null  object \n",
      " 27  actor_ids            82918 non-null  object \n",
      " 28  director_ids         82918 non-null  object \n",
      "dtypes: bool(14), float64(4), int32(2), int64(5), object(4)\n",
      "memory usage: 10.0+ MB\n",
      "<class 'pandas.core.frame.DataFrame'>\n",
      "RangeIndex: 198832 entries, 0 to 198831\n",
      "Data columns (total 3 columns):\n",
      " #   Column  Non-Null Count   Dtype \n",
      "---  ------  --------------   ----- \n",
      " 0   userId  198832 non-null  int64 \n",
      " 1   pos     198832 non-null  object\n",
      " 2   neg     198832 non-null  object\n",
      "dtypes: int64(1), object(2)\n",
      "memory usage: 4.6+ MB\n",
      "<class 'pandas.core.frame.DataFrame'>\n",
      "RangeIndex: 198832 entries, 0 to 198831\n",
      "Data columns (total 29 columns):\n",
      " #   Column                   Non-Null Count   Dtype  \n",
      "---  ------                   --------------   -----  \n",
      " 0   userId                   198832 non-null  int64  \n",
      " 1   num_rating               198832 non-null  float64\n",
      " 2   avg_rating               198832 non-null  float64\n",
      " 3   weekend_watcher          198832 non-null  float64\n",
      " 4   genre_Action             198832 non-null  float64\n",
      " 5   genre_Adventure          198832 non-null  float64\n",
      " 6   genre_Animation          198832 non-null  float64\n",
      " 7   genre_Comedy             198832 non-null  float64\n",
      " 8   genre_Crime              198832 non-null  float64\n",
      " 9   genre_Documentary        198832 non-null  float64\n",
      " 10  genre_Drama              198832 non-null  float64\n",
      " 11  genre_Family             198832 non-null  float64\n",
      " 12  genre_Fantasy            198832 non-null  float64\n",
      " 13  genre_History            198832 non-null  float64\n",
      " 14  genre_Horror             198832 non-null  float64\n",
      " 15  genre_Music              198832 non-null  float64\n",
      " 16  genre_Mystery            198832 non-null  float64\n",
      " 17  genre_Romance            198832 non-null  float64\n",
      " 18  genre_Science Fiction    198832 non-null  float64\n",
      " 19  genre_TV Movie           198832 non-null  float64\n",
      " 20  genre_Thriller           198832 non-null  float64\n",
      " 21  genre_War                198832 non-null  float64\n",
      " 22  genre_Western            198832 non-null  float64\n",
      " 23  type_of_viewer_negative  198832 non-null  float64\n",
      " 24  type_of_viewer_neutral   198832 non-null  float64\n",
      " 25  type_of_viewer_positive  198832 non-null  float64\n",
      " 26  movies_seq               198832 non-null  object \n",
      " 27  ratings_seq              198832 non-null  object \n",
      " 28  ts_seq                   198832 non-null  object \n",
      "dtypes: float64(25), int64(1), object(3)\n",
      "memory usage: 44.0+ MB\n"
     ]
    }
   ],
   "execution_count": 843
  },
  {
   "cell_type": "markdown",
   "id": "c068c70a",
   "metadata": {},
   "source": [
    "# Przygotowanie movieId dla datasetów"
   ]
  },
  {
   "metadata": {
    "ExecuteTime": {
     "end_time": "2025-07-07T17:56:42.014357Z",
     "start_time": "2025-07-07T17:56:41.972106Z"
    }
   },
   "cell_type": "code",
   "source": [
    "'''\n",
    "Sanity check do LOOCV\n",
    "'''\n",
    "single_pos_users = (df_ratings['pos'].apply(len) == 1).sum()\n",
    "\n",
    "print(f\"Liczba użytkowników z dokładnie jednym pozytywnym ratingiem: {single_pos_users}\")"
   ],
   "id": "1377db81fa9a9a8b",
   "outputs": [
    {
     "name": "stdout",
     "output_type": "stream",
     "text": [
      "Liczba użytkowników z dokładnie jednym pozytywnym ratingiem: 262\n"
     ]
    }
   ],
   "execution_count": 844
  },
  {
   "metadata": {
    "ExecuteTime": {
     "end_time": "2025-07-07T18:22:23.695765900Z",
     "start_time": "2025-07-07T17:56:42.104373Z"
    }
   },
   "cell_type": "code",
   "source": [
    "'''\n",
    "Do sprzatniecia userow (wyruczamy np. 262 uzytkownikow z 1 pos)\n",
    "'''\n",
    "pos_counts = df_ratings['pos'].apply(len)\n",
    "neg_counts = df_ratings['neg'].apply(len)\n",
    "\n",
    "mask = (pos_counts >= 5) & (neg_counts >= 10) # Wycinamy userow o wybranych parametrach\n",
    "df_ratings = df_ratings.loc[mask]\n",
    "\n",
    "common_users = set(df_ratings['userId'])\n",
    "df_users   = df_users[df_users['userId'].isin(common_users)].reset_index(drop=True)\n",
    "df_ratings = df_ratings[df_ratings['userId'].isin(common_users)].copy()\n",
    "\n",
    "df_ratings = df_ratings.set_index('userId', drop=False)\n",
    "df_movies  = df_movies.set_index('movieId', drop=False)\n",
    "\n",
    "# Jezeli dodadtkowo usuwamy filmy ktore sie nie pojawiaja w ocenach (oszczedzamy pamiec)\n",
    "# used_movie_ids = set(df_users['movies_seq'].explode()) \\\n",
    "#                | set(df_ratings['pos'].explode()) \\\n",
    "#                | set(df_ratings['neg'].explode())\n",
    "# df_movies = df_movies.loc[df_movies.index.isin(used_movie_ids)].copy()\n",
    "\n",
    "single_pos_users = (df_ratings['pos'].apply(len) == 1).sum()\n",
    "\n",
    "print(f\"Liczba użytkowników z dokładnie jednym pozytywnym ratingiem: {single_pos_users}\")"
   ],
   "id": "8c4afa2dc04fe91c",
   "outputs": [
    {
     "name": "stdout",
     "output_type": "stream",
     "text": [
      "165747 165747 — powinny być równe\n",
      "Liczba użytkowników z dokładnie jednym pozytywnym ratingiem: 0\n"
     ]
    }
   ],
   "execution_count": 845
  },
  {
   "cell_type": "code",
   "id": "94880cb6",
   "metadata": {
    "ExecuteTime": {
     "end_time": "2025-07-07T17:56:42.613748Z",
     "start_time": "2025-07-07T17:56:42.523661Z"
    }
   },
   "source": [
    "print(df_users.info())\n",
    "print(df_ratings.info())\n",
    "print(df_movies.info())\n",
    "\n",
    "empty_pos_ratings = df_ratings['pos'].apply(lambda x: len(x) == 0).sum()\n",
    "empty_neg_ratings = df_ratings['neg'].apply(lambda x: len(x) == 0).sum()\n",
    "\n",
    "if empty_pos_ratings != 0 or empty_neg_ratings != 0:\n",
    "    print(f'Empty ratings: pos: {empty_pos_ratings}, neg: {empty_neg_ratings}')\n",
    "    raise Exception(\"Users without a single pos/neg rating exist in the ratings_groupped_ids dataset\")"
   ],
   "outputs": [
    {
     "name": "stdout",
     "output_type": "stream",
     "text": [
      "<class 'pandas.core.frame.DataFrame'>\n",
      "RangeIndex: 165747 entries, 0 to 165746\n",
      "Data columns (total 29 columns):\n",
      " #   Column                   Non-Null Count   Dtype  \n",
      "---  ------                   --------------   -----  \n",
      " 0   userId                   165747 non-null  int64  \n",
      " 1   num_rating               165747 non-null  float64\n",
      " 2   avg_rating               165747 non-null  float64\n",
      " 3   weekend_watcher          165747 non-null  float64\n",
      " 4   genre_Action             165747 non-null  float64\n",
      " 5   genre_Adventure          165747 non-null  float64\n",
      " 6   genre_Animation          165747 non-null  float64\n",
      " 7   genre_Comedy             165747 non-null  float64\n",
      " 8   genre_Crime              165747 non-null  float64\n",
      " 9   genre_Documentary        165747 non-null  float64\n",
      " 10  genre_Drama              165747 non-null  float64\n",
      " 11  genre_Family             165747 non-null  float64\n",
      " 12  genre_Fantasy            165747 non-null  float64\n",
      " 13  genre_History            165747 non-null  float64\n",
      " 14  genre_Horror             165747 non-null  float64\n",
      " 15  genre_Music              165747 non-null  float64\n",
      " 16  genre_Mystery            165747 non-null  float64\n",
      " 17  genre_Romance            165747 non-null  float64\n",
      " 18  genre_Science Fiction    165747 non-null  float64\n",
      " 19  genre_TV Movie           165747 non-null  float64\n",
      " 20  genre_Thriller           165747 non-null  float64\n",
      " 21  genre_War                165747 non-null  float64\n",
      " 22  genre_Western            165747 non-null  float64\n",
      " 23  type_of_viewer_negative  165747 non-null  float64\n",
      " 24  type_of_viewer_neutral   165747 non-null  float64\n",
      " 25  type_of_viewer_positive  165747 non-null  float64\n",
      " 26  movies_seq               165747 non-null  object \n",
      " 27  ratings_seq              165747 non-null  object \n",
      " 28  ts_seq                   165747 non-null  object \n",
      "dtypes: float64(25), int64(1), object(3)\n",
      "memory usage: 36.7+ MB\n",
      "None\n",
      "<class 'pandas.core.frame.DataFrame'>\n",
      "Index: 165747 entries, 1 to 200948\n",
      "Data columns (total 3 columns):\n",
      " #   Column  Non-Null Count   Dtype \n",
      "---  ------  --------------   ----- \n",
      " 0   userId  165747 non-null  int64 \n",
      " 1   pos     165747 non-null  object\n",
      " 2   neg     165747 non-null  object\n",
      "dtypes: int64(1), object(2)\n",
      "memory usage: 5.1+ MB\n",
      "None\n",
      "<class 'pandas.core.frame.DataFrame'>\n",
      "Index: 82918 entries, 79132 to 136560\n",
      "Data columns (total 29 columns):\n",
      " #   Column               Non-Null Count  Dtype  \n",
      "---  ------               --------------  -----  \n",
      " 0   movieId              82918 non-null  int64  \n",
      " 1   runtime              82918 non-null  float64\n",
      " 2   if_blockbuster       82918 non-null  int32  \n",
      " 3   highly_watched       82918 non-null  int32  \n",
      " 4   highly_rated         82918 non-null  int64  \n",
      " 5   engagement_score     82918 non-null  float64\n",
      " 6   cast_importance      82918 non-null  float64\n",
      " 7   director_score       82918 non-null  float64\n",
      " 8   has_keywords         82918 non-null  int64  \n",
      " 9   has_cast             82918 non-null  int64  \n",
      " 10  has_director         82918 non-null  int64  \n",
      " 11  genre_ids            82918 non-null  object \n",
      " 12  decade_[1890, 1900)  82918 non-null  bool   \n",
      " 13  decade_[1900, 1910)  82918 non-null  bool   \n",
      " 14  decade_[1910, 1920)  82918 non-null  bool   \n",
      " 15  decade_[1920, 1930)  82918 non-null  bool   \n",
      " 16  decade_[1930, 1940)  82918 non-null  bool   \n",
      " 17  decade_[1940, 1950)  82918 non-null  bool   \n",
      " 18  decade_[1950, 1960)  82918 non-null  bool   \n",
      " 19  decade_[1960, 1970)  82918 non-null  bool   \n",
      " 20  decade_[1970, 1980)  82918 non-null  bool   \n",
      " 21  decade_[1980, 1990)  82918 non-null  bool   \n",
      " 22  decade_[1990, 2000)  82918 non-null  bool   \n",
      " 23  decade_[2000, 2010)  82918 non-null  bool   \n",
      " 24  decade_[2010, 2020)  82918 non-null  bool   \n",
      " 25  decade_[2020, 2030)  82918 non-null  bool   \n",
      " 26  text_embedded        82918 non-null  object \n",
      " 27  actor_ids            82918 non-null  object \n",
      " 28  director_ids         82918 non-null  object \n",
      "dtypes: bool(14), float64(4), int32(2), int64(5), object(4)\n",
      "memory usage: 10.6+ MB\n",
      "None\n"
     ]
    }
   ],
   "execution_count": 847
  },
  {
   "cell_type": "code",
   "id": "316494e6",
   "metadata": {
    "ExecuteTime": {
     "end_time": "2025-07-07T17:56:45.110119Z",
     "start_time": "2025-07-07T17:56:42.705402Z"
    }
   },
   "source": [
    "unique_ids = set(\n",
    "        df_users['movies_seq'].explode().tolist()\n",
    "        + df_ratings['pos'].explode().tolist() \n",
    "        + df_ratings['neg'].explode().tolist()\n",
    "    )\n",
    "\n",
    "print('Unique movieIds:', len(unique_ids))\n",
    "unique_ids = sorted(unique_ids)\n",
    "\n",
    "movieId_to_idx = {id_: idx for idx, id_ in enumerate(unique_ids)}\n",
    "print('min idx:', min(movieId_to_idx.values()))\n",
    "print('max idx:', max(movieId_to_idx.values()))\n",
    "\n",
    "n_items = len(unique_ids)\n",
    "\n",
    "assert min(movieId_to_idx.values()) == 0\n",
    "assert max(movieId_to_idx.values()) == n_items - 1"
   ],
   "outputs": [
    {
     "name": "stdout",
     "output_type": "stream",
     "text": [
      "Unique movieIds: 82779\n",
      "min idx: 0\n",
      "max idx: 82778\n"
     ]
    }
   ],
   "execution_count": 848
  },
  {
   "cell_type": "code",
   "id": "b2a6c390",
   "metadata": {
    "ExecuteTime": {
     "end_time": "2025-07-07T17:56:49.061523Z",
     "start_time": "2025-07-07T17:56:45.214423Z"
    }
   },
   "source": [
    "# Zmapuj movieId do indeksów\n",
    "df_users['movies_seq'] = df_users['movies_seq'].apply(lambda lst: [movieId_to_idx[m] for m in lst])\n",
    "df_ratings['pos'] = df_ratings['pos'].apply(lambda lst: [movieId_to_idx[m] for m in lst])\n",
    "df_ratings['neg'] = df_ratings['neg'].apply(lambda lst: [movieId_to_idx[m] for m in lst])\n",
    "df_ratings = df_ratings.set_index('userId')\n",
    "\n",
    "# df_movies musi być ograniczone tylko do używanych filmów\n",
    "df_movies = df_movies[df_movies['movieId'].isin(movieId_to_idx)].copy()\n",
    "df_movies['movieId'] = df_movies['movieId'].map(movieId_to_idx)\n",
    "df_movies = df_movies.set_index('movieId')\n",
    "\n",
    "# Final sanity check\n",
    "assert df_users['movies_seq'].explode().max() < n_items\n",
    "assert df_ratings['pos'].explode().max() < n_items\n",
    "assert df_ratings['neg'].explode().max() < n_items\n",
    "\n",
    "assert df_movies.index.max() < n_items\n",
    "assert df_movies.index.notna().all()\n",
    "\n",
    "# assert df_movies['movieId'].max() < n_items\n",
    "# assert df_movies['movieId'].notna().all(), \"Some movieIds weren't mapped!\""
   ],
   "outputs": [],
   "execution_count": 849
  },
  {
   "cell_type": "code",
   "id": "b1c98cc7",
   "metadata": {
    "ExecuteTime": {
     "end_time": "2025-07-07T17:56:49.267606Z",
     "start_time": "2025-07-07T17:56:49.158805Z"
    }
   },
   "source": [
    "max_movie_idx = df_users['movies_seq'].explode().max()\n",
    "print(\"max_movie_idx =\", max_movie_idx)\n",
    "print(\"n_items =\", n_items)\n",
    "\n",
    "assert max_movie_idx < n_items, \"Indeks filmu przekracza rozmiar embeddingu\""
   ],
   "outputs": [
    {
     "name": "stdout",
     "output_type": "stream",
     "text": [
      "max_movie_idx = 82778\n",
      "n_items = 82779\n"
     ]
    }
   ],
   "execution_count": 850
  },
  {
   "cell_type": "code",
   "id": "8aa20b8c",
   "metadata": {
    "ExecuteTime": {
     "end_time": "2025-07-07T17:56:49.485713Z",
     "start_time": "2025-07-07T17:56:49.365808Z"
    }
   },
   "source": [
    "def has_invalid_entries(seq_col):\n",
    "    return seq_col.explode().isin([-1, np.nan, None]).any()\n",
    "\n",
    "print(\"Zawiera niepoprawne wartości:\", has_invalid_entries(df_users['movies_seq']))"
   ],
   "outputs": [
    {
     "name": "stdout",
     "output_type": "stream",
     "text": [
      "Zawiera niepoprawne wartości: False\n"
     ]
    }
   ],
   "execution_count": 851
  },
  {
   "metadata": {
    "ExecuteTime": {
     "end_time": "2025-07-07T17:56:49.619026Z",
     "start_time": "2025-07-07T17:56:49.576734Z"
    }
   },
   "cell_type": "code",
   "source": [
    "df_users.info()\n",
    "df_users.head(100)"
   ],
   "id": "b8dde55207019a1a",
   "outputs": [
    {
     "name": "stdout",
     "output_type": "stream",
     "text": [
      "<class 'pandas.core.frame.DataFrame'>\n",
      "RangeIndex: 165747 entries, 0 to 165746\n",
      "Data columns (total 29 columns):\n",
      " #   Column                   Non-Null Count   Dtype  \n",
      "---  ------                   --------------   -----  \n",
      " 0   userId                   165747 non-null  int64  \n",
      " 1   num_rating               165747 non-null  float64\n",
      " 2   avg_rating               165747 non-null  float64\n",
      " 3   weekend_watcher          165747 non-null  float64\n",
      " 4   genre_Action             165747 non-null  float64\n",
      " 5   genre_Adventure          165747 non-null  float64\n",
      " 6   genre_Animation          165747 non-null  float64\n",
      " 7   genre_Comedy             165747 non-null  float64\n",
      " 8   genre_Crime              165747 non-null  float64\n",
      " 9   genre_Documentary        165747 non-null  float64\n",
      " 10  genre_Drama              165747 non-null  float64\n",
      " 11  genre_Family             165747 non-null  float64\n",
      " 12  genre_Fantasy            165747 non-null  float64\n",
      " 13  genre_History            165747 non-null  float64\n",
      " 14  genre_Horror             165747 non-null  float64\n",
      " 15  genre_Music              165747 non-null  float64\n",
      " 16  genre_Mystery            165747 non-null  float64\n",
      " 17  genre_Romance            165747 non-null  float64\n",
      " 18  genre_Science Fiction    165747 non-null  float64\n",
      " 19  genre_TV Movie           165747 non-null  float64\n",
      " 20  genre_Thriller           165747 non-null  float64\n",
      " 21  genre_War                165747 non-null  float64\n",
      " 22  genre_Western            165747 non-null  float64\n",
      " 23  type_of_viewer_negative  165747 non-null  float64\n",
      " 24  type_of_viewer_neutral   165747 non-null  float64\n",
      " 25  type_of_viewer_positive  165747 non-null  float64\n",
      " 26  movies_seq               165747 non-null  object \n",
      " 27  ratings_seq              165747 non-null  object \n",
      " 28  ts_seq                   165747 non-null  object \n",
      "dtypes: float64(25), int64(1), object(3)\n",
      "memory usage: 36.7+ MB\n"
     ]
    },
    {
     "data": {
      "text/plain": [
       "    userId  num_rating  avg_rating  weekend_watcher  genre_Action  \\\n",
       "0        1   -0.068675   -0.347979              0.0      0.926736   \n",
       "1        2   -0.383417    1.210645              0.0      0.713096   \n",
       "2        3   -0.047456   -0.228499              0.0      0.045472   \n",
       "3        4   -0.471828   -2.255334              0.0     -1.763184   \n",
       "4        5   -0.450609   -0.895880              0.0      0.178997   \n",
       "..     ...         ...         ...              ...           ...   \n",
       "95     111   -0.079284    0.166648              1.0      0.466589   \n",
       "96     113   -0.464755   -0.014529              1.0     -1.957402   \n",
       "97     114   -0.058066    1.177332              0.0      1.071505   \n",
       "98     115    1.140784    0.166648              1.0      0.646334   \n",
       "99     116   -0.291470   -0.022473              0.0      0.083622   \n",
       "\n",
       "    genre_Adventure  genre_Animation  genre_Comedy  genre_Crime  \\\n",
       "0         -0.375240        -0.179705     -0.402570     0.892727   \n",
       "1          0.940526         1.581734      0.973277     0.410751   \n",
       "2          0.066743         0.383741     -0.669363    -0.692235   \n",
       "3         -0.917026        -1.363040     -0.993442    -2.681933   \n",
       "4         -0.375240        -0.002980     -0.993442    -1.908762   \n",
       "..              ...              ...           ...          ...   \n",
       "95         0.418090         0.762054      0.046650     0.367496   \n",
       "96        -1.187919         0.027169     -0.558495     0.199886   \n",
       "97         1.402083         0.980635      1.012928     0.457610   \n",
       "98         0.669938         0.816700      0.062161    -0.057838   \n",
       "99        -0.189892         1.745670     -0.123547    -0.196540   \n",
       "\n",
       "    genre_Documentary  ...  genre_TV Movie  genre_Thriller  genre_War  \\\n",
       "0           -1.076257  ...       -0.284700       -0.022680  -0.426892   \n",
       "1            0.788073  ...        1.018523        1.084306  -1.207360   \n",
       "2           -0.211924  ...       -0.184799       -0.650122   0.197482   \n",
       "3           -1.620281  ...       -1.879511       -2.686105  -1.909780   \n",
       "4           -0.675657  ...       -0.742820       -0.372255   0.197482   \n",
       "..                ...  ...             ...             ...        ...   \n",
       "95           0.062646  ...        0.145599        0.013734   1.251114   \n",
       "96          -0.063246  ...       -0.005890       -0.896616  -2.612201   \n",
       "97           0.764926  ...        0.990670        0.996912   0.618935   \n",
       "98          -0.709040  ...        0.145599        0.382795   0.089417   \n",
       "99          -0.068766  ...       -0.012532       -0.128612   0.548693   \n",
       "\n",
       "    genre_Western  type_of_viewer_negative  type_of_viewer_neutral  \\\n",
       "0       -0.911843                      0.0                     1.0   \n",
       "1        0.791019                      0.0                     0.0   \n",
       "2        0.094394                      0.0                     1.0   \n",
       "3       -1.408750                      1.0                     0.0   \n",
       "4       -0.911843                      0.0                     1.0   \n",
       "..            ...                      ...                     ...   \n",
       "95       0.765219                      0.0                     1.0   \n",
       "96      -0.241018                      0.0                     1.0   \n",
       "97       0.769877                      0.0                     0.0   \n",
       "98       0.161476                      0.0                     1.0   \n",
       "99       0.008391                      0.0                     1.0   \n",
       "\n",
       "    type_of_viewer_positive  \\\n",
       "0                       0.0   \n",
       "1                       1.0   \n",
       "2                       0.0   \n",
       "3                       0.0   \n",
       "4                       0.0   \n",
       "..                      ...   \n",
       "95                      0.0   \n",
       "96                      0.0   \n",
       "97                      1.0   \n",
       "98                      0.0   \n",
       "99                      0.0   \n",
       "\n",
       "                                           movies_seq  \\\n",
       "0   [24, 1013, 1314, 1360, 1619, 303, 1027, 1190, ...   \n",
       "1   [30, 191, 273, 545, 234, 577, 503, 216, 376, 2...   \n",
       "2   [5218, 4768, 5679, 6196, 3893, 6222, 6391, 516...   \n",
       "3   [2573, 2589, 2600, 2660, 220, 2612, 2770, 3091...   \n",
       "4   [228, 312, 159, 288, 314, 324, 429, 9, 183, 25...   \n",
       "..                                                ...   \n",
       "95  [1264, 37690, 488, 45208, 45487, 44791, 2161, ...   \n",
       "96  [2221, 4867, 3825, 143, 1164, 3334, 2434, 3826...   \n",
       "97  [4750, 10634, 4768, 5679, 10365, 5858, 4244, 1...   \n",
       "98  [4773, 372, 363, 6186, 5333, 6616, 2089, 2298,...   \n",
       "99  [2463, 2848, 1556, 6993, 7894, 3827, 49, 5852,...   \n",
       "\n",
       "                                          ratings_seq  \\\n",
       "0   [-2.3984964034019467, 1.3836304001080941, -2.3...   \n",
       "1   [1.3836304001080941, -0.5074330016469263, 0.43...   \n",
       "2   [-0.5074330016469263, -0.5074330016469263, -0....   \n",
       "3   [-0.5074330016469263, -1.4529647025244365, -1....   \n",
       "4   [-1.4529647025244365, -0.5074330016469263, 0.4...   \n",
       "..                                                ...   \n",
       "95  [0.9108645496693389, 0.43809869923058387, 0.91...   \n",
       "96  [0.43809869923058387, -0.9801988520856814, -0....   \n",
       "97  [0.9108645496693389, 0.9108645496693389, 1.383...   \n",
       "98  [0.43809869923058387, 0.43809869923058387, 0.4...   \n",
       "99  [0.9108645496693389, 0.9108645496693389, 0.910...   \n",
       "\n",
       "                                               ts_seq  \n",
       "0   [-1.2878777024141752, -1.2878663519376752, -1....  \n",
       "1   [-1.709033992628413, -1.709033992628413, -1.70...  \n",
       "2   [-0.740135863595513, -0.7401358518778841, -0.7...  \n",
       "3   [-1.2244648204630921, -1.2244648204630921, -1....  \n",
       "4   [-1.6920817200700495, -1.6920817200700495, -1....  \n",
       "..                                                ...  \n",
       "95  [0.9246839617431796, 0.9257092894223203, 0.925...  \n",
       "96  [-0.48407174631231736, -0.4840717306888122, -0...  \n",
       "97  [0.9153434452762212, 0.9153434569938501, 0.915...  \n",
       "98  [-0.6378642152290904, -0.6378642035114616, -0....  \n",
       "99  [-0.6085594097023558, -0.608559276902562, -0.6...  \n",
       "\n",
       "[100 rows x 29 columns]"
      ],
      "text/html": [
       "<div>\n",
       "<style scoped>\n",
       "    .dataframe tbody tr th:only-of-type {\n",
       "        vertical-align: middle;\n",
       "    }\n",
       "\n",
       "    .dataframe tbody tr th {\n",
       "        vertical-align: top;\n",
       "    }\n",
       "\n",
       "    .dataframe thead th {\n",
       "        text-align: right;\n",
       "    }\n",
       "</style>\n",
       "<table border=\"1\" class=\"dataframe\">\n",
       "  <thead>\n",
       "    <tr style=\"text-align: right;\">\n",
       "      <th></th>\n",
       "      <th>userId</th>\n",
       "      <th>num_rating</th>\n",
       "      <th>avg_rating</th>\n",
       "      <th>weekend_watcher</th>\n",
       "      <th>genre_Action</th>\n",
       "      <th>genre_Adventure</th>\n",
       "      <th>genre_Animation</th>\n",
       "      <th>genre_Comedy</th>\n",
       "      <th>genre_Crime</th>\n",
       "      <th>genre_Documentary</th>\n",
       "      <th>...</th>\n",
       "      <th>genre_TV Movie</th>\n",
       "      <th>genre_Thriller</th>\n",
       "      <th>genre_War</th>\n",
       "      <th>genre_Western</th>\n",
       "      <th>type_of_viewer_negative</th>\n",
       "      <th>type_of_viewer_neutral</th>\n",
       "      <th>type_of_viewer_positive</th>\n",
       "      <th>movies_seq</th>\n",
       "      <th>ratings_seq</th>\n",
       "      <th>ts_seq</th>\n",
       "    </tr>\n",
       "  </thead>\n",
       "  <tbody>\n",
       "    <tr>\n",
       "      <th>0</th>\n",
       "      <td>1</td>\n",
       "      <td>-0.068675</td>\n",
       "      <td>-0.347979</td>\n",
       "      <td>0.0</td>\n",
       "      <td>0.926736</td>\n",
       "      <td>-0.375240</td>\n",
       "      <td>-0.179705</td>\n",
       "      <td>-0.402570</td>\n",
       "      <td>0.892727</td>\n",
       "      <td>-1.076257</td>\n",
       "      <td>...</td>\n",
       "      <td>-0.284700</td>\n",
       "      <td>-0.022680</td>\n",
       "      <td>-0.426892</td>\n",
       "      <td>-0.911843</td>\n",
       "      <td>0.0</td>\n",
       "      <td>1.0</td>\n",
       "      <td>0.0</td>\n",
       "      <td>[24, 1013, 1314, 1360, 1619, 303, 1027, 1190, ...</td>\n",
       "      <td>[-2.3984964034019467, 1.3836304001080941, -2.3...</td>\n",
       "      <td>[-1.2878777024141752, -1.2878663519376752, -1....</td>\n",
       "    </tr>\n",
       "    <tr>\n",
       "      <th>1</th>\n",
       "      <td>2</td>\n",
       "      <td>-0.383417</td>\n",
       "      <td>1.210645</td>\n",
       "      <td>0.0</td>\n",
       "      <td>0.713096</td>\n",
       "      <td>0.940526</td>\n",
       "      <td>1.581734</td>\n",
       "      <td>0.973277</td>\n",
       "      <td>0.410751</td>\n",
       "      <td>0.788073</td>\n",
       "      <td>...</td>\n",
       "      <td>1.018523</td>\n",
       "      <td>1.084306</td>\n",
       "      <td>-1.207360</td>\n",
       "      <td>0.791019</td>\n",
       "      <td>0.0</td>\n",
       "      <td>0.0</td>\n",
       "      <td>1.0</td>\n",
       "      <td>[30, 191, 273, 545, 234, 577, 503, 216, 376, 2...</td>\n",
       "      <td>[1.3836304001080941, -0.5074330016469263, 0.43...</td>\n",
       "      <td>[-1.709033992628413, -1.709033992628413, -1.70...</td>\n",
       "    </tr>\n",
       "    <tr>\n",
       "      <th>2</th>\n",
       "      <td>3</td>\n",
       "      <td>-0.047456</td>\n",
       "      <td>-0.228499</td>\n",
       "      <td>0.0</td>\n",
       "      <td>0.045472</td>\n",
       "      <td>0.066743</td>\n",
       "      <td>0.383741</td>\n",
       "      <td>-0.669363</td>\n",
       "      <td>-0.692235</td>\n",
       "      <td>-0.211924</td>\n",
       "      <td>...</td>\n",
       "      <td>-0.184799</td>\n",
       "      <td>-0.650122</td>\n",
       "      <td>0.197482</td>\n",
       "      <td>0.094394</td>\n",
       "      <td>0.0</td>\n",
       "      <td>1.0</td>\n",
       "      <td>0.0</td>\n",
       "      <td>[5218, 4768, 5679, 6196, 3893, 6222, 6391, 516...</td>\n",
       "      <td>[-0.5074330016469263, -0.5074330016469263, -0....</td>\n",
       "      <td>[-0.740135863595513, -0.7401358518778841, -0.7...</td>\n",
       "    </tr>\n",
       "    <tr>\n",
       "      <th>3</th>\n",
       "      <td>4</td>\n",
       "      <td>-0.471828</td>\n",
       "      <td>-2.255334</td>\n",
       "      <td>0.0</td>\n",
       "      <td>-1.763184</td>\n",
       "      <td>-0.917026</td>\n",
       "      <td>-1.363040</td>\n",
       "      <td>-0.993442</td>\n",
       "      <td>-2.681933</td>\n",
       "      <td>-1.620281</td>\n",
       "      <td>...</td>\n",
       "      <td>-1.879511</td>\n",
       "      <td>-2.686105</td>\n",
       "      <td>-1.909780</td>\n",
       "      <td>-1.408750</td>\n",
       "      <td>1.0</td>\n",
       "      <td>0.0</td>\n",
       "      <td>0.0</td>\n",
       "      <td>[2573, 2589, 2600, 2660, 220, 2612, 2770, 3091...</td>\n",
       "      <td>[-0.5074330016469263, -1.4529647025244365, -1....</td>\n",
       "      <td>[-1.2244648204630921, -1.2244648204630921, -1....</td>\n",
       "    </tr>\n",
       "    <tr>\n",
       "      <th>4</th>\n",
       "      <td>5</td>\n",
       "      <td>-0.450609</td>\n",
       "      <td>-0.895880</td>\n",
       "      <td>0.0</td>\n",
       "      <td>0.178997</td>\n",
       "      <td>-0.375240</td>\n",
       "      <td>-0.002980</td>\n",
       "      <td>-0.993442</td>\n",
       "      <td>-1.908762</td>\n",
       "      <td>-0.675657</td>\n",
       "      <td>...</td>\n",
       "      <td>-0.742820</td>\n",
       "      <td>-0.372255</td>\n",
       "      <td>0.197482</td>\n",
       "      <td>-0.911843</td>\n",
       "      <td>0.0</td>\n",
       "      <td>1.0</td>\n",
       "      <td>0.0</td>\n",
       "      <td>[228, 312, 159, 288, 314, 324, 429, 9, 183, 25...</td>\n",
       "      <td>[-1.4529647025244365, -0.5074330016469263, 0.4...</td>\n",
       "      <td>[-1.6920817200700495, -1.6920817200700495, -1....</td>\n",
       "    </tr>\n",
       "    <tr>\n",
       "      <th>...</th>\n",
       "      <td>...</td>\n",
       "      <td>...</td>\n",
       "      <td>...</td>\n",
       "      <td>...</td>\n",
       "      <td>...</td>\n",
       "      <td>...</td>\n",
       "      <td>...</td>\n",
       "      <td>...</td>\n",
       "      <td>...</td>\n",
       "      <td>...</td>\n",
       "      <td>...</td>\n",
       "      <td>...</td>\n",
       "      <td>...</td>\n",
       "      <td>...</td>\n",
       "      <td>...</td>\n",
       "      <td>...</td>\n",
       "      <td>...</td>\n",
       "      <td>...</td>\n",
       "      <td>...</td>\n",
       "      <td>...</td>\n",
       "      <td>...</td>\n",
       "    </tr>\n",
       "    <tr>\n",
       "      <th>95</th>\n",
       "      <td>111</td>\n",
       "      <td>-0.079284</td>\n",
       "      <td>0.166648</td>\n",
       "      <td>1.0</td>\n",
       "      <td>0.466589</td>\n",
       "      <td>0.418090</td>\n",
       "      <td>0.762054</td>\n",
       "      <td>0.046650</td>\n",
       "      <td>0.367496</td>\n",
       "      <td>0.062646</td>\n",
       "      <td>...</td>\n",
       "      <td>0.145599</td>\n",
       "      <td>0.013734</td>\n",
       "      <td>1.251114</td>\n",
       "      <td>0.765219</td>\n",
       "      <td>0.0</td>\n",
       "      <td>1.0</td>\n",
       "      <td>0.0</td>\n",
       "      <td>[1264, 37690, 488, 45208, 45487, 44791, 2161, ...</td>\n",
       "      <td>[0.9108645496693389, 0.43809869923058387, 0.91...</td>\n",
       "      <td>[0.9246839617431796, 0.9257092894223203, 0.925...</td>\n",
       "    </tr>\n",
       "    <tr>\n",
       "      <th>96</th>\n",
       "      <td>113</td>\n",
       "      <td>-0.464755</td>\n",
       "      <td>-0.014529</td>\n",
       "      <td>1.0</td>\n",
       "      <td>-1.957402</td>\n",
       "      <td>-1.187919</td>\n",
       "      <td>0.027169</td>\n",
       "      <td>-0.558495</td>\n",
       "      <td>0.199886</td>\n",
       "      <td>-0.063246</td>\n",
       "      <td>...</td>\n",
       "      <td>-0.005890</td>\n",
       "      <td>-0.896616</td>\n",
       "      <td>-2.612201</td>\n",
       "      <td>-0.241018</td>\n",
       "      <td>0.0</td>\n",
       "      <td>1.0</td>\n",
       "      <td>0.0</td>\n",
       "      <td>[2221, 4867, 3825, 143, 1164, 3334, 2434, 3826...</td>\n",
       "      <td>[0.43809869923058387, -0.9801988520856814, -0....</td>\n",
       "      <td>[-0.48407174631231736, -0.4840717306888122, -0...</td>\n",
       "    </tr>\n",
       "    <tr>\n",
       "      <th>97</th>\n",
       "      <td>114</td>\n",
       "      <td>-0.058066</td>\n",
       "      <td>1.177332</td>\n",
       "      <td>0.0</td>\n",
       "      <td>1.071505</td>\n",
       "      <td>1.402083</td>\n",
       "      <td>0.980635</td>\n",
       "      <td>1.012928</td>\n",
       "      <td>0.457610</td>\n",
       "      <td>0.764926</td>\n",
       "      <td>...</td>\n",
       "      <td>0.990670</td>\n",
       "      <td>0.996912</td>\n",
       "      <td>0.618935</td>\n",
       "      <td>0.769877</td>\n",
       "      <td>0.0</td>\n",
       "      <td>0.0</td>\n",
       "      <td>1.0</td>\n",
       "      <td>[4750, 10634, 4768, 5679, 10365, 5858, 4244, 1...</td>\n",
       "      <td>[0.9108645496693389, 0.9108645496693389, 1.383...</td>\n",
       "      <td>[0.9153434452762212, 0.9153434569938501, 0.915...</td>\n",
       "    </tr>\n",
       "    <tr>\n",
       "      <th>98</th>\n",
       "      <td>115</td>\n",
       "      <td>1.140784</td>\n",
       "      <td>0.166648</td>\n",
       "      <td>1.0</td>\n",
       "      <td>0.646334</td>\n",
       "      <td>0.669938</td>\n",
       "      <td>0.816700</td>\n",
       "      <td>0.062161</td>\n",
       "      <td>-0.057838</td>\n",
       "      <td>-0.709040</td>\n",
       "      <td>...</td>\n",
       "      <td>0.145599</td>\n",
       "      <td>0.382795</td>\n",
       "      <td>0.089417</td>\n",
       "      <td>0.161476</td>\n",
       "      <td>0.0</td>\n",
       "      <td>1.0</td>\n",
       "      <td>0.0</td>\n",
       "      <td>[4773, 372, 363, 6186, 5333, 6616, 2089, 2298,...</td>\n",
       "      <td>[0.43809869923058387, 0.43809869923058387, 0.4...</td>\n",
       "      <td>[-0.6378642152290904, -0.6378642035114616, -0....</td>\n",
       "    </tr>\n",
       "    <tr>\n",
       "      <th>99</th>\n",
       "      <td>116</td>\n",
       "      <td>-0.291470</td>\n",
       "      <td>-0.022473</td>\n",
       "      <td>0.0</td>\n",
       "      <td>0.083622</td>\n",
       "      <td>-0.189892</td>\n",
       "      <td>1.745670</td>\n",
       "      <td>-0.123547</td>\n",
       "      <td>-0.196540</td>\n",
       "      <td>-0.068766</td>\n",
       "      <td>...</td>\n",
       "      <td>-0.012532</td>\n",
       "      <td>-0.128612</td>\n",
       "      <td>0.548693</td>\n",
       "      <td>0.008391</td>\n",
       "      <td>0.0</td>\n",
       "      <td>1.0</td>\n",
       "      <td>0.0</td>\n",
       "      <td>[2463, 2848, 1556, 6993, 7894, 3827, 49, 5852,...</td>\n",
       "      <td>[0.9108645496693389, 0.9108645496693389, 0.910...</td>\n",
       "      <td>[-0.6085594097023558, -0.608559276902562, -0.6...</td>\n",
       "    </tr>\n",
       "  </tbody>\n",
       "</table>\n",
       "<p>100 rows × 29 columns</p>\n",
       "</div>"
      ]
     },
     "execution_count": 852,
     "metadata": {},
     "output_type": "execute_result"
    }
   ],
   "execution_count": 852
  },
  {
   "metadata": {
    "ExecuteTime": {
     "end_time": "2025-07-07T17:56:49.758399Z",
     "start_time": "2025-07-07T17:56:49.740299Z"
    }
   },
   "cell_type": "code",
   "source": [
    "df_ratings.info()\n",
    "df_ratings.head(100)"
   ],
   "id": "e792d06aea84e6c1",
   "outputs": [
    {
     "name": "stdout",
     "output_type": "stream",
     "text": [
      "<class 'pandas.core.frame.DataFrame'>\n",
      "Index: 165747 entries, 1 to 200948\n",
      "Data columns (total 2 columns):\n",
      " #   Column  Non-Null Count   Dtype \n",
      "---  ------  --------------   ----- \n",
      " 0   pos     165747 non-null  object\n",
      " 1   neg     165747 non-null  object\n",
      "dtypes: object(2)\n",
      "memory usage: 3.8+ MB\n"
     ]
    },
    {
     "data": {
      "text/plain": [
       "                                                      pos  \\\n",
       "userId                                                      \n",
       "1       [16, 29, 31, 79, 109, 164, 174, 229, 257, 298,...   \n",
       "2       [30, 33, 38, 47, 183, 184, 205, 214, 216, 219,...   \n",
       "3       [9, 10, 16, 25, 61, 108, 148, 149, 159, 257, 2...   \n",
       "4                     [220, 1232, 2011, 2660, 2731, 3063]   \n",
       "5       [9, 108, 159, 163, 344, 351, 359, 375, 429, 44...   \n",
       "...                                                   ...   \n",
       "111     [46, 49, 68, 92, 289, 314, 488, 585, 599, 1264...   \n",
       "113     [599, 1042, 1168, 1169, 1600, 1652, 2221, 2434...   \n",
       "114     [351, 1230, 1556, 2463, 2848, 3035, 3460, 3665...   \n",
       "115     [0, 1, 5, 20, 46, 49, 93, 108, 139, 148, 155, ...   \n",
       "116     [18, 49, 143, 314, 581, 835, 1170, 1172, 1180,...   \n",
       "\n",
       "                                                      neg  \n",
       "userId                                                     \n",
       "1       [24, 28, 33, 35, 108, 159, 220, 340, 351, 522,...  \n",
       "2       [151, 191, 228, 250, 292, 301, 339, 344, 461, ...  \n",
       "3       [1, 47, 139, 151, 156, 166, 183, 206, 228, 324...  \n",
       "4       [1172, 1285, 1452, 1732, 2320, 2382, 2491, 249...  \n",
       "5       [46, 148, 151, 183, 206, 228, 250, 285, 288, 2...  \n",
       "...                                                   ...  \n",
       "111     [31, 102, 285, 351, 534, 536, 1225, 1266, 1349...  \n",
       "113     [143, 461, 515, 538, 546, 1164, 2245, 3064, 33...  \n",
       "114     [257, 1159, 3418, 4688, 5257, 5815, 8041, 1078...  \n",
       "115     [2, 14, 15, 31, 43, 149, 151, 158, 202, 206, 2...  \n",
       "116     [31, 43, 184, 415, 437, 461, 1048, 1057, 1069,...  \n",
       "\n",
       "[100 rows x 2 columns]"
      ],
      "text/html": [
       "<div>\n",
       "<style scoped>\n",
       "    .dataframe tbody tr th:only-of-type {\n",
       "        vertical-align: middle;\n",
       "    }\n",
       "\n",
       "    .dataframe tbody tr th {\n",
       "        vertical-align: top;\n",
       "    }\n",
       "\n",
       "    .dataframe thead th {\n",
       "        text-align: right;\n",
       "    }\n",
       "</style>\n",
       "<table border=\"1\" class=\"dataframe\">\n",
       "  <thead>\n",
       "    <tr style=\"text-align: right;\">\n",
       "      <th></th>\n",
       "      <th>pos</th>\n",
       "      <th>neg</th>\n",
       "    </tr>\n",
       "    <tr>\n",
       "      <th>userId</th>\n",
       "      <th></th>\n",
       "      <th></th>\n",
       "    </tr>\n",
       "  </thead>\n",
       "  <tbody>\n",
       "    <tr>\n",
       "      <th>1</th>\n",
       "      <td>[16, 29, 31, 79, 109, 164, 174, 229, 257, 298,...</td>\n",
       "      <td>[24, 28, 33, 35, 108, 159, 220, 340, 351, 522,...</td>\n",
       "    </tr>\n",
       "    <tr>\n",
       "      <th>2</th>\n",
       "      <td>[30, 33, 38, 47, 183, 184, 205, 214, 216, 219,...</td>\n",
       "      <td>[151, 191, 228, 250, 292, 301, 339, 344, 461, ...</td>\n",
       "    </tr>\n",
       "    <tr>\n",
       "      <th>3</th>\n",
       "      <td>[9, 10, 16, 25, 61, 108, 148, 149, 159, 257, 2...</td>\n",
       "      <td>[1, 47, 139, 151, 156, 166, 183, 206, 228, 324...</td>\n",
       "    </tr>\n",
       "    <tr>\n",
       "      <th>4</th>\n",
       "      <td>[220, 1232, 2011, 2660, 2731, 3063]</td>\n",
       "      <td>[1172, 1285, 1452, 1732, 2320, 2382, 2491, 249...</td>\n",
       "    </tr>\n",
       "    <tr>\n",
       "      <th>5</th>\n",
       "      <td>[9, 108, 159, 163, 344, 351, 359, 375, 429, 44...</td>\n",
       "      <td>[46, 148, 151, 183, 206, 228, 250, 285, 288, 2...</td>\n",
       "    </tr>\n",
       "    <tr>\n",
       "      <th>...</th>\n",
       "      <td>...</td>\n",
       "      <td>...</td>\n",
       "    </tr>\n",
       "    <tr>\n",
       "      <th>111</th>\n",
       "      <td>[46, 49, 68, 92, 289, 314, 488, 585, 599, 1264...</td>\n",
       "      <td>[31, 102, 285, 351, 534, 536, 1225, 1266, 1349...</td>\n",
       "    </tr>\n",
       "    <tr>\n",
       "      <th>113</th>\n",
       "      <td>[599, 1042, 1168, 1169, 1600, 1652, 2221, 2434...</td>\n",
       "      <td>[143, 461, 515, 538, 546, 1164, 2245, 3064, 33...</td>\n",
       "    </tr>\n",
       "    <tr>\n",
       "      <th>114</th>\n",
       "      <td>[351, 1230, 1556, 2463, 2848, 3035, 3460, 3665...</td>\n",
       "      <td>[257, 1159, 3418, 4688, 5257, 5815, 8041, 1078...</td>\n",
       "    </tr>\n",
       "    <tr>\n",
       "      <th>115</th>\n",
       "      <td>[0, 1, 5, 20, 46, 49, 93, 108, 139, 148, 155, ...</td>\n",
       "      <td>[2, 14, 15, 31, 43, 149, 151, 158, 202, 206, 2...</td>\n",
       "    </tr>\n",
       "    <tr>\n",
       "      <th>116</th>\n",
       "      <td>[18, 49, 143, 314, 581, 835, 1170, 1172, 1180,...</td>\n",
       "      <td>[31, 43, 184, 415, 437, 461, 1048, 1057, 1069,...</td>\n",
       "    </tr>\n",
       "  </tbody>\n",
       "</table>\n",
       "<p>100 rows × 2 columns</p>\n",
       "</div>"
      ]
     },
     "execution_count": 853,
     "metadata": {},
     "output_type": "execute_result"
    }
   ],
   "execution_count": 853
  },
  {
   "cell_type": "code",
   "id": "b6bda157",
   "metadata": {
    "ExecuteTime": {
     "end_time": "2025-07-07T17:56:49.942058Z",
     "start_time": "2025-07-07T17:56:49.910099Z"
    }
   },
   "source": [
    "df_movies.info()\n",
    "df_movies.head(100)"
   ],
   "outputs": [
    {
     "name": "stdout",
     "output_type": "stream",
     "text": [
      "<class 'pandas.core.frame.DataFrame'>\n",
      "Index: 82765 entries, 14840 to 29518\n",
      "Data columns (total 28 columns):\n",
      " #   Column               Non-Null Count  Dtype  \n",
      "---  ------               --------------  -----  \n",
      " 0   runtime              82765 non-null  float64\n",
      " 1   if_blockbuster       82765 non-null  int32  \n",
      " 2   highly_watched       82765 non-null  int32  \n",
      " 3   highly_rated         82765 non-null  int64  \n",
      " 4   engagement_score     82765 non-null  float64\n",
      " 5   cast_importance      82765 non-null  float64\n",
      " 6   director_score       82765 non-null  float64\n",
      " 7   has_keywords         82765 non-null  int64  \n",
      " 8   has_cast             82765 non-null  int64  \n",
      " 9   has_director         82765 non-null  int64  \n",
      " 10  genre_ids            82765 non-null  object \n",
      " 11  decade_[1890, 1900)  82765 non-null  bool   \n",
      " 12  decade_[1900, 1910)  82765 non-null  bool   \n",
      " 13  decade_[1910, 1920)  82765 non-null  bool   \n",
      " 14  decade_[1920, 1930)  82765 non-null  bool   \n",
      " 15  decade_[1930, 1940)  82765 non-null  bool   \n",
      " 16  decade_[1940, 1950)  82765 non-null  bool   \n",
      " 17  decade_[1950, 1960)  82765 non-null  bool   \n",
      " 18  decade_[1960, 1970)  82765 non-null  bool   \n",
      " 19  decade_[1970, 1980)  82765 non-null  bool   \n",
      " 20  decade_[1980, 1990)  82765 non-null  bool   \n",
      " 21  decade_[1990, 2000)  82765 non-null  bool   \n",
      " 22  decade_[2000, 2010)  82765 non-null  bool   \n",
      " 23  decade_[2010, 2020)  82765 non-null  bool   \n",
      " 24  decade_[2020, 2030)  82765 non-null  bool   \n",
      " 25  text_embedded        82765 non-null  object \n",
      " 26  actor_ids            82765 non-null  object \n",
      " 27  director_ids         82765 non-null  object \n",
      "dtypes: bool(14), float64(4), int32(2), int64(4), object(4)\n",
      "memory usage: 9.9+ MB\n"
     ]
    },
    {
     "data": {
      "text/plain": [
       "          runtime  if_blockbuster  highly_watched  highly_rated  \\\n",
       "movieId                                                           \n",
       "14840    1.942703               1               1             1   \n",
       "20921    2.432017               1               1             1   \n",
       "12164    2.033104               1               1             1   \n",
       "14021    2.256745               1               1             1   \n",
       "16934    1.824556               1               1             1   \n",
       "...           ...             ...             ...           ...   \n",
       "1159     1.358913               1               1             1   \n",
       "4180    -0.276998               1               1             1   \n",
       "11313    0.908975               1               1             1   \n",
       "23315    1.497997               1               1             1   \n",
       "40798    1.497997               1               1             1   \n",
       "\n",
       "         engagement_score  cast_importance  director_score  has_keywords  \\\n",
       "movieId                                                                    \n",
       "14840            4.591432         2.899632        2.653210             1   \n",
       "20921            5.199338         2.789332        2.653210             1   \n",
       "12164            5.199338         3.099369        2.653210             1   \n",
       "14021            4.123958         2.512635        2.304477             1   \n",
       "16934            5.199338         5.199338        1.817788             1   \n",
       "...                   ...              ...             ...           ...   \n",
       "1159             3.003738         1.826226        0.704639             1   \n",
       "4180             3.144047         2.695707        1.599158             1   \n",
       "11313            3.133301         1.566170        1.685018             1   \n",
       "23315            3.111676         2.686499        1.898700             1   \n",
       "40798            2.948478         2.171070        1.616840             1   \n",
       "\n",
       "         has_cast  has_director  ... decade_[1960, 1970)  decade_[1970, 1980)  \\\n",
       "movieId                          ...                                            \n",
       "14840           1             1  ...               False                False   \n",
       "20921           1             1  ...               False                False   \n",
       "12164           1             1  ...               False                False   \n",
       "14021           1             1  ...               False                False   \n",
       "16934           1             1  ...               False                False   \n",
       "...           ...           ...  ...                 ...                  ...   \n",
       "1159            1             1  ...               False                False   \n",
       "4180            1             1  ...               False                False   \n",
       "11313           1             1  ...               False                False   \n",
       "23315           1             1  ...               False                False   \n",
       "40798           1             1  ...               False                False   \n",
       "\n",
       "         decade_[1980, 1990)  decade_[1990, 2000)  decade_[2000, 2010)  \\\n",
       "movieId                                                                  \n",
       "14840                  False                False                False   \n",
       "20921                  False                False                False   \n",
       "12164                  False                False                 True   \n",
       "14021                  False                False                 True   \n",
       "16934                  False                False                False   \n",
       "...                      ...                  ...                  ...   \n",
       "1159                    True                False                False   \n",
       "4180                   False                False                 True   \n",
       "11313                  False                False                 True   \n",
       "23315                  False                False                False   \n",
       "40798                  False                False                False   \n",
       "\n",
       "         decade_[2010, 2020)  decade_[2020, 2030)  \\\n",
       "movieId                                             \n",
       "14840                   True                False   \n",
       "20921                   True                False   \n",
       "12164                  False                False   \n",
       "14021                  False                False   \n",
       "16934                   True                False   \n",
       "...                      ...                  ...   \n",
       "1159                   False                False   \n",
       "4180                   False                False   \n",
       "11313                  False                False   \n",
       "23315                   True                False   \n",
       "40798                   True                False   \n",
       "\n",
       "                                             text_embedded  \\\n",
       "movieId                                                      \n",
       "14840    [0.0008652941, 0.06077885, -0.07869467, -0.067...   \n",
       "20921    [-0.010866538, -0.01691181, -0.12693988, -0.04...   \n",
       "12164    [-0.026262647, 0.055052526, -0.08173301, -0.01...   \n",
       "14021    [0.0031084684, -0.032840427, -0.12393689, -0.0...   \n",
       "16934    [-0.015282603, 0.00047473708, -0.11172164, 0.0...   \n",
       "...                                                    ...   \n",
       "1159     [0.016825777, -0.02596536, -0.088541396, 0.058...   \n",
       "4180     [0.05683445, -0.0026107691, -0.090642, 0.01653...   \n",
       "11313    [-0.030460857, -0.0006409547, 0.00023257566, -...   \n",
       "23315    [-0.0011530533, 0.014149291, -0.10900124, -0.0...   \n",
       "40798    [0.006102059, 0.0498035, 0.012637168, 0.064914...   \n",
       "\n",
       "                               actor_ids  director_ids  \n",
       "movieId                                                 \n",
       "14840    [6454, 10631, 5457, 1952, 5950]         [797]  \n",
       "20921     [659, 7298, 4974, 10576, 5292]         [797]  \n",
       "12164     [1867, 3519, 7812, 1952, 4010]         [797]  \n",
       "14021    [11434, 9935, 7629, 9574, 3709]        [2026]  \n",
       "16934     [9686, 1839, 1834, 9161, 4923]        [2496]  \n",
       "...                                  ...           ...  \n",
       "1159             [3952, 693, 3373, 7093]        [1915]  \n",
       "4180     [2810, 1497, 7670, 10954, 5022]   [246, 4884]  \n",
       "11313    [11136, 8598, 1274, 4226, 8408]         [544]  \n",
       "23315    [9597, 7471, 7114, 2054, 10367]        [3179]  \n",
       "40798           [3021, 9461, 4375, 1488]         [909]  \n",
       "\n",
       "[100 rows x 28 columns]"
      ],
      "text/html": [
       "<div>\n",
       "<style scoped>\n",
       "    .dataframe tbody tr th:only-of-type {\n",
       "        vertical-align: middle;\n",
       "    }\n",
       "\n",
       "    .dataframe tbody tr th {\n",
       "        vertical-align: top;\n",
       "    }\n",
       "\n",
       "    .dataframe thead th {\n",
       "        text-align: right;\n",
       "    }\n",
       "</style>\n",
       "<table border=\"1\" class=\"dataframe\">\n",
       "  <thead>\n",
       "    <tr style=\"text-align: right;\">\n",
       "      <th></th>\n",
       "      <th>runtime</th>\n",
       "      <th>if_blockbuster</th>\n",
       "      <th>highly_watched</th>\n",
       "      <th>highly_rated</th>\n",
       "      <th>engagement_score</th>\n",
       "      <th>cast_importance</th>\n",
       "      <th>director_score</th>\n",
       "      <th>has_keywords</th>\n",
       "      <th>has_cast</th>\n",
       "      <th>has_director</th>\n",
       "      <th>...</th>\n",
       "      <th>decade_[1960, 1970)</th>\n",
       "      <th>decade_[1970, 1980)</th>\n",
       "      <th>decade_[1980, 1990)</th>\n",
       "      <th>decade_[1990, 2000)</th>\n",
       "      <th>decade_[2000, 2010)</th>\n",
       "      <th>decade_[2010, 2020)</th>\n",
       "      <th>decade_[2020, 2030)</th>\n",
       "      <th>text_embedded</th>\n",
       "      <th>actor_ids</th>\n",
       "      <th>director_ids</th>\n",
       "    </tr>\n",
       "    <tr>\n",
       "      <th>movieId</th>\n",
       "      <th></th>\n",
       "      <th></th>\n",
       "      <th></th>\n",
       "      <th></th>\n",
       "      <th></th>\n",
       "      <th></th>\n",
       "      <th></th>\n",
       "      <th></th>\n",
       "      <th></th>\n",
       "      <th></th>\n",
       "      <th></th>\n",
       "      <th></th>\n",
       "      <th></th>\n",
       "      <th></th>\n",
       "      <th></th>\n",
       "      <th></th>\n",
       "      <th></th>\n",
       "      <th></th>\n",
       "      <th></th>\n",
       "      <th></th>\n",
       "      <th></th>\n",
       "    </tr>\n",
       "  </thead>\n",
       "  <tbody>\n",
       "    <tr>\n",
       "      <th>14840</th>\n",
       "      <td>1.942703</td>\n",
       "      <td>1</td>\n",
       "      <td>1</td>\n",
       "      <td>1</td>\n",
       "      <td>4.591432</td>\n",
       "      <td>2.899632</td>\n",
       "      <td>2.653210</td>\n",
       "      <td>1</td>\n",
       "      <td>1</td>\n",
       "      <td>1</td>\n",
       "      <td>...</td>\n",
       "      <td>False</td>\n",
       "      <td>False</td>\n",
       "      <td>False</td>\n",
       "      <td>False</td>\n",
       "      <td>False</td>\n",
       "      <td>True</td>\n",
       "      <td>False</td>\n",
       "      <td>[0.0008652941, 0.06077885, -0.07869467, -0.067...</td>\n",
       "      <td>[6454, 10631, 5457, 1952, 5950]</td>\n",
       "      <td>[797]</td>\n",
       "    </tr>\n",
       "    <tr>\n",
       "      <th>20921</th>\n",
       "      <td>2.432017</td>\n",
       "      <td>1</td>\n",
       "      <td>1</td>\n",
       "      <td>1</td>\n",
       "      <td>5.199338</td>\n",
       "      <td>2.789332</td>\n",
       "      <td>2.653210</td>\n",
       "      <td>1</td>\n",
       "      <td>1</td>\n",
       "      <td>1</td>\n",
       "      <td>...</td>\n",
       "      <td>False</td>\n",
       "      <td>False</td>\n",
       "      <td>False</td>\n",
       "      <td>False</td>\n",
       "      <td>False</td>\n",
       "      <td>True</td>\n",
       "      <td>False</td>\n",
       "      <td>[-0.010866538, -0.01691181, -0.12693988, -0.04...</td>\n",
       "      <td>[659, 7298, 4974, 10576, 5292]</td>\n",
       "      <td>[797]</td>\n",
       "    </tr>\n",
       "    <tr>\n",
       "      <th>12164</th>\n",
       "      <td>2.033104</td>\n",
       "      <td>1</td>\n",
       "      <td>1</td>\n",
       "      <td>1</td>\n",
       "      <td>5.199338</td>\n",
       "      <td>3.099369</td>\n",
       "      <td>2.653210</td>\n",
       "      <td>1</td>\n",
       "      <td>1</td>\n",
       "      <td>1</td>\n",
       "      <td>...</td>\n",
       "      <td>False</td>\n",
       "      <td>False</td>\n",
       "      <td>False</td>\n",
       "      <td>False</td>\n",
       "      <td>True</td>\n",
       "      <td>False</td>\n",
       "      <td>False</td>\n",
       "      <td>[-0.026262647, 0.055052526, -0.08173301, -0.01...</td>\n",
       "      <td>[1867, 3519, 7812, 1952, 4010]</td>\n",
       "      <td>[797]</td>\n",
       "    </tr>\n",
       "    <tr>\n",
       "      <th>14021</th>\n",
       "      <td>2.256745</td>\n",
       "      <td>1</td>\n",
       "      <td>1</td>\n",
       "      <td>1</td>\n",
       "      <td>4.123958</td>\n",
       "      <td>2.512635</td>\n",
       "      <td>2.304477</td>\n",
       "      <td>1</td>\n",
       "      <td>1</td>\n",
       "      <td>1</td>\n",
       "      <td>...</td>\n",
       "      <td>False</td>\n",
       "      <td>False</td>\n",
       "      <td>False</td>\n",
       "      <td>False</td>\n",
       "      <td>True</td>\n",
       "      <td>False</td>\n",
       "      <td>False</td>\n",
       "      <td>[0.0031084684, -0.032840427, -0.12393689, -0.0...</td>\n",
       "      <td>[11434, 9935, 7629, 9574, 3709]</td>\n",
       "      <td>[2026]</td>\n",
       "    </tr>\n",
       "    <tr>\n",
       "      <th>16934</th>\n",
       "      <td>1.824556</td>\n",
       "      <td>1</td>\n",
       "      <td>1</td>\n",
       "      <td>1</td>\n",
       "      <td>5.199338</td>\n",
       "      <td>5.199338</td>\n",
       "      <td>1.817788</td>\n",
       "      <td>1</td>\n",
       "      <td>1</td>\n",
       "      <td>1</td>\n",
       "      <td>...</td>\n",
       "      <td>False</td>\n",
       "      <td>False</td>\n",
       "      <td>False</td>\n",
       "      <td>False</td>\n",
       "      <td>False</td>\n",
       "      <td>True</td>\n",
       "      <td>False</td>\n",
       "      <td>[-0.015282603, 0.00047473708, -0.11172164, 0.0...</td>\n",
       "      <td>[9686, 1839, 1834, 9161, 4923]</td>\n",
       "      <td>[2496]</td>\n",
       "    </tr>\n",
       "    <tr>\n",
       "      <th>...</th>\n",
       "      <td>...</td>\n",
       "      <td>...</td>\n",
       "      <td>...</td>\n",
       "      <td>...</td>\n",
       "      <td>...</td>\n",
       "      <td>...</td>\n",
       "      <td>...</td>\n",
       "      <td>...</td>\n",
       "      <td>...</td>\n",
       "      <td>...</td>\n",
       "      <td>...</td>\n",
       "      <td>...</td>\n",
       "      <td>...</td>\n",
       "      <td>...</td>\n",
       "      <td>...</td>\n",
       "      <td>...</td>\n",
       "      <td>...</td>\n",
       "      <td>...</td>\n",
       "      <td>...</td>\n",
       "      <td>...</td>\n",
       "      <td>...</td>\n",
       "    </tr>\n",
       "    <tr>\n",
       "      <th>1159</th>\n",
       "      <td>1.358913</td>\n",
       "      <td>1</td>\n",
       "      <td>1</td>\n",
       "      <td>1</td>\n",
       "      <td>3.003738</td>\n",
       "      <td>1.826226</td>\n",
       "      <td>0.704639</td>\n",
       "      <td>1</td>\n",
       "      <td>1</td>\n",
       "      <td>1</td>\n",
       "      <td>...</td>\n",
       "      <td>False</td>\n",
       "      <td>False</td>\n",
       "      <td>True</td>\n",
       "      <td>False</td>\n",
       "      <td>False</td>\n",
       "      <td>False</td>\n",
       "      <td>False</td>\n",
       "      <td>[0.016825777, -0.02596536, -0.088541396, 0.058...</td>\n",
       "      <td>[3952, 693, 3373, 7093]</td>\n",
       "      <td>[1915]</td>\n",
       "    </tr>\n",
       "    <tr>\n",
       "      <th>4180</th>\n",
       "      <td>-0.276998</td>\n",
       "      <td>1</td>\n",
       "      <td>1</td>\n",
       "      <td>1</td>\n",
       "      <td>3.144047</td>\n",
       "      <td>2.695707</td>\n",
       "      <td>1.599158</td>\n",
       "      <td>1</td>\n",
       "      <td>1</td>\n",
       "      <td>1</td>\n",
       "      <td>...</td>\n",
       "      <td>False</td>\n",
       "      <td>False</td>\n",
       "      <td>False</td>\n",
       "      <td>False</td>\n",
       "      <td>True</td>\n",
       "      <td>False</td>\n",
       "      <td>False</td>\n",
       "      <td>[0.05683445, -0.0026107691, -0.090642, 0.01653...</td>\n",
       "      <td>[2810, 1497, 7670, 10954, 5022]</td>\n",
       "      <td>[246, 4884]</td>\n",
       "    </tr>\n",
       "    <tr>\n",
       "      <th>11313</th>\n",
       "      <td>0.908975</td>\n",
       "      <td>1</td>\n",
       "      <td>1</td>\n",
       "      <td>1</td>\n",
       "      <td>3.133301</td>\n",
       "      <td>1.566170</td>\n",
       "      <td>1.685018</td>\n",
       "      <td>1</td>\n",
       "      <td>1</td>\n",
       "      <td>1</td>\n",
       "      <td>...</td>\n",
       "      <td>False</td>\n",
       "      <td>False</td>\n",
       "      <td>False</td>\n",
       "      <td>False</td>\n",
       "      <td>True</td>\n",
       "      <td>False</td>\n",
       "      <td>False</td>\n",
       "      <td>[-0.030460857, -0.0006409547, 0.00023257566, -...</td>\n",
       "      <td>[11136, 8598, 1274, 4226, 8408]</td>\n",
       "      <td>[544]</td>\n",
       "    </tr>\n",
       "    <tr>\n",
       "      <th>23315</th>\n",
       "      <td>1.497997</td>\n",
       "      <td>1</td>\n",
       "      <td>1</td>\n",
       "      <td>1</td>\n",
       "      <td>3.111676</td>\n",
       "      <td>2.686499</td>\n",
       "      <td>1.898700</td>\n",
       "      <td>1</td>\n",
       "      <td>1</td>\n",
       "      <td>1</td>\n",
       "      <td>...</td>\n",
       "      <td>False</td>\n",
       "      <td>False</td>\n",
       "      <td>False</td>\n",
       "      <td>False</td>\n",
       "      <td>False</td>\n",
       "      <td>True</td>\n",
       "      <td>False</td>\n",
       "      <td>[-0.0011530533, 0.014149291, -0.10900124, -0.0...</td>\n",
       "      <td>[9597, 7471, 7114, 2054, 10367]</td>\n",
       "      <td>[3179]</td>\n",
       "    </tr>\n",
       "    <tr>\n",
       "      <th>40798</th>\n",
       "      <td>1.497997</td>\n",
       "      <td>1</td>\n",
       "      <td>1</td>\n",
       "      <td>1</td>\n",
       "      <td>2.948478</td>\n",
       "      <td>2.171070</td>\n",
       "      <td>1.616840</td>\n",
       "      <td>1</td>\n",
       "      <td>1</td>\n",
       "      <td>1</td>\n",
       "      <td>...</td>\n",
       "      <td>False</td>\n",
       "      <td>False</td>\n",
       "      <td>False</td>\n",
       "      <td>False</td>\n",
       "      <td>False</td>\n",
       "      <td>True</td>\n",
       "      <td>False</td>\n",
       "      <td>[0.006102059, 0.0498035, 0.012637168, 0.064914...</td>\n",
       "      <td>[3021, 9461, 4375, 1488]</td>\n",
       "      <td>[909]</td>\n",
       "    </tr>\n",
       "  </tbody>\n",
       "</table>\n",
       "<p>100 rows × 28 columns</p>\n",
       "</div>"
      ]
     },
     "execution_count": 854,
     "metadata": {},
     "output_type": "execute_result"
    }
   ],
   "execution_count": 854
  },
  {
   "cell_type": "code",
   "id": "fac26244",
   "metadata": {
    "ExecuteTime": {
     "end_time": "2025-07-07T17:56:50.206707Z",
     "start_time": "2025-07-07T17:56:50.170522Z"
    }
   },
   "source": [
    "'''\n",
    "Do szybkich testow z mniejsza iloscia danych\n",
    "'''\n",
    "DEBUG = True\n",
    "\n",
    "if DEBUG:\n",
    "    df_users = df_users.sample(n=20000, random_state=213).copy()\n",
    "\n",
    "    mask = df_ratings.index.isin(df_users['userId'])\n",
    "    df_ratings = df_ratings[mask].copy()\n",
    "\n",
    "    # used_movie_ids = set(df_users['movies_seq'].explode()) \\\n",
    "    #                | set(df_ratings['pos'].explode()) \\\n",
    "    #                | set(df_ratings['neg'].explode())\n",
    "    # df_movies = df_movies[df_movies.index.isin(used_movie_ids)].copy()\n",
    "\n",
    "movie_to_local = {mid: i for i, mid in enumerate(df_movies.index)}\n",
    "\n",
    "local_to_movie = list(df_movies.index)\n"
   ],
   "outputs": [],
   "execution_count": 855
  },
  {
   "metadata": {
    "ExecuteTime": {
     "end_time": "2025-07-07T17:56:50.461433Z",
     "start_time": "2025-07-07T17:56:50.431107Z"
    }
   },
   "cell_type": "code",
   "source": [
    "df_movies.info()\n",
    "df_ratings.info()\n",
    "df_users.info()"
   ],
   "id": "14754cb6500f71a9",
   "outputs": [
    {
     "name": "stdout",
     "output_type": "stream",
     "text": [
      "<class 'pandas.core.frame.DataFrame'>\n",
      "Index: 82765 entries, 14840 to 29518\n",
      "Data columns (total 28 columns):\n",
      " #   Column               Non-Null Count  Dtype  \n",
      "---  ------               --------------  -----  \n",
      " 0   runtime              82765 non-null  float64\n",
      " 1   if_blockbuster       82765 non-null  int32  \n",
      " 2   highly_watched       82765 non-null  int32  \n",
      " 3   highly_rated         82765 non-null  int64  \n",
      " 4   engagement_score     82765 non-null  float64\n",
      " 5   cast_importance      82765 non-null  float64\n",
      " 6   director_score       82765 non-null  float64\n",
      " 7   has_keywords         82765 non-null  int64  \n",
      " 8   has_cast             82765 non-null  int64  \n",
      " 9   has_director         82765 non-null  int64  \n",
      " 10  genre_ids            82765 non-null  object \n",
      " 11  decade_[1890, 1900)  82765 non-null  bool   \n",
      " 12  decade_[1900, 1910)  82765 non-null  bool   \n",
      " 13  decade_[1910, 1920)  82765 non-null  bool   \n",
      " 14  decade_[1920, 1930)  82765 non-null  bool   \n",
      " 15  decade_[1930, 1940)  82765 non-null  bool   \n",
      " 16  decade_[1940, 1950)  82765 non-null  bool   \n",
      " 17  decade_[1950, 1960)  82765 non-null  bool   \n",
      " 18  decade_[1960, 1970)  82765 non-null  bool   \n",
      " 19  decade_[1970, 1980)  82765 non-null  bool   \n",
      " 20  decade_[1980, 1990)  82765 non-null  bool   \n",
      " 21  decade_[1990, 2000)  82765 non-null  bool   \n",
      " 22  decade_[2000, 2010)  82765 non-null  bool   \n",
      " 23  decade_[2010, 2020)  82765 non-null  bool   \n",
      " 24  decade_[2020, 2030)  82765 non-null  bool   \n",
      " 25  text_embedded        82765 non-null  object \n",
      " 26  actor_ids            82765 non-null  object \n",
      " 27  director_ids         82765 non-null  object \n",
      "dtypes: bool(14), float64(4), int32(2), int64(4), object(4)\n",
      "memory usage: 9.9+ MB\n",
      "<class 'pandas.core.frame.DataFrame'>\n",
      "Index: 20000 entries, 18 to 200936\n",
      "Data columns (total 2 columns):\n",
      " #   Column  Non-Null Count  Dtype \n",
      "---  ------  --------------  ----- \n",
      " 0   pos     20000 non-null  object\n",
      " 1   neg     20000 non-null  object\n",
      "dtypes: object(2)\n",
      "memory usage: 468.8+ KB\n",
      "<class 'pandas.core.frame.DataFrame'>\n",
      "Index: 20000 entries, 74105 to 20711\n",
      "Data columns (total 29 columns):\n",
      " #   Column                   Non-Null Count  Dtype  \n",
      "---  ------                   --------------  -----  \n",
      " 0   userId                   20000 non-null  int64  \n",
      " 1   num_rating               20000 non-null  float64\n",
      " 2   avg_rating               20000 non-null  float64\n",
      " 3   weekend_watcher          20000 non-null  float64\n",
      " 4   genre_Action             20000 non-null  float64\n",
      " 5   genre_Adventure          20000 non-null  float64\n",
      " 6   genre_Animation          20000 non-null  float64\n",
      " 7   genre_Comedy             20000 non-null  float64\n",
      " 8   genre_Crime              20000 non-null  float64\n",
      " 9   genre_Documentary        20000 non-null  float64\n",
      " 10  genre_Drama              20000 non-null  float64\n",
      " 11  genre_Family             20000 non-null  float64\n",
      " 12  genre_Fantasy            20000 non-null  float64\n",
      " 13  genre_History            20000 non-null  float64\n",
      " 14  genre_Horror             20000 non-null  float64\n",
      " 15  genre_Music              20000 non-null  float64\n",
      " 16  genre_Mystery            20000 non-null  float64\n",
      " 17  genre_Romance            20000 non-null  float64\n",
      " 18  genre_Science Fiction    20000 non-null  float64\n",
      " 19  genre_TV Movie           20000 non-null  float64\n",
      " 20  genre_Thriller           20000 non-null  float64\n",
      " 21  genre_War                20000 non-null  float64\n",
      " 22  genre_Western            20000 non-null  float64\n",
      " 23  type_of_viewer_negative  20000 non-null  float64\n",
      " 24  type_of_viewer_neutral   20000 non-null  float64\n",
      " 25  type_of_viewer_positive  20000 non-null  float64\n",
      " 26  movies_seq               20000 non-null  object \n",
      " 27  ratings_seq              20000 non-null  object \n",
      " 28  ts_seq                   20000 non-null  object \n",
      "dtypes: float64(25), int64(1), object(3)\n",
      "memory usage: 4.6+ MB\n"
     ]
    }
   ],
   "execution_count": 856
  },
  {
   "cell_type": "markdown",
   "id": "20b13867",
   "metadata": {},
   "source": "# Przygotowanie danych do uczenia -> do gotowych batchy"
  },
  {
   "cell_type": "code",
   "id": "1383e46f",
   "metadata": {
    "ExecuteTime": {
     "end_time": "2025-07-07T17:56:50.691536Z",
     "start_time": "2025-07-07T17:56:50.655418Z"
    }
   },
   "source": [
    "# For padding 'global max len'\n",
    "\n",
    "max_len_a = int(df_movies['actor_ids'].str.len().max())\n",
    "max_len_d = int(df_movies['director_ids'].str.len().max())\n",
    "max_len_g = int(df_movies['genre_ids'].str.len().max())"
   ],
   "outputs": [],
   "execution_count": 857
  },
  {
   "metadata": {
    "ExecuteTime": {
     "end_time": "2025-07-07T17:56:50.861226Z",
     "start_time": "2025-07-07T17:56:50.783973Z"
    }
   },
   "cell_type": "code",
   "source": [
    "# For nn.Embeedings usage in Item Tower\n",
    "all_actor_ids = list(chain.from_iterable(df_movies['actor_ids']))\n",
    "num_actors = max(all_actor_ids) + 1\n",
    "\n",
    "all_director_ids = list(chain.from_iterable(df_movies['director_ids']))\n",
    "num_directors = max(all_director_ids) + 1\n",
    "\n",
    "all_genre_ids = list(chain.from_iterable(df_movies['genre_ids']))\n",
    "num_genres = max(all_genre_ids) + 1"
   ],
   "id": "a122619e92e895a2",
   "outputs": [],
   "execution_count": 858
  },
  {
   "cell_type": "code",
   "id": "6350754f",
   "metadata": {
    "ExecuteTime": {
     "end_time": "2025-07-07T17:56:50.970553Z",
     "start_time": "2025-07-07T17:56:50.965813Z"
    }
   },
   "source": [
    "def collect_user_features(u):\n",
    "        \"\"\"\n",
    "        Zwraca cztery tensory: movies_seq, ratings_seq, ts_seq, user_stats\n",
    "        \"\"\"\n",
    "        movies_seq  = torch.tensor(u['movies_seq'], dtype=torch.long)\n",
    "        ratings_seq = torch.tensor(u['ratings_seq'], dtype=torch.float32)\n",
    "        ts_seq      = torch.tensor(u['ts_seq'], dtype=torch.float32)\n",
    "       \n",
    "        stats_cols  = [c for c in u.index if c.startswith(('num_rating','avg_rating','weekend_watcher','genre_','type_of_viewer_'))]\n",
    "        user_stats  = torch.tensor(u[stats_cols]\n",
    "                                        .astype('float32').values,dtype=torch.float32)\n",
    "\n",
    "        return movies_seq, ratings_seq, ts_seq, user_stats"
   ],
   "outputs": [],
   "execution_count": 859
  },
  {
   "cell_type": "code",
   "id": "b5887255",
   "metadata": {
    "ExecuteTime": {
     "end_time": "2025-07-07T17:56:51.091786Z",
     "start_time": "2025-07-07T17:56:51.087030Z"
    }
   },
   "source": [
    "def collect_movie_features(m, max_len_a, max_len_d, max_len_g):\n",
    "        \"\"\"\n",
    "        Zwraca cztery tensory: combined, actor_ids, director_ids, genre_ids\n",
    "        \"\"\"\n",
    "        numeric = [\n",
    "            m.runtime,\n",
    "            m.engagement_score,\n",
    "            m.cast_importance,\n",
    "            m.director_score,\n",
    "        ]\n",
    "        binary = [\n",
    "            m.if_blockbuster,\n",
    "            m.highly_watched,\n",
    "            m.highly_rated,\n",
    "            m.has_keywords,\n",
    "            m.has_cast,\n",
    "            m.has_director,\n",
    "        ]\n",
    "        decades = (m[[c for c in m.index if c.startswith('decade_')]]\n",
    "                   .astype(int)\n",
    "                   .tolist())\n",
    "\n",
    "        dense_feats = torch.tensor(numeric + binary + decades, dtype=torch.float32)\n",
    "        text_emb = torch.tensor(m.text_embedded, dtype=torch.float32)\n",
    "\n",
    "        def pad(seq, L):\n",
    "            seq_list = list(seq) if not isinstance(seq, list) else seq\n",
    "            padded = seq_list[:L] + [0] * max(0, L - len(seq_list))\n",
    "            return torch.tensor(padded, dtype=torch.long)\n",
    "\n",
    "        actor_ids    = pad(m.actor_ids,    max_len_a)\n",
    "        director_ids = pad(m.director_ids, max_len_d)\n",
    "        genre_ids    = pad(m.genre_ids,    max_len_g)\n",
    "\n",
    "        return dense_feats, text_emb, actor_ids, director_ids, genre_ids"
   ],
   "outputs": [],
   "execution_count": 860
  },
  {
   "cell_type": "code",
   "id": "362ed5d9",
   "metadata": {
    "ExecuteTime": {
     "end_time": "2025-07-07T17:57:15.242279Z",
     "start_time": "2025-07-07T17:56:51.208226Z"
    }
   },
   "source": [
    "import faiss\n",
    "'''\n",
    "Do zbudowania macierzy embeedingow dla FAISS, do szyukania najblizszych sasiadow\n",
    "'''\n",
    "\n",
    "# unique_ids = df_movies.index.tolist()\n",
    "movie_vecs = []\n",
    "\n",
    "for m_id in df_movies.index:\n",
    "    dense_feats, text_emb, *_ = collect_movie_features(\n",
    "        df_movies.loc[m_id],\n",
    "        max_len_a, max_len_d, max_len_g\n",
    "    )\n",
    "    combined = torch.cat([dense_feats, text_emb], dim=0)\n",
    "    # normalizujemy L2 na potrzeby FAISS cosinusowego (wyplaszczanie)\n",
    "    movie_vecs.append(F.normalize(combined, dim=0))\n",
    "\n",
    "movie_matrix = torch.stack(movie_vecs)  # macierz [n_movies, D]\n",
    "movie_matrix_np = movie_matrix.cpu().numpy().astype('float32')\n",
    "# FAISS IP po L2-normalizacji = cosine similarity\n",
    "faiss_index = faiss.IndexFlatIP(movie_matrix_np.shape[1])\n",
    "faiss_index.add(movie_matrix_np)"
   ],
   "outputs": [],
   "execution_count": 861
  },
  {
   "cell_type": "code",
   "id": "21672045",
   "metadata": {
    "ExecuteTime": {
     "end_time": "2025-07-07T17:57:15.369580Z",
     "start_time": "2025-07-07T17:57:15.359380Z"
    }
   },
   "source": [
    "# DO OCENY I EWENTUALNYCH ZMIAN\n",
    "def find_negative(pos_id, user_negs, k, top_k=200):\n",
    "    \"\"\"\n",
    "    Dla danego pozytywu (pos_id) szuka w FAISS najbliższego negatywu z listy user_negs. Jeśli żaden z top_k nie należy do user_negs to fallback = losowy wybór z user_negs.\n",
    "    \"\"\"\n",
    "    local_pos = movie_to_local[pos_id]\n",
    "\n",
    "    # Zakladamy co najmniej jeden pos_id\n",
    "    _, I = faiss_index.search(movie_matrix_np[local_pos].reshape(1, -1), top_k)\n",
    "\n",
    "    negs = []\n",
    "    for candidate in I[0]:\n",
    "        global_candidate = local_to_movie[candidate]\n",
    "        if global_candidate in user_negs and global_candidate not in negs:\n",
    "            negs.append(global_candidate)\n",
    "            if len(negs) == k:\n",
    "                return negs\n",
    "\n",
    "    top_candidates = [local_to_movie[i] for i in I[0] if local_to_movie[i] not in negs]\n",
    "    to_add = random.sample(\n",
    "        top_candidates if top_candidates else list(user_negs),\n",
    "        k - len(negs)\n",
    "    )\n",
    "    negs.extend(to_add)\n",
    "    return negs"
   ],
   "outputs": [],
   "execution_count": 862
  },
  {
   "metadata": {
    "ExecuteTime": {
     "end_time": "2025-07-07T17:57:15.472572Z",
     "start_time": "2025-07-07T17:57:15.466801Z"
    }
   },
   "cell_type": "code",
   "source": [
    "def find_negative_mixed(pos_id, user_negs, k, top_k=200, hard_frac=0.5):\n",
    "    \"\"\"\n",
    "    Zwraca K negatywów:\n",
    "     - k_h = int(k * hard_frac) twardych z FAISS\n",
    "     - k_r = k-k_h losowych z całego zbioru użytkownika\n",
    "    \"\"\"\n",
    "    if len(user_negs) <= k:\n",
    "        return random.choices(list(user_negs), k=k)\n",
    "\n",
    "    k_h = int(k * hard_frac)\n",
    "    k_r = k - k_h\n",
    "\n",
    "    local_pos = movie_to_local[pos_id]\n",
    "    _, I = faiss_index.search(movie_matrix_np[local_pos].reshape(1, -1), top_k)\n",
    "    hard_cands = [\n",
    "        local_to_movie[i] for i in I[0]\n",
    "        if local_to_movie[i] in user_negs\n",
    "    ]\n",
    "    hard = random.sample(hard_cands, min(k_h, len(hard_cands)))\n",
    "\n",
    "    remaining = list(user_negs - set(hard))\n",
    "    rand = random.sample(remaining, min(k_r, len(remaining)))\n",
    "\n",
    "    all_negs = hard + rand\n",
    "\n",
    "    if len(all_negs) < k:\n",
    "        more = list(user_negs - set(all_negs))\n",
    "        add_n = min(k - len(all_negs), len(more))\n",
    "        all_negs.extend(random.sample(more, add_n))\n",
    "\n",
    "    return all_negs"
   ],
   "id": "e33d13a7b282e485",
   "outputs": [],
   "execution_count": 863
  },
  {
   "metadata": {
    "ExecuteTime": {
     "end_time": "2025-07-07T17:57:17.611845Z",
     "start_time": "2025-07-07T17:57:15.570425Z"
    }
   },
   "cell_type": "code",
   "source": [
    "import collections\n",
    "\n",
    "user_id = df_ratings.index[0]\n",
    "pos_id = df_ratings.at[user_id, 'pos'][0]\n",
    "neg_set = set(df_ratings.at[user_id, 'neg'])\n",
    "\n",
    "k = 5\n",
    "top_k = 100\n",
    "trials = 1000\n",
    "\n",
    "samples = [find_negative_mixed(pos_id, neg_set, k=k, top_k=top_k) for _ in range(trials)]\n",
    "\n",
    "flat = [nid for sublist in samples for nid in sublist]\n",
    "counter = collections.Counter(flat)\n",
    "\n",
    "df_counts = pd.DataFrame(counter.items(), columns=['movie_id', 'count']).sort_values('count', ascending=False)\n",
    "\n",
    "print(\"NEG: \", df_counts)"
   ],
   "id": "9e5822915a4c74eb",
   "outputs": [
    {
     "name": "stdout",
     "output_type": "stream",
     "text": [
      "Distribution of sampled negatives     movie_id  count\n",
      "6         31    297\n",
      "10      1032    295\n",
      "0       2652    294\n",
      "13      1820    291\n",
      "23      1465    285\n",
      "5        581    282\n",
      "3        372    278\n",
      "1       1629    267\n",
      "56     11805     66\n",
      "37      2288     66\n",
      "35     11413     63\n",
      "28     12764     63\n",
      "46      2573     63\n",
      "25      4101     61\n",
      "16      2584     59\n",
      "39     12830     59\n",
      "14       522     58\n",
      "19     11876     58\n",
      "34     11638     57\n",
      "26      1925     56\n",
      "31      7894     56\n",
      "38      5246     56\n",
      "15       148     56\n",
      "55      3366     56\n",
      "11      2582     56\n",
      "43      1251     55\n",
      "54      5350     55\n",
      "47      7705     55\n",
      "59      7002     55\n",
      "20      2596     55\n",
      "12      8205     55\n",
      "27       213     53\n",
      "21       257     52\n",
      "50      5283     52\n",
      "42     11929     52\n",
      "4       2434     51\n",
      "51      1791     51\n",
      "30      4695     50\n",
      "45      5808     50\n",
      "22     12224     50\n",
      "7      11511     50\n",
      "24     11679     49\n",
      "49     11543     49\n",
      "57      3860     48\n",
      "52      1456     48\n",
      "29      7819     48\n",
      "18       145     48\n",
      "33     10127     48\n",
      "44      1200     48\n",
      "8       2431     47\n",
      "41     11655     47\n",
      "17      1359     47\n",
      "53      9960     47\n",
      "58       534     47\n",
      "9      12814     44\n",
      "48      6645     41\n",
      "40     11105     41\n",
      "32     13219     41\n",
      "36      1996     37\n",
      "2       9623     36\n"
     ]
    }
   ],
   "execution_count": 864
  },
  {
   "metadata": {
    "ExecuteTime": {
     "end_time": "2025-07-07T17:57:17.714964Z",
     "start_time": "2025-07-07T17:57:17.710189Z"
    }
   },
   "cell_type": "code",
   "source": [
    "class UserOnlyDataset(Dataset):\n",
    "    def __init__(self, df_users):\n",
    "        self.df_users = df_users.reset_index(drop=True)\n",
    "\n",
    "    def __len__(self):\n",
    "        return len(self.df_users)\n",
    "\n",
    "    def __getitem__(self, idx):\n",
    "        u_row = self.df_users.iloc[idx]\n",
    "        movies_seq, ratings_seq, ts_seq, user_stats = collect_user_features(u_row)\n",
    "        return {\n",
    "            'user': {\n",
    "                'user_statistics': user_stats,\n",
    "                'movies': movies_seq,\n",
    "                'ratings': ratings_seq,\n",
    "                'times': ts_seq,\n",
    "            }\n",
    "        }"
   ],
   "id": "27555ae06e59b157",
   "outputs": [],
   "execution_count": 865
  },
  {
   "metadata": {
    "ExecuteTime": {
     "end_time": "2025-07-07T17:57:17.817962Z",
     "start_time": "2025-07-07T17:57:17.812231Z"
    }
   },
   "cell_type": "code",
   "source": [
    "class MovieDataset(Dataset):\n",
    "    '''\n",
    "    Potrzebny do stworzenia matrix-a pod LOOCV\n",
    "    '''\n",
    "    def __init__(self, df_movies):\n",
    "        self.df = df_movies\n",
    "    def __len__(self):\n",
    "        return len(self.df)\n",
    "    def __getitem__(self, idx):\n",
    "        m = self.df.iloc[idx]\n",
    "        return collect_movie_features(m, max_len_a, max_len_d, max_len_g)"
   ],
   "id": "33c4551ad061318a",
   "outputs": [],
   "execution_count": 866
  },
  {
   "metadata": {
    "ExecuteTime": {
     "end_time": "2025-07-07T17:57:17.927061Z",
     "start_time": "2025-07-07T17:57:17.916374Z"
    }
   },
   "cell_type": "code",
   "source": [
    "class TwoTowerDataset(Dataset):\n",
    "\n",
    "    def __init__(self, df_users, df_ratings, df_movies):\n",
    "        self.df_users = df_users.reset_index(drop=True)\n",
    "        self.df_ratings = df_ratings\n",
    "        self.df_movies = df_movies\n",
    "\n",
    "    def __len__(self):\n",
    "        return len(self.df_users)\n",
    "\n",
    "    def __getitem__(self, idx):\n",
    "        # User features\n",
    "        u_row = self.df_users.iloc[idx]\n",
    "        movies_seq, ratings_seq, ts_seq, user_stats = collect_user_features(u_row)\n",
    "        user_id = u_row['userId']\n",
    "\n",
    "        pos_list = self.df_ratings.at[user_id, 'pos']\n",
    "        neg_list = self.df_ratings.at[user_id, 'neg']\n",
    "\n",
    "        #BPR\n",
    "        pos_id = random.choice(pos_list)\n",
    "        # neg_id = find_negative(pos_id,set(neg_list))\n",
    "        k = 5 # Liczba negatywow\n",
    "        neg_ids = find_negative_mixed(pos_id, set(neg_list), k)\n",
    "\n",
    "        # # Szybki test na randomowych\n",
    "        # if len(neg_list) >= 2:\n",
    "        #     neg_ids = random.sample(neg_list, k=2)\n",
    "        # else:\n",
    "        #     neg_ids = random.choices(neg_list, k=2)\n",
    "\n",
    "        assert pos_id not in neg_ids, \"Wylosowałeś negatyw równy pozytywowi!\"\n",
    "        assert len(neg_ids) == k,      \"Zła liczba negatywów\"\n",
    "        # assert len(set(neg_ids)) == k, \"Duplikaty wśród negatywów\"\n",
    "\n",
    "        m_pos = self.df_movies.loc[pos_id]\n",
    "        pos_feats, pos_text, pos_actors, pos_directors, pos_genres = collect_movie_features(m_pos, max_len_a, max_len_d, max_len_g)\n",
    "\n",
    "        # m_neg = self.df_movies.loc[neg_id]\n",
    "        # neg_feats, neg_text, neg_actors, neg_directors, neg_genres = collect_movie_features(m_neg, max_len_a, max_len_d, max_len_g)\n",
    "\n",
    "        neg_feats_list, neg_text_list, neg_actor_list, neg_director_list, neg_genre_list = [], [], [], [], []\n",
    "        for nid in neg_ids:\n",
    "            m_neg = self.df_movies.loc[nid]\n",
    "            nf, nt, na, nd, ng = collect_movie_features(m_neg, max_len_a, max_len_d, max_len_g)\n",
    "            neg_feats_list.append(nf)\n",
    "            neg_text_list.append(nt)\n",
    "            neg_actor_list.append(na)\n",
    "            neg_director_list.append(nd)\n",
    "            neg_genre_list.append(ng)\n",
    "\n",
    "        return {\n",
    "            'user': {\n",
    "                'user_statistics': user_stats,\n",
    "                'movies': movies_seq,\n",
    "                'ratings': ratings_seq,\n",
    "                'times': ts_seq,\n",
    "            },\n",
    "            'pos_item': {\n",
    "                'dense_features': pos_feats,\n",
    "                'text_embedding': pos_text,\n",
    "                'actor_ids': pos_actors,\n",
    "                'director_ids': pos_directors,\n",
    "                'genre_ids': pos_genres,\n",
    "            },\n",
    "            # 'neg_item': {\n",
    "            #     'dense_features': neg_feats,\n",
    "            #     'text_embedding': neg_text,\n",
    "            #     'actor_ids': neg_actors,\n",
    "            #     'director_ids': neg_directors,\n",
    "            #     'genre_ids': neg_genres,\n",
    "            # }\n",
    "            'neg_item': {\n",
    "                'dense_features':  torch.stack(neg_feats_list),    # [k, dense_feat_dim]\n",
    "                'text_embedding':  torch.stack(neg_text_list),     # [k, text_emb_dim]\n",
    "                'actor_ids':       torch.stack(neg_actor_list),    # [k, max_len_a]\n",
    "                'director_ids':    torch.stack(neg_director_list), # [k, max_len_d]\n",
    "                'genre_ids':       torch.stack(neg_genre_list),    # [k, max_len_g]\n",
    "            }\n",
    "        }"
   ],
   "id": "f6de762ef40bfc32",
   "outputs": [],
   "execution_count": 867
  },
  {
   "metadata": {
    "ExecuteTime": {
     "end_time": "2025-07-07T17:57:18.078546Z",
     "start_time": "2025-07-07T17:57:18.061742Z"
    }
   },
   "cell_type": "code",
   "source": [
    "'''\n",
    "TEST DATASETU I ODPOWIEDNIEGO OUTPUTU POJEDYNCZEGO OBIEKTU GET_ITEM\n",
    "'''\n",
    "dataset_test = TwoTowerDataset(df_users, df_ratings, df_movies)\n",
    "\n",
    "sample0 = dataset_test[0]\n",
    "\n",
    "print(\"Keys:\", sample0.keys())\n",
    "print(\"\\n--- USER ---\")\n",
    "for k,v in sample0['user'].items():\n",
    "    print(f\" user[{k}]:\", type(v), getattr(v, \"shape\", v[:5] if isinstance(v,list) else v))\n",
    "\n",
    "print(\"\\n--- POS ITEM ---\")\n",
    "for k,v in sample0['pos_item'].items():\n",
    "    print(f\" pos_item[{k}]:\", type(v), v.shape if hasattr(v,'shape') else v[:5])\n",
    "\n",
    "print(\"\\n--- NEG ITEM ---\")\n",
    "for k,v in sample0['neg_item'].items():\n",
    "    print(f\" neg_item[{k}]:\", type(v), v.shape if hasattr(v,'shape') else v[:5])"
   ],
   "id": "15c05dcc20dd43bd",
   "outputs": [
    {
     "name": "stdout",
     "output_type": "stream",
     "text": [
      "Keys: dict_keys(['user', 'pos_item', 'neg_item'])\n",
      "\n",
      "--- USER ---\n",
      " user[user_statistics]: <class 'torch.Tensor'> torch.Size([25])\n",
      " user[movies]: <class 'torch.Tensor'> torch.Size([20])\n",
      " user[ratings]: <class 'torch.Tensor'> torch.Size([20])\n",
      " user[times]: <class 'torch.Tensor'> torch.Size([20])\n",
      "\n",
      "--- POS ITEM ---\n",
      " pos_item[dense_features]: <class 'torch.Tensor'> torch.Size([24])\n",
      " pos_item[text_embedding]: <class 'torch.Tensor'> torch.Size([300])\n",
      " pos_item[actor_ids]: <class 'torch.Tensor'> torch.Size([5])\n",
      " pos_item[director_ids]: <class 'torch.Tensor'> torch.Size([3])\n",
      " pos_item[genre_ids]: <class 'torch.Tensor'> torch.Size([9])\n",
      "\n",
      "--- NEG ITEM ---\n",
      " neg_item[dense_features]: <class 'torch.Tensor'> torch.Size([5, 24])\n",
      " neg_item[text_embedding]: <class 'torch.Tensor'> torch.Size([5, 300])\n",
      " neg_item[actor_ids]: <class 'torch.Tensor'> torch.Size([5, 5])\n",
      " neg_item[director_ids]: <class 'torch.Tensor'> torch.Size([5, 3])\n",
      " neg_item[genre_ids]: <class 'torch.Tensor'> torch.Size([5, 9])\n"
     ]
    }
   ],
   "execution_count": 868
  },
  {
   "metadata": {
    "ExecuteTime": {
     "end_time": "2025-07-07T17:57:18.242164Z",
     "start_time": "2025-07-07T17:57:18.230945Z"
    }
   },
   "cell_type": "code",
   "source": [
    "def collate_TT(batch):\n",
    "    '''\n",
    "    Pelny batchowanie danych do uczenia\n",
    "    '''\n",
    "    user_movies, user_ratings, user_times, user_stats = [], [], [], []\n",
    "    pos_dense, pos_text, pos_actor, pos_director, pos_genre = [], [], [], [], []\n",
    "    neg_dense, neg_text, neg_actor, neg_director, neg_genre = [], [], [], [], []\n",
    "\n",
    "    for row in batch:\n",
    "\n",
    "        user_stats.append(row['user']['user_statistics'])\n",
    "        user_movies.append(row['user']['movies'])\n",
    "        user_ratings.append(row['user']['ratings'])\n",
    "        user_times.append(row['user']['times'])\n",
    "\n",
    "        pos_dense.append(row['pos_item']['dense_features'])\n",
    "        pos_text.append(row['pos_item']['text_embedding'])\n",
    "        pos_actor.append(row['pos_item']['actor_ids'])\n",
    "        pos_director.append(row['pos_item']['director_ids'])\n",
    "        pos_genre.append(row['pos_item']['genre_ids'])\n",
    "\n",
    "        neg_dense.append(row['neg_item']['dense_features']) # [k, D_feat]\n",
    "        neg_text.append(row['neg_item']['text_embedding'])  # [k, D_text]\n",
    "        neg_actor.append(row['neg_item']['actor_ids'])\n",
    "        neg_director.append(row['neg_item']['director_ids'])\n",
    "        neg_genre.append(row['neg_item']['genre_ids'])\n",
    "\n",
    "    batch_user = {\n",
    "        'user_statistics': torch.stack(user_stats),     # [B, d_stats]\n",
    "        'movies': torch.stack(user_movies),             # [B, L_u]\n",
    "        'ratings': torch.stack(user_ratings),           # [B, L_u]\n",
    "        'times': torch.stack(user_times),               # [B, L_u]\n",
    "    }\n",
    "\n",
    "    batch_pos_item = {\n",
    "        'dense_features': torch.stack(pos_dense),       # [B, dense_feat_dim]\n",
    "        'text_embedding': torch.stack(pos_text),        # [B, text_emb_dim]\n",
    "        'actor_ids': torch.stack(pos_actor),            # [B, max_len_a]\n",
    "        'director_ids':torch.stack(pos_director),       # [B, max_len_d]\n",
    "        'genre_ids': torch.stack(pos_genre),            # [B, max_len_g]\n",
    "    }\n",
    "\n",
    "    batch_neg_item = {\n",
    "        'dense_features': torch.stack(neg_dense),\n",
    "        'text_embedding': torch.stack(neg_text),\n",
    "        'actor_ids': torch.stack(neg_actor),\n",
    "        'director_ids': torch.stack(neg_director),\n",
    "        'genre_ids': torch.stack(neg_genre),\n",
    "    }\n",
    "\n",
    "    return {\n",
    "      'user': batch_user,\n",
    "      'pos_item': batch_pos_item,\n",
    "      'neg_item': batch_neg_item\n",
    "    }"
   ],
   "id": "d3c298602cbcdbc7",
   "outputs": [],
   "execution_count": 869
  },
  {
   "metadata": {
    "ExecuteTime": {
     "end_time": "2025-07-07T17:57:18.357349Z",
     "start_time": "2025-07-07T17:57:18.352696Z"
    }
   },
   "cell_type": "code",
   "source": [
    "def collateUser(batch):\n",
    "    '''\n",
    "    Przygotowujemy batch zawierajace dane tylko user-a, potrzebne do leave-one-out\n",
    "    '''\n",
    "    movies, ratings, times, stats = [], [], [], []\n",
    "\n",
    "    for row in batch:\n",
    "\n",
    "        movies.append(row['user']['movies'])\n",
    "        ratings.append(row['user']['ratings'])\n",
    "        times.append(row['user']['times'])\n",
    "        stats.append(row['user']['user_statistics'])\n",
    "\n",
    "    return {\n",
    "        'user': {\n",
    "            'user_statistics': torch.stack(stats),  # [B, d_stats]\n",
    "            'movies': torch.stack(movies),          # [B, L_u]\n",
    "            'ratings': torch.stack(ratings),        # [B, L_u]\n",
    "            'times': torch.stack(times)             # [B, L_u]\n",
    "        }\n",
    "    }"
   ],
   "id": "996c498e79c425b5",
   "outputs": [],
   "execution_count": 870
  },
  {
   "metadata": {},
   "cell_type": "markdown",
   "source": "# Przygotowanie zbiorów do treningu",
   "id": "341c5c1563f59ca8"
  },
  {
   "metadata": {
    "ExecuteTime": {
     "end_time": "2025-07-07T17:57:18.514935Z",
     "start_time": "2025-07-07T17:57:18.497109Z"
    }
   },
   "cell_type": "code",
   "source": [
    "BATCH_SIZE = 1024 # FOR TEST: 4\n",
    "train_users, val_users = train_test_split(\n",
    "    df_users,\n",
    "    test_size=0.2,\n",
    "    random_state=213\n",
    ")\n",
    "\n",
    "train_ratings = df_ratings[df_ratings.index.isin(train_users['userId'])].copy()\n",
    "val_ratings = df_ratings[df_ratings.index.isin(val_users['userId'])].copy()\n",
    "\n",
    "assert set(train_users['userId']) <= set(train_ratings.index)\n",
    "assert set(val_users  ['userId']) <= set(val_ratings.index)"
   ],
   "id": "50fdda2f7fbbf8ae",
   "outputs": [],
   "execution_count": 871
  },
  {
   "metadata": {
    "ExecuteTime": {
     "end_time": "2025-07-07T17:57:18.714854Z",
     "start_time": "2025-07-07T17:57:18.618042Z"
    }
   },
   "cell_type": "code",
   "source": [
    "'''\n",
    "Tworzymy do pozniejszej walidacji leave-one-out w heavy_evaluate\n",
    "'''\n",
    "\n",
    "val_ratings_heavy = val_ratings.copy()\n",
    "val_loocv = []\n",
    "\n",
    "for user_id, row in val_ratings_heavy.iterrows():\n",
    "    if len(row['pos']) < 2:\n",
    "        continue                    # pomijamy jezeli > 2\n",
    "    pos_list = row['pos']           # wwszytkie pos (wieksze od > 2)\n",
    "    hold = pos_list[-1]             # Bierzemy ostatni do hold-out\n",
    "    train = pos_list[:-1]\n",
    "\n",
    "    val_loocv.append({'userId': user_id, 'pos': [hold]})\n",
    "    val_ratings_heavy.at[user_id, 'pos'] = train\n",
    "\n",
    "val_loocv = pd.DataFrame(val_loocv).set_index('userId')"
   ],
   "id": "ce02fdf30df7cd3f",
   "outputs": [],
   "execution_count": 872
  },
  {
   "metadata": {
    "ExecuteTime": {
     "end_time": "2025-07-07T17:57:18.896461Z",
     "start_time": "2025-07-07T17:57:18.819317Z"
    }
   },
   "cell_type": "code",
   "source": [
    "'''\n",
    "Przygotowujemy dane potrzebne do leave-one-out\n",
    "'''\n",
    "# train_pos_sets_val = {\n",
    "#     user_id: set(pos_list)\n",
    "#     for user_id, pos_list in val_ratings['pos'].items()\n",
    "# }\n",
    "#\n",
    "# test_pos_val = val_loocv['pos'].to_dict()\n",
    "\n",
    "train_pos_sets_val_global = {                           # globalne zbiory pozytywów i hold-outów z val_ratings_heavy\n",
    "    u: set(pos_list)\n",
    "    for u, pos_list in val_ratings_heavy['pos'].items()\n",
    "}\n",
    "test_pos_val_global = val_loocv['pos'].to_dict()\n",
    "\n",
    "train_pos_sets_val = {                                  # mapowanie na lokalne indeksy w movie_matrix_np\n",
    "    u: { movie_to_local[mid] for mid in global_set }\n",
    "    for u, global_set in train_pos_sets_val_global.items()\n",
    "}\n",
    "test_pos_val = {\n",
    "    u: [ movie_to_local[mid] for mid in global_list ]\n",
    "    for u, global_list in test_pos_val_global.items()\n",
    "}\n",
    "\n",
    "heavy_user_ids = val_loocv.index.tolist() # listę tylko tych userów z val, którzy mają >=2 pozytywów\n",
    "heavy_users = df_users[df_users['userId'].isin(heavy_user_ids)].reset_index(drop=True)\n",
    "\n",
    "all_user_ids = heavy_user_ids\n"
   ],
   "id": "a1410103cccbbcb2",
   "outputs": [],
   "execution_count": 873
  },
  {
   "metadata": {
    "ExecuteTime": {
     "end_time": "2025-07-07T17:57:19.005745Z",
     "start_time": "2025-07-07T17:57:18.999883Z"
    }
   },
   "cell_type": "code",
   "source": [
    "train_dataset = TwoTowerDataset(\n",
    "    train_users,\n",
    "    train_ratings,\n",
    "    df_movies\n",
    ")\n",
    "val_dataset_light = TwoTowerDataset(\n",
    "    val_users,\n",
    "    val_ratings,         # pełna lista pos i neg\n",
    "    df_movies\n",
    ")\n",
    "# val_dataset_heavy = TwoTowerDataset(\n",
    "#     val_users,\n",
    "#     val_loocv,          # pojedyncze hold-out’y\n",
    "#     df_movies\n",
    "# )\n",
    "val_dataset_heavy = UserOnlyDataset(heavy_users)"
   ],
   "id": "718ebb47cde784b3",
   "outputs": [],
   "execution_count": 874
  },
  {
   "metadata": {
    "ExecuteTime": {
     "end_time": "2025-07-07T17:57:19.102697Z",
     "start_time": "2025-07-07T17:57:19.097893Z"
    }
   },
   "cell_type": "code",
   "source": [
    "train_loader = DataLoader(\n",
    "    dataset       = train_dataset,\n",
    "    batch_size    = BATCH_SIZE,\n",
    "    shuffle       = True,\n",
    "    # num_workers   = 2,\n",
    "    pin_memory    = True,\n",
    "    collate_fn    = collate_TT,\n",
    "    drop_last     = False\n",
    ")\n",
    "val_light_loader = DataLoader(\n",
    "    dataset       = val_dataset_light,\n",
    "    batch_size    = BATCH_SIZE,\n",
    "    shuffle       = False,\n",
    "    # num_workers   = 2,\n",
    "    pin_memory    = True,\n",
    "    collate_fn    = collate_TT,\n",
    "    drop_last     = False\n",
    ")\n",
    "# val_heavy_loader = DataLoader(\n",
    "#     dataset       = val_dataset_heavy,\n",
    "#     batch_size    = BATCH_SIZE,\n",
    "#     shuffle       = False,\n",
    "#     # num_workers   = 2,\n",
    "#     pin_memory    = True,\n",
    "#     collate_fn    = collateUser,\n",
    "#     drop_last     = False\n",
    "# )\n",
    "val_heavy_loader = DataLoader(\n",
    "    dataset    = val_dataset_heavy,\n",
    "    batch_size = BATCH_SIZE,\n",
    "    shuffle    = False,\n",
    "    pin_memory = True,\n",
    "    collate_fn = collateUser,\n",
    ")\n",
    "movie_loader = DataLoader(\n",
    "    MovieDataset(df_movies),\n",
    "    batch_size=8192,\n",
    "    collate_fn=lambda batch: {\n",
    "        'pos_item': {\n",
    "            'dense_features': torch.stack([b[0] for b in batch]),\n",
    "            'text_embedding': torch.stack([b[1] for b in batch]),\n",
    "            'actor_ids':      torch.stack([b[2] for b in batch]),\n",
    "            'director_ids':   torch.stack([b[3] for b in batch]),\n",
    "            'genre_ids':      torch.stack([b[4] for b in batch]),\n",
    "        }\n",
    "    }\n",
    ")"
   ],
   "id": "ca1f227f2c582a7e",
   "outputs": [],
   "execution_count": 875
  },
  {
   "metadata": {
    "ExecuteTime": {
     "end_time": "2025-07-07T17:57:19.229967Z",
     "start_time": "2025-07-07T17:57:19.199835Z"
    }
   },
   "cell_type": "code",
   "source": [
    "'''\n",
    "TEST CUSTOMOWEJ FUNKCJI collateTT I DATALOADER-OW\n",
    "'''\n",
    "device = torch.device(\"cuda\")\n",
    "dataset_test = TwoTowerDataset(df_users, df_ratings, df_movies)\n",
    "\n",
    "loader_test_full = DataLoader(\n",
    "    dataset_test,\n",
    "    batch_size=4,\n",
    "    shuffle=True,\n",
    "    collate_fn=collate_TT,\n",
    ")\n",
    "\n",
    "batch_test = next(iter(loader_test_full))\n",
    "\n",
    "print(\"=== USER ===\")\n",
    "for k,v in batch_test['user'].items():\n",
    "    print(f\"{k:10s}:\", v.shape)\n",
    "\n",
    "print(\"\\n=== POS ITEM ===\")\n",
    "for k,v in batch_test['pos_item'].items():\n",
    "    print(f\"{k:15s}:\", v.shape)\n",
    "\n",
    "print(\"\\n=== NEG ITEM ===\")\n",
    "for k,v in batch_test['neg_item'].items():\n",
    "    print(f\"{k:15s}:\", v.shape)"
   ],
   "id": "d0fb0f65ebdc0fde",
   "outputs": [
    {
     "name": "stdout",
     "output_type": "stream",
     "text": [
      "=== USER ===\n",
      "user_statistics: torch.Size([4, 25])\n",
      "movies    : torch.Size([4, 20])\n",
      "ratings   : torch.Size([4, 20])\n",
      "times     : torch.Size([4, 20])\n",
      "\n",
      "=== POS ITEM ===\n",
      "dense_features : torch.Size([4, 24])\n",
      "text_embedding : torch.Size([4, 300])\n",
      "actor_ids      : torch.Size([4, 5])\n",
      "director_ids   : torch.Size([4, 3])\n",
      "genre_ids      : torch.Size([4, 9])\n",
      "\n",
      "=== NEG ITEM ===\n",
      "dense_features : torch.Size([4, 5, 24])\n",
      "text_embedding : torch.Size([4, 5, 300])\n",
      "actor_ids      : torch.Size([4, 5, 5])\n",
      "director_ids   : torch.Size([4, 5, 3])\n",
      "genre_ids      : torch.Size([4, 5, 9])\n"
     ]
    }
   ],
   "execution_count": 876
  },
  {
   "metadata": {
    "ExecuteTime": {
     "end_time": "2025-07-07T17:57:19.357260Z",
     "start_time": "2025-07-07T17:57:19.328162Z"
    }
   },
   "cell_type": "code",
   "source": [
    "loader_test_user = DataLoader(\n",
    "    dataset_test,\n",
    "    batch_size=4,\n",
    "    shuffle=False,\n",
    "    collate_fn=collateUser,\n",
    ")\n",
    "\n",
    "batch_user = next(iter(loader_test_user))\n",
    "\n",
    "print(\"\\n=== USER-ONLY BATCH (collateUser) ===\")\n",
    "for k, v in batch_user['user'].items():\n",
    "    print(f\"{k:12s} ->\", v.shape)"
   ],
   "id": "ce987d4e7294fd44",
   "outputs": [
    {
     "name": "stdout",
     "output_type": "stream",
     "text": [
      "\n",
      "=== USER-ONLY BATCH (collateUser) ===\n",
      "user_statistics -> torch.Size([4, 25])\n",
      "movies       -> torch.Size([4, 20])\n",
      "ratings      -> torch.Size([4, 20])\n",
      "times        -> torch.Size([4, 20])\n"
     ]
    }
   ],
   "execution_count": 877
  },
  {
   "metadata": {
    "ExecuteTime": {
     "end_time": "2025-07-07T17:57:23.502513Z",
     "start_time": "2025-07-07T17:57:19.454426Z"
    }
   },
   "cell_type": "code",
   "source": [
    "batch_test_3 = next(iter(train_loader))\n",
    "\n",
    "print(\"=== USER ===\")\n",
    "for k,v in batch_test_3['user'].items():\n",
    "    print(f\"{k:10s}:\", v.shape)\n",
    "\n",
    "print(\"\\n=== POS ITEM ===\")\n",
    "for k,v in batch_test_3['pos_item'].items():\n",
    "    print(f\"{k:15s}:\", v.shape)\n",
    "\n",
    "print(\"\\n=== NEG ITEM ===\")\n",
    "for k,v in batch_test_3['neg_item'].items():\n",
    "    print(f\"{k:15s}:\", v.shape)"
   ],
   "id": "4764e2825e7f9ea0",
   "outputs": [
    {
     "name": "stdout",
     "output_type": "stream",
     "text": [
      "=== USER ===\n",
      "user_statistics: torch.Size([1024, 25])\n",
      "movies    : torch.Size([1024, 20])\n",
      "ratings   : torch.Size([1024, 20])\n",
      "times     : torch.Size([1024, 20])\n",
      "\n",
      "=== POS ITEM ===\n",
      "dense_features : torch.Size([1024, 24])\n",
      "text_embedding : torch.Size([1024, 300])\n",
      "actor_ids      : torch.Size([1024, 5])\n",
      "director_ids   : torch.Size([1024, 3])\n",
      "genre_ids      : torch.Size([1024, 9])\n",
      "\n",
      "=== NEG ITEM ===\n",
      "dense_features : torch.Size([1024, 5, 24])\n",
      "text_embedding : torch.Size([1024, 5, 300])\n",
      "actor_ids      : torch.Size([1024, 5, 5])\n",
      "director_ids   : torch.Size([1024, 5, 3])\n",
      "genre_ids      : torch.Size([1024, 5, 9])\n"
     ]
    }
   ],
   "execution_count": 878
  },
  {
   "metadata": {},
   "cell_type": "markdown",
   "source": "# ARCHITEKTURA TWO TOWER",
   "id": "f694d2987cc91669"
  },
  {
   "metadata": {
    "ExecuteTime": {
     "end_time": "2025-07-07T17:57:23.611424Z",
     "start_time": "2025-07-07T17:57:23.600725Z"
    }
   },
   "cell_type": "code",
   "source": [
    "EMB_DIM = 64\n",
    "\n",
    "class UserTower(nn.Module):\n",
    "    def __init__(self, input_dim, n_items, embedding_dim=EMB_DIM):\n",
    "        '''\n",
    "        input_dim - the number of columns in user features, without sequence columns\n",
    "        '''\n",
    "        super().__init__()\n",
    "\n",
    "        self.item_emb = nn.Embedding(n_items, embedding_dim)\n",
    "\n",
    "        # A layer to project rating and timestamp into a scalar weight\n",
    "        self.rating_proj = nn.Linear(2, 1)\n",
    "\n",
    "        self.mlp = nn.Sequential(\n",
    "            nn.Linear(input_dim + embedding_dim, 512),\n",
    "            nn.ReLU(),\n",
    "            nn.Dropout(0.2),\n",
    "            nn.Linear(512, 384),\n",
    "            nn.ReLU(),\n",
    "            nn.Dropout(0.2),\n",
    "            nn.Linear(384, 256),\n",
    "            nn.ReLU(),\n",
    "            nn.Dropout(0.2),\n",
    "            nn.Linear(256, embedding_dim)\n",
    "        )\n",
    "\n",
    "    def forward(self, batch):\n",
    "        # Embed movieIds liked by user\n",
    "        m = self.item_emb(batch['movies'])\n",
    "\n",
    "        # Get weights\n",
    "        x = torch.stack([batch['ratings'], batch['times']], dim=-1) # [B, L_u, 2]\n",
    "        w = torch.sigmoid(self.rating_proj(x))\n",
    "\n",
    "        # weighted mean-pool\n",
    "        pooled = (m * w).sum(1) / w.sum(1).clamp_min(1e-6)   # [B, D]\n",
    "\n",
    "        input = torch.cat([batch['user_statistics'], pooled], dim=-1) # [B, stats+EMB_DIM]\n",
    "        output = self.mlp(input)                                    # [B, EMB_DIM]\n",
    "        u = F.normalize(output, dim = 1)\n",
    "        return u\n",
    "\n",
    "\n",
    "class ItemTower(nn.Module):\n",
    "    def __init__(self,dense_feat_dim,text_emb_dim,vocab_sizes,embedding_dim=EMB_DIM):\n",
    "        '''\n",
    "        vocab_sizes - tuple odpowiednio n_actors, n_directors, n_genres\n",
    "        dense_feat_dim – wymiary numeric+binary+decades+text\n",
    "        tex_emb_dim - Wektor o wielkosc 300 opisujacy dane tekstowe filmu\n",
    "        '''\n",
    "        super().__init__()\n",
    "\n",
    "        self.actor_emb = nn.Embedding(vocab_sizes[0], embedding_dim)\n",
    "        self.director_emb = nn.Embedding(vocab_sizes[1], embedding_dim)\n",
    "        self.genre_emb = nn.Embedding(vocab_sizes[2], embedding_dim)\n",
    "\n",
    "        self.meta_mlp = nn.Sequential(\n",
    "            nn.Linear(dense_feat_dim, 128),\n",
    "            nn.ReLU(),\n",
    "            nn.Dropout(0.2),\n",
    "            nn.Linear(128, embedding_dim),\n",
    "            nn.ReLU()\n",
    "        )\n",
    "\n",
    "        self.text_mlp = nn.Sequential( #--- to consider za ostre zejscie z 512 -> 64, moze posredni 256\n",
    "            nn.Linear(text_emb_dim, 512),\n",
    "            nn.ReLU(),\n",
    "            nn.Dropout(0.2),\n",
    "            nn.Linear(512, embedding_dim),\n",
    "            nn.ReLU()\n",
    "        )\n",
    "\n",
    "        MLP_INPUT_DIM = embedding_dim*5 # odpowiednio nn.Embeedings * 3 oraz meta_mlp oraz text_mlp\n",
    "        self.final_mlp = nn.Sequential(\n",
    "            nn.Linear(MLP_INPUT_DIM, 512),\n",
    "            nn.ReLU(),\n",
    "            nn.Dropout(0.2),\n",
    "            nn.Linear(512,256),\n",
    "            nn.ReLU(),\n",
    "            nn.Dropout(0.2),\n",
    "            nn.Linear(256,embedding_dim)\n",
    "        )\n",
    "\n",
    "    def forward(self, batch, key: str = \"pos_item\"):\n",
    "\n",
    "        dense_feats = batch[key]['dense_features']     # [B, dense_feat_dim]\n",
    "        text_emb = batch[key]['text_embedding']     # [B, text_emb_dim]\n",
    "\n",
    "        actor_ids = batch[key]['actor_ids']         # [B, max_len_a]\n",
    "        director_ids = batch[key]['director_ids']\n",
    "        genre_ids = batch[key]['genre_ids']\n",
    "\n",
    "        if dense_feats.dim() == 3:\n",
    "            B, k, Z = dense_feats.shape\n",
    "\n",
    "            # flattenujemy\n",
    "            dense_flat     = dense_feats.view(B*k, Z)\n",
    "            text_flat      = text_emb.view(B*k, -1)\n",
    "            actor_flat     = actor_ids.view(B*k, -1)\n",
    "            director_flat  = director_ids.view(B*k, -1)\n",
    "            genre_flat     = genre_ids.view(B*k, -1)\n",
    "\n",
    "            # złożony batch\n",
    "            flat_batch = {\n",
    "                key: {\n",
    "                    'dense_features':  dense_flat,\n",
    "                    'text_embedding':  text_flat,\n",
    "                    'actor_ids':       actor_flat,\n",
    "                    'director_ids':    director_flat,\n",
    "                    'genre_ids':       genre_flat,\n",
    "                }\n",
    "            }\n",
    "\n",
    "            emb_flat = self.forward(flat_batch, key)    # rekurencyjnie batch na embeddingi [B*k, D]\n",
    "\n",
    "            return emb_flat.view(B, k, -1)              # [B, k, D]\n",
    "\n",
    "        dense_vec = self.meta_mlp(dense_feats)      # [B, D]\n",
    "        text_vec = self.text_mlp(text_emb)          # [B, D]\n",
    "\n",
    "        cast_imp = dense_feats[:, 2:3]              # [B, 1]\n",
    "        director_score = dense_feats[:, 3:4]        # [B, 1]\n",
    "\n",
    "        a = self.actor_emb   (actor_ids).mean(dim=1)    # [B, D]\n",
    "        d = self.director_emb(director_ids).mean(dim=1) # [B, D]\n",
    "        g = self.genre_emb   (genre_ids).mean(dim=1)    # [B, D]\n",
    "\n",
    "        # We add weights based on importance score\n",
    "        a = a * cast_imp\n",
    "        d = d * director_score #--- do rozwazenia Max pooling lub Attention pooling\n",
    "\n",
    "        input = torch.cat([a, d, g, dense_vec, text_vec], dim=-1)   # [B, 5D]\n",
    "        output = self.final_mlp(input)                              # [B, D]\n",
    "        i = F.normalize(output, dim=1)\n",
    "        return i\n"
   ],
   "id": "2051b9e2c8ceb9f",
   "outputs": [],
   "execution_count": 879
  },
  {
   "metadata": {
    "ExecuteTime": {
     "end_time": "2025-07-07T17:57:23.720671Z",
     "start_time": "2025-07-07T17:57:23.714793Z"
    }
   },
   "cell_type": "code",
   "source": [
    "class TwoTowerModel(nn.Module):\n",
    "    def __init__(self, stats_dim, n_items, vocab_sizes,\n",
    "                 dense_feat_dim, text_emb_dim, embedding_dim=EMB_DIM):\n",
    "        super().__init__()\n",
    "        self.user_tower = UserTower(stats_dim, n_items, embedding_dim)\n",
    "        self.item_tower = ItemTower(dense_feat_dim, text_emb_dim, vocab_sizes, embedding_dim)\n",
    "\n",
    "    def forward(self, batch):\n",
    "        u = self.user_tower(batch['user'])\n",
    "        i_pos = self.item_tower(batch, key=\"pos_item\")\n",
    "        i_neg = self.item_tower(batch, key=\"neg_item\")\n",
    "\n",
    "        if i_neg.dim() == 2:\n",
    "            return u, i_pos, i_neg # każdy [B, 64]\n",
    "\n",
    "        B, k, D = i_neg.shape\n",
    "\n",
    "        i_neg_flat = i_neg.reshape(B*k, D) # Splaszczamy\n",
    "\n",
    "        u_flat = u.unsqueeze(1).expand(B, k, D).reshape(B*k, D)\n",
    "        pos_flat = i_pos.unsqueeze(1).expand(B, k, D).reshape(B*k, D)\n",
    "\n",
    "        return u_flat, pos_flat, i_neg_flat\n"
   ],
   "id": "f348ae144e92ea8e",
   "outputs": [],
   "execution_count": 880
  },
  {
   "metadata": {
    "ExecuteTime": {
     "end_time": "2025-07-07T17:57:23.890364Z",
     "start_time": "2025-07-07T17:57:23.824983Z"
    }
   },
   "cell_type": "code",
   "source": [
    "'''\n",
    "TEST ARCHITEKTURY MODELOW\n",
    "'''\n",
    "device = torch.device(\"cuda\")\n",
    "model_test  = TwoTowerModel(stats_dim=25,\n",
    "                       n_items=n_items,\n",
    "                       vocab_sizes=(num_actors, num_directors, num_genres),\n",
    "                       dense_feat_dim=24,\n",
    "                       text_emb_dim=300,\n",
    "                       embedding_dim=64).to(device)\n",
    "\n",
    "# First batch\n",
    "batch_test_2 = next(iter(loader_test_full))\n",
    "\n",
    "batch_test_2 = {\n",
    "  'user':      {k: v.to(device, non_blocking=True) for k,v in batch_test_2['user'].items()},\n",
    "  'pos_item':  {k: v.to(device, non_blocking=True) for k,v in batch_test_2['pos_item'].items()},\n",
    "  'neg_item':  {k: v.to(device, non_blocking=True) for k,v in batch_test_2['neg_item'].items()},\n",
    "}\n",
    "\n",
    "# Forward pass\n",
    "u_test, i_pos_test, i_neg_test = model_test(batch_test_2)\n",
    "\n",
    "print(\"u.shape:\",     u_test.shape)      # -> [B, 64]\n",
    "print(\"i_pos.shape:\", i_pos_test.shape)  # -> [B, 64]\n",
    "print(\"i_neg.shape:\", i_neg_test.shape)  # -> [B, 64] Dla pojedynczego /  [B, k, 64] Dla wiecej negatywow\n"
   ],
   "id": "f60c8aa13dff5f9f",
   "outputs": [
    {
     "name": "stdout",
     "output_type": "stream",
     "text": [
      "u.shape: torch.Size([20, 64])\n",
      "i_pos.shape: torch.Size([20, 64])\n",
      "i_neg.shape: torch.Size([20, 64])\n"
     ]
    }
   ],
   "execution_count": 881
  },
  {
   "metadata": {},
   "cell_type": "markdown",
   "source": "# TRENOWANIE",
   "id": "50a228ce1b16c416"
  },
  {
   "metadata": {
    "ExecuteTime": {
     "end_time": "2025-07-07T17:57:23.999475Z",
     "start_time": "2025-07-07T17:57:23.993588Z"
    }
   },
   "cell_type": "code",
   "source": [
    "device = torch.device('cpu')\n",
    "if torch.cuda.is_available():\n",
    "    device = torch.device('cuda')\n",
    "elif torch.mps.is_available():\n",
    "    device = torch.device('mps')\n",
    "print('Device:', device)"
   ],
   "id": "fac99165a6d5f9fe",
   "outputs": [
    {
     "name": "stdout",
     "output_type": "stream",
     "text": [
      "Device: cuda\n"
     ]
    }
   ],
   "execution_count": 882
  },
  {
   "metadata": {
    "ExecuteTime": {
     "end_time": "2025-07-07T17:57:24.114616Z",
     "start_time": "2025-07-07T17:57:24.108743Z"
    }
   },
   "cell_type": "code",
   "source": [
    "def to_device(data, device):\n",
    "    if isinstance(data, dict):\n",
    "        return {k: to_device(v, device) for k, v in data.items()}\n",
    "    elif torch.is_tensor(data):\n",
    "        return data.to(device, non_blocking=True)\n",
    "    else:\n",
    "        return data"
   ],
   "id": "c5422a9452a72884",
   "outputs": [],
   "execution_count": 883
  },
  {
   "metadata": {
    "ExecuteTime": {
     "end_time": "2025-07-07T17:57:24.217645Z",
     "start_time": "2025-07-07T17:57:24.211742Z"
    }
   },
   "cell_type": "code",
   "source": [
    "'''\n",
    "Przygotowanie matrix-u do leave-one-out w celu 'score' do rankingu\n",
    "'''\n",
    "def compute_item_embeddings(model, movie_loader):\n",
    "    model.eval()\n",
    "    all_embs = []\n",
    "    with torch.no_grad():\n",
    "        for mb in movie_loader:\n",
    "            mb = to_device(mb, device)\n",
    "\n",
    "            embs = model.item_tower(mb, key='pos_item')  # [batch_size, D]\n",
    "            all_embs.append(embs)\n",
    "    return torch.cat(all_embs, dim=0).cpu().numpy()  # [n_movies, D]"
   ],
   "id": "5aeb0a392c307f84",
   "outputs": [],
   "execution_count": 884
  },
  {
   "metadata": {
    "ExecuteTime": {
     "end_time": "2025-07-07T17:57:24.320675Z",
     "start_time": "2025-07-07T17:57:24.315909Z"
    }
   },
   "cell_type": "code",
   "source": [
    "'''\n",
    "Definicja loss-u BPR (Bayesian Personalized Ranking)\n",
    "'''\n",
    "def bpr_loss(u, i_pos, i_neg):\n",
    "    pos = (u*i_pos).sum(1) # [B] score pozytywnych par\n",
    "    neg = (u*i_neg).sum(1)\n",
    "    return -torch.log(torch.sigmoid(pos-neg) + 1e-8).mean()"
   ],
   "id": "d94431e48e0833cf",
   "outputs": [],
   "execution_count": 885
  },
  {
   "metadata": {
    "ExecuteTime": {
     "end_time": "2025-07-07T17:57:24.423683Z",
     "start_time": "2025-07-07T17:57:24.418906Z"
    }
   },
   "cell_type": "code",
   "source": [
    "'''\n",
    "Trenowanie jednej epoki, dodano odpowiednie inputy tez do testow i ewentualnych zmian\n",
    "\n",
    "Obecnie:\n",
    "- model: TwoTowerModel\n",
    "- loader: DataLoader\n",
    "- optimizer: Adam\n",
    "- loss: bpr_loss\n",
    "'''\n",
    "def train_one_epoch(model, loader, optimizer):\n",
    "    model.train()\n",
    "    running_loss = 0.0\n",
    "\n",
    "    for raw in tqdm(train_loader, desc=f\" Epoch {epoch} batches\", leave=False):\n",
    "        batch = to_device(raw, device)\n",
    "        optimizer.zero_grad()\n",
    "\n",
    "        user_vec, pos_vec, neg_vec = model(batch) # forward do TwoTowerModel\n",
    "\n",
    "        loss = bpr_loss(user_vec, pos_vec, neg_vec)\n",
    "\n",
    "        loss.backward() # Backword i updatujemy parametry\n",
    "        optimizer.step()\n",
    "\n",
    "        running_loss += loss.item()\n",
    "\n",
    "    epoch_loss = running_loss/len(loader) # Do wyliczania sredniej straty w epoce\n",
    "    return epoch_loss"
   ],
   "id": "b576e809cc82d44",
   "outputs": [],
   "execution_count": 886
  },
  {
   "metadata": {
    "ExecuteTime": {
     "end_time": "2025-07-07T17:57:24.526693Z",
     "start_time": "2025-07-07T17:57:24.521978Z"
    }
   },
   "cell_type": "code",
   "source": [
    "'''\n",
    "Lekka ewaluacja majaca za zadanie pokazac czy model sie uczy, niz odpowiadac jak dobrze tworzy ranking\n",
    "'''\n",
    "def light_evaluate(model, loader):\n",
    "    model.eval()\n",
    "    aucs, paac = [], []\n",
    "\n",
    "    with torch.no_grad():\n",
    "        for raw in loader:\n",
    "            batch = to_device(raw, device)\n",
    "\n",
    "            user_vec, pos_vec, neg_vec = model(batch)\n",
    "\n",
    "            pos_score = (user_vec * pos_vec).sum(dim = -1) # [B]\n",
    "            neg_score = (user_vec * neg_vec).sum(dim = -1)\n",
    "\n",
    "            # ROC AUC\n",
    "            labels = torch.cat([torch.ones_like(pos_score), torch.zeros_like(neg_score)])\n",
    "            scores = torch.cat([pos_score, neg_score])\n",
    "            aucs.append(roc_auc_score(labels.cpu(), scores.cpu()))\n",
    "\n",
    "            # Pair-wise accuarcy\n",
    "            paac.append((pos_score > neg_score).float().mean().item())\n",
    "\n",
    "    return float(np.mean(aucs)), float(np.mean(paac))"
   ],
   "id": "a78eabf9db715de0",
   "outputs": [],
   "execution_count": 887
  },
  {
   "metadata": {
    "ExecuteTime": {
     "end_time": "2025-07-07T17:57:24.635826Z",
     "start_time": "2025-07-07T17:57:24.624867Z"
    }
   },
   "cell_type": "code",
   "source": [
    "'''\n",
    "Dokladniejsza ewaluacja majaca odpowiedziec jak model radzi sobie z rankingiem dla danych uzytkownikow\n",
    "'''\n",
    "def heavy_evaluate(model,user_loader,item_embs_np,\n",
    "                        train_pos_sets,test_pos,top_N):\n",
    "    model.eval()\n",
    "    user_embs = []\n",
    "\n",
    "    with torch.no_grad():\n",
    "        for raw in user_loader:\n",
    "            batch = to_device(raw, device)\n",
    "\n",
    "            u = model.user_tower(batch['user'])  # Skupiamy sie tylko na zebraniu embeddingow uzytkownika\n",
    "\n",
    "            user_embs.append(u.cpu().numpy())\n",
    "\n",
    "    user_embs = np.vstack(user_embs)    # [U-liczba uzytkownikow, D]\n",
    "\n",
    "    assert len(all_user_ids) == user_embs.shape[0]\n",
    "    recalls, mrrs = [], []\n",
    "\n",
    "    for idx, user_id in enumerate(all_user_ids):\n",
    "        vec = user_embs[idx]                # [D] wektor emb usera\n",
    "        scores = item_embs_np @ vec         # [I] wektory score, do oceny czy to dziala poprawnie ? 'iloczyny skalarne'\n",
    "\n",
    "        mask = np.zeros_like(scores, dtype=bool)\n",
    "        mask[list(train_pos_sets[user_id])] = True  # Tworzymy maske do odsiania filmow ktore user juz widzial\n",
    "        scores[mask] = -1e9\n",
    "\n",
    "        ranked = np.argsort(-scores)[:top_N]    # Ranking\n",
    "        true_set = test_pos[user_id]            # hold-out\n",
    "\n",
    "        # Recall@K\n",
    "        recalls.append(int(any(r in true_set for r in ranked)))\n",
    "\n",
    "        # MRR@K\n",
    "        rr = 0.0\n",
    "        for rank, idx in enumerate(ranked, 1):\n",
    "            if idx in true_set:\n",
    "                rr = 1.0/rank\n",
    "                break\n",
    "        mrrs.append(rr)\n",
    "\n",
    "    return float(np.mean(recalls)), float(np.mean(mrrs))"
   ],
   "id": "b2613e91fef2eb",
   "outputs": [],
   "execution_count": 888
  },
  {
   "metadata": {
    "ExecuteTime": {
     "end_time": "2025-07-07T18:22:23.660765Z",
     "start_time": "2025-07-07T17:57:24.746229Z"
    }
   },
   "cell_type": "code",
   "source": [
    "EPOCHS = 50\n",
    "TOP_N = 20\n",
    "\n",
    "model = (TwoTowerModel(stats_dim=25,\n",
    "                       n_items=n_items,\n",
    "                       vocab_sizes=(num_actors, num_directors, num_genres),\n",
    "                       dense_feat_dim=24,\n",
    "                       text_emb_dim=300,\n",
    "                       embedding_dim=EMB_DIM)\n",
    "         .to(device))\n",
    "optimizer = optim.Adam(model.parameters(), lr=1e-3, weight_decay=1e-5)\n",
    "scheduler = CosineAnnealingLR(optimizer, T_max=EPOCHS) # zmieniamy LR zgodnie z kosinusem (powinno stabilizowac trening)\n",
    "\n",
    "for epoch in trange(1, EPOCHS+1, desc=\"Epochs\"):\n",
    "\n",
    "    tr_loss = train_one_epoch(model, train_loader, optimizer) # Logika treningu\n",
    "\n",
    "    scheduler.step() # optymalizacja LR\n",
    "\n",
    "    print(f\"Epoch {epoch:2d} | train_loss={tr_loss:.4f}\")\n",
    "    if epoch % 2 == 0:\n",
    "\n",
    "        movie_matrix_np = compute_item_embeddings(model, movie_loader) # [n_movies, D] wyliczamy embeedingi filmow\n",
    "        D = movie_matrix_np.shape[1]\n",
    "\n",
    "        faiss_index = faiss.IndexFlatIP(D) # Nowy indeks pod FAISS\n",
    "        faiss_index.add(movie_matrix_np)\n",
    "\n",
    "        auc, pair_acc = light_evaluate(model, val_light_loader)\n",
    "        print(f\"LIGHT eval | val ROC-AUC={auc:.4f} | pair-acc={pair_acc:.4f}\")\n",
    "    if epoch % 5 == 0:\n",
    "        recall, mrr = heavy_evaluate(\n",
    "            model,\n",
    "            val_heavy_loader,               # loader zwracający tylko user embeddings\n",
    "            movie_matrix_np,                # matrix do score-a\n",
    "            train_pos_sets_val,\n",
    "            test_pos_val,\n",
    "            top_N=TOP_N\n",
    "        )\n",
    "        print(f\"HEAVY eval | @K={TOP_N}: Recall@{TOP_N}={recall:.4f}, MRR@{TOP_N}={mrr:.4f}\")"
   ],
   "id": "152d6588f3506906",
   "outputs": [
    {
     "data": {
      "text/plain": [
       "Epochs:   0%|          | 0/50 [00:00<?, ?it/s]"
      ],
      "application/vnd.jupyter.widget-view+json": {
       "version_major": 2,
       "version_minor": 0,
       "model_id": "dd4d9f6c640746e38ca543a25a834a71"
      }
     },
     "metadata": {},
     "output_type": "display_data"
    },
    {
     "data": {
      "text/plain": [
       " Epoch 1 batches:   0%|          | 0/16 [00:00<?, ?it/s]"
      ],
      "application/vnd.jupyter.widget-view+json": {
       "version_major": 2,
       "version_minor": 0,
       "model_id": "135e54b64cf44895898c7e377a8c7277"
      }
     },
     "metadata": {},
     "output_type": "display_data"
    },
    {
     "name": "stdout",
     "output_type": "stream",
     "text": [
      "Epoch  1 | train_loss=0.6674\n"
     ]
    },
    {
     "data": {
      "text/plain": [
       " Epoch 2 batches:   0%|          | 0/16 [00:00<?, ?it/s]"
      ],
      "application/vnd.jupyter.widget-view+json": {
       "version_major": 2,
       "version_minor": 0,
       "model_id": "fd9f2fa295934313b89596fc04648b0e"
      }
     },
     "metadata": {},
     "output_type": "display_data"
    },
    {
     "name": "stdout",
     "output_type": "stream",
     "text": [
      "Epoch  2 | train_loss=0.6334\n",
      "LIGHT eval | val ROC-AUC=0.6341 | pair-acc=0.6443\n"
     ]
    },
    {
     "data": {
      "text/plain": [
       " Epoch 3 batches:   0%|          | 0/16 [00:00<?, ?it/s]"
      ],
      "application/vnd.jupyter.widget-view+json": {
       "version_major": 2,
       "version_minor": 0,
       "model_id": "728a3aaa10a9486eb79f2a6868016e90"
      }
     },
     "metadata": {},
     "output_type": "display_data"
    },
    {
     "name": "stdout",
     "output_type": "stream",
     "text": [
      "Epoch  3 | train_loss=0.6218\n"
     ]
    },
    {
     "data": {
      "text/plain": [
       " Epoch 4 batches:   0%|          | 0/16 [00:00<?, ?it/s]"
      ],
      "application/vnd.jupyter.widget-view+json": {
       "version_major": 2,
       "version_minor": 0,
       "model_id": "17942fa365f34751a0be09587c1bbad5"
      }
     },
     "metadata": {},
     "output_type": "display_data"
    },
    {
     "name": "stdout",
     "output_type": "stream",
     "text": [
      "Epoch  4 | train_loss=0.6094\n",
      "LIGHT eval | val ROC-AUC=0.6549 | pair-acc=0.6713\n"
     ]
    },
    {
     "data": {
      "text/plain": [
       " Epoch 5 batches:   0%|          | 0/16 [00:00<?, ?it/s]"
      ],
      "application/vnd.jupyter.widget-view+json": {
       "version_major": 2,
       "version_minor": 0,
       "model_id": "7e5cdfcb3dc94f35ba0f84f9f4a256f6"
      }
     },
     "metadata": {},
     "output_type": "display_data"
    },
    {
     "name": "stdout",
     "output_type": "stream",
     "text": [
      "Epoch  5 | train_loss=0.6128\n",
      "HEAVY eval | @K=20: Recall@20=0.0107, MRR@20=0.0027\n"
     ]
    },
    {
     "data": {
      "text/plain": [
       " Epoch 6 batches:   0%|          | 0/16 [00:00<?, ?it/s]"
      ],
      "application/vnd.jupyter.widget-view+json": {
       "version_major": 2,
       "version_minor": 0,
       "model_id": "b72edc8e22f34d3a92e295f712b2a4e6"
      }
     },
     "metadata": {},
     "output_type": "display_data"
    },
    {
     "name": "stdout",
     "output_type": "stream",
     "text": [
      "Epoch  6 | train_loss=0.6045\n",
      "LIGHT eval | val ROC-AUC=0.6578 | pair-acc=0.6808\n"
     ]
    },
    {
     "data": {
      "text/plain": [
       " Epoch 7 batches:   0%|          | 0/16 [00:00<?, ?it/s]"
      ],
      "application/vnd.jupyter.widget-view+json": {
       "version_major": 2,
       "version_minor": 0,
       "model_id": "2e0aff446f844d48a7bcb5cfe8cd7810"
      }
     },
     "metadata": {},
     "output_type": "display_data"
    },
    {
     "name": "stdout",
     "output_type": "stream",
     "text": [
      "Epoch  7 | train_loss=0.6005\n"
     ]
    },
    {
     "data": {
      "text/plain": [
       " Epoch 8 batches:   0%|          | 0/16 [00:00<?, ?it/s]"
      ],
      "application/vnd.jupyter.widget-view+json": {
       "version_major": 2,
       "version_minor": 0,
       "model_id": "533419bb0cb6486991ac14fa83359b83"
      }
     },
     "metadata": {},
     "output_type": "display_data"
    },
    {
     "name": "stdout",
     "output_type": "stream",
     "text": [
      "Epoch  8 | train_loss=0.5975\n",
      "LIGHT eval | val ROC-AUC=0.6636 | pair-acc=0.6846\n"
     ]
    },
    {
     "data": {
      "text/plain": [
       " Epoch 9 batches:   0%|          | 0/16 [00:00<?, ?it/s]"
      ],
      "application/vnd.jupyter.widget-view+json": {
       "version_major": 2,
       "version_minor": 0,
       "model_id": "c746a59ffe194d17b6c2ec397ef86a69"
      }
     },
     "metadata": {},
     "output_type": "display_data"
    },
    {
     "name": "stdout",
     "output_type": "stream",
     "text": [
      "Epoch  9 | train_loss=0.5934\n"
     ]
    },
    {
     "data": {
      "text/plain": [
       " Epoch 10 batches:   0%|          | 0/16 [00:00<?, ?it/s]"
      ],
      "application/vnd.jupyter.widget-view+json": {
       "version_major": 2,
       "version_minor": 0,
       "model_id": "ae26ac64cad14879b204f449fe86ba5c"
      }
     },
     "metadata": {},
     "output_type": "display_data"
    },
    {
     "name": "stdout",
     "output_type": "stream",
     "text": [
      "Epoch 10 | train_loss=0.5914\n",
      "LIGHT eval | val ROC-AUC=0.6626 | pair-acc=0.6863\n",
      "HEAVY eval | @K=20: Recall@20=0.0200, MRR@20=0.0048\n"
     ]
    },
    {
     "data": {
      "text/plain": [
       " Epoch 11 batches:   0%|          | 0/16 [00:00<?, ?it/s]"
      ],
      "application/vnd.jupyter.widget-view+json": {
       "version_major": 2,
       "version_minor": 0,
       "model_id": "26640b09c6994acf891ff4f8c1ddef3a"
      }
     },
     "metadata": {},
     "output_type": "display_data"
    },
    {
     "name": "stdout",
     "output_type": "stream",
     "text": [
      "Epoch 11 | train_loss=0.5916\n"
     ]
    },
    {
     "data": {
      "text/plain": [
       " Epoch 12 batches:   0%|          | 0/16 [00:00<?, ?it/s]"
      ],
      "application/vnd.jupyter.widget-view+json": {
       "version_major": 2,
       "version_minor": 0,
       "model_id": "cb55e758704543d28e0c2d6ecb9c9e17"
      }
     },
     "metadata": {},
     "output_type": "display_data"
    },
    {
     "name": "stdout",
     "output_type": "stream",
     "text": [
      "Epoch 12 | train_loss=0.5901\n",
      "LIGHT eval | val ROC-AUC=0.6657 | pair-acc=0.6825\n"
     ]
    },
    {
     "data": {
      "text/plain": [
       " Epoch 13 batches:   0%|          | 0/16 [00:00<?, ?it/s]"
      ],
      "application/vnd.jupyter.widget-view+json": {
       "version_major": 2,
       "version_minor": 0,
       "model_id": "a52fc57f5e8349d183f70f412ec1fdc3"
      }
     },
     "metadata": {},
     "output_type": "display_data"
    },
    {
     "name": "stdout",
     "output_type": "stream",
     "text": [
      "Epoch 13 | train_loss=0.5918\n"
     ]
    },
    {
     "data": {
      "text/plain": [
       " Epoch 14 batches:   0%|          | 0/16 [00:00<?, ?it/s]"
      ],
      "application/vnd.jupyter.widget-view+json": {
       "version_major": 2,
       "version_minor": 0,
       "model_id": "740eae9f5d204b53b12b3002c7a7f0b9"
      }
     },
     "metadata": {},
     "output_type": "display_data"
    },
    {
     "name": "stdout",
     "output_type": "stream",
     "text": [
      "Epoch 14 | train_loss=0.5904\n",
      "LIGHT eval | val ROC-AUC=0.6684 | pair-acc=0.6849\n"
     ]
    },
    {
     "data": {
      "text/plain": [
       " Epoch 15 batches:   0%|          | 0/16 [00:00<?, ?it/s]"
      ],
      "application/vnd.jupyter.widget-view+json": {
       "version_major": 2,
       "version_minor": 0,
       "model_id": "e7e2aeaaa9a74e2d8e6d1fe574fe2e18"
      }
     },
     "metadata": {},
     "output_type": "display_data"
    },
    {
     "name": "stdout",
     "output_type": "stream",
     "text": [
      "Epoch 15 | train_loss=0.5861\n",
      "HEAVY eval | @K=20: Recall@20=0.0112, MRR@20=0.0021\n"
     ]
    },
    {
     "data": {
      "text/plain": [
       " Epoch 16 batches:   0%|          | 0/16 [00:00<?, ?it/s]"
      ],
      "application/vnd.jupyter.widget-view+json": {
       "version_major": 2,
       "version_minor": 0,
       "model_id": "bb82b8faeccc4ea0bbc0288b8f900f92"
      }
     },
     "metadata": {},
     "output_type": "display_data"
    },
    {
     "name": "stdout",
     "output_type": "stream",
     "text": [
      "Epoch 16 | train_loss=0.5828\n",
      "LIGHT eval | val ROC-AUC=0.6708 | pair-acc=0.6904\n"
     ]
    },
    {
     "data": {
      "text/plain": [
       " Epoch 17 batches:   0%|          | 0/16 [00:00<?, ?it/s]"
      ],
      "application/vnd.jupyter.widget-view+json": {
       "version_major": 2,
       "version_minor": 0,
       "model_id": "a92c161c297e4b8ab94246ac51123468"
      }
     },
     "metadata": {},
     "output_type": "display_data"
    },
    {
     "name": "stdout",
     "output_type": "stream",
     "text": [
      "Epoch 17 | train_loss=0.5866\n"
     ]
    },
    {
     "data": {
      "text/plain": [
       " Epoch 18 batches:   0%|          | 0/16 [00:00<?, ?it/s]"
      ],
      "application/vnd.jupyter.widget-view+json": {
       "version_major": 2,
       "version_minor": 0,
       "model_id": "37af54f6ec244bc7810a62bdebe86ed5"
      }
     },
     "metadata": {},
     "output_type": "display_data"
    },
    {
     "name": "stdout",
     "output_type": "stream",
     "text": [
      "Epoch 18 | train_loss=0.5826\n",
      "LIGHT eval | val ROC-AUC=0.6765 | pair-acc=0.6950\n"
     ]
    },
    {
     "data": {
      "text/plain": [
       " Epoch 19 batches:   0%|          | 0/16 [00:00<?, ?it/s]"
      ],
      "application/vnd.jupyter.widget-view+json": {
       "version_major": 2,
       "version_minor": 0,
       "model_id": "fe5c3281935348898fdbc4c80ac23104"
      }
     },
     "metadata": {},
     "output_type": "display_data"
    },
    {
     "name": "stdout",
     "output_type": "stream",
     "text": [
      "Epoch 19 | train_loss=0.5831\n"
     ]
    },
    {
     "data": {
      "text/plain": [
       " Epoch 20 batches:   0%|          | 0/16 [00:00<?, ?it/s]"
      ],
      "application/vnd.jupyter.widget-view+json": {
       "version_major": 2,
       "version_minor": 0,
       "model_id": "5e05f25f6f534e78bf62c14b2cc37596"
      }
     },
     "metadata": {},
     "output_type": "display_data"
    },
    {
     "name": "stdout",
     "output_type": "stream",
     "text": [
      "Epoch 20 | train_loss=0.5821\n",
      "LIGHT eval | val ROC-AUC=0.6737 | pair-acc=0.6945\n",
      "HEAVY eval | @K=20: Recall@20=0.0127, MRR@20=0.0021\n"
     ]
    },
    {
     "data": {
      "text/plain": [
       " Epoch 21 batches:   0%|          | 0/16 [00:00<?, ?it/s]"
      ],
      "application/vnd.jupyter.widget-view+json": {
       "version_major": 2,
       "version_minor": 0,
       "model_id": "216e5f95983a4ca597ef4b31ad8fe4fd"
      }
     },
     "metadata": {},
     "output_type": "display_data"
    },
    {
     "name": "stdout",
     "output_type": "stream",
     "text": [
      "Epoch 21 | train_loss=0.5855\n"
     ]
    },
    {
     "data": {
      "text/plain": [
       " Epoch 22 batches:   0%|          | 0/16 [00:00<?, ?it/s]"
      ],
      "application/vnd.jupyter.widget-view+json": {
       "version_major": 2,
       "version_minor": 0,
       "model_id": "69e0e7d9264c4ff99c41f59286f4f421"
      }
     },
     "metadata": {},
     "output_type": "display_data"
    },
    {
     "name": "stdout",
     "output_type": "stream",
     "text": [
      "Epoch 22 | train_loss=0.5797\n",
      "LIGHT eval | val ROC-AUC=0.6697 | pair-acc=0.6892\n"
     ]
    },
    {
     "data": {
      "text/plain": [
       " Epoch 23 batches:   0%|          | 0/16 [00:00<?, ?it/s]"
      ],
      "application/vnd.jupyter.widget-view+json": {
       "version_major": 2,
       "version_minor": 0,
       "model_id": "d9b4ae92a7aa4566a61662a76c0998a1"
      }
     },
     "metadata": {},
     "output_type": "display_data"
    },
    {
     "name": "stdout",
     "output_type": "stream",
     "text": [
      "Epoch 23 | train_loss=0.5795\n"
     ]
    },
    {
     "data": {
      "text/plain": [
       " Epoch 24 batches:   0%|          | 0/16 [00:00<?, ?it/s]"
      ],
      "application/vnd.jupyter.widget-view+json": {
       "version_major": 2,
       "version_minor": 0,
       "model_id": "170565db34c84b148be032a01e989ae5"
      }
     },
     "metadata": {},
     "output_type": "display_data"
    },
    {
     "name": "stdout",
     "output_type": "stream",
     "text": [
      "Epoch 24 | train_loss=0.5788\n",
      "LIGHT eval | val ROC-AUC=0.6785 | pair-acc=0.6973\n"
     ]
    },
    {
     "data": {
      "text/plain": [
       " Epoch 25 batches:   0%|          | 0/16 [00:00<?, ?it/s]"
      ],
      "application/vnd.jupyter.widget-view+json": {
       "version_major": 2,
       "version_minor": 0,
       "model_id": "d9d3a70ddbc44e7f8c3dc56e61fa26ed"
      }
     },
     "metadata": {},
     "output_type": "display_data"
    },
    {
     "ename": "KeyboardInterrupt",
     "evalue": "",
     "output_type": "error",
     "traceback": [
      "\u001B[1;31m---------------------------------------------------------------------------\u001B[0m",
      "\u001B[1;31mKeyboardInterrupt\u001B[0m                         Traceback (most recent call last)",
      "Cell \u001B[1;32mIn[889], line 16\u001B[0m\n\u001B[0;32m     12\u001B[0m scheduler \u001B[38;5;241m=\u001B[39m CosineAnnealingLR(optimizer, T_max\u001B[38;5;241m=\u001B[39mEPOCHS) \u001B[38;5;66;03m# zmieniamy LR zgodnie z kosinusem (powinno stabilizowac trening)\u001B[39;00m\n\u001B[0;32m     14\u001B[0m \u001B[38;5;28;01mfor\u001B[39;00m epoch \u001B[38;5;129;01min\u001B[39;00m trange(\u001B[38;5;241m1\u001B[39m, EPOCHS\u001B[38;5;241m+\u001B[39m\u001B[38;5;241m1\u001B[39m, desc\u001B[38;5;241m=\u001B[39m\u001B[38;5;124m\"\u001B[39m\u001B[38;5;124mEpochs\u001B[39m\u001B[38;5;124m\"\u001B[39m):\n\u001B[1;32m---> 16\u001B[0m     tr_loss \u001B[38;5;241m=\u001B[39m \u001B[43mtrain_one_epoch\u001B[49m\u001B[43m(\u001B[49m\u001B[43mmodel\u001B[49m\u001B[43m,\u001B[49m\u001B[43m \u001B[49m\u001B[43mtrain_loader\u001B[49m\u001B[43m,\u001B[49m\u001B[43m \u001B[49m\u001B[43moptimizer\u001B[49m\u001B[43m)\u001B[49m \u001B[38;5;66;03m# Logika treningu\u001B[39;00m\n\u001B[0;32m     18\u001B[0m     scheduler\u001B[38;5;241m.\u001B[39mstep() \u001B[38;5;66;03m# optymalizacja LR\u001B[39;00m\n\u001B[0;32m     20\u001B[0m     \u001B[38;5;28mprint\u001B[39m(\u001B[38;5;124mf\u001B[39m\u001B[38;5;124m\"\u001B[39m\u001B[38;5;124mEpoch \u001B[39m\u001B[38;5;132;01m{\u001B[39;00mepoch\u001B[38;5;132;01m:\u001B[39;00m\u001B[38;5;124m2d\u001B[39m\u001B[38;5;132;01m}\u001B[39;00m\u001B[38;5;124m | train_loss=\u001B[39m\u001B[38;5;132;01m{\u001B[39;00mtr_loss\u001B[38;5;132;01m:\u001B[39;00m\u001B[38;5;124m.4f\u001B[39m\u001B[38;5;132;01m}\u001B[39;00m\u001B[38;5;124m\"\u001B[39m)\n",
      "Cell \u001B[1;32mIn[886], line 14\u001B[0m, in \u001B[0;36mtrain_one_epoch\u001B[1;34m(model, loader, optimizer)\u001B[0m\n\u001B[0;32m     11\u001B[0m model\u001B[38;5;241m.\u001B[39mtrain()\n\u001B[0;32m     12\u001B[0m running_loss \u001B[38;5;241m=\u001B[39m \u001B[38;5;241m0.0\u001B[39m\n\u001B[1;32m---> 14\u001B[0m \u001B[38;5;28;01mfor\u001B[39;00m raw \u001B[38;5;129;01min\u001B[39;00m tqdm(train_loader, desc\u001B[38;5;241m=\u001B[39m\u001B[38;5;124mf\u001B[39m\u001B[38;5;124m\"\u001B[39m\u001B[38;5;124m Epoch \u001B[39m\u001B[38;5;132;01m{\u001B[39;00mepoch\u001B[38;5;132;01m}\u001B[39;00m\u001B[38;5;124m batches\u001B[39m\u001B[38;5;124m\"\u001B[39m, leave\u001B[38;5;241m=\u001B[39m\u001B[38;5;28;01mFalse\u001B[39;00m):\n\u001B[0;32m     15\u001B[0m     batch \u001B[38;5;241m=\u001B[39m to_device(raw, device)\n\u001B[0;32m     16\u001B[0m     optimizer\u001B[38;5;241m.\u001B[39mzero_grad()\n",
      "File \u001B[1;32m~\\Documents\\GitHub\\movie-recommendation-system\\.venv\\lib\\site-packages\\tqdm\\notebook.py:250\u001B[0m, in \u001B[0;36mtqdm_notebook.__iter__\u001B[1;34m(self)\u001B[0m\n\u001B[0;32m    248\u001B[0m \u001B[38;5;28;01mtry\u001B[39;00m:\n\u001B[0;32m    249\u001B[0m     it \u001B[38;5;241m=\u001B[39m \u001B[38;5;28msuper\u001B[39m()\u001B[38;5;241m.\u001B[39m\u001B[38;5;21m__iter__\u001B[39m()\n\u001B[1;32m--> 250\u001B[0m     \u001B[38;5;28;01mfor\u001B[39;00m obj \u001B[38;5;129;01min\u001B[39;00m it:\n\u001B[0;32m    251\u001B[0m         \u001B[38;5;66;03m# return super(tqdm...) will not catch exception\u001B[39;00m\n\u001B[0;32m    252\u001B[0m         \u001B[38;5;28;01myield\u001B[39;00m obj\n\u001B[0;32m    253\u001B[0m \u001B[38;5;66;03m# NB: except ... [ as ...] breaks IPython async KeyboardInterrupt\u001B[39;00m\n",
      "File \u001B[1;32m~\\Documents\\GitHub\\movie-recommendation-system\\.venv\\lib\\site-packages\\tqdm\\std.py:1181\u001B[0m, in \u001B[0;36mtqdm.__iter__\u001B[1;34m(self)\u001B[0m\n\u001B[0;32m   1178\u001B[0m time \u001B[38;5;241m=\u001B[39m \u001B[38;5;28mself\u001B[39m\u001B[38;5;241m.\u001B[39m_time\n\u001B[0;32m   1180\u001B[0m \u001B[38;5;28;01mtry\u001B[39;00m:\n\u001B[1;32m-> 1181\u001B[0m     \u001B[38;5;28;01mfor\u001B[39;00m obj \u001B[38;5;129;01min\u001B[39;00m iterable:\n\u001B[0;32m   1182\u001B[0m         \u001B[38;5;28;01myield\u001B[39;00m obj\n\u001B[0;32m   1183\u001B[0m         \u001B[38;5;66;03m# Update and possibly print the progressbar.\u001B[39;00m\n\u001B[0;32m   1184\u001B[0m         \u001B[38;5;66;03m# Note: does not call self.update(1) for speed optimisation.\u001B[39;00m\n",
      "File \u001B[1;32m~\\Documents\\GitHub\\movie-recommendation-system\\.venv\\lib\\site-packages\\torch\\utils\\data\\dataloader.py:701\u001B[0m, in \u001B[0;36m_BaseDataLoaderIter.__next__\u001B[1;34m(self)\u001B[0m\n\u001B[0;32m    698\u001B[0m \u001B[38;5;28;01mif\u001B[39;00m \u001B[38;5;28mself\u001B[39m\u001B[38;5;241m.\u001B[39m_sampler_iter \u001B[38;5;129;01mis\u001B[39;00m \u001B[38;5;28;01mNone\u001B[39;00m:\n\u001B[0;32m    699\u001B[0m     \u001B[38;5;66;03m# TODO(https://github.com/pytorch/pytorch/issues/76750)\u001B[39;00m\n\u001B[0;32m    700\u001B[0m     \u001B[38;5;28mself\u001B[39m\u001B[38;5;241m.\u001B[39m_reset()  \u001B[38;5;66;03m# type: ignore[call-arg]\u001B[39;00m\n\u001B[1;32m--> 701\u001B[0m data \u001B[38;5;241m=\u001B[39m \u001B[38;5;28;43mself\u001B[39;49m\u001B[38;5;241;43m.\u001B[39;49m\u001B[43m_next_data\u001B[49m\u001B[43m(\u001B[49m\u001B[43m)\u001B[49m\n\u001B[0;32m    702\u001B[0m \u001B[38;5;28mself\u001B[39m\u001B[38;5;241m.\u001B[39m_num_yielded \u001B[38;5;241m+\u001B[39m\u001B[38;5;241m=\u001B[39m \u001B[38;5;241m1\u001B[39m\n\u001B[0;32m    703\u001B[0m \u001B[38;5;28;01mif\u001B[39;00m (\n\u001B[0;32m    704\u001B[0m     \u001B[38;5;28mself\u001B[39m\u001B[38;5;241m.\u001B[39m_dataset_kind \u001B[38;5;241m==\u001B[39m _DatasetKind\u001B[38;5;241m.\u001B[39mIterable\n\u001B[0;32m    705\u001B[0m     \u001B[38;5;129;01mand\u001B[39;00m \u001B[38;5;28mself\u001B[39m\u001B[38;5;241m.\u001B[39m_IterableDataset_len_called \u001B[38;5;129;01mis\u001B[39;00m \u001B[38;5;129;01mnot\u001B[39;00m \u001B[38;5;28;01mNone\u001B[39;00m\n\u001B[0;32m    706\u001B[0m     \u001B[38;5;129;01mand\u001B[39;00m \u001B[38;5;28mself\u001B[39m\u001B[38;5;241m.\u001B[39m_num_yielded \u001B[38;5;241m>\u001B[39m \u001B[38;5;28mself\u001B[39m\u001B[38;5;241m.\u001B[39m_IterableDataset_len_called\n\u001B[0;32m    707\u001B[0m ):\n",
      "File \u001B[1;32m~\\Documents\\GitHub\\movie-recommendation-system\\.venv\\lib\\site-packages\\torch\\utils\\data\\dataloader.py:757\u001B[0m, in \u001B[0;36m_SingleProcessDataLoaderIter._next_data\u001B[1;34m(self)\u001B[0m\n\u001B[0;32m    755\u001B[0m \u001B[38;5;28;01mdef\u001B[39;00m\u001B[38;5;250m \u001B[39m\u001B[38;5;21m_next_data\u001B[39m(\u001B[38;5;28mself\u001B[39m):\n\u001B[0;32m    756\u001B[0m     index \u001B[38;5;241m=\u001B[39m \u001B[38;5;28mself\u001B[39m\u001B[38;5;241m.\u001B[39m_next_index()  \u001B[38;5;66;03m# may raise StopIteration\u001B[39;00m\n\u001B[1;32m--> 757\u001B[0m     data \u001B[38;5;241m=\u001B[39m \u001B[38;5;28;43mself\u001B[39;49m\u001B[38;5;241;43m.\u001B[39;49m\u001B[43m_dataset_fetcher\u001B[49m\u001B[38;5;241;43m.\u001B[39;49m\u001B[43mfetch\u001B[49m\u001B[43m(\u001B[49m\u001B[43mindex\u001B[49m\u001B[43m)\u001B[49m  \u001B[38;5;66;03m# may raise StopIteration\u001B[39;00m\n\u001B[0;32m    758\u001B[0m     \u001B[38;5;28;01mif\u001B[39;00m \u001B[38;5;28mself\u001B[39m\u001B[38;5;241m.\u001B[39m_pin_memory:\n\u001B[0;32m    759\u001B[0m         data \u001B[38;5;241m=\u001B[39m _utils\u001B[38;5;241m.\u001B[39mpin_memory\u001B[38;5;241m.\u001B[39mpin_memory(data, \u001B[38;5;28mself\u001B[39m\u001B[38;5;241m.\u001B[39m_pin_memory_device)\n",
      "File \u001B[1;32m~\\Documents\\GitHub\\movie-recommendation-system\\.venv\\lib\\site-packages\\torch\\utils\\data\\_utils\\fetch.py:52\u001B[0m, in \u001B[0;36m_MapDatasetFetcher.fetch\u001B[1;34m(self, possibly_batched_index)\u001B[0m\n\u001B[0;32m     50\u001B[0m         data \u001B[38;5;241m=\u001B[39m \u001B[38;5;28mself\u001B[39m\u001B[38;5;241m.\u001B[39mdataset\u001B[38;5;241m.\u001B[39m__getitems__(possibly_batched_index)\n\u001B[0;32m     51\u001B[0m     \u001B[38;5;28;01melse\u001B[39;00m:\n\u001B[1;32m---> 52\u001B[0m         data \u001B[38;5;241m=\u001B[39m [\u001B[38;5;28mself\u001B[39m\u001B[38;5;241m.\u001B[39mdataset[idx] \u001B[38;5;28;01mfor\u001B[39;00m idx \u001B[38;5;129;01min\u001B[39;00m possibly_batched_index]\n\u001B[0;32m     53\u001B[0m \u001B[38;5;28;01melse\u001B[39;00m:\n\u001B[0;32m     54\u001B[0m     data \u001B[38;5;241m=\u001B[39m \u001B[38;5;28mself\u001B[39m\u001B[38;5;241m.\u001B[39mdataset[possibly_batched_index]\n",
      "File \u001B[1;32m~\\Documents\\GitHub\\movie-recommendation-system\\.venv\\lib\\site-packages\\torch\\utils\\data\\_utils\\fetch.py:52\u001B[0m, in \u001B[0;36m<listcomp>\u001B[1;34m(.0)\u001B[0m\n\u001B[0;32m     50\u001B[0m         data \u001B[38;5;241m=\u001B[39m \u001B[38;5;28mself\u001B[39m\u001B[38;5;241m.\u001B[39mdataset\u001B[38;5;241m.\u001B[39m__getitems__(possibly_batched_index)\n\u001B[0;32m     51\u001B[0m     \u001B[38;5;28;01melse\u001B[39;00m:\n\u001B[1;32m---> 52\u001B[0m         data \u001B[38;5;241m=\u001B[39m [\u001B[38;5;28;43mself\u001B[39;49m\u001B[38;5;241;43m.\u001B[39;49m\u001B[43mdataset\u001B[49m\u001B[43m[\u001B[49m\u001B[43midx\u001B[49m\u001B[43m]\u001B[49m \u001B[38;5;28;01mfor\u001B[39;00m idx \u001B[38;5;129;01min\u001B[39;00m possibly_batched_index]\n\u001B[0;32m     53\u001B[0m \u001B[38;5;28;01melse\u001B[39;00m:\n\u001B[0;32m     54\u001B[0m     data \u001B[38;5;241m=\u001B[39m \u001B[38;5;28mself\u001B[39m\u001B[38;5;241m.\u001B[39mdataset[possibly_batched_index]\n",
      "Cell \u001B[1;32mIn[867], line 45\u001B[0m, in \u001B[0;36mTwoTowerDataset.__getitem__\u001B[1;34m(self, idx)\u001B[0m\n\u001B[0;32m     43\u001B[0m \u001B[38;5;28;01mfor\u001B[39;00m nid \u001B[38;5;129;01min\u001B[39;00m neg_ids:\n\u001B[0;32m     44\u001B[0m     m_neg \u001B[38;5;241m=\u001B[39m \u001B[38;5;28mself\u001B[39m\u001B[38;5;241m.\u001B[39mdf_movies\u001B[38;5;241m.\u001B[39mloc[nid]\n\u001B[1;32m---> 45\u001B[0m     nf, nt, na, nd, ng \u001B[38;5;241m=\u001B[39m \u001B[43mcollect_movie_features\u001B[49m\u001B[43m(\u001B[49m\u001B[43mm_neg\u001B[49m\u001B[43m,\u001B[49m\u001B[43m \u001B[49m\u001B[43mmax_len_a\u001B[49m\u001B[43m,\u001B[49m\u001B[43m \u001B[49m\u001B[43mmax_len_d\u001B[49m\u001B[43m,\u001B[49m\u001B[43m \u001B[49m\u001B[43mmax_len_g\u001B[49m\u001B[43m)\u001B[49m\n\u001B[0;32m     46\u001B[0m     neg_feats_list\u001B[38;5;241m.\u001B[39mappend(nf)\n\u001B[0;32m     47\u001B[0m     neg_text_list\u001B[38;5;241m.\u001B[39mappend(nt)\n",
      "Cell \u001B[1;32mIn[860], line 24\u001B[0m, in \u001B[0;36mcollect_movie_features\u001B[1;34m(m, max_len_a, max_len_d, max_len_g)\u001B[0m\n\u001B[0;32m     19\u001B[0m decades \u001B[38;5;241m=\u001B[39m (m[[c \u001B[38;5;28;01mfor\u001B[39;00m c \u001B[38;5;129;01min\u001B[39;00m m\u001B[38;5;241m.\u001B[39mindex \u001B[38;5;28;01mif\u001B[39;00m c\u001B[38;5;241m.\u001B[39mstartswith(\u001B[38;5;124m'\u001B[39m\u001B[38;5;124mdecade_\u001B[39m\u001B[38;5;124m'\u001B[39m)]]\n\u001B[0;32m     20\u001B[0m            \u001B[38;5;241m.\u001B[39mastype(\u001B[38;5;28mint\u001B[39m)\n\u001B[0;32m     21\u001B[0m            \u001B[38;5;241m.\u001B[39mtolist())\n\u001B[0;32m     23\u001B[0m dense_feats \u001B[38;5;241m=\u001B[39m torch\u001B[38;5;241m.\u001B[39mtensor(numeric \u001B[38;5;241m+\u001B[39m binary \u001B[38;5;241m+\u001B[39m decades, dtype\u001B[38;5;241m=\u001B[39mtorch\u001B[38;5;241m.\u001B[39mfloat32)\n\u001B[1;32m---> 24\u001B[0m text_emb \u001B[38;5;241m=\u001B[39m \u001B[43mtorch\u001B[49m\u001B[38;5;241;43m.\u001B[39;49m\u001B[43mtensor\u001B[49m\u001B[43m(\u001B[49m\u001B[43mm\u001B[49m\u001B[38;5;241;43m.\u001B[39;49m\u001B[43mtext_embedded\u001B[49m\u001B[43m,\u001B[49m\u001B[43m \u001B[49m\u001B[43mdtype\u001B[49m\u001B[38;5;241;43m=\u001B[39;49m\u001B[43mtorch\u001B[49m\u001B[38;5;241;43m.\u001B[39;49m\u001B[43mfloat32\u001B[49m\u001B[43m)\u001B[49m\n\u001B[0;32m     26\u001B[0m \u001B[38;5;28;01mdef\u001B[39;00m\u001B[38;5;250m \u001B[39m\u001B[38;5;21mpad\u001B[39m(seq, L):\n\u001B[0;32m     27\u001B[0m     seq_list \u001B[38;5;241m=\u001B[39m \u001B[38;5;28mlist\u001B[39m(seq) \u001B[38;5;28;01mif\u001B[39;00m \u001B[38;5;129;01mnot\u001B[39;00m \u001B[38;5;28misinstance\u001B[39m(seq, \u001B[38;5;28mlist\u001B[39m) \u001B[38;5;28;01melse\u001B[39;00m seq\n",
      "\u001B[1;31mKeyboardInterrupt\u001B[0m: "
     ]
    }
   ],
   "execution_count": 889
  }
 ],
 "metadata": {
  "language_info": {
   "name": "python"
  }
 },
 "nbformat": 4,
 "nbformat_minor": 5
}
