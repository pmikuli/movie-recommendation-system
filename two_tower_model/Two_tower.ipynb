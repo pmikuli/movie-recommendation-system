{
 "cells": [
  {
   "cell_type": "code",
   "id": "a2f637b3",
   "metadata": {
    "ExecuteTime": {
     "end_time": "2025-07-08T20:58:30.099885Z",
     "start_time": "2025-07-08T20:58:30.086867Z"
    }
   },
   "source": [
    "import torch.nn as nn\n",
    "import torch\n",
    "import torch.nn.functional as F\n",
    "import torch.optim as optim\n",
    "from torch.optim.lr_scheduler import CosineAnnealingLR\n",
    "from torch.utils.data import TensorDataset\n",
    "\n",
    "from torch.utils.data import Dataset, DataLoader\n",
    "\n",
    "import pandas as pd\n",
    "import numpy as np\n",
    "\n",
    "from datetime import datetime\n",
    "from tqdm import tqdm\n",
    "\n",
    "import random\n",
    "from pathlib import Path\n",
    "\n",
    "from sklearn.model_selection import train_test_split\n",
    "from itertools import chain\n",
    "\n",
    "from sklearn.metrics import roc_auc_score\n",
    "from tqdm.auto import tqdm, trange"
   ],
   "outputs": [],
   "execution_count": 496
  },
  {
   "cell_type": "code",
   "id": "d42b9ecd",
   "metadata": {
    "ExecuteTime": {
     "end_time": "2025-07-08T20:58:30.290625Z",
     "start_time": "2025-07-08T20:58:30.275103Z"
    }
   },
   "source": [
    "import os\n",
    "os.environ['CUDA_LAUNCH_BLOCKING'] = '1' # Tylko do debugging\n",
    "\n",
    "print(\"CUDA available:\", torch.cuda.is_available())\n",
    "print(\"Number of GPUs:\", torch.cuda.device_count())\n",
    "print(\"Current device:\", torch.cuda.current_device(), torch.cuda.get_device_name(0))"
   ],
   "outputs": [
    {
     "name": "stdout",
     "output_type": "stream",
     "text": [
      "CUDA available: True\n",
      "Number of GPUs: 1\n",
      "Current device: 0 NVIDIA GeForce RTX 3060 Ti\n"
     ]
    }
   ],
   "execution_count": 497
  },
  {
   "cell_type": "code",
   "id": "3a13e1d5",
   "metadata": {
    "ExecuteTime": {
     "end_time": "2025-07-08T20:58:32.148993Z",
     "start_time": "2025-07-08T20:58:30.512691Z"
    }
   },
   "source": [
    "BASE_DIR = Path(os.getcwd()).parent\n",
    "DATA_DIR = BASE_DIR / \"data\"\n",
    "df_users = pd.read_parquet(DATA_DIR / 'user_features_clean.parquet')\n",
    "df_movies = pd.read_parquet(DATA_DIR / 'Movies_clean_Vec_v4_25keywords.parquet')\n",
    "df_ratings = pd.read_parquet(DATA_DIR / 'ratings_groupped_ids.parquet')"
   ],
   "outputs": [],
   "execution_count": 498
  },
  {
   "cell_type": "code",
   "id": "ed8687c1986623ba",
   "metadata": {
    "ExecuteTime": {
     "end_time": "2025-07-08T20:58:32.336788Z",
     "start_time": "2025-07-08T20:58:32.290692Z"
    }
   },
   "source": [
    "df_movies.info()\n",
    "df_ratings.info()\n",
    "df_users.info()"
   ],
   "outputs": [
    {
     "name": "stdout",
     "output_type": "stream",
     "text": [
      "<class 'pandas.core.frame.DataFrame'>\n",
      "RangeIndex: 82918 entries, 0 to 82917\n",
      "Data columns (total 29 columns):\n",
      " #   Column               Non-Null Count  Dtype  \n",
      "---  ------               --------------  -----  \n",
      " 0   movieId              82918 non-null  int64  \n",
      " 1   runtime              82918 non-null  float64\n",
      " 2   if_blockbuster       82918 non-null  int32  \n",
      " 3   highly_watched       82918 non-null  int32  \n",
      " 4   highly_rated         82918 non-null  int64  \n",
      " 5   engagement_score     82918 non-null  float64\n",
      " 6   cast_importance      82918 non-null  float64\n",
      " 7   director_score       82918 non-null  float64\n",
      " 8   has_keywords         82918 non-null  int64  \n",
      " 9   has_cast             82918 non-null  int64  \n",
      " 10  has_director         82918 non-null  int64  \n",
      " 11  genre_ids            82918 non-null  object \n",
      " 12  decade_[1890, 1900)  82918 non-null  bool   \n",
      " 13  decade_[1900, 1910)  82918 non-null  bool   \n",
      " 14  decade_[1910, 1920)  82918 non-null  bool   \n",
      " 15  decade_[1920, 1930)  82918 non-null  bool   \n",
      " 16  decade_[1930, 1940)  82918 non-null  bool   \n",
      " 17  decade_[1940, 1950)  82918 non-null  bool   \n",
      " 18  decade_[1950, 1960)  82918 non-null  bool   \n",
      " 19  decade_[1960, 1970)  82918 non-null  bool   \n",
      " 20  decade_[1970, 1980)  82918 non-null  bool   \n",
      " 21  decade_[1980, 1990)  82918 non-null  bool   \n",
      " 22  decade_[1990, 2000)  82918 non-null  bool   \n",
      " 23  decade_[2000, 2010)  82918 non-null  bool   \n",
      " 24  decade_[2010, 2020)  82918 non-null  bool   \n",
      " 25  decade_[2020, 2030)  82918 non-null  bool   \n",
      " 26  text_embedded        82918 non-null  object \n",
      " 27  actor_ids            82918 non-null  object \n",
      " 28  director_ids         82918 non-null  object \n",
      "dtypes: bool(14), float64(4), int32(2), int64(5), object(4)\n",
      "memory usage: 10.0+ MB\n",
      "<class 'pandas.core.frame.DataFrame'>\n",
      "RangeIndex: 198832 entries, 0 to 198831\n",
      "Data columns (total 3 columns):\n",
      " #   Column  Non-Null Count   Dtype \n",
      "---  ------  --------------   ----- \n",
      " 0   userId  198832 non-null  int64 \n",
      " 1   pos     198832 non-null  object\n",
      " 2   neg     198832 non-null  object\n",
      "dtypes: int64(1), object(2)\n",
      "memory usage: 4.6+ MB\n",
      "<class 'pandas.core.frame.DataFrame'>\n",
      "RangeIndex: 198832 entries, 0 to 198831\n",
      "Data columns (total 29 columns):\n",
      " #   Column                   Non-Null Count   Dtype  \n",
      "---  ------                   --------------   -----  \n",
      " 0   userId                   198832 non-null  int64  \n",
      " 1   num_rating               198832 non-null  float64\n",
      " 2   avg_rating               198832 non-null  float64\n",
      " 3   weekend_watcher          198832 non-null  float64\n",
      " 4   genre_Action             198832 non-null  float64\n",
      " 5   genre_Adventure          198832 non-null  float64\n",
      " 6   genre_Animation          198832 non-null  float64\n",
      " 7   genre_Comedy             198832 non-null  float64\n",
      " 8   genre_Crime              198832 non-null  float64\n",
      " 9   genre_Documentary        198832 non-null  float64\n",
      " 10  genre_Drama              198832 non-null  float64\n",
      " 11  genre_Family             198832 non-null  float64\n",
      " 12  genre_Fantasy            198832 non-null  float64\n",
      " 13  genre_History            198832 non-null  float64\n",
      " 14  genre_Horror             198832 non-null  float64\n",
      " 15  genre_Music              198832 non-null  float64\n",
      " 16  genre_Mystery            198832 non-null  float64\n",
      " 17  genre_Romance            198832 non-null  float64\n",
      " 18  genre_Science Fiction    198832 non-null  float64\n",
      " 19  genre_TV Movie           198832 non-null  float64\n",
      " 20  genre_Thriller           198832 non-null  float64\n",
      " 21  genre_War                198832 non-null  float64\n",
      " 22  genre_Western            198832 non-null  float64\n",
      " 23  type_of_viewer_negative  198832 non-null  float64\n",
      " 24  type_of_viewer_neutral   198832 non-null  float64\n",
      " 25  type_of_viewer_positive  198832 non-null  float64\n",
      " 26  movies_seq               198832 non-null  object \n",
      " 27  ratings_seq              198832 non-null  object \n",
      " 28  ts_seq                   198832 non-null  object \n",
      "dtypes: float64(25), int64(1), object(3)\n",
      "memory usage: 44.0+ MB\n"
     ]
    }
   ],
   "execution_count": 499
  },
  {
   "metadata": {
    "ExecuteTime": {
     "end_time": "2025-07-08T20:58:32.495038Z",
     "start_time": "2025-07-08T20:58:32.480487Z"
    }
   },
   "cell_type": "code",
   "source": [
    "# uids_users   = set(df_users['userId'])\n",
    "# uids_ratings = set(df_ratings['userId'])\n",
    "# assert uids_ratings <= uids_users, (\n",
    "#     f\"Brakujące userId w df_users: {uids_ratings - uids_users}\"\n",
    "# )\n",
    "#\n",
    "# mids_pos = set(x for lst in df_ratings['pos'] for x in lst)\n",
    "# mids_neg = set(x for lst in df_ratings['neg'] for x in lst)\n",
    "# mids_ratings = mids_pos | mids_neg\n",
    "# mids_movies  = set(df_movies['movieId'])\n",
    "# assert mids_ratings <= mids_movies, (\n",
    "#     f\"Brakujące movieId w df_movies (z ratingów): {mids_ratings - mids_movies}\"\n",
    "# )\n",
    "#\n",
    "# mids_users = set(x for lst in df_users['movies_seq'] for x in lst)\n",
    "# assert mids_users <= mids_movies, (\n",
    "#     f\"Brakujące movieId w df_movies (z użytkowników): {mids_users - mids_movies}\"\n",
    "# )\n",
    "#\n",
    "# print(\"Sanity check: wszystkie userId i movieId się pokrywają\")"
   ],
   "id": "c95f58d474c8605f",
   "outputs": [],
   "execution_count": 500
  },
  {
   "metadata": {
    "ExecuteTime": {
     "end_time": "2025-07-08T20:58:35.237098Z",
     "start_time": "2025-07-08T20:58:32.635411Z"
    }
   },
   "cell_type": "code",
   "source": [
    "mids_pos = set(x for lst in df_ratings['pos'] for x in lst)\n",
    "mids_neg = set(x for lst in df_ratings['neg'] for x in lst)\n",
    "missing = (mids_pos | mids_neg) - set(df_movies['movieId'])\n"
   ],
   "id": "d844cac5e8d632e4",
   "outputs": [],
   "execution_count": 501
  },
  {
   "metadata": {
    "ExecuteTime": {
     "end_time": "2025-07-08T20:58:44.438897Z",
     "start_time": "2025-07-08T20:58:35.443539Z"
    }
   },
   "cell_type": "code",
   "source": [
    "import pandas as pd\n",
    "\n",
    "pos_user_counts = {\n",
    "    m: df_ratings['pos'].map(lambda lst: m in lst).sum()\n",
    "    for m in missing\n",
    "}\n",
    "neg_user_counts = {\n",
    "    m: df_ratings['neg'].map(lambda lst: m in lst).sum()\n",
    "    for m in missing\n",
    "}\n",
    "\n",
    "df_missing_stats = (\n",
    "    pd.DataFrame({\n",
    "        'pos_users': pos_user_counts,\n",
    "        'neg_users': neg_user_counts,\n",
    "    })\n",
    "    .sort_values(['pos_users','neg_users'], ascending=False)\n",
    ")\n",
    "print(df_missing_stats)\n"
   ],
   "id": "606b950377633be",
   "outputs": [
    {
     "name": "stdout",
     "output_type": "stream",
     "text": [
      "        pos_users  neg_users\n",
      "198149          4          7\n",
      "240896          1          2\n",
      "164409          0          3\n",
      "292229          0          2\n",
      "292617          0          2\n",
      "292597          0          2\n",
      "235259          0          2\n",
      "292737          0          1\n",
      "277832          0          1\n",
      "290385          0          1\n",
      "292531          0          1\n",
      "283477          0          1\n",
      "292093          0          1\n",
      "292063          0          1\n"
     ]
    }
   ],
   "execution_count": 502
  },
  {
   "metadata": {
    "ExecuteTime": {
     "end_time": "2025-07-08T20:58:47.230047Z",
     "start_time": "2025-07-08T20:58:44.581206Z"
    }
   },
   "cell_type": "code",
   "source": [
    "valid_ids = set(df_movies['movieId'])\n",
    "df_ratings['pos'] = df_ratings['pos'].apply(lambda lst: [m for m in lst if m in valid_ids])\n",
    "df_ratings['neg'] = df_ratings['neg'].apply(lambda lst: [m for m in lst if m in valid_ids])\n",
    "\n",
    "df_ratings = df_ratings[df_ratings['pos'].map(len).gt(0) & df_ratings['neg'].map(len).gt(0)]"
   ],
   "id": "f1906854da0d3385",
   "outputs": [],
   "execution_count": 503
  },
  {
   "cell_type": "markdown",
   "id": "c068c70a",
   "metadata": {},
   "source": [
    "# Przygotowanie movieId dla datasetów"
   ]
  },
  {
   "cell_type": "code",
   "id": "1377db81fa9a9a8b",
   "metadata": {
    "ExecuteTime": {
     "end_time": "2025-07-08T20:58:47.419216Z",
     "start_time": "2025-07-08T20:58:47.388089Z"
    }
   },
   "source": [
    "'''\n",
    "Sanity check do LOOCV\n",
    "'''\n",
    "single_pos_users = (df_ratings['pos'].apply(len) == 1).sum()\n",
    "\n",
    "print(f\"Liczba użytkowników z dokładnie jednym pozytywnym ratingiem: {single_pos_users}\")"
   ],
   "outputs": [
    {
     "name": "stdout",
     "output_type": "stream",
     "text": [
      "Liczba użytkowników z dokładnie jednym pozytywnym ratingiem: 262\n"
     ]
    }
   ],
   "execution_count": 504
  },
  {
   "cell_type": "code",
   "id": "8c4afa2dc04fe91c",
   "metadata": {
    "ExecuteTime": {
     "end_time": "2025-07-08T20:58:50.095149Z",
     "start_time": "2025-07-08T20:58:47.562336Z"
    }
   },
   "source": [
    "'''\n",
    "Do sprzatniecia userow (wyruczamy np. 262 uzytkownikow z 1 pos)\n",
    "'''\n",
    "pos_counts = df_ratings['pos'].apply(len)\n",
    "neg_counts = df_ratings['neg'].apply(len)\n",
    "\n",
    "mask = (pos_counts >= 2) & (neg_counts >= 2) # Wycinamy userow o wybranych parametrach\n",
    "df_ratings = df_ratings.loc[mask]\n",
    "\n",
    "common_users = set(df_ratings['userId'])\n",
    "df_users   = df_users[df_users['userId'].isin(common_users)].reset_index(drop=True)\n",
    "df_ratings = df_ratings[df_ratings['userId'].isin(common_users)].copy()\n",
    "\n",
    "df_ratings = df_ratings.set_index('userId', drop=False)\n",
    "df_movies  = df_movies.set_index('movieId', drop=False) # Bardzo wazne zeby wiedziec ze jest to 'movieId'\n",
    "\n",
    "# Jezeli dodadtkowo usuwamy filmy ktore sie nie pojawiaja w ocenach (oszczedzamy pamiec)\n",
    "used_movie_ids = set(df_users['movies_seq'].explode()) \\\n",
    "               | set(df_ratings['pos'].explode()) \\\n",
    "               | set(df_ratings['neg'].explode())\n",
    "df_movies = df_movies.loc[df_movies.index.isin(used_movie_ids)].copy()\n",
    "\n",
    "single_pos_users = (df_ratings['pos'].apply(len) == 1).sum()\n",
    "\n",
    "print(f\"Liczba użytkowników z dokładnie jednym pozytywnym ratingiem: {single_pos_users}\")"
   ],
   "outputs": [
    {
     "name": "stdout",
     "output_type": "stream",
     "text": [
      "Liczba użytkowników z dokładnie jednym pozytywnym ratingiem: 0\n"
     ]
    }
   ],
   "execution_count": 505
  },
  {
   "cell_type": "code",
   "id": "94880cb6",
   "metadata": {
    "ExecuteTime": {
     "end_time": "2025-07-08T20:58:50.202403Z",
     "start_time": "2025-07-08T20:58:50.111198Z"
    }
   },
   "source": [
    "print(df_users.info())\n",
    "print(df_ratings.info())\n",
    "print(df_movies.info())\n",
    "\n",
    "empty_pos_ratings = df_ratings['pos'].apply(lambda x: len(x) == 0).sum()\n",
    "empty_neg_ratings = df_ratings['neg'].apply(lambda x: len(x) == 0).sum()\n",
    "\n",
    "if empty_pos_ratings != 0 or empty_neg_ratings != 0:\n",
    "    print(f'Empty ratings: pos: {empty_pos_ratings}, neg: {empty_neg_ratings}')\n",
    "    raise Exception(\"Users without a single pos/neg rating exist in the ratings_groupped_ids dataset\")"
   ],
   "outputs": [
    {
     "name": "stdout",
     "output_type": "stream",
     "text": [
      "<class 'pandas.core.frame.DataFrame'>\n",
      "RangeIndex: 196886 entries, 0 to 196885\n",
      "Data columns (total 29 columns):\n",
      " #   Column                   Non-Null Count   Dtype  \n",
      "---  ------                   --------------   -----  \n",
      " 0   userId                   196886 non-null  int64  \n",
      " 1   num_rating               196886 non-null  float64\n",
      " 2   avg_rating               196886 non-null  float64\n",
      " 3   weekend_watcher          196886 non-null  float64\n",
      " 4   genre_Action             196886 non-null  float64\n",
      " 5   genre_Adventure          196886 non-null  float64\n",
      " 6   genre_Animation          196886 non-null  float64\n",
      " 7   genre_Comedy             196886 non-null  float64\n",
      " 8   genre_Crime              196886 non-null  float64\n",
      " 9   genre_Documentary        196886 non-null  float64\n",
      " 10  genre_Drama              196886 non-null  float64\n",
      " 11  genre_Family             196886 non-null  float64\n",
      " 12  genre_Fantasy            196886 non-null  float64\n",
      " 13  genre_History            196886 non-null  float64\n",
      " 14  genre_Horror             196886 non-null  float64\n",
      " 15  genre_Music              196886 non-null  float64\n",
      " 16  genre_Mystery            196886 non-null  float64\n",
      " 17  genre_Romance            196886 non-null  float64\n",
      " 18  genre_Science Fiction    196886 non-null  float64\n",
      " 19  genre_TV Movie           196886 non-null  float64\n",
      " 20  genre_Thriller           196886 non-null  float64\n",
      " 21  genre_War                196886 non-null  float64\n",
      " 22  genre_Western            196886 non-null  float64\n",
      " 23  type_of_viewer_negative  196886 non-null  float64\n",
      " 24  type_of_viewer_neutral   196886 non-null  float64\n",
      " 25  type_of_viewer_positive  196886 non-null  float64\n",
      " 26  movies_seq               196886 non-null  object \n",
      " 27  ratings_seq              196886 non-null  object \n",
      " 28  ts_seq                   196886 non-null  object \n",
      "dtypes: float64(25), int64(1), object(3)\n",
      "memory usage: 43.6+ MB\n",
      "None\n",
      "<class 'pandas.core.frame.DataFrame'>\n",
      "Index: 196886 entries, 1 to 200948\n",
      "Data columns (total 3 columns):\n",
      " #   Column  Non-Null Count   Dtype \n",
      "---  ------  --------------   ----- \n",
      " 0   userId  196886 non-null  int64 \n",
      " 1   pos     196886 non-null  object\n",
      " 2   neg     196886 non-null  object\n",
      "dtypes: int64(1), object(2)\n",
      "memory usage: 6.0+ MB\n",
      "None\n",
      "<class 'pandas.core.frame.DataFrame'>\n",
      "Index: 82903 entries, 79132 to 136560\n",
      "Data columns (total 29 columns):\n",
      " #   Column               Non-Null Count  Dtype  \n",
      "---  ------               --------------  -----  \n",
      " 0   movieId              82903 non-null  int64  \n",
      " 1   runtime              82903 non-null  float64\n",
      " 2   if_blockbuster       82903 non-null  int32  \n",
      " 3   highly_watched       82903 non-null  int32  \n",
      " 4   highly_rated         82903 non-null  int64  \n",
      " 5   engagement_score     82903 non-null  float64\n",
      " 6   cast_importance      82903 non-null  float64\n",
      " 7   director_score       82903 non-null  float64\n",
      " 8   has_keywords         82903 non-null  int64  \n",
      " 9   has_cast             82903 non-null  int64  \n",
      " 10  has_director         82903 non-null  int64  \n",
      " 11  genre_ids            82903 non-null  object \n",
      " 12  decade_[1890, 1900)  82903 non-null  bool   \n",
      " 13  decade_[1900, 1910)  82903 non-null  bool   \n",
      " 14  decade_[1910, 1920)  82903 non-null  bool   \n",
      " 15  decade_[1920, 1930)  82903 non-null  bool   \n",
      " 16  decade_[1930, 1940)  82903 non-null  bool   \n",
      " 17  decade_[1940, 1950)  82903 non-null  bool   \n",
      " 18  decade_[1950, 1960)  82903 non-null  bool   \n",
      " 19  decade_[1960, 1970)  82903 non-null  bool   \n",
      " 20  decade_[1970, 1980)  82903 non-null  bool   \n",
      " 21  decade_[1980, 1990)  82903 non-null  bool   \n",
      " 22  decade_[1990, 2000)  82903 non-null  bool   \n",
      " 23  decade_[2000, 2010)  82903 non-null  bool   \n",
      " 24  decade_[2010, 2020)  82903 non-null  bool   \n",
      " 25  decade_[2020, 2030)  82903 non-null  bool   \n",
      " 26  text_embedded        82903 non-null  object \n",
      " 27  actor_ids            82903 non-null  object \n",
      " 28  director_ids         82903 non-null  object \n",
      "dtypes: bool(14), float64(4), int32(2), int64(5), object(4)\n",
      "memory usage: 10.6+ MB\n",
      "None\n"
     ]
    }
   ],
   "execution_count": 506
  },
  {
   "cell_type": "code",
   "id": "316494e6",
   "metadata": {
    "ExecuteTime": {
     "end_time": "2025-07-08T20:58:52.838408Z",
     "start_time": "2025-07-08T20:58:50.561797Z"
    }
   },
   "source": [
    "unique_ids = set(\n",
    "        df_users['movies_seq'].explode().tolist()\n",
    "        + df_ratings['pos'].explode().tolist() \n",
    "        + df_ratings['neg'].explode().tolist()\n",
    "    )\n",
    "\n",
    "print('Unique movieIds:', len(unique_ids))\n",
    "unique_ids = sorted(unique_ids)\n",
    "\n",
    "movieId_to_idx = {id_: idx for idx, id_ in enumerate(unique_ids)}\n",
    "print('min idx:', min(movieId_to_idx.values()))\n",
    "print('max idx:', max(movieId_to_idx.values()))\n",
    "\n",
    "n_items = len(unique_ids)\n",
    "\n",
    "assert min(movieId_to_idx.values()) == 0\n",
    "assert max(movieId_to_idx.values()) == n_items - 1"
   ],
   "outputs": [
    {
     "name": "stdout",
     "output_type": "stream",
     "text": [
      "Unique movieIds: 82911\n",
      "min idx: 0\n",
      "max idx: 82910\n"
     ]
    }
   ],
   "execution_count": 507
  },
  {
   "cell_type": "code",
   "id": "b2a6c390",
   "metadata": {
    "ExecuteTime": {
     "end_time": "2025-07-08T20:58:57.201254Z",
     "start_time": "2025-07-08T20:58:53.040668Z"
    }
   },
   "source": [
    "# Zmapuj movieId do indeksów\n",
    "df_users['movies_seq'] = df_users['movies_seq'].apply(lambda lst: [movieId_to_idx[m] for m in lst])\n",
    "df_ratings['pos'] = df_ratings['pos'].apply(lambda lst: [movieId_to_idx[m] for m in lst])\n",
    "df_ratings['neg'] = df_ratings['neg'].apply(lambda lst: [movieId_to_idx[m] for m in lst])\n",
    "df_ratings = df_ratings.set_index('userId')\n",
    "\n",
    "# df_movies musi być ograniczone tylko do używanych filmów\n",
    "df_movies = df_movies[df_movies['movieId'].isin(movieId_to_idx)].copy()\n",
    "df_movies['movieId'] = df_movies['movieId'].map(movieId_to_idx)\n",
    "df_movies = df_movies.set_index('movieId')\n",
    "\n",
    "# Final sanity check\n",
    "assert df_users['movies_seq'].explode().max() < n_items\n",
    "assert df_ratings['pos'].explode().max() < n_items\n",
    "assert df_ratings['neg'].explode().max() < n_items\n",
    "\n",
    "assert df_movies.index.max() < n_items\n",
    "assert df_movies.index.notna().all()\n",
    "\n",
    "# assert df_movies['movieId'].max() < n_items\n",
    "# assert df_movies['movieId'].notna().all(), \"Some movieIds weren't mapped!\""
   ],
   "outputs": [],
   "execution_count": 508
  },
  {
   "cell_type": "code",
   "id": "b1c98cc7",
   "metadata": {
    "ExecuteTime": {
     "end_time": "2025-07-08T20:58:57.481504Z",
     "start_time": "2025-07-08T20:58:57.342847Z"
    }
   },
   "source": [
    "max_movie_idx = df_users['movies_seq'].explode().max()\n",
    "print(\"max_movie_idx =\", max_movie_idx)\n",
    "print(\"n_items =\", n_items)\n",
    "\n",
    "assert max_movie_idx < n_items, \"Indeks filmu przekracza rozmiar embeddingu\""
   ],
   "outputs": [
    {
     "name": "stdout",
     "output_type": "stream",
     "text": [
      "max_movie_idx = 82910\n",
      "n_items = 82911\n"
     ]
    }
   ],
   "execution_count": 509
  },
  {
   "cell_type": "code",
   "id": "8aa20b8c",
   "metadata": {
    "ExecuteTime": {
     "end_time": "2025-07-08T20:58:57.794610Z",
     "start_time": "2025-07-08T20:58:57.624193Z"
    }
   },
   "source": [
    "def has_invalid_entries(seq_col):\n",
    "    return seq_col.explode().isin([-1, np.nan, None]).any()\n",
    "\n",
    "print(\"Zawiera niepoprawne wartości:\", has_invalid_entries(df_users['movies_seq']))"
   ],
   "outputs": [
    {
     "name": "stdout",
     "output_type": "stream",
     "text": [
      "Zawiera niepoprawne wartości: False\n"
     ]
    }
   ],
   "execution_count": 510
  },
  {
   "cell_type": "code",
   "id": "b8dde55207019a1a",
   "metadata": {
    "ExecuteTime": {
     "end_time": "2025-07-08T20:58:57.997540Z",
     "start_time": "2025-07-08T20:58:57.951459Z"
    }
   },
   "source": [
    "df_users.info()\n",
    "df_users.head(100)"
   ],
   "outputs": [
    {
     "name": "stdout",
     "output_type": "stream",
     "text": [
      "<class 'pandas.core.frame.DataFrame'>\n",
      "RangeIndex: 196886 entries, 0 to 196885\n",
      "Data columns (total 29 columns):\n",
      " #   Column                   Non-Null Count   Dtype  \n",
      "---  ------                   --------------   -----  \n",
      " 0   userId                   196886 non-null  int64  \n",
      " 1   num_rating               196886 non-null  float64\n",
      " 2   avg_rating               196886 non-null  float64\n",
      " 3   weekend_watcher          196886 non-null  float64\n",
      " 4   genre_Action             196886 non-null  float64\n",
      " 5   genre_Adventure          196886 non-null  float64\n",
      " 6   genre_Animation          196886 non-null  float64\n",
      " 7   genre_Comedy             196886 non-null  float64\n",
      " 8   genre_Crime              196886 non-null  float64\n",
      " 9   genre_Documentary        196886 non-null  float64\n",
      " 10  genre_Drama              196886 non-null  float64\n",
      " 11  genre_Family             196886 non-null  float64\n",
      " 12  genre_Fantasy            196886 non-null  float64\n",
      " 13  genre_History            196886 non-null  float64\n",
      " 14  genre_Horror             196886 non-null  float64\n",
      " 15  genre_Music              196886 non-null  float64\n",
      " 16  genre_Mystery            196886 non-null  float64\n",
      " 17  genre_Romance            196886 non-null  float64\n",
      " 18  genre_Science Fiction    196886 non-null  float64\n",
      " 19  genre_TV Movie           196886 non-null  float64\n",
      " 20  genre_Thriller           196886 non-null  float64\n",
      " 21  genre_War                196886 non-null  float64\n",
      " 22  genre_Western            196886 non-null  float64\n",
      " 23  type_of_viewer_negative  196886 non-null  float64\n",
      " 24  type_of_viewer_neutral   196886 non-null  float64\n",
      " 25  type_of_viewer_positive  196886 non-null  float64\n",
      " 26  movies_seq               196886 non-null  object \n",
      " 27  ratings_seq              196886 non-null  object \n",
      " 28  ts_seq                   196886 non-null  object \n",
      "dtypes: float64(25), int64(1), object(3)\n",
      "memory usage: 43.6+ MB\n"
     ]
    },
    {
     "data": {
      "text/plain": [
       "    userId  num_rating  avg_rating  weekend_watcher  genre_Action  \\\n",
       "0        1   -0.068675   -0.347979              0.0      0.926736   \n",
       "1        2   -0.383417    1.210645              0.0      0.713096   \n",
       "2        3   -0.047456   -0.228499              0.0      0.045472   \n",
       "3        4   -0.471828   -2.255334              0.0     -1.763184   \n",
       "4        5   -0.450609   -0.895880              0.0      0.178997   \n",
       "..     ...         ...         ...              ...           ...   \n",
       "95      97   -0.401099    0.439117              1.0      0.112234   \n",
       "96      98   -0.464755    0.131258              0.0      1.514246   \n",
       "97      99   -0.478901    1.106575              0.0      0.178997   \n",
       "98     100    0.313259   -0.381486              0.0     -0.544263   \n",
       "99     101   -0.238423   -0.040395              0.0      0.198072   \n",
       "\n",
       "    genre_Adventure  genre_Animation  genre_Comedy  genre_Crime  \\\n",
       "0         -0.375240        -0.179705     -0.402570     0.892727   \n",
       "1          0.940526         1.581734      0.973277     0.410751   \n",
       "2          0.066743         0.383741     -0.669363    -0.692235   \n",
       "3         -0.917026        -1.363040     -0.993442    -2.681933   \n",
       "4         -0.375240        -0.002980     -0.993442    -1.908762   \n",
       "..              ...              ...           ...          ...   \n",
       "95         0.564918         0.871345      0.478688     0.410751   \n",
       "96         0.708332         0.434183     -0.518954     0.410751   \n",
       "97         0.301993         1.745670      1.790221     0.410751   \n",
       "98        -0.397290        -0.574654     -0.042357    -0.095325   \n",
       "99         0.251200         0.006524      0.176417    -0.133417   \n",
       "\n",
       "    genre_Documentary  ...  genre_TV Movie  genre_Thriller  genre_War  \\\n",
       "0           -1.076257  ...       -0.284700       -0.022680  -0.426892   \n",
       "1            0.788073  ...        1.018523        1.084306  -1.207360   \n",
       "2           -0.211924  ...       -0.184799       -0.650122   0.197482   \n",
       "3           -1.620281  ...       -1.879511       -2.686105  -1.909780   \n",
       "4           -0.675657  ...       -0.742820       -0.372255   0.197482   \n",
       "..                ...  ...             ...             ...        ...   \n",
       "95           0.251973  ...        0.373421        0.162700  -0.153728   \n",
       "96           0.038055  ...        0.116008        0.559944   0.197482   \n",
       "97           0.715759  ...        0.931507        0.809640   0.899903   \n",
       "98          -0.318228  ...       -0.312716       -0.055048  -0.613003   \n",
       "99          -0.081219  ...       -0.027517       -0.003886  -0.255693   \n",
       "\n",
       "    genre_Western  type_of_viewer_negative  type_of_viewer_neutral  \\\n",
       "0       -0.911843                      0.0                     1.0   \n",
       "1        0.791019                      0.0                     0.0   \n",
       "2        0.094394                      0.0                     1.0   \n",
       "3       -1.408750                      1.0                     0.0   \n",
       "4       -0.911843                      0.0                     1.0   \n",
       "..            ...                      ...                     ...   \n",
       "95       1.771455                      0.0                     1.0   \n",
       "96       0.105960                      0.0                     1.0   \n",
       "97       0.724969                      0.0                     0.0   \n",
       "98       1.771455                      0.0                     1.0   \n",
       "99      -0.002984                      0.0                     1.0   \n",
       "\n",
       "    type_of_viewer_positive  \\\n",
       "0                       0.0   \n",
       "1                       1.0   \n",
       "2                       0.0   \n",
       "3                       0.0   \n",
       "4                       0.0   \n",
       "..                      ...   \n",
       "95                      0.0   \n",
       "96                      0.0   \n",
       "97                      1.0   \n",
       "98                      0.0   \n",
       "99                      0.0   \n",
       "\n",
       "                                           movies_seq  \\\n",
       "0   [24, 1013, 1314, 1360, 1619, 303, 1027, 1190, ...   \n",
       "1   [30, 191, 273, 545, 234, 577, 503, 216, 376, 2...   \n",
       "2   [5218, 4768, 5679, 6196, 3893, 6222, 6391, 516...   \n",
       "3   [2573, 2589, 2600, 2660, 220, 2612, 2770, 3091...   \n",
       "4   [228, 312, 159, 288, 314, 324, 429, 9, 183, 25...   \n",
       "..                                                ...   \n",
       "95  [228, 16, 5087, 3633, 3631, 2063, 1207, 3876, ...   \n",
       "96  [585, 5815, 5679, 5673, 2747, 2573, 2589, 2596...   \n",
       "97  [292, 2463, 2747, 731, 14840, 1166, 1057, 1194...   \n",
       "98  [3631, 1058, 1336, 1248, 1951, 1326, 15131, 20...   \n",
       "99  [59398, 5258, 28112, 28104, 26894, 54866, 2809...   \n",
       "\n",
       "                                          ratings_seq  \\\n",
       "0   [-2.3984964034019467, 1.3836304001080941, -2.3...   \n",
       "1   [1.3836304001080941, -0.5074330016469263, 0.43...   \n",
       "2   [-0.5074330016469263, -0.5074330016469263, -0....   \n",
       "3   [-0.5074330016469263, -1.4529647025244365, -1....   \n",
       "4   [-1.4529647025244365, -0.5074330016469263, 0.4...   \n",
       "..                                                ...   \n",
       "95  [-0.5074330016469263, 0.43809869923058387, 0.4...   \n",
       "96  [1.3836304001080941, 1.3836304001080941, 0.438...   \n",
       "97  [-0.034667151208171196, 0.43809869923058387, -...   \n",
       "98  [-0.5074330016469263, -0.034667151208171196, 0...   \n",
       "99  [0.9108645496693389, -0.034667151208171196, -0...   \n",
       "\n",
       "                                               ts_seq  \n",
       "0   [-1.2878777024141752, -1.2878663519376752, -1....  \n",
       "1   [-1.709033992628413, -1.709033992628413, -1.70...  \n",
       "2   [-0.740135863595513, -0.7401358518778841, -0.7...  \n",
       "3   [-1.2244648204630921, -1.2244648204630921, -1....  \n",
       "4   [-1.6920817200700495, -1.6920817200700495, -1....  \n",
       "..                                                ...  \n",
       "95  [-0.4013318737005198, -0.40133182683000435, -0...  \n",
       "96  [-0.9020311080297979, -0.9020306354187667, -0....  \n",
       "97  [0.6478568622869465, 0.6478568740045754, 0.647...  \n",
       "98  [1.3519862967238052, 1.3519863514060733, 1.351...  \n",
       "99  [1.4568315152604039, 1.4568315347897853, 1.456...  \n",
       "\n",
       "[100 rows x 29 columns]"
      ],
      "text/html": [
       "<div>\n",
       "<style scoped>\n",
       "    .dataframe tbody tr th:only-of-type {\n",
       "        vertical-align: middle;\n",
       "    }\n",
       "\n",
       "    .dataframe tbody tr th {\n",
       "        vertical-align: top;\n",
       "    }\n",
       "\n",
       "    .dataframe thead th {\n",
       "        text-align: right;\n",
       "    }\n",
       "</style>\n",
       "<table border=\"1\" class=\"dataframe\">\n",
       "  <thead>\n",
       "    <tr style=\"text-align: right;\">\n",
       "      <th></th>\n",
       "      <th>userId</th>\n",
       "      <th>num_rating</th>\n",
       "      <th>avg_rating</th>\n",
       "      <th>weekend_watcher</th>\n",
       "      <th>genre_Action</th>\n",
       "      <th>genre_Adventure</th>\n",
       "      <th>genre_Animation</th>\n",
       "      <th>genre_Comedy</th>\n",
       "      <th>genre_Crime</th>\n",
       "      <th>genre_Documentary</th>\n",
       "      <th>...</th>\n",
       "      <th>genre_TV Movie</th>\n",
       "      <th>genre_Thriller</th>\n",
       "      <th>genre_War</th>\n",
       "      <th>genre_Western</th>\n",
       "      <th>type_of_viewer_negative</th>\n",
       "      <th>type_of_viewer_neutral</th>\n",
       "      <th>type_of_viewer_positive</th>\n",
       "      <th>movies_seq</th>\n",
       "      <th>ratings_seq</th>\n",
       "      <th>ts_seq</th>\n",
       "    </tr>\n",
       "  </thead>\n",
       "  <tbody>\n",
       "    <tr>\n",
       "      <th>0</th>\n",
       "      <td>1</td>\n",
       "      <td>-0.068675</td>\n",
       "      <td>-0.347979</td>\n",
       "      <td>0.0</td>\n",
       "      <td>0.926736</td>\n",
       "      <td>-0.375240</td>\n",
       "      <td>-0.179705</td>\n",
       "      <td>-0.402570</td>\n",
       "      <td>0.892727</td>\n",
       "      <td>-1.076257</td>\n",
       "      <td>...</td>\n",
       "      <td>-0.284700</td>\n",
       "      <td>-0.022680</td>\n",
       "      <td>-0.426892</td>\n",
       "      <td>-0.911843</td>\n",
       "      <td>0.0</td>\n",
       "      <td>1.0</td>\n",
       "      <td>0.0</td>\n",
       "      <td>[24, 1013, 1314, 1360, 1619, 303, 1027, 1190, ...</td>\n",
       "      <td>[-2.3984964034019467, 1.3836304001080941, -2.3...</td>\n",
       "      <td>[-1.2878777024141752, -1.2878663519376752, -1....</td>\n",
       "    </tr>\n",
       "    <tr>\n",
       "      <th>1</th>\n",
       "      <td>2</td>\n",
       "      <td>-0.383417</td>\n",
       "      <td>1.210645</td>\n",
       "      <td>0.0</td>\n",
       "      <td>0.713096</td>\n",
       "      <td>0.940526</td>\n",
       "      <td>1.581734</td>\n",
       "      <td>0.973277</td>\n",
       "      <td>0.410751</td>\n",
       "      <td>0.788073</td>\n",
       "      <td>...</td>\n",
       "      <td>1.018523</td>\n",
       "      <td>1.084306</td>\n",
       "      <td>-1.207360</td>\n",
       "      <td>0.791019</td>\n",
       "      <td>0.0</td>\n",
       "      <td>0.0</td>\n",
       "      <td>1.0</td>\n",
       "      <td>[30, 191, 273, 545, 234, 577, 503, 216, 376, 2...</td>\n",
       "      <td>[1.3836304001080941, -0.5074330016469263, 0.43...</td>\n",
       "      <td>[-1.709033992628413, -1.709033992628413, -1.70...</td>\n",
       "    </tr>\n",
       "    <tr>\n",
       "      <th>2</th>\n",
       "      <td>3</td>\n",
       "      <td>-0.047456</td>\n",
       "      <td>-0.228499</td>\n",
       "      <td>0.0</td>\n",
       "      <td>0.045472</td>\n",
       "      <td>0.066743</td>\n",
       "      <td>0.383741</td>\n",
       "      <td>-0.669363</td>\n",
       "      <td>-0.692235</td>\n",
       "      <td>-0.211924</td>\n",
       "      <td>...</td>\n",
       "      <td>-0.184799</td>\n",
       "      <td>-0.650122</td>\n",
       "      <td>0.197482</td>\n",
       "      <td>0.094394</td>\n",
       "      <td>0.0</td>\n",
       "      <td>1.0</td>\n",
       "      <td>0.0</td>\n",
       "      <td>[5218, 4768, 5679, 6196, 3893, 6222, 6391, 516...</td>\n",
       "      <td>[-0.5074330016469263, -0.5074330016469263, -0....</td>\n",
       "      <td>[-0.740135863595513, -0.7401358518778841, -0.7...</td>\n",
       "    </tr>\n",
       "    <tr>\n",
       "      <th>3</th>\n",
       "      <td>4</td>\n",
       "      <td>-0.471828</td>\n",
       "      <td>-2.255334</td>\n",
       "      <td>0.0</td>\n",
       "      <td>-1.763184</td>\n",
       "      <td>-0.917026</td>\n",
       "      <td>-1.363040</td>\n",
       "      <td>-0.993442</td>\n",
       "      <td>-2.681933</td>\n",
       "      <td>-1.620281</td>\n",
       "      <td>...</td>\n",
       "      <td>-1.879511</td>\n",
       "      <td>-2.686105</td>\n",
       "      <td>-1.909780</td>\n",
       "      <td>-1.408750</td>\n",
       "      <td>1.0</td>\n",
       "      <td>0.0</td>\n",
       "      <td>0.0</td>\n",
       "      <td>[2573, 2589, 2600, 2660, 220, 2612, 2770, 3091...</td>\n",
       "      <td>[-0.5074330016469263, -1.4529647025244365, -1....</td>\n",
       "      <td>[-1.2244648204630921, -1.2244648204630921, -1....</td>\n",
       "    </tr>\n",
       "    <tr>\n",
       "      <th>4</th>\n",
       "      <td>5</td>\n",
       "      <td>-0.450609</td>\n",
       "      <td>-0.895880</td>\n",
       "      <td>0.0</td>\n",
       "      <td>0.178997</td>\n",
       "      <td>-0.375240</td>\n",
       "      <td>-0.002980</td>\n",
       "      <td>-0.993442</td>\n",
       "      <td>-1.908762</td>\n",
       "      <td>-0.675657</td>\n",
       "      <td>...</td>\n",
       "      <td>-0.742820</td>\n",
       "      <td>-0.372255</td>\n",
       "      <td>0.197482</td>\n",
       "      <td>-0.911843</td>\n",
       "      <td>0.0</td>\n",
       "      <td>1.0</td>\n",
       "      <td>0.0</td>\n",
       "      <td>[228, 312, 159, 288, 314, 324, 429, 9, 183, 25...</td>\n",
       "      <td>[-1.4529647025244365, -0.5074330016469263, 0.4...</td>\n",
       "      <td>[-1.6920817200700495, -1.6920817200700495, -1....</td>\n",
       "    </tr>\n",
       "    <tr>\n",
       "      <th>...</th>\n",
       "      <td>...</td>\n",
       "      <td>...</td>\n",
       "      <td>...</td>\n",
       "      <td>...</td>\n",
       "      <td>...</td>\n",
       "      <td>...</td>\n",
       "      <td>...</td>\n",
       "      <td>...</td>\n",
       "      <td>...</td>\n",
       "      <td>...</td>\n",
       "      <td>...</td>\n",
       "      <td>...</td>\n",
       "      <td>...</td>\n",
       "      <td>...</td>\n",
       "      <td>...</td>\n",
       "      <td>...</td>\n",
       "      <td>...</td>\n",
       "      <td>...</td>\n",
       "      <td>...</td>\n",
       "      <td>...</td>\n",
       "      <td>...</td>\n",
       "    </tr>\n",
       "    <tr>\n",
       "      <th>95</th>\n",
       "      <td>97</td>\n",
       "      <td>-0.401099</td>\n",
       "      <td>0.439117</td>\n",
       "      <td>1.0</td>\n",
       "      <td>0.112234</td>\n",
       "      <td>0.564918</td>\n",
       "      <td>0.871345</td>\n",
       "      <td>0.478688</td>\n",
       "      <td>0.410751</td>\n",
       "      <td>0.251973</td>\n",
       "      <td>...</td>\n",
       "      <td>0.373421</td>\n",
       "      <td>0.162700</td>\n",
       "      <td>-0.153728</td>\n",
       "      <td>1.771455</td>\n",
       "      <td>0.0</td>\n",
       "      <td>1.0</td>\n",
       "      <td>0.0</td>\n",
       "      <td>[228, 16, 5087, 3633, 3631, 2063, 1207, 3876, ...</td>\n",
       "      <td>[-0.5074330016469263, 0.43809869923058387, 0.4...</td>\n",
       "      <td>[-0.4013318737005198, -0.40133182683000435, -0...</td>\n",
       "    </tr>\n",
       "    <tr>\n",
       "      <th>96</th>\n",
       "      <td>98</td>\n",
       "      <td>-0.464755</td>\n",
       "      <td>0.131258</td>\n",
       "      <td>0.0</td>\n",
       "      <td>1.514246</td>\n",
       "      <td>0.708332</td>\n",
       "      <td>0.434183</td>\n",
       "      <td>-0.518954</td>\n",
       "      <td>0.410751</td>\n",
       "      <td>0.038055</td>\n",
       "      <td>...</td>\n",
       "      <td>0.116008</td>\n",
       "      <td>0.559944</td>\n",
       "      <td>0.197482</td>\n",
       "      <td>0.105960</td>\n",
       "      <td>0.0</td>\n",
       "      <td>1.0</td>\n",
       "      <td>0.0</td>\n",
       "      <td>[585, 5815, 5679, 5673, 2747, 2573, 2589, 2596...</td>\n",
       "      <td>[1.3836304001080941, 1.3836304001080941, 0.438...</td>\n",
       "      <td>[-0.9020311080297979, -0.9020306354187667, -0....</td>\n",
       "    </tr>\n",
       "    <tr>\n",
       "      <th>97</th>\n",
       "      <td>99</td>\n",
       "      <td>-0.478901</td>\n",
       "      <td>1.106575</td>\n",
       "      <td>0.0</td>\n",
       "      <td>0.178997</td>\n",
       "      <td>0.301993</td>\n",
       "      <td>1.745670</td>\n",
       "      <td>1.790221</td>\n",
       "      <td>0.410751</td>\n",
       "      <td>0.715759</td>\n",
       "      <td>...</td>\n",
       "      <td>0.931507</td>\n",
       "      <td>0.809640</td>\n",
       "      <td>0.899903</td>\n",
       "      <td>0.724969</td>\n",
       "      <td>0.0</td>\n",
       "      <td>0.0</td>\n",
       "      <td>1.0</td>\n",
       "      <td>[292, 2463, 2747, 731, 14840, 1166, 1057, 1194...</td>\n",
       "      <td>[-0.034667151208171196, 0.43809869923058387, -...</td>\n",
       "      <td>[0.6478568622869465, 0.6478568740045754, 0.647...</td>\n",
       "    </tr>\n",
       "    <tr>\n",
       "      <th>98</th>\n",
       "      <td>100</td>\n",
       "      <td>0.313259</td>\n",
       "      <td>-0.381486</td>\n",
       "      <td>0.0</td>\n",
       "      <td>-0.544263</td>\n",
       "      <td>-0.397290</td>\n",
       "      <td>-0.574654</td>\n",
       "      <td>-0.042357</td>\n",
       "      <td>-0.095325</td>\n",
       "      <td>-0.318228</td>\n",
       "      <td>...</td>\n",
       "      <td>-0.312716</td>\n",
       "      <td>-0.055048</td>\n",
       "      <td>-0.613003</td>\n",
       "      <td>1.771455</td>\n",
       "      <td>0.0</td>\n",
       "      <td>1.0</td>\n",
       "      <td>0.0</td>\n",
       "      <td>[3631, 1058, 1336, 1248, 1951, 1326, 15131, 20...</td>\n",
       "      <td>[-0.5074330016469263, -0.034667151208171196, 0...</td>\n",
       "      <td>[1.3519862967238052, 1.3519863514060733, 1.351...</td>\n",
       "    </tr>\n",
       "    <tr>\n",
       "      <th>99</th>\n",
       "      <td>101</td>\n",
       "      <td>-0.238423</td>\n",
       "      <td>-0.040395</td>\n",
       "      <td>0.0</td>\n",
       "      <td>0.198072</td>\n",
       "      <td>0.251200</td>\n",
       "      <td>0.006524</td>\n",
       "      <td>0.176417</td>\n",
       "      <td>-0.133417</td>\n",
       "      <td>-0.081219</td>\n",
       "      <td>...</td>\n",
       "      <td>-0.027517</td>\n",
       "      <td>-0.003886</td>\n",
       "      <td>-0.255693</td>\n",
       "      <td>-0.002984</td>\n",
       "      <td>0.0</td>\n",
       "      <td>1.0</td>\n",
       "      <td>0.0</td>\n",
       "      <td>[59398, 5258, 28112, 28104, 26894, 54866, 2809...</td>\n",
       "      <td>[0.9108645496693389, -0.034667151208171196, -0...</td>\n",
       "      <td>[1.4568315152604039, 1.4568315347897853, 1.456...</td>\n",
       "    </tr>\n",
       "  </tbody>\n",
       "</table>\n",
       "<p>100 rows × 29 columns</p>\n",
       "</div>"
      ]
     },
     "execution_count": 511,
     "metadata": {},
     "output_type": "execute_result"
    }
   ],
   "execution_count": 511
  },
  {
   "cell_type": "code",
   "id": "e792d06aea84e6c1",
   "metadata": {
    "ExecuteTime": {
     "end_time": "2025-07-08T20:58:58.231472Z",
     "start_time": "2025-07-08T20:58:58.201923Z"
    }
   },
   "source": [
    "df_ratings.info()\n",
    "df_ratings.head(100)"
   ],
   "outputs": [
    {
     "name": "stdout",
     "output_type": "stream",
     "text": [
      "<class 'pandas.core.frame.DataFrame'>\n",
      "Index: 196886 entries, 1 to 200948\n",
      "Data columns (total 2 columns):\n",
      " #   Column  Non-Null Count   Dtype \n",
      "---  ------  --------------   ----- \n",
      " 0   pos     196886 non-null  object\n",
      " 1   neg     196886 non-null  object\n",
      "dtypes: object(2)\n",
      "memory usage: 4.5+ MB\n"
     ]
    },
    {
     "data": {
      "text/plain": [
       "                                                      pos  \\\n",
       "userId                                                      \n",
       "1       [16, 29, 31, 79, 109, 164, 174, 229, 257, 298,...   \n",
       "2       [30, 33, 38, 47, 183, 184, 205, 214, 216, 219,...   \n",
       "3       [9, 10, 16, 25, 61, 108, 148, 149, 159, 257, 2...   \n",
       "4                     [220, 1232, 2011, 2660, 2731, 3063]   \n",
       "5       [9, 108, 159, 163, 344, 351, 359, 375, 429, 44...   \n",
       "...                                                   ...   \n",
       "97      [16, 351, 359, 375, 475, 542, 582, 585, 835, 1...   \n",
       "98      [585, 878, 882, 894, 1065, 1157, 2016, 2247, 2...   \n",
       "99      [49, 109, 289, 314, 536, 585, 599, 731, 873, 1...   \n",
       "100     [0, 1, 46, 49, 257, 289, 292, 314, 352, 495, 5...   \n",
       "101     [1615, 1804, 4180, 4240, 10765, 11313, 11554, ...   \n",
       "\n",
       "                                                      neg  \n",
       "userId                                                     \n",
       "1       [24, 28, 33, 35, 108, 159, 220, 340, 351, 522,...  \n",
       "2       [151, 191, 228, 250, 292, 301, 339, 344, 461, ...  \n",
       "3       [1, 47, 139, 151, 156, 166, 183, 206, 228, 324...  \n",
       "4       [1172, 1285, 1452, 1732, 2320, 2382, 2491, 249...  \n",
       "5       [46, 148, 151, 183, 206, 228, 250, 285, 288, 2...  \n",
       "...                                                   ...  \n",
       "97      [148, 205, 206, 228, 1241, 1465, 2063, 2165, 2...  \n",
       "98          [1, 1808, 2388, 2589, 2660, 2661, 2770, 2886]  \n",
       "99                                     [292, 2747, 14840]  \n",
       "100     [4, 30, 33, 102, 148, 163, 351, 359, 372, 475,...  \n",
       "101     [607, 1500, 1986, 1987, 2286, 2577, 4758, 5258...  \n",
       "\n",
       "[100 rows x 2 columns]"
      ],
      "text/html": [
       "<div>\n",
       "<style scoped>\n",
       "    .dataframe tbody tr th:only-of-type {\n",
       "        vertical-align: middle;\n",
       "    }\n",
       "\n",
       "    .dataframe tbody tr th {\n",
       "        vertical-align: top;\n",
       "    }\n",
       "\n",
       "    .dataframe thead th {\n",
       "        text-align: right;\n",
       "    }\n",
       "</style>\n",
       "<table border=\"1\" class=\"dataframe\">\n",
       "  <thead>\n",
       "    <tr style=\"text-align: right;\">\n",
       "      <th></th>\n",
       "      <th>pos</th>\n",
       "      <th>neg</th>\n",
       "    </tr>\n",
       "    <tr>\n",
       "      <th>userId</th>\n",
       "      <th></th>\n",
       "      <th></th>\n",
       "    </tr>\n",
       "  </thead>\n",
       "  <tbody>\n",
       "    <tr>\n",
       "      <th>1</th>\n",
       "      <td>[16, 29, 31, 79, 109, 164, 174, 229, 257, 298,...</td>\n",
       "      <td>[24, 28, 33, 35, 108, 159, 220, 340, 351, 522,...</td>\n",
       "    </tr>\n",
       "    <tr>\n",
       "      <th>2</th>\n",
       "      <td>[30, 33, 38, 47, 183, 184, 205, 214, 216, 219,...</td>\n",
       "      <td>[151, 191, 228, 250, 292, 301, 339, 344, 461, ...</td>\n",
       "    </tr>\n",
       "    <tr>\n",
       "      <th>3</th>\n",
       "      <td>[9, 10, 16, 25, 61, 108, 148, 149, 159, 257, 2...</td>\n",
       "      <td>[1, 47, 139, 151, 156, 166, 183, 206, 228, 324...</td>\n",
       "    </tr>\n",
       "    <tr>\n",
       "      <th>4</th>\n",
       "      <td>[220, 1232, 2011, 2660, 2731, 3063]</td>\n",
       "      <td>[1172, 1285, 1452, 1732, 2320, 2382, 2491, 249...</td>\n",
       "    </tr>\n",
       "    <tr>\n",
       "      <th>5</th>\n",
       "      <td>[9, 108, 159, 163, 344, 351, 359, 375, 429, 44...</td>\n",
       "      <td>[46, 148, 151, 183, 206, 228, 250, 285, 288, 2...</td>\n",
       "    </tr>\n",
       "    <tr>\n",
       "      <th>...</th>\n",
       "      <td>...</td>\n",
       "      <td>...</td>\n",
       "    </tr>\n",
       "    <tr>\n",
       "      <th>97</th>\n",
       "      <td>[16, 351, 359, 375, 475, 542, 582, 585, 835, 1...</td>\n",
       "      <td>[148, 205, 206, 228, 1241, 1465, 2063, 2165, 2...</td>\n",
       "    </tr>\n",
       "    <tr>\n",
       "      <th>98</th>\n",
       "      <td>[585, 878, 882, 894, 1065, 1157, 2016, 2247, 2...</td>\n",
       "      <td>[1, 1808, 2388, 2589, 2660, 2661, 2770, 2886]</td>\n",
       "    </tr>\n",
       "    <tr>\n",
       "      <th>99</th>\n",
       "      <td>[49, 109, 289, 314, 536, 585, 599, 731, 873, 1...</td>\n",
       "      <td>[292, 2747, 14840]</td>\n",
       "    </tr>\n",
       "    <tr>\n",
       "      <th>100</th>\n",
       "      <td>[0, 1, 46, 49, 257, 289, 292, 314, 352, 495, 5...</td>\n",
       "      <td>[4, 30, 33, 102, 148, 163, 351, 359, 372, 475,...</td>\n",
       "    </tr>\n",
       "    <tr>\n",
       "      <th>101</th>\n",
       "      <td>[1615, 1804, 4180, 4240, 10765, 11313, 11554, ...</td>\n",
       "      <td>[607, 1500, 1986, 1987, 2286, 2577, 4758, 5258...</td>\n",
       "    </tr>\n",
       "  </tbody>\n",
       "</table>\n",
       "<p>100 rows × 2 columns</p>\n",
       "</div>"
      ]
     },
     "execution_count": 512,
     "metadata": {},
     "output_type": "execute_result"
    }
   ],
   "execution_count": 512
  },
  {
   "cell_type": "code",
   "id": "b6bda157",
   "metadata": {
    "ExecuteTime": {
     "end_time": "2025-07-08T20:58:58.464911Z",
     "start_time": "2025-07-08T20:58:58.434857Z"
    }
   },
   "source": [
    "df_movies.info()\n",
    "df_movies.head(100)"
   ],
   "outputs": [
    {
     "name": "stdout",
     "output_type": "stream",
     "text": [
      "<class 'pandas.core.frame.DataFrame'>\n",
      "Index: 82903 entries, 14840 to 29524\n",
      "Data columns (total 28 columns):\n",
      " #   Column               Non-Null Count  Dtype  \n",
      "---  ------               --------------  -----  \n",
      " 0   runtime              82903 non-null  float64\n",
      " 1   if_blockbuster       82903 non-null  int32  \n",
      " 2   highly_watched       82903 non-null  int32  \n",
      " 3   highly_rated         82903 non-null  int64  \n",
      " 4   engagement_score     82903 non-null  float64\n",
      " 5   cast_importance      82903 non-null  float64\n",
      " 6   director_score       82903 non-null  float64\n",
      " 7   has_keywords         82903 non-null  int64  \n",
      " 8   has_cast             82903 non-null  int64  \n",
      " 9   has_director         82903 non-null  int64  \n",
      " 10  genre_ids            82903 non-null  object \n",
      " 11  decade_[1890, 1900)  82903 non-null  bool   \n",
      " 12  decade_[1900, 1910)  82903 non-null  bool   \n",
      " 13  decade_[1910, 1920)  82903 non-null  bool   \n",
      " 14  decade_[1920, 1930)  82903 non-null  bool   \n",
      " 15  decade_[1930, 1940)  82903 non-null  bool   \n",
      " 16  decade_[1940, 1950)  82903 non-null  bool   \n",
      " 17  decade_[1950, 1960)  82903 non-null  bool   \n",
      " 18  decade_[1960, 1970)  82903 non-null  bool   \n",
      " 19  decade_[1970, 1980)  82903 non-null  bool   \n",
      " 20  decade_[1980, 1990)  82903 non-null  bool   \n",
      " 21  decade_[1990, 2000)  82903 non-null  bool   \n",
      " 22  decade_[2000, 2010)  82903 non-null  bool   \n",
      " 23  decade_[2010, 2020)  82903 non-null  bool   \n",
      " 24  decade_[2020, 2030)  82903 non-null  bool   \n",
      " 25  text_embedded        82903 non-null  object \n",
      " 26  actor_ids            82903 non-null  object \n",
      " 27  director_ids         82903 non-null  object \n",
      "dtypes: bool(14), float64(4), int32(2), int64(4), object(4)\n",
      "memory usage: 10.0+ MB\n"
     ]
    },
    {
     "data": {
      "text/plain": [
       "          runtime  if_blockbuster  highly_watched  highly_rated  \\\n",
       "movieId                                                           \n",
       "14840    1.942703               1               1             1   \n",
       "20922    2.432017               1               1             1   \n",
       "12164    2.033104               1               1             1   \n",
       "14021    2.256745               1               1             1   \n",
       "16934    1.824556               1               1             1   \n",
       "...           ...             ...             ...           ...   \n",
       "1159     1.358913               1               1             1   \n",
       "4180    -0.276998               1               1             1   \n",
       "11313    0.908975               1               1             1   \n",
       "23316    1.497997               1               1             1   \n",
       "40835    1.497997               1               1             1   \n",
       "\n",
       "         engagement_score  cast_importance  director_score  has_keywords  \\\n",
       "movieId                                                                    \n",
       "14840            4.591432         2.899632        2.653210             1   \n",
       "20922            5.199338         2.789332        2.653210             1   \n",
       "12164            5.199338         3.099369        2.653210             1   \n",
       "14021            4.123958         2.512635        2.304477             1   \n",
       "16934            5.199338         5.199338        1.817788             1   \n",
       "...                   ...              ...             ...           ...   \n",
       "1159             3.003738         1.826226        0.704639             1   \n",
       "4180             3.144047         2.695707        1.599158             1   \n",
       "11313            3.133301         1.566170        1.685018             1   \n",
       "23316            3.111676         2.686499        1.898700             1   \n",
       "40835            2.948478         2.171070        1.616840             1   \n",
       "\n",
       "         has_cast  has_director  ... decade_[1960, 1970)  decade_[1970, 1980)  \\\n",
       "movieId                          ...                                            \n",
       "14840           1             1  ...               False                False   \n",
       "20922           1             1  ...               False                False   \n",
       "12164           1             1  ...               False                False   \n",
       "14021           1             1  ...               False                False   \n",
       "16934           1             1  ...               False                False   \n",
       "...           ...           ...  ...                 ...                  ...   \n",
       "1159            1             1  ...               False                False   \n",
       "4180            1             1  ...               False                False   \n",
       "11313           1             1  ...               False                False   \n",
       "23316           1             1  ...               False                False   \n",
       "40835           1             1  ...               False                False   \n",
       "\n",
       "         decade_[1980, 1990)  decade_[1990, 2000)  decade_[2000, 2010)  \\\n",
       "movieId                                                                  \n",
       "14840                  False                False                False   \n",
       "20922                  False                False                False   \n",
       "12164                  False                False                 True   \n",
       "14021                  False                False                 True   \n",
       "16934                  False                False                False   \n",
       "...                      ...                  ...                  ...   \n",
       "1159                    True                False                False   \n",
       "4180                   False                False                 True   \n",
       "11313                  False                False                 True   \n",
       "23316                  False                False                False   \n",
       "40835                  False                False                False   \n",
       "\n",
       "         decade_[2010, 2020)  decade_[2020, 2030)  \\\n",
       "movieId                                             \n",
       "14840                   True                False   \n",
       "20922                   True                False   \n",
       "12164                  False                False   \n",
       "14021                  False                False   \n",
       "16934                   True                False   \n",
       "...                      ...                  ...   \n",
       "1159                   False                False   \n",
       "4180                   False                False   \n",
       "11313                  False                False   \n",
       "23316                   True                False   \n",
       "40835                   True                False   \n",
       "\n",
       "                                             text_embedded  \\\n",
       "movieId                                                      \n",
       "14840    [0.0008652941, 0.06077885, -0.07869467, -0.067...   \n",
       "20922    [-0.010866538, -0.01691181, -0.12693988, -0.04...   \n",
       "12164    [-0.026262647, 0.055052526, -0.08173301, -0.01...   \n",
       "14021    [0.0031084684, -0.032840427, -0.12393689, -0.0...   \n",
       "16934    [-0.015282603, 0.00047473708, -0.11172164, 0.0...   \n",
       "...                                                    ...   \n",
       "1159     [0.016825777, -0.02596536, -0.088541396, 0.058...   \n",
       "4180     [0.05683445, -0.0026107691, -0.090642, 0.01653...   \n",
       "11313    [-0.030460857, -0.0006409547, 0.00023257566, -...   \n",
       "23316    [-0.0011530533, 0.014149291, -0.10900124, -0.0...   \n",
       "40835    [0.006102059, 0.0498035, 0.012637168, 0.064914...   \n",
       "\n",
       "                               actor_ids  director_ids  \n",
       "movieId                                                 \n",
       "14840    [6454, 10631, 5457, 1952, 5950]         [797]  \n",
       "20922     [659, 7298, 4974, 10576, 5292]         [797]  \n",
       "12164     [1867, 3519, 7812, 1952, 4010]         [797]  \n",
       "14021    [11434, 9935, 7629, 9574, 3709]        [2026]  \n",
       "16934     [9686, 1839, 1834, 9161, 4923]        [2496]  \n",
       "...                                  ...           ...  \n",
       "1159             [3952, 693, 3373, 7093]        [1915]  \n",
       "4180     [2810, 1497, 7670, 10954, 5022]   [246, 4884]  \n",
       "11313    [11136, 8598, 1274, 4226, 8408]         [544]  \n",
       "23316    [9597, 7471, 7114, 2054, 10367]        [3179]  \n",
       "40835           [3021, 9461, 4375, 1488]         [909]  \n",
       "\n",
       "[100 rows x 28 columns]"
      ],
      "text/html": [
       "<div>\n",
       "<style scoped>\n",
       "    .dataframe tbody tr th:only-of-type {\n",
       "        vertical-align: middle;\n",
       "    }\n",
       "\n",
       "    .dataframe tbody tr th {\n",
       "        vertical-align: top;\n",
       "    }\n",
       "\n",
       "    .dataframe thead th {\n",
       "        text-align: right;\n",
       "    }\n",
       "</style>\n",
       "<table border=\"1\" class=\"dataframe\">\n",
       "  <thead>\n",
       "    <tr style=\"text-align: right;\">\n",
       "      <th></th>\n",
       "      <th>runtime</th>\n",
       "      <th>if_blockbuster</th>\n",
       "      <th>highly_watched</th>\n",
       "      <th>highly_rated</th>\n",
       "      <th>engagement_score</th>\n",
       "      <th>cast_importance</th>\n",
       "      <th>director_score</th>\n",
       "      <th>has_keywords</th>\n",
       "      <th>has_cast</th>\n",
       "      <th>has_director</th>\n",
       "      <th>...</th>\n",
       "      <th>decade_[1960, 1970)</th>\n",
       "      <th>decade_[1970, 1980)</th>\n",
       "      <th>decade_[1980, 1990)</th>\n",
       "      <th>decade_[1990, 2000)</th>\n",
       "      <th>decade_[2000, 2010)</th>\n",
       "      <th>decade_[2010, 2020)</th>\n",
       "      <th>decade_[2020, 2030)</th>\n",
       "      <th>text_embedded</th>\n",
       "      <th>actor_ids</th>\n",
       "      <th>director_ids</th>\n",
       "    </tr>\n",
       "    <tr>\n",
       "      <th>movieId</th>\n",
       "      <th></th>\n",
       "      <th></th>\n",
       "      <th></th>\n",
       "      <th></th>\n",
       "      <th></th>\n",
       "      <th></th>\n",
       "      <th></th>\n",
       "      <th></th>\n",
       "      <th></th>\n",
       "      <th></th>\n",
       "      <th></th>\n",
       "      <th></th>\n",
       "      <th></th>\n",
       "      <th></th>\n",
       "      <th></th>\n",
       "      <th></th>\n",
       "      <th></th>\n",
       "      <th></th>\n",
       "      <th></th>\n",
       "      <th></th>\n",
       "      <th></th>\n",
       "    </tr>\n",
       "  </thead>\n",
       "  <tbody>\n",
       "    <tr>\n",
       "      <th>14840</th>\n",
       "      <td>1.942703</td>\n",
       "      <td>1</td>\n",
       "      <td>1</td>\n",
       "      <td>1</td>\n",
       "      <td>4.591432</td>\n",
       "      <td>2.899632</td>\n",
       "      <td>2.653210</td>\n",
       "      <td>1</td>\n",
       "      <td>1</td>\n",
       "      <td>1</td>\n",
       "      <td>...</td>\n",
       "      <td>False</td>\n",
       "      <td>False</td>\n",
       "      <td>False</td>\n",
       "      <td>False</td>\n",
       "      <td>False</td>\n",
       "      <td>True</td>\n",
       "      <td>False</td>\n",
       "      <td>[0.0008652941, 0.06077885, -0.07869467, -0.067...</td>\n",
       "      <td>[6454, 10631, 5457, 1952, 5950]</td>\n",
       "      <td>[797]</td>\n",
       "    </tr>\n",
       "    <tr>\n",
       "      <th>20922</th>\n",
       "      <td>2.432017</td>\n",
       "      <td>1</td>\n",
       "      <td>1</td>\n",
       "      <td>1</td>\n",
       "      <td>5.199338</td>\n",
       "      <td>2.789332</td>\n",
       "      <td>2.653210</td>\n",
       "      <td>1</td>\n",
       "      <td>1</td>\n",
       "      <td>1</td>\n",
       "      <td>...</td>\n",
       "      <td>False</td>\n",
       "      <td>False</td>\n",
       "      <td>False</td>\n",
       "      <td>False</td>\n",
       "      <td>False</td>\n",
       "      <td>True</td>\n",
       "      <td>False</td>\n",
       "      <td>[-0.010866538, -0.01691181, -0.12693988, -0.04...</td>\n",
       "      <td>[659, 7298, 4974, 10576, 5292]</td>\n",
       "      <td>[797]</td>\n",
       "    </tr>\n",
       "    <tr>\n",
       "      <th>12164</th>\n",
       "      <td>2.033104</td>\n",
       "      <td>1</td>\n",
       "      <td>1</td>\n",
       "      <td>1</td>\n",
       "      <td>5.199338</td>\n",
       "      <td>3.099369</td>\n",
       "      <td>2.653210</td>\n",
       "      <td>1</td>\n",
       "      <td>1</td>\n",
       "      <td>1</td>\n",
       "      <td>...</td>\n",
       "      <td>False</td>\n",
       "      <td>False</td>\n",
       "      <td>False</td>\n",
       "      <td>False</td>\n",
       "      <td>True</td>\n",
       "      <td>False</td>\n",
       "      <td>False</td>\n",
       "      <td>[-0.026262647, 0.055052526, -0.08173301, -0.01...</td>\n",
       "      <td>[1867, 3519, 7812, 1952, 4010]</td>\n",
       "      <td>[797]</td>\n",
       "    </tr>\n",
       "    <tr>\n",
       "      <th>14021</th>\n",
       "      <td>2.256745</td>\n",
       "      <td>1</td>\n",
       "      <td>1</td>\n",
       "      <td>1</td>\n",
       "      <td>4.123958</td>\n",
       "      <td>2.512635</td>\n",
       "      <td>2.304477</td>\n",
       "      <td>1</td>\n",
       "      <td>1</td>\n",
       "      <td>1</td>\n",
       "      <td>...</td>\n",
       "      <td>False</td>\n",
       "      <td>False</td>\n",
       "      <td>False</td>\n",
       "      <td>False</td>\n",
       "      <td>True</td>\n",
       "      <td>False</td>\n",
       "      <td>False</td>\n",
       "      <td>[0.0031084684, -0.032840427, -0.12393689, -0.0...</td>\n",
       "      <td>[11434, 9935, 7629, 9574, 3709]</td>\n",
       "      <td>[2026]</td>\n",
       "    </tr>\n",
       "    <tr>\n",
       "      <th>16934</th>\n",
       "      <td>1.824556</td>\n",
       "      <td>1</td>\n",
       "      <td>1</td>\n",
       "      <td>1</td>\n",
       "      <td>5.199338</td>\n",
       "      <td>5.199338</td>\n",
       "      <td>1.817788</td>\n",
       "      <td>1</td>\n",
       "      <td>1</td>\n",
       "      <td>1</td>\n",
       "      <td>...</td>\n",
       "      <td>False</td>\n",
       "      <td>False</td>\n",
       "      <td>False</td>\n",
       "      <td>False</td>\n",
       "      <td>False</td>\n",
       "      <td>True</td>\n",
       "      <td>False</td>\n",
       "      <td>[-0.015282603, 0.00047473708, -0.11172164, 0.0...</td>\n",
       "      <td>[9686, 1839, 1834, 9161, 4923]</td>\n",
       "      <td>[2496]</td>\n",
       "    </tr>\n",
       "    <tr>\n",
       "      <th>...</th>\n",
       "      <td>...</td>\n",
       "      <td>...</td>\n",
       "      <td>...</td>\n",
       "      <td>...</td>\n",
       "      <td>...</td>\n",
       "      <td>...</td>\n",
       "      <td>...</td>\n",
       "      <td>...</td>\n",
       "      <td>...</td>\n",
       "      <td>...</td>\n",
       "      <td>...</td>\n",
       "      <td>...</td>\n",
       "      <td>...</td>\n",
       "      <td>...</td>\n",
       "      <td>...</td>\n",
       "      <td>...</td>\n",
       "      <td>...</td>\n",
       "      <td>...</td>\n",
       "      <td>...</td>\n",
       "      <td>...</td>\n",
       "      <td>...</td>\n",
       "    </tr>\n",
       "    <tr>\n",
       "      <th>1159</th>\n",
       "      <td>1.358913</td>\n",
       "      <td>1</td>\n",
       "      <td>1</td>\n",
       "      <td>1</td>\n",
       "      <td>3.003738</td>\n",
       "      <td>1.826226</td>\n",
       "      <td>0.704639</td>\n",
       "      <td>1</td>\n",
       "      <td>1</td>\n",
       "      <td>1</td>\n",
       "      <td>...</td>\n",
       "      <td>False</td>\n",
       "      <td>False</td>\n",
       "      <td>True</td>\n",
       "      <td>False</td>\n",
       "      <td>False</td>\n",
       "      <td>False</td>\n",
       "      <td>False</td>\n",
       "      <td>[0.016825777, -0.02596536, -0.088541396, 0.058...</td>\n",
       "      <td>[3952, 693, 3373, 7093]</td>\n",
       "      <td>[1915]</td>\n",
       "    </tr>\n",
       "    <tr>\n",
       "      <th>4180</th>\n",
       "      <td>-0.276998</td>\n",
       "      <td>1</td>\n",
       "      <td>1</td>\n",
       "      <td>1</td>\n",
       "      <td>3.144047</td>\n",
       "      <td>2.695707</td>\n",
       "      <td>1.599158</td>\n",
       "      <td>1</td>\n",
       "      <td>1</td>\n",
       "      <td>1</td>\n",
       "      <td>...</td>\n",
       "      <td>False</td>\n",
       "      <td>False</td>\n",
       "      <td>False</td>\n",
       "      <td>False</td>\n",
       "      <td>True</td>\n",
       "      <td>False</td>\n",
       "      <td>False</td>\n",
       "      <td>[0.05683445, -0.0026107691, -0.090642, 0.01653...</td>\n",
       "      <td>[2810, 1497, 7670, 10954, 5022]</td>\n",
       "      <td>[246, 4884]</td>\n",
       "    </tr>\n",
       "    <tr>\n",
       "      <th>11313</th>\n",
       "      <td>0.908975</td>\n",
       "      <td>1</td>\n",
       "      <td>1</td>\n",
       "      <td>1</td>\n",
       "      <td>3.133301</td>\n",
       "      <td>1.566170</td>\n",
       "      <td>1.685018</td>\n",
       "      <td>1</td>\n",
       "      <td>1</td>\n",
       "      <td>1</td>\n",
       "      <td>...</td>\n",
       "      <td>False</td>\n",
       "      <td>False</td>\n",
       "      <td>False</td>\n",
       "      <td>False</td>\n",
       "      <td>True</td>\n",
       "      <td>False</td>\n",
       "      <td>False</td>\n",
       "      <td>[-0.030460857, -0.0006409547, 0.00023257566, -...</td>\n",
       "      <td>[11136, 8598, 1274, 4226, 8408]</td>\n",
       "      <td>[544]</td>\n",
       "    </tr>\n",
       "    <tr>\n",
       "      <th>23316</th>\n",
       "      <td>1.497997</td>\n",
       "      <td>1</td>\n",
       "      <td>1</td>\n",
       "      <td>1</td>\n",
       "      <td>3.111676</td>\n",
       "      <td>2.686499</td>\n",
       "      <td>1.898700</td>\n",
       "      <td>1</td>\n",
       "      <td>1</td>\n",
       "      <td>1</td>\n",
       "      <td>...</td>\n",
       "      <td>False</td>\n",
       "      <td>False</td>\n",
       "      <td>False</td>\n",
       "      <td>False</td>\n",
       "      <td>False</td>\n",
       "      <td>True</td>\n",
       "      <td>False</td>\n",
       "      <td>[-0.0011530533, 0.014149291, -0.10900124, -0.0...</td>\n",
       "      <td>[9597, 7471, 7114, 2054, 10367]</td>\n",
       "      <td>[3179]</td>\n",
       "    </tr>\n",
       "    <tr>\n",
       "      <th>40835</th>\n",
       "      <td>1.497997</td>\n",
       "      <td>1</td>\n",
       "      <td>1</td>\n",
       "      <td>1</td>\n",
       "      <td>2.948478</td>\n",
       "      <td>2.171070</td>\n",
       "      <td>1.616840</td>\n",
       "      <td>1</td>\n",
       "      <td>1</td>\n",
       "      <td>1</td>\n",
       "      <td>...</td>\n",
       "      <td>False</td>\n",
       "      <td>False</td>\n",
       "      <td>False</td>\n",
       "      <td>False</td>\n",
       "      <td>False</td>\n",
       "      <td>True</td>\n",
       "      <td>False</td>\n",
       "      <td>[0.006102059, 0.0498035, 0.012637168, 0.064914...</td>\n",
       "      <td>[3021, 9461, 4375, 1488]</td>\n",
       "      <td>[909]</td>\n",
       "    </tr>\n",
       "  </tbody>\n",
       "</table>\n",
       "<p>100 rows × 28 columns</p>\n",
       "</div>"
      ]
     },
     "execution_count": 513,
     "metadata": {},
     "output_type": "execute_result"
    }
   ],
   "execution_count": 513
  },
  {
   "cell_type": "code",
   "id": "fac26244",
   "metadata": {
    "ExecuteTime": {
     "end_time": "2025-07-08T20:58:58.825914Z",
     "start_time": "2025-07-08T20:58:58.811382Z"
    }
   },
   "source": [
    "'''\n",
    "Do szybkich testow z mniejsza iloscia danych\n",
    "'''\n",
    "DEBUG = False\n",
    "\n",
    "if DEBUG:\n",
    "    df_users = df_users.sample(n=196886, random_state=213).copy()\n",
    "\n",
    "    mask = df_ratings.index.isin(df_users['userId'])\n",
    "    df_ratings = df_ratings[mask].copy()\n",
    "\n",
    "    # used_movie_ids = set(df_users['movies_seq'].explode()) \\\n",
    "    #                | set(df_ratings['pos'].explode()) \\\n",
    "    #                | set(df_ratings['neg'].explode())\n",
    "    # df_movies = df_movies[df_movies.index.isin(used_movie_ids)].copy()\n",
    "\n",
    "movie_to_local = {mid: i for i, mid in enumerate(df_movies.index)}\n",
    "local_to_movie = list(df_movies.index)"
   ],
   "outputs": [],
   "execution_count": 514
  },
  {
   "cell_type": "code",
   "id": "14754cb6500f71a9",
   "metadata": {
    "ExecuteTime": {
     "end_time": "2025-07-08T20:58:59.371156Z",
     "start_time": "2025-07-08T20:58:59.278461Z"
    }
   },
   "source": [
    "df_movies.info()\n",
    "df_ratings.info()\n",
    "df_users.info()"
   ],
   "outputs": [
    {
     "name": "stdout",
     "output_type": "stream",
     "text": [
      "<class 'pandas.core.frame.DataFrame'>\n",
      "Index: 82903 entries, 14840 to 29524\n",
      "Data columns (total 28 columns):\n",
      " #   Column               Non-Null Count  Dtype  \n",
      "---  ------               --------------  -----  \n",
      " 0   runtime              82903 non-null  float64\n",
      " 1   if_blockbuster       82903 non-null  int32  \n",
      " 2   highly_watched       82903 non-null  int32  \n",
      " 3   highly_rated         82903 non-null  int64  \n",
      " 4   engagement_score     82903 non-null  float64\n",
      " 5   cast_importance      82903 non-null  float64\n",
      " 6   director_score       82903 non-null  float64\n",
      " 7   has_keywords         82903 non-null  int64  \n",
      " 8   has_cast             82903 non-null  int64  \n",
      " 9   has_director         82903 non-null  int64  \n",
      " 10  genre_ids            82903 non-null  object \n",
      " 11  decade_[1890, 1900)  82903 non-null  bool   \n",
      " 12  decade_[1900, 1910)  82903 non-null  bool   \n",
      " 13  decade_[1910, 1920)  82903 non-null  bool   \n",
      " 14  decade_[1920, 1930)  82903 non-null  bool   \n",
      " 15  decade_[1930, 1940)  82903 non-null  bool   \n",
      " 16  decade_[1940, 1950)  82903 non-null  bool   \n",
      " 17  decade_[1950, 1960)  82903 non-null  bool   \n",
      " 18  decade_[1960, 1970)  82903 non-null  bool   \n",
      " 19  decade_[1970, 1980)  82903 non-null  bool   \n",
      " 20  decade_[1980, 1990)  82903 non-null  bool   \n",
      " 21  decade_[1990, 2000)  82903 non-null  bool   \n",
      " 22  decade_[2000, 2010)  82903 non-null  bool   \n",
      " 23  decade_[2010, 2020)  82903 non-null  bool   \n",
      " 24  decade_[2020, 2030)  82903 non-null  bool   \n",
      " 25  text_embedded        82903 non-null  object \n",
      " 26  actor_ids            82903 non-null  object \n",
      " 27  director_ids         82903 non-null  object \n",
      "dtypes: bool(14), float64(4), int32(2), int64(4), object(4)\n",
      "memory usage: 10.0+ MB\n",
      "<class 'pandas.core.frame.DataFrame'>\n",
      "Index: 196886 entries, 1 to 200948\n",
      "Data columns (total 2 columns):\n",
      " #   Column  Non-Null Count   Dtype \n",
      "---  ------  --------------   ----- \n",
      " 0   pos     196886 non-null  object\n",
      " 1   neg     196886 non-null  object\n",
      "dtypes: object(2)\n",
      "memory usage: 4.5+ MB\n",
      "<class 'pandas.core.frame.DataFrame'>\n",
      "RangeIndex: 196886 entries, 0 to 196885\n",
      "Data columns (total 29 columns):\n",
      " #   Column                   Non-Null Count   Dtype  \n",
      "---  ------                   --------------   -----  \n",
      " 0   userId                   196886 non-null  int64  \n",
      " 1   num_rating               196886 non-null  float64\n",
      " 2   avg_rating               196886 non-null  float64\n",
      " 3   weekend_watcher          196886 non-null  float64\n",
      " 4   genre_Action             196886 non-null  float64\n",
      " 5   genre_Adventure          196886 non-null  float64\n",
      " 6   genre_Animation          196886 non-null  float64\n",
      " 7   genre_Comedy             196886 non-null  float64\n",
      " 8   genre_Crime              196886 non-null  float64\n",
      " 9   genre_Documentary        196886 non-null  float64\n",
      " 10  genre_Drama              196886 non-null  float64\n",
      " 11  genre_Family             196886 non-null  float64\n",
      " 12  genre_Fantasy            196886 non-null  float64\n",
      " 13  genre_History            196886 non-null  float64\n",
      " 14  genre_Horror             196886 non-null  float64\n",
      " 15  genre_Music              196886 non-null  float64\n",
      " 16  genre_Mystery            196886 non-null  float64\n",
      " 17  genre_Romance            196886 non-null  float64\n",
      " 18  genre_Science Fiction    196886 non-null  float64\n",
      " 19  genre_TV Movie           196886 non-null  float64\n",
      " 20  genre_Thriller           196886 non-null  float64\n",
      " 21  genre_War                196886 non-null  float64\n",
      " 22  genre_Western            196886 non-null  float64\n",
      " 23  type_of_viewer_negative  196886 non-null  float64\n",
      " 24  type_of_viewer_neutral   196886 non-null  float64\n",
      " 25  type_of_viewer_positive  196886 non-null  float64\n",
      " 26  movies_seq               196886 non-null  object \n",
      " 27  ratings_seq              196886 non-null  object \n",
      " 28  ts_seq                   196886 non-null  object \n",
      "dtypes: float64(25), int64(1), object(3)\n",
      "memory usage: 43.6+ MB\n"
     ]
    }
   ],
   "execution_count": 515
  },
  {
   "cell_type": "markdown",
   "id": "20b13867",
   "metadata": {},
   "source": [
    "# Przygotowanie danych do uczenia -> do gotowych batchy"
   ]
  },
  {
   "cell_type": "code",
   "id": "1383e46f",
   "metadata": {
    "ExecuteTime": {
     "end_time": "2025-07-08T20:58:59.791624Z",
     "start_time": "2025-07-08T20:58:59.683022Z"
    }
   },
   "source": [
    "# For padding 'global max len'\n",
    "\n",
    "max_len_a = int(df_movies['actor_ids'].str.len().max())\n",
    "max_len_d = int(df_movies['director_ids'].str.len().max())\n",
    "max_len_g = int(df_movies['genre_ids'].str.len().max())"
   ],
   "outputs": [],
   "execution_count": 516
  },
  {
   "cell_type": "code",
   "id": "a122619e92e895a2",
   "metadata": {
    "ExecuteTime": {
     "end_time": "2025-07-08T20:59:00.058628Z",
     "start_time": "2025-07-08T20:58:59.964980Z"
    }
   },
   "source": [
    "# For nn.Embeedings usage in Item Tower\n",
    "all_actor_ids = list(chain.from_iterable(df_movies['actor_ids']))\n",
    "num_actors = max(all_actor_ids) + 1\n",
    "\n",
    "all_director_ids = list(chain.from_iterable(df_movies['director_ids']))\n",
    "num_directors = max(all_director_ids) + 1\n",
    "\n",
    "all_genre_ids = list(chain.from_iterable(df_movies['genre_ids']))\n",
    "num_genres = max(all_genre_ids) + 1\n",
    "\n",
    "print(num_actors, num_directors, num_genres)"
   ],
   "outputs": [
    {
     "name": "stdout",
     "output_type": "stream",
     "text": [
      "11465 5163 20\n"
     ]
    }
   ],
   "execution_count": 517
  },
  {
   "cell_type": "code",
   "id": "6350754f",
   "metadata": {
    "ExecuteTime": {
     "end_time": "2025-07-08T20:59:00.260396Z",
     "start_time": "2025-07-08T20:59:00.245383Z"
    }
   },
   "source": [
    "def collect_user_features(u):\n",
    "        \"\"\"\n",
    "        Zwraca cztery tensory: movies_seq, ratings_seq, ts_seq, user_stats\n",
    "        \"\"\"\n",
    "        movies_seq  = torch.tensor(u['movies_seq'], dtype=torch.long)\n",
    "        ratings_seq = torch.tensor(u['ratings_seq'], dtype=torch.float32)\n",
    "        ts_seq      = torch.tensor(u['ts_seq'], dtype=torch.float32)\n",
    "       \n",
    "        stats_cols  = [c for c in u.index if c.startswith(('num_rating','avg_rating','weekend_watcher','genre_','type_of_viewer_'))]\n",
    "        user_stats  = torch.tensor(u[stats_cols]\n",
    "                                        .astype('float32').values,dtype=torch.float32)\n",
    "\n",
    "        return movies_seq, ratings_seq, ts_seq, user_stats"
   ],
   "outputs": [],
   "execution_count": 518
  },
  {
   "cell_type": "code",
   "id": "b5887255",
   "metadata": {
    "ExecuteTime": {
     "end_time": "2025-07-08T20:59:00.448243Z",
     "start_time": "2025-07-08T20:59:00.433677Z"
    }
   },
   "source": [
    "def collect_movie_features(m, max_len_a, max_len_d, max_len_g):\n",
    "        \"\"\"\n",
    "        Zwraca cztery tensory: combined, actor_ids, director_ids, genre_ids\n",
    "        \"\"\"\n",
    "        numeric = [\n",
    "            m.runtime,\n",
    "            m.engagement_score,\n",
    "            m.cast_importance,\n",
    "            m.director_score,\n",
    "        ]\n",
    "        binary = [\n",
    "            m.if_blockbuster,\n",
    "            m.highly_watched,\n",
    "            m.highly_rated,\n",
    "            m.has_keywords,\n",
    "            m.has_cast,\n",
    "            m.has_director,\n",
    "        ]\n",
    "        decades = (m[[c for c in m.index if c.startswith('decade_')]]\n",
    "                   .astype(int)\n",
    "                   .tolist())\n",
    "\n",
    "        dense_feats = torch.tensor(numeric + binary + decades, dtype=torch.float32)\n",
    "        text_emb = torch.tensor(m.text_embedded, dtype=torch.float32)\n",
    "\n",
    "        def pad(seq, L):\n",
    "            seq_list = list(seq) if not isinstance(seq, list) else seq\n",
    "            padded = seq_list[:L] + [0] * max(0, L - len(seq_list))\n",
    "            return torch.tensor(padded, dtype=torch.long)\n",
    "\n",
    "        actor_ids    = pad(m.actor_ids,    max_len_a)\n",
    "        director_ids = pad(m.director_ids, max_len_d)\n",
    "        genre_ids    = pad(m.genre_ids,    max_len_g)\n",
    "\n",
    "        return dense_feats, text_emb, actor_ids, director_ids, genre_ids"
   ],
   "outputs": [],
   "execution_count": 519
  },
  {
   "cell_type": "code",
   "id": "362ed5d9",
   "metadata": {
    "ExecuteTime": {
     "end_time": "2025-07-08T20:59:25.770091Z",
     "start_time": "2025-07-08T20:59:00.589387Z"
    }
   },
   "source": [
    "import faiss\n",
    "'''\n",
    "Do zbudowania macierzy embeedingow dla FAISS, do szyukania najblizszych sasiadow\n",
    "'''\n",
    "\n",
    "# unique_ids = df_movies.index.tolist()\n",
    "movie_vecs = []\n",
    "\n",
    "for m_id in df_movies.index:\n",
    "    dense_feats, text_emb, *_ = collect_movie_features(\n",
    "        df_movies.loc[m_id],\n",
    "        max_len_a, max_len_d, max_len_g\n",
    "    )\n",
    "    combined = torch.cat([dense_feats, text_emb], dim=0)\n",
    "    # normalizujemy L2 na potrzeby FAISS cosinusowego (wyplaszczanie)\n",
    "    movie_vecs.append(F.normalize(combined, dim=0))\n",
    "\n",
    "movie_matrix = torch.stack(movie_vecs)  # macierz [n_movies, D]\n",
    "movie_matrix_np = movie_matrix.cpu().numpy().astype('float32')\n",
    "# FAISS IP po L2-normalizacji = cosine similarity\n",
    "faiss_index = faiss.IndexFlatIP(movie_matrix_np.shape[1])\n",
    "faiss_index.add(movie_matrix_np)"
   ],
   "outputs": [],
   "execution_count": 520
  },
  {
   "cell_type": "code",
   "id": "21672045",
   "metadata": {
    "ExecuteTime": {
     "end_time": "2025-07-08T20:59:25.785617Z",
     "start_time": "2025-07-08T20:59:25.781610Z"
    }
   },
   "source": [
    "# DO OCENY I EWENTUALNYCH ZMIAN\n",
    "def find_negative(pos_id, user_negs, k, top_k=200):\n",
    "    \"\"\"\n",
    "    Dla danego pozytywu (pos_id) szuka w FAISS najbliższego negatywu z listy user_negs. Jeśli żaden z top_k nie należy do user_negs to fallback = losowy wybór z user_negs.\n",
    "    \"\"\"\n",
    "    local_pos = movie_to_local[pos_id]\n",
    "\n",
    "    # Zakladamy co najmniej jeden pos_id\n",
    "    _, I = faiss_index.search(movie_matrix_np[local_pos].reshape(1, -1), top_k)\n",
    "\n",
    "    negs = []\n",
    "    for candidate in I[0]:\n",
    "        global_candidate = local_to_movie[candidate]\n",
    "        if global_candidate in user_negs and global_candidate not in negs:\n",
    "            negs.append(global_candidate)\n",
    "            if len(negs) == k:\n",
    "                return negs\n",
    "\n",
    "    top_candidates = [local_to_movie[i] for i in I[0] if local_to_movie[i] not in negs]\n",
    "    to_add = random.sample(\n",
    "        top_candidates if top_candidates else list(user_negs),\n",
    "        k - len(negs)\n",
    "    )\n",
    "    negs.extend(to_add)\n",
    "    return negs"
   ],
   "outputs": [],
   "execution_count": 521
  },
  {
   "cell_type": "code",
   "id": "e33d13a7b282e485",
   "metadata": {
    "ExecuteTime": {
     "end_time": "2025-07-08T20:59:26.083005Z",
     "start_time": "2025-07-08T20:59:26.068686Z"
    }
   },
   "source": [
    "def find_negative_mixed(pos_id, user_negs, k, top_k=200, hard_frac=0.5):\n",
    "    \"\"\"\n",
    "    Zwraca K negatywów:\n",
    "     - k_h = int(k * hard_frac) twardych z FAISS\n",
    "     - k_r = k-k_h losowych z całego zbioru użytkownika\n",
    "    \"\"\"\n",
    "    if len(user_negs) <= k:\n",
    "        return random.choices(list(user_negs), k=k)\n",
    "\n",
    "    k_h = int(k * hard_frac)\n",
    "    k_r = k - k_h\n",
    "\n",
    "    local_pos = movie_to_local[pos_id]\n",
    "    _, I = faiss_index.search(movie_matrix_np[local_pos].reshape(1, -1), top_k)\n",
    "    hard_cands = [\n",
    "        local_to_movie[i] for i in I[0]\n",
    "        if local_to_movie[i] in user_negs\n",
    "    ]\n",
    "    hard = random.sample(hard_cands, min(k_h, len(hard_cands)))\n",
    "\n",
    "    remaining = list(user_negs - set(hard))\n",
    "    rand = random.sample(remaining, min(k_r, len(remaining)))\n",
    "\n",
    "    all_negs = hard + rand\n",
    "\n",
    "    if len(all_negs) < k:\n",
    "        more = list(user_negs - set(all_negs))\n",
    "        add_n = min(k - len(all_negs), len(more))\n",
    "        all_negs.extend(random.sample(more, add_n))\n",
    "\n",
    "    return all_negs"
   ],
   "outputs": [],
   "execution_count": 522
  },
  {
   "cell_type": "code",
   "id": "9e5822915a4c74eb",
   "metadata": {
    "ExecuteTime": {
     "end_time": "2025-07-08T20:59:28.282491Z",
     "start_time": "2025-07-08T20:59:26.224528Z"
    }
   },
   "source": [
    "import collections\n",
    "\n",
    "user_id = df_ratings.index[0]\n",
    "pos_id = df_ratings.at[user_id, 'pos'][0]\n",
    "neg_set = set(df_ratings.at[user_id, 'neg'])\n",
    "\n",
    "k = 5\n",
    "top_k = 100\n",
    "trials = 1000\n",
    "\n",
    "samples = [find_negative_mixed(pos_id, neg_set, k=k, top_k=top_k) for _ in range(trials)]\n",
    "\n",
    "flat = [nid for sublist in samples for nid in sublist]\n",
    "counter = collections.Counter(flat)\n",
    "\n",
    "df_counts = pd.DataFrame(counter.items(), columns=['movie_id', 'count']).sort_values('count', ascending=False)\n",
    "\n",
    "print(\"NEG: \", df_counts)"
   ],
   "outputs": [
    {
     "name": "stdout",
     "output_type": "stream",
     "text": [
      "NEG:      movie_id  count\n",
      "1       1694    431\n",
      "9       2316    431\n",
      "0       2161    429\n",
      "10      1820    428\n",
      "5       2602    419\n",
      "36      1314     76\n",
      "34      1964     67\n",
      "2       1263     66\n",
      "22      1713     65\n",
      "48        28     64\n",
      "18      1360     63\n",
      "49      1961     62\n",
      "14      2394     62\n",
      "42      1160     61\n",
      "11      2005     61\n",
      "26       108     60\n",
      "38      1841     60\n",
      "46      2580     59\n",
      "3       2299     59\n",
      "23        24     57\n",
      "30      2216     56\n",
      "27        35     55\n",
      "39      2126     55\n",
      "52       599     55\n",
      "47      2244     54\n",
      "45      1862     54\n",
      "15      1255     54\n",
      "7       2137     54\n",
      "33       351     54\n",
      "24       220     53\n",
      "50       812     53\n",
      "53      1167     53\n",
      "56       585     53\n",
      "35       945     53\n",
      "29      2966     52\n",
      "32       886     52\n",
      "20      2204     52\n",
      "6       1173     52\n",
      "28      1137     52\n",
      "21      1857     52\n",
      "17      1172     52\n",
      "40      1202     51\n",
      "12      2771     51\n",
      "8       1086     50\n",
      "51      1102     50\n",
      "57        33     50\n",
      "31      1925     48\n",
      "44       522     48\n",
      "54      1236     48\n",
      "55      2976     48\n",
      "13      1048     47\n",
      "37      1162     47\n",
      "19       340     47\n",
      "4       2855     46\n",
      "16      1031     45\n",
      "43       159     44\n",
      "41      2614     42\n",
      "25      1858     38\n"
     ]
    }
   ],
   "execution_count": 523
  },
  {
   "cell_type": "code",
   "id": "27555ae06e59b157",
   "metadata": {
    "ExecuteTime": {
     "end_time": "2025-07-08T20:59:28.469945Z",
     "start_time": "2025-07-08T20:59:28.455421Z"
    }
   },
   "source": [
    "class UserOnlyDataset(Dataset):\n",
    "    def __init__(self, df_users):\n",
    "        self.df_users = df_users.reset_index(drop=True)\n",
    "\n",
    "    def __len__(self):\n",
    "        return len(self.df_users)\n",
    "\n",
    "    def __getitem__(self, idx):\n",
    "        u_row = self.df_users.iloc[idx]\n",
    "        movies_seq, ratings_seq, ts_seq, user_stats = collect_user_features(u_row)\n",
    "        return {\n",
    "            'user': {\n",
    "                'user_statistics': user_stats,\n",
    "                'movies': movies_seq,\n",
    "                'ratings': ratings_seq,\n",
    "                'times': ts_seq,\n",
    "            }\n",
    "        }"
   ],
   "outputs": [],
   "execution_count": 524
  },
  {
   "cell_type": "code",
   "id": "33c4551ad061318a",
   "metadata": {
    "ExecuteTime": {
     "end_time": "2025-07-08T20:59:28.705631Z",
     "start_time": "2025-07-08T20:59:28.690612Z"
    }
   },
   "source": [
    "class MovieDataset(Dataset):\n",
    "    '''\n",
    "    Potrzebny do stworzenia matrix-a pod LOOCV\n",
    "    '''\n",
    "    def __init__(self, df_movies):\n",
    "        self.df = df_movies\n",
    "    def __len__(self):\n",
    "        return len(self.df)\n",
    "    def __getitem__(self, idx):\n",
    "        m = self.df.iloc[idx]\n",
    "        return collect_movie_features(m, max_len_a, max_len_d, max_len_g)"
   ],
   "outputs": [],
   "execution_count": 525
  },
  {
   "cell_type": "code",
   "id": "f6de762ef40bfc32",
   "metadata": {
    "ExecuteTime": {
     "end_time": "2025-07-08T20:59:28.911447Z",
     "start_time": "2025-07-08T20:59:28.896421Z"
    }
   },
   "source": [
    "class TwoTowerDataset(Dataset):\n",
    "\n",
    "    def __init__(self, df_users, df_ratings, df_movies):\n",
    "        self.df_users = df_users.reset_index(drop=True)\n",
    "        self.df_ratings = df_ratings\n",
    "        self.df_movies = df_movies\n",
    "\n",
    "    def __len__(self):\n",
    "        return len(self.df_users)\n",
    "\n",
    "    def __getitem__(self, idx):\n",
    "        # User features\n",
    "        u_row = self.df_users.iloc[idx]\n",
    "        movies_seq, ratings_seq, ts_seq, user_stats = collect_user_features(u_row)\n",
    "        user_id = u_row['userId']\n",
    "\n",
    "        pos_list = self.df_ratings.at[user_id, 'pos']\n",
    "        neg_list = self.df_ratings.at[user_id, 'neg']\n",
    "\n",
    "        #BPR\n",
    "        pos_id = random.choice(pos_list)\n",
    "        # neg_id = find_negative(pos_id,set(neg_list))\n",
    "        k = 2 # Liczba negatywow\n",
    "        # neg_ids = find_negative_mixed(pos_id, set(neg_list), k)\n",
    "\n",
    "        # Szybki test na randomowych\n",
    "        if len(neg_list) >= 2:\n",
    "            neg_ids = random.sample(neg_list, k=2)\n",
    "        else:\n",
    "            neg_ids = random.choices(neg_list, k=2)\n",
    "\n",
    "        assert pos_id not in neg_ids, \"Wylosowałeś negatyw równy pozytywowi!\"\n",
    "        assert len(neg_ids) == k,      \"Zła liczba negatywów\"\n",
    "        # assert len(set(neg_ids)) == k, \"Duplikaty wśród negatywów\"\n",
    "\n",
    "        m_pos = self.df_movies.loc[pos_id]\n",
    "        pos_feats, pos_text, pos_actors, pos_directors, pos_genres = collect_movie_features(m_pos, max_len_a, max_len_d, max_len_g)\n",
    "\n",
    "        # m_neg = self.df_movies.loc[neg_id]\n",
    "        # neg_feats, neg_text, neg_actors, neg_directors, neg_genres = collect_movie_features(m_neg, max_len_a, max_len_d, max_len_g)\n",
    "\n",
    "        neg_feats_list, neg_text_list, neg_actor_list, neg_director_list, neg_genre_list = [], [], [], [], []\n",
    "        for nid in neg_ids:\n",
    "            m_neg = self.df_movies.loc[nid]\n",
    "            nf, nt, na, nd, ng = collect_movie_features(m_neg, max_len_a, max_len_d, max_len_g)\n",
    "            neg_feats_list.append(nf)\n",
    "            neg_text_list.append(nt)\n",
    "            neg_actor_list.append(na)\n",
    "            neg_director_list.append(nd)\n",
    "            neg_genre_list.append(ng)\n",
    "\n",
    "        return {\n",
    "            'user': {\n",
    "                'user_statistics': user_stats,\n",
    "                'movies': movies_seq,\n",
    "                'ratings': ratings_seq,\n",
    "                'times': ts_seq,\n",
    "            },\n",
    "            'pos_item': {\n",
    "                'dense_features': pos_feats,\n",
    "                'text_embedding': pos_text,\n",
    "                'actor_ids': pos_actors,\n",
    "                'director_ids': pos_directors,\n",
    "                'genre_ids': pos_genres,\n",
    "            },\n",
    "            # 'neg_item': {\n",
    "            #     'dense_features': neg_feats,\n",
    "            #     'text_embedding': neg_text,\n",
    "            #     'actor_ids': neg_actors,\n",
    "            #     'director_ids': neg_directors,\n",
    "            #     'genre_ids': neg_genres,\n",
    "            # }\n",
    "            'neg_item': {\n",
    "                'dense_features':  torch.stack(neg_feats_list),    # [k, dense_feat_dim]\n",
    "                'text_embedding':  torch.stack(neg_text_list),     # [k, text_emb_dim]\n",
    "                'actor_ids':       torch.stack(neg_actor_list),    # [k, max_len_a]\n",
    "                'director_ids':    torch.stack(neg_director_list), # [k, max_len_d]\n",
    "                'genre_ids':       torch.stack(neg_genre_list),    # [k, max_len_g]\n",
    "            }\n",
    "        }"
   ],
   "outputs": [],
   "execution_count": 526
  },
  {
   "cell_type": "code",
   "id": "15c05dcc20dd43bd",
   "metadata": {
    "ExecuteTime": {
     "end_time": "2025-07-08T20:59:29.115389Z",
     "start_time": "2025-07-08T20:59:29.085241Z"
    }
   },
   "source": [
    "'''\n",
    "TEST DATASETU I ODPOWIEDNIEGO OUTPUTU POJEDYNCZEGO OBIEKTU GET_ITEM\n",
    "'''\n",
    "dataset_test = TwoTowerDataset(df_users, df_ratings, df_movies)\n",
    "\n",
    "sample0 = dataset_test[0]\n",
    "\n",
    "print(\"Keys:\", sample0.keys())\n",
    "print(\"\\n--- USER ---\")\n",
    "for k,v in sample0['user'].items():\n",
    "    print(f\" user[{k}]:\", type(v), getattr(v, \"shape\", v[:5] if isinstance(v,list) else v))\n",
    "\n",
    "print(\"\\n--- POS ITEM ---\")\n",
    "for k,v in sample0['pos_item'].items():\n",
    "    print(f\" pos_item[{k}]:\", type(v), v.shape if hasattr(v,'shape') else v[:5])\n",
    "\n",
    "print(\"\\n--- NEG ITEM ---\")\n",
    "for k,v in sample0['neg_item'].items():\n",
    "    print(f\" neg_item[{k}]:\", type(v), v.shape if hasattr(v,'shape') else v[:5])"
   ],
   "outputs": [
    {
     "name": "stdout",
     "output_type": "stream",
     "text": [
      "Keys: dict_keys(['user', 'pos_item', 'neg_item'])\n",
      "\n",
      "--- USER ---\n",
      " user[user_statistics]: <class 'torch.Tensor'> torch.Size([25])\n",
      " user[movies]: <class 'torch.Tensor'> torch.Size([20])\n",
      " user[ratings]: <class 'torch.Tensor'> torch.Size([20])\n",
      " user[times]: <class 'torch.Tensor'> torch.Size([20])\n",
      "\n",
      "--- POS ITEM ---\n",
      " pos_item[dense_features]: <class 'torch.Tensor'> torch.Size([24])\n",
      " pos_item[text_embedding]: <class 'torch.Tensor'> torch.Size([300])\n",
      " pos_item[actor_ids]: <class 'torch.Tensor'> torch.Size([5])\n",
      " pos_item[director_ids]: <class 'torch.Tensor'> torch.Size([3])\n",
      " pos_item[genre_ids]: <class 'torch.Tensor'> torch.Size([9])\n",
      "\n",
      "--- NEG ITEM ---\n",
      " neg_item[dense_features]: <class 'torch.Tensor'> torch.Size([2, 24])\n",
      " neg_item[text_embedding]: <class 'torch.Tensor'> torch.Size([2, 300])\n",
      " neg_item[actor_ids]: <class 'torch.Tensor'> torch.Size([2, 5])\n",
      " neg_item[director_ids]: <class 'torch.Tensor'> torch.Size([2, 3])\n",
      " neg_item[genre_ids]: <class 'torch.Tensor'> torch.Size([2, 9])\n"
     ]
    }
   ],
   "execution_count": 527
  },
  {
   "cell_type": "code",
   "id": "d3c298602cbcdbc7",
   "metadata": {
    "ExecuteTime": {
     "end_time": "2025-07-08T20:59:29.288883Z",
     "start_time": "2025-07-08T20:59:29.274358Z"
    }
   },
   "source": [
    "def collate_TT(batch):\n",
    "    '''\n",
    "    Pelny batchowanie danych do uczenia\n",
    "    '''\n",
    "    user_movies, user_ratings, user_times, user_stats = [], [], [], []\n",
    "    pos_dense, pos_text, pos_actor, pos_director, pos_genre = [], [], [], [], []\n",
    "    neg_dense, neg_text, neg_actor, neg_director, neg_genre = [], [], [], [], []\n",
    "\n",
    "    for row in batch:\n",
    "\n",
    "        user_stats.append(row['user']['user_statistics'])\n",
    "        user_movies.append(row['user']['movies'])\n",
    "        user_ratings.append(row['user']['ratings'])\n",
    "        user_times.append(row['user']['times'])\n",
    "\n",
    "        pos_dense.append(row['pos_item']['dense_features'])\n",
    "        pos_text.append(row['pos_item']['text_embedding'])\n",
    "        pos_actor.append(row['pos_item']['actor_ids'])\n",
    "        pos_director.append(row['pos_item']['director_ids'])\n",
    "        pos_genre.append(row['pos_item']['genre_ids'])\n",
    "\n",
    "        neg_dense.append(row['neg_item']['dense_features']) # [k, D_feat]\n",
    "        neg_text.append(row['neg_item']['text_embedding'])  # [k, D_text]\n",
    "        neg_actor.append(row['neg_item']['actor_ids'])\n",
    "        neg_director.append(row['neg_item']['director_ids'])\n",
    "        neg_genre.append(row['neg_item']['genre_ids'])\n",
    "\n",
    "    batch_user = {\n",
    "        'user_statistics': torch.stack(user_stats),     # [B, d_stats]\n",
    "        'movies': torch.stack(user_movies),             # [B, L_u]\n",
    "        'ratings': torch.stack(user_ratings),           # [B, L_u]\n",
    "        'times': torch.stack(user_times),               # [B, L_u]\n",
    "    }\n",
    "\n",
    "    batch_pos_item = {\n",
    "        'dense_features': torch.stack(pos_dense),       # [B, dense_feat_dim]\n",
    "        'text_embedding': torch.stack(pos_text),        # [B, text_emb_dim]\n",
    "        'actor_ids': torch.stack(pos_actor),            # [B, max_len_a]\n",
    "        'director_ids':torch.stack(pos_director),       # [B, max_len_d]\n",
    "        'genre_ids': torch.stack(pos_genre),            # [B, max_len_g]\n",
    "    }\n",
    "\n",
    "    batch_neg_item = {\n",
    "        'dense_features': torch.stack(neg_dense),\n",
    "        'text_embedding': torch.stack(neg_text),\n",
    "        'actor_ids': torch.stack(neg_actor),\n",
    "        'director_ids': torch.stack(neg_director),\n",
    "        'genre_ids': torch.stack(neg_genre),\n",
    "    }\n",
    "\n",
    "    return {\n",
    "      'user': batch_user,\n",
    "      'pos_item': batch_pos_item,\n",
    "      'neg_item': batch_neg_item\n",
    "    }"
   ],
   "outputs": [],
   "execution_count": 528
  },
  {
   "cell_type": "code",
   "id": "996c498e79c425b5",
   "metadata": {
    "ExecuteTime": {
     "end_time": "2025-07-08T20:59:29.444630Z",
     "start_time": "2025-07-08T20:59:29.430509Z"
    }
   },
   "source": [
    "def collateUser(batch):\n",
    "    '''\n",
    "    Przygotowujemy batch zawierajace dane tylko user-a, potrzebne do leave-one-out\n",
    "    '''\n",
    "    movies, ratings, times, stats = [], [], [], []\n",
    "\n",
    "    for row in batch:\n",
    "\n",
    "        movies.append(row['user']['movies'])\n",
    "        ratings.append(row['user']['ratings'])\n",
    "        times.append(row['user']['times'])\n",
    "        stats.append(row['user']['user_statistics'])\n",
    "\n",
    "    return {\n",
    "        'user': {\n",
    "            'user_statistics': torch.stack(stats),  # [B, d_stats]\n",
    "            'movies': torch.stack(movies),          # [B, L_u]\n",
    "            'ratings': torch.stack(ratings),        # [B, L_u]\n",
    "            'times': torch.stack(times)             # [B, L_u]\n",
    "        }\n",
    "    }"
   ],
   "outputs": [],
   "execution_count": 529
  },
  {
   "cell_type": "markdown",
   "id": "341c5c1563f59ca8",
   "metadata": {},
   "source": [
    "# Przygotowanie zbiorów do treningu"
   ]
  },
  {
   "cell_type": "code",
   "id": "50fdda2f7fbbf8ae",
   "metadata": {
    "ExecuteTime": {
     "end_time": "2025-07-08T20:59:29.697900Z",
     "start_time": "2025-07-08T20:59:29.586653Z"
    }
   },
   "source": [
    "BATCH_SIZE = 8192 # FOR TEST: 4\n",
    "train_users, val_users = train_test_split(\n",
    "    df_users,\n",
    "    test_size=0.2,\n",
    "    random_state=213\n",
    ")\n",
    "\n",
    "train_ratings = df_ratings[df_ratings.index.isin(train_users['userId'])].copy()\n",
    "val_ratings = df_ratings[df_ratings.index.isin(val_users['userId'])].copy()\n",
    "\n",
    "assert set(train_users['userId']) <= set(train_ratings.index)\n",
    "assert set(val_users  ['userId']) <= set(val_ratings.index)"
   ],
   "outputs": [],
   "execution_count": 530
  },
  {
   "cell_type": "code",
   "id": "ce02fdf30df7cd3f",
   "metadata": {
    "ExecuteTime": {
     "end_time": "2025-07-08T20:59:33.336981Z",
     "start_time": "2025-07-08T20:59:29.839934Z"
    }
   },
   "source": [
    "'''\n",
    "Tworzymy do pozniejszej walidacji leave-one-out w heavy_evaluate\n",
    "'''\n",
    "\n",
    "val_ratings_heavy = val_ratings.copy()\n",
    "val_loocv = []\n",
    "\n",
    "for user_id, row in val_ratings_heavy.iterrows():\n",
    "    if len(row['pos']) < 2:\n",
    "        continue                    # pomijamy jezeli > 2\n",
    "    pos_list = row['pos']           # wwszytkie pos (wieksze od > 2)\n",
    "    hold = pos_list[-1]             # Bierzemy ostatni do hold-out\n",
    "    train = pos_list[:-1]\n",
    "\n",
    "    val_loocv.append({'userId': user_id, 'pos': [hold]})\n",
    "    val_ratings_heavy.at[user_id, 'pos'] = train\n",
    "\n",
    "val_loocv = pd.DataFrame(val_loocv).set_index('userId')"
   ],
   "outputs": [],
   "execution_count": 531
  },
  {
   "cell_type": "code",
   "id": "a1410103cccbbcb2",
   "metadata": {
    "ExecuteTime": {
     "end_time": "2025-07-08T20:59:34.101499Z",
     "start_time": "2025-07-08T20:59:33.476711Z"
    }
   },
   "source": [
    "'''\n",
    "Przygotowujemy dane potrzebne do leave-one-out\n",
    "'''\n",
    "# train_pos_sets_val = {\n",
    "#     user_id: set(pos_list)\n",
    "#     for user_id, pos_list in val_ratings['pos'].items()\n",
    "# }\n",
    "#\n",
    "# test_pos_val = val_loocv['pos'].to_dict()\n",
    "\n",
    "train_pos_sets_val_global = {                           # globalne zbiory pozytywów i hold-outów z val_ratings_heavy\n",
    "    u: set(pos_list)\n",
    "    for u, pos_list in val_ratings_heavy['pos'].items()\n",
    "}\n",
    "test_pos_val_global = val_loocv['pos'].to_dict()\n",
    "\n",
    "train_pos_sets_val = {                                  # mapowanie na lokalne indeksy w movie_matrix_np\n",
    "    u: { movie_to_local[mid] for mid in global_set }\n",
    "    for u, global_set in train_pos_sets_val_global.items()\n",
    "}\n",
    "test_pos_val = {\n",
    "    u: [ movie_to_local[mid] for mid in global_list ]\n",
    "    for u, global_list in test_pos_val_global.items()\n",
    "}\n",
    "\n",
    "heavy_user_ids = val_loocv.index.tolist() # listę tylko tych userów z val, którzy mają >=2 pozytywów\n",
    "heavy_users = df_users[df_users['userId'].isin(heavy_user_ids)].reset_index(drop=True)\n",
    "\n",
    "all_user_ids = heavy_user_ids\n"
   ],
   "outputs": [],
   "execution_count": 532
  },
  {
   "cell_type": "code",
   "id": "718ebb47cde784b3",
   "metadata": {
    "ExecuteTime": {
     "end_time": "2025-07-08T20:59:34.321353Z",
     "start_time": "2025-07-08T20:59:34.275636Z"
    }
   },
   "source": [
    "train_dataset = TwoTowerDataset(\n",
    "    train_users,\n",
    "    train_ratings,\n",
    "    df_movies\n",
    ")\n",
    "val_dataset_light = TwoTowerDataset(\n",
    "    val_users,\n",
    "    val_ratings,         # pełna lista pos i neg\n",
    "    df_movies\n",
    ")\n",
    "# val_dataset_heavy = TwoTowerDataset(\n",
    "#     val_users,\n",
    "#     val_loocv,          # pojedyncze hold-out’y\n",
    "#     df_movies\n",
    "# )\n",
    "val_dataset_heavy = UserOnlyDataset(heavy_users)"
   ],
   "outputs": [],
   "execution_count": 533
  },
  {
   "cell_type": "code",
   "id": "ca1f227f2c582a7e",
   "metadata": {
    "ExecuteTime": {
     "end_time": "2025-07-08T20:59:34.540222Z",
     "start_time": "2025-07-08T20:59:34.510268Z"
    }
   },
   "source": [
    "train_loader = DataLoader(\n",
    "    dataset       = train_dataset,\n",
    "    batch_size    = BATCH_SIZE,\n",
    "    shuffle       = True,\n",
    "    # num_workers   = 2,\n",
    "    pin_memory    = True,\n",
    "    collate_fn    = collate_TT,\n",
    "    drop_last     = False\n",
    ")\n",
    "val_light_loader = DataLoader(\n",
    "    dataset       = val_dataset_light,\n",
    "    batch_size    = BATCH_SIZE,\n",
    "    shuffle       = False,\n",
    "    # num_workers   = 2,\n",
    "    pin_memory    = True,\n",
    "    collate_fn    = collate_TT,\n",
    "    drop_last     = False\n",
    ")\n",
    "# val_heavy_loader = DataLoader(\n",
    "#     dataset       = val_dataset_heavy,\n",
    "#     batch_size    = BATCH_SIZE,\n",
    "#     shuffle       = False,\n",
    "#     # num_workers   = 2,\n",
    "#     pin_memory    = True,\n",
    "#     collate_fn    = collateUser,\n",
    "#     drop_last     = False\n",
    "# )\n",
    "val_heavy_loader = DataLoader(\n",
    "    dataset    = val_dataset_heavy,\n",
    "    batch_size = BATCH_SIZE,\n",
    "    shuffle    = False,\n",
    "    pin_memory = True,\n",
    "    collate_fn = collateUser,\n",
    ")\n",
    "movie_loader = DataLoader(\n",
    "    MovieDataset(df_movies),\n",
    "    batch_size=8192,\n",
    "    collate_fn=lambda batch: {\n",
    "        'pos_item': {\n",
    "            'dense_features': torch.stack([b[0] for b in batch]),\n",
    "            'text_embedding': torch.stack([b[1] for b in batch]),\n",
    "            'actor_ids':      torch.stack([b[2] for b in batch]),\n",
    "            'director_ids':   torch.stack([b[3] for b in batch]),\n",
    "            'genre_ids':      torch.stack([b[4] for b in batch]),\n",
    "        }\n",
    "    }\n",
    ")"
   ],
   "outputs": [],
   "execution_count": 534
  },
  {
   "cell_type": "code",
   "id": "d0fb0f65ebdc0fde",
   "metadata": {
    "ExecuteTime": {
     "end_time": "2025-07-08T20:59:34.743527Z",
     "start_time": "2025-07-08T20:59:34.696441Z"
    }
   },
   "source": [
    "'''\n",
    "TEST CUSTOMOWEJ FUNKCJI collateTT I DATALOADER-OW\n",
    "'''\n",
    "device = torch.device(\"cuda\")\n",
    "dataset_test = TwoTowerDataset(df_users, df_ratings, df_movies)\n",
    "\n",
    "loader_test_full = DataLoader(\n",
    "    dataset_test,\n",
    "    batch_size=4,\n",
    "    shuffle=True,\n",
    "    collate_fn=collate_TT,\n",
    ")\n",
    "\n",
    "batch_test = next(iter(loader_test_full))\n",
    "\n",
    "print(\"=== USER ===\")\n",
    "for k,v in batch_test['user'].items():\n",
    "    print(f\"{k:10s}:\", v.shape)\n",
    "\n",
    "print(\"\\n=== POS ITEM ===\")\n",
    "for k,v in batch_test['pos_item'].items():\n",
    "    print(f\"{k:15s}:\", v.shape)\n",
    "\n",
    "print(\"\\n=== NEG ITEM ===\")\n",
    "for k,v in batch_test['neg_item'].items():\n",
    "    print(f\"{k:15s}:\", v.shape)"
   ],
   "outputs": [
    {
     "name": "stdout",
     "output_type": "stream",
     "text": [
      "=== USER ===\n",
      "user_statistics: torch.Size([4, 25])\n",
      "movies    : torch.Size([4, 20])\n",
      "ratings   : torch.Size([4, 20])\n",
      "times     : torch.Size([4, 20])\n",
      "\n",
      "=== POS ITEM ===\n",
      "dense_features : torch.Size([4, 24])\n",
      "text_embedding : torch.Size([4, 300])\n",
      "actor_ids      : torch.Size([4, 5])\n",
      "director_ids   : torch.Size([4, 3])\n",
      "genre_ids      : torch.Size([4, 9])\n",
      "\n",
      "=== NEG ITEM ===\n",
      "dense_features : torch.Size([4, 2, 24])\n",
      "text_embedding : torch.Size([4, 2, 300])\n",
      "actor_ids      : torch.Size([4, 2, 5])\n",
      "director_ids   : torch.Size([4, 2, 3])\n",
      "genre_ids      : torch.Size([4, 2, 9])\n"
     ]
    }
   ],
   "execution_count": 535
  },
  {
   "cell_type": "code",
   "id": "ce987d4e7294fd44",
   "metadata": {
    "ExecuteTime": {
     "end_time": "2025-07-08T20:59:34.945530Z",
     "start_time": "2025-07-08T20:59:34.915477Z"
    }
   },
   "source": [
    "loader_test_user = DataLoader(\n",
    "    dataset_test,\n",
    "    batch_size=4,\n",
    "    shuffle=False,\n",
    "    collate_fn=collateUser,\n",
    ")\n",
    "\n",
    "batch_user = next(iter(loader_test_user))\n",
    "\n",
    "print(\"\\n=== USER-ONLY BATCH (collateUser) ===\")\n",
    "for k, v in batch_user['user'].items():\n",
    "    print(f\"{k:12s} ->\", v.shape)"
   ],
   "outputs": [
    {
     "name": "stdout",
     "output_type": "stream",
     "text": [
      "\n",
      "=== USER-ONLY BATCH (collateUser) ===\n",
      "user_statistics -> torch.Size([4, 25])\n",
      "movies       -> torch.Size([4, 20])\n",
      "ratings      -> torch.Size([4, 20])\n",
      "times        -> torch.Size([4, 20])\n"
     ]
    }
   ],
   "execution_count": 536
  },
  {
   "cell_type": "code",
   "id": "4764e2825e7f9ea0",
   "metadata": {
    "ExecuteTime": {
     "end_time": "2025-07-08T20:59:43.499331Z",
     "start_time": "2025-07-08T20:59:35.086428Z"
    }
   },
   "source": [
    "batch_test_3 = next(iter(train_loader))\n",
    "\n",
    "print(\"=== USER ===\")\n",
    "for k,v in batch_test_3['user'].items():\n",
    "    print(f\"{k:10s}:\", v.shape)\n",
    "\n",
    "print(\"\\n=== POS ITEM ===\")\n",
    "for k,v in batch_test_3['pos_item'].items():\n",
    "    print(f\"{k:15s}:\", v.shape)\n",
    "\n",
    "print(\"\\n=== NEG ITEM ===\")\n",
    "for k,v in batch_test_3['neg_item'].items():\n",
    "    print(f\"{k:15s}:\", v.shape)"
   ],
   "outputs": [
    {
     "name": "stdout",
     "output_type": "stream",
     "text": [
      "=== USER ===\n",
      "user_statistics: torch.Size([8192, 25])\n",
      "movies    : torch.Size([8192, 20])\n",
      "ratings   : torch.Size([8192, 20])\n",
      "times     : torch.Size([8192, 20])\n",
      "\n",
      "=== POS ITEM ===\n",
      "dense_features : torch.Size([8192, 24])\n",
      "text_embedding : torch.Size([8192, 300])\n",
      "actor_ids      : torch.Size([8192, 5])\n",
      "director_ids   : torch.Size([8192, 3])\n",
      "genre_ids      : torch.Size([8192, 9])\n",
      "\n",
      "=== NEG ITEM ===\n",
      "dense_features : torch.Size([8192, 2, 24])\n",
      "text_embedding : torch.Size([8192, 2, 300])\n",
      "actor_ids      : torch.Size([8192, 2, 5])\n",
      "director_ids   : torch.Size([8192, 2, 3])\n",
      "genre_ids      : torch.Size([8192, 2, 9])\n"
     ]
    }
   ],
   "execution_count": 537
  },
  {
   "cell_type": "markdown",
   "id": "f694d2987cc91669",
   "metadata": {},
   "source": [
    "# ARCHITEKTURA TWO TOWER"
   ]
  },
  {
   "cell_type": "code",
   "id": "2051b9e2c8ceb9f",
   "metadata": {
    "ExecuteTime": {
     "end_time": "2025-07-08T20:59:43.672281Z",
     "start_time": "2025-07-08T20:59:43.658114Z"
    }
   },
   "source": [
    "EMB_DIM = 64\n",
    "\n",
    "class UserTower(nn.Module):\n",
    "    def __init__(self, input_dim, n_items, embedding_dim=EMB_DIM):\n",
    "        '''\n",
    "        input_dim - the number of columns in user features, without sequence columns\n",
    "        '''\n",
    "        super().__init__()\n",
    "\n",
    "        self.item_emb = nn.Embedding(n_items, embedding_dim)\n",
    "\n",
    "        # A layer to project rating and timestamp into a scalar weight\n",
    "        self.rating_proj = nn.Linear(2, 1)\n",
    "\n",
    "        self.mlp = nn.Sequential(\n",
    "            nn.Linear(input_dim + embedding_dim, 512),\n",
    "            nn.ReLU(),\n",
    "            nn.Dropout(0.2),\n",
    "            nn.Linear(512, 384),\n",
    "            nn.ReLU(),\n",
    "            nn.Dropout(0.2),\n",
    "            nn.Linear(384, 256),\n",
    "            nn.ReLU(),\n",
    "            nn.Dropout(0.2),\n",
    "            nn.Linear(256, embedding_dim)\n",
    "        )\n",
    "\n",
    "    def forward(self, batch):\n",
    "        # Embed movieIds liked by user\n",
    "        m = self.item_emb(batch['movies'])\n",
    "\n",
    "        # Get weights\n",
    "        x = torch.stack([batch['ratings'], batch['times']], dim=-1) # [B, L_u, 2]\n",
    "        w = torch.sigmoid(self.rating_proj(x))\n",
    "\n",
    "        # weighted mean-pool\n",
    "        pooled = (m * w).sum(1) / w.sum(1).clamp_min(1e-6)   # [B, D]\n",
    "\n",
    "        input = torch.cat([batch['user_statistics'], pooled], dim=-1) # [B, stats+EMB_DIM]\n",
    "        output = self.mlp(input)                                    # [B, EMB_DIM]\n",
    "        u = F.normalize(output, dim = 1)\n",
    "        return u\n",
    "\n",
    "\n",
    "class ItemTower(nn.Module):\n",
    "    def __init__(self,dense_feat_dim,text_emb_dim,vocab_sizes,embedding_dim=EMB_DIM):\n",
    "        '''\n",
    "        vocab_sizes - tuple odpowiednio n_actors, n_directors, n_genres\n",
    "        dense_feat_dim – wymiary numeric+binary+decades+text\n",
    "        tex_emb_dim - Wektor o wielkosc 300 opisujacy dane tekstowe filmu\n",
    "        '''\n",
    "        super().__init__()\n",
    "\n",
    "        self.actor_emb = nn.Embedding(vocab_sizes[0], embedding_dim)\n",
    "        self.director_emb = nn.Embedding(vocab_sizes[1], embedding_dim)\n",
    "        self.genre_emb = nn.Embedding(vocab_sizes[2], embedding_dim)\n",
    "\n",
    "        self.meta_mlp = nn.Sequential(\n",
    "            nn.Linear(dense_feat_dim, 128),\n",
    "            nn.ReLU(),\n",
    "            nn.Dropout(0.2),\n",
    "            nn.Linear(128, embedding_dim),\n",
    "            nn.ReLU()\n",
    "        )\n",
    "\n",
    "        self.text_mlp = nn.Sequential( #--- to consider za ostre zejscie z 512 -> 64, moze posredni 256\n",
    "            nn.Linear(text_emb_dim, 512),\n",
    "            nn.ReLU(),\n",
    "            nn.Dropout(0.2),\n",
    "            nn.Linear(512, embedding_dim),\n",
    "            nn.ReLU()\n",
    "        )\n",
    "\n",
    "        MLP_INPUT_DIM = embedding_dim*5 # odpowiednio nn.Embeedings * 3 oraz meta_mlp oraz text_mlp\n",
    "        self.final_mlp = nn.Sequential(\n",
    "            nn.Linear(MLP_INPUT_DIM, 512),\n",
    "            nn.ReLU(),\n",
    "            nn.Dropout(0.2),\n",
    "            nn.Linear(512,256),\n",
    "            nn.ReLU(),\n",
    "            nn.Dropout(0.2),\n",
    "            nn.Linear(256,embedding_dim)\n",
    "        )\n",
    "\n",
    "    def forward(self, batch, key: str = \"pos_item\"):\n",
    "\n",
    "        dense_feats = batch[key]['dense_features']     # [B, dense_feat_dim]\n",
    "        text_emb = batch[key]['text_embedding']     # [B, text_emb_dim]\n",
    "\n",
    "        actor_ids = batch[key]['actor_ids']         # [B, max_len_a]\n",
    "        director_ids = batch[key]['director_ids']\n",
    "        genre_ids = batch[key]['genre_ids']\n",
    "\n",
    "        if dense_feats.dim() == 3:\n",
    "            B, k, Z = dense_feats.shape\n",
    "\n",
    "            # flattenujemy\n",
    "            dense_flat     = dense_feats.view(B*k, Z)\n",
    "            text_flat      = text_emb.view(B*k, -1)\n",
    "            actor_flat     = actor_ids.view(B*k, -1)\n",
    "            director_flat  = director_ids.view(B*k, -1)\n",
    "            genre_flat     = genre_ids.view(B*k, -1)\n",
    "\n",
    "            # złożony batch\n",
    "            flat_batch = {\n",
    "                key: {\n",
    "                    'dense_features':  dense_flat,\n",
    "                    'text_embedding':  text_flat,\n",
    "                    'actor_ids':       actor_flat,\n",
    "                    'director_ids':    director_flat,\n",
    "                    'genre_ids':       genre_flat,\n",
    "                }\n",
    "            }\n",
    "\n",
    "            emb_flat = self.forward(flat_batch, key)    # rekurencyjnie batch na embeddingi [B*k, D]\n",
    "\n",
    "            return emb_flat.view(B, k, -1)              # [B, k, D]\n",
    "\n",
    "        dense_vec = self.meta_mlp(dense_feats)      # [B, D]\n",
    "        text_vec = self.text_mlp(text_emb)          # [B, D]\n",
    "\n",
    "        cast_imp = dense_feats[:, 2:3]              # [B, 1]\n",
    "        director_score = dense_feats[:, 3:4]        # [B, 1]\n",
    "\n",
    "        a = self.actor_emb   (actor_ids).mean(dim=1)    # [B, D]\n",
    "        d = self.director_emb(director_ids).mean(dim=1) # [B, D]\n",
    "        g = self.genre_emb   (genre_ids).mean(dim=1)    # [B, D]\n",
    "\n",
    "        # We add weights based on importance score\n",
    "        a = a * cast_imp\n",
    "        d = d * director_score #--- do rozwazenia Max pooling lub Attention pooling\n",
    "\n",
    "        input = torch.cat([a, d, g, dense_vec, text_vec], dim=-1)   # [B, 5D]\n",
    "        output = self.final_mlp(input)                              # [B, D]\n",
    "        i = F.normalize(output, dim=1)\n",
    "        return i\n"
   ],
   "outputs": [],
   "execution_count": 538
  },
  {
   "cell_type": "code",
   "id": "f348ae144e92ea8e",
   "metadata": {
    "ExecuteTime": {
     "end_time": "2025-07-08T20:59:43.859394Z",
     "start_time": "2025-07-08T20:59:43.844357Z"
    }
   },
   "source": [
    "class TwoTowerModel(nn.Module):\n",
    "    def __init__(self, stats_dim, n_items, vocab_sizes,\n",
    "                 dense_feat_dim, text_emb_dim, embedding_dim=EMB_DIM):\n",
    "        super().__init__()\n",
    "        self.user_tower = UserTower(stats_dim, n_items, embedding_dim)\n",
    "        self.item_tower = ItemTower(dense_feat_dim, text_emb_dim, vocab_sizes, embedding_dim)\n",
    "\n",
    "    def forward(self, batch):\n",
    "        u = self.user_tower(batch['user'])\n",
    "        i_pos = self.item_tower(batch, key=\"pos_item\")\n",
    "        i_neg = self.item_tower(batch, key=\"neg_item\")\n",
    "\n",
    "        if i_neg.dim() == 2:\n",
    "            return u, i_pos, i_neg # każdy [B, 64]\n",
    "\n",
    "        B, k, D = i_neg.shape\n",
    "\n",
    "        i_neg_flat = i_neg.reshape(B*k, D) # Splaszczamy\n",
    "\n",
    "        u_flat = u.unsqueeze(1).expand(B, k, D).reshape(B*k, D)\n",
    "        pos_flat = i_pos.unsqueeze(1).expand(B, k, D).reshape(B*k, D)\n",
    "\n",
    "        return u_flat, pos_flat, i_neg_flat\n"
   ],
   "outputs": [],
   "execution_count": 539
  },
  {
   "cell_type": "code",
   "id": "f60c8aa13dff5f9f",
   "metadata": {
    "ExecuteTime": {
     "end_time": "2025-07-08T20:59:44.076521Z",
     "start_time": "2025-07-08T20:59:44.015287Z"
    }
   },
   "source": [
    "'''\n",
    "TEST ARCHITEKTURY MODELOW\n",
    "'''\n",
    "device = torch.device(\"cuda\")\n",
    "model_test  = TwoTowerModel(stats_dim=25,\n",
    "                       n_items=n_items,\n",
    "                       vocab_sizes=(num_actors, num_directors, num_genres),\n",
    "                       dense_feat_dim=24,\n",
    "                       text_emb_dim=300,\n",
    "                       embedding_dim=64).to(device)\n",
    "\n",
    "# First batch\n",
    "batch_test_2 = next(iter(loader_test_full))\n",
    "\n",
    "batch_test_2 = {\n",
    "  'user':      {k: v.to(device, non_blocking=True) for k,v in batch_test_2['user'].items()},\n",
    "  'pos_item':  {k: v.to(device, non_blocking=True) for k,v in batch_test_2['pos_item'].items()},\n",
    "  'neg_item':  {k: v.to(device, non_blocking=True) for k,v in batch_test_2['neg_item'].items()},\n",
    "}\n",
    "\n",
    "# Forward pass\n",
    "u_test, i_pos_test, i_neg_test = model_test(batch_test_2)\n",
    "\n",
    "print(\"u.shape:\",     u_test.shape)      # -> [B, 64]\n",
    "print(\"i_pos.shape:\", i_pos_test.shape)  # -> [B, 64]\n",
    "print(\"i_neg.shape:\", i_neg_test.shape)  # -> [B, 64] Dla pojedynczego /  [B, k, 64] Dla wiecej negatywow\n"
   ],
   "outputs": [
    {
     "name": "stdout",
     "output_type": "stream",
     "text": [
      "u.shape: torch.Size([8, 64])\n",
      "i_pos.shape: torch.Size([8, 64])\n",
      "i_neg.shape: torch.Size([8, 64])\n"
     ]
    }
   ],
   "execution_count": 540
  },
  {
   "cell_type": "markdown",
   "id": "50a228ce1b16c416",
   "metadata": {},
   "source": [
    "# TRENOWANIE"
   ]
  },
  {
   "cell_type": "code",
   "id": "fac99165a6d5f9fe",
   "metadata": {
    "ExecuteTime": {
     "end_time": "2025-07-08T20:59:44.264148Z",
     "start_time": "2025-07-08T20:59:44.249257Z"
    }
   },
   "source": [
    "device = torch.device('cpu')\n",
    "if torch.cuda.is_available():\n",
    "    device = torch.device('cuda')\n",
    "elif torch.mps.is_available():\n",
    "    device = torch.device('mps')\n",
    "print('Device:', device)"
   ],
   "outputs": [
    {
     "name": "stdout",
     "output_type": "stream",
     "text": [
      "Device: cuda\n"
     ]
    }
   ],
   "execution_count": 541
  },
  {
   "cell_type": "code",
   "id": "c5422a9452a72884",
   "metadata": {
    "ExecuteTime": {
     "end_time": "2025-07-08T20:59:44.466293Z",
     "start_time": "2025-07-08T20:59:44.451213Z"
    }
   },
   "source": [
    "def to_device(data, device):\n",
    "    if isinstance(data, dict):\n",
    "        return {k: to_device(v, device) for k, v in data.items()}\n",
    "    elif torch.is_tensor(data):\n",
    "        return data.to(device, non_blocking=True)\n",
    "    else:\n",
    "        return data"
   ],
   "outputs": [],
   "execution_count": 542
  },
  {
   "cell_type": "code",
   "id": "5aeb0a392c307f84",
   "metadata": {
    "ExecuteTime": {
     "end_time": "2025-07-08T20:59:44.482297Z",
     "start_time": "2025-07-08T20:59:44.472553Z"
    }
   },
   "source": [
    "'''\n",
    "Przygotowanie matrix-u do leave-one-out w celu 'score' do rankingu\n",
    "'''\n",
    "def compute_item_embeddings(model, movie_loader):\n",
    "    model.eval()\n",
    "    all_embs = []\n",
    "    with torch.no_grad():\n",
    "        for mb in movie_loader:\n",
    "            mb = to_device(mb, device)\n",
    "\n",
    "            embs = model.item_tower(mb, key='pos_item')  # [batch_size, D]\n",
    "            all_embs.append(embs)\n",
    "    return torch.cat(all_embs, dim=0).cpu().numpy()  # [n_movies, D]"
   ],
   "outputs": [],
   "execution_count": 543
  },
  {
   "cell_type": "code",
   "id": "d94431e48e0833cf",
   "metadata": {
    "ExecuteTime": {
     "end_time": "2025-07-08T20:59:44.775855Z",
     "start_time": "2025-07-08T20:59:44.760375Z"
    }
   },
   "source": [
    "'''\n",
    "Definicja loss-u BPR (Bayesian Personalized Ranking)\n",
    "'''\n",
    "def bpr_loss(u, i_pos, i_neg):\n",
    "    pos = (u*i_pos).sum(1) # [B] score pozytywnych par\n",
    "    neg = (u*i_neg).sum(1)\n",
    "    return -torch.log(torch.sigmoid(pos-neg) + 1e-8).mean()"
   ],
   "outputs": [],
   "execution_count": 544
  },
  {
   "cell_type": "code",
   "id": "b576e809cc82d44",
   "metadata": {
    "ExecuteTime": {
     "end_time": "2025-07-08T20:59:44.947667Z",
     "start_time": "2025-07-08T20:59:44.932600Z"
    }
   },
   "source": [
    "'''\n",
    "Trenowanie jednej epoki, dodano odpowiednie inputy tez do testow i ewentualnych zmian\n",
    "\n",
    "Obecnie:\n",
    "- model: TwoTowerModel\n",
    "- loader: DataLoader\n",
    "- optimizer: Adam\n",
    "- loss: bpr_loss\n",
    "'''\n",
    "def train_one_epoch(model, loader, optimizer):\n",
    "    model.train()\n",
    "    running_loss = 0.0\n",
    "\n",
    "    for raw in tqdm(train_loader, desc=f\" Epoch {epoch} batches\", leave=False):\n",
    "        batch = to_device(raw, device)\n",
    "        optimizer.zero_grad()\n",
    "\n",
    "        user_vec, pos_vec, neg_vec = model(batch) # forward do TwoTowerModel\n",
    "\n",
    "        loss = bpr_loss(user_vec, pos_vec, neg_vec)\n",
    "\n",
    "        loss.backward() # Backword i updatujemy parametry\n",
    "        optimizer.step()\n",
    "\n",
    "        running_loss += loss.item()\n",
    "\n",
    "    epoch_loss = running_loss/len(loader) # Do wyliczania sredniej straty w epoce\n",
    "    return epoch_loss"
   ],
   "outputs": [],
   "execution_count": 545
  },
  {
   "cell_type": "code",
   "id": "a78eabf9db715de0",
   "metadata": {
    "ExecuteTime": {
     "end_time": "2025-07-08T20:59:45.135585Z",
     "start_time": "2025-07-08T20:59:45.121064Z"
    }
   },
   "source": [
    "'''\n",
    "Lekka ewaluacja majaca za zadanie pokazac czy model sie uczy, niz odpowiadac jak dobrze tworzy ranking\n",
    "'''\n",
    "def light_evaluate(model, loader):\n",
    "    model.eval()\n",
    "    aucs, paac = [], []\n",
    "\n",
    "    with torch.no_grad():\n",
    "        for raw in loader:\n",
    "            batch = to_device(raw, device)\n",
    "\n",
    "            user_vec, pos_vec, neg_vec = model(batch)\n",
    "\n",
    "            pos_score = (user_vec * pos_vec).sum(dim = -1) # [B]\n",
    "            neg_score = (user_vec * neg_vec).sum(dim = -1)\n",
    "\n",
    "            # ROC AUC\n",
    "            labels = torch.cat([torch.ones_like(pos_score), torch.zeros_like(neg_score)])\n",
    "            scores = torch.cat([pos_score, neg_score])\n",
    "            aucs.append(roc_auc_score(labels.cpu(), scores.cpu()))\n",
    "\n",
    "            # Pair-wise accuarcy\n",
    "            paac.append((pos_score > neg_score).float().mean().item())\n",
    "\n",
    "    return float(np.mean(aucs)), float(np.mean(paac))"
   ],
   "outputs": [],
   "execution_count": 546
  },
  {
   "cell_type": "code",
   "id": "b2613e91fef2eb",
   "metadata": {
    "ExecuteTime": {
     "end_time": "2025-07-08T20:59:45.291151Z",
     "start_time": "2025-07-08T20:59:45.277133Z"
    }
   },
   "source": [
    "'''\n",
    "Dokladniejsza ewaluacja majaca odpowiedziec jak model radzi sobie z rankingiem dla danych uzytkownikow\n",
    "'''\n",
    "def heavy_evaluate(model,user_loader,item_embs_np,\n",
    "                        train_pos_sets,test_pos,top_N):\n",
    "    model.eval()\n",
    "    user_embs = []\n",
    "\n",
    "    with torch.no_grad():\n",
    "        for raw in user_loader:\n",
    "            batch = to_device(raw, device)\n",
    "\n",
    "            u = model.user_tower(batch['user'])  # Skupiamy sie tylko na zebraniu embeddingow uzytkownika\n",
    "\n",
    "            user_embs.append(u.cpu().numpy())\n",
    "\n",
    "    user_embs = np.vstack(user_embs)    # [U-liczba uzytkownikow, D]\n",
    "\n",
    "    assert len(all_user_ids) == user_embs.shape[0]\n",
    "    recalls, mrrs = [], []\n",
    "\n",
    "    for idx, user_id in enumerate(all_user_ids):\n",
    "        vec = user_embs[idx]                # [D] wektor emb usera\n",
    "        scores = item_embs_np @ vec         # [I] wektory score, do oceny czy to dziala poprawnie ? 'iloczyny skalarne'\n",
    "\n",
    "        mask = np.zeros_like(scores, dtype=bool)\n",
    "        mask[list(train_pos_sets[user_id])] = True  # Tworzymy maske do odsiania filmow ktore user juz widzial\n",
    "        scores[mask] = -1e9\n",
    "\n",
    "        ranked = np.argsort(-scores)[:top_N]    # Ranking\n",
    "        true_set = test_pos[user_id]            # hold-out\n",
    "\n",
    "        # Recall@K\n",
    "        recalls.append(int(any(r in true_set for r in ranked)))\n",
    "\n",
    "        # MRR@K\n",
    "        rr = 0.0\n",
    "        for rank, idx in enumerate(ranked, 1):\n",
    "            if idx in true_set:\n",
    "                rr = 1.0/rank\n",
    "                break\n",
    "        mrrs.append(rr)\n",
    "\n",
    "    return float(np.mean(recalls)), float(np.mean(mrrs))"
   ],
   "outputs": [],
   "execution_count": 547
  },
  {
   "metadata": {
    "ExecuteTime": {
     "end_time": "2025-07-08T20:59:45.447635Z",
     "start_time": "2025-07-08T20:59:45.433404Z"
    }
   },
   "cell_type": "code",
   "source": [
    "'''\n",
    "Early stopping\n",
    "'''\n",
    "best_val = 0.0                    # dla metryk, które chcemy maksymalizować (np. ROC-AUC)\n",
    "epochs_no_improve = 0\n",
    "patience = 5                      # maksymalna liczba epok bez poprawy\n",
    "save_path = \"best_model.pt\"       # gdzie będziemy dumpować najlepszy model"
   ],
   "id": "a01858233a64b69b",
   "outputs": [],
   "execution_count": 548
  },
  {
   "cell_type": "code",
   "id": "152d6588f3506906",
   "metadata": {
    "ExecuteTime": {
     "end_time": "2025-07-09T00:23:46.793100Z",
     "start_time": "2025-07-08T20:59:45.589329Z"
    }
   },
   "source": [
    "EPOCHS = 50\n",
    "TOP_N = 20\n",
    "\n",
    "model = (TwoTowerModel(stats_dim=25,\n",
    "                       n_items=n_items,\n",
    "                       vocab_sizes=(num_actors, num_directors, num_genres),\n",
    "                       dense_feat_dim=24,\n",
    "                       text_emb_dim=300,\n",
    "                       embedding_dim=EMB_DIM)\n",
    "         .to(device))\n",
    "optimizer = optim.Adam(model.parameters(), lr=1e-3, weight_decay=1e-5)\n",
    "scheduler = CosineAnnealingLR(optimizer, T_max=EPOCHS) # zmieniamy LR zgodnie z kosinusem (powinno stabilizowac trening)\n",
    "\n",
    "for epoch in trange(1, EPOCHS+1, desc=\"Epochs\"):\n",
    "\n",
    "    tr_loss = train_one_epoch(model, train_loader, optimizer) # Logika treningu\n",
    "\n",
    "    scheduler.step() # optymalizacja LR\n",
    "\n",
    "    print(f\"Epoch {epoch:2d} | train_loss={tr_loss:.4f}\")\n",
    "    if epoch % 2 == 0:\n",
    "\n",
    "        movie_matrix_np = compute_item_embeddings(model, movie_loader) # [n_movies, D] wyliczamy embeedingi filmow\n",
    "        D = movie_matrix_np.shape[1]\n",
    "\n",
    "        faiss_index = faiss.IndexFlatIP(D) # Nowy indeks pod FAISS\n",
    "        faiss_index.add(movie_matrix_np)\n",
    "\n",
    "        auc, pair_acc = light_evaluate(model, val_light_loader)\n",
    "        print(f\"LIGHT eval | val ROC-AUC={auc:.4f} | pair-acc={pair_acc:.4f}\")\n",
    "\n",
    "        if auc > best_val + 1e-4:\n",
    "            best_val = auc\n",
    "            epochs_no_improve = 0\n",
    "            torch.save(model.state_dict(), save_path)\n",
    "            print(f\"  poprawa! zapisano model (ROC-AUC={best_val:.4f})\")\n",
    "        else:\n",
    "            epochs_no_improve += 1\n",
    "            print(f\"  brak poprawy ({epochs_no_improve}/{patience})\")\n",
    "\n",
    "    if epoch % 5 == 0:\n",
    "        recall, mrr = heavy_evaluate(\n",
    "            model,\n",
    "            val_heavy_loader,               # loader zwracający tylko user embeddings\n",
    "            movie_matrix_np,                # matrix do score-a\n",
    "            train_pos_sets_val,\n",
    "            test_pos_val,\n",
    "            top_N=TOP_N\n",
    "        )\n",
    "        print(f\"HEAVY eval | @K={TOP_N}: Recall@{TOP_N}={recall:.4f}, MRR@{TOP_N}={mrr:.4f}\")\n",
    "\n",
    "    # ---- sprawdzamy early stopping ----\n",
    "    if epochs_no_improve >= patience:\n",
    "        print(f\"\\nEarly stopping — przez {patience} epok nie było lepszego ROC-AUC.\")\n",
    "        break\n",
    "\n",
    "model.load_state_dict(torch.load(save_path))\n",
    "model.eval()"
   ],
   "outputs": [
    {
     "data": {
      "text/plain": [
       "Epochs:   0%|          | 0/50 [00:00<?, ?it/s]"
      ],
      "application/vnd.jupyter.widget-view+json": {
       "version_major": 2,
       "version_minor": 0,
       "model_id": "69bce0a569c7447eb1ecbff81cf78477"
      }
     },
     "metadata": {},
     "output_type": "display_data"
    },
    {
     "data": {
      "text/plain": [
       " Epoch 1 batches:   0%|          | 0/20 [00:00<?, ?it/s]"
      ],
      "application/vnd.jupyter.widget-view+json": {
       "version_major": 2,
       "version_minor": 0,
       "model_id": "7858c2f9d503412194cc7af0e06ac69f"
      }
     },
     "metadata": {},
     "output_type": "display_data"
    },
    {
     "name": "stdout",
     "output_type": "stream",
     "text": [
      "Epoch  1 | train_loss=0.6452\n"
     ]
    },
    {
     "data": {
      "text/plain": [
       " Epoch 2 batches:   0%|          | 0/20 [00:00<?, ?it/s]"
      ],
      "application/vnd.jupyter.widget-view+json": {
       "version_major": 2,
       "version_minor": 0,
       "model_id": "f9efc0660ca74ddcb5d4a61bf06fda31"
      }
     },
     "metadata": {},
     "output_type": "display_data"
    },
    {
     "name": "stdout",
     "output_type": "stream",
     "text": [
      "Epoch  2 | train_loss=0.5957\n",
      "LIGHT eval | val ROC-AUC=0.6949 | pair-acc=0.7067\n",
      "  poprawa! zapisano model (ROC-AUC=0.6949)\n"
     ]
    },
    {
     "data": {
      "text/plain": [
       " Epoch 3 batches:   0%|          | 0/20 [00:00<?, ?it/s]"
      ],
      "application/vnd.jupyter.widget-view+json": {
       "version_major": 2,
       "version_minor": 0,
       "model_id": "33648cfaf898494d880e82c553fe9c2a"
      }
     },
     "metadata": {},
     "output_type": "display_data"
    },
    {
     "name": "stdout",
     "output_type": "stream",
     "text": [
      "Epoch  3 | train_loss=0.5795\n"
     ]
    },
    {
     "data": {
      "text/plain": [
       " Epoch 4 batches:   0%|          | 0/20 [00:00<?, ?it/s]"
      ],
      "application/vnd.jupyter.widget-view+json": {
       "version_major": 2,
       "version_minor": 0,
       "model_id": "b8e6b9360253498d8c11bfa4e9180b75"
      }
     },
     "metadata": {},
     "output_type": "display_data"
    },
    {
     "name": "stdout",
     "output_type": "stream",
     "text": [
      "Epoch  4 | train_loss=0.5737\n",
      "LIGHT eval | val ROC-AUC=0.7048 | pair-acc=0.7188\n",
      "  poprawa! zapisano model (ROC-AUC=0.7048)\n"
     ]
    },
    {
     "data": {
      "text/plain": [
       " Epoch 5 batches:   0%|          | 0/20 [00:00<?, ?it/s]"
      ],
      "application/vnd.jupyter.widget-view+json": {
       "version_major": 2,
       "version_minor": 0,
       "model_id": "4989610f3c174bdfb52d95b36ea221bc"
      }
     },
     "metadata": {},
     "output_type": "display_data"
    },
    {
     "name": "stdout",
     "output_type": "stream",
     "text": [
      "Epoch  5 | train_loss=0.5697\n",
      "HEAVY eval | @K=20: Recall@20=0.0223, MRR@20=0.0052\n"
     ]
    },
    {
     "data": {
      "text/plain": [
       " Epoch 6 batches:   0%|          | 0/20 [00:00<?, ?it/s]"
      ],
      "application/vnd.jupyter.widget-view+json": {
       "version_major": 2,
       "version_minor": 0,
       "model_id": "0a2300e0878843e5a7d08662699fc1aa"
      }
     },
     "metadata": {},
     "output_type": "display_data"
    },
    {
     "name": "stdout",
     "output_type": "stream",
     "text": [
      "Epoch  6 | train_loss=0.5665\n",
      "LIGHT eval | val ROC-AUC=0.7089 | pair-acc=0.7201\n",
      "  poprawa! zapisano model (ROC-AUC=0.7089)\n"
     ]
    },
    {
     "data": {
      "text/plain": [
       " Epoch 7 batches:   0%|          | 0/20 [00:00<?, ?it/s]"
      ],
      "application/vnd.jupyter.widget-view+json": {
       "version_major": 2,
       "version_minor": 0,
       "model_id": "6943de6154ac4cb890fab487bfa4b855"
      }
     },
     "metadata": {},
     "output_type": "display_data"
    },
    {
     "name": "stdout",
     "output_type": "stream",
     "text": [
      "Epoch  7 | train_loss=0.5643\n"
     ]
    },
    {
     "data": {
      "text/plain": [
       " Epoch 8 batches:   0%|          | 0/20 [00:00<?, ?it/s]"
      ],
      "application/vnd.jupyter.widget-view+json": {
       "version_major": 2,
       "version_minor": 0,
       "model_id": "7549c3161cfd4bc4b26bc7e47071946d"
      }
     },
     "metadata": {},
     "output_type": "display_data"
    },
    {
     "name": "stdout",
     "output_type": "stream",
     "text": [
      "Epoch  8 | train_loss=0.5625\n",
      "LIGHT eval | val ROC-AUC=0.7146 | pair-acc=0.7288\n",
      "  poprawa! zapisano model (ROC-AUC=0.7146)\n"
     ]
    },
    {
     "data": {
      "text/plain": [
       " Epoch 9 batches:   0%|          | 0/20 [00:00<?, ?it/s]"
      ],
      "application/vnd.jupyter.widget-view+json": {
       "version_major": 2,
       "version_minor": 0,
       "model_id": "e5ea182b0b034241966d1d8227cb922c"
      }
     },
     "metadata": {},
     "output_type": "display_data"
    },
    {
     "name": "stdout",
     "output_type": "stream",
     "text": [
      "Epoch  9 | train_loss=0.5601\n"
     ]
    },
    {
     "data": {
      "text/plain": [
       " Epoch 10 batches:   0%|          | 0/20 [00:00<?, ?it/s]"
      ],
      "application/vnd.jupyter.widget-view+json": {
       "version_major": 2,
       "version_minor": 0,
       "model_id": "031e30dc33bd488eace12ec51ac36234"
      }
     },
     "metadata": {},
     "output_type": "display_data"
    },
    {
     "name": "stdout",
     "output_type": "stream",
     "text": [
      "Epoch 10 | train_loss=0.5605\n",
      "LIGHT eval | val ROC-AUC=0.7164 | pair-acc=0.7296\n",
      "  poprawa! zapisano model (ROC-AUC=0.7164)\n",
      "HEAVY eval | @K=20: Recall@20=0.0208, MRR@20=0.0051\n"
     ]
    },
    {
     "data": {
      "text/plain": [
       " Epoch 11 batches:   0%|          | 0/20 [00:00<?, ?it/s]"
      ],
      "application/vnd.jupyter.widget-view+json": {
       "version_major": 2,
       "version_minor": 0,
       "model_id": "204ca68a79304752be908bb7d48f6b3d"
      }
     },
     "metadata": {},
     "output_type": "display_data"
    },
    {
     "name": "stdout",
     "output_type": "stream",
     "text": [
      "Epoch 11 | train_loss=0.5585\n"
     ]
    },
    {
     "data": {
      "text/plain": [
       " Epoch 12 batches:   0%|          | 0/20 [00:00<?, ?it/s]"
      ],
      "application/vnd.jupyter.widget-view+json": {
       "version_major": 2,
       "version_minor": 0,
       "model_id": "8f6546272241429ba8a28f25fb1a2ecd"
      }
     },
     "metadata": {},
     "output_type": "display_data"
    },
    {
     "name": "stdout",
     "output_type": "stream",
     "text": [
      "Epoch 12 | train_loss=0.5581\n",
      "LIGHT eval | val ROC-AUC=0.7204 | pair-acc=0.7338\n",
      "  poprawa! zapisano model (ROC-AUC=0.7204)\n"
     ]
    },
    {
     "data": {
      "text/plain": [
       " Epoch 13 batches:   0%|          | 0/20 [00:00<?, ?it/s]"
      ],
      "application/vnd.jupyter.widget-view+json": {
       "version_major": 2,
       "version_minor": 0,
       "model_id": "6bfbd2d4d0934ac8b1249488670daa74"
      }
     },
     "metadata": {},
     "output_type": "display_data"
    },
    {
     "name": "stdout",
     "output_type": "stream",
     "text": [
      "Epoch 13 | train_loss=0.5571\n"
     ]
    },
    {
     "data": {
      "text/plain": [
       " Epoch 14 batches:   0%|          | 0/20 [00:00<?, ?it/s]"
      ],
      "application/vnd.jupyter.widget-view+json": {
       "version_major": 2,
       "version_minor": 0,
       "model_id": "d067540f602646f98f0f2056e50aae9a"
      }
     },
     "metadata": {},
     "output_type": "display_data"
    },
    {
     "name": "stdout",
     "output_type": "stream",
     "text": [
      "Epoch 14 | train_loss=0.5562\n",
      "LIGHT eval | val ROC-AUC=0.7212 | pair-acc=0.7330\n",
      "  poprawa! zapisano model (ROC-AUC=0.7212)\n"
     ]
    },
    {
     "data": {
      "text/plain": [
       " Epoch 15 batches:   0%|          | 0/20 [00:00<?, ?it/s]"
      ],
      "application/vnd.jupyter.widget-view+json": {
       "version_major": 2,
       "version_minor": 0,
       "model_id": "9390e72f9fae4b96a63aaadc16cba863"
      }
     },
     "metadata": {},
     "output_type": "display_data"
    },
    {
     "name": "stdout",
     "output_type": "stream",
     "text": [
      "Epoch 15 | train_loss=0.5565\n",
      "HEAVY eval | @K=20: Recall@20=0.0160, MRR@20=0.0037\n"
     ]
    },
    {
     "data": {
      "text/plain": [
       " Epoch 16 batches:   0%|          | 0/20 [00:00<?, ?it/s]"
      ],
      "application/vnd.jupyter.widget-view+json": {
       "version_major": 2,
       "version_minor": 0,
       "model_id": "0547fbe052524d189e7d3755dc8377eb"
      }
     },
     "metadata": {},
     "output_type": "display_data"
    },
    {
     "name": "stdout",
     "output_type": "stream",
     "text": [
      "Epoch 16 | train_loss=0.5550\n",
      "LIGHT eval | val ROC-AUC=0.7206 | pair-acc=0.7352\n",
      "  brak poprawy (1/5)\n"
     ]
    },
    {
     "data": {
      "text/plain": [
       " Epoch 17 batches:   0%|          | 0/20 [00:00<?, ?it/s]"
      ],
      "application/vnd.jupyter.widget-view+json": {
       "version_major": 2,
       "version_minor": 0,
       "model_id": "3390bcc792f44df98d9a5e7ee6190f68"
      }
     },
     "metadata": {},
     "output_type": "display_data"
    },
    {
     "name": "stdout",
     "output_type": "stream",
     "text": [
      "Epoch 17 | train_loss=0.5546\n"
     ]
    },
    {
     "data": {
      "text/plain": [
       " Epoch 18 batches:   0%|          | 0/20 [00:00<?, ?it/s]"
      ],
      "application/vnd.jupyter.widget-view+json": {
       "version_major": 2,
       "version_minor": 0,
       "model_id": "5e6126f8f2cf4dc6907f41fd15ffb632"
      }
     },
     "metadata": {},
     "output_type": "display_data"
    },
    {
     "name": "stdout",
     "output_type": "stream",
     "text": [
      "Epoch 18 | train_loss=0.5541\n",
      "LIGHT eval | val ROC-AUC=0.7198 | pair-acc=0.7339\n",
      "  brak poprawy (2/5)\n"
     ]
    },
    {
     "data": {
      "text/plain": [
       " Epoch 19 batches:   0%|          | 0/20 [00:00<?, ?it/s]"
      ],
      "application/vnd.jupyter.widget-view+json": {
       "version_major": 2,
       "version_minor": 0,
       "model_id": "eca2c2e74d354ac88b31004395d85b7f"
      }
     },
     "metadata": {},
     "output_type": "display_data"
    },
    {
     "name": "stdout",
     "output_type": "stream",
     "text": [
      "Epoch 19 | train_loss=0.5541\n"
     ]
    },
    {
     "data": {
      "text/plain": [
       " Epoch 20 batches:   0%|          | 0/20 [00:00<?, ?it/s]"
      ],
      "application/vnd.jupyter.widget-view+json": {
       "version_major": 2,
       "version_minor": 0,
       "model_id": "524526aec9af4752a28af0bba063dadb"
      }
     },
     "metadata": {},
     "output_type": "display_data"
    },
    {
     "name": "stdout",
     "output_type": "stream",
     "text": [
      "Epoch 20 | train_loss=0.5529\n",
      "LIGHT eval | val ROC-AUC=0.7245 | pair-acc=0.7386\n",
      "  poprawa! zapisano model (ROC-AUC=0.7245)\n",
      "HEAVY eval | @K=20: Recall@20=0.0162, MRR@20=0.0038\n"
     ]
    },
    {
     "data": {
      "text/plain": [
       " Epoch 21 batches:   0%|          | 0/20 [00:00<?, ?it/s]"
      ],
      "application/vnd.jupyter.widget-view+json": {
       "version_major": 2,
       "version_minor": 0,
       "model_id": "622164481b9e40df8441087ebd48c31f"
      }
     },
     "metadata": {},
     "output_type": "display_data"
    },
    {
     "name": "stdout",
     "output_type": "stream",
     "text": [
      "Epoch 21 | train_loss=0.5518\n"
     ]
    },
    {
     "data": {
      "text/plain": [
       " Epoch 22 batches:   0%|          | 0/20 [00:00<?, ?it/s]"
      ],
      "application/vnd.jupyter.widget-view+json": {
       "version_major": 2,
       "version_minor": 0,
       "model_id": "b78e174738da4282bc5ffa468ae2e24d"
      }
     },
     "metadata": {},
     "output_type": "display_data"
    },
    {
     "name": "stdout",
     "output_type": "stream",
     "text": [
      "Epoch 22 | train_loss=0.5535\n",
      "LIGHT eval | val ROC-AUC=0.7251 | pair-acc=0.7378\n",
      "  poprawa! zapisano model (ROC-AUC=0.7251)\n"
     ]
    },
    {
     "data": {
      "text/plain": [
       " Epoch 23 batches:   0%|          | 0/20 [00:00<?, ?it/s]"
      ],
      "application/vnd.jupyter.widget-view+json": {
       "version_major": 2,
       "version_minor": 0,
       "model_id": "e23a5e379d714778aa1288d92bc1c2b8"
      }
     },
     "metadata": {},
     "output_type": "display_data"
    },
    {
     "name": "stdout",
     "output_type": "stream",
     "text": [
      "Epoch 23 | train_loss=0.5518\n"
     ]
    },
    {
     "data": {
      "text/plain": [
       " Epoch 24 batches:   0%|          | 0/20 [00:00<?, ?it/s]"
      ],
      "application/vnd.jupyter.widget-view+json": {
       "version_major": 2,
       "version_minor": 0,
       "model_id": "f32a309926474e2999757f86a9fa72ee"
      }
     },
     "metadata": {},
     "output_type": "display_data"
    },
    {
     "name": "stdout",
     "output_type": "stream",
     "text": [
      "Epoch 24 | train_loss=0.5510\n",
      "LIGHT eval | val ROC-AUC=0.7262 | pair-acc=0.7421\n",
      "  poprawa! zapisano model (ROC-AUC=0.7262)\n"
     ]
    },
    {
     "data": {
      "text/plain": [
       " Epoch 25 batches:   0%|          | 0/20 [00:00<?, ?it/s]"
      ],
      "application/vnd.jupyter.widget-view+json": {
       "version_major": 2,
       "version_minor": 0,
       "model_id": "5e0710eb747248848ea7f64e88b11810"
      }
     },
     "metadata": {},
     "output_type": "display_data"
    },
    {
     "name": "stdout",
     "output_type": "stream",
     "text": [
      "Epoch 25 | train_loss=0.5509\n",
      "HEAVY eval | @K=20: Recall@20=0.0172, MRR@20=0.0041\n"
     ]
    },
    {
     "data": {
      "text/plain": [
       " Epoch 26 batches:   0%|          | 0/20 [00:00<?, ?it/s]"
      ],
      "application/vnd.jupyter.widget-view+json": {
       "version_major": 2,
       "version_minor": 0,
       "model_id": "200873eefcbf4fe182b818366ca1a9d9"
      }
     },
     "metadata": {},
     "output_type": "display_data"
    },
    {
     "name": "stdout",
     "output_type": "stream",
     "text": [
      "Epoch 26 | train_loss=0.5513\n",
      "LIGHT eval | val ROC-AUC=0.7277 | pair-acc=0.7429\n",
      "  poprawa! zapisano model (ROC-AUC=0.7277)\n"
     ]
    },
    {
     "data": {
      "text/plain": [
       " Epoch 27 batches:   0%|          | 0/20 [00:00<?, ?it/s]"
      ],
      "application/vnd.jupyter.widget-view+json": {
       "version_major": 2,
       "version_minor": 0,
       "model_id": "5af3f0ee587349d8900b4260099512f6"
      }
     },
     "metadata": {},
     "output_type": "display_data"
    },
    {
     "name": "stdout",
     "output_type": "stream",
     "text": [
      "Epoch 27 | train_loss=0.5508\n"
     ]
    },
    {
     "data": {
      "text/plain": [
       " Epoch 28 batches:   0%|          | 0/20 [00:00<?, ?it/s]"
      ],
      "application/vnd.jupyter.widget-view+json": {
       "version_major": 2,
       "version_minor": 0,
       "model_id": "50c2047213044d2a8a938d893c55b276"
      }
     },
     "metadata": {},
     "output_type": "display_data"
    },
    {
     "name": "stdout",
     "output_type": "stream",
     "text": [
      "Epoch 28 | train_loss=0.5484\n",
      "LIGHT eval | val ROC-AUC=0.7251 | pair-acc=0.7408\n",
      "  brak poprawy (1/5)\n"
     ]
    },
    {
     "data": {
      "text/plain": [
       " Epoch 29 batches:   0%|          | 0/20 [00:00<?, ?it/s]"
      ],
      "application/vnd.jupyter.widget-view+json": {
       "version_major": 2,
       "version_minor": 0,
       "model_id": "8907727850c148129edff382ba5fc5f6"
      }
     },
     "metadata": {},
     "output_type": "display_data"
    },
    {
     "name": "stdout",
     "output_type": "stream",
     "text": [
      "Epoch 29 | train_loss=0.5501\n"
     ]
    },
    {
     "data": {
      "text/plain": [
       " Epoch 30 batches:   0%|          | 0/20 [00:00<?, ?it/s]"
      ],
      "application/vnd.jupyter.widget-view+json": {
       "version_major": 2,
       "version_minor": 0,
       "model_id": "1eab5eaa1af24c788c0ca607472a4e92"
      }
     },
     "metadata": {},
     "output_type": "display_data"
    },
    {
     "name": "stdout",
     "output_type": "stream",
     "text": [
      "Epoch 30 | train_loss=0.5508\n",
      "LIGHT eval | val ROC-AUC=0.7249 | pair-acc=0.7410\n",
      "  brak poprawy (2/5)\n",
      "HEAVY eval | @K=20: Recall@20=0.0191, MRR@20=0.0043\n"
     ]
    },
    {
     "data": {
      "text/plain": [
       " Epoch 31 batches:   0%|          | 0/20 [00:00<?, ?it/s]"
      ],
      "application/vnd.jupyter.widget-view+json": {
       "version_major": 2,
       "version_minor": 0,
       "model_id": "c482d01f90c54011aa60fd968c4a80d4"
      }
     },
     "metadata": {},
     "output_type": "display_data"
    },
    {
     "name": "stdout",
     "output_type": "stream",
     "text": [
      "Epoch 31 | train_loss=0.5498\n"
     ]
    },
    {
     "data": {
      "text/plain": [
       " Epoch 32 batches:   0%|          | 0/20 [00:00<?, ?it/s]"
      ],
      "application/vnd.jupyter.widget-view+json": {
       "version_major": 2,
       "version_minor": 0,
       "model_id": "6922bf14fccc44839519ca682f84d723"
      }
     },
     "metadata": {},
     "output_type": "display_data"
    },
    {
     "name": "stdout",
     "output_type": "stream",
     "text": [
      "Epoch 32 | train_loss=0.5489\n",
      "LIGHT eval | val ROC-AUC=0.7284 | pair-acc=0.7446\n",
      "  poprawa! zapisano model (ROC-AUC=0.7284)\n"
     ]
    },
    {
     "data": {
      "text/plain": [
       " Epoch 33 batches:   0%|          | 0/20 [00:00<?, ?it/s]"
      ],
      "application/vnd.jupyter.widget-view+json": {
       "version_major": 2,
       "version_minor": 0,
       "model_id": "ead5722ec5f7421382cc651fee878df9"
      }
     },
     "metadata": {},
     "output_type": "display_data"
    },
    {
     "name": "stdout",
     "output_type": "stream",
     "text": [
      "Epoch 33 | train_loss=0.5507\n"
     ]
    },
    {
     "data": {
      "text/plain": [
       " Epoch 34 batches:   0%|          | 0/20 [00:00<?, ?it/s]"
      ],
      "application/vnd.jupyter.widget-view+json": {
       "version_major": 2,
       "version_minor": 0,
       "model_id": "ea7adaf1d01c47a78192d1484979b381"
      }
     },
     "metadata": {},
     "output_type": "display_data"
    },
    {
     "name": "stdout",
     "output_type": "stream",
     "text": [
      "Epoch 34 | train_loss=0.5502\n",
      "LIGHT eval | val ROC-AUC=0.7294 | pair-acc=0.7450\n",
      "  poprawa! zapisano model (ROC-AUC=0.7294)\n"
     ]
    },
    {
     "data": {
      "text/plain": [
       " Epoch 35 batches:   0%|          | 0/20 [00:00<?, ?it/s]"
      ],
      "application/vnd.jupyter.widget-view+json": {
       "version_major": 2,
       "version_minor": 0,
       "model_id": "1e184b8b534d47b195958fef6777ab86"
      }
     },
     "metadata": {},
     "output_type": "display_data"
    },
    {
     "name": "stdout",
     "output_type": "stream",
     "text": [
      "Epoch 35 | train_loss=0.5483\n",
      "HEAVY eval | @K=20: Recall@20=0.0153, MRR@20=0.0035\n"
     ]
    },
    {
     "data": {
      "text/plain": [
       " Epoch 36 batches:   0%|          | 0/20 [00:00<?, ?it/s]"
      ],
      "application/vnd.jupyter.widget-view+json": {
       "version_major": 2,
       "version_minor": 0,
       "model_id": "a6c9d3a67fdf44159fccb0825c30d0de"
      }
     },
     "metadata": {},
     "output_type": "display_data"
    },
    {
     "name": "stdout",
     "output_type": "stream",
     "text": [
      "Epoch 36 | train_loss=0.5491\n",
      "LIGHT eval | val ROC-AUC=0.7300 | pair-acc=0.7444\n",
      "  poprawa! zapisano model (ROC-AUC=0.7300)\n"
     ]
    },
    {
     "data": {
      "text/plain": [
       " Epoch 37 batches:   0%|          | 0/20 [00:00<?, ?it/s]"
      ],
      "application/vnd.jupyter.widget-view+json": {
       "version_major": 2,
       "version_minor": 0,
       "model_id": "a8fcfdb0e4524a66bcf9186ccba6efae"
      }
     },
     "metadata": {},
     "output_type": "display_data"
    },
    {
     "name": "stdout",
     "output_type": "stream",
     "text": [
      "Epoch 37 | train_loss=0.5487\n"
     ]
    },
    {
     "data": {
      "text/plain": [
       " Epoch 38 batches:   0%|          | 0/20 [00:00<?, ?it/s]"
      ],
      "application/vnd.jupyter.widget-view+json": {
       "version_major": 2,
       "version_minor": 0,
       "model_id": "591b976330224b40afc596273293e92d"
      }
     },
     "metadata": {},
     "output_type": "display_data"
    },
    {
     "name": "stdout",
     "output_type": "stream",
     "text": [
      "Epoch 38 | train_loss=0.5485\n",
      "LIGHT eval | val ROC-AUC=0.7276 | pair-acc=0.7438\n",
      "  brak poprawy (1/5)\n"
     ]
    },
    {
     "data": {
      "text/plain": [
       " Epoch 39 batches:   0%|          | 0/20 [00:00<?, ?it/s]"
      ],
      "application/vnd.jupyter.widget-view+json": {
       "version_major": 2,
       "version_minor": 0,
       "model_id": "58c2573bf742454bbd0af2ddb5c2e469"
      }
     },
     "metadata": {},
     "output_type": "display_data"
    },
    {
     "name": "stdout",
     "output_type": "stream",
     "text": [
      "Epoch 39 | train_loss=0.5485\n"
     ]
    },
    {
     "data": {
      "text/plain": [
       " Epoch 40 batches:   0%|          | 0/20 [00:00<?, ?it/s]"
      ],
      "application/vnd.jupyter.widget-view+json": {
       "version_major": 2,
       "version_minor": 0,
       "model_id": "4df4405e66824360a728ada71e317c90"
      }
     },
     "metadata": {},
     "output_type": "display_data"
    },
    {
     "name": "stdout",
     "output_type": "stream",
     "text": [
      "Epoch 40 | train_loss=0.5486\n",
      "LIGHT eval | val ROC-AUC=0.7303 | pair-acc=0.7467\n",
      "  poprawa! zapisano model (ROC-AUC=0.7303)\n",
      "HEAVY eval | @K=20: Recall@20=0.0137, MRR@20=0.0031\n"
     ]
    },
    {
     "data": {
      "text/plain": [
       " Epoch 41 batches:   0%|          | 0/20 [00:00<?, ?it/s]"
      ],
      "application/vnd.jupyter.widget-view+json": {
       "version_major": 2,
       "version_minor": 0,
       "model_id": "409c1b5c08a94a46964279bec18c98f5"
      }
     },
     "metadata": {},
     "output_type": "display_data"
    },
    {
     "name": "stdout",
     "output_type": "stream",
     "text": [
      "Epoch 41 | train_loss=0.5469\n"
     ]
    },
    {
     "data": {
      "text/plain": [
       " Epoch 42 batches:   0%|          | 0/20 [00:00<?, ?it/s]"
      ],
      "application/vnd.jupyter.widget-view+json": {
       "version_major": 2,
       "version_minor": 0,
       "model_id": "5d287394e6424d15aab5775d6549d1b6"
      }
     },
     "metadata": {},
     "output_type": "display_data"
    },
    {
     "name": "stdout",
     "output_type": "stream",
     "text": [
      "Epoch 42 | train_loss=0.5475\n",
      "LIGHT eval | val ROC-AUC=0.7270 | pair-acc=0.7428\n",
      "  brak poprawy (1/5)\n"
     ]
    },
    {
     "data": {
      "text/plain": [
       " Epoch 43 batches:   0%|          | 0/20 [00:00<?, ?it/s]"
      ],
      "application/vnd.jupyter.widget-view+json": {
       "version_major": 2,
       "version_minor": 0,
       "model_id": "61dc5e423ea0474cada753f9635ada0f"
      }
     },
     "metadata": {},
     "output_type": "display_data"
    },
    {
     "name": "stdout",
     "output_type": "stream",
     "text": [
      "Epoch 43 | train_loss=0.5475\n"
     ]
    },
    {
     "data": {
      "text/plain": [
       " Epoch 44 batches:   0%|          | 0/20 [00:00<?, ?it/s]"
      ],
      "application/vnd.jupyter.widget-view+json": {
       "version_major": 2,
       "version_minor": 0,
       "model_id": "aec4e8ba5a9d4adabb62d003e9483736"
      }
     },
     "metadata": {},
     "output_type": "display_data"
    },
    {
     "name": "stdout",
     "output_type": "stream",
     "text": [
      "Epoch 44 | train_loss=0.5474\n",
      "LIGHT eval | val ROC-AUC=0.7276 | pair-acc=0.7425\n",
      "  brak poprawy (2/5)\n"
     ]
    },
    {
     "data": {
      "text/plain": [
       " Epoch 45 batches:   0%|          | 0/20 [00:00<?, ?it/s]"
      ],
      "application/vnd.jupyter.widget-view+json": {
       "version_major": 2,
       "version_minor": 0,
       "model_id": "5903240631014b1a8e9b7a3fd1849615"
      }
     },
     "metadata": {},
     "output_type": "display_data"
    },
    {
     "name": "stdout",
     "output_type": "stream",
     "text": [
      "Epoch 45 | train_loss=0.5476\n",
      "HEAVY eval | @K=20: Recall@20=0.0143, MRR@20=0.0034\n"
     ]
    },
    {
     "data": {
      "text/plain": [
       " Epoch 46 batches:   0%|          | 0/20 [00:00<?, ?it/s]"
      ],
      "application/vnd.jupyter.widget-view+json": {
       "version_major": 2,
       "version_minor": 0,
       "model_id": "523aa512b1ab4672a33c01f8fc98ad75"
      }
     },
     "metadata": {},
     "output_type": "display_data"
    },
    {
     "name": "stdout",
     "output_type": "stream",
     "text": [
      "Epoch 46 | train_loss=0.5478\n",
      "LIGHT eval | val ROC-AUC=0.7306 | pair-acc=0.7447\n",
      "  poprawa! zapisano model (ROC-AUC=0.7306)\n"
     ]
    },
    {
     "data": {
      "text/plain": [
       " Epoch 47 batches:   0%|          | 0/20 [00:00<?, ?it/s]"
      ],
      "application/vnd.jupyter.widget-view+json": {
       "version_major": 2,
       "version_minor": 0,
       "model_id": "2e9ffa906b484355a1db9bac0b868833"
      }
     },
     "metadata": {},
     "output_type": "display_data"
    },
    {
     "name": "stdout",
     "output_type": "stream",
     "text": [
      "Epoch 47 | train_loss=0.5474\n"
     ]
    },
    {
     "data": {
      "text/plain": [
       " Epoch 48 batches:   0%|          | 0/20 [00:00<?, ?it/s]"
      ],
      "application/vnd.jupyter.widget-view+json": {
       "version_major": 2,
       "version_minor": 0,
       "model_id": "d4c51f05f9334c409298b0aa7d7c32bc"
      }
     },
     "metadata": {},
     "output_type": "display_data"
    },
    {
     "name": "stdout",
     "output_type": "stream",
     "text": [
      "Epoch 48 | train_loss=0.5467\n",
      "LIGHT eval | val ROC-AUC=0.7309 | pair-acc=0.7476\n",
      "  poprawa! zapisano model (ROC-AUC=0.7309)\n"
     ]
    },
    {
     "data": {
      "text/plain": [
       " Epoch 49 batches:   0%|          | 0/20 [00:00<?, ?it/s]"
      ],
      "application/vnd.jupyter.widget-view+json": {
       "version_major": 2,
       "version_minor": 0,
       "model_id": "5468d84067b64ca8a70fec7b93fb49fa"
      }
     },
     "metadata": {},
     "output_type": "display_data"
    },
    {
     "name": "stdout",
     "output_type": "stream",
     "text": [
      "Epoch 49 | train_loss=0.5472\n"
     ]
    },
    {
     "data": {
      "text/plain": [
       " Epoch 50 batches:   0%|          | 0/20 [00:00<?, ?it/s]"
      ],
      "application/vnd.jupyter.widget-view+json": {
       "version_major": 2,
       "version_minor": 0,
       "model_id": "32cc23b43da84f7cb62e45bac8bef21a"
      }
     },
     "metadata": {},
     "output_type": "display_data"
    },
    {
     "name": "stdout",
     "output_type": "stream",
     "text": [
      "Epoch 50 | train_loss=0.5472\n",
      "LIGHT eval | val ROC-AUC=0.7297 | pair-acc=0.7449\n",
      "  brak poprawy (1/5)\n",
      "HEAVY eval | @K=20: Recall@20=0.0140, MRR@20=0.0033\n"
     ]
    },
    {
     "name": "stderr",
     "output_type": "stream",
     "text": [
      "C:\\Users\\matimathew\\AppData\\Local\\Temp\\ipykernel_25524\\3808325582.py:57: FutureWarning: You are using `torch.load` with `weights_only=False` (the current default value), which uses the default pickle module implicitly. It is possible to construct malicious pickle data which will execute arbitrary code during unpickling (See https://github.com/pytorch/pytorch/blob/main/SECURITY.md#untrusted-models for more details). In a future release, the default value for `weights_only` will be flipped to `True`. This limits the functions that could be executed during unpickling. Arbitrary objects will no longer be allowed to be loaded via this mode unless they are explicitly allowlisted by the user via `torch.serialization.add_safe_globals`. We recommend you start setting `weights_only=True` for any use case where you don't have full control of the loaded file. Please open an issue on GitHub for any issues related to this experimental feature.\n",
      "  model.load_state_dict(torch.load(save_path))\n"
     ]
    },
    {
     "data": {
      "text/plain": [
       "TwoTowerModel(\n",
       "  (user_tower): UserTower(\n",
       "    (item_emb): Embedding(82911, 64)\n",
       "    (rating_proj): Linear(in_features=2, out_features=1, bias=True)\n",
       "    (mlp): Sequential(\n",
       "      (0): Linear(in_features=89, out_features=512, bias=True)\n",
       "      (1): ReLU()\n",
       "      (2): Dropout(p=0.2, inplace=False)\n",
       "      (3): Linear(in_features=512, out_features=384, bias=True)\n",
       "      (4): ReLU()\n",
       "      (5): Dropout(p=0.2, inplace=False)\n",
       "      (6): Linear(in_features=384, out_features=256, bias=True)\n",
       "      (7): ReLU()\n",
       "      (8): Dropout(p=0.2, inplace=False)\n",
       "      (9): Linear(in_features=256, out_features=64, bias=True)\n",
       "    )\n",
       "  )\n",
       "  (item_tower): ItemTower(\n",
       "    (actor_emb): Embedding(11465, 64)\n",
       "    (director_emb): Embedding(5163, 64)\n",
       "    (genre_emb): Embedding(20, 64)\n",
       "    (meta_mlp): Sequential(\n",
       "      (0): Linear(in_features=24, out_features=128, bias=True)\n",
       "      (1): ReLU()\n",
       "      (2): Dropout(p=0.2, inplace=False)\n",
       "      (3): Linear(in_features=128, out_features=64, bias=True)\n",
       "      (4): ReLU()\n",
       "    )\n",
       "    (text_mlp): Sequential(\n",
       "      (0): Linear(in_features=300, out_features=512, bias=True)\n",
       "      (1): ReLU()\n",
       "      (2): Dropout(p=0.2, inplace=False)\n",
       "      (3): Linear(in_features=512, out_features=64, bias=True)\n",
       "      (4): ReLU()\n",
       "    )\n",
       "    (final_mlp): Sequential(\n",
       "      (0): Linear(in_features=320, out_features=512, bias=True)\n",
       "      (1): ReLU()\n",
       "      (2): Dropout(p=0.2, inplace=False)\n",
       "      (3): Linear(in_features=512, out_features=256, bias=True)\n",
       "      (4): ReLU()\n",
       "      (5): Dropout(p=0.2, inplace=False)\n",
       "      (6): Linear(in_features=256, out_features=64, bias=True)\n",
       "    )\n",
       "  )\n",
       ")"
      ]
     },
     "execution_count": 549,
     "metadata": {},
     "output_type": "execute_result"
    }
   ],
   "execution_count": 549
  },
  {
   "cell_type": "code",
   "id": "b17a8a41",
   "metadata": {
    "ExecuteTime": {
     "end_time": "2025-07-09T00:23:47.045123Z",
     "start_time": "2025-07-09T00:23:46.999123Z"
    }
   },
   "source": [
    "torch.save(model.user_tower.state_dict(), 'user_tower.pth')\n",
    "torch.save(model.item_tower.state_dict(), 'item_tower.pth')"
   ],
   "outputs": [],
   "execution_count": 550
  }
 ],
 "metadata": {
  "language_info": {
   "name": "python"
  }
 },
 "nbformat": 4,
 "nbformat_minor": 5
}
