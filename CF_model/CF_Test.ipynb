{
 "cells": [
  {
   "cell_type": "code",
   "id": "initial_id",
   "metadata": {
    "collapsed": true,
    "ExecuteTime": {
     "end_time": "2025-08-02T13:58:24.381320Z",
     "start_time": "2025-08-02T13:58:24.370317Z"
    }
   },
   "source": [
    "import implicit\n",
    "import numpy as np\n",
    "from scipy.sparse import csr_matrix\n",
    "import pandas as pd"
   ],
   "outputs": [],
   "execution_count": 4
  },
  {
   "metadata": {
    "ExecuteTime": {
     "end_time": "2025-08-02T13:58:24.413316Z",
     "start_time": "2025-08-02T13:58:24.398316Z"
    }
   },
   "cell_type": "code",
   "source": [
    "data = {\n",
    "    'movie_id': [0, 1, 2, 3, 4, 5, 6],\n",
    "    'title': ['The Matrix', 'Blade Runner', 'Inception', 'Titanic', 'The Notebook', 'Star Wars', 'Alien']\n",
    "}\n",
    "df_movies = pd.DataFrame(data)\n",
    "\n",
    "title_to_idx = {title: i for i, title in enumerate(df_movies['title'])}\n",
    "idx_to_title = {i: title for title, i in title_to_idx.items()}\n",
    "\n",
    "interactions = [\n",
    "    (0, title_to_idx['The Matrix']), (0, title_to_idx['Blade Runner']), (0, title_to_idx['Star Wars']),\n",
    "    (1, title_to_idx['Titanic']), (1, title_to_idx['The Notebook'])\n",
    "]"
   ],
   "id": "ea28053f41d92ada",
   "outputs": [],
   "execution_count": 5
  },
  {
   "metadata": {
    "ExecuteTime": {
     "end_time": "2025-08-02T13:58:24.445325Z",
     "start_time": "2025-08-02T13:58:24.430318Z"
    }
   },
   "cell_type": "code",
   "source": [
    "rows = [u for u, i in interactions]\n",
    "cols = [i for u, i in interactions]\n",
    "data = np.ones(len(rows))\n",
    "user_item_matrix = csr_matrix((data, (rows, cols)), shape=(2, len(df_movies)))"
   ],
   "id": "6dd789c6e83668a6",
   "outputs": [],
   "execution_count": 6
  },
  {
   "metadata": {
    "ExecuteTime": {
     "end_time": "2025-08-02T13:58:24.477180Z",
     "start_time": "2025-08-02T13:58:24.462181Z"
    }
   },
   "cell_type": "code",
   "source": [
    "als_model = implicit.als.AlternatingLeastSquares(factors=32, regularization=0.01, iterations=50)\n",
    "als_model.fit(user_item_matrix)"
   ],
   "id": "37e89b077f02d590",
   "outputs": [
    {
     "data": {
      "text/plain": [
       "  0%|          | 0/50 [00:00<?, ?it/s]"
      ],
      "application/vnd.jupyter.widget-view+json": {
       "version_major": 2,
       "version_minor": 0,
       "model_id": "cae4f3395e3a42bea2e5ae3ccafec5b1"
      }
     },
     "metadata": {},
     "output_type": "display_data"
    }
   ],
   "execution_count": 7
  },
  {
   "metadata": {
    "ExecuteTime": {
     "end_time": "2025-08-02T13:58:24.508178Z",
     "start_time": "2025-08-02T13:58:24.494179Z"
    }
   },
   "cell_type": "code",
   "source": [
    "new_user_likes = ['The Matrix', 'Inception']\n",
    "new_user_indices = [title_to_idx[title] for title in new_user_likes]\n",
    "\n",
    "new_user_sparse_row = csr_matrix(\n",
    "    ([1] * len(new_user_indices),                       # Data (value of interaction is 1)\n",
    "     ([0] * len(new_user_indices), new_user_indices)),  # Coordinates (row 0, specified columns)\n",
    "    shape=(1, len(df_movies))                           # Shape of the matrix\n",
    ")"
   ],
   "id": "d1ef80a20cf75d26",
   "outputs": [],
   "execution_count": 8
  },
  {
   "metadata": {
    "ExecuteTime": {
     "end_time": "2025-08-02T13:58:24.540179Z",
     "start_time": "2025-08-02T13:58:24.525179Z"
    }
   },
   "cell_type": "code",
   "source": [
    "recommended_item_ids, scores = als_model.recommend(\n",
    "    userid=0,\n",
    "    user_items=new_user_sparse_row,\n",
    "    N=5,                                # Number of recommendations\n",
    "    filter_already_liked_items=True     # Don't recommend 'The Matrix' or 'Inception' back to me\n",
    ")\n",
    "\n",
    "print(f\"Because you liked: {', '.join(new_user_likes)}\")\n",
    "print(\"We recommend:\")\n",
    "for item_idx, score in zip(recommended_item_ids, scores):\n",
    "    print(f\"- {idx_to_title[item_idx]} (Score: {score:.3f})\")"
   ],
   "id": "68876a9a4a9042d0",
   "outputs": [
    {
     "name": "stdout",
     "output_type": "stream",
     "text": [
      "Because you liked: The Matrix, Inception\n",
      "We recommend:\n",
      "- Blade Runner (Score: 0.997)\n",
      "- Star Wars (Score: 0.997)\n",
      "- The Notebook (Score: 0.000)\n",
      "- Titanic (Score: 0.000)\n",
      "- Alien (Score: 0.000)\n"
     ]
    }
   ],
   "execution_count": 9
  }
 ],
 "metadata": {
  "kernelspec": {
   "display_name": "Python 3",
   "language": "python",
   "name": "python3"
  },
  "language_info": {
   "codemirror_mode": {
    "name": "ipython",
    "version": 2
   },
   "file_extension": ".py",
   "mimetype": "text/x-python",
   "name": "python",
   "nbconvert_exporter": "python",
   "pygments_lexer": "ipython2",
   "version": "2.7.6"
  }
 },
 "nbformat": 4,
 "nbformat_minor": 5
}
