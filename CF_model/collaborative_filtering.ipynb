{
 "cells": [
  {
   "cell_type": "code",
   "execution_count": 15,
   "id": "initial_id",
   "metadata": {
    "ExecuteTime": {
     "end_time": "2025-08-10T18:00:01.415228Z",
     "start_time": "2025-08-10T18:00:01.406216Z"
    },
    "collapsed": true
   },
   "outputs": [],
   "source": [
    "import implicit\n",
    "import numpy as np\n",
    "from scipy.sparse import csr_matrix\n",
    "import pandas as pd"
   ]
  },
  {
   "cell_type": "code",
   "execution_count": 16,
   "id": "a46b7b4e",
   "metadata": {
    "ExecuteTime": {
     "end_time": "2025-08-10T18:00:03.919086Z",
     "start_time": "2025-08-10T18:00:01.478064Z"
    }
   },
   "outputs": [
    {
     "name": "stdout",
     "output_type": "stream",
     "text": [
      "<class 'pandas.core.frame.DataFrame'>\n",
      "RangeIndex: 30594215 entries, 0 to 30594214\n",
      "Data columns (total 5 columns):\n",
      " #   Column       Dtype  \n",
      "---  ------       -----  \n",
      " 0   userId       int64  \n",
      " 1   movieId      int64  \n",
      " 2   rating       float64\n",
      " 3   day_of_week  int64  \n",
      " 4   age_days     float32\n",
      "dtypes: float32(1), float64(1), int64(3)\n",
      "memory usage: 1.0 GB\n",
      "None\n",
      "<class 'pandas.core.frame.DataFrame'>\n",
      "RangeIndex: 30594215 entries, 0 to 30594214\n",
      "Data columns (total 3 columns):\n",
      " #   Column   Dtype  \n",
      "---  ------   -----  \n",
      " 0   userId   int64  \n",
      " 1   movieId  int64  \n",
      " 2   rating   float64\n",
      "dtypes: float64(1), int64(2)\n",
      "memory usage: 700.2 MB\n",
      "None\n",
      "Number of unique movieIds: 84133\n"
     ]
    }
   ],
   "source": [
    "ratings = pd.read_parquet('../data/ratings_clean.parquet')\n",
    "print(ratings.info())\n",
    "ratings = ratings.drop(columns=['age_days', 'day_of_week'])\n",
    "\n",
    "print(ratings.info())\n",
    "print('Number of unique movieIds:', ratings['movieId'].nunique())"
   ]
  },
  {
   "cell_type": "markdown",
   "id": "cfd367fb",
   "metadata": {},
   "source": [
    "# Prepare LOOCV"
   ]
  },
  {
   "cell_type": "code",
   "execution_count": 17,
   "id": "01bd7a6b",
   "metadata": {
    "ExecuteTime": {
     "end_time": "2025-08-10T18:00:09.887041Z",
     "start_time": "2025-08-10T18:00:03.981377Z"
    }
   },
   "outputs": [
    {
     "name": "stdout",
     "output_type": "stream",
     "text": [
      "<class 'pandas.core.frame.DataFrame'>\n",
      "Index: 157023 entries, 59 to 30594056\n",
      "Data columns (total 3 columns):\n",
      " #   Column     Non-Null Count   Dtype\n",
      "---  ------     --------------   -----\n",
      " 0   userId     157023 non-null  int64\n",
      " 1   movieId    157023 non-null  int64\n",
      " 2   to_remove  157023 non-null  bool \n",
      "dtypes: bool(1), int64(2)\n",
      "memory usage: 3.7 MB\n",
      "None\n",
      "30594215\n",
      "<class 'pandas.core.frame.DataFrame'>\n",
      "Index: 30437192 entries, 0 to 30594214\n",
      "Data columns (total 3 columns):\n",
      " #   Column   Dtype  \n",
      "---  ------   -----  \n",
      " 0   userId   int64  \n",
      " 1   movieId  int64  \n",
      " 2   rating   float64\n",
      "dtypes: float64(1), int64(2)\n",
      "memory usage: 928.9 MB\n",
      "None\n"
     ]
    }
   ],
   "source": [
    "holdout_df = pd.read_parquet('../data/ratings_LOOCV.parquet')\n",
    "holdout_df = holdout_df.rename(columns={'holdout_movieId': 'movieId'})\n",
    "holdout_df['to_remove'] = True\n",
    "print(holdout_df.info())\n",
    "\n",
    "print(len(ratings))\n",
    "merged = ratings.merge(holdout_df, on=['userId', 'movieId'], how='left')\n",
    "ratings_loocv = merged[merged['to_remove'].isna()].drop(columns='to_remove')\n",
    "print(ratings_loocv.info())"
   ]
  },
  {
   "cell_type": "code",
   "execution_count": 18,
   "id": "ef34748a",
   "metadata": {
    "ExecuteTime": {
     "end_time": "2025-08-10T18:00:09.965838Z",
     "start_time": "2025-08-10T18:00:09.951032Z"
    }
   },
   "outputs": [],
   "source": [
    "# print(f'userIds ratings: {ratings['userId'].nunique()}, ratings_loocv: {ratings_loocv['userId'].nunique()}')\n",
    "# assert ratings['userId'].nunique() == ratings_loocv['userId'].nunique()\n",
    "# print(f'Movieids ratings: {ratings['movieId'].nunique()}, ratings_loocv: {ratings_loocv['movieId'].nunique()}')\n",
    "# assert ratings['movieId'].nunique() == ratings_loocv['movieId'].nunique()\n",
    "# Ignore the 9 movies that are missing, remove them from the matrix used for CF"
   ]
  },
  {
   "cell_type": "code",
   "execution_count": 19,
   "id": "3ceb66c4",
   "metadata": {
    "ExecuteTime": {
     "end_time": "2025-08-10T18:00:10.791107Z",
     "start_time": "2025-08-10T18:00:10.029835Z"
    }
   },
   "outputs": [
    {
     "name": "stdout",
     "output_type": "stream",
     "text": [
      "<class 'pandas.core.frame.DataFrame'>\n",
      "RangeIndex: 87585 entries, 0 to 87584\n",
      "Data columns (total 27 columns):\n",
      " #   Column                Non-Null Count  Dtype  \n",
      "---  ------                --------------  -----  \n",
      " 0   movieId               87585 non-null  int64  \n",
      " 1   imdbId                87585 non-null  object \n",
      " 2   vote_average          86493 non-null  float64\n",
      " 3   vote_count            86493 non-null  float64\n",
      " 4   status                86493 non-null  object \n",
      " 5   release_date          87455 non-null  object \n",
      " 6   revenue               86493 non-null  float64\n",
      " 7   runtime               86493 non-null  float64\n",
      " 8   adult                 86493 non-null  object \n",
      " 9   backdrop_path         70442 non-null  object \n",
      " 10  budget                86493 non-null  float64\n",
      " 11  homepage              17774 non-null  object \n",
      " 12  original_language     86493 non-null  object \n",
      " 13  original_title        86493 non-null  object \n",
      " 14  overview              85667 non-null  object \n",
      " 15  popularity            86493 non-null  float64\n",
      " 16  poster_path           84365 non-null  object \n",
      " 17  tagline               39734 non-null  object \n",
      " 18  production_companies  72731 non-null  object \n",
      " 19  production_countries  79796 non-null  object \n",
      " 20  spoken_languages      82403 non-null  object \n",
      " 21  keywords              60235 non-null  object \n",
      " 22  title                 87585 non-null  object \n",
      " 23  genres                85974 non-null  object \n",
      " 24  Directors             78562 non-null  object \n",
      " 25  Cast                  78562 non-null  object \n",
      " 26  StarActors            78562 non-null  object \n",
      "dtypes: float64(6), int64(1), object(20)\n",
      "memory usage: 18.0+ MB\n",
      "None\n"
     ]
    }
   ],
   "source": [
    "movies = pd.read_csv('../data/Movies_final_ML.csv')\n",
    "print(movies.info())"
   ]
  },
  {
   "cell_type": "code",
   "execution_count": 20,
   "id": "c0a44455",
   "metadata": {
    "ExecuteTime": {
     "end_time": "2025-08-10T18:00:12.087041Z",
     "start_time": "2025-08-10T18:00:10.869823Z"
    }
   },
   "outputs": [
    {
     "name": "stdout",
     "output_type": "stream",
     "text": [
      "Holdout before filter: 157023\n",
      "Holdout after filter: 157014\n"
     ]
    }
   ],
   "source": [
    "user_map = {user_id: idx for idx, user_id in enumerate(ratings_loocv['userId'].unique())}\n",
    "movie_map = {movie_id: idx for idx, movie_id in enumerate(ratings_loocv['movieId'].unique())}\n",
    "\n",
    "reverse_user_map = {v: k for k, v in user_map.items()}\n",
    "reverse_movie_map = {v: k for k, v in movie_map.items()}\n",
    "\n",
    "holdout_filtered = holdout_df[holdout_df['movieId'].isin(ratings_loocv['movieId'].unique())]\n",
    "print(f\"Holdout before filter: {len(holdout_df)}\")\n",
    "print(f\"Holdout after filter: {len(holdout_filtered)}\")\n",
    "\n",
    "user_idx = ratings_loocv['userId'].map(user_map)\n",
    "movie_idx = ratings_loocv['movieId'].map(movie_map)"
   ]
  },
  {
   "cell_type": "code",
   "execution_count": 21,
   "id": "f1c235f4b8e5a781",
   "metadata": {
    "ExecuteTime": {
     "end_time": "2025-08-10T18:00:12.991685Z",
     "start_time": "2025-08-10T18:00:12.213541Z"
    }
   },
   "outputs": [
    {
     "name": "stdout",
     "output_type": "stream",
     "text": [
      "(157023, 84124)\n"
     ]
    }
   ],
   "source": [
    "sparse_matrix = csr_matrix((ratings_loocv['rating'].values, (user_idx, movie_idx)), shape=(len(user_map), len(movie_map)))\n",
    "print(sparse_matrix.shape)"
   ]
  },
  {
   "cell_type": "code",
   "execution_count": 22,
   "id": "904a8e68",
   "metadata": {
    "ExecuteTime": {
     "end_time": "2025-08-10T18:00:17.118813Z",
     "start_time": "2025-08-10T18:00:13.055192Z"
    }
   },
   "outputs": [
    {
     "name": "stdout",
     "output_type": "stream",
     "text": [
      "Row 0, Col 0 → 4.0\n",
      "Row 0, Col 1 → 3.0\n",
      "Row 0, Col 2 → 5.0\n",
      "Row 0, Col 3 → 5.0\n",
      "Row 0, Col 4 → 5.0\n",
      "\n",
      "0       4.0\n",
      "289     5.0\n",
      "1284    4.5\n",
      "4304    4.0\n",
      "5346    4.0\n",
      "Name: rating, dtype: float64\n"
     ]
    }
   ],
   "source": [
    "# Print values from the sparse matrix and from the ratings DataFrame to compare if they are correct\n",
    "triplets = zip(*sparse_matrix.nonzero(), sparse_matrix.data)\n",
    "\n",
    "for r, c, v in list(triplets)[:5]:\n",
    "    print(f\"Row {r}, Col {c} → {v}\")\n",
    "\n",
    "print()\n",
    "print(ratings[ratings['movieId'] == reverse_movie_map[0]]['rating'].head(5))"
   ]
  },
  {
   "cell_type": "code",
   "execution_count": 23,
   "id": "bc103646",
   "metadata": {
    "ExecuteTime": {
     "end_time": "2025-08-10T18:00:17.353160Z",
     "start_time": "2025-08-10T18:00:17.183971Z"
    }
   },
   "outputs": [
    {
     "name": "stdout",
     "output_type": "stream",
     "text": [
      "Title mapping created for 84124 movies\n"
     ]
    }
   ],
   "source": [
    "movies_in_ratings = movies[movies['movieId'].isin(ratings_loocv['movieId'].unique())]\n",
    "\n",
    "idx_to_title = {\n",
    "    movie_map[movieId]: title\n",
    "    for movieId, title in zip(movies_in_ratings['movieId'], movies_in_ratings['title'])\n",
    "}\n",
    "\n",
    "print(f\"Title mapping created for {len(idx_to_title)} movies\")"
   ]
  },
  {
   "cell_type": "code",
   "execution_count": 24,
   "id": "37e89b077f02d590",
   "metadata": {
    "ExecuteTime": {
     "end_time": "2025-08-10T18:00:48.469318Z",
     "start_time": "2025-08-10T18:00:18.672489Z"
    }
   },
   "outputs": [
    {
     "data": {
      "application/vnd.jupyter.widget-view+json": {
       "model_id": "4d9812a8d235448b8a1743c26ef5beca",
       "version_major": 2,
       "version_minor": 0
      },
      "text/plain": [
       "  0%|          | 0/50 [00:00<?, ?it/s]"
      ]
     },
     "metadata": {},
     "output_type": "display_data"
    }
   ],
   "source": [
    "als_model = implicit.als.AlternatingLeastSquares(factors=32, regularization=0.01, iterations=50)\n",
    "als_model.fit(sparse_matrix)"
   ]
  },
  {
   "cell_type": "code",
   "execution_count": 25,
   "id": "4bdc56d7b1d1dcf0",
   "metadata": {
    "ExecuteTime": {
     "end_time": "2025-08-10T18:00:18.656050Z",
     "start_time": "2025-08-10T18:00:17.415958Z"
    }
   },
   "outputs": [
    {
     "name": "stdout",
     "output_type": "stream",
     "text": [
      "Zero columns in sparse matrix: 0\n",
      "Holdout movies missing from training: 0\n"
     ]
    }
   ],
   "source": [
    "zero_cols = (sparse_matrix.sum(axis=0) == 0).sum()\n",
    "print(f\"Zero columns in sparse matrix: {zero_cols}\")  # Should be 0\n",
    "\n",
    "missing_movies = set(holdout_filtered['movieId']) - set(ratings_loocv['movieId'])\n",
    "print(f\"Holdout movies missing from training: {len(missing_movies)}\")\n",
    "\n",
    "rec_ids, _ = als_model.recommend(userid=0, user_items=sparse_matrix[0], N=10)\n",
    "for rec_id in rec_ids:\n",
    "    assert rec_id < len(movie_map), f\"Invalid recommendation index: {rec_id}\""
   ]
  },
  {
   "cell_type": "code",
   "execution_count": 26,
   "id": "68876a9a4a9042d0",
   "metadata": {
    "ExecuteTime": {
     "end_time": "2025-08-10T18:00:48.610597Z",
     "start_time": "2025-08-10T18:00:48.594994Z"
    }
   },
   "outputs": [
    {
     "name": "stdout",
     "output_type": "stream",
     "text": [
      "We recommend:\n",
      "- The Godfather (Score: 1.021)\n",
      "- One Flew Over the Cuckoo's Nest (Score: 1.010)\n",
      "- American Beauty (Score: 0.927)\n",
      "- Good Will Hunting (Score: 0.903)\n",
      "- The Shawshank Redemption (Score: 0.900)\n"
     ]
    }
   ],
   "source": [
    "recommended_item_ids, scores = als_model.recommend(\n",
    "    userid=0,\n",
    "    user_items=sparse_matrix[0],\n",
    "    N=5,\n",
    "    filter_already_liked_items=True\n",
    ")\n",
    "\n",
    "print(\"We recommend:\")\n",
    "for item_idx, score in zip(recommended_item_ids, scores):\n",
    "    print(f\"- {idx_to_title[item_idx]} (Score: {score:.3f})\")"
   ]
  },
  {
   "cell_type": "markdown",
   "id": "d24df78f",
   "metadata": {},
   "source": [
    "# Evaluation"
   ]
  },
  {
   "cell_type": "code",
   "execution_count": 27,
   "id": "81dd3a2e6cf205d2",
   "metadata": {},
   "outputs": [
    {
     "name": "stdout",
     "output_type": "stream",
     "text": [
      "Sample holdout size: 157014\n"
     ]
    }
   ],
   "source": [
    "# np.random.seed(213)\n",
    "# sample_users = np.random.choice(\n",
    "#     holdout_filtered['userId'].unique(),\n",
    "#     size=10000,\n",
    "#     replace=False\n",
    "# )\n",
    "\n",
    "# holdout_filtered = holdout_filtered[holdout_filtered['userId'].isin(sample_users)]\n",
    "print(f\"Sample holdout size: {len(holdout_filtered)}\")"
   ]
  },
  {
   "cell_type": "code",
   "execution_count": 28,
   "id": "30508c12",
   "metadata": {
    "ExecuteTime": {
     "end_time": "2025-08-10T18:00:51.343666Z",
     "start_time": "2025-08-10T18:00:48.674754Z"
    }
   },
   "outputs": [
    {
     "name": "stdout",
     "output_type": "stream",
     "text": [
      "Evaluating 157014 unique users\n"
     ]
    },
    {
     "name": "stderr",
     "output_type": "stream",
     "text": [
      "100%|██████████| 157014/157014 [01:23<00:00, 1876.30it/s]\n",
      " 20%|██        | 1/5 [01:23<05:35, 83.76s/it]"
     ]
    },
    {
     "name": "stdout",
     "output_type": "stream",
     "text": [
      "Recall@5: 0.2960, MRR@5: 0.1939, nDCG@5: 0.2192\n"
     ]
    },
    {
     "name": "stderr",
     "output_type": "stream",
     "text": [
      "100%|██████████| 157014/157014 [01:31<00:00, 1707.80it/s]\n",
      " 40%|████      | 2/5 [02:55<04:25, 88.60s/it]"
     ]
    },
    {
     "name": "stdout",
     "output_type": "stream",
     "text": [
      "Recall@10: 0.3841, MRR@10: 0.2056, nDCG@10: 0.2476\n"
     ]
    },
    {
     "name": "stderr",
     "output_type": "stream",
     "text": [
      "100%|██████████| 157014/157014 [01:36<00:00, 1627.69it/s]\n",
      " 60%|██████    | 3/5 [04:32<03:04, 92.21s/it]"
     ]
    },
    {
     "name": "stdout",
     "output_type": "stream",
     "text": [
      "Recall@20: 0.4794, MRR@20: 0.2122, nDCG@20: 0.2717\n"
     ]
    },
    {
     "name": "stderr",
     "output_type": "stream",
     "text": [
      "100%|██████████| 157014/157014 [02:07<00:00, 1228.50it/s]\n",
      " 80%|████████  | 4/5 [06:40<01:46, 106.28s/it]"
     ]
    },
    {
     "name": "stdout",
     "output_type": "stream",
     "text": [
      "Recall@50: 0.6126, MRR@50: 0.2164, nDCG@50: 0.2982\n"
     ]
    },
    {
     "name": "stderr",
     "output_type": "stream",
     "text": [
      "100%|██████████| 157014/157014 [02:44<00:00, 956.12it/s] \n",
      "100%|██████████| 5/5 [09:24<00:00, 112.88s/it]"
     ]
    },
    {
     "name": "stdout",
     "output_type": "stream",
     "text": [
      "Recall@100: 0.7114, MRR@100: 0.2178, nDCG@100: 0.3142\n"
     ]
    },
    {
     "name": "stderr",
     "output_type": "stream",
     "text": [
      "\n"
     ]
    }
   ],
   "source": [
    "from tqdm import tqdm\n",
    "\n",
    "ks = [5, 10, 20, 50, 100]\n",
    "\n",
    "holdout_map = holdout_filtered.set_index('userId')['movieId'].to_dict()\n",
    "\n",
    "print(f\"Evaluating {len(holdout_map)} unique users\")\n",
    "\n",
    "for K in tqdm(ks):\n",
    "    recalls, mrrs, ndcgs = [], [], []\n",
    "\n",
    "    for userId, true_holdout_item in tqdm(holdout_map.items()):\n",
    "        idx = user_map[userId]\n",
    "\n",
    "        recommended_item_ids, scores = als_model.recommend(\n",
    "            userid=idx,\n",
    "            user_items=sparse_matrix[idx],\n",
    "            N=K,\n",
    "            filter_already_liked_items=True\n",
    "        )\n",
    "\n",
    "        true_set = {true_holdout_item}\n",
    "        recommended_movie_ids = [reverse_movie_map[r] for r in recommended_item_ids]\n",
    "\n",
    "        # Recall@K\n",
    "        recalls.append(int(any(r in true_set for r in recommended_movie_ids)))\n",
    "\n",
    "        # MRR@K\n",
    "        rr = 0.0\n",
    "        for rank, movie_id in enumerate(recommended_movie_ids, 1):\n",
    "            if movie_id in true_set:\n",
    "                rr = 1.0 / rank\n",
    "                break\n",
    "        mrrs.append(rr)\n",
    "\n",
    "        # nDCG@K\n",
    "        relevance_scores = [1.0 if movie_id in true_set else 0.0 for movie_id in recommended_movie_ids]\n",
    "        dcg = sum(rel / np.log2(rank + 1) for rank, rel in enumerate(relevance_scores, 1))\n",
    "        idcg = 1.0 # For leave-one-out, the ideal DCG is always 1.0 if the item is found\n",
    "        ndcg = dcg / idcg\n",
    "        ndcgs.append(ndcg)\n",
    "\n",
    "    print(f'Recall@{K}: {float(np.mean(recalls)):.4f}, MRR@{K}: {float(np.mean(mrrs)):.4f}, nDCG@{K}: {float(np.mean(ndcgs)):.4f}')"
   ]
  },
  {
   "cell_type": "code",
   "execution_count": 29,
   "id": "3a7cbac6",
   "metadata": {},
   "outputs": [],
   "source": [
    "als_model.save('collaborative_filtering.npz')"
   ]
  }
 ],
 "metadata": {
  "kernelspec": {
   "display_name": "base",
   "language": "python",
   "name": "python3"
  },
  "language_info": {
   "codemirror_mode": {
    "name": "ipython",
    "version": 3
   },
   "file_extension": ".py",
   "mimetype": "text/x-python",
   "name": "python",
   "nbconvert_exporter": "python",
   "pygments_lexer": "ipython3",
   "version": "3.12.2"
  }
 },
 "nbformat": 4,
 "nbformat_minor": 5
}
