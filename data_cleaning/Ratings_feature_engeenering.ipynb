{
 "cells": [
  {
   "metadata": {},
   "cell_type": "markdown",
   "source": "# Wstępne przetworzenie danych odnoszacych sie do ratingow userow oraz ich podzial do user_features",
   "id": "cc1c337e57628b8"
  },
  {
   "cell_type": "code",
   "id": "initial_id",
   "metadata": {
    "collapsed": true,
    "ExecuteTime": {
     "end_time": "2025-07-21T13:52:08.020028Z",
     "start_time": "2025-07-21T13:52:08.004515Z"
    }
   },
   "source": [
    "import pandas as pd\n",
    "from sklearn.model_selection import train_test_split"
   ],
   "outputs": [],
   "execution_count": 11
  },
  {
   "cell_type": "code",
   "source": "df_ratings = pd.read_csv(\"ratings.csv\")",
   "metadata": {
    "collapsed": false,
    "ExecuteTime": {
     "end_time": "2025-07-21T13:52:13.109676Z",
     "start_time": "2025-07-21T13:52:08.040303Z"
    }
   },
   "id": "d9bc36eda0f0186",
   "outputs": [],
   "execution_count": 12
  },
  {
   "cell_type": "code",
   "source": [
    "df_ratings[\"timestamp\"] = pd.to_datetime(df_ratings[\"timestamp\"], unit=\"s\")\n",
    "\n",
    "df_ratings[\"day_of_week\"] = df_ratings[\"timestamp\"].dt.dayofweek\n",
    "# df_ratings[\"day\"] = df_ratings[\"timestamp\"].dt.day\n",
    "# df_ratings[\"month\"] = df_ratings[\"timestamp\"].dt.month\n",
    "# df_ratings[\"year\"] = df_ratings[\"timestamp\"].dt.year\n",
    "#\n",
    "# df_ratings.drop(columns=[\"timestamp\"], inplace=True)"
   ],
   "metadata": {
    "collapsed": false,
    "ExecuteTime": {
     "end_time": "2025-07-21T13:52:21.635222Z",
     "start_time": "2025-07-21T13:52:13.135988Z"
    }
   },
   "id": "3a488ee99ccbddee",
   "outputs": [],
   "execution_count": 13
  },
  {
   "cell_type": "code",
   "source": [
    "df_ratings.info()"
   ],
   "metadata": {
    "collapsed": false,
    "ExecuteTime": {
     "end_time": "2025-07-21T13:52:21.661708Z",
     "start_time": "2025-07-21T13:52:21.655716Z"
    }
   },
   "id": "8e5458c5bc66e479",
   "outputs": [
    {
     "name": "stdout",
     "output_type": "stream",
     "text": [
      "<class 'pandas.core.frame.DataFrame'>\n",
      "RangeIndex: 32000204 entries, 0 to 32000203\n",
      "Data columns (total 5 columns):\n",
      " #   Column       Dtype         \n",
      "---  ------       -----         \n",
      " 0   userId       int64         \n",
      " 1   movieId      int64         \n",
      " 2   rating       float64       \n",
      " 3   timestamp    datetime64[ns]\n",
      " 4   day_of_week  int32         \n",
      "dtypes: datetime64[ns](1), float64(1), int32(1), int64(2)\n",
      "memory usage: 1.1 GB\n"
     ]
    }
   ],
   "execution_count": 14
  },
  {
   "cell_type": "code",
   "source": [
    "# Zapisujemy dodatkowo przeksztalcenie time_stamp\n",
    "df_ratings.to_csv(\"ratings_improved.csv\", index=False)"
   ],
   "metadata": {
    "collapsed": false,
    "ExecuteTime": {
     "end_time": "2025-07-21T13:53:01.759250Z",
     "start_time": "2025-07-21T13:52:21.693289Z"
    }
   },
   "id": "d431619b191290f2",
   "outputs": [],
   "execution_count": 15
  },
  {
   "metadata": {},
   "cell_type": "markdown",
   "source": "# Przygotowujemy cechy odpowiednio dla train i test\n",
   "id": "30fe65958e838908"
  },
  {
   "metadata": {},
   "cell_type": "code",
   "outputs": [],
   "execution_count": null,
   "source": [
    "train_users, test_users = train_test_split(df_ratings['userId'].unique(), test_size=0.2, random_state=42)\n",
    "df_train_ratings = df_ratings[df_ratings['userId'].isin(train_users)]\n",
    "df_test_ratings  = df_ratings[df_ratings['userId'].isin(test_users)]"
   ],
   "id": "8955ee4a6888d085"
  },
  {
   "cell_type": "code",
   "source": [
    "df_movies = pd.read_csv(\n",
    "    \"Movies_final_ML.csv\",\n",
    "    usecols=[\"movieId\", \"genres\"]\n",
    ")"
   ],
   "metadata": {
    "collapsed": false,
    "ExecuteTime": {
     "end_time": "2025-07-21T13:53:10.114741Z",
     "start_time": "2025-07-21T13:53:09.773150Z"
    }
   },
   "id": "358e1a49314158b8",
   "outputs": [],
   "execution_count": 17
  },
  {
   "metadata": {},
   "cell_type": "markdown",
   "source": "## Train",
   "id": "149e1393ca5d6551"
  },
  {
   "metadata": {},
   "cell_type": "code",
   "outputs": [],
   "execution_count": null,
   "source": [
    "df_train_ratings[\"timestamp\"] = pd.to_datetime(df_train_ratings[\"timestamp\"], unit=\"s\")\n",
    "\n",
    "df_train_ratings[\"day_of_week\"] = df_train_ratings[\"timestamp\"].dt.dayofweek\n",
    "\n",
    "df_train_ratings[\"is_weekend\"] = df_train_ratings[\"day_of_week\"].isin([5, 6]).astype(int)"
   ],
   "id": "859f8619f4a8a9f6"
  },
  {
   "metadata": {},
   "cell_type": "code",
   "outputs": [],
   "execution_count": null,
   "source": [
    "df_merged_Tr = df_train_ratings(df_movies, on=\"movieId\", how=\"left\")\n",
    "\n",
    "df_merged_Tr[\"genres\"] = df_merged_Tr[\"genres\"].fillna(\"\")  # w razie pustych\n",
    "df_merged_Tr[\"genres_list\"] = df_merged_Tr[\"genres\"].apply(lambda g: g.split(\",\"))"
   ],
   "id": "50e115c5932df53e"
  },
  {
   "metadata": {},
   "cell_type": "code",
   "outputs": [],
   "execution_count": null,
   "source": [
    "# Grupujemy po userID\n",
    "df_user_base_Tr = df_merged_Tr.groupby(\"userId\").agg(\n",
    "    num_rating = (\"rating\", \"count\"),\n",
    "    avg_rating = (\"rating\", \"mean\"),\n",
    "    weekend_count = (\"is_weekend\", \"sum\")\n",
    ").reset_index()\n",
    "\n",
    "# Weekend_watcher = 1 jeśli > 50% ocen w weekend\n",
    "df_user_base_Tr[\"weekend_ratio\"] = df_user_base_Tr[\"weekend_count\"] / df_user_base_Tr[\"num_rating\"]\n",
    "df_user_base_Tr[\"weekend_watcher\"] = (df_user_base_Tr[\"weekend_ratio\"] > 0.5).astype(int)\n",
    "\n",
    "df_user_base_Tr.drop(columns=[\"weekend_ratio\", \"weekend_count\"], inplace=True)\n"
   ],
   "id": "95d901591a39629c"
  },
  {
   "metadata": {},
   "cell_type": "code",
   "outputs": [],
   "execution_count": null,
   "source": [
    "bins = [0, 3, 4, 5]\n",
    "labels = [\"negative\", \"neutral\", \"positive\"]\n",
    "df_user_base_Tr[\"type_of_viewer\"] = pd.cut(\n",
    "    df_user_base_Tr[\"avg_rating\"],\n",
    "    bins=bins,\n",
    "    labels=labels,\n",
    "    include_lowest=True\n",
    ")\n",
    "\n",
    "group_counts_Tr = df_user_base_Tr[\"type_of_viewer\"].value_counts()"
   ],
   "id": "4c2e37e1d8d74a05"
  },
  {
   "metadata": {},
   "cell_type": "code",
   "outputs": [],
   "execution_count": null,
   "source": [
    "df_exploded_Tr = df_merged_Tr.explode(\"genres_list\")\n",
    "\n",
    "#Pozwoli zapobiec stworzeniu 2 kolumn, np. genre_Action i genre_ Action\n",
    "df_exploded_Tr[\"genres_list\"] = df_exploded_Tr[\"genres_list\"].str.strip()\n",
    "\n",
    "df_exploded_Tr = df_exploded_Tr[df_exploded_Tr[\"genres_list\"] != \"\"]\n",
    "\n",
    "df_genre_user_Tr = df_exploded_Tr.groupby([\"userId\", \"genres_list\"])[\"rating\"].mean().reset_index()\n",
    "df_genre_user_Tr.rename(columns={\"genres_list\": \"genre\", \"rating\": \"avg_rating_genre\"}, inplace=True)\n",
    "\n",
    "df_genre_pivot_Tr = df_genre_user_Tr.pivot(\n",
    "    index=\"userId\",\n",
    "    columns=\"genre\",\n",
    "    values=\"avg_rating_genre\"\n",
    ").reset_index()\n",
    "\n",
    "df_genre_pivot_Tr.columns = [\"userId\"] + [\"genre_\" + str(col) for col in df_genre_pivot_Tr.columns if col != \"userId\"]\n",
    "df_genre_pivot_Tr.head()\n"
   ],
   "id": "6d90d85906fae54f"
  },
  {
   "metadata": {},
   "cell_type": "code",
   "outputs": [],
   "execution_count": null,
   "source": [
    "df_user_features_Tr = df_user_base_Tr.merge(df_genre_pivot_Tr, on=\"userId\", how=\"left\")\n",
    "\n",
    "df_user_features_Tr.to_csv(\"user_features_train.csv\", index=False)"
   ],
   "id": "21a1c161b2866b65"
  },
  {
   "metadata": {},
   "cell_type": "markdown",
   "source": "## Test",
   "id": "cd12c41b7b1b335"
  },
  {
   "cell_type": "code",
   "source": [
    "df_test_ratings[\"timestamp\"] = pd.to_datetime(df_test_ratings[\"timestamp\"], unit=\"s\")\n",
    "\n",
    "df_test_ratings[\"day_of_week\"] = df_test_ratings[\"timestamp\"].dt.dayofweek\n",
    "\n",
    "df_test_ratings[\"is_weekend\"] = df_test_ratings[\"day_of_week\"].isin([5, 6]).astype(int)"
   ],
   "metadata": {
    "collapsed": false,
    "ExecuteTime": {
     "end_time": "2025-07-21T13:53:20.356701Z",
     "start_time": "2025-07-21T13:53:11.700093Z"
    }
   },
   "id": "8a687df17c626488",
   "outputs": [],
   "execution_count": 18
  },
  {
   "cell_type": "code",
   "source": [
    "df_merged_Te = df_test_ratings.merge(df_movies, on=\"movieId\", how=\"left\")\n",
    "\n",
    "df_merged_Te[\"genres\"] = df_merged_Te[\"genres\"].fillna(\"\")  # w razie pustych\n",
    "df_merged_Te[\"genres_list\"] = df_merged_Te[\"genres\"].apply(lambda g: g.split(\",\"))\n"
   ],
   "metadata": {
    "collapsed": false,
    "ExecuteTime": {
     "end_time": "2025-07-21T13:53:50.563664Z",
     "start_time": "2025-07-21T13:53:22.729066Z"
    }
   },
   "id": "d4537f6562312102",
   "outputs": [],
   "execution_count": 19
  },
  {
   "cell_type": "code",
   "source": [
    "# Grupujemy po userID\n",
    "df_user_base_Te = df_merged_Te.groupby(\"userId\").agg(\n",
    "    num_rating = (\"rating\", \"count\"),\n",
    "    avg_rating = (\"rating\", \"mean\"),\n",
    "    weekend_count = (\"is_weekend\", \"sum\")  \n",
    ").reset_index()\n",
    "\n",
    "# Weekend_watcher = 1 jeśli > 50% ocen w weekend\n",
    "df_user_base_Te[\"weekend_ratio\"] = df_user_base_Te[\"weekend_count\"] / df_user_base_Te[\"num_rating\"]\n",
    "df_user_base_Te[\"weekend_watcher\"] = (df_user_base_Te[\"weekend_ratio\"] > 0.5).astype(int)\n",
    "\n",
    "df_user_base_Te.drop(columns=[\"weekend_ratio\", \"weekend_count\"], inplace=True)\n"
   ],
   "metadata": {
    "collapsed": false,
    "ExecuteTime": {
     "end_time": "2025-07-21T13:53:56.474568Z",
     "start_time": "2025-07-21T13:53:55.872312Z"
    }
   },
   "id": "a2883a938d05ec8e",
   "outputs": [],
   "execution_count": 20
  },
  {
   "cell_type": "code",
   "source": [
    "bins = [0, 3, 4, 5]\n",
    "labels = [\"negative\", \"neutral\", \"positive\"]\n",
    "df_user_base_Te[\"type_of_viewer\"] = pd.cut(\n",
    "    df_user_base_Te[\"avg_rating\"],\n",
    "    bins=bins,\n",
    "    labels=labels,\n",
    "    include_lowest=True\n",
    ")\n",
    "\n",
    "group_counts_Te = df_user_base_Te[\"type_of_viewer\"].value_counts()"
   ],
   "metadata": {
    "collapsed": false,
    "ExecuteTime": {
     "end_time": "2025-07-21T13:53:58.662563Z",
     "start_time": "2025-07-21T13:53:58.654341Z"
    }
   },
   "id": "1da97baee3a37c1f",
   "outputs": [],
   "execution_count": 21
  },
  {
   "cell_type": "code",
   "source": [
    "df_exploded_Te = df_merged_Te.explode(\"genres_list\")\n",
    "\n",
    "#Pozwoli zapobiec stworzeniu 2 kolumn, np. genre_Action i genre_ Action\n",
    "df_exploded_Te[\"genres_list\"] = df_exploded_Te[\"genres_list\"].str.strip()\n",
    "\n",
    "df_exploded_Te = df_exploded_Te[df_exploded_Te[\"genres_list\"] != \"\"]\n",
    "\n",
    "df_genre_user_Te = df_exploded_Te.groupby([\"userId\", \"genres_list\"])[\"rating\"].mean().reset_index()\n",
    "df_genre_user_Te.rename(columns={\"genres_list\": \"genre\", \"rating\": \"avg_rating_genre\"}, inplace=True)\n",
    "\n",
    "df_genre_pivot_Te = df_genre_user_Te.pivot(\n",
    "    index=\"userId\",\n",
    "    columns=\"genre\",\n",
    "    values=\"avg_rating_genre\"\n",
    ").reset_index()\n",
    "\n",
    "df_genre_pivot_Te.columns = [\"userId\"] + [\"genre_\" + str(col) for col in df_genre_pivot_Te.columns if col != \"userId\"]\n",
    "df_genre_pivot_Te.head()\n"
   ],
   "metadata": {
    "collapsed": false,
    "ExecuteTime": {
     "end_time": "2025-07-21T13:54:55.725389Z",
     "start_time": "2025-07-21T13:54:03.174929Z"
    }
   },
   "id": "729ab6d4066ee7d1",
   "outputs": [
    {
     "data": {
      "text/plain": [
       "   userId  genre_(no genres listed)  genre_Action  genre_Adventure  \\\n",
       "0       1                       NaN      4.133333         3.333333   \n",
       "1       2                       NaN      4.000000         4.142857   \n",
       "2       3                       NaN      3.583333         3.605263   \n",
       "3       4                       NaN      2.454545         3.000000   \n",
       "4       5                       NaN      3.666667         3.333333   \n",
       "\n",
       "   genre_Animation  genre_Children  genre_Comedy  genre_Crime  \\\n",
       "0              NaN             NaN      3.339623     4.285714   \n",
       "1         4.875000             NaN      4.130435     4.000000   \n",
       "2         3.961538             NaN      3.186275     3.346154   \n",
       "3              NaN             NaN      3.000000     2.166667   \n",
       "4         3.666667             NaN      3.000000     2.625000   \n",
       "\n",
       "   genre_Documentary  genre_Drama  ...  genre_Music  genre_Musical  \\\n",
       "0                3.0     3.610000  ...         4.00            NaN   \n",
       "1                NaN     4.615385  ...          NaN            NaN   \n",
       "2                NaN     4.105263  ...         4.25            NaN   \n",
       "3                NaN     2.222222  ...          NaN            NaN   \n",
       "4                NaN     3.285714  ...          NaN            NaN   \n",
       "\n",
       "   genre_Mystery  genre_Romance  genre_Sci-Fi  genre_Science Fiction  \\\n",
       "0       4.272727       3.487805           NaN               4.000000   \n",
       "1       4.750000       4.823529           NaN                    NaN   \n",
       "2       3.875000       3.637931           NaN               3.441176   \n",
       "3       2.500000       2.000000           NaN               2.750000   \n",
       "4       3.333333       3.250000           NaN               3.200000   \n",
       "\n",
       "   genre_TV Movie  genre_Thriller  genre_War  genre_Western  \n",
       "0             NaN        3.666667   3.555556           3.00  \n",
       "1             NaN        4.300000   3.000000            NaN  \n",
       "2             NaN        3.307692   4.000000           3.75  \n",
       "3             NaN        2.142857   2.500000            NaN  \n",
       "4             NaN        3.466667   4.000000           3.00  \n",
       "\n",
       "[5 rows x 26 columns]"
      ],
      "text/html": [
       "<div>\n",
       "<style scoped>\n",
       "    .dataframe tbody tr th:only-of-type {\n",
       "        vertical-align: middle;\n",
       "    }\n",
       "\n",
       "    .dataframe tbody tr th {\n",
       "        vertical-align: top;\n",
       "    }\n",
       "\n",
       "    .dataframe thead th {\n",
       "        text-align: right;\n",
       "    }\n",
       "</style>\n",
       "<table border=\"1\" class=\"dataframe\">\n",
       "  <thead>\n",
       "    <tr style=\"text-align: right;\">\n",
       "      <th></th>\n",
       "      <th>userId</th>\n",
       "      <th>genre_(no genres listed)</th>\n",
       "      <th>genre_Action</th>\n",
       "      <th>genre_Adventure</th>\n",
       "      <th>genre_Animation</th>\n",
       "      <th>genre_Children</th>\n",
       "      <th>genre_Comedy</th>\n",
       "      <th>genre_Crime</th>\n",
       "      <th>genre_Documentary</th>\n",
       "      <th>genre_Drama</th>\n",
       "      <th>...</th>\n",
       "      <th>genre_Music</th>\n",
       "      <th>genre_Musical</th>\n",
       "      <th>genre_Mystery</th>\n",
       "      <th>genre_Romance</th>\n",
       "      <th>genre_Sci-Fi</th>\n",
       "      <th>genre_Science Fiction</th>\n",
       "      <th>genre_TV Movie</th>\n",
       "      <th>genre_Thriller</th>\n",
       "      <th>genre_War</th>\n",
       "      <th>genre_Western</th>\n",
       "    </tr>\n",
       "  </thead>\n",
       "  <tbody>\n",
       "    <tr>\n",
       "      <th>0</th>\n",
       "      <td>1</td>\n",
       "      <td>NaN</td>\n",
       "      <td>4.133333</td>\n",
       "      <td>3.333333</td>\n",
       "      <td>NaN</td>\n",
       "      <td>NaN</td>\n",
       "      <td>3.339623</td>\n",
       "      <td>4.285714</td>\n",
       "      <td>3.0</td>\n",
       "      <td>3.610000</td>\n",
       "      <td>...</td>\n",
       "      <td>4.00</td>\n",
       "      <td>NaN</td>\n",
       "      <td>4.272727</td>\n",
       "      <td>3.487805</td>\n",
       "      <td>NaN</td>\n",
       "      <td>4.000000</td>\n",
       "      <td>NaN</td>\n",
       "      <td>3.666667</td>\n",
       "      <td>3.555556</td>\n",
       "      <td>3.00</td>\n",
       "    </tr>\n",
       "    <tr>\n",
       "      <th>1</th>\n",
       "      <td>2</td>\n",
       "      <td>NaN</td>\n",
       "      <td>4.000000</td>\n",
       "      <td>4.142857</td>\n",
       "      <td>4.875000</td>\n",
       "      <td>NaN</td>\n",
       "      <td>4.130435</td>\n",
       "      <td>4.000000</td>\n",
       "      <td>NaN</td>\n",
       "      <td>4.615385</td>\n",
       "      <td>...</td>\n",
       "      <td>NaN</td>\n",
       "      <td>NaN</td>\n",
       "      <td>4.750000</td>\n",
       "      <td>4.823529</td>\n",
       "      <td>NaN</td>\n",
       "      <td>NaN</td>\n",
       "      <td>NaN</td>\n",
       "      <td>4.300000</td>\n",
       "      <td>3.000000</td>\n",
       "      <td>NaN</td>\n",
       "    </tr>\n",
       "    <tr>\n",
       "      <th>2</th>\n",
       "      <td>3</td>\n",
       "      <td>NaN</td>\n",
       "      <td>3.583333</td>\n",
       "      <td>3.605263</td>\n",
       "      <td>3.961538</td>\n",
       "      <td>NaN</td>\n",
       "      <td>3.186275</td>\n",
       "      <td>3.346154</td>\n",
       "      <td>NaN</td>\n",
       "      <td>4.105263</td>\n",
       "      <td>...</td>\n",
       "      <td>4.25</td>\n",
       "      <td>NaN</td>\n",
       "      <td>3.875000</td>\n",
       "      <td>3.637931</td>\n",
       "      <td>NaN</td>\n",
       "      <td>3.441176</td>\n",
       "      <td>NaN</td>\n",
       "      <td>3.307692</td>\n",
       "      <td>4.000000</td>\n",
       "      <td>3.75</td>\n",
       "    </tr>\n",
       "    <tr>\n",
       "      <th>3</th>\n",
       "      <td>4</td>\n",
       "      <td>NaN</td>\n",
       "      <td>2.454545</td>\n",
       "      <td>3.000000</td>\n",
       "      <td>NaN</td>\n",
       "      <td>NaN</td>\n",
       "      <td>3.000000</td>\n",
       "      <td>2.166667</td>\n",
       "      <td>NaN</td>\n",
       "      <td>2.222222</td>\n",
       "      <td>...</td>\n",
       "      <td>NaN</td>\n",
       "      <td>NaN</td>\n",
       "      <td>2.500000</td>\n",
       "      <td>2.000000</td>\n",
       "      <td>NaN</td>\n",
       "      <td>2.750000</td>\n",
       "      <td>NaN</td>\n",
       "      <td>2.142857</td>\n",
       "      <td>2.500000</td>\n",
       "      <td>NaN</td>\n",
       "    </tr>\n",
       "    <tr>\n",
       "      <th>4</th>\n",
       "      <td>5</td>\n",
       "      <td>NaN</td>\n",
       "      <td>3.666667</td>\n",
       "      <td>3.333333</td>\n",
       "      <td>3.666667</td>\n",
       "      <td>NaN</td>\n",
       "      <td>3.000000</td>\n",
       "      <td>2.625000</td>\n",
       "      <td>NaN</td>\n",
       "      <td>3.285714</td>\n",
       "      <td>...</td>\n",
       "      <td>NaN</td>\n",
       "      <td>NaN</td>\n",
       "      <td>3.333333</td>\n",
       "      <td>3.250000</td>\n",
       "      <td>NaN</td>\n",
       "      <td>3.200000</td>\n",
       "      <td>NaN</td>\n",
       "      <td>3.466667</td>\n",
       "      <td>4.000000</td>\n",
       "      <td>3.00</td>\n",
       "    </tr>\n",
       "  </tbody>\n",
       "</table>\n",
       "<p>5 rows × 26 columns</p>\n",
       "</div>"
      ]
     },
     "execution_count": 22,
     "metadata": {},
     "output_type": "execute_result"
    }
   ],
   "execution_count": 22
  },
  {
   "cell_type": "code",
   "source": [
    "df_user_features_Te = df_user_base_Te.merge(df_genre_pivot_Te, on=\"userId\", how=\"left\")\n",
    "\n",
    "df_user_features_Te.to_csv(\"user_features_test.csv\", index=False)\n"
   ],
   "metadata": {
    "collapsed": false,
    "ExecuteTime": {
     "end_time": "2025-07-21T13:55:01.993772Z",
     "start_time": "2025-07-21T13:55:00.259345Z"
    }
   },
   "id": "9f29ac4c1c37e2a2",
   "outputs": [],
   "execution_count": 23
  }
 ],
 "metadata": {
  "kernelspec": {
   "display_name": "Python 3",
   "language": "python",
   "name": "python3"
  },
  "language_info": {
   "codemirror_mode": {
    "name": "ipython",
    "version": 2
   },
   "file_extension": ".py",
   "mimetype": "text/x-python",
   "name": "python",
   "nbconvert_exporter": "python",
   "pygments_lexer": "ipython2",
   "version": "2.7.6"
  }
 },
 "nbformat": 4,
 "nbformat_minor": 5
}
