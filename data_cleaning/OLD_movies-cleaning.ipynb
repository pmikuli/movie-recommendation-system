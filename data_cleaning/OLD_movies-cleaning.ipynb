{
 "cells": [
  {
   "cell_type": "code",
   "execution_count": 41,
   "id": "fb04754b",
   "metadata": {},
   "outputs": [],
   "source": [
    "import pandas as pd\n",
    "from sklearn.preprocessing import MultiLabelBinarizer\n",
    "\n",
    "pd.set_option('display.max_columns', None)\n",
    "pd.set_option('display.width', None)"
   ]
  },
  {
   "cell_type": "code",
   "execution_count": 42,
   "id": "9c524be5",
   "metadata": {},
   "outputs": [
    {
     "name": "stdout",
     "output_type": "stream",
     "text": [
      "<class 'pandas.core.frame.DataFrame'>\n",
      "RangeIndex: 86493 entries, 0 to 86492\n",
      "Data columns (total 28 columns):\n",
      " #   Column                Non-Null Count  Dtype  \n",
      "---  ------                --------------  -----  \n",
      " 0   id                    86493 non-null  int64  \n",
      " 1   title                 86493 non-null  object \n",
      " 2   vote_average          86493 non-null  float64\n",
      " 3   vote_count            86493 non-null  int64  \n",
      " 4   status                86493 non-null  object \n",
      " 5   release_date          86427 non-null  object \n",
      " 6   revenue               86493 non-null  int64  \n",
      " 7   runtime               86493 non-null  int64  \n",
      " 8   adult                 86493 non-null  bool   \n",
      " 9   backdrop_path         70442 non-null  object \n",
      " 10  budget                86493 non-null  int64  \n",
      " 11  homepage              17774 non-null  object \n",
      " 12  imdb_id               86467 non-null  object \n",
      " 13  original_language     86493 non-null  object \n",
      " 14  original_title        86493 non-null  object \n",
      " 15  overview              85667 non-null  object \n",
      " 16  popularity            86493 non-null  float64\n",
      " 17  poster_path           84365 non-null  object \n",
      " 18  tagline               39734 non-null  object \n",
      " 19  genres                84921 non-null  object \n",
      " 20  production_companies  72731 non-null  object \n",
      " 21  production_countries  79796 non-null  object \n",
      " 22  spoken_languages      82403 non-null  object \n",
      " 23  keywords              60235 non-null  object \n",
      " 24  movieId               86493 non-null  int64  \n",
      " 25  Directors             77759 non-null  object \n",
      " 26  Cast                  77759 non-null  object \n",
      " 27  StarActors            77759 non-null  object \n",
      "dtypes: bool(1), float64(2), int64(6), object(19)\n",
      "memory usage: 17.9+ MB\n"
     ]
    }
   ],
   "source": [
    "df = pd.read_csv('../datasets/Movies_final.csv')\n",
    "df.info()"
   ]
  },
  {
   "cell_type": "markdown",
   "id": "0821188e",
   "metadata": {},
   "source": [
    "# Usunięcie niepotrzebnych kolumn"
   ]
  },
  {
   "cell_type": "code",
   "execution_count": 43,
   "id": "920e2713",
   "metadata": {},
   "outputs": [],
   "source": [
    "df = df.drop(columns=['tagline', 'adult', 'title', 'homepage', 'backdrop_path', 'imdb_id', 'original_title', 'overview', 'movieId', 'poster_path', 'id'])\n",
    "df = df[df['status'] == 'Released']\n",
    "df = df.drop(columns=['status'])"
   ]
  },
  {
   "cell_type": "code",
   "execution_count": 44,
   "id": "1364f038",
   "metadata": {},
   "outputs": [
    {
     "name": "stdout",
     "output_type": "stream",
     "text": [
      "<class 'pandas.core.frame.DataFrame'>\n",
      "Index: 86477 entries, 0 to 86492\n",
      "Data columns (total 16 columns):\n",
      " #   Column                Non-Null Count  Dtype  \n",
      "---  ------                --------------  -----  \n",
      " 0   vote_average          86477 non-null  float64\n",
      " 1   vote_count            86477 non-null  int64  \n",
      " 2   release_date          86416 non-null  object \n",
      " 3   revenue               86477 non-null  int64  \n",
      " 4   runtime               86477 non-null  int64  \n",
      " 5   budget                86477 non-null  int64  \n",
      " 6   original_language     86477 non-null  object \n",
      " 7   popularity            86477 non-null  float64\n",
      " 8   genres                84906 non-null  object \n",
      " 9   production_companies  72717 non-null  object \n",
      " 10  production_countries  79781 non-null  object \n",
      " 11  spoken_languages      82388 non-null  object \n",
      " 12  keywords              60223 non-null  object \n",
      " 13  Directors             77744 non-null  object \n",
      " 14  Cast                  77744 non-null  object \n",
      " 15  StarActors            77744 non-null  object \n",
      "dtypes: float64(2), int64(4), object(10)\n",
      "memory usage: 11.2+ MB\n",
      "None\n"
     ]
    },
    {
     "data": {
      "text/html": [
       "<div>\n",
       "<style scoped>\n",
       "    .dataframe tbody tr th:only-of-type {\n",
       "        vertical-align: middle;\n",
       "    }\n",
       "\n",
       "    .dataframe tbody tr th {\n",
       "        vertical-align: top;\n",
       "    }\n",
       "\n",
       "    .dataframe thead th {\n",
       "        text-align: right;\n",
       "    }\n",
       "</style>\n",
       "<table border=\"1\" class=\"dataframe\">\n",
       "  <thead>\n",
       "    <tr style=\"text-align: right;\">\n",
       "      <th></th>\n",
       "      <th>vote_average</th>\n",
       "      <th>vote_count</th>\n",
       "      <th>release_date</th>\n",
       "      <th>revenue</th>\n",
       "      <th>runtime</th>\n",
       "      <th>budget</th>\n",
       "      <th>original_language</th>\n",
       "      <th>popularity</th>\n",
       "      <th>genres</th>\n",
       "      <th>production_companies</th>\n",
       "      <th>production_countries</th>\n",
       "      <th>spoken_languages</th>\n",
       "      <th>keywords</th>\n",
       "      <th>Directors</th>\n",
       "      <th>Cast</th>\n",
       "      <th>StarActors</th>\n",
       "    </tr>\n",
       "  </thead>\n",
       "  <tbody>\n",
       "    <tr>\n",
       "      <th>0</th>\n",
       "      <td>8.364</td>\n",
       "      <td>34495</td>\n",
       "      <td>2010-07-15</td>\n",
       "      <td>825532764</td>\n",
       "      <td>148</td>\n",
       "      <td>160000000</td>\n",
       "      <td>en</td>\n",
       "      <td>83.952</td>\n",
       "      <td>Action, Science Fiction, Adventure</td>\n",
       "      <td>Legendary Pictures, Syncopy, Warner Bros. Pict...</td>\n",
       "      <td>United Kingdom, United States of America</td>\n",
       "      <td>English, French, Japanese, Swahili</td>\n",
       "      <td>rescue, mission, dream, airplane, paris, franc...</td>\n",
       "      <td>Christopher Nolan</td>\n",
       "      <td>Leonardo DiCaprio, Joseph Gordon-Levitt, Ellio...</td>\n",
       "      <td>Leonardo DiCaprio, Joseph Gordon-Levitt, Ellio...</td>\n",
       "    </tr>\n",
       "    <tr>\n",
       "      <th>1</th>\n",
       "      <td>8.417</td>\n",
       "      <td>32571</td>\n",
       "      <td>2014-11-05</td>\n",
       "      <td>701729206</td>\n",
       "      <td>169</td>\n",
       "      <td>165000000</td>\n",
       "      <td>en</td>\n",
       "      <td>140.241</td>\n",
       "      <td>Adventure, Drama, Science Fiction</td>\n",
       "      <td>Legendary Pictures, Syncopy, Lynda Obst Produc...</td>\n",
       "      <td>United Kingdom, United States of America</td>\n",
       "      <td>English</td>\n",
       "      <td>rescue, future, spacecraft, race against time,...</td>\n",
       "      <td>Christopher Nolan</td>\n",
       "      <td>Matthew McConaughey, Anne Hathaway, Jessica Ch...</td>\n",
       "      <td>Matthew McConaughey, Anne Hathaway, Jessica Ch...</td>\n",
       "    </tr>\n",
       "    <tr>\n",
       "      <th>2</th>\n",
       "      <td>8.512</td>\n",
       "      <td>30619</td>\n",
       "      <td>2008-07-16</td>\n",
       "      <td>1004558444</td>\n",
       "      <td>152</td>\n",
       "      <td>185000000</td>\n",
       "      <td>en</td>\n",
       "      <td>130.643</td>\n",
       "      <td>Drama, Action, Crime, Thriller</td>\n",
       "      <td>DC Comics, Legendary Pictures, Syncopy, Isobel...</td>\n",
       "      <td>United Kingdom, United States of America</td>\n",
       "      <td>English, Mandarin</td>\n",
       "      <td>joker, sadism, chaos, secret identity, crime f...</td>\n",
       "      <td>Christopher Nolan</td>\n",
       "      <td>Christian Bale, Heath Ledger, Aaron Eckhart, M...</td>\n",
       "      <td>Christian Bale, Heath Ledger, Aaron Eckhart</td>\n",
       "    </tr>\n",
       "  </tbody>\n",
       "</table>\n",
       "</div>"
      ],
      "text/plain": [
       "   vote_average  vote_count release_date     revenue  runtime     budget  \\\n",
       "0         8.364       34495   2010-07-15   825532764      148  160000000   \n",
       "1         8.417       32571   2014-11-05   701729206      169  165000000   \n",
       "2         8.512       30619   2008-07-16  1004558444      152  185000000   \n",
       "\n",
       "  original_language  popularity                              genres  \\\n",
       "0                en      83.952  Action, Science Fiction, Adventure   \n",
       "1                en     140.241   Adventure, Drama, Science Fiction   \n",
       "2                en     130.643      Drama, Action, Crime, Thriller   \n",
       "\n",
       "                                production_companies  \\\n",
       "0  Legendary Pictures, Syncopy, Warner Bros. Pict...   \n",
       "1  Legendary Pictures, Syncopy, Lynda Obst Produc...   \n",
       "2  DC Comics, Legendary Pictures, Syncopy, Isobel...   \n",
       "\n",
       "                       production_countries  \\\n",
       "0  United Kingdom, United States of America   \n",
       "1  United Kingdom, United States of America   \n",
       "2  United Kingdom, United States of America   \n",
       "\n",
       "                     spoken_languages  \\\n",
       "0  English, French, Japanese, Swahili   \n",
       "1                             English   \n",
       "2                   English, Mandarin   \n",
       "\n",
       "                                            keywords          Directors  \\\n",
       "0  rescue, mission, dream, airplane, paris, franc...  Christopher Nolan   \n",
       "1  rescue, future, spacecraft, race against time,...  Christopher Nolan   \n",
       "2  joker, sadism, chaos, secret identity, crime f...  Christopher Nolan   \n",
       "\n",
       "                                                Cast  \\\n",
       "0  Leonardo DiCaprio, Joseph Gordon-Levitt, Ellio...   \n",
       "1  Matthew McConaughey, Anne Hathaway, Jessica Ch...   \n",
       "2  Christian Bale, Heath Ledger, Aaron Eckhart, M...   \n",
       "\n",
       "                                          StarActors  \n",
       "0  Leonardo DiCaprio, Joseph Gordon-Levitt, Ellio...  \n",
       "1  Matthew McConaughey, Anne Hathaway, Jessica Ch...  \n",
       "2        Christian Bale, Heath Ledger, Aaron Eckhart  "
      ]
     },
     "execution_count": 44,
     "metadata": {},
     "output_type": "execute_result"
    }
   ],
   "source": [
    "print(df.info())\n",
    "\n",
    "df.head(3)"
   ]
  },
  {
   "cell_type": "markdown",
   "id": "1e60d18b",
   "metadata": {},
   "source": [
    "# Usunięcie nieczęstych wartości z kolumn których wartości są listami"
   ]
  },
  {
   "cell_type": "code",
   "execution_count": 45,
   "id": "4c06126c",
   "metadata": {},
   "outputs": [
    {
     "name": "stdout",
     "output_type": "stream",
     "text": [
      "Distinct values for column keywords before: 28032\n",
      "Distinct values for column keywords after: 2614\n",
      "Distinct values for column production_companies before: 45538\n",
      "Distinct values for column production_companies after: 2246\n",
      "Distinct values for column production_countries before: 200\n",
      "Distinct values for column production_countries after: 114\n",
      "Distinct values for column Directors before: 34519\n",
      "Distinct values for column Directors after: 1211\n",
      "Distinct values for column Cast before: 266480\n",
      "Distinct values for column Cast after: 9323\n",
      "Distinct values for column StarActors before: 87242\n",
      "Distinct values for column StarActors after: 3534\n"
     ]
    }
   ],
   "source": [
    "def remove_uncommon_values(df, column_name, min_count):\n",
    "    df[column_name] = df[column_name].fillna('')\n",
    "    df[column_name] = df[column_name].str.split(', ')\n",
    "    df[column_name] = df[column_name].apply(lambda x: [] if x == '' else x)\n",
    "\n",
    "    listOfValues = df[column_name].explode()\n",
    "    print(f'Distinct values for column {column_name} before: {listOfValues.nunique()}')\n",
    "\n",
    "    counts = listOfValues.value_counts()\n",
    "    listOfValues = listOfValues[listOfValues.isin(counts[counts > min_count].index)]\n",
    "\n",
    "    allowed_values = set(listOfValues)\n",
    "    df[column_name] = df[column_name].apply(lambda kw_list: [kw for kw in kw_list if kw in allowed_values])\n",
    "\n",
    "    print(f'Distinct values for column {column_name} after: {df[column_name].explode().nunique()}')\n",
    "    return df\n",
    "\n",
    "df = remove_uncommon_values(df, 'keywords', 20)\n",
    "df = remove_uncommon_values(df, 'production_companies', 10)\n",
    "df = remove_uncommon_values(df, 'production_countries', 10)\n",
    "df = remove_uncommon_values(df, 'Directors', 10)\n",
    "df = remove_uncommon_values(df, 'Cast', 12)\n",
    "df = remove_uncommon_values(df, 'StarActors', 10)"
   ]
  },
  {
   "cell_type": "markdown",
   "id": "7bde823d",
   "metadata": {},
   "source": [
    "# Sprawdzenie numerycznych wartości odstających"
   ]
  },
  {
   "cell_type": "code",
   "execution_count": 46,
   "id": "2d77a741",
   "metadata": {},
   "outputs": [
    {
     "data": {
      "image/png": "[encoded data removed]",
      "text/plain": [
       "<Figure size 640x480 with 1 Axes>"
      ]
     },
     "metadata": {},
     "output_type": "display_data"
    },
    {
     "name": "stdout",
     "output_type": "stream",
     "text": [
      "Found 4272 outliers out of 86477 rows for column vote_average\n",
      "vote_average\n",
      "0.000     2560\n",
      "2.000      359\n",
      "10.000     280\n",
      "1.000      201\n",
      "2.500      134\n",
      "          ... \n",
      "2.773        1\n",
      "2.870        1\n",
      "2.256        1\n",
      "2.098        1\n",
      "2.890        1\n",
      "Name: count, Length: 187, dtype: int64\n"
     ]
    },
    {
     "data": {
      "image/png": "[encoded data removed]",
      "text/plain": [
       "<Figure size 640x480 with 1 Axes>"
      ]
     },
     "metadata": {},
     "output_type": "display_data"
    },
    {
     "name": "stdout",
     "output_type": "stream",
     "text": [
      "Found 13091 outliers out of 86477 rows for column vote_count\n",
      "vote_count\n",
      "167     59\n",
      "161     58\n",
      "177     57\n",
      "179     55\n",
      "158     51\n",
      "        ..\n",
      "3599     1\n",
      "3585     1\n",
      "3583     1\n",
      "3580     1\n",
      "2132     1\n",
      "Name: count, Length: 3425, dtype: int64\n"
     ]
    },
    {
     "data": {
      "image/png": "[encoded data removed]",
      "text/plain": [
       "<Figure size 640x480 with 1 Axes>"
      ]
     },
     "metadata": {},
     "output_type": "display_data"
    },
    {
     "name": "stdout",
     "output_type": "stream",
     "text": [
      "Found 13038 outliers out of 86477 rows for column revenue\n",
      "revenue\n",
      "2000000     41\n",
      "10000000    39\n",
      "1000000     32\n",
      "3000000     32\n",
      "5000000     32\n",
      "            ..\n",
      "31070412     1\n",
      "1710528      1\n",
      "24741667     1\n",
      "22468044     1\n",
      "2559000      1\n",
      "Name: count, Length: 11628, dtype: int64\n"
     ]
    },
    {
     "data": {
      "image/png": "[encoded data removed]",
      "text/plain": [
       "<Figure size 640x480 with 1 Axes>"
      ]
     },
     "metadata": {},
     "output_type": "display_data"
    },
    {
     "name": "stdout",
     "output_type": "stream",
     "text": [
      "Found 11237 outliers out of 86477 rows for column runtime\n",
      "runtime\n",
      "0      1255\n",
      "7       697\n",
      "8       391\n",
      "1       313\n",
      "10      311\n",
      "       ... \n",
      "249       1\n",
      "268       1\n",
      "275       1\n",
      "551       1\n",
      "373       1\n",
      "Name: count, Length: 250, dtype: int64\n"
     ]
    },
    {
     "data": {
      "image/png": "[encoded data removed]",
      "text/plain": [
       "<Figure size 640x480 with 1 Axes>"
      ]
     },
     "metadata": {},
     "output_type": "display_data"
    },
    {
     "name": "stdout",
     "output_type": "stream",
     "text": [
      "Found 14606 outliers out of 86477 rows for column budget\n",
      "budget\n",
      "10000000    439\n",
      "5000000     418\n",
      "2000000     386\n",
      "1000000     380\n",
      "3000000     351\n",
      "           ... \n",
      "823258        1\n",
      "8311205       1\n",
      "952707        1\n",
      "4150000       1\n",
      "61500         1\n",
      "Name: count, Length: 2309, dtype: int64\n"
     ]
    },
    {
     "data": {
      "image/png": "[encoded data removed]",
      "text/plain": [
       "<Figure size 640x480 with 1 Axes>"
      ]
     },
     "metadata": {},
     "output_type": "display_data"
    },
    {
     "name": "stdout",
     "output_type": "stream",
     "text": [
      "Found 7074 outliers out of 86477 rows for column popularity\n",
      "popularity\n",
      "14.878    6\n",
      "18.957    5\n",
      "14.964    5\n",
      "16.378    4\n",
      "15.320    4\n",
      "         ..\n",
      "19.663    1\n",
      "19.181    1\n",
      "18.280    1\n",
      "38.873    1\n",
      "16.644    1\n",
      "Name: count, Length: 6004, dtype: int64\n"
     ]
    }
   ],
   "source": [
    "import seaborn as sns\n",
    "import matplotlib.pyplot as plt\n",
    "\n",
    "def find_outliers(df, column_name):\n",
    "    q1 = df[column_name].quantile(0.25)\n",
    "    q3 = df[column_name].quantile(0.75)\n",
    "    iqr = q3 - q1\n",
    "\n",
    "    outliers = df[(df[column_name] < (q1 - 1.5 * iqr)) | (df[column_name] > (q3 + 1.5 * iqr))]\n",
    "\n",
    "    sns.boxplot(x=df[column_name])\n",
    "    plt.show()\n",
    "    print(f\"Found {len(outliers)} outliers out of {df.shape[0]} rows for column {column_name}\")\n",
    "    print(outliers[column_name].value_counts())\n",
    "\n",
    "    return outliers\n",
    "\n",
    "for col in ['vote_average', 'vote_count', 'revenue', 'runtime', 'budget', 'popularity']:\n",
    "    outliers = find_outliers(df, col)"
   ]
  },
  {
   "cell_type": "markdown",
   "id": "02d7ef7f",
   "metadata": {},
   "source": [
    "# Zastąpienie wartości odstających"
   ]
  },
  {
   "cell_type": "code",
   "execution_count": 47,
   "id": "4e595e72",
   "metadata": {},
   "outputs": [
    {
     "name": "stdout",
     "output_type": "stream",
     "text": [
      "Capped outliers for runtime\n",
      "Capped outliers for budget\n",
      "Capped outliers for popularity\n"
     ]
    }
   ],
   "source": [
    "def cap_outliers(df, column_name):\n",
    "    q1 = df[column_name].quantile(0.25)\n",
    "    q3 = df[column_name].quantile(0.75)\n",
    "    iqr = q3 - q1\n",
    "\n",
    "    lower = q1 - 1.5 * iqr\n",
    "    upper = q1 + 1.5 * iqr\n",
    "\n",
    "    df[column_name] = df[column_name].clip(lower, upper)\n",
    "    return df\n",
    "\n",
    "for col in ['runtime', 'budget', 'popularity']:\n",
    "    df = cap_outliers(df, col)\n",
    "    print('Capped outliers for', col)"
   ]
  },
  {
   "cell_type": "code",
   "execution_count": 48,
   "id": "096874f7",
   "metadata": {},
   "outputs": [
    {
     "name": "stdout",
     "output_type": "stream",
     "text": [
      "<class 'pandas.core.frame.DataFrame'>\n",
      "Index: 86477 entries, 0 to 86492\n",
      "Data columns (total 16 columns):\n",
      " #   Column                Non-Null Count  Dtype  \n",
      "---  ------                --------------  -----  \n",
      " 0   vote_average          86477 non-null  float64\n",
      " 1   vote_count            86477 non-null  int64  \n",
      " 2   release_date          86416 non-null  object \n",
      " 3   revenue               86477 non-null  int64  \n",
      " 4   runtime               86477 non-null  int64  \n",
      " 5   budget                86477 non-null  int64  \n",
      " 6   original_language     86477 non-null  object \n",
      " 7   popularity            86477 non-null  float64\n",
      " 8   genres                84906 non-null  object \n",
      " 9   production_companies  86477 non-null  object \n",
      " 10  production_countries  86477 non-null  object \n",
      " 11  spoken_languages      82388 non-null  object \n",
      " 12  keywords              86477 non-null  object \n",
      " 13  Directors             86477 non-null  object \n",
      " 14  Cast                  86477 non-null  object \n",
      " 15  StarActors            86477 non-null  object \n",
      "dtypes: float64(2), int64(4), object(10)\n",
      "memory usage: 11.2+ MB\n"
     ]
    }
   ],
   "source": [
    "df.info()"
   ]
  },
  {
   "cell_type": "markdown",
   "id": "1705bae0",
   "metadata": {},
   "source": [
    "# Enkodowanie wartości tekstowych"
   ]
  },
  {
   "cell_type": "code",
   "execution_count": 49,
   "id": "19db30f8",
   "metadata": {},
   "outputs": [
    {
     "name": "stdout",
     "output_type": "stream",
     "text": [
      "Shape before encoding genre_list: (86477, 16)\n",
      "Shape after encoding genre_list: (86477, 34)\n"
     ]
    }
   ],
   "source": [
    "def encode_using_mlb(df, column_name):\n",
    "    print(f'Shape before encoding {column_name}: {df.shape}')\n",
    "    mlb = MultiLabelBinarizer()\n",
    "    encoded = mlb.fit_transform(df[column_name])\n",
    "    encoded = pd.DataFrame(encoded, columns=mlb.classes_)\n",
    "    \n",
    "    # necessary for merging df and encoded\n",
    "    df = df.reset_index(drop=True)\n",
    "    encoded = encoded.reset_index(drop=True)\n",
    "\n",
    "    df = df.drop(columns=column_name)\n",
    "    df = pd.concat([df, encoded], axis=1)\n",
    "    print(f'Shape after encoding {column_name}: {df.shape}')\n",
    "\n",
    "    return df\n",
    "\n",
    "df['genre_list'] = df['genres'].str.split(', ')\n",
    "df = df.drop(columns='genres')\n",
    "df['genre_list'] = df['genre_list'].fillna('').apply(lambda x: [] if x == '' else x)\n",
    "\n",
    "df = encode_using_mlb(df, 'genre_list')"
   ]
  },
  {
   "cell_type": "code",
   "execution_count": 50,
   "id": "5b18cf7e",
   "metadata": {},
   "outputs": [],
   "source": [
    "df['spoken_languages'] = df['spoken_languages'].str.split(', ')\n",
    "df['spoken_languages'] = df['spoken_languages'].fillna('').apply(lambda x: [] if x == '' else x)"
   ]
  },
  {
   "cell_type": "code",
   "execution_count": 51,
   "id": "658a31bd",
   "metadata": {},
   "outputs": [
    {
     "name": "stdout",
     "output_type": "stream",
     "text": [
      "<class 'pandas.core.frame.DataFrame'>\n",
      "RangeIndex: 86477 entries, 0 to 86476\n",
      "Data columns (total 34 columns):\n",
      " #   Column                Non-Null Count  Dtype  \n",
      "---  ------                --------------  -----  \n",
      " 0   vote_average          86477 non-null  float64\n",
      " 1   vote_count            86477 non-null  int64  \n",
      " 2   release_date          86416 non-null  object \n",
      " 3   revenue               86477 non-null  int64  \n",
      " 4   runtime               86477 non-null  int64  \n",
      " 5   budget                86477 non-null  int64  \n",
      " 6   original_language     86477 non-null  object \n",
      " 7   popularity            86477 non-null  float64\n",
      " 8   production_companies  86477 non-null  object \n",
      " 9   production_countries  86477 non-null  object \n",
      " 10  spoken_languages      86477 non-null  object \n",
      " 11  keywords              86477 non-null  object \n",
      " 12  Directors             86477 non-null  object \n",
      " 13  Cast                  86477 non-null  object \n",
      " 14  StarActors            86477 non-null  object \n",
      " 15  Action                86477 non-null  int64  \n",
      " 16  Adventure             86477 non-null  int64  \n",
      " 17  Animation             86477 non-null  int64  \n",
      " 18  Comedy                86477 non-null  int64  \n",
      " 19  Crime                 86477 non-null  int64  \n",
      " 20  Documentary           86477 non-null  int64  \n",
      " 21  Drama                 86477 non-null  int64  \n",
      " 22  Family                86477 non-null  int64  \n",
      " 23  Fantasy               86477 non-null  int64  \n",
      " 24  History               86477 non-null  int64  \n",
      " 25  Horror                86477 non-null  int64  \n",
      " 26  Music                 86477 non-null  int64  \n",
      " 27  Mystery               86477 non-null  int64  \n",
      " 28  Romance               86477 non-null  int64  \n",
      " 29  Science Fiction       86477 non-null  int64  \n",
      " 30  TV Movie              86477 non-null  int64  \n",
      " 31  Thriller              86477 non-null  int64  \n",
      " 32  War                   86477 non-null  int64  \n",
      " 33  Western               86477 non-null  int64  \n",
      "dtypes: float64(2), int64(23), object(9)\n",
      "memory usage: 22.4+ MB\n"
     ]
    }
   ],
   "source": [
    "df.info()"
   ]
  },
  {
   "cell_type": "code",
   "execution_count": 52,
   "id": "11733a94",
   "metadata": {},
   "outputs": [
    {
     "name": "stdout",
     "output_type": "stream",
     "text": [
      "<class 'pandas.core.frame.DataFrame'>\n",
      "RangeIndex: 86477 entries, 0 to 86476\n",
      "Data columns (total 34 columns):\n",
      " #   Column                Non-Null Count  Dtype  \n",
      "---  ------                --------------  -----  \n",
      " 0   vote_average          86477 non-null  float64\n",
      " 1   vote_count            86477 non-null  int64  \n",
      " 2   release_date          86416 non-null  object \n",
      " 3   revenue               86477 non-null  int64  \n",
      " 4   runtime               86477 non-null  int64  \n",
      " 5   budget                86477 non-null  int64  \n",
      " 6   original_language     86477 non-null  object \n",
      " 7   popularity            86477 non-null  float64\n",
      " 8   production_companies  86477 non-null  object \n",
      " 9   production_countries  86477 non-null  object \n",
      " 10  spoken_languages      86477 non-null  object \n",
      " 11  keywords              86477 non-null  object \n",
      " 12  Directors             86477 non-null  object \n",
      " 13  Cast                  86477 non-null  object \n",
      " 14  StarActors            86477 non-null  object \n",
      " 15  Action                86477 non-null  int64  \n",
      " 16  Adventure             86477 non-null  int64  \n",
      " 17  Animation             86477 non-null  int64  \n",
      " 18  Comedy                86477 non-null  int64  \n",
      " 19  Crime                 86477 non-null  int64  \n",
      " 20  Documentary           86477 non-null  int64  \n",
      " 21  Drama                 86477 non-null  int64  \n",
      " 22  Family                86477 non-null  int64  \n",
      " 23  Fantasy               86477 non-null  int64  \n",
      " 24  History               86477 non-null  int64  \n",
      " 25  Horror                86477 non-null  int64  \n",
      " 26  Music                 86477 non-null  int64  \n",
      " 27  Mystery               86477 non-null  int64  \n",
      " 28  Romance               86477 non-null  int64  \n",
      " 29  Science Fiction       86477 non-null  int64  \n",
      " 30  TV Movie              86477 non-null  int64  \n",
      " 31  Thriller              86477 non-null  int64  \n",
      " 32  War                   86477 non-null  int64  \n",
      " 33  Western               86477 non-null  int64  \n",
      "dtypes: float64(2), int64(23), object(9)\n",
      "memory usage: 22.4+ MB\n",
      "None\n"
     ]
    }
   ],
   "source": [
    "def encode_text_values(df, column_name):\n",
    "    tokens = set()\n",
    "    for seq in df[column_name]:\n",
    "        for token in seq:\n",
    "            tokens.add(token)\n",
    "\n",
    "    vocab = {word: idx + 1 for idx, word in enumerate(tokens)}\n",
    "    vocab['<PAD>'] = 0\n",
    "\n",
    "    df[column_name] = df[column_name].apply(lambda seq: [vocab[word] for word in seq])\n",
    "    \n",
    "    lenCol = column_name + '_length'\n",
    "    df[lenCol] = df[column_name].apply(len)\n",
    "    max_len = df[lenCol].max()\n",
    "\n",
    "    # padding\n",
    "    def add_padding(seq):\n",
    "        nonlocal max_len\n",
    "        if len(seq) < max_len:\n",
    "            for _ in range(max_len - len(seq)):\n",
    "                seq.append(vocab['<PAD>'])\n",
    "        return seq\n",
    "\n",
    "    df[column_name] = df[column_name].apply(add_padding)\n",
    "    df = df.drop(columns=lenCol)\n",
    "\n",
    "    return df\n",
    "\n",
    "\n",
    "for col in ['keywords', 'production_companies', 'production_countries', 'original_language', 'spoken_languages', 'Directors', 'Cast', 'StarActors']:\n",
    "    df = encode_text_values(df, col)\n",
    "\n",
    "print(df.info())"
   ]
  },
  {
   "cell_type": "code",
   "execution_count": 53,
   "id": "5eedccc2",
   "metadata": {},
   "outputs": [
    {
     "name": "stdout",
     "output_type": "stream",
     "text": [
      "<class 'pandas.core.frame.DataFrame'>\n",
      "RangeIndex: 86477 entries, 0 to 86476\n",
      "Data columns (total 34 columns):\n",
      " #   Column                Non-Null Count  Dtype  \n",
      "---  ------                --------------  -----  \n",
      " 0   vote_average          86477 non-null  float64\n",
      " 1   vote_count            86477 non-null  int64  \n",
      " 2   release_date          86416 non-null  object \n",
      " 3   revenue               86477 non-null  int64  \n",
      " 4   runtime               86477 non-null  int64  \n",
      " 5   budget                86477 non-null  int64  \n",
      " 6   original_language     86477 non-null  object \n",
      " 7   popularity            86477 non-null  float64\n",
      " 8   production_companies  86477 non-null  object \n",
      " 9   production_countries  86477 non-null  object \n",
      " 10  spoken_languages      86477 non-null  object \n",
      " 11  keywords              86477 non-null  object \n",
      " 12  Directors             86477 non-null  object \n",
      " 13  Cast                  86477 non-null  object \n",
      " 14  StarActors            86477 non-null  object \n",
      " 15  Action                86477 non-null  int64  \n",
      " 16  Adventure             86477 non-null  int64  \n",
      " 17  Animation             86477 non-null  int64  \n",
      " 18  Comedy                86477 non-null  int64  \n",
      " 19  Crime                 86477 non-null  int64  \n",
      " 20  Documentary           86477 non-null  int64  \n",
      " 21  Drama                 86477 non-null  int64  \n",
      " 22  Family                86477 non-null  int64  \n",
      " 23  Fantasy               86477 non-null  int64  \n",
      " 24  History               86477 non-null  int64  \n",
      " 25  Horror                86477 non-null  int64  \n",
      " 26  Music                 86477 non-null  int64  \n",
      " 27  Mystery               86477 non-null  int64  \n",
      " 28  Romance               86477 non-null  int64  \n",
      " 29  Science Fiction       86477 non-null  int64  \n",
      " 30  TV Movie              86477 non-null  int64  \n",
      " 31  Thriller              86477 non-null  int64  \n",
      " 32  War                   86477 non-null  int64  \n",
      " 33  Western               86477 non-null  int64  \n",
      "dtypes: float64(2), int64(23), object(9)\n",
      "memory usage: 22.4+ MB\n"
     ]
    }
   ],
   "source": [
    "df.info()"
   ]
  },
  {
   "cell_type": "markdown",
   "id": "b0983d1d",
   "metadata": {},
   "source": [
    "# Ustawienie brakujących wartości w kolumnie 'release_date' na medianę oraz konwersja do UNIX timestamp"
   ]
  },
  {
   "cell_type": "code",
   "execution_count": 54,
   "id": "048171ee",
   "metadata": {},
   "outputs": [
    {
     "name": "stdout",
     "output_type": "stream",
     "text": [
      "Median date: 1139529600.0\n"
     ]
    }
   ],
   "source": [
    "df['release_date'] = pd.to_datetime(df['release_date'])\n",
    "df['release_date'] = df['release_date'].astype('int64') // 10 ** 9 # convert to UNIX timestamp\n",
    "median_date = df['release_date'].median()\n",
    "print('Median date:', median_date)\n",
    "df['release_date'] = df['release_date'].fillna(median_date)"
   ]
  },
  {
   "cell_type": "code",
   "execution_count": 56,
   "id": "6c2da3ec",
   "metadata": {},
   "outputs": [],
   "source": [
    "df.to_parquet('../datasets/Movies_clean.parquet', compression='brotli')"
   ]
  }
 ],
 "metadata": {
  "kernelspec": {
   "display_name": "base",
   "language": "python",
   "name": "python3"
  },
  "language_info": {
   "codemirror_mode": {
    "name": "ipython",
    "version": 3
   },
   "file_extension": ".py",
   "mimetype": "text/x-python",
   "name": "python",
   "nbconvert_exporter": "python",
   "pygments_lexer": "ipython3",
   "version": "3.12.2"
  }
 },
 "nbformat": 4,
 "nbformat_minor": 5
}
