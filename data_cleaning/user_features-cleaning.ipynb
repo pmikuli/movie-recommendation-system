{
 "cells": [
  {
   "cell_type": "markdown",
   "id": "f6f40cda",
   "metadata": {},
   "source": [
    "# Ratings_cleaning musi zostać uruchomiony jako pierwszy\n",
    "Notebook `Ratings_cleaning.ipynb` usuwa niektóre z wystawionych ocen, co zmniejsza ich liczbę u użytkowników. Następnie usuwa użytkowników, którzy mają mniej niż 20 ocen i zapisuje nowy zbiór danych do pliku `user_features_2.csv`."
   ]
  },
  {
   "cell_type": "code",
   "execution_count": 51,
   "id": "0eaab36b",
   "metadata": {},
   "outputs": [],
   "source": [
    "import pandas as pd"
   ]
  },
  {
   "cell_type": "code",
   "execution_count": 52,
   "id": "b4640ed3",
   "metadata": {},
   "outputs": [],
   "source": [
    "df = pd.read_csv('../datasets/user_features_2.csv')"
   ]
  },
  {
   "cell_type": "code",
   "execution_count": 53,
   "id": "9b6139f6",
   "metadata": {},
   "outputs": [
    {
     "name": "stdout",
     "output_type": "stream",
     "text": [
      "<class 'pandas.core.frame.DataFrame'>\n",
      "RangeIndex: 200846 entries, 0 to 200845\n",
      "Data columns (total 24 columns):\n",
      " #   Column                 Non-Null Count   Dtype  \n",
      "---  ------                 --------------   -----  \n",
      " 0   userId                 200846 non-null  int64  \n",
      " 1   num_rating             200846 non-null  int64  \n",
      " 2   avg_rating             200846 non-null  float64\n",
      " 3   weekend_watcher        200846 non-null  int64  \n",
      " 4   type_of_viewer         200846 non-null  object \n",
      " 5   genre_Action           199613 non-null  float64\n",
      " 6   genre_Adventure        199878 non-null  float64\n",
      " 7   genre_Animation        173940 non-null  float64\n",
      " 8   genre_Comedy           200378 non-null  float64\n",
      " 9   genre_Crime            198682 non-null  float64\n",
      " 10  genre_Documentary      72068 non-null   float64\n",
      " 11  genre_Drama            200781 non-null  float64\n",
      " 12  genre_Family           188451 non-null  float64\n",
      " 13  genre_Fantasy          196283 non-null  float64\n",
      " 14  genre_History          173911 non-null  float64\n",
      " 15  genre_Horror           158280 non-null  float64\n",
      " 16  genre_Music            137744 non-null  float64\n",
      " 17  genre_Mystery          189631 non-null  float64\n",
      " 18  genre_Romance          196312 non-null  float64\n",
      " 19  genre_Science Fiction  197922 non-null  float64\n",
      " 20  genre_TV Movie         21381 non-null   float64\n",
      " 21  genre_Thriller         199544 non-null  float64\n",
      " 22  genre_War              171714 non-null  float64\n",
      " 23  genre_Western          127949 non-null  float64\n",
      "dtypes: float64(20), int64(3), object(1)\n",
      "memory usage: 36.8+ MB\n",
      "None\n"
     ]
    }
   ],
   "source": [
    "print(df.info())"
   ]
  },
  {
   "cell_type": "markdown",
   "id": "9448cdd9",
   "metadata": {},
   "source": [
    "# Uzupełnienie brakujących ocen "
   ]
  },
  {
   "cell_type": "code",
   "execution_count": 54,
   "id": "eafbc9ba",
   "metadata": {},
   "outputs": [
    {
     "name": "stdout",
     "output_type": "stream",
     "text": [
      "<class 'pandas.core.frame.DataFrame'>\n",
      "RangeIndex: 200846 entries, 0 to 200845\n",
      "Data columns (total 24 columns):\n",
      " #   Column                 Non-Null Count   Dtype  \n",
      "---  ------                 --------------   -----  \n",
      " 0   userId                 200846 non-null  int64  \n",
      " 1   num_rating             200846 non-null  int64  \n",
      " 2   avg_rating             200846 non-null  float64\n",
      " 3   weekend_watcher        200846 non-null  int64  \n",
      " 4   type_of_viewer         200846 non-null  object \n",
      " 5   genre_Action           200846 non-null  float64\n",
      " 6   genre_Adventure        200846 non-null  float64\n",
      " 7   genre_Animation        200846 non-null  float64\n",
      " 8   genre_Comedy           200846 non-null  float64\n",
      " 9   genre_Crime            200846 non-null  float64\n",
      " 10  genre_Documentary      200846 non-null  float64\n",
      " 11  genre_Drama            200846 non-null  float64\n",
      " 12  genre_Family           200846 non-null  float64\n",
      " 13  genre_Fantasy          200846 non-null  float64\n",
      " 14  genre_History          200846 non-null  float64\n",
      " 15  genre_Horror           200846 non-null  float64\n",
      " 16  genre_Music            200846 non-null  float64\n",
      " 17  genre_Mystery          200846 non-null  float64\n",
      " 18  genre_Romance          200846 non-null  float64\n",
      " 19  genre_Science Fiction  200846 non-null  float64\n",
      " 20  genre_TV Movie         200846 non-null  float64\n",
      " 21  genre_Thriller         200846 non-null  float64\n",
      " 22  genre_War              200846 non-null  float64\n",
      " 23  genre_Western          200846 non-null  float64\n",
      "dtypes: float64(20), int64(3), object(1)\n",
      "memory usage: 36.8+ MB\n",
      "None\n"
     ]
    }
   ],
   "source": [
    "genre_columns = ['genre_Action','genre_Adventure','genre_Animation','genre_Comedy','genre_Crime','genre_Documentary','genre_Drama','genre_Family','genre_Fantasy','genre_History','genre_Horror','genre_Music','genre_Mystery','genre_Romance','genre_Science Fiction','genre_TV Movie','genre_Thriller','genre_War','genre_Western']\n",
    "\n",
    "for col in genre_columns:\n",
    "    df[col] = df[col].fillna(df['avg_rating'])\n",
    "\n",
    "print(df.info())"
   ]
  },
  {
   "cell_type": "markdown",
   "id": "8418eb25",
   "metadata": {},
   "source": [
    "# Enkodowanie kolumny 'type_of_viewer'"
   ]
  },
  {
   "cell_type": "code",
   "execution_count": 55,
   "id": "589b52ba",
   "metadata": {},
   "outputs": [
    {
     "name": "stdout",
     "output_type": "stream",
     "text": [
      "<class 'pandas.core.frame.DataFrame'>\n",
      "RangeIndex: 200846 entries, 0 to 200845\n",
      "Data columns (total 26 columns):\n",
      " #   Column                   Non-Null Count   Dtype  \n",
      "---  ------                   --------------   -----  \n",
      " 0   userId                   200846 non-null  int64  \n",
      " 1   num_rating               200846 non-null  int64  \n",
      " 2   avg_rating               200846 non-null  float64\n",
      " 3   weekend_watcher          200846 non-null  int64  \n",
      " 4   genre_Action             200846 non-null  float64\n",
      " 5   genre_Adventure          200846 non-null  float64\n",
      " 6   genre_Animation          200846 non-null  float64\n",
      " 7   genre_Comedy             200846 non-null  float64\n",
      " 8   genre_Crime              200846 non-null  float64\n",
      " 9   genre_Documentary        200846 non-null  float64\n",
      " 10  genre_Drama              200846 non-null  float64\n",
      " 11  genre_Family             200846 non-null  float64\n",
      " 12  genre_Fantasy            200846 non-null  float64\n",
      " 13  genre_History            200846 non-null  float64\n",
      " 14  genre_Horror             200846 non-null  float64\n",
      " 15  genre_Music              200846 non-null  float64\n",
      " 16  genre_Mystery            200846 non-null  float64\n",
      " 17  genre_Romance            200846 non-null  float64\n",
      " 18  genre_Science Fiction    200846 non-null  float64\n",
      " 19  genre_TV Movie           200846 non-null  float64\n",
      " 20  genre_Thriller           200846 non-null  float64\n",
      " 21  genre_War                200846 non-null  float64\n",
      " 22  genre_Western            200846 non-null  float64\n",
      " 23  type_of_viewer_negative  200846 non-null  float64\n",
      " 24  type_of_viewer_neutral   200846 non-null  float64\n",
      " 25  type_of_viewer_positive  200846 non-null  float64\n",
      "dtypes: float64(23), int64(3)\n",
      "memory usage: 39.8 MB\n",
      "None\n",
      "\n",
      "   userId  num_rating  avg_rating  weekend_watcher  genre_Action  \\\n",
      "0       1         141    3.531915                0      4.133333   \n",
      "1       2          52    4.269231                0      4.000000   \n",
      "2       3         147    3.588435                0      3.583333   \n",
      "\n",
      "   genre_Adventure  genre_Animation  genre_Comedy  genre_Crime  \\\n",
      "0         3.333333         3.531915      3.339623     4.285714   \n",
      "1         4.142857         4.875000      4.130435     4.000000   \n",
      "2         3.605263         3.961538      3.186275     3.346154   \n",
      "\n",
      "   genre_Documentary  ...  genre_Mystery  genre_Romance  \\\n",
      "0           3.000000  ...       4.272727       3.487805   \n",
      "1           4.269231  ...       4.750000       4.823529   \n",
      "2           3.588435  ...       3.875000       3.637931   \n",
      "\n",
      "   genre_Science Fiction  genre_TV Movie  genre_Thriller  genre_War  \\\n",
      "0               4.000000        3.531915        3.666667   3.555556   \n",
      "1               4.269231        4.269231        4.300000   3.000000   \n",
      "2               3.441176        3.588435        3.307692   4.000000   \n",
      "\n",
      "   genre_Western  type_of_viewer_negative  type_of_viewer_neutral  \\\n",
      "0       3.000000                      0.0                     1.0   \n",
      "1       4.269231                      0.0                     0.0   \n",
      "2       3.750000                      0.0                     1.0   \n",
      "\n",
      "   type_of_viewer_positive  \n",
      "0                      0.0  \n",
      "1                      1.0  \n",
      "2                      0.0  \n",
      "\n",
      "[3 rows x 26 columns]\n"
     ]
    }
   ],
   "source": [
    "from sklearn.preprocessing import OneHotEncoder\n",
    "\n",
    "ohe = OneHotEncoder(sparse_output=False)\n",
    "encoded = ohe.fit_transform(df[['type_of_viewer']])\n",
    "encoded = pd.DataFrame(encoded, columns=ohe.get_feature_names_out(['type_of_viewer']))\n",
    "\n",
    "encoded.index = df.index\n",
    "df = df.drop(columns=['type_of_viewer'])\n",
    "df = pd.concat([df, encoded], axis=1)\n",
    "\n",
    "print(df.info())\n",
    "print()\n",
    "print(df.head(3))\n"
   ]
  },
  {
   "cell_type": "markdown",
   "id": "bac7051c",
   "metadata": {},
   "source": [
    "# Dołączenie ostatnich 20 ocenionych filmów ze zbioru ratings_clean_zlib.h5"
   ]
  },
  {
   "cell_type": "code",
   "execution_count": 56,
   "id": "de78ac84",
   "metadata": {},
   "outputs": [
    {
     "name": "stdout",
     "output_type": "stream",
     "text": [
      "<class 'pandas.core.frame.DataFrame'>\n",
      "RangeIndex: 200846 entries, 0 to 200845\n",
      "Data columns (total 29 columns):\n",
      " #   Column                   Non-Null Count   Dtype  \n",
      "---  ------                   --------------   -----  \n",
      " 0   userId                   200846 non-null  int64  \n",
      " 1   num_rating               200846 non-null  int64  \n",
      " 2   avg_rating               200846 non-null  float64\n",
      " 3   weekend_watcher          200846 non-null  int64  \n",
      " 4   genre_Action             200846 non-null  float64\n",
      " 5   genre_Adventure          200846 non-null  float64\n",
      " 6   genre_Animation          200846 non-null  float64\n",
      " 7   genre_Comedy             200846 non-null  float64\n",
      " 8   genre_Crime              200846 non-null  float64\n",
      " 9   genre_Documentary        200846 non-null  float64\n",
      " 10  genre_Drama              200846 non-null  float64\n",
      " 11  genre_Family             200846 non-null  float64\n",
      " 12  genre_Fantasy            200846 non-null  float64\n",
      " 13  genre_History            200846 non-null  float64\n",
      " 14  genre_Horror             200846 non-null  float64\n",
      " 15  genre_Music              200846 non-null  float64\n",
      " 16  genre_Mystery            200846 non-null  float64\n",
      " 17  genre_Romance            200846 non-null  float64\n",
      " 18  genre_Science Fiction    200846 non-null  float64\n",
      " 19  genre_TV Movie           200846 non-null  float64\n",
      " 20  genre_Thriller           200846 non-null  float64\n",
      " 21  genre_War                200846 non-null  float64\n",
      " 22  genre_Western            200846 non-null  float64\n",
      " 23  type_of_viewer_negative  200846 non-null  float64\n",
      " 24  type_of_viewer_neutral   200846 non-null  float64\n",
      " 25  type_of_viewer_positive  200846 non-null  float64\n",
      " 26  movies_seq               200846 non-null  object \n",
      " 27  ratings_seq              200846 non-null  object \n",
      " 28  ts_seq                   200846 non-null  object \n",
      "dtypes: float64(23), int64(3), object(3)\n",
      "memory usage: 44.4+ MB\n",
      "None\n"
     ]
    }
   ],
   "source": [
    "ratings_df = pd.read_parquet('../datasets/ratings_clean.parquet')\n",
    "df = pd.merge(df, ratings_df, on='userId')\n",
    "\n",
    "print(df.info())"
   ]
  },
  {
   "cell_type": "markdown",
   "id": "1b8d0e62",
   "metadata": {},
   "source": []
  },
  {
   "cell_type": "code",
   "execution_count": 57,
   "id": "5f0a1c31",
   "metadata": {},
   "outputs": [],
   "source": [
    "df.to_parquet('../datasets/user_features_clean.parquet', compression='brotli')"
   ]
  }
 ],
 "metadata": {
  "kernelspec": {
   "display_name": "base",
   "language": "python",
   "name": "python3"
  },
  "language_info": {
   "codemirror_mode": {
    "name": "ipython",
    "version": 3
   },
   "file_extension": ".py",
   "mimetype": "text/x-python",
   "name": "python",
   "nbconvert_exporter": "python",
   "pygments_lexer": "ipython3",
   "version": "3.12.2"
  }
 },
 "nbformat": 4,
 "nbformat_minor": 5
}
