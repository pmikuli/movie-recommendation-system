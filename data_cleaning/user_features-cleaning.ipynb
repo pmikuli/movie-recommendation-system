{
 "cells": [
  {
   "cell_type": "markdown",
   "id": "f6f40cda",
   "metadata": {},
   "source": [
    "# Ratings_cleaning musi zostać uruchomiony jako pierwszy\n",
    "Notebook `Ratings_cleaning.ipynb` usuwa niektóre z wystawionych ocen, co zmniejsza ich liczbę u użytkowników. Następnie usuwa użytkowników, którzy mają mniej niż 20 ocen i zapisuje nowy zbiór danych do pliku `user_features_2.csv`."
   ]
  },
  {
   "cell_type": "code",
   "execution_count": 20,
   "id": "0eaab36b",
   "metadata": {},
   "outputs": [],
   "source": [
    "import pandas as pd"
   ]
  },
  {
   "cell_type": "code",
   "execution_count": 21,
   "id": "b4640ed3",
   "metadata": {},
   "outputs": [],
   "source": [
    "df = pd.read_csv('../datasets/user_features_2.csv')"
   ]
  },
  {
   "cell_type": "code",
   "execution_count": 22,
   "id": "9b6139f6",
   "metadata": {},
   "outputs": [
    {
     "name": "stdout",
     "output_type": "stream",
     "text": [
      "<class 'pandas.core.frame.DataFrame'>\n",
      "RangeIndex: 200846 entries, 0 to 200845\n",
      "Data columns (total 25 columns):\n",
      " #   Column                 Non-Null Count   Dtype  \n",
      "---  ------                 --------------   -----  \n",
      " 0   Unnamed: 0             200846 non-null  int64  \n",
      " 1   userId                 200846 non-null  int64  \n",
      " 2   num_rating             200846 non-null  int64  \n",
      " 3   avg_rating             200846 non-null  float64\n",
      " 4   weekend_watcher        200846 non-null  int64  \n",
      " 5   type_of_viewer         200846 non-null  object \n",
      " 6   genre_Action           199613 non-null  float64\n",
      " 7   genre_Adventure        199878 non-null  float64\n",
      " 8   genre_Animation        173940 non-null  float64\n",
      " 9   genre_Comedy           200378 non-null  float64\n",
      " 10  genre_Crime            198682 non-null  float64\n",
      " 11  genre_Documentary      72068 non-null   float64\n",
      " 12  genre_Drama            200781 non-null  float64\n",
      " 13  genre_Family           188451 non-null  float64\n",
      " 14  genre_Fantasy          196283 non-null  float64\n",
      " 15  genre_History          173911 non-null  float64\n",
      " 16  genre_Horror           158280 non-null  float64\n",
      " 17  genre_Music            137744 non-null  float64\n",
      " 18  genre_Mystery          189631 non-null  float64\n",
      " 19  genre_Romance          196312 non-null  float64\n",
      " 20  genre_Science Fiction  197922 non-null  float64\n",
      " 21  genre_TV Movie         21381 non-null   float64\n",
      " 22  genre_Thriller         199544 non-null  float64\n",
      " 23  genre_War              171714 non-null  float64\n",
      " 24  genre_Western          127949 non-null  float64\n",
      "dtypes: float64(20), int64(4), object(1)\n",
      "memory usage: 38.3+ MB\n",
      "None\n"
     ]
    }
   ],
   "source": [
    "print(df.info())"
   ]
  },
  {
   "cell_type": "markdown",
   "id": "9448cdd9",
   "metadata": {},
   "source": [
    "# Uzupełnienie brakujących ocen "
   ]
  },
  {
   "cell_type": "code",
   "execution_count": 23,
   "id": "eafbc9ba",
   "metadata": {},
   "outputs": [
    {
     "name": "stdout",
     "output_type": "stream",
     "text": [
      "<class 'pandas.core.frame.DataFrame'>\n",
      "RangeIndex: 200846 entries, 0 to 200845\n",
      "Data columns (total 25 columns):\n",
      " #   Column                 Non-Null Count   Dtype  \n",
      "---  ------                 --------------   -----  \n",
      " 0   Unnamed: 0             200846 non-null  int64  \n",
      " 1   userId                 200846 non-null  int64  \n",
      " 2   num_rating             200846 non-null  int64  \n",
      " 3   avg_rating             200846 non-null  float64\n",
      " 4   weekend_watcher        200846 non-null  int64  \n",
      " 5   type_of_viewer         200846 non-null  object \n",
      " 6   genre_Action           200846 non-null  float64\n",
      " 7   genre_Adventure        200846 non-null  float64\n",
      " 8   genre_Animation        200846 non-null  float64\n",
      " 9   genre_Comedy           200846 non-null  float64\n",
      " 10  genre_Crime            200846 non-null  float64\n",
      " 11  genre_Documentary      200846 non-null  float64\n",
      " 12  genre_Drama            200846 non-null  float64\n",
      " 13  genre_Family           200846 non-null  float64\n",
      " 14  genre_Fantasy          200846 non-null  float64\n",
      " 15  genre_History          200846 non-null  float64\n",
      " 16  genre_Horror           200846 non-null  float64\n",
      " 17  genre_Music            200846 non-null  float64\n",
      " 18  genre_Mystery          200846 non-null  float64\n",
      " 19  genre_Romance          200846 non-null  float64\n",
      " 20  genre_Science Fiction  200846 non-null  float64\n",
      " 21  genre_TV Movie         200846 non-null  float64\n",
      " 22  genre_Thriller         200846 non-null  float64\n",
      " 23  genre_War              200846 non-null  float64\n",
      " 24  genre_Western          200846 non-null  float64\n",
      "dtypes: float64(20), int64(4), object(1)\n",
      "memory usage: 38.3+ MB\n",
      "None\n"
     ]
    }
   ],
   "source": [
    "genre_columns = ['genre_Action','genre_Adventure','genre_Animation','genre_Comedy','genre_Crime','genre_Documentary','genre_Drama','genre_Family','genre_Fantasy','genre_History','genre_Horror','genre_Music','genre_Mystery','genre_Romance','genre_Science Fiction','genre_TV Movie','genre_Thriller','genre_War','genre_Western']\n",
    "\n",
    "for col in genre_columns:\n",
    "    df[col] = df[col].fillna(df['avg_rating'])\n",
    "\n",
    "print(df.info())"
   ]
  },
  {
   "cell_type": "markdown",
   "id": "1b8d0e62",
   "metadata": {},
   "source": []
  },
  {
   "cell_type": "code",
   "execution_count": 24,
   "id": "5f0a1c31",
   "metadata": {},
   "outputs": [],
   "source": [
    "df.to_hdf('../datasets/user_features_clean_zlib.h5', key='df', mode='w', complevel=9, complib='zlib')"
   ]
  }
 ],
 "metadata": {
  "kernelspec": {
   "display_name": "base",
   "language": "python",
   "name": "python3"
  },
  "language_info": {
   "codemirror_mode": {
    "name": "ipython",
    "version": 3
   },
   "file_extension": ".py",
   "mimetype": "text/x-python",
   "name": "python",
   "nbconvert_exporter": "python",
   "pygments_lexer": "ipython3",
   "version": "3.12.2"
  }
 },
 "nbformat": 4,
 "nbformat_minor": 5
}
