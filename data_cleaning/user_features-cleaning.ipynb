{
 "cells": [
  {
   "cell_type": "markdown",
   "id": "f6f40cda",
   "metadata": {},
   "source": [
    "# Ratings_cleaning musi zostać uruchomiony jako pierwszy\n",
    "Notebook `Ratings_cleaning.ipynb` usuwa niektóre z wystawionych ocen, co zmniejsza ich liczbę u użytkowników. Następnie usuwa użytkowników, którzy mają mniej niż 20 ocen i zapisuje nowy zbiór danych do pliku `user_features_2.csv`."
   ]
  },
  {
   "cell_type": "code",
   "id": "0eaab36b",
   "metadata": {
    "ExecuteTime": {
     "end_time": "2025-07-30T15:28:57.881065Z",
     "start_time": "2025-07-30T15:28:57.865158Z"
    }
   },
   "source": [
    "import pandas as pd"
   ],
   "outputs": [],
   "execution_count": 1
  },
  {
   "cell_type": "code",
   "id": "b4640ed3",
   "metadata": {
    "ExecuteTime": {
     "end_time": "2025-07-30T15:28:58.241354Z",
     "start_time": "2025-07-30T15:28:58.026398Z"
    }
   },
   "source": "df = pd.read_csv('../data/user_features_warm_2.csv')",
   "outputs": [],
   "execution_count": 2
  },
  {
   "cell_type": "code",
   "id": "9b6139f6",
   "metadata": {
    "ExecuteTime": {
     "end_time": "2025-07-30T15:28:58.283117Z",
     "start_time": "2025-07-30T15:28:58.262707Z"
    }
   },
   "source": "print(df.info())",
   "outputs": [
    {
     "name": "stdout",
     "output_type": "stream",
     "text": [
      "<class 'pandas.core.frame.DataFrame'>\n",
      "RangeIndex: 157023 entries, 0 to 157022\n",
      "Data columns (total 24 columns):\n",
      " #   Column                 Non-Null Count   Dtype  \n",
      "---  ------                 --------------   -----  \n",
      " 0   userId                 157023 non-null  int64  \n",
      " 1   num_rating             157023 non-null  int64  \n",
      " 2   avg_rating             157023 non-null  float64\n",
      " 3   weekend_watcher        157023 non-null  int64  \n",
      " 4   type_of_viewer         157023 non-null  object \n",
      " 5   genre_Action           156457 non-null  float64\n",
      " 6   genre_Adventure        156602 non-null  float64\n",
      " 7   genre_Animation        141939 non-null  float64\n",
      " 8   genre_Comedy           156784 non-null  float64\n",
      " 9   genre_Crime            156096 non-null  float64\n",
      " 10  genre_Documentary      67846 non-null   float64\n",
      " 11  genre_Drama            156994 non-null  float64\n",
      " 12  genre_Family           149810 non-null  float64\n",
      " 13  genre_Fantasy          155192 non-null  float64\n",
      " 14  genre_History          143167 non-null  float64\n",
      " 15  genre_Horror           132316 non-null  float64\n",
      " 16  genre_Musical          119495 non-null  float64\n",
      " 17  genre_Mystery          152463 non-null  float64\n",
      " 18  genre_Romance          154469 non-null  float64\n",
      " 19  genre_Science Fiction  155825 non-null  float64\n",
      " 20  genre_TV Movie         20588 non-null   float64\n",
      " 21  genre_Thriller         156408 non-null  float64\n",
      " 22  genre_War              143628 non-null  float64\n",
      " 23  genre_Western          110913 non-null  float64\n",
      "dtypes: float64(20), int64(3), object(1)\n",
      "memory usage: 28.8+ MB\n",
      "None\n"
     ]
    }
   ],
   "execution_count": 3
  },
  {
   "cell_type": "markdown",
   "id": "9448cdd9",
   "metadata": {},
   "source": [
    "# Uzupełnienie brakujących ocen "
   ]
  },
  {
   "cell_type": "code",
   "id": "eafbc9ba",
   "metadata": {
    "ExecuteTime": {
     "end_time": "2025-07-30T15:28:58.338142Z",
     "start_time": "2025-07-30T15:28:58.300009Z"
    }
   },
   "source": [
    "genre_columns = ['genre_Action','genre_Adventure','genre_Animation','genre_Comedy','genre_Crime','genre_Documentary','genre_Drama','genre_Family','genre_Fantasy','genre_History','genre_Horror','genre_Musical','genre_Mystery','genre_Romance','genre_Science Fiction','genre_TV Movie','genre_Thriller','genre_War','genre_Western']\n",
    "\n",
    "for col in genre_columns:\n",
    "    df[col] = df[col].fillna(df['avg_rating'])\n",
    "\n",
    "print(df.info())"
   ],
   "outputs": [
    {
     "name": "stdout",
     "output_type": "stream",
     "text": [
      "<class 'pandas.core.frame.DataFrame'>\n",
      "RangeIndex: 157023 entries, 0 to 157022\n",
      "Data columns (total 24 columns):\n",
      " #   Column                 Non-Null Count   Dtype  \n",
      "---  ------                 --------------   -----  \n",
      " 0   userId                 157023 non-null  int64  \n",
      " 1   num_rating             157023 non-null  int64  \n",
      " 2   avg_rating             157023 non-null  float64\n",
      " 3   weekend_watcher        157023 non-null  int64  \n",
      " 4   type_of_viewer         157023 non-null  object \n",
      " 5   genre_Action           157023 non-null  float64\n",
      " 6   genre_Adventure        157023 non-null  float64\n",
      " 7   genre_Animation        157023 non-null  float64\n",
      " 8   genre_Comedy           157023 non-null  float64\n",
      " 9   genre_Crime            157023 non-null  float64\n",
      " 10  genre_Documentary      157023 non-null  float64\n",
      " 11  genre_Drama            157023 non-null  float64\n",
      " 12  genre_Family           157023 non-null  float64\n",
      " 13  genre_Fantasy          157023 non-null  float64\n",
      " 14  genre_History          157023 non-null  float64\n",
      " 15  genre_Horror           157023 non-null  float64\n",
      " 16  genre_Musical          157023 non-null  float64\n",
      " 17  genre_Mystery          157023 non-null  float64\n",
      " 18  genre_Romance          157023 non-null  float64\n",
      " 19  genre_Science Fiction  157023 non-null  float64\n",
      " 20  genre_TV Movie         157023 non-null  float64\n",
      " 21  genre_Thriller         157023 non-null  float64\n",
      " 22  genre_War              157023 non-null  float64\n",
      " 23  genre_Western          157023 non-null  float64\n",
      "dtypes: float64(20), int64(3), object(1)\n",
      "memory usage: 28.8+ MB\n",
      "None\n"
     ]
    }
   ],
   "execution_count": 4
  },
  {
   "cell_type": "markdown",
   "id": "8418eb25",
   "metadata": {},
   "source": [
    "# Enkodowanie kolumny 'type_of_viewer'"
   ]
  },
  {
   "cell_type": "code",
   "id": "589b52ba",
   "metadata": {
    "ExecuteTime": {
     "end_time": "2025-07-30T15:28:58.460020Z",
     "start_time": "2025-07-30T15:28:58.368721Z"
    }
   },
   "source": [
    "from sklearn.preprocessing import OneHotEncoder\n",
    "\n",
    "ohe = OneHotEncoder(sparse_output=False)\n",
    "\n",
    "def encoder(df):\n",
    "    encoded = ohe.fit_transform(df[['type_of_viewer']])\n",
    "    encoded = pd.DataFrame(encoded, columns=ohe.get_feature_names_out(['type_of_viewer']))\n",
    "    encoded.index = df.index\n",
    "    df = df.drop(columns=['type_of_viewer'])\n",
    "    df = pd.concat([df, encoded], axis=1)\n",
    "\n",
    "    return df\n",
    "\n",
    "df = encoder(df)\n",
    "\n",
    "print(df.head(3))"
   ],
   "outputs": [
    {
     "name": "stdout",
     "output_type": "stream",
     "text": [
      "   userId  num_rating  avg_rating  weekend_watcher  genre_Action  \\\n",
      "0       1         141    3.531915                0      4.133333   \n",
      "1       2          52    4.269231                0      4.000000   \n",
      "2       3         147    3.588435                0      3.583333   \n",
      "\n",
      "   genre_Adventure  genre_Animation  genre_Comedy  genre_Crime  \\\n",
      "0         3.333333         3.531915      3.339623     4.285714   \n",
      "1         4.142857         4.875000      4.130435     4.000000   \n",
      "2         3.605263         3.961538      3.186275     3.346154   \n",
      "\n",
      "   genre_Documentary  ...  genre_Mystery  genre_Romance  \\\n",
      "0           3.000000  ...       4.272727       3.487805   \n",
      "1           4.269231  ...       4.750000       4.823529   \n",
      "2           3.588435  ...       3.875000       3.637931   \n",
      "\n",
      "   genre_Science Fiction  genre_TV Movie  genre_Thriller  genre_War  \\\n",
      "0               4.000000        3.531915        3.666667   3.555556   \n",
      "1               4.269231        4.269231        4.300000   3.000000   \n",
      "2               3.441176        3.588435        3.307692   4.000000   \n",
      "\n",
      "   genre_Western  type_of_viewer_negative  type_of_viewer_neutral  \\\n",
      "0       3.000000                      0.0                     1.0   \n",
      "1       4.269231                      0.0                     0.0   \n",
      "2       3.750000                      0.0                     1.0   \n",
      "\n",
      "   type_of_viewer_positive  \n",
      "0                      0.0  \n",
      "1                      1.0  \n",
      "2                      0.0  \n",
      "\n",
      "[3 rows x 26 columns]\n"
     ]
    }
   ],
   "execution_count": 5
  },
  {
   "cell_type": "markdown",
   "id": "1ba86ef7",
   "metadata": {},
   "source": [
    "# Dołączenie ostatnich 20 ocenionych filmów ze zbioru ratings_clean_zlib.h5"
   ]
  },
  {
   "cell_type": "code",
   "id": "82afa13a",
   "metadata": {
    "ExecuteTime": {
     "end_time": "2025-07-30T15:28:58.665881Z",
     "start_time": "2025-07-30T15:28:58.480448Z"
    }
   },
   "source": [
    "ratings_df = pd.read_parquet('../data/ratings_clean_groupped_20.parquet')\n",
    "df = pd.merge(df, ratings_df, on='userId')"
   ],
   "outputs": [],
   "execution_count": 6
  },
  {
   "cell_type": "markdown",
   "id": "4271baf0",
   "metadata": {},
   "source": [
    "# Normalizacja danych numerycznych"
   ]
  },
  {
   "cell_type": "code",
   "id": "e54b85ab",
   "metadata": {
    "ExecuteTime": {
     "end_time": "2025-07-30T15:28:58.751438Z",
     "start_time": "2025-07-30T15:28:58.695190Z"
    }
   },
   "source": [
    "from sklearn.preprocessing import StandardScaler\n",
    "\n",
    "columns_to_normalize = ['num_rating', 'avg_rating']\n",
    "columns_to_normalize.extend(genre_columns)\n",
    "print('Columns to normalize:', columns_to_normalize)\n",
    "\n",
    "scaler = StandardScaler()\n",
    "\n",
    "df[columns_to_normalize] = scaler.fit_transform(df[columns_to_normalize])\n",
    "print(df.head(3))"
   ],
   "outputs": [
    {
     "name": "stdout",
     "output_type": "stream",
     "text": [
      "Columns to normalize: ['num_rating', 'avg_rating', 'genre_Action', 'genre_Adventure', 'genre_Animation', 'genre_Comedy', 'genre_Crime', 'genre_Documentary', 'genre_Drama', 'genre_Family', 'genre_Fantasy', 'genre_History', 'genre_Horror', 'genre_Musical', 'genre_Mystery', 'genre_Romance', 'genre_Science Fiction', 'genre_TV Movie', 'genre_Thriller', 'genre_War', 'genre_Western']\n",
      "   userId  num_rating  avg_rating  weekend_watcher  genre_Action  \\\n",
      "0       1   -0.174005   -0.542931                0      0.839846   \n",
      "1       2   -0.461647    1.083367                0      0.612983   \n",
      "2       3   -0.154613   -0.418264                0     -0.095961   \n",
      "\n",
      "   genre_Adventure  genre_Animation  genre_Comedy  genre_Crime  \\\n",
      "0        -0.550914        -0.300797     -0.598723     0.840804   \n",
      "1         0.852558         1.556680      0.872001     0.310369   \n",
      "2        -0.079469         0.293370     -0.883915    -0.903511   \n",
      "\n",
      "   genre_Documentary  ...  genre_TV Movie  genre_Thriller  genre_War  \\\n",
      "0          -1.201041  ...       -0.429247       -0.177017  -0.582586   \n",
      "1           0.646536  ...        0.874475        1.018953  -1.428353   \n",
      "2          -0.344475  ...       -0.329308       -0.854894   0.094026   \n",
      "\n",
      "   genre_Western  type_of_viewer_negative  type_of_viewer_neutral  \\\n",
      "0      -1.035140                      0.0                     1.0   \n",
      "1       0.693547                      0.0                     0.0   \n",
      "2      -0.013643                      0.0                     1.0   \n",
      "\n",
      "   type_of_viewer_positive                                         movies_seq  \\\n",
      "0                      0.0  [1263, 1296, 926, 2247, 223, 1150, 232, 2882, ...   \n",
      "1                      1.0  [34, 595, 186, 185, 276, 552, 296, 364, 551, 5...   \n",
      "2                      0.0  [1375, 552, 2701, 357, 367, 1090, 1957, 1721, ...   \n",
      "\n",
      "                                         ratings_seq  \\\n",
      "0  [5.0, 3.0, 5.0, 5.0, 3.0, 4.0, 5.0, 1.0, 1.0, ...   \n",
      "1  [5.0, 5.0, 5.0, 5.0, 4.0, 4.0, 1.0, 5.0, 4.0, ...   \n",
      "2  [4.0, 4.0, 3.0, 4.0, 2.5, 4.0, 5.0, 4.0, 3.0, ...   \n",
      "\n",
      "                                              ts_seq  \n",
      "0  [0.7177751660346985, 0.7178045511245728, 0.717...  \n",
      "1  [0.717822253704071, 0.7178265452384949, 0.7178...  \n",
      "2  [0.717746376991272, 0.7178027629852295, 0.7178...  \n",
      "\n",
      "[3 rows x 29 columns]\n"
     ]
    }
   ],
   "execution_count": 7
  },
  {
   "cell_type": "markdown",
   "id": "2ddf8c9e",
   "metadata": {},
   "source": [
    "# Konwersja kolumny weekend_watcher do float64"
   ]
  },
  {
   "cell_type": "code",
   "id": "31f24f2a",
   "metadata": {
    "ExecuteTime": {
     "end_time": "2025-07-30T15:28:58.767440Z",
     "start_time": "2025-07-30T15:28:58.761436Z"
    }
   },
   "source": "df['weekend_watcher'] = df['weekend_watcher'].astype('float64')",
   "outputs": [],
   "execution_count": 8
  },
  {
   "cell_type": "code",
   "id": "03239b07",
   "metadata": {
    "ExecuteTime": {
     "end_time": "2025-07-30T15:28:58.806789Z",
     "start_time": "2025-07-30T15:28:58.795260Z"
    }
   },
   "source": "print('\\', \\''.join(df.columns.to_list()))",
   "outputs": [
    {
     "name": "stdout",
     "output_type": "stream",
     "text": [
      "userId', 'num_rating', 'avg_rating', 'weekend_watcher', 'genre_Action', 'genre_Adventure', 'genre_Animation', 'genre_Comedy', 'genre_Crime', 'genre_Documentary', 'genre_Drama', 'genre_Family', 'genre_Fantasy', 'genre_History', 'genre_Horror', 'genre_Musical', 'genre_Mystery', 'genre_Romance', 'genre_Science Fiction', 'genre_TV Movie', 'genre_Thriller', 'genre_War', 'genre_Western', 'type_of_viewer_negative', 'type_of_viewer_neutral', 'type_of_viewer_positive', 'movies_seq', 'ratings_seq', 'ts_seq\n"
     ]
    }
   ],
   "execution_count": 9
  },
  {
   "cell_type": "markdown",
   "id": "1b8d0e62",
   "metadata": {},
   "source": [
    "# Zapis do pliku"
   ]
  },
  {
   "cell_type": "code",
   "id": "c64ea103",
   "metadata": {
    "ExecuteTime": {
     "end_time": "2025-07-30T15:28:58.890259Z",
     "start_time": "2025-07-30T15:28:58.859668Z"
    }
   },
   "source": "df.info()",
   "outputs": [
    {
     "name": "stdout",
     "output_type": "stream",
     "text": [
      "<class 'pandas.core.frame.DataFrame'>\n",
      "RangeIndex: 157023 entries, 0 to 157022\n",
      "Data columns (total 29 columns):\n",
      " #   Column                   Non-Null Count   Dtype  \n",
      "---  ------                   --------------   -----  \n",
      " 0   userId                   157023 non-null  int64  \n",
      " 1   num_rating               157023 non-null  float64\n",
      " 2   avg_rating               157023 non-null  float64\n",
      " 3   weekend_watcher          157023 non-null  float64\n",
      " 4   genre_Action             157023 non-null  float64\n",
      " 5   genre_Adventure          157023 non-null  float64\n",
      " 6   genre_Animation          157023 non-null  float64\n",
      " 7   genre_Comedy             157023 non-null  float64\n",
      " 8   genre_Crime              157023 non-null  float64\n",
      " 9   genre_Documentary        157023 non-null  float64\n",
      " 10  genre_Drama              157023 non-null  float64\n",
      " 11  genre_Family             157023 non-null  float64\n",
      " 12  genre_Fantasy            157023 non-null  float64\n",
      " 13  genre_History            157023 non-null  float64\n",
      " 14  genre_Horror             157023 non-null  float64\n",
      " 15  genre_Musical            157023 non-null  float64\n",
      " 16  genre_Mystery            157023 non-null  float64\n",
      " 17  genre_Romance            157023 non-null  float64\n",
      " 18  genre_Science Fiction    157023 non-null  float64\n",
      " 19  genre_TV Movie           157023 non-null  float64\n",
      " 20  genre_Thriller           157023 non-null  float64\n",
      " 21  genre_War                157023 non-null  float64\n",
      " 22  genre_Western            157023 non-null  float64\n",
      " 23  type_of_viewer_negative  157023 non-null  float64\n",
      " 24  type_of_viewer_neutral   157023 non-null  float64\n",
      " 25  type_of_viewer_positive  157023 non-null  float64\n",
      " 26  movies_seq               157023 non-null  object \n",
      " 27  ratings_seq              157023 non-null  object \n",
      " 28  ts_seq                   157023 non-null  object \n",
      "dtypes: float64(25), int64(1), object(3)\n",
      "memory usage: 34.7+ MB\n"
     ]
    }
   ],
   "execution_count": 10
  },
  {
   "cell_type": "code",
   "id": "5f0a1c31",
   "metadata": {
    "ExecuteTime": {
     "end_time": "2025-07-30T15:29:00.614313Z",
     "start_time": "2025-07-30T15:28:58.907262Z"
    }
   },
   "source": "df.to_parquet('../data/user_features_clean_warm.parquet', compression='brotli')",
   "outputs": [],
   "execution_count": 11
  }
 ],
 "metadata": {
  "kernelspec": {
   "display_name": "base",
   "language": "python",
   "name": "python3"
  },
  "language_info": {
   "codemirror_mode": {
    "name": "ipython",
    "version": 3
   },
   "file_extension": ".py",
   "mimetype": "text/x-python",
   "name": "python",
   "nbconvert_exporter": "python",
   "pygments_lexer": "ipython3",
   "version": "3.12.2"
  }
 },
 "nbformat": 4,
 "nbformat_minor": 5
}
