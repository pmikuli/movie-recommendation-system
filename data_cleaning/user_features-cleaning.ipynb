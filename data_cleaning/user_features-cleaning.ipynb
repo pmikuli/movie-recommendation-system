{
 "cells": [
  {
   "cell_type": "markdown",
   "id": "f6f40cda",
   "metadata": {},
   "source": [
    "# Ratings_cleaning musi zostać uruchomiony jako pierwszy\n",
    "Notebook `Ratings_cleaning.ipynb` usuwa niektóre z wystawionych ocen, co zmniejsza ich liczbę u użytkowników. Następnie usuwa użytkowników, którzy mają mniej niż 20 ocen i zapisuje nowy zbiór danych do pliku `user_features_2.csv`."
   ]
  },
  {
   "cell_type": "code",
   "id": "0eaab36b",
   "metadata": {
    "ExecuteTime": {
     "end_time": "2025-07-22T16:32:24.960266Z",
     "start_time": "2025-07-22T16:32:24.406611Z"
    }
   },
   "source": [
    "import pandas as pd"
   ],
   "outputs": [],
   "execution_count": 1
  },
  {
   "cell_type": "code",
   "id": "b4640ed3",
   "metadata": {
    "ExecuteTime": {
     "end_time": "2025-07-22T16:32:25.266651Z",
     "start_time": "2025-07-22T16:32:24.964447Z"
    }
   },
   "source": [
    "df_train = pd.read_csv('../data/user_features_train_2.csv')\n",
    "df_test = pd.read_csv('../data/user_features_test_2.csv')"
   ],
   "outputs": [],
   "execution_count": 2
  },
  {
   "cell_type": "code",
   "id": "9b6139f6",
   "metadata": {
    "ExecuteTime": {
     "end_time": "2025-07-22T16:32:25.529441Z",
     "start_time": "2025-07-22T16:32:25.508266Z"
    }
   },
   "source": [
    "print(df_train.info())\n",
    "print(df_test.info())"
   ],
   "outputs": [
    {
     "name": "stdout",
     "output_type": "stream",
     "text": [
      "<class 'pandas.core.frame.DataFrame'>\n",
      "RangeIndex: 159120 entries, 0 to 159119\n",
      "Data columns (total 24 columns):\n",
      " #   Column                 Non-Null Count   Dtype  \n",
      "---  ------                 --------------   -----  \n",
      " 0   userId                 159120 non-null  int64  \n",
      " 1   num_rating             159120 non-null  int64  \n",
      " 2   avg_rating             159120 non-null  float64\n",
      " 3   weekend_watcher        159120 non-null  int64  \n",
      " 4   type_of_viewer         159120 non-null  object \n",
      " 5   genre_Action           158184 non-null  float64\n",
      " 6   genre_Adventure        158377 non-null  float64\n",
      " 7   genre_Animation        138044 non-null  float64\n",
      " 8   genre_Comedy           158785 non-null  float64\n",
      " 9   genre_Crime            157465 non-null  float64\n",
      " 10  genre_Documentary      58396 non-null   float64\n",
      " 11  genre_Drama            159071 non-null  float64\n",
      " 12  genre_Family           149620 non-null  float64\n",
      " 13  genre_Fantasy          155643 non-null  float64\n",
      " 14  genre_History          138167 non-null  float64\n",
      " 15  genre_Horror           125862 non-null  float64\n",
      " 16  genre_Musical          110030 non-null  float64\n",
      " 17  genre_Mystery          150446 non-null  float64\n",
      " 18  genre_Romance          155695 non-null  float64\n",
      " 19  genre_Science Fiction  156884 non-null  float64\n",
      " 20  genre_TV Movie         16921 non-null   float64\n",
      " 21  genre_Thriller         158111 non-null  float64\n",
      " 22  genre_War              136381 non-null  float64\n",
      " 23  genre_Western          102095 non-null  float64\n",
      "dtypes: float64(20), int64(3), object(1)\n",
      "memory usage: 29.1+ MB\n",
      "None\n",
      "<class 'pandas.core.frame.DataFrame'>\n",
      "RangeIndex: 39808 entries, 0 to 39807\n",
      "Data columns (total 24 columns):\n",
      " #   Column                 Non-Null Count  Dtype  \n",
      "---  ------                 --------------  -----  \n",
      " 0   userId                 39808 non-null  int64  \n",
      " 1   num_rating             39808 non-null  int64  \n",
      " 2   avg_rating             39808 non-null  float64\n",
      " 3   weekend_watcher        39808 non-null  int64  \n",
      " 4   type_of_viewer         39808 non-null  object \n",
      " 5   genre_Action           39577 non-null  float64\n",
      " 6   genre_Adventure        39647 non-null  float64\n",
      " 7   genre_Animation        34681 non-null  float64\n",
      " 8   genre_Comedy           39732 non-null  float64\n",
      " 9   genre_Crime            39395 non-null  float64\n",
      " 10  genre_Documentary      14681 non-null  float64\n",
      " 11  genre_Drama            39795 non-null  float64\n",
      " 12  genre_Family           37467 non-null  float64\n",
      " 13  genre_Fantasy          38934 non-null  float64\n",
      " 14  genre_History          34472 non-null  float64\n",
      " 15  genre_Horror           31471 non-null  float64\n",
      " 16  genre_Musical          27539 non-null  float64\n",
      " 17  genre_Mystery          37551 non-null  float64\n",
      " 18  genre_Romance          38972 non-null  float64\n",
      " 19  genre_Science Fiction  39246 non-null  float64\n",
      " 20  genre_TV Movie         4342 non-null   float64\n",
      " 21  genre_Thriller         39569 non-null  float64\n",
      " 22  genre_War              33994 non-null  float64\n",
      " 23  genre_Western          25221 non-null  float64\n",
      "dtypes: float64(20), int64(3), object(1)\n",
      "memory usage: 7.3+ MB\n",
      "None\n"
     ]
    }
   ],
   "execution_count": 3
  },
  {
   "cell_type": "markdown",
   "id": "9448cdd9",
   "metadata": {},
   "source": [
    "# Uzupełnienie brakujących ocen "
   ]
  },
  {
   "cell_type": "code",
   "id": "eafbc9ba",
   "metadata": {
    "ExecuteTime": {
     "end_time": "2025-07-22T16:32:25.588781Z",
     "start_time": "2025-07-22T16:32:25.544961Z"
    }
   },
   "source": [
    "genre_columns = ['genre_Action','genre_Adventure','genre_Animation','genre_Comedy','genre_Crime','genre_Documentary','genre_Drama','genre_Family','genre_Fantasy','genre_History','genre_Horror','genre_Musical','genre_Mystery','genre_Romance','genre_Science Fiction','genre_TV Movie','genre_Thriller','genre_War','genre_Western']\n",
    "\n",
    "for col in genre_columns:\n",
    "    df_train[col] = df_train[col].fillna(df_train['avg_rating'])\n",
    "    df_test[col] = df_test[col].fillna(df_test['avg_rating'])\n",
    "\n",
    "print(df_train.info())\n",
    "print(df_test.info())"
   ],
   "outputs": [
    {
     "name": "stdout",
     "output_type": "stream",
     "text": [
      "<class 'pandas.core.frame.DataFrame'>\n",
      "RangeIndex: 159120 entries, 0 to 159119\n",
      "Data columns (total 24 columns):\n",
      " #   Column                 Non-Null Count   Dtype  \n",
      "---  ------                 --------------   -----  \n",
      " 0   userId                 159120 non-null  int64  \n",
      " 1   num_rating             159120 non-null  int64  \n",
      " 2   avg_rating             159120 non-null  float64\n",
      " 3   weekend_watcher        159120 non-null  int64  \n",
      " 4   type_of_viewer         159120 non-null  object \n",
      " 5   genre_Action           159120 non-null  float64\n",
      " 6   genre_Adventure        159120 non-null  float64\n",
      " 7   genre_Animation        159120 non-null  float64\n",
      " 8   genre_Comedy           159120 non-null  float64\n",
      " 9   genre_Crime            159120 non-null  float64\n",
      " 10  genre_Documentary      159120 non-null  float64\n",
      " 11  genre_Drama            159120 non-null  float64\n",
      " 12  genre_Family           159120 non-null  float64\n",
      " 13  genre_Fantasy          159120 non-null  float64\n",
      " 14  genre_History          159120 non-null  float64\n",
      " 15  genre_Horror           159120 non-null  float64\n",
      " 16  genre_Musical          159120 non-null  float64\n",
      " 17  genre_Mystery          159120 non-null  float64\n",
      " 18  genre_Romance          159120 non-null  float64\n",
      " 19  genre_Science Fiction  159120 non-null  float64\n",
      " 20  genre_TV Movie         159120 non-null  float64\n",
      " 21  genre_Thriller         159120 non-null  float64\n",
      " 22  genre_War              159120 non-null  float64\n",
      " 23  genre_Western          159120 non-null  float64\n",
      "dtypes: float64(20), int64(3), object(1)\n",
      "memory usage: 29.1+ MB\n",
      "None\n",
      "<class 'pandas.core.frame.DataFrame'>\n",
      "RangeIndex: 39808 entries, 0 to 39807\n",
      "Data columns (total 24 columns):\n",
      " #   Column                 Non-Null Count  Dtype  \n",
      "---  ------                 --------------  -----  \n",
      " 0   userId                 39808 non-null  int64  \n",
      " 1   num_rating             39808 non-null  int64  \n",
      " 2   avg_rating             39808 non-null  float64\n",
      " 3   weekend_watcher        39808 non-null  int64  \n",
      " 4   type_of_viewer         39808 non-null  object \n",
      " 5   genre_Action           39808 non-null  float64\n",
      " 6   genre_Adventure        39808 non-null  float64\n",
      " 7   genre_Animation        39808 non-null  float64\n",
      " 8   genre_Comedy           39808 non-null  float64\n",
      " 9   genre_Crime            39808 non-null  float64\n",
      " 10  genre_Documentary      39808 non-null  float64\n",
      " 11  genre_Drama            39808 non-null  float64\n",
      " 12  genre_Family           39808 non-null  float64\n",
      " 13  genre_Fantasy          39808 non-null  float64\n",
      " 14  genre_History          39808 non-null  float64\n",
      " 15  genre_Horror           39808 non-null  float64\n",
      " 16  genre_Musical          39808 non-null  float64\n",
      " 17  genre_Mystery          39808 non-null  float64\n",
      " 18  genre_Romance          39808 non-null  float64\n",
      " 19  genre_Science Fiction  39808 non-null  float64\n",
      " 20  genre_TV Movie         39808 non-null  float64\n",
      " 21  genre_Thriller         39808 non-null  float64\n",
      " 22  genre_War              39808 non-null  float64\n",
      " 23  genre_Western          39808 non-null  float64\n",
      "dtypes: float64(20), int64(3), object(1)\n",
      "memory usage: 7.3+ MB\n",
      "None\n"
     ]
    }
   ],
   "execution_count": 4
  },
  {
   "cell_type": "markdown",
   "id": "8418eb25",
   "metadata": {},
   "source": [
    "# Enkodowanie kolumny 'type_of_viewer'"
   ]
  },
  {
   "cell_type": "code",
   "id": "589b52ba",
   "metadata": {
    "ExecuteTime": {
     "end_time": "2025-07-22T16:32:26.452896Z",
     "start_time": "2025-07-22T16:32:25.622935Z"
    }
   },
   "source": [
    "from sklearn.preprocessing import OneHotEncoder\n",
    "\n",
    "ohe = OneHotEncoder(sparse_output=False)\n",
    "\n",
    "def encoder(df):\n",
    "    encoded = ohe.fit_transform(df[['type_of_viewer']])\n",
    "    encoded = pd.DataFrame(encoded, columns=ohe.get_feature_names_out(['type_of_viewer']))\n",
    "    encoded.index = df.index\n",
    "    df = df.drop(columns=['type_of_viewer'])\n",
    "    df = pd.concat([df, encoded], axis=1)\n",
    "\n",
    "    return df\n",
    "\n",
    "df_train = encoder(df_train)\n",
    "df_test = encoder(df_test)\n",
    "\n",
    "print(df_train.head(3))\n",
    "print(df_test.head(3))\n"
   ],
   "outputs": [
    {
     "name": "stdout",
     "output_type": "stream",
     "text": [
      "   userId  num_rating  avg_rating  weekend_watcher  genre_Action  \\\n",
      "0       1         141    3.531915                0      4.133333   \n",
      "1       2          52    4.269231                0      4.000000   \n",
      "2       3         147    3.588435                0      3.583333   \n",
      "\n",
      "   genre_Adventure  genre_Animation  genre_Comedy  genre_Crime  \\\n",
      "0         3.333333         3.531915      3.339623     4.285714   \n",
      "1         4.142857         4.875000      4.130435     4.000000   \n",
      "2         3.605263         3.961538      3.186275     3.346154   \n",
      "\n",
      "   genre_Documentary  ...  genre_Mystery  genre_Romance  \\\n",
      "0           3.000000  ...       4.272727       3.487805   \n",
      "1           4.269231  ...       4.750000       4.823529   \n",
      "2           3.588435  ...       3.875000       3.637931   \n",
      "\n",
      "   genre_Science Fiction  genre_TV Movie  genre_Thriller  genre_War  \\\n",
      "0               4.000000        3.531915        3.666667   3.555556   \n",
      "1               4.269231        4.269231        4.300000   3.000000   \n",
      "2               3.441176        3.588435        3.307692   4.000000   \n",
      "\n",
      "   genre_Western  type_of_viewer_negative  type_of_viewer_neutral  \\\n",
      "0       3.000000                      0.0                     1.0   \n",
      "1       4.269231                      0.0                     0.0   \n",
      "2       3.750000                      0.0                     1.0   \n",
      "\n",
      "   type_of_viewer_positive  \n",
      "0                      0.0  \n",
      "1                      1.0  \n",
      "2                      0.0  \n",
      "\n",
      "[3 rows x 26 columns]\n",
      "   userId  num_rating  avg_rating  weekend_watcher  genre_Action  \\\n",
      "0       5          33    3.272727                0      3.666667   \n",
      "1       7          44    3.636364                1      3.000000   \n",
      "2      13          65    3.646154                0      3.631579   \n",
      "\n",
      "   genre_Adventure  genre_Animation  genre_Comedy  genre_Crime  \\\n",
      "0         3.333333         3.666667      3.000000     2.625000   \n",
      "1         3.250000         3.500000      3.571429     3.777778   \n",
      "2         3.222222         3.646154      3.461538     3.285714   \n",
      "\n",
      "   genre_Documentary  ...  genre_Mystery  genre_Romance  \\\n",
      "0           3.272727  ...       3.333333       3.250000   \n",
      "1           5.000000  ...       3.636364       3.454545   \n",
      "2           3.646154  ...       3.400000       3.684211   \n",
      "\n",
      "   genre_Science Fiction  genre_TV Movie  genre_Thriller  genre_War  \\\n",
      "0               3.200000        3.272727        3.466667   4.000000   \n",
      "1               3.166667        3.636364        3.636364   3.636364   \n",
      "2               3.500000        3.646154        3.535714   4.000000   \n",
      "\n",
      "   genre_Western  type_of_viewer_negative  type_of_viewer_neutral  \\\n",
      "0            3.0                      0.0                     1.0   \n",
      "1            3.5                      0.0                     1.0   \n",
      "2            2.0                      0.0                     1.0   \n",
      "\n",
      "   type_of_viewer_positive  \n",
      "0                      0.0  \n",
      "1                      0.0  \n",
      "2                      0.0  \n",
      "\n",
      "[3 rows x 26 columns]\n"
     ]
    }
   ],
   "execution_count": 5
  },
  {
   "cell_type": "markdown",
   "id": "1ba86ef7",
   "metadata": {},
   "source": [
    "# Dołączenie ostatnich 20 ocenionych filmów ze zbioru ratings_clean_zlib.h5"
   ]
  },
  {
   "cell_type": "code",
   "id": "82afa13a",
   "metadata": {
    "ExecuteTime": {
     "end_time": "2025-07-22T16:32:27.074925Z",
     "start_time": "2025-07-22T16:32:26.501751Z"
    }
   },
   "source": [
    "ratings_df = pd.read_parquet('../data/ratings_clean_groupped_20.parquet')\n",
    "df_train = pd.merge(df_train, ratings_df, on='userId')\n",
    "df_test = pd.merge(df_test, ratings_df, on='userId')"
   ],
   "outputs": [],
   "execution_count": 6
  },
  {
   "cell_type": "markdown",
   "id": "4271baf0",
   "metadata": {},
   "source": [
    "# Normalizacja danych numerycznych"
   ]
  },
  {
   "cell_type": "code",
   "id": "e54b85ab",
   "metadata": {
    "ExecuteTime": {
     "end_time": "2025-07-22T16:32:27.176224Z",
     "start_time": "2025-07-22T16:32:27.102669Z"
    }
   },
   "source": [
    "from sklearn.preprocessing import StandardScaler\n",
    "\n",
    "columns_to_normalize = ['num_rating', 'avg_rating']\n",
    "columns_to_normalize.extend(genre_columns)\n",
    "print('Columns to normalize:', columns_to_normalize)\n",
    "\n",
    "scaler = StandardScaler()\n",
    "\n",
    "df_train[columns_to_normalize] = scaler.fit_transform(df_train[columns_to_normalize])\n",
    "print(df_train.head(3))"
   ],
   "outputs": [
    {
     "name": "stdout",
     "output_type": "stream",
     "text": [
      "Columns to normalize: ['num_rating', 'avg_rating', 'genre_Action', 'genre_Adventure', 'genre_Animation', 'genre_Comedy', 'genre_Crime', 'genre_Documentary', 'genre_Drama', 'genre_Family', 'genre_Fantasy', 'genre_History', 'genre_Horror', 'genre_Musical', 'genre_Mystery', 'genre_Romance', 'genre_Science Fiction', 'genre_TV Movie', 'genre_Thriller', 'genre_War', 'genre_Western']\n",
      "   userId  num_rating  avg_rating  weekend_watcher  genre_Action  \\\n",
      "0       1   -0.067753   -0.348394                0      0.927204   \n",
      "1       2   -0.379224    1.210416                0      0.713512   \n",
      "2       3   -0.046755   -0.228900                0      0.045723   \n",
      "\n",
      "   genre_Adventure  genre_Animation  genre_Comedy  genre_Crime  \\\n",
      "0        -0.374819         -0.18135     -0.403073     0.892212   \n",
      "1         0.941074          1.58054      0.972506     0.410036   \n",
      "2         0.067207          0.38224     -0.669814    -0.693406   \n",
      "\n",
      "   genre_Documentary  ...  genre_TV Movie  genre_Thriller  genre_War  \\\n",
      "0          -1.081811  ...       -0.285772       -0.023141  -0.428732   \n",
      "1           0.776755  ...        1.018736        1.085291  -1.210274   \n",
      "2          -0.220150  ...       -0.185772       -0.651402   0.196501   \n",
      "\n",
      "   genre_Western  type_of_viewer_negative  type_of_viewer_neutral  \\\n",
      "0      -0.911831                      0.0                     1.0   \n",
      "1       0.789505                      0.0                     0.0   \n",
      "2       0.093504                      0.0                     1.0   \n",
      "\n",
      "   type_of_viewer_positive                                         movies_seq  \\\n",
      "0                      0.0  [25, 1041, 1357, 1406, 1693, 307, 1056, 1228, ...   \n",
      "1                      1.0  [31, 193, 276, 551, 237, 585, 508, 218, 381, 2...   \n",
      "2                      0.0  [5349, 4896, 5816, 6333, 4016, 6365, 6539, 529...   \n",
      "\n",
      "                                         ratings_seq  \\\n",
      "0  [1.0, 5.0, 1.0, 2.0, 5.0, 5.0, 5.0, 5.0, 5.0, ...   \n",
      "1  [5.0, 3.0, 4.0, 4.0, 5.0, 4.0, 5.0, 5.0, 5.0, ...   \n",
      "2  [3.0, 3.0, 3.0, 3.0, 4.0, 4.0, 3.0, 5.0, 4.0, ...   \n",
      "\n",
      "                                              ts_seq  \n",
      "0  [1999-12-03T19:43:48.000000, 1999-12-03T20:32:...  \n",
      "1  [1996-07-03T19:58:22.000000, 1996-07-03T19:58:...  \n",
      "2  [2004-05-13T21:59:15.000000, 2004-05-13T21:59:...  \n",
      "\n",
      "[3 rows x 29 columns]\n"
     ]
    }
   ],
   "execution_count": 7
  },
  {
   "metadata": {},
   "cell_type": "markdown",
   "source": "## Dla danych testowych",
   "id": "d52526d7c48dd547"
  },
  {
   "metadata": {
    "ExecuteTime": {
     "end_time": "2025-07-22T16:32:27.239192Z",
     "start_time": "2025-07-22T16:32:27.208753Z"
    }
   },
   "cell_type": "code",
   "source": [
    "df_test[columns_to_normalize] = scaler.transform(df_test[columns_to_normalize])\n",
    "print(df_test.head(3))"
   ],
   "id": "9b80bf09a27dc67f",
   "outputs": [
    {
     "name": "stdout",
     "output_type": "stream",
     "text": [
      "   userId  num_rating  avg_rating  weekend_watcher  genre_Action  \\\n",
      "0       5   -0.445718   -0.896360                0      0.179281   \n",
      "1       7   -0.407221   -0.127572                1     -0.889181   \n",
      "2      13   -0.333728   -0.106873                0      0.123046   \n",
      "\n",
      "   genre_Adventure  genre_Animation  genre_Comedy  genre_Crime  \\\n",
      "0        -0.374819        -0.004580     -0.993829    -1.910438   \n",
      "1        -0.510278        -0.223217      0.000142     0.035010   \n",
      "2        -0.555431        -0.031489     -0.191006    -0.795405   \n",
      "\n",
      "   genre_Documentary  ...  genre_TV Movie  genre_Thriller  genre_War  \\\n",
      "0          -0.682450  ...       -0.744344       -0.373172   0.196501   \n",
      "1           1.846838  ...       -0.100974       -0.076176  -0.315053   \n",
      "2          -0.135632  ...       -0.083653       -0.252328   0.196501   \n",
      "\n",
      "   genre_Western  type_of_viewer_negative  type_of_viewer_neutral  \\\n",
      "0      -0.911831                      0.0                     1.0   \n",
      "1      -0.241608                      0.0                     1.0   \n",
      "2      -2.252278                      0.0                     1.0   \n",
      "\n",
      "   type_of_viewer_positive                                         movies_seq  \\\n",
      "0                      0.0  [231, 316, 161, 292, 318, 329, 434, 10, 185, 2...   \n",
      "1                      0.0  [19, 21, 34, 367, 410, 435, 500, 586, 39, 432,...   \n",
      "2                      0.0  [1674, 3101, 4661, 733, 225, 1608, 3755, 912, ...   \n",
      "\n",
      "                                         ratings_seq  \\\n",
      "0  [2.0, 3.0, 4.0, 3.0, 1.0, 3.0, 4.0, 4.0, 3.0, ...   \n",
      "1  [3.0, 5.0, 4.0, 3.0, 4.0, 2.0, 4.0, 3.0, 3.0, ...   \n",
      "2  [3.0, 4.0, 3.0, 3.0, 4.0, 4.0, 3.0, 4.0, 4.0, ...   \n",
      "\n",
      "                                              ts_seq  \n",
      "0  [1996-08-23T01:34:59.000000, 1996-08-23T01:34:...  \n",
      "1  [1996-08-18T16:32:12.000000, 1996-08-18T16:32:...  \n",
      "2  [2001-07-24T04:56:05.000000, 2001-07-24T04:56:...  \n",
      "\n",
      "[3 rows x 29 columns]\n"
     ]
    }
   ],
   "execution_count": 8
  },
  {
   "cell_type": "markdown",
   "id": "2ddf8c9e",
   "metadata": {},
   "source": [
    "# Konwersja kolumny weekend_watcher do float64"
   ]
  },
  {
   "cell_type": "code",
   "id": "31f24f2a",
   "metadata": {
    "ExecuteTime": {
     "end_time": "2025-07-22T16:32:27.261590Z",
     "start_time": "2025-07-22T16:32:27.256192Z"
    }
   },
   "source": [
    "df_train['weekend_watcher'] = df_train['weekend_watcher'].astype('float64')\n",
    "df_test['weekend_watcher'] = df_test['weekend_watcher'].astype('float64')"
   ],
   "outputs": [],
   "execution_count": 9
  },
  {
   "cell_type": "code",
   "id": "03239b07",
   "metadata": {
    "ExecuteTime": {
     "end_time": "2025-07-22T16:32:27.282629Z",
     "start_time": "2025-07-22T16:32:27.277631Z"
    }
   },
   "source": "print('\\', \\''.join(df_train.columns.to_list()))",
   "outputs": [
    {
     "name": "stdout",
     "output_type": "stream",
     "text": [
      "userId', 'num_rating', 'avg_rating', 'weekend_watcher', 'genre_Action', 'genre_Adventure', 'genre_Animation', 'genre_Comedy', 'genre_Crime', 'genre_Documentary', 'genre_Drama', 'genre_Family', 'genre_Fantasy', 'genre_History', 'genre_Horror', 'genre_Musical', 'genre_Mystery', 'genre_Romance', 'genre_Science Fiction', 'genre_TV Movie', 'genre_Thriller', 'genre_War', 'genre_Western', 'type_of_viewer_negative', 'type_of_viewer_neutral', 'type_of_viewer_positive', 'movies_seq', 'ratings_seq', 'ts_seq\n"
     ]
    }
   ],
   "execution_count": 10
  },
  {
   "cell_type": "markdown",
   "id": "1b8d0e62",
   "metadata": {},
   "source": [
    "# Zapis do pliku"
   ]
  },
  {
   "cell_type": "code",
   "id": "c64ea103",
   "metadata": {
    "ExecuteTime": {
     "end_time": "2025-07-22T16:32:27.345925Z",
     "start_time": "2025-07-22T16:32:27.315255Z"
    }
   },
   "source": "df_train.info()",
   "outputs": [
    {
     "name": "stdout",
     "output_type": "stream",
     "text": [
      "<class 'pandas.core.frame.DataFrame'>\n",
      "RangeIndex: 159120 entries, 0 to 159119\n",
      "Data columns (total 29 columns):\n",
      " #   Column                   Non-Null Count   Dtype  \n",
      "---  ------                   --------------   -----  \n",
      " 0   userId                   159120 non-null  int64  \n",
      " 1   num_rating               159120 non-null  float64\n",
      " 2   avg_rating               159120 non-null  float64\n",
      " 3   weekend_watcher          159120 non-null  float64\n",
      " 4   genre_Action             159120 non-null  float64\n",
      " 5   genre_Adventure          159120 non-null  float64\n",
      " 6   genre_Animation          159120 non-null  float64\n",
      " 7   genre_Comedy             159120 non-null  float64\n",
      " 8   genre_Crime              159120 non-null  float64\n",
      " 9   genre_Documentary        159120 non-null  float64\n",
      " 10  genre_Drama              159120 non-null  float64\n",
      " 11  genre_Family             159120 non-null  float64\n",
      " 12  genre_Fantasy            159120 non-null  float64\n",
      " 13  genre_History            159120 non-null  float64\n",
      " 14  genre_Horror             159120 non-null  float64\n",
      " 15  genre_Musical            159120 non-null  float64\n",
      " 16  genre_Mystery            159120 non-null  float64\n",
      " 17  genre_Romance            159120 non-null  float64\n",
      " 18  genre_Science Fiction    159120 non-null  float64\n",
      " 19  genre_TV Movie           159120 non-null  float64\n",
      " 20  genre_Thriller           159120 non-null  float64\n",
      " 21  genre_War                159120 non-null  float64\n",
      " 22  genre_Western            159120 non-null  float64\n",
      " 23  type_of_viewer_negative  159120 non-null  float64\n",
      " 24  type_of_viewer_neutral   159120 non-null  float64\n",
      " 25  type_of_viewer_positive  159120 non-null  float64\n",
      " 26  movies_seq               159120 non-null  object \n",
      " 27  ratings_seq              159120 non-null  object \n",
      " 28  ts_seq                   159120 non-null  object \n",
      "dtypes: float64(25), int64(1), object(3)\n",
      "memory usage: 35.2+ MB\n"
     ]
    }
   ],
   "execution_count": 11
  },
  {
   "cell_type": "code",
   "id": "5f0a1c31",
   "metadata": {
    "ExecuteTime": {
     "end_time": "2025-07-22T16:33:24.552657Z",
     "start_time": "2025-07-22T16:33:21.943077Z"
    }
   },
   "source": "df_train.to_parquet('../data/user_features_clean_train.parquet', compression='brotli')",
   "outputs": [],
   "execution_count": 13
  },
  {
   "metadata": {
    "ExecuteTime": {
     "end_time": "2025-07-22T16:33:26.696066Z",
     "start_time": "2025-07-22T16:33:26.662741Z"
    }
   },
   "cell_type": "code",
   "source": "df_test.info()",
   "id": "10fdf2ebaefa2030",
   "outputs": [
    {
     "name": "stdout",
     "output_type": "stream",
     "text": [
      "<class 'pandas.core.frame.DataFrame'>\n",
      "RangeIndex: 39808 entries, 0 to 39807\n",
      "Data columns (total 29 columns):\n",
      " #   Column                   Non-Null Count  Dtype  \n",
      "---  ------                   --------------  -----  \n",
      " 0   userId                   39808 non-null  int64  \n",
      " 1   num_rating               39808 non-null  float64\n",
      " 2   avg_rating               39808 non-null  float64\n",
      " 3   weekend_watcher          39808 non-null  float64\n",
      " 4   genre_Action             39808 non-null  float64\n",
      " 5   genre_Adventure          39808 non-null  float64\n",
      " 6   genre_Animation          39808 non-null  float64\n",
      " 7   genre_Comedy             39808 non-null  float64\n",
      " 8   genre_Crime              39808 non-null  float64\n",
      " 9   genre_Documentary        39808 non-null  float64\n",
      " 10  genre_Drama              39808 non-null  float64\n",
      " 11  genre_Family             39808 non-null  float64\n",
      " 12  genre_Fantasy            39808 non-null  float64\n",
      " 13  genre_History            39808 non-null  float64\n",
      " 14  genre_Horror             39808 non-null  float64\n",
      " 15  genre_Musical            39808 non-null  float64\n",
      " 16  genre_Mystery            39808 non-null  float64\n",
      " 17  genre_Romance            39808 non-null  float64\n",
      " 18  genre_Science Fiction    39808 non-null  float64\n",
      " 19  genre_TV Movie           39808 non-null  float64\n",
      " 20  genre_Thriller           39808 non-null  float64\n",
      " 21  genre_War                39808 non-null  float64\n",
      " 22  genre_Western            39808 non-null  float64\n",
      " 23  type_of_viewer_negative  39808 non-null  float64\n",
      " 24  type_of_viewer_neutral   39808 non-null  float64\n",
      " 25  type_of_viewer_positive  39808 non-null  float64\n",
      " 26  movies_seq               39808 non-null  object \n",
      " 27  ratings_seq              39808 non-null  object \n",
      " 28  ts_seq                   39808 non-null  object \n",
      "dtypes: float64(25), int64(1), object(3)\n",
      "memory usage: 8.8+ MB\n"
     ]
    }
   ],
   "execution_count": 14
  },
  {
   "metadata": {
    "ExecuteTime": {
     "end_time": "2025-07-22T16:33:39.063370Z",
     "start_time": "2025-07-22T16:33:38.206067Z"
    }
   },
   "cell_type": "code",
   "source": "df_test.to_parquet('../data/user_features_clean_train.parquet', compression='brotli')",
   "id": "abcce34d15aa7aaa",
   "outputs": [],
   "execution_count": 16
  }
 ],
 "metadata": {
  "kernelspec": {
   "display_name": "base",
   "language": "python",
   "name": "python3"
  },
  "language_info": {
   "codemirror_mode": {
    "name": "ipython",
    "version": 3
   },
   "file_extension": ".py",
   "mimetype": "text/x-python",
   "name": "python",
   "nbconvert_exporter": "python",
   "pygments_lexer": "ipython3",
   "version": "3.12.2"
  }
 },
 "nbformat": 4,
 "nbformat_minor": 5
}
