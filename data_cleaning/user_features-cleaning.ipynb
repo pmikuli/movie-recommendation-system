{
 "cells": [
  {
   "cell_type": "markdown",
   "id": "f6f40cda",
   "metadata": {},
   "source": [
    "# Ratings_cleaning musi zostać uruchomiony jako pierwszy\n",
    "Notebook `Ratings_cleaning.ipynb` usuwa niektóre z wystawionych ocen, co zmniejsza ich liczbę u użytkowników. Następnie usuwa użytkowników, którzy mają mniej niż 20 ocen i zapisuje nowy zbiór danych do pliku `user_features_2.csv`."
   ]
  },
  {
   "cell_type": "code",
   "execution_count": 1,
   "id": "0eaab36b",
   "metadata": {},
   "outputs": [],
   "source": [
    "import pandas as pd"
   ]
  },
  {
   "cell_type": "code",
   "execution_count": 2,
   "id": "b4640ed3",
   "metadata": {},
   "outputs": [],
   "source": [
    "df = pd.read_csv('../datasets/user_features_2.csv')"
   ]
  },
  {
   "cell_type": "code",
   "execution_count": 3,
   "id": "9b6139f6",
   "metadata": {},
   "outputs": [
    {
     "name": "stdout",
     "output_type": "stream",
     "text": [
      "<class 'pandas.core.frame.DataFrame'>\n",
      "RangeIndex: 198832 entries, 0 to 198831\n",
      "Data columns (total 24 columns):\n",
      " #   Column                 Non-Null Count   Dtype  \n",
      "---  ------                 --------------   -----  \n",
      " 0   userId                 198832 non-null  int64  \n",
      " 1   num_rating             198832 non-null  int64  \n",
      " 2   avg_rating             198832 non-null  float64\n",
      " 3   weekend_watcher        198832 non-null  int64  \n",
      " 4   type_of_viewer         198832 non-null  object \n",
      " 5   genre_Action           197667 non-null  float64\n",
      " 6   genre_Adventure        197933 non-null  float64\n",
      " 7   genre_Animation        172642 non-null  float64\n",
      " 8   genre_Comedy           198423 non-null  float64\n",
      " 9   genre_Crime            196769 non-null  float64\n",
      " 10  genre_Documentary      71810 non-null   float64\n",
      " 11  genre_Drama            198772 non-null  float64\n",
      " 12  genre_Family           187016 non-null  float64\n",
      " 13  genre_Fantasy          194474 non-null  float64\n",
      " 14  genre_History          172589 non-null  float64\n",
      " 15  genre_Horror           157278 non-null  float64\n",
      " 16  genre_Music            136931 non-null  float64\n",
      " 17  genre_Mystery          187917 non-null  float64\n",
      " 18  genre_Romance          194591 non-null  float64\n",
      " 19  genre_Science Fiction  196027 non-null  float64\n",
      " 20  genre_TV Movie         21260 non-null   float64\n",
      " 21  genre_Thriller         197592 non-null  float64\n",
      " 22  genre_War              170296 non-null  float64\n",
      " 23  genre_Western          127241 non-null  float64\n",
      "dtypes: float64(20), int64(3), object(1)\n",
      "memory usage: 36.4+ MB\n",
      "None\n"
     ]
    }
   ],
   "source": [
    "print(df.info())"
   ]
  },
  {
   "cell_type": "markdown",
   "id": "9448cdd9",
   "metadata": {},
   "source": [
    "# Uzupełnienie brakujących ocen "
   ]
  },
  {
   "cell_type": "code",
   "execution_count": 4,
   "id": "eafbc9ba",
   "metadata": {},
   "outputs": [
    {
     "name": "stdout",
     "output_type": "stream",
     "text": [
      "<class 'pandas.core.frame.DataFrame'>\n",
      "RangeIndex: 198832 entries, 0 to 198831\n",
      "Data columns (total 24 columns):\n",
      " #   Column                 Non-Null Count   Dtype  \n",
      "---  ------                 --------------   -----  \n",
      " 0   userId                 198832 non-null  int64  \n",
      " 1   num_rating             198832 non-null  int64  \n",
      " 2   avg_rating             198832 non-null  float64\n",
      " 3   weekend_watcher        198832 non-null  int64  \n",
      " 4   type_of_viewer         198832 non-null  object \n",
      " 5   genre_Action           198832 non-null  float64\n",
      " 6   genre_Adventure        198832 non-null  float64\n",
      " 7   genre_Animation        198832 non-null  float64\n",
      " 8   genre_Comedy           198832 non-null  float64\n",
      " 9   genre_Crime            198832 non-null  float64\n",
      " 10  genre_Documentary      198832 non-null  float64\n",
      " 11  genre_Drama            198832 non-null  float64\n",
      " 12  genre_Family           198832 non-null  float64\n",
      " 13  genre_Fantasy          198832 non-null  float64\n",
      " 14  genre_History          198832 non-null  float64\n",
      " 15  genre_Horror           198832 non-null  float64\n",
      " 16  genre_Music            198832 non-null  float64\n",
      " 17  genre_Mystery          198832 non-null  float64\n",
      " 18  genre_Romance          198832 non-null  float64\n",
      " 19  genre_Science Fiction  198832 non-null  float64\n",
      " 20  genre_TV Movie         198832 non-null  float64\n",
      " 21  genre_Thriller         198832 non-null  float64\n",
      " 22  genre_War              198832 non-null  float64\n",
      " 23  genre_Western          198832 non-null  float64\n",
      "dtypes: float64(20), int64(3), object(1)\n",
      "memory usage: 36.4+ MB\n",
      "None\n"
     ]
    }
   ],
   "source": [
    "genre_columns = ['genre_Action','genre_Adventure','genre_Animation','genre_Comedy','genre_Crime','genre_Documentary','genre_Drama','genre_Family','genre_Fantasy','genre_History','genre_Horror','genre_Music','genre_Mystery','genre_Romance','genre_Science Fiction','genre_TV Movie','genre_Thriller','genre_War','genre_Western']\n",
    "\n",
    "for col in genre_columns:\n",
    "    df[col] = df[col].fillna(df['avg_rating'])\n",
    "\n",
    "print(df.info())"
   ]
  },
  {
   "cell_type": "markdown",
   "id": "8418eb25",
   "metadata": {},
   "source": [
    "# Enkodowanie kolumny 'type_of_viewer'"
   ]
  },
  {
   "cell_type": "code",
   "execution_count": 5,
   "id": "589b52ba",
   "metadata": {},
   "outputs": [
    {
     "name": "stdout",
     "output_type": "stream",
     "text": [
      "<class 'pandas.core.frame.DataFrame'>\n",
      "RangeIndex: 198832 entries, 0 to 198831\n",
      "Data columns (total 26 columns):\n",
      " #   Column                   Non-Null Count   Dtype  \n",
      "---  ------                   --------------   -----  \n",
      " 0   userId                   198832 non-null  int64  \n",
      " 1   num_rating               198832 non-null  int64  \n",
      " 2   avg_rating               198832 non-null  float64\n",
      " 3   weekend_watcher          198832 non-null  int64  \n",
      " 4   genre_Action             198832 non-null  float64\n",
      " 5   genre_Adventure          198832 non-null  float64\n",
      " 6   genre_Animation          198832 non-null  float64\n",
      " 7   genre_Comedy             198832 non-null  float64\n",
      " 8   genre_Crime              198832 non-null  float64\n",
      " 9   genre_Documentary        198832 non-null  float64\n",
      " 10  genre_Drama              198832 non-null  float64\n",
      " 11  genre_Family             198832 non-null  float64\n",
      " 12  genre_Fantasy            198832 non-null  float64\n",
      " 13  genre_History            198832 non-null  float64\n",
      " 14  genre_Horror             198832 non-null  float64\n",
      " 15  genre_Music              198832 non-null  float64\n",
      " 16  genre_Mystery            198832 non-null  float64\n",
      " 17  genre_Romance            198832 non-null  float64\n",
      " 18  genre_Science Fiction    198832 non-null  float64\n",
      " 19  genre_TV Movie           198832 non-null  float64\n",
      " 20  genre_Thriller           198832 non-null  float64\n",
      " 21  genre_War                198832 non-null  float64\n",
      " 22  genre_Western            198832 non-null  float64\n",
      " 23  type_of_viewer_negative  198832 non-null  float64\n",
      " 24  type_of_viewer_neutral   198832 non-null  float64\n",
      " 25  type_of_viewer_positive  198832 non-null  float64\n",
      "dtypes: float64(23), int64(3)\n",
      "memory usage: 39.4 MB\n",
      "None\n",
      "\n",
      "   userId  num_rating  avg_rating  weekend_watcher  genre_Action  \\\n",
      "0       1         141    3.531915                0      4.133333   \n",
      "1       2          52    4.269231                0      4.000000   \n",
      "2       3         147    3.588435                0      3.583333   \n",
      "\n",
      "   genre_Adventure  genre_Animation  genre_Comedy  genre_Crime  \\\n",
      "0         3.333333         3.531915      3.339623     4.285714   \n",
      "1         4.142857         4.875000      4.130435     4.000000   \n",
      "2         3.605263         3.961538      3.186275     3.346154   \n",
      "\n",
      "   genre_Documentary  ...  genre_Mystery  genre_Romance  \\\n",
      "0           3.000000  ...       4.272727       3.487805   \n",
      "1           4.269231  ...       4.750000       4.823529   \n",
      "2           3.588435  ...       3.875000       3.637931   \n",
      "\n",
      "   genre_Science Fiction  genre_TV Movie  genre_Thriller  genre_War  \\\n",
      "0               4.000000        3.531915        3.666667   3.555556   \n",
      "1               4.269231        4.269231        4.300000   3.000000   \n",
      "2               3.441176        3.588435        3.307692   4.000000   \n",
      "\n",
      "   genre_Western  type_of_viewer_negative  type_of_viewer_neutral  \\\n",
      "0       3.000000                      0.0                     1.0   \n",
      "1       4.269231                      0.0                     0.0   \n",
      "2       3.750000                      0.0                     1.0   \n",
      "\n",
      "   type_of_viewer_positive  \n",
      "0                      0.0  \n",
      "1                      1.0  \n",
      "2                      0.0  \n",
      "\n",
      "[3 rows x 26 columns]\n"
     ]
    }
   ],
   "source": [
    "from sklearn.preprocessing import OneHotEncoder\n",
    "\n",
    "ohe = OneHotEncoder(sparse_output=False)\n",
    "encoded = ohe.fit_transform(df[['type_of_viewer']])\n",
    "encoded = pd.DataFrame(encoded, columns=ohe.get_feature_names_out(['type_of_viewer']))\n",
    "\n",
    "encoded.index = df.index\n",
    "df = df.drop(columns=['type_of_viewer'])\n",
    "df = pd.concat([df, encoded], axis=1)\n",
    "\n",
    "print(df.info())\n",
    "print()\n",
    "print(df.head(3))\n"
   ]
  },
  {
   "cell_type": "markdown",
   "id": "1ba86ef7",
   "metadata": {},
   "source": [
    "# Dołączenie ostatnich 20 ocenionych filmów ze zbioru ratings_clean_zlib.h5"
   ]
  },
  {
   "cell_type": "code",
   "execution_count": 6,
   "id": "82afa13a",
   "metadata": {},
   "outputs": [
    {
     "name": "stdout",
     "output_type": "stream",
     "text": [
      "<class 'pandas.core.frame.DataFrame'>\n",
      "RangeIndex: 198832 entries, 0 to 198831\n",
      "Data columns (total 29 columns):\n",
      " #   Column                   Non-Null Count   Dtype  \n",
      "---  ------                   --------------   -----  \n",
      " 0   userId                   198832 non-null  int64  \n",
      " 1   num_rating               198832 non-null  int64  \n",
      " 2   avg_rating               198832 non-null  float64\n",
      " 3   weekend_watcher          198832 non-null  int64  \n",
      " 4   genre_Action             198832 non-null  float64\n",
      " 5   genre_Adventure          198832 non-null  float64\n",
      " 6   genre_Animation          198832 non-null  float64\n",
      " 7   genre_Comedy             198832 non-null  float64\n",
      " 8   genre_Crime              198832 non-null  float64\n",
      " 9   genre_Documentary        198832 non-null  float64\n",
      " 10  genre_Drama              198832 non-null  float64\n",
      " 11  genre_Family             198832 non-null  float64\n",
      " 12  genre_Fantasy            198832 non-null  float64\n",
      " 13  genre_History            198832 non-null  float64\n",
      " 14  genre_Horror             198832 non-null  float64\n",
      " 15  genre_Music              198832 non-null  float64\n",
      " 16  genre_Mystery            198832 non-null  float64\n",
      " 17  genre_Romance            198832 non-null  float64\n",
      " 18  genre_Science Fiction    198832 non-null  float64\n",
      " 19  genre_TV Movie           198832 non-null  float64\n",
      " 20  genre_Thriller           198832 non-null  float64\n",
      " 21  genre_War                198832 non-null  float64\n",
      " 22  genre_Western            198832 non-null  float64\n",
      " 23  type_of_viewer_negative  198832 non-null  float64\n",
      " 24  type_of_viewer_neutral   198832 non-null  float64\n",
      " 25  type_of_viewer_positive  198832 non-null  float64\n",
      " 26  movies_seq               198832 non-null  object \n",
      " 27  ratings_seq              198832 non-null  object \n",
      " 28  ts_seq                   198832 non-null  object \n",
      "dtypes: float64(23), int64(3), object(3)\n",
      "memory usage: 44.0+ MB\n",
      "None\n",
      "   userId  num_rating  avg_rating  weekend_watcher  genre_Action  \\\n",
      "0       1         141    3.531915                0      4.133333   \n",
      "1       2          52    4.269231                0      4.000000   \n",
      "\n",
      "   genre_Adventure  genre_Animation  genre_Comedy  genre_Crime  \\\n",
      "0         3.333333         3.531915      3.339623     4.285714   \n",
      "1         4.142857         4.875000      4.130435     4.000000   \n",
      "\n",
      "   genre_Documentary  ...  genre_TV Movie  genre_Thriller  genre_War  \\\n",
      "0           3.000000  ...        3.531915        3.666667   3.555556   \n",
      "1           4.269231  ...        4.269231        4.300000   3.000000   \n",
      "\n",
      "   genre_Western  type_of_viewer_negative  type_of_viewer_neutral  \\\n",
      "0       3.000000                      0.0                     1.0   \n",
      "1       4.269231                      0.0                     0.0   \n",
      "\n",
      "   type_of_viewer_positive                                         movies_seq  \\\n",
      "0                      0.0  [25, 1041, 1357, 1406, 1693, 307, 1056, 1228, ...   \n",
      "1                      1.0  [31, 193, 276, 551, 237, 585, 508, 218, 381, 2...   \n",
      "\n",
      "                                         ratings_seq  \\\n",
      "0  [-2.3985095550091526, 1.383608362031683, -2.39...   \n",
      "1  [1.383608362031683, -0.5074505964887347, 0.438...   \n",
      "\n",
      "                                              ts_seq  \n",
      "0  [-1.2879172458574584, -1.2879058953379758, -1....  \n",
      "1  [-1.7090751309183834, -1.7090751309183834, -1....  \n",
      "\n",
      "[2 rows x 29 columns]\n"
     ]
    }
   ],
   "source": [
    "ratings_df = pd.read_parquet('../datasets/ratings_clean_groupped.parquet')\n",
    "df = pd.merge(df, ratings_df, on='userId')\n",
    "\n",
    "print(df.info())\n",
    "print(df.head(2))"
   ]
  },
  {
   "cell_type": "markdown",
   "id": "4271baf0",
   "metadata": {},
   "source": [
    "# Normalizacja danych numerycznych"
   ]
  },
  {
   "cell_type": "code",
   "execution_count": 7,
   "id": "e54b85ab",
   "metadata": {},
   "outputs": [
    {
     "name": "stdout",
     "output_type": "stream",
     "text": [
      "Columns to normalize: ['num_rating', 'avg_rating', 'genre_Action', 'genre_Adventure', 'genre_Animation', 'genre_Comedy', 'genre_Crime', 'genre_Documentary', 'genre_Drama', 'genre_Family', 'genre_Fantasy', 'genre_History', 'genre_Horror', 'genre_Music', 'genre_Mystery', 'genre_Romance', 'genre_Science Fiction', 'genre_TV Movie', 'genre_Thriller', 'genre_War', 'genre_Western']\n",
      "   userId  num_rating  avg_rating  weekend_watcher  genre_Action  \\\n",
      "0       1   -0.068675   -0.347979                0      0.926736   \n",
      "1       2   -0.383417    1.210645                0      0.713096   \n",
      "2       3   -0.047456   -0.228499                0      0.045472   \n",
      "\n",
      "   genre_Adventure  genre_Animation  genre_Comedy  genre_Crime  \\\n",
      "0        -0.375240        -0.179705     -0.402570     0.892727   \n",
      "1         0.940526         1.581734      0.973277     0.410751   \n",
      "2         0.066743         0.383741     -0.669363    -0.692235   \n",
      "\n",
      "   genre_Documentary  ...  genre_TV Movie  genre_Thriller  genre_War  \\\n",
      "0          -1.076257  ...       -0.284700       -0.022680  -0.426892   \n",
      "1           0.788073  ...        1.018523        1.084306  -1.207360   \n",
      "2          -0.211924  ...       -0.184799       -0.650122   0.197482   \n",
      "\n",
      "   genre_Western  type_of_viewer_negative  type_of_viewer_neutral  \\\n",
      "0      -0.911843                      0.0                     1.0   \n",
      "1       0.791019                      0.0                     0.0   \n",
      "2       0.094394                      0.0                     1.0   \n",
      "\n",
      "   type_of_viewer_positive                                         movies_seq  \\\n",
      "0                      0.0  [25, 1041, 1357, 1406, 1693, 307, 1056, 1228, ...   \n",
      "1                      1.0  [31, 193, 276, 551, 237, 585, 508, 218, 381, 2...   \n",
      "2                      0.0  [5349, 4896, 5816, 6333, 4016, 6365, 6539, 529...   \n",
      "\n",
      "                                         ratings_seq  \\\n",
      "0  [-2.3985095550091526, 1.383608362031683, -2.39...   \n",
      "1  [1.383608362031683, -0.5074505964887347, 0.438...   \n",
      "2  [-0.5074505964887347, -0.5074505964887347, -0....   \n",
      "\n",
      "                                              ts_seq  \n",
      "0  [-1.2879172458574584, -1.2879058953379758, -1....  \n",
      "1  [-1.7090751309183834, -1.7090751309183834, -1....  \n",
      "2  [-0.7401733328343324, -0.7401733211166591, -0....  \n",
      "\n",
      "[3 rows x 29 columns]\n"
     ]
    }
   ],
   "source": [
    "from sklearn.preprocessing import StandardScaler\n",
    "\n",
    "columns_to_normalize = ['num_rating', 'avg_rating']\n",
    "columns_to_normalize.extend(genre_columns)\n",
    "print('Columns to normalize:', columns_to_normalize)\n",
    "\n",
    "scaler = StandardScaler()\n",
    "\n",
    "df[columns_to_normalize] = scaler.fit_transform(df[columns_to_normalize])\n",
    "print(df.head(3))\n"
   ]
  },
  {
   "cell_type": "markdown",
   "id": "2ddf8c9e",
   "metadata": {},
   "source": [
    "# Konwersja kolumny weekend_watcher do float64"
   ]
  },
  {
   "cell_type": "code",
   "execution_count": 8,
   "id": "31f24f2a",
   "metadata": {},
   "outputs": [],
   "source": [
    "df['weekend_watcher'] = df['weekend_watcher'].astype('float64')"
   ]
  },
  {
   "cell_type": "code",
   "execution_count": 9,
   "id": "03239b07",
   "metadata": {},
   "outputs": [
    {
     "name": "stdout",
     "output_type": "stream",
     "text": [
      "userId', 'num_rating', 'avg_rating', 'weekend_watcher', 'genre_Action', 'genre_Adventure', 'genre_Animation', 'genre_Comedy', 'genre_Crime', 'genre_Documentary', 'genre_Drama', 'genre_Family', 'genre_Fantasy', 'genre_History', 'genre_Horror', 'genre_Music', 'genre_Mystery', 'genre_Romance', 'genre_Science Fiction', 'genre_TV Movie', 'genre_Thriller', 'genre_War', 'genre_Western', 'type_of_viewer_negative', 'type_of_viewer_neutral', 'type_of_viewer_positive', 'movies_seq', 'ratings_seq', 'ts_seq\n"
     ]
    }
   ],
   "source": [
    "print('\\', \\''.join(df.columns.to_list()))"
   ]
  },
  {
   "cell_type": "markdown",
   "id": "1b8d0e62",
   "metadata": {},
   "source": [
    "# Zapis do pliku"
   ]
  },
  {
   "cell_type": "code",
   "execution_count": 10,
   "id": "c64ea103",
   "metadata": {},
   "outputs": [
    {
     "name": "stdout",
     "output_type": "stream",
     "text": [
      "<class 'pandas.core.frame.DataFrame'>\n",
      "RangeIndex: 198832 entries, 0 to 198831\n",
      "Data columns (total 29 columns):\n",
      " #   Column                   Non-Null Count   Dtype  \n",
      "---  ------                   --------------   -----  \n",
      " 0   userId                   198832 non-null  int64  \n",
      " 1   num_rating               198832 non-null  float64\n",
      " 2   avg_rating               198832 non-null  float64\n",
      " 3   weekend_watcher          198832 non-null  float64\n",
      " 4   genre_Action             198832 non-null  float64\n",
      " 5   genre_Adventure          198832 non-null  float64\n",
      " 6   genre_Animation          198832 non-null  float64\n",
      " 7   genre_Comedy             198832 non-null  float64\n",
      " 8   genre_Crime              198832 non-null  float64\n",
      " 9   genre_Documentary        198832 non-null  float64\n",
      " 10  genre_Drama              198832 non-null  float64\n",
      " 11  genre_Family             198832 non-null  float64\n",
      " 12  genre_Fantasy            198832 non-null  float64\n",
      " 13  genre_History            198832 non-null  float64\n",
      " 14  genre_Horror             198832 non-null  float64\n",
      " 15  genre_Music              198832 non-null  float64\n",
      " 16  genre_Mystery            198832 non-null  float64\n",
      " 17  genre_Romance            198832 non-null  float64\n",
      " 18  genre_Science Fiction    198832 non-null  float64\n",
      " 19  genre_TV Movie           198832 non-null  float64\n",
      " 20  genre_Thriller           198832 non-null  float64\n",
      " 21  genre_War                198832 non-null  float64\n",
      " 22  genre_Western            198832 non-null  float64\n",
      " 23  type_of_viewer_negative  198832 non-null  float64\n",
      " 24  type_of_viewer_neutral   198832 non-null  float64\n",
      " 25  type_of_viewer_positive  198832 non-null  float64\n",
      " 26  movies_seq               198832 non-null  object \n",
      " 27  ratings_seq              198832 non-null  object \n",
      " 28  ts_seq                   198832 non-null  object \n",
      "dtypes: float64(25), int64(1), object(3)\n",
      "memory usage: 44.0+ MB\n"
     ]
    }
   ],
   "source": [
    "df.info()"
   ]
  },
  {
   "cell_type": "code",
   "execution_count": 11,
   "id": "5f0a1c31",
   "metadata": {},
   "outputs": [],
   "source": [
    "df.to_parquet('../datasets/user_features_clean.parquet', compression='brotli')"
   ]
  }
 ],
 "metadata": {
  "kernelspec": {
   "display_name": "base",
   "language": "python",
   "name": "python3"
  },
  "language_info": {
   "codemirror_mode": {
    "name": "ipython",
    "version": 3
   },
   "file_extension": ".py",
   "mimetype": "text/x-python",
   "name": "python",
   "nbconvert_exporter": "python",
   "pygments_lexer": "ipython3",
   "version": "3.12.2"
  }
 },
 "nbformat": 4,
 "nbformat_minor": 5
}
