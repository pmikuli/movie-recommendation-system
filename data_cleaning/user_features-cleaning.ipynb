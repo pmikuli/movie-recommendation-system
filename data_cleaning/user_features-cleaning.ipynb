{
 "cells": [
  {
   "cell_type": "markdown",
   "id": "f6f40cda",
   "metadata": {},
   "source": [
    "# Ratings_cleaning musi zostać uruchomiony jako pierwszy\n",
    "Notebook `Ratings_cleaning.ipynb` usuwa niektóre z wystawionych ocen, co zmniejsza ich liczbę u użytkowników. Następnie usuwa użytkowników, którzy mają mniej niż 20 ocen i zapisuje nowy zbiór danych do pliku `user_features_warm_2.csv`."
   ]
  },
  {
   "cell_type": "code",
   "execution_count": 3,
   "id": "0eaab36b",
   "metadata": {
    "ExecuteTime": {
     "end_time": "2025-07-30T15:28:57.881065Z",
     "start_time": "2025-07-30T15:28:57.865158Z"
    }
   },
   "outputs": [],
   "source": [
    "import pandas as pd\n",
    "import joblib"
   ]
  },
  {
   "cell_type": "code",
   "execution_count": 4,
   "id": "b4640ed3",
   "metadata": {
    "ExecuteTime": {
     "end_time": "2025-07-30T15:28:58.241354Z",
     "start_time": "2025-07-30T15:28:58.026398Z"
    }
   },
   "outputs": [],
   "source": [
    "df = pd.read_csv('../data/user_features_warm_2.csv')"
   ]
  },
  {
   "cell_type": "code",
   "execution_count": 5,
   "id": "9b6139f6",
   "metadata": {
    "ExecuteTime": {
     "end_time": "2025-07-30T15:28:58.283117Z",
     "start_time": "2025-07-30T15:28:58.262707Z"
    }
   },
   "outputs": [
    {
     "name": "stdout",
     "output_type": "stream",
     "text": [
      "<class 'pandas.core.frame.DataFrame'>\n",
      "RangeIndex: 155225 entries, 0 to 155224\n",
      "Data columns (total 24 columns):\n",
      " #   Column                 Non-Null Count   Dtype  \n",
      "---  ------                 --------------   -----  \n",
      " 0   userId                 155225 non-null  int64  \n",
      " 1   num_rating             155225 non-null  int64  \n",
      " 2   avg_rating             155225 non-null  float64\n",
      " 3   weekend_watcher        155225 non-null  int64  \n",
      " 4   type_of_viewer         155225 non-null  object \n",
      " 5   genre_Action           154726 non-null  float64\n",
      " 6   genre_Adventure        154874 non-null  float64\n",
      " 7   genre_Animation        140806 non-null  float64\n",
      " 8   genre_Comedy           155045 non-null  float64\n",
      " 9   genre_Crime            154396 non-null  float64\n",
      " 10  genre_Documentary      67611 non-null   float64\n",
      " 11  genre_Drama            155200 non-null  float64\n",
      " 12  genre_Family           148582 non-null  float64\n",
      " 13  genre_Fantasy          153589 non-null  float64\n",
      " 14  genre_History          141999 non-null  float64\n",
      " 15  genre_Horror           131469 non-null  float64\n",
      " 16  genre_Musical          118778 non-null  float64\n",
      " 17  genre_Mystery          150948 non-null  float64\n",
      " 18  genre_Romance          152955 non-null  float64\n",
      " 19  genre_Science Fiction  154141 non-null  float64\n",
      " 20  genre_TV Movie         20472 non-null   float64\n",
      " 21  genre_Thriller         154673 non-null  float64\n",
      " 22  genre_War              142350 non-null  float64\n",
      " 23  genre_Western          110307 non-null  float64\n",
      "dtypes: float64(20), int64(3), object(1)\n",
      "memory usage: 28.4+ MB\n",
      "None\n"
     ]
    }
   ],
   "source": [
    "print(df.info())"
   ]
  },
  {
   "cell_type": "markdown",
   "id": "9448cdd9",
   "metadata": {},
   "source": [
    "# Uzupełnienie brakujących ocen "
   ]
  },
  {
   "cell_type": "code",
   "execution_count": 6,
   "id": "eafbc9ba",
   "metadata": {
    "ExecuteTime": {
     "end_time": "2025-07-30T15:28:58.338142Z",
     "start_time": "2025-07-30T15:28:58.300009Z"
    }
   },
   "outputs": [
    {
     "name": "stdout",
     "output_type": "stream",
     "text": [
      "<class 'pandas.core.frame.DataFrame'>\n",
      "RangeIndex: 155225 entries, 0 to 155224\n",
      "Data columns (total 24 columns):\n",
      " #   Column                 Non-Null Count   Dtype  \n",
      "---  ------                 --------------   -----  \n",
      " 0   userId                 155225 non-null  int64  \n",
      " 1   num_rating             155225 non-null  int64  \n",
      " 2   avg_rating             155225 non-null  float64\n",
      " 3   weekend_watcher        155225 non-null  int64  \n",
      " 4   type_of_viewer         155225 non-null  object \n",
      " 5   genre_Action           155225 non-null  float64\n",
      " 6   genre_Adventure        155225 non-null  float64\n",
      " 7   genre_Animation        155225 non-null  float64\n",
      " 8   genre_Comedy           155225 non-null  float64\n",
      " 9   genre_Crime            155225 non-null  float64\n",
      " 10  genre_Documentary      155225 non-null  float64\n",
      " 11  genre_Drama            155225 non-null  float64\n",
      " 12  genre_Family           155225 non-null  float64\n",
      " 13  genre_Fantasy          155225 non-null  float64\n",
      " 14  genre_History          155225 non-null  float64\n",
      " 15  genre_Horror           155225 non-null  float64\n",
      " 16  genre_Musical          155225 non-null  float64\n",
      " 17  genre_Mystery          155225 non-null  float64\n",
      " 18  genre_Romance          155225 non-null  float64\n",
      " 19  genre_Science Fiction  155225 non-null  float64\n",
      " 20  genre_TV Movie         155225 non-null  float64\n",
      " 21  genre_Thriller         155225 non-null  float64\n",
      " 22  genre_War              155225 non-null  float64\n",
      " 23  genre_Western          155225 non-null  float64\n",
      "dtypes: float64(20), int64(3), object(1)\n",
      "memory usage: 28.4+ MB\n",
      "None\n"
     ]
    }
   ],
   "source": [
    "genre_columns = ['genre_Action','genre_Adventure','genre_Animation','genre_Comedy','genre_Crime','genre_Documentary','genre_Drama','genre_Family','genre_Fantasy','genre_History','genre_Horror','genre_Musical','genre_Mystery','genre_Romance','genre_Science Fiction','genre_TV Movie','genre_Thriller','genre_War','genre_Western']\n",
    "\n",
    "for col in genre_columns:\n",
    "    df[col] = df[col].fillna(df['avg_rating'])\n",
    "\n",
    "print(df.info())"
   ]
  },
  {
   "cell_type": "markdown",
   "id": "8418eb25",
   "metadata": {},
   "source": [
    "# Enkodowanie kolumny 'type_of_viewer'"
   ]
  },
  {
   "cell_type": "code",
   "execution_count": 7,
   "id": "589b52ba",
   "metadata": {
    "ExecuteTime": {
     "end_time": "2025-07-30T15:28:58.460020Z",
     "start_time": "2025-07-30T15:28:58.368721Z"
    }
   },
   "outputs": [
    {
     "name": "stdout",
     "output_type": "stream",
     "text": [
      "   userId  num_rating  avg_rating  weekend_watcher  genre_Action  \\\n",
      "0       1         141    3.531915                0      4.133333   \n",
      "1       2          52    4.269231                0      4.000000   \n",
      "2       3         147    3.588435                0      3.583333   \n",
      "\n",
      "   genre_Adventure  genre_Animation  genre_Comedy  genre_Crime  \\\n",
      "0         3.333333         3.531915      3.339623     4.285714   \n",
      "1         4.142857         4.875000      4.130435     4.000000   \n",
      "2         3.605263         3.961538      3.186275     3.346154   \n",
      "\n",
      "   genre_Documentary  ...  genre_Mystery  genre_Romance  \\\n",
      "0           3.000000  ...       4.272727       3.487805   \n",
      "1           4.269231  ...       4.750000       4.823529   \n",
      "2           3.588435  ...       3.875000       3.637931   \n",
      "\n",
      "   genre_Science Fiction  genre_TV Movie  genre_Thriller  genre_War  \\\n",
      "0               4.000000        3.531915        3.666667   3.555556   \n",
      "1               4.269231        4.269231        4.300000   3.000000   \n",
      "2               3.441176        3.588435        3.307692   4.000000   \n",
      "\n",
      "   genre_Western  type_of_viewer_negative  type_of_viewer_neutral  \\\n",
      "0       3.000000                      0.0                     1.0   \n",
      "1       4.269231                      0.0                     0.0   \n",
      "2       3.750000                      0.0                     1.0   \n",
      "\n",
      "   type_of_viewer_positive  \n",
      "0                      0.0  \n",
      "1                      1.0  \n",
      "2                      0.0  \n",
      "\n",
      "[3 rows x 26 columns]\n"
     ]
    }
   ],
   "source": [
    "from sklearn.preprocessing import OneHotEncoder\n",
    "\n",
    "ohe = OneHotEncoder(sparse_output=False)\n",
    "\n",
    "def encoder(df):\n",
    "    encoded = ohe.fit_transform(df[['type_of_viewer']])\n",
    "    encoded = pd.DataFrame(encoded, columns=ohe.get_feature_names_out(['type_of_viewer']))\n",
    "    encoded.index = df.index\n",
    "    df = df.drop(columns=['type_of_viewer'])\n",
    "    df = pd.concat([df, encoded], axis=1)\n",
    "\n",
    "    return df\n",
    "\n",
    "df = encoder(df)\n",
    "\n",
    "print(df.head(3))"
   ]
  },
  {
   "cell_type": "markdown",
   "id": "1ba86ef7",
   "metadata": {},
   "source": [
    "# Dołączenie ostatnich 20 ocenionych filmów ze zbioru ratings_clean_zlib.h5"
   ]
  },
  {
   "cell_type": "code",
   "execution_count": 8,
   "id": "82afa13a",
   "metadata": {
    "ExecuteTime": {
     "end_time": "2025-07-30T15:28:58.665881Z",
     "start_time": "2025-07-30T15:28:58.480448Z"
    }
   },
   "outputs": [],
   "source": [
    "ratings_df = pd.read_parquet('../data/ratings_clean_groupped_20.parquet')\n",
    "df = pd.merge(df, ratings_df, on='userId')"
   ]
  },
  {
   "cell_type": "markdown",
   "id": "4271baf0",
   "metadata": {},
   "source": [
    "# Normalizacja danych numerycznych"
   ]
  },
  {
   "cell_type": "code",
   "execution_count": 9,
   "id": "e54b85ab",
   "metadata": {
    "ExecuteTime": {
     "end_time": "2025-07-30T15:28:58.751438Z",
     "start_time": "2025-07-30T15:28:58.695190Z"
    }
   },
   "outputs": [
    {
     "name": "stdout",
     "output_type": "stream",
     "text": [
      "Columns to normalize: ['num_rating', 'avg_rating', 'genre_Action', 'genre_Adventure', 'genre_Animation', 'genre_Comedy', 'genre_Crime', 'genre_Documentary', 'genre_Drama', 'genre_Family', 'genre_Fantasy', 'genre_History', 'genre_Horror', 'genre_Musical', 'genre_Mystery', 'genre_Romance', 'genre_Science Fiction', 'genre_TV Movie', 'genre_Thriller', 'genre_War', 'genre_Western']\n",
      "   userId  num_rating  avg_rating  weekend_watcher  genre_Action  \\\n",
      "0       1   -0.178909   -0.530284                0      0.877051   \n",
      "1       2   -0.465772    1.136851                0      0.646248   \n",
      "2       3   -0.159570   -0.402486                0     -0.075011   \n",
      "\n",
      "   genre_Adventure  genre_Animation  genre_Comedy  genre_Crime  \\\n",
      "0        -0.537924        -0.286397     -0.587008     0.873865   \n",
      "1         0.890741         1.583900      0.914432     0.335790   \n",
      "2        -0.058017         0.311870     -0.878156    -0.895572   \n",
      "\n",
      "   genre_Documentary  ...  genre_TV Movie  genre_Thriller  genre_War  \\\n",
      "0          -1.192373  ...       -0.414326       -0.157693  -0.570537   \n",
      "1           0.666838  ...        0.907592        1.058787  -1.420564   \n",
      "2          -0.330413  ...       -0.312992       -0.847196   0.109485   \n",
      "\n",
      "   genre_Western  type_of_viewer_negative  type_of_viewer_neutral  \\\n",
      "0      -1.025506                      0.0                     1.0   \n",
      "1       0.714074                      0.0                     0.0   \n",
      "2       0.002428                      0.0                     1.0   \n",
      "\n",
      "   type_of_viewer_positive                                         movies_seq  \\\n",
      "0                      0.0  [1263, 1296, 926, 2247, 223, 1150, 232, 2882, ...   \n",
      "1                      1.0  [34, 595, 186, 185, 276, 552, 296, 364, 551, 5...   \n",
      "2                      0.0  [1375, 552, 2701, 357, 367, 1090, 1957, 1721, ...   \n",
      "\n",
      "                                         ratings_seq  \\\n",
      "0  [5.0, 3.0, 5.0, 5.0, 3.0, 4.0, 5.0, 1.0, 1.0, ...   \n",
      "1  [5.0, 5.0, 5.0, 5.0, 4.0, 4.0, 1.0, 5.0, 4.0, ...   \n",
      "2  [4.0, 4.0, 3.0, 4.0, 2.5, 4.0, 5.0, 4.0, 3.0, ...   \n",
      "\n",
      "                                              ts_seq  \n",
      "0  [0.7155865430831909, 0.7156160473823547, 0.715...  \n",
      "1  [0.7156336903572083, 0.7156379818916321, 0.715...  \n",
      "2  [0.7155577540397644, 0.7156141996383667, 0.715...  \n",
      "\n",
      "[3 rows x 29 columns]\n"
     ]
    }
   ],
   "source": [
    "from sklearn.preprocessing import StandardScaler\n",
    "\n",
    "columns_to_normalize = ['num_rating', 'avg_rating']\n",
    "columns_to_normalize.extend(genre_columns)\n",
    "print('Columns to normalize:', columns_to_normalize)\n",
    "\n",
    "scaler = StandardScaler()\n",
    "\n",
    "df[columns_to_normalize] = scaler.fit_transform(df[columns_to_normalize])\n",
    "print(df.head(3))"
   ]
  },
  {
   "cell_type": "code",
   "execution_count": 10,
   "id": "4f32a259",
   "metadata": {},
   "outputs": [
    {
     "data": {
      "text/plain": [
       "['../data/ratings-scaler.joblib']"
      ]
     },
     "execution_count": 10,
     "metadata": {},
     "output_type": "execute_result"
    }
   ],
   "source": [
    "# dump the scaler\n",
    "joblib.dump(scaler, '../data/ratings-scaler.joblib')"
   ]
  },
  {
   "cell_type": "markdown",
   "id": "2ddf8c9e",
   "metadata": {},
   "source": [
    "# Konwersja kolumny weekend_watcher do float64"
   ]
  },
  {
   "cell_type": "code",
   "execution_count": 11,
   "id": "31f24f2a",
   "metadata": {
    "ExecuteTime": {
     "end_time": "2025-07-30T15:28:58.767440Z",
     "start_time": "2025-07-30T15:28:58.761436Z"
    }
   },
   "outputs": [],
   "source": [
    "df['weekend_watcher'] = df['weekend_watcher'].astype('float64')"
   ]
  },
  {
   "cell_type": "code",
   "execution_count": 12,
   "id": "03239b07",
   "metadata": {
    "ExecuteTime": {
     "end_time": "2025-07-30T15:28:58.806789Z",
     "start_time": "2025-07-30T15:28:58.795260Z"
    }
   },
   "outputs": [
    {
     "name": "stdout",
     "output_type": "stream",
     "text": [
      "userId', 'num_rating', 'avg_rating', 'weekend_watcher', 'genre_Action', 'genre_Adventure', 'genre_Animation', 'genre_Comedy', 'genre_Crime', 'genre_Documentary', 'genre_Drama', 'genre_Family', 'genre_Fantasy', 'genre_History', 'genre_Horror', 'genre_Musical', 'genre_Mystery', 'genre_Romance', 'genre_Science Fiction', 'genre_TV Movie', 'genre_Thriller', 'genre_War', 'genre_Western', 'type_of_viewer_negative', 'type_of_viewer_neutral', 'type_of_viewer_positive', 'movies_seq', 'ratings_seq', 'ts_seq\n"
     ]
    }
   ],
   "source": [
    "print('\\', \\''.join(df.columns.to_list()))"
   ]
  },
  {
   "cell_type": "markdown",
   "id": "1b8d0e62",
   "metadata": {},
   "source": [
    "# Zapis do pliku"
   ]
  },
  {
   "cell_type": "code",
   "execution_count": 13,
   "id": "c64ea103",
   "metadata": {
    "ExecuteTime": {
     "end_time": "2025-07-30T15:28:58.890259Z",
     "start_time": "2025-07-30T15:28:58.859668Z"
    }
   },
   "outputs": [
    {
     "name": "stdout",
     "output_type": "stream",
     "text": [
      "<class 'pandas.core.frame.DataFrame'>\n",
      "RangeIndex: 155225 entries, 0 to 155224\n",
      "Data columns (total 29 columns):\n",
      " #   Column                   Non-Null Count   Dtype  \n",
      "---  ------                   --------------   -----  \n",
      " 0   userId                   155225 non-null  int64  \n",
      " 1   num_rating               155225 non-null  float64\n",
      " 2   avg_rating               155225 non-null  float64\n",
      " 3   weekend_watcher          155225 non-null  float64\n",
      " 4   genre_Action             155225 non-null  float64\n",
      " 5   genre_Adventure          155225 non-null  float64\n",
      " 6   genre_Animation          155225 non-null  float64\n",
      " 7   genre_Comedy             155225 non-null  float64\n",
      " 8   genre_Crime              155225 non-null  float64\n",
      " 9   genre_Documentary        155225 non-null  float64\n",
      " 10  genre_Drama              155225 non-null  float64\n",
      " 11  genre_Family             155225 non-null  float64\n",
      " 12  genre_Fantasy            155225 non-null  float64\n",
      " 13  genre_History            155225 non-null  float64\n",
      " 14  genre_Horror             155225 non-null  float64\n",
      " 15  genre_Musical            155225 non-null  float64\n",
      " 16  genre_Mystery            155225 non-null  float64\n",
      " 17  genre_Romance            155225 non-null  float64\n",
      " 18  genre_Science Fiction    155225 non-null  float64\n",
      " 19  genre_TV Movie           155225 non-null  float64\n",
      " 20  genre_Thriller           155225 non-null  float64\n",
      " 21  genre_War                155225 non-null  float64\n",
      " 22  genre_Western            155225 non-null  float64\n",
      " 23  type_of_viewer_negative  155225 non-null  float64\n",
      " 24  type_of_viewer_neutral   155225 non-null  float64\n",
      " 25  type_of_viewer_positive  155225 non-null  float64\n",
      " 26  movies_seq               155225 non-null  object \n",
      " 27  ratings_seq              155225 non-null  object \n",
      " 28  ts_seq                   155225 non-null  object \n",
      "dtypes: float64(25), int64(1), object(3)\n",
      "memory usage: 34.3+ MB\n"
     ]
    }
   ],
   "source": [
    "df.info()"
   ]
  },
  {
   "cell_type": "code",
   "execution_count": 14,
   "id": "5f0a1c31",
   "metadata": {
    "ExecuteTime": {
     "end_time": "2025-07-30T15:29:00.614313Z",
     "start_time": "2025-07-30T15:28:58.907262Z"
    }
   },
   "outputs": [],
   "source": [
    "df.to_parquet('../data/user_features_clean_warm.parquet', compression='brotli')"
   ]
  }
 ],
 "metadata": {
  "kernelspec": {
   "display_name": "base",
   "language": "python",
   "name": "python3"
  },
  "language_info": {
   "codemirror_mode": {
    "name": "ipython",
    "version": 3
   },
   "file_extension": ".py",
   "mimetype": "text/x-python",
   "name": "python",
   "nbconvert_exporter": "python",
   "pygments_lexer": "ipython3",
   "version": "3.12.2"
  }
 },
 "nbformat": 4,
 "nbformat_minor": 5
}
