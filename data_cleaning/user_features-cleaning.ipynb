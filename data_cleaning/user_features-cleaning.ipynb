{
 "cells": [
  {
   "cell_type": "markdown",
   "id": "f6f40cda",
   "metadata": {},
   "source": [
    "# Ratings_cleaning musi zostać uruchomiony jako pierwszy\n",
    "Notebook `Ratings_cleaning.ipynb` usuwa niektóre z wystawionych ocen, co zmniejsza ich liczbę u użytkowników. Następnie usuwa użytkowników, którzy mają mniej niż 20 ocen i zapisuje nowy zbiór danych do pliku `user_features_2.csv`."
   ]
  },
  {
   "cell_type": "code",
   "id": "0eaab36b",
   "metadata": {
    "ExecuteTime": {
     "end_time": "2025-07-28T17:48:06.555616Z",
     "start_time": "2025-07-28T17:48:06.525813Z"
    }
   },
   "source": [
    "import pandas as pd"
   ],
   "outputs": [],
   "execution_count": 15
  },
  {
   "cell_type": "code",
   "id": "b4640ed3",
   "metadata": {
    "ExecuteTime": {
     "end_time": "2025-07-28T17:48:06.958724Z",
     "start_time": "2025-07-28T17:48:06.639077Z"
    }
   },
   "source": [
    "df_train = pd.read_csv('../data/user_features_train_2.csv')\n",
    "df_test = pd.read_csv('../data/user_features_test_2.csv')"
   ],
   "outputs": [],
   "execution_count": 16
  },
  {
   "cell_type": "code",
   "id": "9b6139f6",
   "metadata": {
    "ExecuteTime": {
     "end_time": "2025-07-28T17:48:07.003539Z",
     "start_time": "2025-07-28T17:48:06.975522Z"
    }
   },
   "source": [
    "print(df_train.info())\n",
    "print(df_test.info())"
   ],
   "outputs": [
    {
     "name": "stdout",
     "output_type": "stream",
     "text": [
      "<class 'pandas.core.frame.DataFrame'>\n",
      "RangeIndex: 125768 entries, 0 to 125767\n",
      "Data columns (total 24 columns):\n",
      " #   Column                 Non-Null Count   Dtype  \n",
      "---  ------                 --------------   -----  \n",
      " 0   userId                 125768 non-null  int64  \n",
      " 1   num_rating             125768 non-null  int64  \n",
      " 2   avg_rating             125768 non-null  float64\n",
      " 3   weekend_watcher        125768 non-null  int64  \n",
      " 4   type_of_viewer         125768 non-null  object \n",
      " 5   genre_Action           125316 non-null  float64\n",
      " 6   genre_Adventure        125428 non-null  float64\n",
      " 7   genre_Animation        113546 non-null  float64\n",
      " 8   genre_Comedy           125576 non-null  float64\n",
      " 9   genre_Crime            125026 non-null  float64\n",
      " 10  genre_Documentary      54218 non-null   float64\n",
      " 11  genre_Drama            125747 non-null  float64\n",
      " 12  genre_Family           119939 non-null  float64\n",
      " 13  genre_Fantasy          124296 non-null  float64\n",
      " 14  genre_History          114718 non-null  float64\n",
      " 15  genre_Horror           105963 non-null  float64\n",
      " 16  genre_Musical          95647 non-null   float64\n",
      " 17  genre_Mystery          122138 non-null  float64\n",
      " 18  genre_Romance          123687 non-null  float64\n",
      " 19  genre_Science Fiction  124799 non-null  float64\n",
      " 20  genre_TV Movie         16376 non-null   float64\n",
      " 21  genre_Thriller         125271 non-null  float64\n",
      " 22  genre_War              115055 non-null  float64\n",
      " 23  genre_Western          89021 non-null   float64\n",
      "dtypes: float64(20), int64(3), object(1)\n",
      "memory usage: 23.0+ MB\n",
      "None\n",
      "<class 'pandas.core.frame.DataFrame'>\n",
      "RangeIndex: 31255 entries, 0 to 31254\n",
      "Data columns (total 24 columns):\n",
      " #   Column                 Non-Null Count  Dtype  \n",
      "---  ------                 --------------  -----  \n",
      " 0   userId                 31255 non-null  int64  \n",
      " 1   num_rating             31255 non-null  int64  \n",
      " 2   avg_rating             31255 non-null  float64\n",
      " 3   weekend_watcher        31255 non-null  int64  \n",
      " 4   type_of_viewer         31255 non-null  object \n",
      " 5   genre_Action           31141 non-null  float64\n",
      " 6   genre_Adventure        31174 non-null  float64\n",
      " 7   genre_Animation        28393 non-null  float64\n",
      " 8   genre_Comedy           31208 non-null  float64\n",
      " 9   genre_Crime            31070 non-null  float64\n",
      " 10  genre_Documentary      13628 non-null  float64\n",
      " 11  genre_Drama            31247 non-null  float64\n",
      " 12  genre_Family           29871 non-null  float64\n",
      " 13  genre_Fantasy          30896 non-null  float64\n",
      " 14  genre_History          28449 non-null  float64\n",
      " 15  genre_Horror           26353 non-null  float64\n",
      " 16  genre_Musical          23848 non-null  float64\n",
      " 17  genre_Mystery          30325 non-null  float64\n",
      " 18  genre_Romance          30782 non-null  float64\n",
      " 19  genre_Science Fiction  31026 non-null  float64\n",
      " 20  genre_TV Movie         4212 non-null   float64\n",
      " 21  genre_Thriller         31137 non-null  float64\n",
      " 22  genre_War              28573 non-null  float64\n",
      " 23  genre_Western          21892 non-null  float64\n",
      "dtypes: float64(20), int64(3), object(1)\n",
      "memory usage: 5.7+ MB\n",
      "None\n"
     ]
    }
   ],
   "execution_count": 17
  },
  {
   "cell_type": "markdown",
   "id": "9448cdd9",
   "metadata": {},
   "source": [
    "# Uzupełnienie brakujących ocen "
   ]
  },
  {
   "cell_type": "code",
   "id": "eafbc9ba",
   "metadata": {
    "ExecuteTime": {
     "end_time": "2025-07-28T17:48:07.078587Z",
     "start_time": "2025-07-28T17:48:07.044095Z"
    }
   },
   "source": [
    "genre_columns = ['genre_Action','genre_Adventure','genre_Animation','genre_Comedy','genre_Crime','genre_Documentary','genre_Drama','genre_Family','genre_Fantasy','genre_History','genre_Horror','genre_Musical','genre_Mystery','genre_Romance','genre_Science Fiction','genre_TV Movie','genre_Thriller','genre_War','genre_Western']\n",
    "\n",
    "for col in genre_columns:\n",
    "    df_train[col] = df_train[col].fillna(df_train['avg_rating'])\n",
    "    df_test[col] = df_test[col].fillna(df_test['avg_rating'])\n",
    "\n",
    "print(df_train.info())\n",
    "print(df_test.info())"
   ],
   "outputs": [
    {
     "name": "stdout",
     "output_type": "stream",
     "text": [
      "<class 'pandas.core.frame.DataFrame'>\n",
      "RangeIndex: 125768 entries, 0 to 125767\n",
      "Data columns (total 24 columns):\n",
      " #   Column                 Non-Null Count   Dtype  \n",
      "---  ------                 --------------   -----  \n",
      " 0   userId                 125768 non-null  int64  \n",
      " 1   num_rating             125768 non-null  int64  \n",
      " 2   avg_rating             125768 non-null  float64\n",
      " 3   weekend_watcher        125768 non-null  int64  \n",
      " 4   type_of_viewer         125768 non-null  object \n",
      " 5   genre_Action           125768 non-null  float64\n",
      " 6   genre_Adventure        125768 non-null  float64\n",
      " 7   genre_Animation        125768 non-null  float64\n",
      " 8   genre_Comedy           125768 non-null  float64\n",
      " 9   genre_Crime            125768 non-null  float64\n",
      " 10  genre_Documentary      125768 non-null  float64\n",
      " 11  genre_Drama            125768 non-null  float64\n",
      " 12  genre_Family           125768 non-null  float64\n",
      " 13  genre_Fantasy          125768 non-null  float64\n",
      " 14  genre_History          125768 non-null  float64\n",
      " 15  genre_Horror           125768 non-null  float64\n",
      " 16  genre_Musical          125768 non-null  float64\n",
      " 17  genre_Mystery          125768 non-null  float64\n",
      " 18  genre_Romance          125768 non-null  float64\n",
      " 19  genre_Science Fiction  125768 non-null  float64\n",
      " 20  genre_TV Movie         125768 non-null  float64\n",
      " 21  genre_Thriller         125768 non-null  float64\n",
      " 22  genre_War              125768 non-null  float64\n",
      " 23  genre_Western          125768 non-null  float64\n",
      "dtypes: float64(20), int64(3), object(1)\n",
      "memory usage: 23.0+ MB\n",
      "None\n",
      "<class 'pandas.core.frame.DataFrame'>\n",
      "RangeIndex: 31255 entries, 0 to 31254\n",
      "Data columns (total 24 columns):\n",
      " #   Column                 Non-Null Count  Dtype  \n",
      "---  ------                 --------------  -----  \n",
      " 0   userId                 31255 non-null  int64  \n",
      " 1   num_rating             31255 non-null  int64  \n",
      " 2   avg_rating             31255 non-null  float64\n",
      " 3   weekend_watcher        31255 non-null  int64  \n",
      " 4   type_of_viewer         31255 non-null  object \n",
      " 5   genre_Action           31255 non-null  float64\n",
      " 6   genre_Adventure        31255 non-null  float64\n",
      " 7   genre_Animation        31255 non-null  float64\n",
      " 8   genre_Comedy           31255 non-null  float64\n",
      " 9   genre_Crime            31255 non-null  float64\n",
      " 10  genre_Documentary      31255 non-null  float64\n",
      " 11  genre_Drama            31255 non-null  float64\n",
      " 12  genre_Family           31255 non-null  float64\n",
      " 13  genre_Fantasy          31255 non-null  float64\n",
      " 14  genre_History          31255 non-null  float64\n",
      " 15  genre_Horror           31255 non-null  float64\n",
      " 16  genre_Musical          31255 non-null  float64\n",
      " 17  genre_Mystery          31255 non-null  float64\n",
      " 18  genre_Romance          31255 non-null  float64\n",
      " 19  genre_Science Fiction  31255 non-null  float64\n",
      " 20  genre_TV Movie         31255 non-null  float64\n",
      " 21  genre_Thriller         31255 non-null  float64\n",
      " 22  genre_War              31255 non-null  float64\n",
      " 23  genre_Western          31255 non-null  float64\n",
      "dtypes: float64(20), int64(3), object(1)\n",
      "memory usage: 5.7+ MB\n",
      "None\n"
     ]
    }
   ],
   "execution_count": 18
  },
  {
   "cell_type": "markdown",
   "id": "8418eb25",
   "metadata": {},
   "source": [
    "# Enkodowanie kolumny 'type_of_viewer'"
   ]
  },
  {
   "cell_type": "code",
   "id": "589b52ba",
   "metadata": {
    "ExecuteTime": {
     "end_time": "2025-07-28T17:48:07.178168Z",
     "start_time": "2025-07-28T17:48:07.116847Z"
    }
   },
   "source": [
    "from sklearn.preprocessing import OneHotEncoder\n",
    "\n",
    "ohe = OneHotEncoder(sparse_output=False)\n",
    "\n",
    "def encoder(df):\n",
    "    encoded = ohe.fit_transform(df[['type_of_viewer']])\n",
    "    encoded = pd.DataFrame(encoded, columns=ohe.get_feature_names_out(['type_of_viewer']))\n",
    "    encoded.index = df.index\n",
    "    df = df.drop(columns=['type_of_viewer'])\n",
    "    df = pd.concat([df, encoded], axis=1)\n",
    "\n",
    "    return df\n",
    "\n",
    "df_train = encoder(df_train)\n",
    "df_test = encoder(df_test)\n",
    "\n",
    "print(df_train.head(3))\n",
    "print(df_test.head(3))\n"
   ],
   "outputs": [
    {
     "name": "stdout",
     "output_type": "stream",
     "text": [
      "   userId  num_rating  avg_rating  weekend_watcher  genre_Action  \\\n",
      "0       1         141    3.531915                0      4.133333   \n",
      "1       2          52    4.269231                0      4.000000   \n",
      "2       3         147    3.588435                0      3.583333   \n",
      "\n",
      "   genre_Adventure  genre_Animation  genre_Comedy  genre_Crime  \\\n",
      "0         3.333333         3.531915      3.339623     4.285714   \n",
      "1         4.142857         4.875000      4.130435     4.000000   \n",
      "2         3.605263         3.961538      3.186275     3.346154   \n",
      "\n",
      "   genre_Documentary  ...  genre_Mystery  genre_Romance  \\\n",
      "0           3.000000  ...       4.272727       3.487805   \n",
      "1           4.269231  ...       4.750000       4.823529   \n",
      "2           3.588435  ...       3.875000       3.637931   \n",
      "\n",
      "   genre_Science Fiction  genre_TV Movie  genre_Thriller  genre_War  \\\n",
      "0               4.000000        3.531915        3.666667   3.555556   \n",
      "1               4.269231        4.269231        4.300000   3.000000   \n",
      "2               3.441176        3.588435        3.307692   4.000000   \n",
      "\n",
      "   genre_Western  type_of_viewer_negative  type_of_viewer_neutral  \\\n",
      "0       3.000000                      0.0                     1.0   \n",
      "1       4.269231                      0.0                     0.0   \n",
      "2       3.750000                      0.0                     1.0   \n",
      "\n",
      "   type_of_viewer_positive  \n",
      "0                      0.0  \n",
      "1                      1.0  \n",
      "2                      0.0  \n",
      "\n",
      "[3 rows x 26 columns]\n",
      "   userId  num_rating  avg_rating  weekend_watcher  genre_Action  \\\n",
      "0       7          44    3.636364                1      3.000000   \n",
      "1      13          65    3.646154                0      3.631579   \n",
      "2      23          63    4.452381                0      4.250000   \n",
      "\n",
      "   genre_Adventure  genre_Animation  genre_Comedy  genre_Crime  \\\n",
      "0         3.250000         3.500000      3.571429     3.777778   \n",
      "1         3.222222         3.646154      3.461538     3.285714   \n",
      "2         4.214286         3.000000      4.437500     4.423077   \n",
      "\n",
      "   genre_Documentary  ...  genre_Mystery  genre_Romance  \\\n",
      "0           5.000000  ...       3.636364       3.454545   \n",
      "1           3.646154  ...       3.400000       3.684211   \n",
      "2           5.000000  ...       4.500000       4.000000   \n",
      "\n",
      "   genre_Science Fiction  genre_TV Movie  genre_Thriller  genre_War  \\\n",
      "0               3.166667        3.636364        3.636364   3.636364   \n",
      "1               3.500000        3.646154        3.535714   4.000000   \n",
      "2               4.210526        4.452381        4.433333   4.611111   \n",
      "\n",
      "   genre_Western  type_of_viewer_negative  type_of_viewer_neutral  \\\n",
      "0       3.500000                      0.0                     1.0   \n",
      "1       2.000000                      0.0                     1.0   \n",
      "2       4.452381                      0.0                     0.0   \n",
      "\n",
      "   type_of_viewer_positive  \n",
      "0                      0.0  \n",
      "1                      0.0  \n",
      "2                      1.0  \n",
      "\n",
      "[3 rows x 26 columns]\n"
     ]
    }
   ],
   "execution_count": 19
  },
  {
   "cell_type": "markdown",
   "id": "1ba86ef7",
   "metadata": {},
   "source": [
    "# Dołączenie ostatnich 20 ocenionych filmów ze zbioru ratings_clean_zlib.h5"
   ]
  },
  {
   "cell_type": "code",
   "id": "82afa13a",
   "metadata": {
    "ExecuteTime": {
     "end_time": "2025-07-28T17:48:07.507093Z",
     "start_time": "2025-07-28T17:48:07.204014Z"
    }
   },
   "source": [
    "ratings_df = pd.read_parquet('../data/ratings_clean_groupped_20.parquet')\n",
    "df_train = pd.merge(df_train, ratings_df, on='userId')\n",
    "df_test = pd.merge(df_test, ratings_df, on='userId')"
   ],
   "outputs": [],
   "execution_count": 20
  },
  {
   "cell_type": "markdown",
   "id": "4271baf0",
   "metadata": {},
   "source": [
    "# Normalizacja danych numerycznych"
   ]
  },
  {
   "cell_type": "code",
   "id": "e54b85ab",
   "metadata": {
    "ExecuteTime": {
     "end_time": "2025-07-28T17:48:07.568521Z",
     "start_time": "2025-07-28T17:48:07.526893Z"
    }
   },
   "source": [
    "from sklearn.preprocessing import StandardScaler\n",
    "\n",
    "columns_to_normalize = ['num_rating', 'avg_rating']\n",
    "columns_to_normalize.extend(genre_columns)\n",
    "print('Columns to normalize:', columns_to_normalize)\n",
    "\n",
    "scaler = StandardScaler()\n",
    "\n",
    "df_train[columns_to_normalize] = scaler.fit_transform(df_train[columns_to_normalize])\n",
    "print(df_train.head(3))"
   ],
   "outputs": [
    {
     "name": "stdout",
     "output_type": "stream",
     "text": [
      "Columns to normalize: ['num_rating', 'avg_rating', 'genre_Action', 'genre_Adventure', 'genre_Animation', 'genre_Comedy', 'genre_Crime', 'genre_Documentary', 'genre_Drama', 'genre_Family', 'genre_Fantasy', 'genre_History', 'genre_Horror', 'genre_Musical', 'genre_Mystery', 'genre_Romance', 'genre_Science Fiction', 'genre_TV Movie', 'genre_Thriller', 'genre_War', 'genre_Western']\n",
      "   userId  num_rating  avg_rating  weekend_watcher  genre_Action  \\\n",
      "0       1   -0.171417   -0.543450                0      0.840566   \n",
      "1       2   -0.455905    1.083413                0      0.613863   \n",
      "2       3   -0.152238   -0.418739                0     -0.094582   \n",
      "\n",
      "   genre_Adventure  genre_Animation  genre_Comedy  genre_Crime  \\\n",
      "0        -0.549841        -0.302503     -0.598797     0.839517   \n",
      "1         0.853034         1.555059      0.872001     0.308963   \n",
      "2        -0.078597         0.291690     -0.884002    -0.905189   \n",
      "\n",
      "   genre_Documentary  ...  genre_TV Movie  genre_Thriller  genre_War  \\\n",
      "0          -1.203553  ...       -0.430563       -0.177439  -0.584271   \n",
      "1           0.646660  ...        0.874753        1.019135  -1.431464   \n",
      "2          -0.345765  ...       -0.330501       -0.855658   0.093484   \n",
      "\n",
      "   genre_Western  type_of_viewer_negative  type_of_viewer_neutral  \\\n",
      "0      -1.034965                      0.0                     1.0   \n",
      "1       0.692980                      0.0                     0.0   \n",
      "2      -0.013906                      0.0                     1.0   \n",
      "\n",
      "   type_of_viewer_positive                                         movies_seq  \\\n",
      "0                      0.0  [25, 1041, 1357, 1406, 1693, 307, 1056, 1228, ...   \n",
      "1                      1.0  [31, 193, 276, 551, 237, 585, 508, 218, 381, 2...   \n",
      "2                      0.0  [5349, 4896, 5816, 6333, 4016, 6365, 6539, 529...   \n",
      "\n",
      "                                         ratings_seq  \\\n",
      "0  [1.0, 5.0, 1.0, 2.0, 5.0, 5.0, 5.0, 5.0, 5.0, ...   \n",
      "1  [5.0, 3.0, 4.0, 4.0, 5.0, 4.0, 5.0, 5.0, 5.0, ...   \n",
      "2  [3.0, 3.0, 3.0, 3.0, 4.0, 4.0, 3.0, 5.0, 4.0, ...   \n",
      "\n",
      "                                              ts_seq  \n",
      "0  [1999-12-03T19:43:48.000000, 1999-12-03T20:32:...  \n",
      "1  [1996-07-03T19:58:22.000000, 1996-07-03T19:58:...  \n",
      "2  [2004-05-13T21:59:15.000000, 2004-05-13T21:59:...  \n",
      "\n",
      "[3 rows x 29 columns]\n"
     ]
    }
   ],
   "execution_count": 21
  },
  {
   "metadata": {},
   "cell_type": "markdown",
   "source": "## Dla danych testowych",
   "id": "d52526d7c48dd547"
  },
  {
   "metadata": {
    "ExecuteTime": {
     "end_time": "2025-07-28T17:48:07.592758Z",
     "start_time": "2025-07-28T17:48:07.577058Z"
    }
   },
   "cell_type": "code",
   "source": [
    "df_test[columns_to_normalize] = scaler.transform(df_test[columns_to_normalize])\n",
    "print(df_test.head(3))"
   ],
   "id": "9b80bf09a27dc67f",
   "outputs": [
    {
     "name": "stdout",
     "output_type": "stream",
     "text": [
      "   userId  num_rating  avg_rating  weekend_watcher  genre_Action  \\\n",
      "0       7   -0.481476   -0.312987                1     -1.086407   \n",
      "1      13   -0.414350   -0.291385                0     -0.012552   \n",
      "2      23   -0.420743    1.487528                0      1.038931   \n",
      "\n",
      "   genre_Adventure  genre_Animation  genre_Comedy  genre_Crime  \\\n",
      "0        -0.694255        -0.346643     -0.167671    -0.103690   \n",
      "1        -0.742393        -0.144504     -0.372051    -1.017421   \n",
      "2         0.976817        -1.038171      1.443098     1.094591   \n",
      "\n",
      "   genre_Documentary  ...  genre_TV Movie  genre_Thriller  genre_War  \\\n",
      "0           1.711934  ...       -0.245651       -0.234691  -0.461043   \n",
      "1          -0.261627  ...       -0.228318       -0.424850   0.093484   \n",
      "2           1.711934  ...        1.198995        1.271045   1.025397   \n",
      "\n",
      "   genre_Western  type_of_viewer_negative  type_of_viewer_neutral  \\\n",
      "0      -0.354259                      0.0                     1.0   \n",
      "1      -2.396376                      0.0                     1.0   \n",
      "2       0.942323                      0.0                     0.0   \n",
      "\n",
      "   type_of_viewer_positive                                         movies_seq  \\\n",
      "0                      0.0  [19, 21, 34, 367, 410, 435, 500, 586, 39, 432,...   \n",
      "1                      0.0  [1674, 3101, 4661, 733, 225, 1608, 3755, 912, ...   \n",
      "2                      1.0  [160980, 176751, 197691, 143385, 209595, 15769...   \n",
      "\n",
      "                                         ratings_seq  \\\n",
      "0  [3.0, 5.0, 4.0, 3.0, 4.0, 2.0, 4.0, 3.0, 3.0, ...   \n",
      "1  [3.0, 4.0, 3.0, 3.0, 4.0, 4.0, 3.0, 4.0, 4.0, ...   \n",
      "2  [4.5, 5.0, 5.0, 5.0, 5.0, 5.0, 5.0, 4.0, 4.0, ...   \n",
      "\n",
      "                                              ts_seq  \n",
      "0  [1996-08-18T16:32:12.000000, 1996-08-18T16:32:...  \n",
      "1  [2001-07-24T04:56:05.000000, 2001-07-24T04:56:...  \n",
      "2  [2020-08-01T20:25:42.000000, 2020-08-12T15:16:...  \n",
      "\n",
      "[3 rows x 29 columns]\n"
     ]
    }
   ],
   "execution_count": 22
  },
  {
   "cell_type": "markdown",
   "id": "2ddf8c9e",
   "metadata": {},
   "source": [
    "# Konwersja kolumny weekend_watcher do float64"
   ]
  },
  {
   "cell_type": "code",
   "id": "31f24f2a",
   "metadata": {
    "ExecuteTime": {
     "end_time": "2025-07-28T17:48:07.636842Z",
     "start_time": "2025-07-28T17:48:07.632744Z"
    }
   },
   "source": [
    "df_train['weekend_watcher'] = df_train['weekend_watcher'].astype('float64')\n",
    "df_test['weekend_watcher'] = df_test['weekend_watcher'].astype('float64')"
   ],
   "outputs": [],
   "execution_count": 23
  },
  {
   "cell_type": "code",
   "id": "03239b07",
   "metadata": {
    "ExecuteTime": {
     "end_time": "2025-07-28T17:48:07.652480Z",
     "start_time": "2025-07-28T17:48:07.645412Z"
    }
   },
   "source": "print('\\', \\''.join(df_train.columns.to_list()))",
   "outputs": [
    {
     "name": "stdout",
     "output_type": "stream",
     "text": [
      "userId', 'num_rating', 'avg_rating', 'weekend_watcher', 'genre_Action', 'genre_Adventure', 'genre_Animation', 'genre_Comedy', 'genre_Crime', 'genre_Documentary', 'genre_Drama', 'genre_Family', 'genre_Fantasy', 'genre_History', 'genre_Horror', 'genre_Musical', 'genre_Mystery', 'genre_Romance', 'genre_Science Fiction', 'genre_TV Movie', 'genre_Thriller', 'genre_War', 'genre_Western', 'type_of_viewer_negative', 'type_of_viewer_neutral', 'type_of_viewer_positive', 'movies_seq', 'ratings_seq', 'ts_seq\n"
     ]
    }
   ],
   "execution_count": 24
  },
  {
   "cell_type": "markdown",
   "id": "1b8d0e62",
   "metadata": {},
   "source": [
    "# Zapis do pliku"
   ]
  },
  {
   "cell_type": "code",
   "id": "c64ea103",
   "metadata": {
    "ExecuteTime": {
     "end_time": "2025-07-28T17:48:07.702195Z",
     "start_time": "2025-07-28T17:48:07.685599Z"
    }
   },
   "source": "df_train.info()",
   "outputs": [
    {
     "name": "stdout",
     "output_type": "stream",
     "text": [
      "<class 'pandas.core.frame.DataFrame'>\n",
      "RangeIndex: 125768 entries, 0 to 125767\n",
      "Data columns (total 29 columns):\n",
      " #   Column                   Non-Null Count   Dtype  \n",
      "---  ------                   --------------   -----  \n",
      " 0   userId                   125768 non-null  int64  \n",
      " 1   num_rating               125768 non-null  float64\n",
      " 2   avg_rating               125768 non-null  float64\n",
      " 3   weekend_watcher          125768 non-null  float64\n",
      " 4   genre_Action             125768 non-null  float64\n",
      " 5   genre_Adventure          125768 non-null  float64\n",
      " 6   genre_Animation          125768 non-null  float64\n",
      " 7   genre_Comedy             125768 non-null  float64\n",
      " 8   genre_Crime              125768 non-null  float64\n",
      " 9   genre_Documentary        125768 non-null  float64\n",
      " 10  genre_Drama              125768 non-null  float64\n",
      " 11  genre_Family             125768 non-null  float64\n",
      " 12  genre_Fantasy            125768 non-null  float64\n",
      " 13  genre_History            125768 non-null  float64\n",
      " 14  genre_Horror             125768 non-null  float64\n",
      " 15  genre_Musical            125768 non-null  float64\n",
      " 16  genre_Mystery            125768 non-null  float64\n",
      " 17  genre_Romance            125768 non-null  float64\n",
      " 18  genre_Science Fiction    125768 non-null  float64\n",
      " 19  genre_TV Movie           125768 non-null  float64\n",
      " 20  genre_Thriller           125768 non-null  float64\n",
      " 21  genre_War                125768 non-null  float64\n",
      " 22  genre_Western            125768 non-null  float64\n",
      " 23  type_of_viewer_negative  125768 non-null  float64\n",
      " 24  type_of_viewer_neutral   125768 non-null  float64\n",
      " 25  type_of_viewer_positive  125768 non-null  float64\n",
      " 26  movies_seq               125768 non-null  object \n",
      " 27  ratings_seq              125768 non-null  object \n",
      " 28  ts_seq                   125768 non-null  object \n",
      "dtypes: float64(25), int64(1), object(3)\n",
      "memory usage: 27.8+ MB\n"
     ]
    }
   ],
   "execution_count": 25
  },
  {
   "cell_type": "code",
   "id": "5f0a1c31",
   "metadata": {
    "ExecuteTime": {
     "end_time": "2025-07-28T17:48:09.555298Z",
     "start_time": "2025-07-28T17:48:07.719106Z"
    }
   },
   "source": "df_train.to_parquet('../data/user_features_clean_train.parquet', compression='brotli')",
   "outputs": [],
   "execution_count": 26
  },
  {
   "metadata": {
    "ExecuteTime": {
     "end_time": "2025-07-28T17:48:09.610781Z",
     "start_time": "2025-07-28T17:48:09.581009Z"
    }
   },
   "cell_type": "code",
   "source": "df_test.info()",
   "id": "10fdf2ebaefa2030",
   "outputs": [
    {
     "name": "stdout",
     "output_type": "stream",
     "text": [
      "<class 'pandas.core.frame.DataFrame'>\n",
      "RangeIndex: 31255 entries, 0 to 31254\n",
      "Data columns (total 29 columns):\n",
      " #   Column                   Non-Null Count  Dtype  \n",
      "---  ------                   --------------  -----  \n",
      " 0   userId                   31255 non-null  int64  \n",
      " 1   num_rating               31255 non-null  float64\n",
      " 2   avg_rating               31255 non-null  float64\n",
      " 3   weekend_watcher          31255 non-null  float64\n",
      " 4   genre_Action             31255 non-null  float64\n",
      " 5   genre_Adventure          31255 non-null  float64\n",
      " 6   genre_Animation          31255 non-null  float64\n",
      " 7   genre_Comedy             31255 non-null  float64\n",
      " 8   genre_Crime              31255 non-null  float64\n",
      " 9   genre_Documentary        31255 non-null  float64\n",
      " 10  genre_Drama              31255 non-null  float64\n",
      " 11  genre_Family             31255 non-null  float64\n",
      " 12  genre_Fantasy            31255 non-null  float64\n",
      " 13  genre_History            31255 non-null  float64\n",
      " 14  genre_Horror             31255 non-null  float64\n",
      " 15  genre_Musical            31255 non-null  float64\n",
      " 16  genre_Mystery            31255 non-null  float64\n",
      " 17  genre_Romance            31255 non-null  float64\n",
      " 18  genre_Science Fiction    31255 non-null  float64\n",
      " 19  genre_TV Movie           31255 non-null  float64\n",
      " 20  genre_Thriller           31255 non-null  float64\n",
      " 21  genre_War                31255 non-null  float64\n",
      " 22  genre_Western            31255 non-null  float64\n",
      " 23  type_of_viewer_negative  31255 non-null  float64\n",
      " 24  type_of_viewer_neutral   31255 non-null  float64\n",
      " 25  type_of_viewer_positive  31255 non-null  float64\n",
      " 26  movies_seq               31255 non-null  object \n",
      " 27  ratings_seq              31255 non-null  object \n",
      " 28  ts_seq                   31255 non-null  object \n",
      "dtypes: float64(25), int64(1), object(3)\n",
      "memory usage: 6.9+ MB\n"
     ]
    }
   ],
   "execution_count": 27
  },
  {
   "metadata": {
    "ExecuteTime": {
     "end_time": "2025-07-28T17:48:10.246562Z",
     "start_time": "2025-07-28T17:48:09.643397Z"
    }
   },
   "cell_type": "code",
   "source": "df_test.to_parquet('../data/user_features_clean_test.parquet', compression='brotli')",
   "id": "abcce34d15aa7aaa",
   "outputs": [],
   "execution_count": 28
  }
 ],
 "metadata": {
  "kernelspec": {
   "display_name": "base",
   "language": "python",
   "name": "python3"
  },
  "language_info": {
   "codemirror_mode": {
    "name": "ipython",
    "version": 3
   },
   "file_extension": ".py",
   "mimetype": "text/x-python",
   "name": "python",
   "nbconvert_exporter": "python",
   "pygments_lexer": "ipython3",
   "version": "3.12.2"
  }
 },
 "nbformat": 4,
 "nbformat_minor": 5
}
