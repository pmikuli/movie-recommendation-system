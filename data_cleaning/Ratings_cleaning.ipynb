{
 "cells": [
  {
   "cell_type": "code",
   "execution_count": 85,
   "id": "58870a65",
   "metadata": {},
   "outputs": [],
   "source": [
    "import pandas as pd"
   ]
  },
  {
   "cell_type": "code",
   "execution_count": 86,
   "id": "f3eae10e",
   "metadata": {},
   "outputs": [],
   "source": [
    "df = pd.read_csv('../datasets/ratings_improved.csv', parse_dates=['timestamp'])"
   ]
  },
  {
   "cell_type": "code",
   "execution_count": 87,
   "id": "1b2cb2ae",
   "metadata": {},
   "outputs": [
    {
     "name": "stdout",
     "output_type": "stream",
     "text": [
      "<class 'pandas.core.frame.DataFrame'>\n",
      "RangeIndex: 32000204 entries, 0 to 32000203\n",
      "Data columns (total 5 columns):\n",
      " #   Column       Dtype         \n",
      "---  ------       -----         \n",
      " 0   userId       int64         \n",
      " 1   movieId      int64         \n",
      " 2   rating       float64       \n",
      " 3   timestamp    datetime64[ns]\n",
      " 4   day_of_week  int64         \n",
      "dtypes: datetime64[ns](1), float64(1), int64(3)\n",
      "memory usage: 1.2 GB\n",
      "None\n",
      "   userId  movieId  rating           timestamp  day_of_week\n",
      "0       1       17     4.0 1999-12-03 19:24:37            4\n",
      "1       1       25     1.0 1999-12-03 19:43:48            4\n",
      "2       1       29     2.0 1999-11-22 00:36:16            0\n",
      "3       1       30     5.0 1999-12-03 19:24:37            4\n",
      "4       1       32     5.0 1999-11-22 00:00:58            0\n"
     ]
    }
   ],
   "source": [
    "print(df.info())\n",
    "print(df.head())"
   ]
  },
  {
   "cell_type": "markdown",
   "id": "54205e73",
   "metadata": {},
   "source": [
    "# Sprawdzenie czy dane zgadzają się z danymi z pozostałych zbiorów danych"
   ]
  },
  {
   "cell_type": "code",
   "execution_count": 88,
   "id": "9df12bb4",
   "metadata": {},
   "outputs": [
    {
     "name": "stdout",
     "output_type": "stream",
     "text": [
      "Number of users matches with user_features.csv: True\n",
      "Number of movies in ratings: 84432 Number of movies in Movies_final.csv: 86493\n",
      "Number of movies that are in ratings, but are not in Movies_final.csv: 1075\n",
      "Number of ratings to delete: 77897\n",
      "Current length: (32000204, 5)\n",
      "Length after deleting: (31922307, 5)\n",
      "    userId  num_rating  avg_rating  weekend_watcher type_of_viewer  \\\n",
      "9       10         660    2.787121                1       negative   \n",
      "11      12          23    2.891304                1       negative   \n",
      "27      28        2842    3.421886                0        neutral   \n",
      "\n",
      "    genre_Action  genre_Adventure  genre_Animation  genre_Comedy  genre_Crime  \\\n",
      "9       2.820669         2.850622         2.891304      2.577640     2.918803   \n",
      "11      0.750000         1.400000         2.666667      3.277778     3.000000   \n",
      "27      3.224090         3.373148         3.897959      3.290830     3.399390   \n",
      "\n",
      "    ...  genre_History  genre_Horror  genre_Music  genre_Mystery  \\\n",
      "9   ...       2.527778      2.781915     3.111111       2.714286   \n",
      "11  ...            NaN      3.500000          NaN       1.750000   \n",
      "27  ...       3.859848      2.988095     3.450000       3.453659   \n",
      "\n",
      "    genre_Romance  genre_Science Fiction  genre_TV Movie  genre_Thriller  \\\n",
      "9        2.519231               2.785714             NaN        2.779630   \n",
      "11       3.300000               0.666667             NaN        0.750000   \n",
      "27       3.354730               3.352113             4.0        3.289833   \n",
      "\n",
      "    genre_War  genre_Western  \n",
      "9    2.916667       2.500000  \n",
      "11        NaN            NaN  \n",
      "27   3.834746       3.558333  \n",
      "\n",
      "[3 rows x 24 columns]\n",
      "32232 200948\n",
      "Number of users to delete (102, 26)\n",
      "Deleting users that have less than 20 reviews...\n",
      "Written to user_features_2.csv\n"
     ]
    }
   ],
   "source": [
    "users = pd.read_csv('../datasets/user_features.csv')\n",
    "\n",
    "def check_with_other_datasets(df, users):\n",
    "    movies = pd.read_csv('../datasets/Movies_final.csv')\n",
    "\n",
    "    print('Number of users matches with user_features.csv:', df['userId'].nunique() == users['userId'].nunique())\n",
    "    print('Number of movies in ratings:', df['movieId'].nunique(), 'Number of movies in Movies_final.csv:', movies['movieId'].nunique())\n",
    "\n",
    "    missing_movie_ids = df[~df['movieId'].isin(movies['movieId'])]\n",
    "    print('Number of movies that are in ratings, but are not in Movies_final.csv:', missing_movie_ids['movieId'].nunique())\n",
    "    \n",
    "    print('Number of ratings to delete:', missing_movie_ids.shape[0])\n",
    "    print('Current length:', df.shape)\n",
    "    df = df[~df['movieId'].isin(missing_movie_ids['movieId'])]\n",
    "    print('Length after deleting:', df.shape)\n",
    "\n",
    "    user_counts = missing_movie_ids['userId'].value_counts().reset_index()\n",
    "    user_counts.columns = ['userId', 'count']\n",
    "\n",
    "    users_with_deleted_ratings = users[users['userId'].isin(missing_movie_ids['userId'])]\n",
    "    print(users_with_deleted_ratings.head(3))\n",
    "    print(len(users_with_deleted_ratings), len(users))\n",
    "    merged = users_with_deleted_ratings.merge(user_counts, on='userId', how='left')\n",
    "    merged['count'] = merged['count'].fillna(0)\n",
    "\n",
    "    merged['remaining_ratings'] = merged['num_rating'] - merged['count']\n",
    "    filtered = merged[merged['remaining_ratings'] < 20]\n",
    "\n",
    "    print('Number of users to delete', filtered.shape)\n",
    "    print('Deleting users that have less than 20 reviews...')\n",
    "    users = users[~users['userId'].isin(filtered['userId'])]\n",
    "    \n",
    "    print('Written to user_features_2.csv')\n",
    "\n",
    "    return df, users\n",
    "\n",
    "\n",
    "df, users = check_with_other_datasets(df, users)"
   ]
  },
  {
   "cell_type": "markdown",
   "id": "ba4306b1",
   "metadata": {},
   "source": [
    "# Usunięcie użytkowników, którzy nie mają minimum 1 oceny pozytywnej i negatywnej\n",
    "Trening User Tower bez wykorzystania Item Tower wymaga aby użytkownik miał co najmniej 1 pozytywną ocenę i jedną negatywną ocenę. Użytkownicy z samymi pozytywnymi/negatywnymi ocenami muszą zostać usunięci."
   ]
  },
  {
   "cell_type": "code",
   "execution_count": 89,
   "id": "62e3e514",
   "metadata": {},
   "outputs": [
    {
     "name": "stdout",
     "output_type": "stream",
     "text": [
      "<class 'pandas.core.frame.DataFrame'>\n",
      "Index: 31820663 entries, 0 to 32000203\n",
      "Data columns (total 5 columns):\n",
      " #   Column       Dtype         \n",
      "---  ------       -----         \n",
      " 0   userId       int64         \n",
      " 1   movieId      int64         \n",
      " 2   rating       float64       \n",
      " 3   timestamp    datetime64[ns]\n",
      " 4   day_of_week  int64         \n",
      "dtypes: datetime64[ns](1), float64(1), int64(3)\n",
      "memory usage: 1.4 GB\n",
      "None\n"
     ]
    }
   ],
   "source": [
    "POSITIVE_THRESHOLD = 4.0\n",
    "\n",
    "groupped = df.groupby('userId')\n",
    "\n",
    "valid_users = set()\n",
    "for userId, group in groupped:\n",
    "    pos = group[group['rating'] >= POSITIVE_THRESHOLD]\n",
    "    neg = group[group['rating'] < POSITIVE_THRESHOLD]\n",
    "    if not pos.empty and not neg.empty:\n",
    "        valid_users.add(userId)\n",
    "\n",
    "df = df[df['userId'].isin(valid_users)]\n",
    "print(df.info())"
   ]
  },
  {
   "cell_type": "markdown",
   "id": "0e0e928c",
   "metadata": {},
   "source": [
    "# Usunięcie usuniętych użytkowników ze zbioru danych user_features i zapis go do pliku"
   ]
  },
  {
   "cell_type": "code",
   "execution_count": 90,
   "id": "8dd22cb1",
   "metadata": {},
   "outputs": [],
   "source": [
    "# Delete users that were removed in the previous notebook cell\n",
    "users = users[users['userId'].isin(valid_users)]\n",
    "\n",
    "users.to_csv('../datasets/user_features_2.csv', index=False)"
   ]
  },
  {
   "cell_type": "markdown",
   "id": "17ba3b72",
   "metadata": {},
   "source": [
    "# Zapis do pliku"
   ]
  },
  {
   "cell_type": "code",
   "execution_count": 91,
   "id": "36c4aeac",
   "metadata": {},
   "outputs": [],
   "source": [
    "df.to_parquet('../datasets/ratings_clean.parquet', compression='brotli')"
   ]
  },
  {
   "cell_type": "markdown",
   "id": "6bbc8211",
   "metadata": {},
   "source": [
    "# Standaryzacja ocen oraz timestampów"
   ]
  },
  {
   "cell_type": "code",
   "execution_count": 92,
   "id": "1b0c7023",
   "metadata": {},
   "outputs": [
    {
     "name": "stderr",
     "output_type": "stream",
     "text": [
      "/var/folders/sq/926ppx_14j32gjs3g17d4skr0000gn/T/ipykernel_16391/3697302545.py:4: SettingWithCopyWarning: \n",
      "A value is trying to be set on a copy of a slice from a DataFrame.\n",
      "Try using .loc[row_indexer,col_indexer] = value instead\n",
      "\n",
      "See the caveats in the documentation: https://pandas.pydata.org/pandas-docs/stable/user_guide/indexing.html#returning-a-view-versus-a-copy\n",
      "  df['timestamp'] = df['timestamp'].astype('int64')\n"
     ]
    },
    {
     "name": "stdout",
     "output_type": "stream",
     "text": [
      "   userId  movieId  rating           timestamp  day_of_week\n",
      "0       1       17     4.0  944249077000000000            4\n",
      "1       1       25     1.0  944250228000000000            4\n",
      "2       1       29     2.0  943230976000000000            0\n"
     ]
    }
   ],
   "source": [
    "from sklearn.preprocessing import StandardScaler\n",
    "\n",
    "# convert date from YYYY-MM-DD format to UNIX timestamp\n",
    "df['timestamp'] = df['timestamp'].astype('int64')\n",
    "\n",
    "columns_to_normalize = ['rating', 'timestamp']\n",
    "\n",
    "scaler = StandardScaler()\n",
    "normalized = df.copy()\n",
    "normalized[columns_to_normalize] = scaler.fit_transform(df[columns_to_normalize])\n",
    "\n",
    "print(df.head(3))\n"
   ]
  },
  {
   "cell_type": "markdown",
   "id": "b8384b89",
   "metadata": {},
   "source": [
    "# Zgrupowanie danych per usera i zachowanie ostatnich 20 ocen"
   ]
  },
  {
   "cell_type": "code",
   "execution_count": 93,
   "id": "8c96d841",
   "metadata": {},
   "outputs": [
    {
     "name": "stdout",
     "output_type": "stream",
     "text": [
      "   userId                                         movies_seq  \\\n",
      "0       1  [25, 1041, 1357, 1406, 1693, 307, 1056, 1228, ...   \n",
      "1       2  [31, 193, 276, 551, 237, 585, 508, 218, 381, 2...   \n",
      "2       3  [5349, 4896, 5816, 6333, 4016, 6365, 6539, 529...   \n",
      "3       4  [2683, 2699, 2710, 2770, 223, 2722, 2881, 3203...   \n",
      "4       5  [231, 316, 161, 292, 318, 329, 434, 10, 185, 2...   \n",
      "\n",
      "                                         ratings_seq  \\\n",
      "0  [-2.3985095550091526, 1.383608362031683, -2.39...   \n",
      "1  [1.383608362031683, -0.5074505964887347, 0.438...   \n",
      "2  [-0.5074505964887347, -0.5074505964887347, -0....   \n",
      "3  [-0.5074505964887347, -1.4529800757489435, -1....   \n",
      "4  [-1.4529800757489435, -0.5074505964887347, 0.4...   \n",
      "\n",
      "                                              ts_seq  \n",
      "0  [-1.2879172458574584, -1.2879058953379758, -1....  \n",
      "1  [-1.7090751309183834, -1.7090751309183834, -1....  \n",
      "2  [-0.7401733328343324, -0.7401733211166591, -0....  \n",
      "3  [-1.22450412377266, -1.22450412377266, -1.2245...  \n",
      "4  [-1.692122794164669, -1.692122794164669, -1.69...  \n",
      "<class 'pandas.core.frame.DataFrame'>\n",
      "RangeIndex: 198921 entries, 0 to 198920\n",
      "Data columns (total 4 columns):\n",
      " #   Column       Non-Null Count   Dtype \n",
      "---  ------       --------------   ----- \n",
      " 0   userId       198921 non-null  int64 \n",
      " 1   movies_seq   198921 non-null  object\n",
      " 2   ratings_seq  198921 non-null  object\n",
      " 3   ts_seq       198921 non-null  object\n",
      "dtypes: int64(1), object(3)\n",
      "memory usage: 6.1+ MB\n",
      "None\n"
     ]
    }
   ],
   "source": [
    "groupped = normalized.sort_values(['userId', 'timestamp'], ascending=[True, False])\n",
    "groupped = groupped.groupby('userId').head(20).sort_values(['userId', 'timestamp'])\n",
    "groupped = groupped.groupby('userId').agg(movies_seq = ('movieId', list), ratings_seq = ('rating', list), ts_seq = ('timestamp', list)).reset_index()\n",
    "\n",
    "print(groupped.head())\n",
    "print(groupped.info())"
   ]
  },
  {
   "cell_type": "markdown",
   "id": "a1fb4b62",
   "metadata": {},
   "source": [
    "# Zapis zgrupowanych danych do pliku"
   ]
  },
  {
   "cell_type": "code",
   "execution_count": 94,
   "id": "ea9a4f78",
   "metadata": {},
   "outputs": [],
   "source": [
    "groupped.to_parquet('../datasets/ratings_clean_groupped.parquet', compression='brotli')"
   ]
  },
  {
   "cell_type": "markdown",
   "id": "3b226d4e",
   "metadata": {},
   "source": [
    "# Zgrupowanie danych po userId i rozdzielenie ocenionych filmów na pozytywne i negatywne"
   ]
  },
  {
   "cell_type": "code",
   "execution_count": 95,
   "id": "3f5f7178",
   "metadata": {},
   "outputs": [
    {
     "name": "stdout",
     "output_type": "stream",
     "text": [
      "   userId                                                pos\n",
      "0       1  [17, 30, 32, 80, 111, 166, 176, 232, 260, 302,...\n",
      "1       2  [31, 34, 39, 48, 185, 186, 207, 216, 218, 222,...\n",
      "2       3  [10, 11, 17, 26, 62, 110, 150, 151, 161, 260, ...\n",
      "3       4                [223, 1272, 2115, 2770, 2841, 3175]\n",
      "4       5  [10, 110, 161, 165, 349, 356, 364, 380, 434, 4...\n",
      "<class 'pandas.core.frame.DataFrame'>\n",
      "RangeIndex: 198921 entries, 0 to 198920\n",
      "Data columns (total 3 columns):\n",
      " #   Column  Non-Null Count   Dtype \n",
      "---  ------  --------------   ----- \n",
      " 0   userId  198921 non-null  int64 \n",
      " 1   pos     198921 non-null  object\n",
      " 2   neg     198921 non-null  object\n",
      "dtypes: int64(1), object(2)\n",
      "memory usage: 4.6+ MB\n",
      "None\n",
      "<class 'pandas.core.frame.DataFrame'>\n",
      "RangeIndex: 198921 entries, 0 to 198920\n",
      "Data columns (total 3 columns):\n",
      " #   Column  Non-Null Count   Dtype \n",
      "---  ------  --------------   ----- \n",
      " 0   userId  198921 non-null  int64 \n",
      " 1   pos     198921 non-null  object\n",
      " 2   neg     198921 non-null  object\n",
      "dtypes: int64(1), object(2)\n",
      "memory usage: 4.6+ MB\n",
      "None\n",
      "   userId                                                pos  \\\n",
      "0       1  [17, 30, 32, 80, 111, 166, 176, 232, 260, 302,...   \n",
      "1       2  [31, 34, 39, 48, 185, 186, 207, 216, 218, 222,...   \n",
      "2       3  [10, 11, 17, 26, 62, 110, 150, 151, 161, 260, ...   \n",
      "3       4                [223, 1272, 2115, 2770, 2841, 3175]   \n",
      "4       5  [10, 110, 161, 165, 349, 356, 364, 380, 434, 4...   \n",
      "\n",
      "                                                 neg  \n",
      "0  [25, 29, 34, 36, 110, 161, 223, 345, 356, 527,...  \n",
      "1  [153, 193, 231, 253, 296, 305, 344, 349, 466, ...  \n",
      "2  [2, 48, 141, 153, 158, 168, 185, 208, 231, 329...  \n",
      "3  [1210, 1327, 1513, 1833, 2428, 2490, 2600, 260...  \n",
      "4  [47, 150, 153, 185, 208, 231, 253, 288, 292, 2...  \n"
     ]
    }
   ],
   "source": [
    "pos_df = df[df['rating'] >= 4].groupby('userId')['movieId'].apply(list).reset_index(name='pos')\n",
    "neg_df = df[df['rating'] < 4].groupby('userId')['movieId'].apply(list).reset_index(name='neg')\n",
    "\n",
    "print(pos_df.head())\n",
    "\n",
    "user_ratings = pd.merge(pos_df, neg_df, on='userId', how='outer')\n",
    "\n",
    "print(user_ratings.info())\n",
    "\n",
    "user_ratings['pos'] = user_ratings['pos'].apply(lambda x: x if isinstance(x, list) else [])\n",
    "user_ratings['neg'] = user_ratings['neg'].apply(lambda x: x if isinstance(x, list) else [])\n",
    "\n",
    "user_ratings = user_ratings.reset_index(drop=True)\n",
    "\n",
    "print(user_ratings.info())\n",
    "print(user_ratings.head())"
   ]
  },
  {
   "cell_type": "markdown",
   "id": "47b78966",
   "metadata": {},
   "source": [
    "## Zapis do pliku"
   ]
  },
  {
   "cell_type": "code",
   "execution_count": 96,
   "id": "e78bd943",
   "metadata": {},
   "outputs": [],
   "source": [
    "user_ratings.to_parquet('../datasets/ratings_groupped_ids.parquet', compression='brotli')"
   ]
  }
 ],
 "metadata": {
  "kernelspec": {
   "display_name": "base",
   "language": "python",
   "name": "python3"
  },
  "language_info": {
   "codemirror_mode": {
    "name": "ipython",
    "version": 3
   },
   "file_extension": ".py",
   "mimetype": "text/x-python",
   "name": "python",
   "nbconvert_exporter": "python",
   "pygments_lexer": "ipython3",
   "version": "3.12.2"
  }
 },
 "nbformat": 4,
 "nbformat_minor": 5
}
