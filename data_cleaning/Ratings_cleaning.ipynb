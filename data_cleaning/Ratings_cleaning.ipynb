{
 "cells": [
  {
   "cell_type": "code",
   "id": "58870a65",
   "metadata": {
    "ExecuteTime": {
     "end_time": "2025-07-22T16:28:57.298675Z",
     "start_time": "2025-07-22T16:28:57.282631Z"
    }
   },
   "source": [
    "import pandas as pd"
   ],
   "outputs": [],
   "execution_count": 5
  },
  {
   "cell_type": "code",
   "id": "f3eae10e",
   "metadata": {
    "ExecuteTime": {
     "end_time": "2025-07-22T16:29:39.876905Z",
     "start_time": "2025-07-22T16:28:57.318637Z"
    }
   },
   "source": "df = pd.read_csv('../data/ratings_improved.csv', parse_dates=['timestamp'])",
   "outputs": [],
   "execution_count": 6
  },
  {
   "metadata": {
    "ExecuteTime": {
     "end_time": "2025-07-22T16:29:40.204269Z",
     "start_time": "2025-07-22T16:29:39.913463Z"
    }
   },
   "cell_type": "code",
   "source": [
    "users_train = pd.read_csv('../data/user_features_train.csv')\n",
    "users_test = pd.read_csv('../data/user_features_test.csv')"
   ],
   "id": "c772292191aba4ad",
   "outputs": [],
   "execution_count": 7
  },
  {
   "metadata": {
    "ExecuteTime": {
     "end_time": "2025-07-22T16:29:40.914889Z",
     "start_time": "2025-07-22T16:29:40.223789Z"
    }
   },
   "cell_type": "code",
   "source": [
    "'''\n",
    "Dzielimy odpowiednio na zbior ratingow w zbiorze treningowym i testowym\n",
    "'''\n",
    "train_ratings = df[df['userId'].isin(users_train['userId'])]\n",
    "val_ratings = df[df['userId'].isin(users_test ['userId'])]"
   ],
   "id": "d8e2c0b5109470f1",
   "outputs": [],
   "execution_count": 8
  },
  {
   "cell_type": "code",
   "id": "1b2cb2ae",
   "metadata": {
    "ExecuteTime": {
     "end_time": "2025-07-22T16:29:40.954475Z",
     "start_time": "2025-07-22T16:29:40.934433Z"
    }
   },
   "source": [
    "print(df.info())\n",
    "print(df.head())"
   ],
   "outputs": [
    {
     "name": "stdout",
     "output_type": "stream",
     "text": [
      "<class 'pandas.core.frame.DataFrame'>\n",
      "RangeIndex: 32000204 entries, 0 to 32000203\n",
      "Data columns (total 5 columns):\n",
      " #   Column       Dtype         \n",
      "---  ------       -----         \n",
      " 0   userId       int64         \n",
      " 1   movieId      int64         \n",
      " 2   rating       float64       \n",
      " 3   timestamp    datetime64[ns]\n",
      " 4   day_of_week  int64         \n",
      "dtypes: datetime64[ns](1), float64(1), int64(3)\n",
      "memory usage: 1.2 GB\n",
      "None\n",
      "   userId  movieId  rating           timestamp  day_of_week\n",
      "0       1       17     4.0 1999-12-03 19:24:37            4\n",
      "1       1       25     1.0 1999-12-03 19:43:48            4\n",
      "2       1       29     2.0 1999-11-22 00:36:16            0\n",
      "3       1       30     5.0 1999-12-03 19:24:37            4\n",
      "4       1       32     5.0 1999-11-22 00:00:58            0\n"
     ]
    }
   ],
   "execution_count": 9
  },
  {
   "cell_type": "markdown",
   "id": "54205e73",
   "metadata": {},
   "source": [
    "# Sprawdzenie czy dane zgadzają się z danymi z pozostałych zbiorów danych"
   ]
  },
  {
   "cell_type": "code",
   "id": "9df12bb4",
   "metadata": {
    "ExecuteTime": {
     "end_time": "2025-07-22T16:29:43.636060Z",
     "start_time": "2025-07-22T16:29:40.975237Z"
    }
   },
   "source": [
    "def check_with_other_datasets(df, users):\n",
    "    movies = pd.read_csv('../data/Movies_final_ML.csv')\n",
    "\n",
    "    print('Number of users matches with user_features.csv:', df['userId'].nunique() == users['userId'].nunique())\n",
    "    print('Number of movies in ratings:', df['movieId'].nunique(), 'Number of movies in Movies_final.csv:', movies['movieId'].nunique())\n",
    "\n",
    "    missing_movie_ids = df[~df['movieId'].isin(movies['movieId'])]\n",
    "    print('Number of movies that are in ratings, but are not in Movies_final.csv:', missing_movie_ids['movieId'].nunique())\n",
    "    \n",
    "    print('Number of ratings to delete:', missing_movie_ids.shape[0])\n",
    "    print('Current length:', df.shape)\n",
    "    df = df[~df['movieId'].isin(missing_movie_ids['movieId'])]\n",
    "    print('Length after deleting:', df.shape)\n",
    "\n",
    "    user_counts = missing_movie_ids['userId'].value_counts().reset_index()\n",
    "    user_counts.columns = ['userId', 'count']\n",
    "\n",
    "    users_with_deleted_ratings = users[users['userId'].isin(missing_movie_ids['userId'])]\n",
    "    print(users_with_deleted_ratings.head(3))\n",
    "    print(len(users_with_deleted_ratings), len(users))\n",
    "    merged = users_with_deleted_ratings.merge(user_counts, on='userId', how='left')\n",
    "    merged['count'] = merged['count'].fillna(0)\n",
    "\n",
    "    merged['remaining_ratings'] = merged['num_rating'] - merged['count']\n",
    "    filtered = merged[merged['remaining_ratings'] < 20]\n",
    "\n",
    "    print('Number of users to delete', filtered.shape)\n",
    "    print('Deleting users that have less than 20 reviews...')\n",
    "    users = users[~users['userId'].isin(filtered['userId'])]\n",
    "    df = df[~df['userId'].isin(filtered['userId'])]\n",
    "    \n",
    "    print('Written to user_features_2.csv')\n",
    "\n",
    "    return df, users\n",
    "\n",
    "\n",
    "df, users_train = check_with_other_datasets(df, users_train)\n",
    "df, users_test = check_with_other_datasets(df, users_test)"
   ],
   "outputs": [
    {
     "name": "stdout",
     "output_type": "stream",
     "text": [
      "Number of users matches with user_features.csv: False\n",
      "Number of movies in ratings: 84432 Number of movies in Movies_final.csv: 87585\n",
      "Number of movies that are in ratings, but are not in Movies_final.csv: 0\n",
      "Number of ratings to delete: 0\n",
      "Current length: (32000204, 5)\n",
      "Length after deleting: (32000204, 5)\n",
      "Empty DataFrame\n",
      "Columns: [userId, num_rating, avg_rating, weekend_watcher, type_of_viewer, genre_Action, genre_Adventure, genre_Animation, genre_Comedy, genre_Crime, genre_Documentary, genre_Drama, genre_Family, genre_Fantasy, genre_History, genre_Horror, genre_Musical, genre_Mystery, genre_Romance, genre_Science Fiction, genre_TV Movie, genre_Thriller, genre_War, genre_Western]\n",
      "Index: []\n",
      "\n",
      "[0 rows x 24 columns]\n",
      "0 160758\n",
      "Number of users to delete (0, 26)\n",
      "Deleting users that have less than 20 reviews...\n",
      "Written to user_features_2.csv\n",
      "Number of users matches with user_features.csv: False\n",
      "Number of movies in ratings: 84432 Number of movies in Movies_final.csv: 87585\n",
      "Number of movies that are in ratings, but are not in Movies_final.csv: 0\n",
      "Number of ratings to delete: 0\n",
      "Current length: (32000204, 5)\n",
      "Length after deleting: (32000204, 5)\n",
      "Empty DataFrame\n",
      "Columns: [userId, num_rating, avg_rating, weekend_watcher, type_of_viewer, genre_Action, genre_Adventure, genre_Animation, genre_Comedy, genre_Crime, genre_Documentary, genre_Drama, genre_Family, genre_Fantasy, genre_History, genre_Horror, genre_Musical, genre_Mystery, genre_Romance, genre_Science Fiction, genre_TV Movie, genre_Thriller, genre_War, genre_Western]\n",
      "Index: []\n",
      "\n",
      "[0 rows x 24 columns]\n",
      "0 40190\n",
      "Number of users to delete (0, 26)\n",
      "Deleting users that have less than 20 reviews...\n",
      "Written to user_features_2.csv\n"
     ]
    }
   ],
   "execution_count": 10
  },
  {
   "cell_type": "markdown",
   "id": "ba4306b1",
   "metadata": {},
   "source": [
    "# Usunięcie użytkowników, którzy nie mają minimum 1 oceny pozytywnej i negatywnej\n",
    "Trening User Tower bez wykorzystania Item Tower wymaga aby użytkownik miał co najmniej 1 pozytywną ocenę i jedną negatywną ocenę. Użytkownicy z samymi pozytywnymi/negatywnymi ocenami muszą zostać usunięci."
   ]
  },
  {
   "cell_type": "code",
   "id": "62e3e514",
   "metadata": {
    "ExecuteTime": {
     "end_time": "2025-07-22T16:30:28.143231Z",
     "start_time": "2025-07-22T16:29:43.655506Z"
    }
   },
   "source": [
    "POSITIVE_THRESHOLD = 4\n",
    "\n",
    "groupped = df.groupby('userId')\n",
    "\n",
    "valid_users = set()\n",
    "for userId, group in groupped:\n",
    "    pos = group[group['rating'] >= POSITIVE_THRESHOLD]\n",
    "    neg = group[group['rating'] < POSITIVE_THRESHOLD]\n",
    "    if not pos.empty and not neg.empty:\n",
    "        valid_users.add(userId)\n",
    "\n",
    "df = df[df['userId'].isin(valid_users)]\n",
    "print(df.info())"
   ],
   "outputs": [
    {
     "name": "stdout",
     "output_type": "stream",
     "text": [
      "<class 'pandas.core.frame.DataFrame'>\n",
      "Index: 31898442 entries, 0 to 32000203\n",
      "Data columns (total 5 columns):\n",
      " #   Column       Dtype         \n",
      "---  ------       -----         \n",
      " 0   userId       int64         \n",
      " 1   movieId      int64         \n",
      " 2   rating       float64       \n",
      " 3   timestamp    datetime64[ns]\n",
      " 4   day_of_week  int64         \n",
      "dtypes: datetime64[ns](1), float64(1), int64(3)\n",
      "memory usage: 1.4 GB\n",
      "None\n"
     ]
    }
   ],
   "execution_count": 11
  },
  {
   "cell_type": "markdown",
   "id": "0e0e928c",
   "metadata": {},
   "source": [
    "# Usunięcie usuniętych użytkowników ze zbioru danych user_features i zapis go do pliku"
   ]
  },
  {
   "cell_type": "code",
   "id": "8dd22cb1",
   "metadata": {
    "ExecuteTime": {
     "end_time": "2025-07-22T16:30:31.105693Z",
     "start_time": "2025-07-22T16:30:29.807087Z"
    }
   },
   "source": [
    "# Delete users that were removed in the previous notebook cell\n",
    "users_Tr = users_train[users_train['userId'].isin(valid_users)]\n",
    "\n",
    "users_Tr.to_csv('../data/user_features_train_2.csv', index=False)"
   ],
   "outputs": [],
   "execution_count": 12
  },
  {
   "metadata": {
    "ExecuteTime": {
     "end_time": "2025-07-22T16:30:31.473193Z",
     "start_time": "2025-07-22T16:30:31.124597Z"
    }
   },
   "cell_type": "code",
   "source": [
    "users_Te = users_test[users_test['userId'].isin(valid_users)]\n",
    "\n",
    "users_Te.to_csv('../data/user_features_test_2.csv', index=False)"
   ],
   "id": "31204d100d3dd89f",
   "outputs": [],
   "execution_count": 13
  },
  {
   "cell_type": "markdown",
   "id": "17ba3b72",
   "metadata": {},
   "source": [
    "# Zapis do pliku"
   ]
  },
  {
   "cell_type": "code",
   "id": "36c4aeac",
   "metadata": {
    "ExecuteTime": {
     "end_time": "2025-07-22T16:31:02.138288Z",
     "start_time": "2025-07-22T16:30:31.492353Z"
    }
   },
   "source": "df.to_parquet('../data/ratings_clean.parquet', compression='brotli')",
   "outputs": [],
   "execution_count": 14
  },
  {
   "cell_type": "code",
   "id": "b76f7e51",
   "metadata": {
    "ExecuteTime": {
     "end_time": "2025-07-22T16:31:02.198187Z",
     "start_time": "2025-07-22T16:31:02.184973Z"
    }
   },
   "source": [
    "print(df.head())"
   ],
   "outputs": [
    {
     "name": "stdout",
     "output_type": "stream",
     "text": [
      "   userId  movieId  rating           timestamp  day_of_week\n",
      "0       1       17     4.0 1999-12-03 19:24:37            4\n",
      "1       1       25     1.0 1999-12-03 19:43:48            4\n",
      "2       1       29     2.0 1999-11-22 00:36:16            0\n",
      "3       1       30     5.0 1999-12-03 19:24:37            4\n",
      "4       1       32     5.0 1999-11-22 00:00:58            0\n"
     ]
    }
   ],
   "execution_count": 15
  },
  {
   "cell_type": "markdown",
   "id": "c24ca630",
   "metadata": {},
   "source": "# Zapisanie zgrupowanych danych bez normalizacji"
  },
  {
   "cell_type": "code",
   "id": "8dde1929",
   "metadata": {
    "ExecuteTime": {
     "end_time": "2025-07-22T16:31:32.818429Z",
     "start_time": "2025-07-22T16:31:02.235259Z"
    }
   },
   "source": [
    "groupped = df.sort_values(['userId', 'timestamp'], ascending=[True, False])\n",
    "groupped = groupped.groupby('userId').head(20).sort_values(['userId', 'timestamp'])\n",
    "groupped = groupped.groupby('userId').agg(movies_seq = ('movieId', list), ratings_seq = ('rating', list), ts_seq = ('timestamp', list)).reset_index()\n",
    "\n",
    "print(groupped.head())\n",
    "print(groupped.info())\n",
    "\n",
    "# Sprawdzenie czy wszystkie movies_seq mają minimum 20 filmów\n",
    "assert groupped['movies_seq'].apply(len).eq(20).all()\n",
    "\n",
    "groupped.to_parquet('../data/ratings_clean_groupped_20.parquet', compression='brotli')"
   ],
   "outputs": [
    {
     "name": "stdout",
     "output_type": "stream",
     "text": [
      "   userId                                         movies_seq  \\\n",
      "0       1  [25, 1041, 1357, 1406, 1693, 307, 1056, 1228, ...   \n",
      "1       2  [31, 193, 276, 551, 237, 585, 508, 218, 381, 2...   \n",
      "2       3  [5349, 4896, 5816, 6333, 4016, 6365, 6539, 529...   \n",
      "3       4  [2683, 2699, 2710, 2770, 223, 2722, 2881, 3203...   \n",
      "4       5  [231, 316, 161, 292, 318, 329, 434, 10, 185, 2...   \n",
      "\n",
      "                                         ratings_seq  \\\n",
      "0  [1.0, 5.0, 1.0, 2.0, 5.0, 5.0, 5.0, 5.0, 5.0, ...   \n",
      "1  [5.0, 3.0, 4.0, 4.0, 5.0, 4.0, 5.0, 5.0, 5.0, ...   \n",
      "2  [3.0, 3.0, 3.0, 3.0, 4.0, 4.0, 3.0, 5.0, 4.0, ...   \n",
      "3  [3.0, 2.0, 2.0, 4.0, 4.0, 2.0, 1.0, 1.0, 3.0, ...   \n",
      "4  [2.0, 3.0, 4.0, 3.0, 1.0, 3.0, 4.0, 4.0, 3.0, ...   \n",
      "\n",
      "                                              ts_seq  \n",
      "0  [1999-12-03 19:43:48, 1999-12-03 20:32:14, 199...  \n",
      "1  [1996-07-03 19:58:22, 1996-07-03 19:58:22, 199...  \n",
      "2  [2004-05-13 21:59:15, 2004-05-13 21:59:18, 200...  \n",
      "3  [2000-06-08 17:31:19, 2000-06-08 17:31:19, 200...  \n",
      "4  [1996-08-23 01:34:59, 1996-08-23 01:34:59, 199...  \n",
      "<class 'pandas.core.frame.DataFrame'>\n",
      "RangeIndex: 198928 entries, 0 to 198927\n",
      "Data columns (total 4 columns):\n",
      " #   Column       Non-Null Count   Dtype \n",
      "---  ------       --------------   ----- \n",
      " 0   userId       198928 non-null  int64 \n",
      " 1   movies_seq   198928 non-null  object\n",
      " 2   ratings_seq  198928 non-null  object\n",
      " 3   ts_seq       198928 non-null  object\n",
      "dtypes: int64(1), object(3)\n",
      "memory usage: 6.1+ MB\n",
      "None\n"
     ]
    }
   ],
   "execution_count": 16
  },
  {
   "cell_type": "markdown",
   "id": "3b226d4e",
   "metadata": {},
   "source": [
    "# Zgrupowanie danych po userId i rozdzielenie ocenionych filmów na pozytywne i negatywne"
   ]
  },
  {
   "cell_type": "code",
   "id": "3f5f7178",
   "metadata": {
    "ExecuteTime": {
     "end_time": "2025-07-22T16:31:38.299601Z",
     "start_time": "2025-07-22T16:31:32.856213Z"
    }
   },
   "source": [
    "pos_df = df[df['rating'] >= 4].groupby('userId')['movieId'].apply(list).reset_index(name='pos')\n",
    "neg_df = df[df['rating'] < 4].groupby('userId')['movieId'].apply(list).reset_index(name='neg')\n",
    "\n",
    "print(pos_df.head())\n",
    "\n",
    "user_ratings = pd.merge(pos_df, neg_df, on='userId', how='outer')\n",
    "\n",
    "print(user_ratings.info())\n",
    "\n",
    "user_ratings['pos'] = user_ratings['pos'].apply(lambda x: x if isinstance(x, list) else [])\n",
    "user_ratings['neg'] = user_ratings['neg'].apply(lambda x: x if isinstance(x, list) else [])\n",
    "\n",
    "user_ratings = user_ratings.reset_index(drop=True)\n",
    "\n",
    "print(user_ratings.info())\n",
    "print(user_ratings.head())"
   ],
   "outputs": [
    {
     "name": "stdout",
     "output_type": "stream",
     "text": [
      "   userId                                                pos\n",
      "0       1  [17, 30, 32, 80, 111, 166, 176, 232, 260, 302,...\n",
      "1       2  [31, 34, 39, 48, 185, 186, 207, 216, 218, 222,...\n",
      "2       3  [10, 11, 17, 26, 62, 110, 150, 151, 161, 260, ...\n",
      "3       4                [223, 1272, 2115, 2770, 2841, 3175]\n",
      "4       5  [10, 110, 161, 165, 349, 356, 364, 380, 434, 4...\n",
      "<class 'pandas.core.frame.DataFrame'>\n",
      "RangeIndex: 198928 entries, 0 to 198927\n",
      "Data columns (total 3 columns):\n",
      " #   Column  Non-Null Count   Dtype \n",
      "---  ------  --------------   ----- \n",
      " 0   userId  198928 non-null  int64 \n",
      " 1   pos     198928 non-null  object\n",
      " 2   neg     198928 non-null  object\n",
      "dtypes: int64(1), object(2)\n",
      "memory usage: 4.6+ MB\n",
      "None\n",
      "<class 'pandas.core.frame.DataFrame'>\n",
      "RangeIndex: 198928 entries, 0 to 198927\n",
      "Data columns (total 3 columns):\n",
      " #   Column  Non-Null Count   Dtype \n",
      "---  ------  --------------   ----- \n",
      " 0   userId  198928 non-null  int64 \n",
      " 1   pos     198928 non-null  object\n",
      " 2   neg     198928 non-null  object\n",
      "dtypes: int64(1), object(2)\n",
      "memory usage: 4.6+ MB\n",
      "None\n",
      "   userId                                                pos  \\\n",
      "0       1  [17, 30, 32, 80, 111, 166, 176, 232, 260, 302,...   \n",
      "1       2  [31, 34, 39, 48, 185, 186, 207, 216, 218, 222,...   \n",
      "2       3  [10, 11, 17, 26, 62, 110, 150, 151, 161, 260, ...   \n",
      "3       4                [223, 1272, 2115, 2770, 2841, 3175]   \n",
      "4       5  [10, 110, 161, 165, 349, 356, 364, 380, 434, 4...   \n",
      "\n",
      "                                                 neg  \n",
      "0  [25, 29, 34, 36, 110, 161, 223, 345, 356, 527,...  \n",
      "1  [153, 193, 231, 253, 296, 305, 344, 349, 466, ...  \n",
      "2  [2, 48, 141, 153, 158, 168, 185, 208, 231, 329...  \n",
      "3  [1210, 1327, 1513, 1833, 2428, 2490, 2600, 260...  \n",
      "4  [47, 150, 153, 185, 208, 231, 253, 288, 292, 2...  \n"
     ]
    }
   ],
   "execution_count": 17
  },
  {
   "metadata": {},
   "cell_type": "markdown",
   "source": "## Zapis do pliku",
   "id": "844d78fd1d34368c"
  },
  {
   "metadata": {
    "ExecuteTime": {
     "end_time": "2025-07-22T16:31:43.063814Z",
     "start_time": "2025-07-22T16:31:38.349069Z"
    }
   },
   "cell_type": "code",
   "source": "user_ratings.to_parquet('../data/ratings_groupped_ids.parquet', compression='brotli')",
   "id": "12f5053d0c9bc1b8",
   "outputs": [],
   "execution_count": 18
  },
  {
   "metadata": {},
   "cell_type": "markdown",
   "source": "# Zgrupowanie danych po userId i rozdzielenie ocenionych filmów na pozytywne i neg (z wagami)",
   "id": "510cee8e34c233a1"
  },
  {
   "metadata": {
    "jupyter": {
     "is_executing": true
    },
    "ExecuteTime": {
     "start_time": "2025-07-22T16:31:43.100663Z"
    }
   },
   "cell_type": "code",
   "source": [
    "def rating_weight(r):\n",
    "    if r >= 4:\n",
    "        return 1.0\n",
    "    elif r >= 3:\n",
    "        return 0.5\n",
    "    else:\n",
    "        return 0.2\n",
    "\n",
    "df['weight'] = df['rating'].apply(rating_weight)\n",
    "\n",
    "pos_df = df[df['rating'] >= 4].groupby('userId')['movieId'].apply(list).reset_index(name='pos')\n",
    "neg_df = df[df['rating'] < 4].groupby('userId')['movieId'].apply(list).reset_index(name='neg')\n",
    "\n",
    "print(pos_df.head())\n",
    "\n",
    "user_ratings = pd.merge(pos_df, neg_df, on='userId', how='outer')\n",
    "\n",
    "print(user_ratings.info())\n",
    "\n",
    "user_ratings['pos'] = user_ratings['pos'].apply(lambda x: x if isinstance(x, list) else [])\n",
    "user_ratings['neg'] = user_ratings['neg'].apply(lambda x: x if isinstance(x, list) else [])\n",
    "\n",
    "user_ratings = user_ratings.reset_index(drop=True)\n",
    "\n",
    "def attach_weights(row):\n",
    "    uid = row['userId']\n",
    "    grp = df[df['userId'] == uid]\n",
    "    pos_w = [(mid, w) for mid, w in zip(\n",
    "        grp.loc[grp['rating'] >= 4, 'movieId'],\n",
    "        grp.loc[grp['rating'] >= 4, 'weight']\n",
    "    )]\n",
    "    neg_w = [(mid, w) for mid, w in zip(\n",
    "        grp.loc[grp['rating'] < 4, 'movieId'],\n",
    "        grp.loc[grp['rating'] < 4, 'weight']\n",
    "    )]\n",
    "    return pd.Series({'pos_w': pos_w, 'neg_w': neg_w})\n",
    "\n",
    "user_ratings = user_ratings.join(\n",
    "    user_ratings.apply(attach_weights, axis=1)\n",
    ")\n",
    "\n",
    "print(user_ratings.info())\n",
    "print(user_ratings.head())"
   ],
   "id": "a674e0ddcb4f1c99",
   "outputs": [
    {
     "name": "stdout",
     "output_type": "stream",
     "text": [
      "   userId                                                pos\n",
      "0       1  [17, 30, 32, 80, 111, 166, 176, 232, 260, 302,...\n",
      "1       2  [31, 34, 39, 48, 185, 186, 207, 216, 218, 222,...\n",
      "2       3  [10, 11, 17, 26, 62, 110, 150, 151, 161, 260, ...\n",
      "3       4                [223, 1272, 2115, 2770, 2841, 3175]\n",
      "4       5  [10, 110, 161, 165, 349, 356, 364, 380, 434, 4...\n",
      "<class 'pandas.core.frame.DataFrame'>\n",
      "RangeIndex: 198928 entries, 0 to 198927\n",
      "Data columns (total 3 columns):\n",
      " #   Column  Non-Null Count   Dtype \n",
      "---  ------  --------------   ----- \n",
      " 0   userId  198928 non-null  int64 \n",
      " 1   pos     198928 non-null  object\n",
      " 2   neg     198928 non-null  object\n",
      "dtypes: int64(1), object(2)\n",
      "memory usage: 4.6+ MB\n",
      "None\n"
     ]
    }
   ],
   "execution_count": null
  },
  {
   "cell_type": "markdown",
   "id": "47b78966",
   "metadata": {},
   "source": [
    "## Zapis do pliku"
   ]
  },
  {
   "cell_type": "code",
   "id": "e78bd943",
   "metadata": {
    "ExecuteTime": {
     "end_time": "2025-07-22T16:28:44.929613900Z",
     "start_time": "2025-07-21T22:42:06.465504Z"
    }
   },
   "source": "user_ratings.to_parquet('../data/ratings_groupped_ids_weights.parquet', compression='brotli')",
   "outputs": [],
   "execution_count": 21
  }
 ],
 "metadata": {
  "kernelspec": {
   "display_name": "base",
   "language": "python",
   "name": "python3"
  },
  "language_info": {
   "codemirror_mode": {
    "name": "ipython",
    "version": 3
   },
   "file_extension": ".py",
   "mimetype": "text/x-python",
   "name": "python",
   "nbconvert_exporter": "python",
   "pygments_lexer": "ipython3",
   "version": "3.12.2"
  }
 },
 "nbformat": 4,
 "nbformat_minor": 5
}
