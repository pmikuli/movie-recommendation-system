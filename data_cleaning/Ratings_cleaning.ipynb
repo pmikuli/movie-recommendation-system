{
 "cells": [
  {
   "cell_type": "code",
   "id": "58870a65",
   "metadata": {
    "ExecuteTime": {
     "end_time": "2025-08-18T14:10:18.510625Z",
     "start_time": "2025-08-18T14:10:18.253379Z"
    }
   },
   "source": [
    "import pandas as pd\n",
    "import numpy as np\n",
    "import joblib"
   ],
   "outputs": [],
   "execution_count": 1
  },
  {
   "cell_type": "code",
   "id": "f3eae10e",
   "metadata": {
    "ExecuteTime": {
     "end_time": "2025-08-18T14:11:02.066110Z",
     "start_time": "2025-08-18T14:10:19.549749Z"
    }
   },
   "source": "df = pd.read_csv('../data/ratings_improved.csv', parse_dates=['timestamp'])",
   "outputs": [],
   "execution_count": 2
  },
  {
   "metadata": {
    "ExecuteTime": {
     "end_time": "2025-08-18T14:11:03.821319Z",
     "start_time": "2025-08-18T14:11:03.554691Z"
    }
   },
   "cell_type": "code",
   "source": "users_warm = pd.read_csv('../data/user_features_warm.csv')",
   "id": "c772292191aba4ad",
   "outputs": [],
   "execution_count": 3
  },
  {
   "cell_type": "code",
   "id": "1b2cb2ae",
   "metadata": {
    "ExecuteTime": {
     "end_time": "2025-08-18T14:11:05.141857Z",
     "start_time": "2025-08-18T14:11:05.125823Z"
    }
   },
   "source": [
    "print(df.info())\n",
    "print(df.head())"
   ],
   "outputs": [
    {
     "name": "stdout",
     "output_type": "stream",
     "text": [
      "<class 'pandas.core.frame.DataFrame'>\n",
      "RangeIndex: 32000204 entries, 0 to 32000203\n",
      "Data columns (total 5 columns):\n",
      " #   Column       Dtype         \n",
      "---  ------       -----         \n",
      " 0   userId       int64         \n",
      " 1   movieId      int64         \n",
      " 2   rating       float64       \n",
      " 3   timestamp    datetime64[ns]\n",
      " 4   day_of_week  int64         \n",
      "dtypes: datetime64[ns](1), float64(1), int64(3)\n",
      "memory usage: 1.2 GB\n",
      "None\n",
      "   userId  movieId  rating           timestamp  day_of_week\n",
      "0       1       17     4.0 1999-12-03 19:24:37            4\n",
      "1       1       25     1.0 1999-12-03 19:43:48            4\n",
      "2       1       29     2.0 1999-11-22 00:36:16            0\n",
      "3       1       30     5.0 1999-12-03 19:24:37            4\n",
      "4       1       32     5.0 1999-11-22 00:00:58            0\n"
     ]
    }
   ],
   "execution_count": 4
  },
  {
   "cell_type": "markdown",
   "id": "54205e73",
   "metadata": {},
   "source": [
    "# Sprawdzenie czy dane zgadzają się z danymi z pozostałych zbiorów danych"
   ]
  },
  {
   "cell_type": "code",
   "id": "9df12bb4",
   "metadata": {
    "ExecuteTime": {
     "end_time": "2025-08-18T14:11:10.786621Z",
     "start_time": "2025-08-18T14:11:08.403448Z"
    }
   },
   "source": [
    "def check_with_other_datasets(df, users):\n",
    "    movies = pd.read_parquet('../data/Movies_clean_Vec_v4_25keywords.parquet')\n",
    "\n",
    "    print('Number of users matches with user_features.csv:', df['userId'].nunique() == users['userId'].nunique())\n",
    "    print('Number of movies in ratings:', df['movieId'].nunique(), 'Number of movies in Movies_clean_Vec_v4:', movies['movieId'].nunique())\n",
    "\n",
    "    missing_movie_ids = df[~df['movieId'].isin(movies['movieId'])]\n",
    "    print('Number of movies that are in ratings, but are not in Movies_clean_Vec_v4', missing_movie_ids['movieId'].nunique())\n",
    "    \n",
    "    print('Number of ratings to delete:', missing_movie_ids.shape[0])\n",
    "    print('Current length:', df.shape)\n",
    "    df = df[~df['movieId'].isin(missing_movie_ids['movieId'])]\n",
    "    print('Length after deleting:', df.shape)\n",
    "\n",
    "    user_counts = missing_movie_ids['userId'].value_counts().reset_index()\n",
    "    user_counts.columns = ['userId', 'count']\n",
    "\n",
    "    users_with_deleted_ratings = users[users['userId'].isin(missing_movie_ids['userId'])]\n",
    "    print(users_with_deleted_ratings.head(3))\n",
    "    print(len(users_with_deleted_ratings), len(users))\n",
    "    merged = users_with_deleted_ratings.merge(user_counts, on='userId', how='left')\n",
    "    merged['count'] = merged['count'].fillna(0)\n",
    "\n",
    "    merged['remaining_ratings'] = merged['num_rating'] - merged['count']\n",
    "    filtered = merged[merged['remaining_ratings'] < 20]\n",
    "\n",
    "    print('Number of users to delete', filtered.shape)\n",
    "    print('Deleting users that have less than 20 reviews...')\n",
    "    users = users[~users['userId'].isin(filtered['userId'])]\n",
    "    df = df[~df['userId'].isin(filtered['userId'])]\n",
    "    \n",
    "    print('Written to user_features_2.csv')\n",
    "\n",
    "    return df, users\n",
    "\n",
    "\n",
    "df, users_warm = check_with_other_datasets(df, users_warm)"
   ],
   "outputs": [
    {
     "name": "stdout",
     "output_type": "stream",
     "text": [
      "Number of users matches with user_features.csv: True\n",
      "Number of movies in ratings: 84432 Number of movies in Movies_clean_Vec_v4: 84133\n",
      "Number of movies that are in ratings, but are not in Movies_clean_Vec_v4 299\n",
      "Number of ratings to delete: 326\n",
      "Current length: (32000204, 5)\n",
      "Length after deleting: (31999878, 5)\n",
      "      userId  num_rating  avg_rating  weekend_watcher type_of_viewer  \\\n",
      "3318    3319         297    2.501684                1       negative   \n",
      "3916    3917          42    2.892857                1       negative   \n",
      "5207    5208          22    3.704545                0        neutral   \n",
      "\n",
      "      genre_Action  genre_Adventure  genre_Animation  genre_Comedy  \\\n",
      "3318      2.310345         2.303571          2.25000        2.3125   \n",
      "3916      3.055556         2.900000          2.78125        3.0000   \n",
      "5207      3.000000              NaN          4.50000        3.8750   \n",
      "\n",
      "      genre_Crime  ...  genre_History  genre_Horror  genre_Musical  \\\n",
      "3318     2.368852  ...         2.5625      2.585714           2.25   \n",
      "3916     2.750000  ...         3.5000      2.583333            NaN   \n",
      "5207     3.500000  ...            NaN           NaN            NaN   \n",
      "\n",
      "      genre_Mystery  genre_Romance  genre_Science Fiction  genre_TV Movie  \\\n",
      "3318       2.670455       2.426471               2.727273            2.75   \n",
      "3916       1.666667            NaN               3.333333             NaN   \n",
      "5207       3.250000       3.642857               2.500000             NaN   \n",
      "\n",
      "      genre_Thriller  genre_War  genre_Western  \n",
      "3318        2.560976   2.363636           2.25  \n",
      "3916        2.714286   3.333333            NaN  \n",
      "5207             NaN   4.000000            NaN  \n",
      "\n",
      "[3 rows x 24 columns]\n",
      "168 200948\n",
      "Number of users to delete (7, 26)\n",
      "Deleting users that have less than 20 reviews...\n",
      "Written to user_features_2.csv\n"
     ]
    }
   ],
   "execution_count": 5
  },
  {
   "metadata": {},
   "cell_type": "markdown",
   "source": "# Usunięcie użytkowników, którzy nie mają minimum 20 pozytywnych ocen (neg beda dobieranie z nie-ogladanych)",
   "id": "d697c5b1dee84058"
  },
  {
   "metadata": {
    "ExecuteTime": {
     "end_time": "2025-08-18T14:11:19.972137Z",
     "start_time": "2025-08-18T14:11:13.174786Z"
    }
   },
   "cell_type": "code",
   "source": [
    "POSITIVE_THRESHOLD = 4\n",
    "MIN_POS = 20\n",
    "\n",
    "pos_counts = (\n",
    "    df\n",
    "    .groupby('userId')['rating']\n",
    "    .apply(lambda x: (x >= POSITIVE_THRESHOLD).sum())\n",
    ")\n",
    "\n",
    "valid_users = pos_counts[pos_counts >= MIN_POS].index"
   ],
   "id": "1a29470c297b6004",
   "outputs": [],
   "execution_count": 6
  },
  {
   "metadata": {
    "ExecuteTime": {
     "end_time": "2025-08-18T14:11:21.473402Z",
     "start_time": "2025-08-18T14:11:21.458611Z"
    }
   },
   "cell_type": "code",
   "source": [
    "total_users = pos_counts.shape[0]\n",
    "kept_users = valid_users.size\n",
    "removed_users = total_users - kept_users\n",
    "\n",
    "print(f'Total users      : {total_users}')\n",
    "print(f'Users kept       : {kept_users}')\n",
    "print(f'Users removed    : {removed_users} '\n",
    "      f'({removed_users/total_users*100:.2f}%)')"
   ],
   "id": "18b0afe97198cfeb",
   "outputs": [
    {
     "name": "stdout",
     "output_type": "stream",
     "text": [
      "Total users      : 200941\n",
      "Users kept       : 157023\n",
      "Users removed    : 43918 (21.86%)\n"
     ]
    }
   ],
   "execution_count": 7
  },
  {
   "metadata": {
    "ExecuteTime": {
     "end_time": "2025-08-18T14:11:27.166564Z",
     "start_time": "2025-08-18T14:11:26.397514Z"
    }
   },
   "cell_type": "code",
   "source": [
    "df = df[df['userId'].isin(valid_users)].copy()\n",
    "\n",
    "print('\\nAfter filtering:')\n",
    "print(df.info())"
   ],
   "id": "a865d41afd80c63",
   "outputs": [
    {
     "name": "stdout",
     "output_type": "stream",
     "text": [
      "\n",
      "After filtering:\n",
      "<class 'pandas.core.frame.DataFrame'>\n",
      "Index: 30594215 entries, 0 to 32000203\n",
      "Data columns (total 5 columns):\n",
      " #   Column       Dtype         \n",
      "---  ------       -----         \n",
      " 0   userId       int64         \n",
      " 1   movieId      int64         \n",
      " 2   rating       float64       \n",
      " 3   timestamp    datetime64[ns]\n",
      " 4   day_of_week  int64         \n",
      "dtypes: datetime64[ns](1), float64(1), int64(3)\n",
      "memory usage: 1.4 GB\n",
      "None\n"
     ]
    }
   ],
   "execution_count": 8
  },
  {
   "cell_type": "markdown",
   "id": "ba4306b1",
   "metadata": {},
   "source": [
    "# Usunięcie użytkowników, którzy nie mają minimum 1 oceny pozytywnej i negatywnej\n",
    "Trening User Tower bez wykorzystania Item Tower wymaga aby użytkownik miał co najmniej 1 pozytywną ocenę i jedną negatywną ocenę. Użytkownicy z samymi pozytywnymi/negatywnymi ocenami muszą zostać usunięci."
   ]
  },
  {
   "cell_type": "code",
   "id": "62e3e514",
   "metadata": {
    "ExecuteTime": {
     "end_time": "2025-08-18T14:11:29.798872Z",
     "start_time": "2025-08-18T14:11:29.782950Z"
    }
   },
   "source": [
    "# POSITIVE_THRESHOLD = 4\n",
    "#\n",
    "# groupped = df.groupby('userId')\n",
    "#\n",
    "# valid_users = set()\n",
    "# for userId, group in groupped:\n",
    "#     pos = group[group['rating'] >= POSITIVE_THRESHOLD]\n",
    "#     neg = group[group['rating'] < POSITIVE_THRESHOLD]\n",
    "#     if not pos.empty and not neg.empty:\n",
    "#         valid_users.add(userId)\n",
    "#\n",
    "# df = df[df['userId'].isin(valid_users)]\n",
    "# print(df.info())"
   ],
   "outputs": [],
   "execution_count": 9
  },
  {
   "cell_type": "markdown",
   "id": "0e0e928c",
   "metadata": {},
   "source": [
    "# Usunięcie usuniętych użytkowników ze zbioru danych user_features i zapis go do pliku"
   ]
  },
  {
   "cell_type": "code",
   "id": "8dd22cb1",
   "metadata": {
    "ExecuteTime": {
     "end_time": "2025-08-18T14:11:33.001665Z",
     "start_time": "2025-08-18T14:11:32.986005Z"
    }
   },
   "source": [
    "users_Tr = users_warm[users_warm['userId'].isin(valid_users)]\n",
    "\n",
    "# users_Tr.to_csv('../data/user_features_warm_2.csv', index=False)"
   ],
   "outputs": [],
   "execution_count": 10
  },
  {
   "metadata": {},
   "cell_type": "markdown",
   "source": "# Normalizacja i przetwarzanie timestamp-ow",
   "id": "e2b7794ad480eb0b"
  },
  {
   "metadata": {
    "ExecuteTime": {
     "end_time": "2025-08-18T14:11:35.846001Z",
     "start_time": "2025-08-18T14:11:35.741321Z"
    }
   },
   "cell_type": "code",
   "source": "df['ts_sec'] = df['timestamp'].astype('int64') // 10**9",
   "id": "bb5a0f03d632a6fc",
   "outputs": [],
   "execution_count": 11
  },
  {
   "metadata": {
    "ExecuteTime": {
     "end_time": "2025-08-18T14:11:37.567208Z",
     "start_time": "2025-08-18T14:11:37.170769Z"
    }
   },
   "cell_type": "code",
   "source": [
    "df_train_ratings = df.copy()\n",
    "\n",
    "print(f\"Number of ratings: {len(df_train_ratings):,}\")"
   ],
   "id": "d10a0de6c25e363a",
   "outputs": [
    {
     "name": "stdout",
     "output_type": "stream",
     "text": [
      "Number of ratings: 30,594,215\n"
     ]
    }
   ],
   "execution_count": 12
  },
  {
   "metadata": {
    "ExecuteTime": {
     "end_time": "2025-08-18T14:11:40.707845Z",
     "start_time": "2025-08-18T14:11:40.337147Z"
    }
   },
   "cell_type": "code",
   "source": [
    "train_cutoff = df_train_ratings['ts_sec'].max()\n",
    "\n",
    "df_train_ratings['age_days'] = (train_cutoff - df_train_ratings['ts_sec']) / 86400\n",
    "df_train_ratings['age_days'] = df_train_ratings['age_days'].clip(0, 3650)\n",
    "\n",
    "print(f\"Age_days range: {df_train_ratings['age_days'].min():.1f} - {df_train_ratings['age_days'].max():.1f}\")"
   ],
   "id": "85118eb9c2dd829a",
   "outputs": [
    {
     "name": "stdout",
     "output_type": "stream",
     "text": [
      "Age_days range: 0.0 - 3650.0\n"
     ]
    }
   ],
   "execution_count": 13
  },
  {
   "metadata": {
    "ExecuteTime": {
     "end_time": "2025-08-18T14:12:16.037045Z",
     "start_time": "2025-08-18T14:11:43.324090Z"
    }
   },
   "cell_type": "code",
   "source": [
    "def jitter_data(df):\n",
    "    np.random.seed(42)\n",
    "    jitter_std = 0.05\n",
    "    jitter = np.random.normal(0, jitter_std, len(df))\n",
    "\n",
    "    df_grouped = df.groupby(['userId', 'age_days']).size()\n",
    "    duplicates_mask = df.set_index(['userId', 'age_days']).index.isin(df_grouped[df_grouped > 1].index)\n",
    "\n",
    "    df.loc[duplicates_mask, 'age_days_jittered'] = (df.loc[duplicates_mask, 'age_days'] + jitter[duplicates_mask])\n",
    "    df.loc[~duplicates_mask, 'age_days_jittered'] = df.loc[~duplicates_mask, 'age_days']\n",
    "\n",
    "    before_duplicates = df.groupby(['userId', 'age_days']).size().max()\n",
    "    after_duplicates = df.groupby(['userId', 'age_days_jittered']).size().max()\n",
    "\n",
    "    print(f\"Max duplikatów przed: {before_duplicates}\")\n",
    "    print(f\"Max duplikatów po: {after_duplicates}\")\n",
    "\n",
    "    return df\n",
    "\n",
    "df_train_ratings = jitter_data(df_train_ratings)"
   ],
   "id": "83d63c05e09d5260",
   "outputs": [
    {
     "name": "stdout",
     "output_type": "stream",
     "text": [
      "Max duplikatów przed: 8983\n",
      "Max duplikatów po: 1\n"
     ]
    }
   ],
   "execution_count": 14
  },
  {
   "metadata": {
    "ExecuteTime": {
     "end_time": "2025-08-18T14:12:19.331280Z",
     "start_time": "2025-08-18T14:12:19.285006Z"
    }
   },
   "cell_type": "code",
   "source": [
    "df_train_ratings.head(100)\n",
    "df_train_ratings['age_days'] = df_train_ratings['age_days_jittered'].astype('float32')"
   ],
   "id": "84c3719d9a16cebc",
   "outputs": [],
   "execution_count": 15
  },
  {
   "metadata": {
    "ExecuteTime": {
     "end_time": "2025-08-18T14:12:21.568455Z",
     "start_time": "2025-08-18T14:12:20.482531Z"
    }
   },
   "cell_type": "code",
   "source": [
    "from sklearn.preprocessing import StandardScaler\n",
    "\n",
    "columns_to_normalize = ['age_days']\n",
    "\n",
    "scaler = StandardScaler().fit(df_train_ratings[columns_to_normalize])\n",
    "\n",
    "df_train_scaled = df_train_ratings.copy()\n",
    "\n",
    "df_train_scaled[columns_to_normalize] = scaler.transform(df_train_ratings[columns_to_normalize])\n",
    "\n",
    "train_mean = df_train_scaled['age_days'].mean()\n",
    "train_std = df_train_scaled['age_days'].std()\n",
    "\n",
    "print(f\"Train po normalizacji: mean={train_mean:.3f}, std={train_std:.3f}\")"
   ],
   "id": "d2ecd001425c38d6",
   "outputs": [
    {
     "name": "stdout",
     "output_type": "stream",
     "text": [
      "Train po normalizacji: mean=0.000, std=1.000\n"
     ]
    }
   ],
   "execution_count": 16
  },
  {
   "metadata": {
    "ExecuteTime": {
     "end_time": "2025-08-18T14:12:23.401573Z",
     "start_time": "2025-08-18T14:12:23.378996Z"
    }
   },
   "cell_type": "code",
   "source": "df.info()",
   "id": "f187f0f4349e790a",
   "outputs": [
    {
     "name": "stdout",
     "output_type": "stream",
     "text": [
      "<class 'pandas.core.frame.DataFrame'>\n",
      "Index: 30594215 entries, 0 to 32000203\n",
      "Data columns (total 6 columns):\n",
      " #   Column       Dtype         \n",
      "---  ------       -----         \n",
      " 0   userId       int64         \n",
      " 1   movieId      int64         \n",
      " 2   rating       float64       \n",
      " 3   timestamp    datetime64[ns]\n",
      " 4   day_of_week  int64         \n",
      " 5   ts_sec       int64         \n",
      "dtypes: datetime64[ns](1), float64(1), int64(4)\n",
      "memory usage: 1.6 GB\n"
     ]
    }
   ],
   "execution_count": 17
  },
  {
   "metadata": {
    "ExecuteTime": {
     "end_time": "2025-08-18T14:12:26.583208Z",
     "start_time": "2025-08-18T14:12:25.073558Z"
    }
   },
   "cell_type": "code",
   "source": [
    "df = df_train_scaled\n",
    "\n",
    "df = df.sort_values('userId').reset_index(drop=True)\n",
    "\n",
    "print(f\"Total records: {len(df):,}\")"
   ],
   "id": "9e3c5189f665e780",
   "outputs": [
    {
     "name": "stdout",
     "output_type": "stream",
     "text": [
      "Total records: 30,594,215\n"
     ]
    }
   ],
   "execution_count": 18
  },
  {
   "metadata": {
    "ExecuteTime": {
     "end_time": "2025-08-18T14:12:28.238591Z",
     "start_time": "2025-08-18T14:12:28.002106Z"
    }
   },
   "cell_type": "code",
   "source": "df = df.drop(columns=['ts_sec', 'timestamp', 'age_days_jittered'])",
   "id": "d4d9c28e763e1c88",
   "outputs": [],
   "execution_count": 19
  },
  {
   "metadata": {
    "ExecuteTime": {
     "end_time": "2025-08-18T14:12:29.549128Z",
     "start_time": "2025-08-18T14:12:29.533639Z"
    }
   },
   "cell_type": "code",
   "source": "df.info()",
   "id": "31298435e4391113",
   "outputs": [
    {
     "name": "stdout",
     "output_type": "stream",
     "text": [
      "<class 'pandas.core.frame.DataFrame'>\n",
      "RangeIndex: 30594215 entries, 0 to 30594214\n",
      "Data columns (total 5 columns):\n",
      " #   Column       Dtype  \n",
      "---  ------       -----  \n",
      " 0   userId       int64  \n",
      " 1   movieId      int64  \n",
      " 2   rating       float64\n",
      " 3   day_of_week  int64  \n",
      " 4   age_days     float32\n",
      "dtypes: float32(1), float64(1), int64(3)\n",
      "memory usage: 1.0 GB\n"
     ]
    }
   ],
   "execution_count": 20
  },
  {
   "metadata": {
    "ExecuteTime": {
     "end_time": "2025-08-18T14:12:32.441523Z",
     "start_time": "2025-08-18T14:12:32.433032Z"
    }
   },
   "cell_type": "code",
   "source": [
    "# dump the scaler\n",
    "joblib.dump(scaler, '../data/age-days-scaler.joblib')"
   ],
   "id": "4ca285810fc02c38",
   "outputs": [
    {
     "data": {
      "text/plain": [
       "['../data/age-days-scaler.joblib']"
      ]
     },
     "execution_count": 21,
     "metadata": {},
     "output_type": "execute_result"
    }
   ],
   "execution_count": 21
  },
  {
   "cell_type": "markdown",
   "id": "17ba3b72",
   "metadata": {},
   "source": [
    "# Zapis do pliku"
   ]
  },
  {
   "cell_type": "code",
   "id": "36c4aeac",
   "metadata": {
    "ExecuteTime": {
     "end_time": "2025-07-30T15:27:32.712039Z",
     "start_time": "2025-07-30T15:27:24.851388Z"
    }
   },
   "source": "df.to_parquet('../data/ratings_clean.parquet', compression='brotli')",
   "outputs": [],
   "execution_count": 21
  },
  {
   "cell_type": "code",
   "id": "b76f7e51",
   "metadata": {
    "ExecuteTime": {
     "end_time": "2025-07-30T15:27:32.747200Z",
     "start_time": "2025-07-30T15:27:32.742068Z"
    }
   },
   "source": "print(df.head())",
   "outputs": [
    {
     "name": "stdout",
     "output_type": "stream",
     "text": [
      "   userId  movieId  rating  day_of_week  age_days\n",
      "0       1       17     4.0            4  0.717920\n",
      "1       1     2028     3.0            0  0.717860\n",
      "2       1     2025     5.0            4  0.717881\n",
      "3       1     2020     5.0            4  0.717877\n",
      "4       1     1968     5.0            2  0.717831\n"
     ]
    }
   ],
   "execution_count": 22
  },
  {
   "metadata": {},
   "cell_type": "markdown",
   "source": "# Przygotowanie LOOCV",
   "id": "a64477f97153e8a7"
  },
  {
   "metadata": {
    "ExecuteTime": {
     "end_time": "2025-07-30T15:27:46.861610Z",
     "start_time": "2025-07-30T15:27:32.768448Z"
    }
   },
   "cell_type": "code",
   "source": [
    "def split_loocv(df):\n",
    "\n",
    "    df_sorted = df.sort_values(['userId', 'age_days'], ascending=[True, True])\n",
    "\n",
    "    mask_pos = df_sorted['rating'] >= POSITIVE_THRESHOLD\n",
    "    last_pos = df_sorted[mask_pos].groupby('userId', as_index=False).tail(1)\n",
    "    holdout_df = last_pos[['userId', 'movieId']].rename(\n",
    "        columns={'movieId': 'holdout_movieId'}\n",
    "    )\n",
    "\n",
    "    df_clean = df_sorted.drop(index=last_pos.index).reset_index(drop=True)\n",
    "\n",
    "    return df_clean, holdout_df\n",
    "\n",
    "df, holdout_df = split_loocv(df)\n",
    "\n",
    "print(holdout_df.head())\n",
    "print(df.shape)"
   ],
   "id": "7720e4882566e492",
   "outputs": [
    {
     "name": "stdout",
     "output_type": "stream",
     "text": [
      "     userId  holdout_movieId\n",
      "59        1             2313\n",
      "151       2              520\n",
      "282       3              356\n",
      "354       7              541\n",
      "414       8              858\n",
      "(30437192, 5)\n"
     ]
    }
   ],
   "execution_count": 23
  },
  {
   "metadata": {
    "ExecuteTime": {
     "end_time": "2025-07-30T15:27:51.849955Z",
     "start_time": "2025-07-30T15:27:46.895941Z"
    }
   },
   "cell_type": "code",
   "source": [
    "rating_checker = pd.read_parquet('../data/ratings_clean.parquet')\n",
    "\n",
    "check = holdout_df.merge(\n",
    "    rating_checker,\n",
    "    left_on=[\"userId\", \"holdout_movieId\"],\n",
    "    right_on=[\"userId\", \"movieId\"],\n",
    "    how=\"left\",\n",
    "    indicator=True\n",
    ")\n",
    "\n",
    "missing = check[check[\"_merge\"] == \"left_only\"]\n",
    "\n",
    "if not missing.empty:\n",
    "    print(f\"Znaleziono {len(missing)} brakujących wpisów:\")\n",
    "    print(missing[[\"userId\", \"holdout_movieId\"]])\n",
    "else:\n",
    "    print(\"Wszystkie holdout_movieId są obecne w rating_clean.parquet\")"
   ],
   "id": "62063804858eeaa1",
   "outputs": [
    {
     "name": "stdout",
     "output_type": "stream",
     "text": [
      "Wszystkie holdout_movieId są obecne w rating_clean.parquet\n"
     ]
    }
   ],
   "execution_count": 24
  },
  {
   "metadata": {
    "ExecuteTime": {
     "end_time": "2025-07-30T15:27:52.025486Z",
     "start_time": "2025-07-30T15:27:51.869394Z"
    }
   },
   "cell_type": "code",
   "source": "holdout_df.to_parquet('../data/ratings_LOOCV.parquet', compression='brotli')",
   "id": "e2ddac76c3fc23d2",
   "outputs": [],
   "execution_count": 25
  },
  {
   "cell_type": "markdown",
   "id": "c24ca630",
   "metadata": {},
   "source": "# Zapisanie zgrupowanych danych"
  },
  {
   "cell_type": "code",
   "id": "8dde1929",
   "metadata": {
    "ExecuteTime": {
     "end_time": "2025-07-30T15:28:05.135227Z",
     "start_time": "2025-07-30T15:27:52.056296Z"
    }
   },
   "source": [
    "groupped = df.sort_values(['userId', 'age_days'], ascending=[True, True])\n",
    "groupped = groupped.groupby('userId').head(19).sort_values(['userId', 'age_days'])\n",
    "groupped = groupped.groupby('userId').agg(movies_seq = ('movieId', list), ratings_seq = ('rating', list), ts_seq = ('age_days', list)).reset_index()\n",
    "\n",
    "print(groupped.head())\n",
    "print(groupped.info())\n",
    "\n",
    "# Sprawdzenie czy wszystkie movies_seq mają minimum 19 filmów\n",
    "assert groupped['movies_seq'].apply(len).eq(19).all()\n",
    "\n",
    "groupped.to_parquet('../data/ratings_clean_groupped_20.parquet', compression='brotli')"
   ],
   "outputs": [
    {
     "name": "stdout",
     "output_type": "stream",
     "text": [
      "   userId                                         movies_seq  \\\n",
      "0       1  [1263, 1296, 926, 2247, 223, 1150, 232, 2882, ...   \n",
      "1       2  [34, 595, 186, 185, 276, 552, 296, 364, 551, 5...   \n",
      "2       3  [1375, 552, 2701, 357, 367, 1090, 1957, 1721, ...   \n",
      "3       7  [592, 162, 165, 296, 588, 339, 19, 586, 434, 5...   \n",
      "4       8  [27773, 7361, 30707, 30749, 4226, 47, 44555, 4...   \n",
      "\n",
      "                                         ratings_seq  \\\n",
      "0  [5.0, 3.0, 5.0, 5.0, 3.0, 4.0, 5.0, 1.0, 1.0, ...   \n",
      "1  [5.0, 5.0, 5.0, 5.0, 4.0, 4.0, 1.0, 5.0, 4.0, ...   \n",
      "2  [4.0, 4.0, 3.0, 4.0, 2.5, 4.0, 5.0, 4.0, 3.0, ...   \n",
      "3  [3.0, 5.0, 3.0, 5.0, 4.0, 2.0, 3.0, 3.0, 3.0, ...   \n",
      "4  [5.0, 4.5, 4.0, 5.0, 4.5, 5.0, 4.5, 3.5, 4.0, ...   \n",
      "\n",
      "                                              ts_seq  \n",
      "0  [0.7177751660346985, 0.7178045511245728, 0.717...  \n",
      "1  [0.717822253704071, 0.7178265452384949, 0.7178...  \n",
      "2  [0.717746376991272, 0.7178027629852295, 0.7178...  \n",
      "3  [0.7177982330322266, 0.7178294658660889, 0.717...  \n",
      "4  [-1.1275984048843384, -1.1275787353515625, -1....  \n",
      "<class 'pandas.core.frame.DataFrame'>\n",
      "RangeIndex: 157023 entries, 0 to 157022\n",
      "Data columns (total 4 columns):\n",
      " #   Column       Non-Null Count   Dtype \n",
      "---  ------       --------------   ----- \n",
      " 0   userId       157023 non-null  int64 \n",
      " 1   movies_seq   157023 non-null  object\n",
      " 2   ratings_seq  157023 non-null  object\n",
      " 3   ts_seq       157023 non-null  object\n",
      "dtypes: int64(1), object(3)\n",
      "memory usage: 4.8+ MB\n",
      "None\n"
     ]
    }
   ],
   "execution_count": 26
  },
  {
   "metadata": {},
   "cell_type": "markdown",
   "source": "# Zgrupowanie danych po userId i rozdzielenie ocenionych filmów na tylko pozytywne",
   "id": "5256b9e7a12e0108"
  },
  {
   "metadata": {
    "ExecuteTime": {
     "end_time": "2025-07-30T15:28:12.368037Z",
     "start_time": "2025-07-30T15:28:05.164092Z"
    }
   },
   "cell_type": "code",
   "source": [
    "pos_s = (df.loc[df['rating'] >= 4, ['userId', 'movieId']].groupby('userId')['movieId'].agg(list).rename('pos'))\n",
    "seen_s = (df.groupby('userId')['movieId'].agg(lambda x: set(x)).rename('seen'))\n",
    "\n",
    "user_ratings = (seen_s.to_frame().join(pos_s.to_frame()))\n",
    "\n",
    "# user_ratings['pos'] = user_ratings['pos'].apply(\n",
    "#     lambda v: v if isinstance(v, list) else []\n",
    "# )\n",
    "\n",
    "user_ratings = user_ratings.reset_index()\n",
    "user_ratings = user_ratings.rename(columns={'index': 'userId'})\n",
    "\n",
    "assert 'userId' in user_ratings.columns\n",
    "assert user_ratings[['seen', 'pos']].applymap(type).isin({set, list}).all().all()\n",
    "print(user_ratings.dtypes)\n",
    "print(user_ratings.head())\n"
   ],
   "id": "7ce7bd341fe272ad",
   "outputs": [
    {
     "name": "stdout",
     "output_type": "stream",
     "text": [
      "userId     int64\n",
      "seen      object\n",
      "pos       object\n",
      "dtype: object\n",
      "   userId                                               seen  \\\n",
      "0       1  {3078, 527, 2064, 1041, 3088, 2067, 17, 25, 54...   \n",
      "1       2  {783, 276, 153, 282, 539, 31, 34, 551, 552, 29...   \n",
      "2       3  {2, 1031, 1544, 10, 11, 527, 17, 534, 26, 539,...   \n",
      "3       7  {265, 19, 531, 21, 150, 153, 410, 539, 288, 16...   \n",
      "4       8  {6016, 4226, 260, 44555, 55820, 2959, 912, 527...   \n",
      "\n",
      "                                                 pos  \n",
      "0  [1263, 926, 2247, 1150, 232, 541, 1968, 322, 2...  \n",
      "1  [34, 595, 186, 185, 276, 552, 364, 551, 594, 3...  \n",
      "2  [1375, 552, 357, 1090, 1957, 1721, 858, 1544, ...  \n",
      "3  [162, 296, 588, 508, 208, 590, 150, 318, 349, ...  \n",
      "4  [27773, 7361, 30707, 30749, 4226, 47, 44555, 3...  \n"
     ]
    },
    {
     "name": "stderr",
     "output_type": "stream",
     "text": [
      "C:\\Users\\matimathew\\AppData\\Local\\Temp\\ipykernel_6156\\3750739542.py:14: FutureWarning: DataFrame.applymap has been deprecated. Use DataFrame.map instead.\n",
      "  assert user_ratings[['seen', 'pos']].applymap(type).isin({set, list}).all().all()\n"
     ]
    }
   ],
   "execution_count": 27
  },
  {
   "metadata": {
    "ExecuteTime": {
     "end_time": "2025-07-30T15:28:12.455818Z",
     "start_time": "2025-07-30T15:28:12.428799Z"
    }
   },
   "cell_type": "code",
   "source": [
    "user_ratings.info()\n",
    "user_ratings.head(10)"
   ],
   "id": "ed8b34aabb1a0702",
   "outputs": [
    {
     "name": "stdout",
     "output_type": "stream",
     "text": [
      "<class 'pandas.core.frame.DataFrame'>\n",
      "RangeIndex: 157023 entries, 0 to 157022\n",
      "Data columns (total 3 columns):\n",
      " #   Column  Non-Null Count   Dtype \n",
      "---  ------  --------------   ----- \n",
      " 0   userId  157023 non-null  int64 \n",
      " 1   seen    157023 non-null  object\n",
      " 2   pos     157023 non-null  object\n",
      "dtypes: int64(1), object(2)\n",
      "memory usage: 3.6+ MB\n"
     ]
    },
    {
     "data": {
      "text/plain": [
       "   userId                                               seen  \\\n",
       "0       1  {3078, 527, 2064, 1041, 3088, 2067, 17, 25, 54...   \n",
       "1       2  {783, 276, 153, 282, 539, 31, 34, 551, 552, 29...   \n",
       "2       3  {2, 1031, 1544, 10, 11, 527, 17, 534, 26, 539,...   \n",
       "3       7  {265, 19, 531, 21, 150, 153, 410, 539, 288, 16...   \n",
       "4       8  {6016, 4226, 260, 44555, 55820, 2959, 912, 527...   \n",
       "5       9  {3328, 3972, 33672, 3081, 8957, 1673, 2700, 50...   \n",
       "6      10  {169984, 1, 122882, 2, 122886, 45062, 10, 6964...   \n",
       "7      13  {6, 2058, 2571, 1036, 1674, 11, 527, 912, 920,...   \n",
       "8      14  {33410, 5768, 4619, 7437, 4622, 7706, 4510, 87...   \n",
       "9      15  {3079, 1032, 17, 18, 5668, 74789, 39, 56367, 1...   \n",
       "\n",
       "                                                 pos  \n",
       "0  [1263, 926, 2247, 1150, 232, 541, 1968, 322, 2...  \n",
       "1  [34, 595, 186, 185, 276, 552, 364, 551, 594, 3...  \n",
       "2  [1375, 552, 357, 1090, 1957, 1721, 858, 1544, ...  \n",
       "3  [162, 296, 588, 508, 208, 590, 150, 318, 349, ...  \n",
       "4  [27773, 7361, 30707, 30749, 4226, 47, 44555, 3...  \n",
       "5  [3081, 2542, 38061, 2329, 3275, 5026, 1500, 38...  \n",
       "6  [168252, 122904, 122886, 112852, 33493, 527, 7...  \n",
       "7  [1088, 587, 1704, 1240, 2359, 457, 1233, 593, ...  \n",
       "8  [4510, 4622, 8871, 8734, 5768, 3911, 4816, 776...  \n",
       "9  [55247, 2918, 147, 1968, 47610, 4246, 1079, 27...  "
      ],
      "text/html": [
       "<div>\n",
       "<style scoped>\n",
       "    .dataframe tbody tr th:only-of-type {\n",
       "        vertical-align: middle;\n",
       "    }\n",
       "\n",
       "    .dataframe tbody tr th {\n",
       "        vertical-align: top;\n",
       "    }\n",
       "\n",
       "    .dataframe thead th {\n",
       "        text-align: right;\n",
       "    }\n",
       "</style>\n",
       "<table border=\"1\" class=\"dataframe\">\n",
       "  <thead>\n",
       "    <tr style=\"text-align: right;\">\n",
       "      <th></th>\n",
       "      <th>userId</th>\n",
       "      <th>seen</th>\n",
       "      <th>pos</th>\n",
       "    </tr>\n",
       "  </thead>\n",
       "  <tbody>\n",
       "    <tr>\n",
       "      <th>0</th>\n",
       "      <td>1</td>\n",
       "      <td>{3078, 527, 2064, 1041, 3088, 2067, 17, 25, 54...</td>\n",
       "      <td>[1263, 926, 2247, 1150, 232, 541, 1968, 322, 2...</td>\n",
       "    </tr>\n",
       "    <tr>\n",
       "      <th>1</th>\n",
       "      <td>2</td>\n",
       "      <td>{783, 276, 153, 282, 539, 31, 34, 551, 552, 29...</td>\n",
       "      <td>[34, 595, 186, 185, 276, 552, 364, 551, 594, 3...</td>\n",
       "    </tr>\n",
       "    <tr>\n",
       "      <th>2</th>\n",
       "      <td>3</td>\n",
       "      <td>{2, 1031, 1544, 10, 11, 527, 17, 534, 26, 539,...</td>\n",
       "      <td>[1375, 552, 357, 1090, 1957, 1721, 858, 1544, ...</td>\n",
       "    </tr>\n",
       "    <tr>\n",
       "      <th>3</th>\n",
       "      <td>7</td>\n",
       "      <td>{265, 19, 531, 21, 150, 153, 410, 539, 288, 16...</td>\n",
       "      <td>[162, 296, 588, 508, 208, 590, 150, 318, 349, ...</td>\n",
       "    </tr>\n",
       "    <tr>\n",
       "      <th>4</th>\n",
       "      <td>8</td>\n",
       "      <td>{6016, 4226, 260, 44555, 55820, 2959, 912, 527...</td>\n",
       "      <td>[27773, 7361, 30707, 30749, 4226, 47, 44555, 3...</td>\n",
       "    </tr>\n",
       "    <tr>\n",
       "      <th>5</th>\n",
       "      <td>9</td>\n",
       "      <td>{3328, 3972, 33672, 3081, 8957, 1673, 2700, 50...</td>\n",
       "      <td>[3081, 2542, 38061, 2329, 3275, 5026, 1500, 38...</td>\n",
       "    </tr>\n",
       "    <tr>\n",
       "      <th>6</th>\n",
       "      <td>10</td>\n",
       "      <td>{169984, 1, 122882, 2, 122886, 45062, 10, 6964...</td>\n",
       "      <td>[168252, 122904, 122886, 112852, 33493, 527, 7...</td>\n",
       "    </tr>\n",
       "    <tr>\n",
       "      <th>7</th>\n",
       "      <td>13</td>\n",
       "      <td>{6, 2058, 2571, 1036, 1674, 11, 527, 912, 920,...</td>\n",
       "      <td>[1088, 587, 1704, 1240, 2359, 457, 1233, 593, ...</td>\n",
       "    </tr>\n",
       "    <tr>\n",
       "      <th>8</th>\n",
       "      <td>14</td>\n",
       "      <td>{33410, 5768, 4619, 7437, 4622, 7706, 4510, 87...</td>\n",
       "      <td>[4510, 4622, 8871, 8734, 5768, 3911, 4816, 776...</td>\n",
       "    </tr>\n",
       "    <tr>\n",
       "      <th>9</th>\n",
       "      <td>15</td>\n",
       "      <td>{3079, 1032, 17, 18, 5668, 74789, 39, 56367, 1...</td>\n",
       "      <td>[55247, 2918, 147, 1968, 47610, 4246, 1079, 27...</td>\n",
       "    </tr>\n",
       "  </tbody>\n",
       "</table>\n",
       "</div>"
      ]
     },
     "execution_count": 28,
     "metadata": {},
     "output_type": "execute_result"
    }
   ],
   "execution_count": 28
  },
  {
   "metadata": {},
   "cell_type": "markdown",
   "source": "## Zapis do pliku",
   "id": "bdd025b6d3a12e23"
  },
  {
   "metadata": {
    "ExecuteTime": {
     "end_time": "2025-07-30T15:28:19.806775Z",
     "start_time": "2025-07-30T15:28:12.542829Z"
    }
   },
   "cell_type": "code",
   "source": "user_ratings.to_parquet('../data/ratings_groupped_20pos.parquet', compression='brotli')",
   "id": "8686634d3f2d69eb",
   "outputs": [],
   "execution_count": 29
  },
  {
   "cell_type": "markdown",
   "id": "3b226d4e",
   "metadata": {},
   "source": "# Zgrupowanie danych po userId i rozdzielenie ocenionych filmów na pozytywne i negatywne"
  },
  {
   "cell_type": "code",
   "id": "3f5f7178",
   "metadata": {
    "ExecuteTime": {
     "end_time": "2025-07-30T15:28:19.874437Z",
     "start_time": "2025-07-30T15:28:19.858606Z"
    }
   },
   "source": [
    "# pos_df = df[df['rating'] >= 4].groupby('userId')['movieId'].apply(list).reset_index(name='pos')\n",
    "# neg_df = df[df['rating'] < 4].groupby('userId')['movieId'].apply(list).reset_index(name='neg')\n",
    "#\n",
    "# print(pos_df.head())\n",
    "#\n",
    "# user_ratings = pd.merge(pos_df, neg_df, on='userId', how='outer')\n",
    "#\n",
    "# print(user_ratings.info())\n",
    "#\n",
    "# user_ratings['pos'] = user_ratings['pos'].apply(lambda x: x if isinstance(x, list) else [])\n",
    "# user_ratings['neg'] = user_ratings['neg'].apply(lambda x: x if isinstance(x, list) else [])\n",
    "#\n",
    "# user_ratings = user_ratings.reset_index(drop=True)\n",
    "#\n",
    "# print(user_ratings.info())\n",
    "# print(user_ratings.head())"
   ],
   "outputs": [],
   "execution_count": 30
  },
  {
   "metadata": {},
   "cell_type": "markdown",
   "source": "## Zapis do pliku",
   "id": "844d78fd1d34368c"
  },
  {
   "metadata": {
    "ExecuteTime": {
     "end_time": "2025-07-30T15:28:19.920852Z",
     "start_time": "2025-07-30T15:28:19.917614Z"
    }
   },
   "cell_type": "code",
   "source": "# user_ratings.to_parquet('../data/ratings_groupped_ids.parquet', compression='brotli')",
   "id": "12f5053d0c9bc1b8",
   "outputs": [],
   "execution_count": 31
  },
  {
   "metadata": {},
   "cell_type": "markdown",
   "source": "# Zgrupowanie danych po userId i rozdzielenie ocenionych filmów na pozytywne i neg (z wagami)",
   "id": "510cee8e34c233a1"
  },
  {
   "metadata": {
    "ExecuteTime": {
     "end_time": "2025-07-30T15:28:19.950581Z",
     "start_time": "2025-07-30T15:28:19.944087Z"
    }
   },
   "cell_type": "code",
   "source": [
    "# def rating_weight(r):\n",
    "#     if r >= 4:\n",
    "#         return 1.0\n",
    "#     elif r >= 3:\n",
    "#         return 0.5\n",
    "#     else:\n",
    "#         return 0.2\n",
    "#\n",
    "# df['weight'] = df['rating'].apply(rating_weight)\n",
    "#\n",
    "# pos_df = df[df['rating'] >= 4].groupby('userId')['movieId'].apply(list).reset_index(name='pos')\n",
    "# neg_df = df[df['rating'] < 4].groupby('userId')['movieId'].apply(list).reset_index(name='neg')\n",
    "#\n",
    "# print(pos_df.head())\n",
    "#\n",
    "# user_ratings = pd.merge(pos_df, neg_df, on='userId', how='outer')\n",
    "#\n",
    "# print(user_ratings.info())\n",
    "#\n",
    "# user_ratings['pos'] = user_ratings['pos'].apply(lambda x: x if isinstance(x, list) else [])\n",
    "# user_ratings['neg'] = user_ratings['neg'].apply(lambda x: x if isinstance(x, list) else [])\n",
    "#\n",
    "# user_ratings = user_ratings.reset_index(drop=True)\n",
    "#\n",
    "# def attach_weights(row):\n",
    "#     uid = row['userId']\n",
    "#     grp = df[df['userId'] == uid]\n",
    "#     pos_w = [(mid, w) for mid, w in zip(\n",
    "#         grp.loc[grp['rating'] >= 4, 'movieId'],\n",
    "#         grp.loc[grp['rating'] >= 4, 'weight']\n",
    "#     )]\n",
    "#     neg_w = [(mid, w) for mid, w in zip(\n",
    "#         grp.loc[grp['rating'] < 4, 'movieId'],\n",
    "#         grp.loc[grp['rating'] < 4, 'weight']\n",
    "#     )]\n",
    "#     return pd.Series({'pos_w': pos_w, 'neg_w': neg_w})\n",
    "#\n",
    "# user_ratings = user_ratings.join(\n",
    "#     user_ratings.apply(attach_weights, axis=1)\n",
    "# )\n",
    "#\n",
    "# print(user_ratings.info())\n",
    "# print(user_ratings.head())"
   ],
   "id": "a674e0ddcb4f1c99",
   "outputs": [],
   "execution_count": 32
  },
  {
   "cell_type": "markdown",
   "id": "47b78966",
   "metadata": {},
   "source": [
    "## Zapis do pliku"
   ]
  },
  {
   "cell_type": "code",
   "id": "e78bd943",
   "metadata": {
    "ExecuteTime": {
     "end_time": "2025-07-30T15:28:19.986408Z",
     "start_time": "2025-07-30T15:28:19.983949Z"
    }
   },
   "source": "# user_ratings.to_parquet('../data/ratings_groupped_ids_weights.parquet', compression='brotli')",
   "outputs": [],
   "execution_count": 33
  }
 ],
 "metadata": {
  "kernelspec": {
   "display_name": "base",
   "language": "python",
   "name": "python3"
  },
  "language_info": {
   "codemirror_mode": {
    "name": "ipython",
    "version": 3
   },
   "file_extension": ".py",
   "mimetype": "text/x-python",
   "name": "python",
   "nbconvert_exporter": "python",
   "pygments_lexer": "ipython3",
   "version": "3.12.2"
  }
 },
 "nbformat": 4,
 "nbformat_minor": 5
}
