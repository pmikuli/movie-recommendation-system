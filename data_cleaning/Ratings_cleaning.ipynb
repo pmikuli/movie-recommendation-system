{
 "cells": [
  {
   "cell_type": "code",
   "id": "58870a65",
   "metadata": {
    "ExecuteTime": {
     "end_time": "2025-07-29T14:35:09.575512Z",
     "start_time": "2025-07-29T14:35:09.561447Z"
    }
   },
   "source": [
    "import pandas as pd\n",
    "import numpy as np"
   ],
   "outputs": [],
   "execution_count": 75
  },
  {
   "cell_type": "code",
   "id": "f3eae10e",
   "metadata": {
    "ExecuteTime": {
     "end_time": "2025-07-29T14:35:50.922517Z",
     "start_time": "2025-07-29T14:35:09.598684Z"
    }
   },
   "source": "df = pd.read_csv('../data/ratings_improved.csv', parse_dates=['timestamp'])",
   "outputs": [],
   "execution_count": 76
  },
  {
   "metadata": {
    "ExecuteTime": {
     "end_time": "2025-07-29T14:35:51.238180Z",
     "start_time": "2025-07-29T14:35:50.959208Z"
    }
   },
   "cell_type": "code",
   "source": [
    "users_train = pd.read_csv('../data/user_features_train.csv')\n",
    "users_test = pd.read_csv('../data/user_features_test.csv')"
   ],
   "id": "c772292191aba4ad",
   "outputs": [],
   "execution_count": 77
  },
  {
   "cell_type": "code",
   "id": "1b2cb2ae",
   "metadata": {
    "ExecuteTime": {
     "end_time": "2025-07-29T14:35:51.295397Z",
     "start_time": "2025-07-29T14:35:51.274909Z"
    }
   },
   "source": [
    "print(df.info())\n",
    "print(df.head())"
   ],
   "outputs": [
    {
     "name": "stdout",
     "output_type": "stream",
     "text": [
      "<class 'pandas.core.frame.DataFrame'>\n",
      "RangeIndex: 32000204 entries, 0 to 32000203\n",
      "Data columns (total 5 columns):\n",
      " #   Column       Dtype         \n",
      "---  ------       -----         \n",
      " 0   userId       int64         \n",
      " 1   movieId      int64         \n",
      " 2   rating       float64       \n",
      " 3   timestamp    datetime64[ns]\n",
      " 4   day_of_week  int64         \n",
      "dtypes: datetime64[ns](1), float64(1), int64(3)\n",
      "memory usage: 1.2 GB\n",
      "None\n",
      "   userId  movieId  rating           timestamp  day_of_week\n",
      "0       1       17     4.0 1999-12-03 19:24:37            4\n",
      "1       1       25     1.0 1999-12-03 19:43:48            4\n",
      "2       1       29     2.0 1999-11-22 00:36:16            0\n",
      "3       1       30     5.0 1999-12-03 19:24:37            4\n",
      "4       1       32     5.0 1999-11-22 00:00:58            0\n"
     ]
    }
   ],
   "execution_count": 78
  },
  {
   "cell_type": "markdown",
   "id": "54205e73",
   "metadata": {},
   "source": [
    "# Sprawdzenie czy dane zgadzają się z danymi z pozostałych zbiorów danych"
   ]
  },
  {
   "cell_type": "code",
   "id": "9df12bb4",
   "metadata": {
    "ExecuteTime": {
     "end_time": "2025-07-29T14:35:54.959945Z",
     "start_time": "2025-07-29T14:35:51.423855Z"
    }
   },
   "source": [
    "def check_with_other_datasets(df, users):\n",
    "    movies = pd.read_parquet('../data/Movies_clean_Vec_v4_25keywords.parquet')\n",
    "\n",
    "    print('Number of users matches with user_features.csv:', df['userId'].nunique() == users['userId'].nunique())\n",
    "    print('Number of movies in ratings:', df['movieId'].nunique(), 'Number of movies in Movies_clean_Vec_v4:', movies['movieId'].nunique())\n",
    "\n",
    "    missing_movie_ids = df[~df['movieId'].isin(movies['movieId'])]\n",
    "    print('Number of movies that are in ratings, but are not in Movies_clean_Vec_v4', missing_movie_ids['movieId'].nunique())\n",
    "    \n",
    "    print('Number of ratings to delete:', missing_movie_ids.shape[0])\n",
    "    print('Current length:', df.shape)\n",
    "    df = df[~df['movieId'].isin(missing_movie_ids['movieId'])]\n",
    "    print('Length after deleting:', df.shape)\n",
    "\n",
    "    user_counts = missing_movie_ids['userId'].value_counts().reset_index()\n",
    "    user_counts.columns = ['userId', 'count']\n",
    "\n",
    "    users_with_deleted_ratings = users[users['userId'].isin(missing_movie_ids['userId'])]\n",
    "    print(users_with_deleted_ratings.head(3))\n",
    "    print(len(users_with_deleted_ratings), len(users))\n",
    "    merged = users_with_deleted_ratings.merge(user_counts, on='userId', how='left')\n",
    "    merged['count'] = merged['count'].fillna(0)\n",
    "\n",
    "    merged['remaining_ratings'] = merged['num_rating'] - merged['count']\n",
    "    filtered = merged[merged['remaining_ratings'] < 20]\n",
    "\n",
    "    print('Number of users to delete', filtered.shape)\n",
    "    print('Deleting users that have less than 20 reviews...')\n",
    "    users = users[~users['userId'].isin(filtered['userId'])]\n",
    "    df = df[~df['userId'].isin(filtered['userId'])]\n",
    "    \n",
    "    print('Written to user_features_2.csv')\n",
    "\n",
    "    return df, users\n",
    "\n",
    "\n",
    "df, users_train = check_with_other_datasets(df, users_train)\n",
    "df, users_test = check_with_other_datasets(df, users_test)"
   ],
   "outputs": [
    {
     "name": "stdout",
     "output_type": "stream",
     "text": [
      "Number of users matches with user_features.csv: False\n",
      "Number of movies in ratings: 84432 Number of movies in Movies_clean_Vec_v4: 84133\n",
      "Number of movies that are in ratings, but are not in Movies_clean_Vec_v4 299\n",
      "Number of ratings to delete: 326\n",
      "Current length: (32000204, 5)\n",
      "Length after deleting: (31999878, 5)\n",
      "      userId  num_rating  avg_rating  weekend_watcher type_of_viewer  \\\n",
      "4173    5208          22    3.704545                0        neutral   \n",
      "5220    6515          39    3.217949                0        neutral   \n",
      "5582    6955          28    4.000000                0        neutral   \n",
      "\n",
      "      genre_Action  genre_Adventure  genre_Animation  genre_Comedy  \\\n",
      "4173      3.000000              NaN             4.50      3.875000   \n",
      "5220      3.250000         3.388889             2.00      2.333333   \n",
      "5582      3.916667         3.500000             3.25      3.666667   \n",
      "\n",
      "      genre_Crime  ...  genre_History  genre_Horror  genre_Musical  \\\n",
      "4173     3.500000  ...            NaN           NaN            NaN   \n",
      "5220     3.833333  ...            1.5           4.5            3.0   \n",
      "5582     4.437500  ...            4.0           4.5            NaN   \n",
      "\n",
      "      genre_Mystery  genre_Romance  genre_Science Fiction  genre_TV Movie  \\\n",
      "4173       3.250000       3.642857               2.500000             NaN   \n",
      "5220       3.000000       2.500000               3.388889             NaN   \n",
      "5582       3.833333       4.250000               3.700000             NaN   \n",
      "\n",
      "      genre_Thriller  genre_War  genre_Western  \n",
      "4173             NaN   4.000000            NaN  \n",
      "5220        3.583333   1.500000            NaN  \n",
      "5582        4.125000   4.166667            3.5  \n",
      "\n",
      "[3 rows x 24 columns]\n",
      "130 160758\n",
      "Number of users to delete (5, 26)\n",
      "Deleting users that have less than 20 reviews...\n",
      "Written to user_features_2.csv\n",
      "Number of users matches with user_features.csv: False\n",
      "Number of movies in ratings: 84133 Number of movies in Movies_clean_Vec_v4: 84133\n",
      "Number of movies that are in ratings, but are not in Movies_clean_Vec_v4 0\n",
      "Number of ratings to delete: 0\n",
      "Current length: (31999785, 5)\n",
      "Length after deleting: (31999785, 5)\n",
      "Empty DataFrame\n",
      "Columns: [userId, num_rating, avg_rating, weekend_watcher, type_of_viewer, genre_Action, genre_Adventure, genre_Animation, genre_Comedy, genre_Crime, genre_Documentary, genre_Drama, genre_Family, genre_Fantasy, genre_History, genre_Horror, genre_Musical, genre_Mystery, genre_Romance, genre_Science Fiction, genre_TV Movie, genre_Thriller, genre_War, genre_Western]\n",
      "Index: []\n",
      "\n",
      "[0 rows x 24 columns]\n",
      "0 40190\n",
      "Number of users to delete (0, 26)\n",
      "Deleting users that have less than 20 reviews...\n",
      "Written to user_features_2.csv\n"
     ]
    }
   ],
   "execution_count": 79
  },
  {
   "metadata": {},
   "cell_type": "markdown",
   "source": "# Usunięcie użytkowników, którzy nie mają minimum 20 pozytywnych ocen (neg beda dobieranie z nie-ogladanych)",
   "id": "d697c5b1dee84058"
  },
  {
   "metadata": {
    "ExecuteTime": {
     "end_time": "2025-07-29T14:36:01.494263Z",
     "start_time": "2025-07-29T14:35:55.000478Z"
    }
   },
   "cell_type": "code",
   "source": [
    "POSITIVE_THRESHOLD = 4\n",
    "MIN_POS = 20\n",
    "\n",
    "pos_counts = (\n",
    "    df\n",
    "    .groupby('userId')['rating']\n",
    "    .apply(lambda x: (x >= POSITIVE_THRESHOLD).sum())\n",
    ")\n",
    "\n",
    "valid_users = pos_counts[pos_counts >= MIN_POS].index"
   ],
   "id": "1a29470c297b6004",
   "outputs": [],
   "execution_count": 80
  },
  {
   "metadata": {
    "ExecuteTime": {
     "end_time": "2025-07-29T14:36:01.521050Z",
     "start_time": "2025-07-29T14:36:01.516973Z"
    }
   },
   "cell_type": "code",
   "source": [
    "total_users = pos_counts.shape[0]\n",
    "kept_users = valid_users.size\n",
    "removed_users = total_users - kept_users\n",
    "\n",
    "print(f'Total users      : {total_users}')\n",
    "print(f'Users kept       : {kept_users}')\n",
    "print(f'Users removed    : {removed_users} '\n",
    "      f'({removed_users/total_users*100:.2f}%)')"
   ],
   "id": "18b0afe97198cfeb",
   "outputs": [
    {
     "name": "stdout",
     "output_type": "stream",
     "text": [
      "Total users      : 200943\n",
      "Users kept       : 157023\n",
      "Users removed    : 43920 (21.86%)\n"
     ]
    }
   ],
   "execution_count": 81
  },
  {
   "metadata": {
    "ExecuteTime": {
     "end_time": "2025-07-29T14:36:02.383188Z",
     "start_time": "2025-07-29T14:36:01.662090Z"
    }
   },
   "cell_type": "code",
   "source": [
    "df = df[df['userId'].isin(valid_users)].copy()\n",
    "\n",
    "print('\\nAfter filtering:')\n",
    "print(df.info())"
   ],
   "id": "a865d41afd80c63",
   "outputs": [
    {
     "name": "stdout",
     "output_type": "stream",
     "text": [
      "\n",
      "After filtering:\n",
      "<class 'pandas.core.frame.DataFrame'>\n",
      "Index: 30594215 entries, 0 to 32000203\n",
      "Data columns (total 5 columns):\n",
      " #   Column       Dtype         \n",
      "---  ------       -----         \n",
      " 0   userId       int64         \n",
      " 1   movieId      int64         \n",
      " 2   rating       float64       \n",
      " 3   timestamp    datetime64[ns]\n",
      " 4   day_of_week  int64         \n",
      "dtypes: datetime64[ns](1), float64(1), int64(3)\n",
      "memory usage: 1.4 GB\n",
      "None\n"
     ]
    }
   ],
   "execution_count": 82
  },
  {
   "cell_type": "markdown",
   "id": "ba4306b1",
   "metadata": {},
   "source": [
    "# Usunięcie użytkowników, którzy nie mają minimum 1 oceny pozytywnej i negatywnej\n",
    "Trening User Tower bez wykorzystania Item Tower wymaga aby użytkownik miał co najmniej 1 pozytywną ocenę i jedną negatywną ocenę. Użytkownicy z samymi pozytywnymi/negatywnymi ocenami muszą zostać usunięci."
   ]
  },
  {
   "cell_type": "code",
   "id": "62e3e514",
   "metadata": {
    "ExecuteTime": {
     "end_time": "2025-07-29T14:36:02.412884Z",
     "start_time": "2025-07-29T14:36:02.407603Z"
    }
   },
   "source": [
    "# POSITIVE_THRESHOLD = 4\n",
    "#\n",
    "# groupped = df.groupby('userId')\n",
    "#\n",
    "# valid_users = set()\n",
    "# for userId, group in groupped:\n",
    "#     pos = group[group['rating'] >= POSITIVE_THRESHOLD]\n",
    "#     neg = group[group['rating'] < POSITIVE_THRESHOLD]\n",
    "#     if not pos.empty and not neg.empty:\n",
    "#         valid_users.add(userId)\n",
    "#\n",
    "# df = df[df['userId'].isin(valid_users)]\n",
    "# print(df.info())"
   ],
   "outputs": [],
   "execution_count": 83
  },
  {
   "cell_type": "markdown",
   "id": "0e0e928c",
   "metadata": {},
   "source": [
    "# Usunięcie usuniętych użytkowników ze zbioru danych user_features i zapis go do pliku"
   ]
  },
  {
   "cell_type": "code",
   "id": "8dd22cb1",
   "metadata": {
    "ExecuteTime": {
     "end_time": "2025-07-29T14:36:03.644189Z",
     "start_time": "2025-07-29T14:36:02.584358Z"
    }
   },
   "source": [
    "users_Tr = users_train[users_train['userId'].isin(valid_users)]\n",
    "\n",
    "users_Tr.to_csv('../data/user_features_train_2.csv', index=False)"
   ],
   "outputs": [],
   "execution_count": 84
  },
  {
   "metadata": {
    "ExecuteTime": {
     "end_time": "2025-07-29T14:36:03.992125Z",
     "start_time": "2025-07-29T14:36:03.679620Z"
    }
   },
   "cell_type": "code",
   "source": [
    "users_Te = users_test[users_test['userId'].isin(valid_users)]\n",
    "\n",
    "users_Te.to_csv('../data/user_features_test_2.csv', index=False)"
   ],
   "id": "31204d100d3dd89f",
   "outputs": [],
   "execution_count": 85
  },
  {
   "metadata": {},
   "cell_type": "markdown",
   "source": "# Normalizacja i przetwarzanie timestamp-ow",
   "id": "e2b7794ad480eb0b"
  },
  {
   "metadata": {
    "ExecuteTime": {
     "end_time": "2025-07-29T14:36:04.131586Z",
     "start_time": "2025-07-29T14:36:04.028385Z"
    }
   },
   "cell_type": "code",
   "source": "df['ts_sec'] = df['timestamp'].astype('int64') // 10**9",
   "id": "bb5a0f03d632a6fc",
   "outputs": [],
   "execution_count": 86
  },
  {
   "metadata": {
    "ExecuteTime": {
     "end_time": "2025-07-29T14:36:04.384842Z",
     "start_time": "2025-07-29T14:36:04.185072Z"
    }
   },
   "cell_type": "code",
   "source": [
    "'''\n",
    "Dzielimy odpowiednio na zbior ratingow w zbiorze treningowym i testowym\n",
    "'''\n",
    "train_mask = df['userId'].isin(users_train['userId'])\n",
    "test_mask = df['userId'].isin(users_test['userId'])"
   ],
   "id": "5cf273cd144560ef",
   "outputs": [],
   "execution_count": 87
  },
  {
   "metadata": {
    "ExecuteTime": {
     "end_time": "2025-07-29T14:36:05.550614Z",
     "start_time": "2025-07-29T14:36:04.429912Z"
    }
   },
   "cell_type": "code",
   "source": [
    "df_train_ratings = df.loc[train_mask].copy()\n",
    "df_test_ratings = df.loc[test_mask].copy()\n",
    "\n",
    "print(f\"Train ratings: {len(df_train_ratings):,}\")\n",
    "print(f\"Test ratings: {len(df_test_ratings):,}\")"
   ],
   "id": "d10a0de6c25e363a",
   "outputs": [
    {
     "name": "stdout",
     "output_type": "stream",
     "text": [
      "Train ratings: 24,477,775\n",
      "Test ratings: 6,116,440\n"
     ]
    }
   ],
   "execution_count": 88
  },
  {
   "metadata": {
    "ExecuteTime": {
     "end_time": "2025-07-29T14:36:05.998593Z",
     "start_time": "2025-07-29T14:36:05.587314Z"
    }
   },
   "cell_type": "code",
   "source": [
    "train_cutoff = df_train_ratings['ts_sec'].max()\n",
    "\n",
    "df_train_ratings['age_days'] = (train_cutoff - df_train_ratings['ts_sec']) / 86400\n",
    "df_train_ratings['age_days'] = df_train_ratings['age_days'].clip(0, 3650)\n",
    "\n",
    "df_test_ratings['age_days'] = (train_cutoff - df_test_ratings['ts_sec']) / 86400\n",
    "df_test_ratings['age_days'] = df_test_ratings['age_days'].clip(0, 3650)\n",
    "\n",
    "print(f\"Train age_days range: {df_train_ratings['age_days'].min():.1f} - {df_train_ratings['age_days'].max():.1f}\")\n",
    "print(f\"Test age_days range: {df_test_ratings['age_days'].min():.1f} - {df_test_ratings['age_days'].max():.1f}\")"
   ],
   "id": "85118eb9c2dd829a",
   "outputs": [
    {
     "name": "stdout",
     "output_type": "stream",
     "text": [
      "Train age_days range: 0.0 - 3650.0\n",
      "Test age_days range: 0.0 - 3650.0\n"
     ]
    }
   ],
   "execution_count": 89
  },
  {
   "metadata": {
    "ExecuteTime": {
     "end_time": "2025-07-29T14:36:34.282650Z",
     "start_time": "2025-07-29T14:36:06.007344Z"
    }
   },
   "cell_type": "code",
   "source": [
    "def jitter_data(df):\n",
    "    np.random.seed(42)\n",
    "    jitter_std = 0.05\n",
    "    jitter = np.random.normal(0, jitter_std, len(df))\n",
    "\n",
    "    df_grouped = df.groupby(['userId', 'age_days']).size()\n",
    "    duplicates_mask = df.set_index(['userId', 'age_days']).index.isin(df_grouped[df_grouped > 1].index)\n",
    "\n",
    "    df.loc[duplicates_mask, 'age_days_jittered'] = (df.loc[duplicates_mask, 'age_days'] + jitter[duplicates_mask])\n",
    "    df.loc[~duplicates_mask, 'age_days_jittered'] = df.loc[~duplicates_mask, 'age_days']\n",
    "\n",
    "    before_duplicates = df.groupby(['userId', 'age_days']).size().max()\n",
    "    after_duplicates = df.groupby(['userId', 'age_days_jittered']).size().max()\n",
    "\n",
    "    print(f\"Max duplikatów przed: {before_duplicates}\")\n",
    "    print(f\"Max duplikatów po: {after_duplicates}\")\n",
    "\n",
    "    return df\n",
    "\n",
    "df_test_ratings = jitter_data(df_test_ratings)\n",
    "df_train_ratings = jitter_data(df_train_ratings)"
   ],
   "id": "83d63c05e09d5260",
   "outputs": [
    {
     "name": "stdout",
     "output_type": "stream",
     "text": [
      "Max duplikatów przed: 5410\n",
      "Max duplikatów po: 1\n",
      "Max duplikatów przed: 8983\n",
      "Max duplikatów po: 1\n"
     ]
    }
   ],
   "execution_count": 90
  },
  {
   "metadata": {
    "ExecuteTime": {
     "end_time": "2025-07-29T14:36:35.034738Z",
     "start_time": "2025-07-29T14:36:34.333504Z"
    }
   },
   "cell_type": "code",
   "source": [
    "df_train_ratings.head(100)\n",
    "df_train_ratings['age_days'] = df_train_ratings['age_days_jittered'].astype('float32')\n",
    "df_test_ratings['age_days'] = df_train_ratings['age_days_jittered'].astype('float32')"
   ],
   "id": "84c3719d9a16cebc",
   "outputs": [],
   "execution_count": 91
  },
  {
   "metadata": {
    "ExecuteTime": {
     "end_time": "2025-07-29T14:36:35.974659Z",
     "start_time": "2025-07-29T14:36:35.056132Z"
    }
   },
   "cell_type": "code",
   "source": [
    "from sklearn.preprocessing import StandardScaler\n",
    "\n",
    "columns_to_normalize = ['age_days']\n",
    "\n",
    "scaler = StandardScaler().fit(df_train_ratings[columns_to_normalize])\n",
    "\n",
    "df_train_scaled = df_train_ratings.copy()\n",
    "df_test_scaled = df_test_ratings.copy()\n",
    "\n",
    "df_train_scaled[columns_to_normalize] = scaler.transform(df_train_ratings[columns_to_normalize])\n",
    "df_test_scaled[columns_to_normalize] = scaler.transform(df_test_ratings[columns_to_normalize])\n",
    "\n",
    "train_mean = df_train_scaled['age_days'].mean()\n",
    "train_std = df_train_scaled['age_days'].std()\n",
    "\n",
    "print(f\"Train po normalizacji: mean={train_mean:.3f}, std={train_std:.3f}\")"
   ],
   "id": "d2ecd001425c38d6",
   "outputs": [
    {
     "name": "stdout",
     "output_type": "stream",
     "text": [
      "Train po normalizacji: mean=0.000, std=1.000\n"
     ]
    }
   ],
   "execution_count": 92
  },
  {
   "metadata": {
    "ExecuteTime": {
     "end_time": "2025-07-29T14:36:36.031124Z",
     "start_time": "2025-07-29T14:36:36.010906Z"
    }
   },
   "cell_type": "code",
   "source": "df.info()",
   "id": "f187f0f4349e790a",
   "outputs": [
    {
     "name": "stdout",
     "output_type": "stream",
     "text": [
      "<class 'pandas.core.frame.DataFrame'>\n",
      "Index: 30594215 entries, 0 to 32000203\n",
      "Data columns (total 6 columns):\n",
      " #   Column       Dtype         \n",
      "---  ------       -----         \n",
      " 0   userId       int64         \n",
      " 1   movieId      int64         \n",
      " 2   rating       float64       \n",
      " 3   timestamp    datetime64[ns]\n",
      " 4   day_of_week  int64         \n",
      " 5   ts_sec       int64         \n",
      "dtypes: datetime64[ns](1), float64(1), int64(4)\n",
      "memory usage: 1.6 GB\n"
     ]
    }
   ],
   "execution_count": 93
  },
  {
   "metadata": {
    "ExecuteTime": {
     "end_time": "2025-07-29T14:36:40.707985Z",
     "start_time": "2025-07-29T14:36:36.159574Z"
    }
   },
   "cell_type": "code",
   "source": [
    "df_train_scaled['split'] = 'train'\n",
    "df_test_scaled['split'] = 'test'\n",
    "\n",
    "df = pd.concat([df_train_scaled, df_test_scaled], ignore_index=True)\n",
    "\n",
    "df = df.sort_values('userId').reset_index(drop=True)\n",
    "\n",
    "print(f\" - Total records: {len(df):,}\")\n",
    "print(f\" - Train records: {(df['split'] == 'train').sum():,}\")\n",
    "print(f\" - Test records: {(df['split'] == 'test').sum():,}\")"
   ],
   "id": "9e3c5189f665e780",
   "outputs": [
    {
     "name": "stdout",
     "output_type": "stream",
     "text": [
      " - Total records: 30,594,215\n",
      " - Train records: 24,477,775\n",
      " - Test records: 6,116,440\n"
     ]
    }
   ],
   "execution_count": 94
  },
  {
   "metadata": {
    "ExecuteTime": {
     "end_time": "2025-07-29T14:36:41.053184Z",
     "start_time": "2025-07-29T14:36:40.764397Z"
    }
   },
   "cell_type": "code",
   "source": "df = df.drop(columns=['ts_sec', 'timestamp', 'split', 'age_days_jittered'])",
   "id": "d4d9c28e763e1c88",
   "outputs": [],
   "execution_count": 95
  },
  {
   "metadata": {
    "ExecuteTime": {
     "end_time": "2025-07-29T14:36:41.070044Z",
     "start_time": "2025-07-29T14:36:41.053984Z"
    }
   },
   "cell_type": "code",
   "source": "df.info()",
   "id": "31298435e4391113",
   "outputs": [
    {
     "name": "stdout",
     "output_type": "stream",
     "text": [
      "<class 'pandas.core.frame.DataFrame'>\n",
      "RangeIndex: 30594215 entries, 0 to 30594214\n",
      "Data columns (total 5 columns):\n",
      " #   Column       Dtype  \n",
      "---  ------       -----  \n",
      " 0   userId       int64  \n",
      " 1   movieId      int64  \n",
      " 2   rating       float64\n",
      " 3   day_of_week  int64  \n",
      " 4   age_days     float32\n",
      "dtypes: float32(1), float64(1), int64(3)\n",
      "memory usage: 1.0 GB\n"
     ]
    }
   ],
   "execution_count": 96
  },
  {
   "cell_type": "markdown",
   "id": "17ba3b72",
   "metadata": {},
   "source": [
    "# Zapis do pliku"
   ]
  },
  {
   "cell_type": "code",
   "id": "36c4aeac",
   "metadata": {
    "ExecuteTime": {
     "end_time": "2025-07-29T14:36:47.885177Z",
     "start_time": "2025-07-29T14:36:41.105630Z"
    }
   },
   "source": "df.to_parquet('../data/ratings_clean.parquet', compression='brotli')",
   "outputs": [],
   "execution_count": 97
  },
  {
   "cell_type": "code",
   "id": "b76f7e51",
   "metadata": {
    "ExecuteTime": {
     "end_time": "2025-07-29T14:36:47.956286Z",
     "start_time": "2025-07-29T14:36:47.940600Z"
    }
   },
   "source": "print(df.head())",
   "outputs": [
    {
     "name": "stdout",
     "output_type": "stream",
     "text": [
      "   userId  movieId  rating  day_of_week  age_days\n",
      "0       1       17     4.0            4  0.716060\n",
      "1       1     2064     3.0            2  0.716029\n",
      "2       1     2028     3.0            0  0.715999\n",
      "3       1     2025     5.0            4  0.716021\n",
      "4       1     2020     5.0            4  0.716017\n"
     ]
    }
   ],
   "execution_count": 98
  },
  {
   "cell_type": "markdown",
   "id": "c24ca630",
   "metadata": {},
   "source": "# Zapisanie zgrupowanych danych"
  },
  {
   "cell_type": "code",
   "id": "8dde1929",
   "metadata": {
    "ExecuteTime": {
     "end_time": "2025-07-29T14:37:05.958915Z",
     "start_time": "2025-07-29T14:36:48.081434Z"
    }
   },
   "source": [
    "groupped = df.sort_values(['userId', 'age_days'], ascending=[True, True])\n",
    "groupped = groupped.groupby('userId').head(20).sort_values(['userId', 'age_days'])\n",
    "groupped = groupped.groupby('userId').agg(movies_seq = ('movieId', list), ratings_seq = ('rating', list), ts_seq = ('age_days', list)).reset_index()\n",
    "\n",
    "print(groupped.head())\n",
    "print(groupped.info())\n",
    "\n",
    "# Sprawdzenie czy wszystkie movies_seq mają minimum 20 filmów\n",
    "assert groupped['movies_seq'].apply(len).eq(20).all()\n",
    "\n",
    "groupped.to_parquet('../data/ratings_clean_groupped_20.parquet', compression='brotli')"
   ],
   "outputs": [
    {
     "name": "stdout",
     "output_type": "stream",
     "text": [
      "   userId                                         movies_seq  \\\n",
      "0       1  [1263, 1296, 926, 2247, 223, 1150, 232, 2882, ...   \n",
      "1       2  [34, 595, 186, 185, 276, 552, 296, 364, 551, 5...   \n",
      "2       3  [1375, 552, 2701, 357, 367, 1090, 1957, 1721, ...   \n",
      "3       7  [457, 380, 410, 432, 434, 435, 440, 367, 468, ...   \n",
      "4       8  [27773, 30749, 30707, 7361, 4226, 47, 32, 4455...   \n",
      "\n",
      "                                         ratings_seq  \\\n",
      "0  [5.0, 3.0, 5.0, 5.0, 3.0, 4.0, 5.0, 1.0, 1.0, ...   \n",
      "1  [5.0, 5.0, 5.0, 5.0, 4.0, 4.0, 1.0, 5.0, 4.0, ...   \n",
      "2  [4.0, 4.0, 3.0, 4.0, 2.5, 4.0, 5.0, 4.0, 3.0, ...   \n",
      "3  [3.0, 2.0, 4.0, 3.0, 3.0, 2.0, 4.0, 3.0, 4.0, ...   \n",
      "4  [5.0, 5.0, 4.0, 4.5, 4.5, 5.0, 4.0, 4.5, 3.5, ...   \n",
      "\n",
      "                                              ts_seq  \n",
      "0  [0.7159150838851929, 0.7159445285797119, 0.715...  \n",
      "1  [0.7159621715545654, 0.7159664630889893, 0.715...  \n",
      "2  [0.7158863544464111, 0.7159426808357239, 0.715...  \n",
      "3  [nan, nan, nan, nan, nan, nan, nan, nan, nan, ...  \n",
      "4  [-1.1292078495025635, -1.1291881799697876, -1....  \n",
      "<class 'pandas.core.frame.DataFrame'>\n",
      "RangeIndex: 157023 entries, 0 to 157022\n",
      "Data columns (total 4 columns):\n",
      " #   Column       Non-Null Count   Dtype \n",
      "---  ------       --------------   ----- \n",
      " 0   userId       157023 non-null  int64 \n",
      " 1   movies_seq   157023 non-null  object\n",
      " 2   ratings_seq  157023 non-null  object\n",
      " 3   ts_seq       157023 non-null  object\n",
      "dtypes: int64(1), object(3)\n",
      "memory usage: 4.8+ MB\n",
      "None\n"
     ]
    }
   ],
   "execution_count": 99
  },
  {
   "metadata": {},
   "cell_type": "markdown",
   "source": "# Zgrupowanie danych po userId i rozdzielenie ocenionych filmów na tylko pozytywne",
   "id": "5256b9e7a12e0108"
  },
  {
   "metadata": {
    "ExecuteTime": {
     "end_time": "2025-07-29T14:37:13.221882Z",
     "start_time": "2025-07-29T14:37:05.995636Z"
    }
   },
   "cell_type": "code",
   "source": [
    "pos_s = (df.loc[df['rating'] >= 4, ['userId', 'movieId']].groupby('userId')['movieId'].agg(list).rename('pos'))\n",
    "seen_s = (df.groupby('userId')['movieId'].agg(lambda x: set(x)).rename('seen'))\n",
    "\n",
    "user_ratings = (seen_s.to_frame().join(pos_s.to_frame()))\n",
    "\n",
    "# user_ratings['pos'] = user_ratings['pos'].apply(\n",
    "#     lambda v: v if isinstance(v, list) else []\n",
    "# )\n",
    "\n",
    "user_ratings = user_ratings.reset_index()\n",
    "user_ratings = user_ratings.rename(columns={'index': 'userId'})\n",
    "\n",
    "assert 'userId' in user_ratings.columns\n",
    "assert user_ratings[['seen', 'pos']].applymap(type).isin({set, list}).all().all()\n",
    "print(user_ratings.dtypes)\n",
    "print(user_ratings.head())\n"
   ],
   "id": "7ce7bd341fe272ad",
   "outputs": [
    {
     "name": "stdout",
     "output_type": "stream",
     "text": [
      "userId     int64\n",
      "seen      object\n",
      "pos       object\n",
      "dtype: object\n",
      "   userId                                               seen  \\\n",
      "0       1  {3078, 527, 2064, 17, 3088, 2067, 1041, 25, 29...   \n",
      "1       2  {520, 783, 276, 153, 282, 539, 31, 34, 551, 55...   \n",
      "2       3  {2, 1031, 1544, 10, 11, 527, 17, 534, 26, 539,...   \n",
      "3       7  {265, 531, 19, 21, 150, 153, 410, 539, 541, 28...   \n",
      "4       8  {6016, 4226, 260, 44555, 55820, 2959, 527, 912...   \n",
      "\n",
      "                                                 pos  \n",
      "0  [17, 2025, 2020, 1968, 1952, 1939, 1885, 1748,...  \n",
      "1  [500, 457, 454, 377, 380, 364, 508, 362, 381, ...  \n",
      "2  [2948, 3034, 3210, 2947, 3247, 3448, 3578, 324...  \n",
      "3  [410, 440, 468, 588, 508, 531, 541, 590, 357, ...  \n",
      "4  [32, 188773, 183837, 79132, 58559, 55820, 4455...  \n"
     ]
    },
    {
     "name": "stderr",
     "output_type": "stream",
     "text": [
      "C:\\Users\\matimathew\\AppData\\Local\\Temp\\ipykernel_8468\\3750739542.py:14: FutureWarning: DataFrame.applymap has been deprecated. Use DataFrame.map instead.\n",
      "  assert user_ratings[['seen', 'pos']].applymap(type).isin({set, list}).all().all()\n"
     ]
    }
   ],
   "execution_count": 100
  },
  {
   "metadata": {
    "ExecuteTime": {
     "end_time": "2025-07-29T14:37:13.287757Z",
     "start_time": "2025-07-29T14:37:13.264084Z"
    }
   },
   "cell_type": "code",
   "source": [
    "user_ratings.info()\n",
    "user_ratings.head(10)"
   ],
   "id": "ed8b34aabb1a0702",
   "outputs": [
    {
     "name": "stdout",
     "output_type": "stream",
     "text": [
      "<class 'pandas.core.frame.DataFrame'>\n",
      "RangeIndex: 157023 entries, 0 to 157022\n",
      "Data columns (total 3 columns):\n",
      " #   Column  Non-Null Count   Dtype \n",
      "---  ------  --------------   ----- \n",
      " 0   userId  157023 non-null  int64 \n",
      " 1   seen    157023 non-null  object\n",
      " 2   pos     157023 non-null  object\n",
      "dtypes: int64(1), object(2)\n",
      "memory usage: 3.6+ MB\n"
     ]
    },
    {
     "data": {
      "text/plain": [
       "   userId                                               seen  \\\n",
       "0       1  {3078, 527, 2064, 17, 3088, 2067, 1041, 25, 29...   \n",
       "1       2  {520, 783, 276, 153, 282, 539, 31, 34, 551, 55...   \n",
       "2       3  {2, 1031, 1544, 10, 11, 527, 17, 534, 26, 539,...   \n",
       "3       7  {265, 531, 19, 21, 150, 153, 410, 539, 541, 28...   \n",
       "4       8  {6016, 4226, 260, 44555, 55820, 2959, 527, 912...   \n",
       "5       9  {3328, 3972, 33672, 1673, 3081, 2700, 5009, 21...   \n",
       "6      10  {169984, 1, 122882, 2, 45062, 122886, 10, 6964...   \n",
       "7      13  {6, 2058, 1674, 2571, 11, 1036, 527, 912, 920,...   \n",
       "8      14  {33410, 5768, 4619, 7437, 4622, 7706, 8734, 23...   \n",
       "9      15  {3079, 1032, 17, 18, 5668, 74789, 39, 56367, 6...   \n",
       "\n",
       "                                                 pos  \n",
       "0  [17, 2025, 2020, 1968, 1952, 1939, 1885, 1748,...  \n",
       "1  [500, 457, 454, 377, 380, 364, 508, 362, 381, ...  \n",
       "2  [2948, 3034, 3210, 2947, 3247, 3448, 3578, 324...  \n",
       "3  [410, 440, 468, 588, 508, 531, 541, 590, 357, ...  \n",
       "4  [32, 188773, 183837, 79132, 58559, 55820, 4455...  \n",
       "5  [32, 47, 50, 1200, 293, 318, 353, 1079, 1089, ...  \n",
       "6  [49396, 51662, 54995, 58559, 54999, 56757, 344...  \n",
       "7  [2268, 1610, 1608, 1721, 1704, 3252, 2762, 285...  \n",
       "8  [437, 1238, 1903, 2246, 2261, 54004, 53189, 26...  \n",
       "9  [7153, 6711, 5989, 5970, 5668, 5013, 4995, 497...  "
      ],
      "text/html": [
       "<div>\n",
       "<style scoped>\n",
       "    .dataframe tbody tr th:only-of-type {\n",
       "        vertical-align: middle;\n",
       "    }\n",
       "\n",
       "    .dataframe tbody tr th {\n",
       "        vertical-align: top;\n",
       "    }\n",
       "\n",
       "    .dataframe thead th {\n",
       "        text-align: right;\n",
       "    }\n",
       "</style>\n",
       "<table border=\"1\" class=\"dataframe\">\n",
       "  <thead>\n",
       "    <tr style=\"text-align: right;\">\n",
       "      <th></th>\n",
       "      <th>userId</th>\n",
       "      <th>seen</th>\n",
       "      <th>pos</th>\n",
       "    </tr>\n",
       "  </thead>\n",
       "  <tbody>\n",
       "    <tr>\n",
       "      <th>0</th>\n",
       "      <td>1</td>\n",
       "      <td>{3078, 527, 2064, 17, 3088, 2067, 1041, 25, 29...</td>\n",
       "      <td>[17, 2025, 2020, 1968, 1952, 1939, 1885, 1748,...</td>\n",
       "    </tr>\n",
       "    <tr>\n",
       "      <th>1</th>\n",
       "      <td>2</td>\n",
       "      <td>{520, 783, 276, 153, 282, 539, 31, 34, 551, 55...</td>\n",
       "      <td>[500, 457, 454, 377, 380, 364, 508, 362, 381, ...</td>\n",
       "    </tr>\n",
       "    <tr>\n",
       "      <th>2</th>\n",
       "      <td>3</td>\n",
       "      <td>{2, 1031, 1544, 10, 11, 527, 17, 534, 26, 539,...</td>\n",
       "      <td>[2948, 3034, 3210, 2947, 3247, 3448, 3578, 324...</td>\n",
       "    </tr>\n",
       "    <tr>\n",
       "      <th>3</th>\n",
       "      <td>7</td>\n",
       "      <td>{265, 531, 19, 21, 150, 153, 410, 539, 541, 28...</td>\n",
       "      <td>[410, 440, 468, 588, 508, 531, 541, 590, 357, ...</td>\n",
       "    </tr>\n",
       "    <tr>\n",
       "      <th>4</th>\n",
       "      <td>8</td>\n",
       "      <td>{6016, 4226, 260, 44555, 55820, 2959, 527, 912...</td>\n",
       "      <td>[32, 188773, 183837, 79132, 58559, 55820, 4455...</td>\n",
       "    </tr>\n",
       "    <tr>\n",
       "      <th>5</th>\n",
       "      <td>9</td>\n",
       "      <td>{3328, 3972, 33672, 1673, 3081, 2700, 5009, 21...</td>\n",
       "      <td>[32, 47, 50, 1200, 293, 318, 353, 1079, 1089, ...</td>\n",
       "    </tr>\n",
       "    <tr>\n",
       "      <th>6</th>\n",
       "      <td>10</td>\n",
       "      <td>{169984, 1, 122882, 2, 45062, 122886, 10, 6964...</td>\n",
       "      <td>[49396, 51662, 54995, 58559, 54999, 56757, 344...</td>\n",
       "    </tr>\n",
       "    <tr>\n",
       "      <th>7</th>\n",
       "      <td>13</td>\n",
       "      <td>{6, 2058, 1674, 2571, 11, 1036, 527, 912, 920,...</td>\n",
       "      <td>[2268, 1610, 1608, 1721, 1704, 3252, 2762, 285...</td>\n",
       "    </tr>\n",
       "    <tr>\n",
       "      <th>8</th>\n",
       "      <td>14</td>\n",
       "      <td>{33410, 5768, 4619, 7437, 4622, 7706, 8734, 23...</td>\n",
       "      <td>[437, 1238, 1903, 2246, 2261, 54004, 53189, 26...</td>\n",
       "    </tr>\n",
       "    <tr>\n",
       "      <th>9</th>\n",
       "      <td>15</td>\n",
       "      <td>{3079, 1032, 17, 18, 5668, 74789, 39, 56367, 6...</td>\n",
       "      <td>[7153, 6711, 5989, 5970, 5668, 5013, 4995, 497...</td>\n",
       "    </tr>\n",
       "  </tbody>\n",
       "</table>\n",
       "</div>"
      ]
     },
     "execution_count": 101,
     "metadata": {},
     "output_type": "execute_result"
    }
   ],
   "execution_count": 101
  },
  {
   "metadata": {},
   "cell_type": "markdown",
   "source": "## Zapis do pliku",
   "id": "bdd025b6d3a12e23"
  },
  {
   "metadata": {
    "ExecuteTime": {
     "end_time": "2025-07-29T14:37:21.383452Z",
     "start_time": "2025-07-29T14:37:13.447312Z"
    }
   },
   "cell_type": "code",
   "source": "user_ratings.to_parquet('../data/ratings_groupped_20pos.parquet', compression='brotli')",
   "id": "8686634d3f2d69eb",
   "outputs": [],
   "execution_count": 102
  },
  {
   "cell_type": "markdown",
   "id": "3b226d4e",
   "metadata": {},
   "source": [
    "# Zgrupowanie danych po userId i rozdzielenie ocenionych filmów na pozytywne i negatywne"
   ]
  },
  {
   "cell_type": "code",
   "id": "3f5f7178",
   "metadata": {
    "ExecuteTime": {
     "end_time": "2025-07-29T14:37:21.469267Z",
     "start_time": "2025-07-29T14:37:21.453302Z"
    }
   },
   "source": [
    "# pos_df = df[df['rating'] >= 4].groupby('userId')['movieId'].apply(list).reset_index(name='pos')\n",
    "# neg_df = df[df['rating'] < 4].groupby('userId')['movieId'].apply(list).reset_index(name='neg')\n",
    "#\n",
    "# print(pos_df.head())\n",
    "#\n",
    "# user_ratings = pd.merge(pos_df, neg_df, on='userId', how='outer')\n",
    "#\n",
    "# print(user_ratings.info())\n",
    "#\n",
    "# user_ratings['pos'] = user_ratings['pos'].apply(lambda x: x if isinstance(x, list) else [])\n",
    "# user_ratings['neg'] = user_ratings['neg'].apply(lambda x: x if isinstance(x, list) else [])\n",
    "#\n",
    "# user_ratings = user_ratings.reset_index(drop=True)\n",
    "#\n",
    "# print(user_ratings.info())\n",
    "# print(user_ratings.head())"
   ],
   "outputs": [],
   "execution_count": 103
  },
  {
   "metadata": {},
   "cell_type": "markdown",
   "source": "## Zapis do pliku",
   "id": "844d78fd1d34368c"
  },
  {
   "metadata": {
    "ExecuteTime": {
     "end_time": "2025-07-29T14:37:21.630594Z",
     "start_time": "2025-07-29T14:37:21.614800Z"
    }
   },
   "cell_type": "code",
   "source": "# user_ratings.to_parquet('../data/ratings_groupped_ids.parquet', compression='brotli')",
   "id": "12f5053d0c9bc1b8",
   "outputs": [],
   "execution_count": 104
  },
  {
   "metadata": {},
   "cell_type": "markdown",
   "source": "# Zgrupowanie danych po userId i rozdzielenie ocenionych filmów na pozytywne i neg (z wagami)",
   "id": "510cee8e34c233a1"
  },
  {
   "metadata": {
    "ExecuteTime": {
     "end_time": "2025-07-29T14:37:21.831670Z",
     "start_time": "2025-07-29T14:37:21.816029Z"
    }
   },
   "cell_type": "code",
   "source": [
    "# def rating_weight(r):\n",
    "#     if r >= 4:\n",
    "#         return 1.0\n",
    "#     elif r >= 3:\n",
    "#         return 0.5\n",
    "#     else:\n",
    "#         return 0.2\n",
    "#\n",
    "# df['weight'] = df['rating'].apply(rating_weight)\n",
    "#\n",
    "# pos_df = df[df['rating'] >= 4].groupby('userId')['movieId'].apply(list).reset_index(name='pos')\n",
    "# neg_df = df[df['rating'] < 4].groupby('userId')['movieId'].apply(list).reset_index(name='neg')\n",
    "#\n",
    "# print(pos_df.head())\n",
    "#\n",
    "# user_ratings = pd.merge(pos_df, neg_df, on='userId', how='outer')\n",
    "#\n",
    "# print(user_ratings.info())\n",
    "#\n",
    "# user_ratings['pos'] = user_ratings['pos'].apply(lambda x: x if isinstance(x, list) else [])\n",
    "# user_ratings['neg'] = user_ratings['neg'].apply(lambda x: x if isinstance(x, list) else [])\n",
    "#\n",
    "# user_ratings = user_ratings.reset_index(drop=True)\n",
    "#\n",
    "# def attach_weights(row):\n",
    "#     uid = row['userId']\n",
    "#     grp = df[df['userId'] == uid]\n",
    "#     pos_w = [(mid, w) for mid, w in zip(\n",
    "#         grp.loc[grp['rating'] >= 4, 'movieId'],\n",
    "#         grp.loc[grp['rating'] >= 4, 'weight']\n",
    "#     )]\n",
    "#     neg_w = [(mid, w) for mid, w in zip(\n",
    "#         grp.loc[grp['rating'] < 4, 'movieId'],\n",
    "#         grp.loc[grp['rating'] < 4, 'weight']\n",
    "#     )]\n",
    "#     return pd.Series({'pos_w': pos_w, 'neg_w': neg_w})\n",
    "#\n",
    "# user_ratings = user_ratings.join(\n",
    "#     user_ratings.apply(attach_weights, axis=1)\n",
    "# )\n",
    "#\n",
    "# print(user_ratings.info())\n",
    "# print(user_ratings.head())"
   ],
   "id": "a674e0ddcb4f1c99",
   "outputs": [],
   "execution_count": 105
  },
  {
   "cell_type": "markdown",
   "id": "47b78966",
   "metadata": {},
   "source": [
    "## Zapis do pliku"
   ]
  },
  {
   "cell_type": "code",
   "id": "e78bd943",
   "metadata": {
    "ExecuteTime": {
     "end_time": "2025-07-29T14:37:22.000592Z",
     "start_time": "2025-07-29T14:37:21.992596Z"
    }
   },
   "source": "# user_ratings.to_parquet('../data/ratings_groupped_ids_weights.parquet', compression='brotli')",
   "outputs": [],
   "execution_count": 106
  }
 ],
 "metadata": {
  "kernelspec": {
   "display_name": "base",
   "language": "python",
   "name": "python3"
  },
  "language_info": {
   "codemirror_mode": {
    "name": "ipython",
    "version": 3
   },
   "file_extension": ".py",
   "mimetype": "text/x-python",
   "name": "python",
   "nbconvert_exporter": "python",
   "pygments_lexer": "ipython3",
   "version": "3.12.2"
  }
 },
 "nbformat": 4,
 "nbformat_minor": 5
}
