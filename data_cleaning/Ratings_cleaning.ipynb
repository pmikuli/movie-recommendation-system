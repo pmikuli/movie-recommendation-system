{
 "cells": [
  {
   "cell_type": "code",
   "execution_count": 52,
   "id": "58870a65",
   "metadata": {},
   "outputs": [],
   "source": [
    "import pandas as pd"
   ]
  },
  {
   "cell_type": "code",
   "execution_count": 53,
   "id": "f3eae10e",
   "metadata": {},
   "outputs": [],
   "source": [
    "df = pd.read_csv('../datasets/ratings_improved.csv')"
   ]
  },
  {
   "cell_type": "code",
   "execution_count": 54,
   "id": "1b2cb2ae",
   "metadata": {},
   "outputs": [
    {
     "name": "stdout",
     "output_type": "stream",
     "text": [
      "<class 'pandas.core.frame.DataFrame'>\n",
      "RangeIndex: 32000204 entries, 0 to 32000203\n",
      "Data columns (total 5 columns):\n",
      " #   Column       Dtype  \n",
      "---  ------       -----  \n",
      " 0   userId       int64  \n",
      " 1   movieId      int64  \n",
      " 2   rating       float64\n",
      " 3   timestamp    object \n",
      " 4   day_of_week  int64  \n",
      "dtypes: float64(1), int64(3), object(1)\n",
      "memory usage: 1.2+ GB\n",
      "None\n",
      "   userId  movieId  rating            timestamp  day_of_week\n",
      "0       1       17     4.0  1999-12-03 19:24:37            4\n",
      "1       1       25     1.0  1999-12-03 19:43:48            4\n",
      "2       1       29     2.0  1999-11-22 00:36:16            0\n",
      "3       1       30     5.0  1999-12-03 19:24:37            4\n",
      "4       1       32     5.0  1999-11-22 00:00:58            0\n"
     ]
    }
   ],
   "source": [
    "print(df.info())\n",
    "print(df.head())"
   ]
  },
  {
   "cell_type": "markdown",
   "id": "2c3cade2",
   "metadata": {},
   "source": [
    "# Sprawdzenie brakujących wartości\n",
    "The dataset doesn't have any rows/columns with missing data."
   ]
  },
  {
   "cell_type": "code",
   "execution_count": 55,
   "id": "1f22bf35",
   "metadata": {},
   "outputs": [
    {
     "data": {
      "text/plain": [
       "userId         0\n",
       "movieId        0\n",
       "rating         0\n",
       "timestamp      0\n",
       "day_of_week    0\n",
       "dtype: int64"
      ]
     },
     "execution_count": 55,
     "metadata": {},
     "output_type": "execute_result"
    }
   ],
   "source": [
    "df.isna().sum()"
   ]
  },
  {
   "cell_type": "markdown",
   "id": "c6f6eb49",
   "metadata": {},
   "source": [
    "# Sprawdzenie duplikatów"
   ]
  },
  {
   "cell_type": "code",
   "execution_count": 56,
   "id": "95249449",
   "metadata": {},
   "outputs": [
    {
     "data": {
      "text/html": [
       "<div>\n",
       "<style scoped>\n",
       "    .dataframe tbody tr th:only-of-type {\n",
       "        vertical-align: middle;\n",
       "    }\n",
       "\n",
       "    .dataframe tbody tr th {\n",
       "        vertical-align: top;\n",
       "    }\n",
       "\n",
       "    .dataframe thead th {\n",
       "        text-align: right;\n",
       "    }\n",
       "</style>\n",
       "<table border=\"1\" class=\"dataframe\">\n",
       "  <thead>\n",
       "    <tr style=\"text-align: right;\">\n",
       "      <th></th>\n",
       "      <th>userId</th>\n",
       "      <th>movieId</th>\n",
       "      <th>rating</th>\n",
       "      <th>timestamp</th>\n",
       "      <th>day_of_week</th>\n",
       "    </tr>\n",
       "  </thead>\n",
       "  <tbody>\n",
       "  </tbody>\n",
       "</table>\n",
       "</div>"
      ],
      "text/plain": [
       "Empty DataFrame\n",
       "Columns: [userId, movieId, rating, timestamp, day_of_week]\n",
       "Index: []"
      ]
     },
     "execution_count": 56,
     "metadata": {},
     "output_type": "execute_result"
    }
   ],
   "source": [
    "df[df.duplicated()]"
   ]
  },
  {
   "cell_type": "markdown",
   "id": "54205e73",
   "metadata": {},
   "source": [
    "# Sprawdzenie czy dane zgadzają się z danymi z pozostałych zbiorów danych"
   ]
  },
  {
   "cell_type": "code",
   "execution_count": 57,
   "id": "9df12bb4",
   "metadata": {},
   "outputs": [
    {
     "name": "stdout",
     "output_type": "stream",
     "text": [
      "Number of users matches with user_features.csv: True\n",
      "Number of movies in ratings: 84432 Number of movies in Movies_final.csv: 86493\n",
      "Number of movies that are in ratings, but are not in Movies_final.csv: 1075\n",
      "Number of ratings to delete: 77897\n",
      "Current length: (32000204, 5)\n",
      "Length after deleting: (31922307, 5)\n",
      "    userId  num_rating  avg_rating  weekend_watcher type_of_viewer  \\\n",
      "9       10         660    2.787121                1       negative   \n",
      "11      12          23    2.891304                1       negative   \n",
      "27      28        2842    3.421886                0        neutral   \n",
      "\n",
      "    genre_Action  genre_Adventure  genre_Animation  genre_Comedy  genre_Crime  \\\n",
      "9       2.820669         2.850622         2.891304      2.577640     2.918803   \n",
      "11      0.750000         1.400000         2.666667      3.277778     3.000000   \n",
      "27      3.224090         3.373148         3.897959      3.290830     3.399390   \n",
      "\n",
      "    ...  genre_History  genre_Horror  genre_Music  genre_Mystery  \\\n",
      "9   ...       2.527778      2.781915     3.111111       2.714286   \n",
      "11  ...            NaN      3.500000          NaN       1.750000   \n",
      "27  ...       3.859848      2.988095     3.450000       3.453659   \n",
      "\n",
      "    genre_Romance  genre_Science Fiction  genre_TV Movie  genre_Thriller  \\\n",
      "9        2.519231               2.785714             NaN        2.779630   \n",
      "11       3.300000               0.666667             NaN        0.750000   \n",
      "27       3.354730               3.352113             4.0        3.289833   \n",
      "\n",
      "    genre_War  genre_Western  \n",
      "9    2.916667       2.500000  \n",
      "11        NaN            NaN  \n",
      "27   3.834746       3.558333  \n",
      "\n",
      "[3 rows x 24 columns]\n",
      "32232 200948\n",
      "Number of users to delete (102, 26)\n",
      "Deleting users that have less than 20 reviews...\n",
      "Written to user_features_2.csv\n"
     ]
    }
   ],
   "source": [
    "def check_with_other_datasets(df):\n",
    "    movies = pd.read_csv('../datasets/Movies_final.csv')\n",
    "    users = pd.read_csv('../datasets/user_features.csv')\n",
    "\n",
    "    print('Number of users matches with user_features.csv:', df['userId'].nunique() == users['userId'].nunique())\n",
    "    print('Number of movies in ratings:', df['movieId'].nunique(), 'Number of movies in Movies_final.csv:', movies['movieId'].nunique())\n",
    "\n",
    "    missing_movie_ids = df[~df['movieId'].isin(movies['movieId'])]\n",
    "    print('Number of movies that are in ratings, but are not in Movies_final.csv:', missing_movie_ids['movieId'].nunique())\n",
    "    \n",
    "    print('Number of ratings to delete:', missing_movie_ids.shape[0])\n",
    "    print('Current length:', df.shape)\n",
    "    df = df[~df['movieId'].isin(missing_movie_ids['movieId'])]\n",
    "    print('Length after deleting:', df.shape)\n",
    "\n",
    "    user_counts = missing_movie_ids['userId'].value_counts().reset_index()\n",
    "    user_counts.columns = ['userId', 'count']\n",
    "\n",
    "    users_with_deleted_ratings = users[users['userId'].isin(missing_movie_ids['userId'])]\n",
    "    print(users_with_deleted_ratings.head(3))\n",
    "    print(len(users_with_deleted_ratings), len(users))\n",
    "    merged = users_with_deleted_ratings.merge(user_counts, on='userId', how='left')\n",
    "    merged['count'] = merged['count'].fillna(0)\n",
    "\n",
    "    merged['remaining_ratings'] = merged['num_rating'] - merged['count']\n",
    "    filtered = merged[merged['remaining_ratings'] < 20]\n",
    "\n",
    "    print('Number of users to delete', filtered.shape)\n",
    "    print('Deleting users that have less than 20 reviews...')\n",
    "    users = users[~users['userId'].isin(filtered['userId'])]\n",
    "\n",
    "    users.to_csv('../datasets/user_features_2.csv')\n",
    "    print('Written to user_features_2.csv')\n",
    "\n",
    "    return df\n",
    "\n",
    "\n",
    "df = check_with_other_datasets(df)"
   ]
  }
 ],
 "metadata": {
  "kernelspec": {
   "display_name": "base",
   "language": "python",
   "name": "python3"
  },
  "language_info": {
   "codemirror_mode": {
    "name": "ipython",
    "version": 3
   },
   "file_extension": ".py",
   "mimetype": "text/x-python",
   "name": "python",
   "nbconvert_exporter": "python",
   "pygments_lexer": "ipython3",
   "version": "3.12.2"
  }
 },
 "nbformat": 4,
 "nbformat_minor": 5
}
