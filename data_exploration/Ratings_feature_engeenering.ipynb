{
 "cells": [
  {
   "cell_type": "code",
   "execution_count": 37,
   "id": "initial_id",
   "metadata": {
    "collapsed": true,
    "ExecuteTime": {
     "end_time": "2025-04-02T19:36:54.769091Z",
     "start_time": "2025-04-02T19:36:54.760480Z"
    }
   },
   "outputs": [],
   "source": [
    "import pandas as pd"
   ]
  },
  {
   "cell_type": "code",
   "outputs": [],
   "source": [
    "df_ratings = pd.read_csv(\"ratings.csv\")"
   ],
   "metadata": {
    "collapsed": false,
    "ExecuteTime": {
     "end_time": "2025-04-02T19:37:06.828545Z",
     "start_time": "2025-04-02T19:36:54.781783Z"
    }
   },
   "id": "d9bc36eda0f0186",
   "execution_count": 38
  },
  {
   "cell_type": "code",
   "outputs": [],
   "source": [
    "df_ratings[\"timestamp\"] = pd.to_datetime(df_ratings[\"timestamp\"], unit=\"s\")\n",
    "\n",
    "df_ratings[\"day_of_week\"] = df_ratings[\"timestamp\"].dt.dayofweek\n",
    "# df_ratings[\"day\"] = df_ratings[\"timestamp\"].dt.day\n",
    "# df_ratings[\"month\"] = df_ratings[\"timestamp\"].dt.month\n",
    "# df_ratings[\"year\"] = df_ratings[\"timestamp\"].dt.year\n",
    "# \n",
    "# df_ratings.drop(columns=[\"timestamp\"], inplace=True)"
   ],
   "metadata": {
    "collapsed": false,
    "ExecuteTime": {
     "end_time": "2025-04-02T19:37:30.077381Z",
     "start_time": "2025-04-02T19:37:06.831482Z"
    }
   },
   "id": "3a488ee99ccbddee",
   "execution_count": 39
  },
  {
   "cell_type": "code",
   "outputs": [
    {
     "name": "stdout",
     "output_type": "stream",
     "text": [
      "<class 'pandas.core.frame.DataFrame'>\n",
      "RangeIndex: 32000204 entries, 0 to 32000203\n",
      "Data columns (total 5 columns):\n",
      " #   Column       Dtype         \n",
      "---  ------       -----         \n",
      " 0   userId       int64         \n",
      " 1   movieId      int64         \n",
      " 2   rating       float64       \n",
      " 3   timestamp    datetime64[ns]\n",
      " 4   day_of_week  int32         \n",
      "dtypes: datetime64[ns](1), float64(1), int32(1), int64(2)\n",
      "memory usage: 1.1 GB\n"
     ]
    }
   ],
   "source": [
    "df_ratings.info()"
   ],
   "metadata": {
    "collapsed": false,
    "ExecuteTime": {
     "end_time": "2025-04-02T19:37:30.094294Z",
     "start_time": "2025-04-02T19:37:30.079354Z"
    }
   },
   "id": "8e5458c5bc66e479",
   "execution_count": 40
  },
  {
   "cell_type": "code",
   "outputs": [],
   "source": [
    "# df_ratings.to_csv(\"ratings_improved.csv\", index=False)"
   ],
   "metadata": {
    "collapsed": false,
    "ExecuteTime": {
     "end_time": "2025-04-02T19:37:30.103576Z",
     "start_time": "2025-04-02T19:37:30.097233Z"
    }
   },
   "id": "d431619b191290f2",
   "execution_count": 41
  },
  {
   "cell_type": "code",
   "outputs": [],
   "source": [
    "df_movies = pd.read_csv(\n",
    "    \"Movies_final.csv\",\n",
    "    usecols=[\"movieId\", \"genres\"]\n",
    ")"
   ],
   "metadata": {
    "collapsed": false,
    "ExecuteTime": {
     "end_time": "2025-04-02T19:37:30.742852Z",
     "start_time": "2025-04-02T19:37:30.106516Z"
    }
   },
   "id": "358e1a49314158b8",
   "execution_count": 42
  },
  {
   "cell_type": "code",
   "outputs": [],
   "source": [
    "df_ratings[\"timestamp\"] = pd.to_datetime(df_ratings[\"timestamp\"], unit=\"s\")\n",
    "\n",
    "df_ratings[\"day_of_week\"] = df_ratings[\"timestamp\"].dt.dayofweek\n",
    "\n",
    "df_ratings[\"is_weekend\"] = df_ratings[\"day_of_week\"].isin([5, 6]).astype(int)"
   ],
   "metadata": {
    "collapsed": false,
    "ExecuteTime": {
     "end_time": "2025-04-02T19:37:50.554559Z",
     "start_time": "2025-04-02T19:37:30.743812Z"
    }
   },
   "id": "8a687df17c626488",
   "execution_count": 43
  },
  {
   "cell_type": "code",
   "outputs": [],
   "source": [
    "df_merged = df_ratings.merge(df_movies, on=\"movieId\", how=\"left\")\n",
    "\n",
    "df_merged[\"genres\"] = df_merged[\"genres\"].fillna(\"\")  # w razie pustych\n",
    "df_merged[\"genres_list\"] = df_merged[\"genres\"].apply(lambda g: g.split(\",\"))\n"
   ],
   "metadata": {
    "collapsed": false,
    "ExecuteTime": {
     "end_time": "2025-04-02T19:39:11.324637Z",
     "start_time": "2025-04-02T19:37:50.556517Z"
    }
   },
   "id": "d4537f6562312102",
   "execution_count": 44
  },
  {
   "cell_type": "code",
   "outputs": [],
   "source": [
    "# Grupujemy po userID\n",
    "df_user_base = df_merged.groupby(\"userId\").agg(\n",
    "    num_rating = (\"rating\", \"count\"),\n",
    "    avg_rating = (\"rating\", \"mean\"),\n",
    "    weekend_count = (\"is_weekend\", \"sum\")  \n",
    ").reset_index()\n",
    "\n",
    "# Weekend_watcher = 1 jeśli > 50% ocen w weekend\n",
    "df_user_base[\"weekend_ratio\"] = df_user_base[\"weekend_count\"] / df_user_base[\"num_rating\"]\n",
    "df_user_base[\"weekend_watcher\"] = (df_user_base[\"weekend_ratio\"] > 0.5).astype(int)\n",
    "\n",
    "df_user_base.drop(columns=[\"weekend_ratio\", \"weekend_count\"], inplace=True)\n"
   ],
   "metadata": {
    "collapsed": false,
    "ExecuteTime": {
     "end_time": "2025-04-02T19:39:12.752925Z",
     "start_time": "2025-04-02T19:39:11.326601Z"
    }
   },
   "id": "a2883a938d05ec8e",
   "execution_count": 45
  },
  {
   "cell_type": "code",
   "outputs": [],
   "source": [
    "bins = [0, 3, 4, 5]\n",
    "labels = [\"negative\", \"neutral\", \"positive\"]\n",
    "df_user_base[\"type_of_viewer\"] = pd.cut(\n",
    "    df_user_base[\"avg_rating\"],\n",
    "    bins=bins,\n",
    "    labels=labels,\n",
    "    include_lowest=True\n",
    ")\n",
    "\n",
    "group_counts = df_user_base[\"type_of_viewer\"].value_counts()"
   ],
   "metadata": {
    "collapsed": false,
    "ExecuteTime": {
     "end_time": "2025-04-02T19:39:12.769517Z",
     "start_time": "2025-04-02T19:39:12.753908Z"
    }
   },
   "id": "1da97baee3a37c1f",
   "execution_count": 46
  },
  {
   "cell_type": "code",
   "outputs": [
    {
     "data": {
      "text/plain": "   userId  genre_ Action  genre_ Adventure  genre_ Animation  genre_ Comedy  \\\n0       1       4.000000              4.00               NaN       3.350000   \n1       2       4.500000              4.00          4.833333       4.428571   \n2       3       3.661765              3.56          4.000000       3.227273   \n3       4       2.625000              4.00               NaN       2.666667   \n4       5       3.500000              3.20          4.000000       3.000000   \n\n   genre_ Crime  genre_ Documentary  genre_ Drama  genre_ Family  \\\n0      5.000000                 NaN      3.846154       2.666667   \n1      3.857143                 NaN      4.533333       4.700000   \n2      3.444444                 NaN      3.903226       3.842105   \n3      2.200000                 NaN      2.250000            NaN   \n4      2.250000                 NaN      3.454545       3.000000   \n\n   genre_ Fantasy  ...  genre_History  genre_Horror  genre_Music  \\\n0             2.2  ...            4.0           NaN          4.0   \n1             3.5  ...            NaN           1.0          NaN   \n2             3.0  ...            NaN           1.5          4.0   \n3             3.0  ...            NaN           2.8          NaN   \n4             2.8  ...            NaN           2.0          NaN   \n\n   genre_Mystery  genre_Romance  genre_Science Fiction  genre_TV Movie  \\\n0            5.0       4.000000                  5.000             NaN   \n1            NaN       5.000000                    NaN             NaN   \n2            NaN       3.285714                  3.375             NaN   \n3            NaN       2.000000                    NaN             NaN   \n4            NaN       3.000000                  3.000             NaN   \n\n   genre_Thriller  genre_War  genre_Western  \n0        2.666667        3.5            3.0  \n1        3.000000        NaN            NaN  \n2        4.000000        NaN            NaN  \n3        1.666667        4.0            NaN  \n4        2.500000        NaN            NaN  \n\n[5 rows x 39 columns]",
      "text/html": "<div>\n<style scoped>\n    .dataframe tbody tr th:only-of-type {\n        vertical-align: middle;\n    }\n\n    .dataframe tbody tr th {\n        vertical-align: top;\n    }\n\n    .dataframe thead th {\n        text-align: right;\n    }\n</style>\n<table border=\"1\" class=\"dataframe\">\n  <thead>\n    <tr style=\"text-align: right;\">\n      <th></th>\n      <th>userId</th>\n      <th>genre_ Action</th>\n      <th>genre_ Adventure</th>\n      <th>genre_ Animation</th>\n      <th>genre_ Comedy</th>\n      <th>genre_ Crime</th>\n      <th>genre_ Documentary</th>\n      <th>genre_ Drama</th>\n      <th>genre_ Family</th>\n      <th>genre_ Fantasy</th>\n      <th>...</th>\n      <th>genre_History</th>\n      <th>genre_Horror</th>\n      <th>genre_Music</th>\n      <th>genre_Mystery</th>\n      <th>genre_Romance</th>\n      <th>genre_Science Fiction</th>\n      <th>genre_TV Movie</th>\n      <th>genre_Thriller</th>\n      <th>genre_War</th>\n      <th>genre_Western</th>\n    </tr>\n  </thead>\n  <tbody>\n    <tr>\n      <th>0</th>\n      <td>1</td>\n      <td>4.000000</td>\n      <td>4.00</td>\n      <td>NaN</td>\n      <td>3.350000</td>\n      <td>5.000000</td>\n      <td>NaN</td>\n      <td>3.846154</td>\n      <td>2.666667</td>\n      <td>2.2</td>\n      <td>...</td>\n      <td>4.0</td>\n      <td>NaN</td>\n      <td>4.0</td>\n      <td>5.0</td>\n      <td>4.000000</td>\n      <td>5.000</td>\n      <td>NaN</td>\n      <td>2.666667</td>\n      <td>3.5</td>\n      <td>3.0</td>\n    </tr>\n    <tr>\n      <th>1</th>\n      <td>2</td>\n      <td>4.500000</td>\n      <td>4.00</td>\n      <td>4.833333</td>\n      <td>4.428571</td>\n      <td>3.857143</td>\n      <td>NaN</td>\n      <td>4.533333</td>\n      <td>4.700000</td>\n      <td>3.5</td>\n      <td>...</td>\n      <td>NaN</td>\n      <td>1.0</td>\n      <td>NaN</td>\n      <td>NaN</td>\n      <td>5.000000</td>\n      <td>NaN</td>\n      <td>NaN</td>\n      <td>3.000000</td>\n      <td>NaN</td>\n      <td>NaN</td>\n    </tr>\n    <tr>\n      <th>2</th>\n      <td>3</td>\n      <td>3.661765</td>\n      <td>3.56</td>\n      <td>4.000000</td>\n      <td>3.227273</td>\n      <td>3.444444</td>\n      <td>NaN</td>\n      <td>3.903226</td>\n      <td>3.842105</td>\n      <td>3.0</td>\n      <td>...</td>\n      <td>NaN</td>\n      <td>1.5</td>\n      <td>4.0</td>\n      <td>NaN</td>\n      <td>3.285714</td>\n      <td>3.375</td>\n      <td>NaN</td>\n      <td>4.000000</td>\n      <td>NaN</td>\n      <td>NaN</td>\n    </tr>\n    <tr>\n      <th>3</th>\n      <td>4</td>\n      <td>2.625000</td>\n      <td>4.00</td>\n      <td>NaN</td>\n      <td>2.666667</td>\n      <td>2.200000</td>\n      <td>NaN</td>\n      <td>2.250000</td>\n      <td>NaN</td>\n      <td>3.0</td>\n      <td>...</td>\n      <td>NaN</td>\n      <td>2.8</td>\n      <td>NaN</td>\n      <td>NaN</td>\n      <td>2.000000</td>\n      <td>NaN</td>\n      <td>NaN</td>\n      <td>1.666667</td>\n      <td>4.0</td>\n      <td>NaN</td>\n    </tr>\n    <tr>\n      <th>4</th>\n      <td>5</td>\n      <td>3.500000</td>\n      <td>3.20</td>\n      <td>4.000000</td>\n      <td>3.000000</td>\n      <td>2.250000</td>\n      <td>NaN</td>\n      <td>3.454545</td>\n      <td>3.000000</td>\n      <td>2.8</td>\n      <td>...</td>\n      <td>NaN</td>\n      <td>2.0</td>\n      <td>NaN</td>\n      <td>NaN</td>\n      <td>3.000000</td>\n      <td>3.000</td>\n      <td>NaN</td>\n      <td>2.500000</td>\n      <td>NaN</td>\n      <td>NaN</td>\n    </tr>\n  </tbody>\n</table>\n<p>5 rows × 39 columns</p>\n</div>"
     },
     "execution_count": 47,
     "metadata": {},
     "output_type": "execute_result"
    }
   ],
   "source": [
    "df_exploded = df_merged.explode(\"genres_list\")\n",
    "\n",
    "df_exploded = df_exploded[df_exploded[\"genres_list\"] != \"\"]\n",
    "\n",
    "df_genre_user = df_exploded.groupby([\"userId\", \"genres_list\"])[\"rating\"].mean().reset_index()\n",
    "df_genre_user.rename(columns={\"genres_list\": \"genre\", \"rating\": \"avg_rating_genre\"}, inplace=True)\n",
    "\n",
    "df_genre_pivot = df_genre_user.pivot(\n",
    "    index=\"userId\",\n",
    "    columns=\"genre\",\n",
    "    values=\"avg_rating_genre\"\n",
    ").reset_index()\n",
    "\n",
    "df_genre_pivot.columns = [\"userId\"] + [\"genre_\" + str(col) for col in df_genre_pivot.columns if col != \"userId\"]\n",
    "df_genre_pivot.head()\n"
   ],
   "metadata": {
    "collapsed": false,
    "ExecuteTime": {
     "end_time": "2025-04-02T19:41:31.057619Z",
     "start_time": "2025-04-02T19:39:12.771486Z"
    }
   },
   "id": "729ab6d4066ee7d1",
   "execution_count": 47
  },
  {
   "cell_type": "code",
   "outputs": [],
   "source": [
    "df_user_features = df_user_base.merge(df_genre_pivot, on=\"userId\", how=\"left\")\n",
    "\n",
    "df_user_features.to_csv(\"user_features.csv\", index=False)\n"
   ],
   "metadata": {
    "collapsed": false,
    "ExecuteTime": {
     "end_time": "2025-04-02T19:41:39.261733Z",
     "start_time": "2025-04-02T19:41:31.069335Z"
    }
   },
   "id": "9f29ac4c1c37e2a2",
   "execution_count": 48
  }
 ],
 "metadata": {
  "kernelspec": {
   "display_name": "Python 3",
   "language": "python",
   "name": "python3"
  },
  "language_info": {
   "codemirror_mode": {
    "name": "ipython",
    "version": 2
   },
   "file_extension": ".py",
   "mimetype": "text/x-python",
   "name": "python",
   "nbconvert_exporter": "python",
   "pygments_lexer": "ipython2",
   "version": "2.7.6"
  }
 },
 "nbformat": 4,
 "nbformat_minor": 5
}
