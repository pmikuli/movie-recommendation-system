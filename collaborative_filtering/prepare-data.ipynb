{
 "cells": [
  {
   "cell_type": "code",
   "execution_count": 1,
   "id": "645d397b",
   "metadata": {},
   "outputs": [],
   "source": [
    "import pandas as pd\n",
    "from scipy.sparse import csr_matrix, save_npz\n",
    "import pickle"
   ]
  },
  {
   "cell_type": "code",
   "execution_count": 2,
   "id": "e1b1cfb8",
   "metadata": {},
   "outputs": [
    {
     "name": "stdout",
     "output_type": "stream",
     "text": [
      "<class 'pandas.core.frame.DataFrame'>\n",
      "Index: 31818979 entries, 0 to 32000203\n",
      "Data columns (total 5 columns):\n",
      " #   Column       Dtype         \n",
      "---  ------       -----         \n",
      " 0   userId       int64         \n",
      " 1   movieId      int64         \n",
      " 2   rating       float64       \n",
      " 3   timestamp    datetime64[ns]\n",
      " 4   day_of_week  int64         \n",
      "dtypes: datetime64[ns](1), float64(1), int64(3)\n",
      "memory usage: 1.4 GB\n",
      "None\n",
      "<class 'pandas.core.frame.DataFrame'>\n",
      "Index: 31818979 entries, 0 to 32000203\n",
      "Data columns (total 3 columns):\n",
      " #   Column   Dtype  \n",
      "---  ------   -----  \n",
      " 0   userId   int64  \n",
      " 1   movieId  int64  \n",
      " 2   rating   float64\n",
      "dtypes: float64(1), int64(2)\n",
      "memory usage: 971.0 MB\n",
      "None\n"
     ]
    }
   ],
   "source": [
    "ratings = pd.read_parquet('../datasets/ratings_clean.parquet')\n",
    "\n",
    "print(ratings.info())\n",
    "ratings = ratings.drop(columns=['timestamp', 'day_of_week'])\n",
    "print(ratings.info())"
   ]
  },
  {
   "cell_type": "code",
   "execution_count": 3,
   "id": "1f9b5272",
   "metadata": {},
   "outputs": [],
   "source": [
    "user_map = {user_id: idx for idx, user_id in enumerate(ratings['userId'].unique())}\n",
    "movie_map = {movie_id: idx for idx, movie_id in enumerate(ratings['movieId'].unique())}\n",
    "\n",
    "reverse_user_map = {v: k for k, v in user_map.items()}\n",
    "reverse_movie_map = {v: k for k, v in movie_map.items()}\n",
    "\n",
    "user_idx = ratings['userId'].map(user_map)\n",
    "movie_idx = ratings['movieId'].map(movie_map)\n",
    "\n",
    "sparse_matrix = csr_matrix((ratings['rating'].values, (movie_idx, user_idx)), shape=(len(movie_map), len(user_map)))"
   ]
  },
  {
   "cell_type": "code",
   "execution_count": null,
   "id": "289ebe20",
   "metadata": {},
   "outputs": [],
   "source": [
    "save_npz('../datasets/ratings_matrix.npz', sparse_matrix)\n",
    "\n",
    "with open('../datasets/user_map.pkl', 'wb') as f:\n",
    "    pickle.dump(user_map, f)\n",
    "\n",
    "with open('../datasets/movie_map.pkl', 'wb') as f:\n",
    "    pickle.dump(movie_map, f)"
   ]
  }
 ],
 "metadata": {
  "kernelspec": {
   "display_name": "base",
   "language": "python",
   "name": "python3"
  },
  "language_info": {
   "codemirror_mode": {
    "name": "ipython",
    "version": 3
   },
   "file_extension": ".py",
   "mimetype": "text/x-python",
   "name": "python",
   "nbconvert_exporter": "python",
   "pygments_lexer": "ipython3",
   "version": "3.12.2"
  }
 },
 "nbformat": 4,
 "nbformat_minor": 5
}
